{
  "nbformat": 4,
  "nbformat_minor": 0,
  "metadata": {
    "colab": {
      "provenance": []
    },
    "kernelspec": {
      "name": "python3",
      "display_name": "Python 3"
    },
    "language_info": {
      "name": "python"
    },
    "accelerator": "GPU",
    "gpuClass": "standard"
  },
  "cells": [
    {
      "cell_type": "markdown",
      "source": [
        "# Some Important Points: 🔋 \n",
        "\n",
        "\n",
        "1.   V(max) = 4.2 volt\n",
        "2.   V(min) = 2.8/2.7 Volt\n",
        "3.   Nominal Charge capacity = 2500 mA/2.5Ah \n",
        "4.   SOC = Normal Capacity at that point/Nominal capacity\n",
        "5.   Nominal Capacity - ammount of charged deliverd by fully charge batter, when it is fresh. OR **we can say Total capacity of battery.**\n",
        "6.   SOH = Maximum of SOC at one cycle.\n",
        "7.   we can find SOH by making set of loops in dataset and then find max(SOC).\n"
      ],
      "metadata": {
        "id": "BZc4Vqg-E71w"
      }
    },
    {
      "cell_type": "code",
      "source": [
        "import numpy as np\n",
        "import pandas as pd \n",
        "import matplotlib.pyplot as plt \n",
        "import seaborn as sns"
      ],
      "metadata": {
        "id": "SMYg_ur2ePk6"
      },
      "execution_count": 5,
      "outputs": []
    },
    {
      "cell_type": "code",
      "source": [
        "#cols = ['Time(s)', 'Potential(V)','Current(A)','Charge(C)','A/Hour']\n",
        "df = pd.read_csv(\"experiment.csv\")\n",
        "df"
      ],
      "metadata": {
        "colab": {
          "base_uri": "https://localhost:8080/",
          "height": 424
        },
        "id": "968meDMQenCO",
        "outputId": "017c7058-450d-482b-fae9-1eaa0ed9d6af"
      },
      "execution_count": 6,
      "outputs": [
        {
          "output_type": "execute_result",
          "data": {
            "text/plain": [
              "        Time/sec  Potential/V  Current/A  Charge/C  Capacity/Ah  \\\n",
              "0            0.4         3.54       1.25      0.00         0.00   \n",
              "1            1.0         3.54       1.25      0.95         0.00   \n",
              "2            2.0         3.54       1.25      2.28         0.00   \n",
              "3            3.0         3.55       1.25      3.46         0.00   \n",
              "4            4.0         3.55       1.25      4.64         0.00   \n",
              "...          ...          ...        ...       ...          ...   \n",
              "242880  249963.2         4.20       0.20   8450.00         2.35   \n",
              "242881  249964.2         4.20       0.20   8450.00         2.35   \n",
              "242882  249965.2         4.20       0.20   8450.00         2.35   \n",
              "242883  249966.2         4.20       0.20   8450.00         2.35   \n",
              "242884  249967.2         4.20       0.20   8450.00         2.35   \n",
              "\n",
              "        Nominal_Capacity/Ah  \n",
              "0                       2.5  \n",
              "1                       2.5  \n",
              "2                       2.5  \n",
              "3                       2.5  \n",
              "4                       2.5  \n",
              "...                     ...  \n",
              "242880                  2.5  \n",
              "242881                  2.5  \n",
              "242882                  2.5  \n",
              "242883                  2.5  \n",
              "242884                  2.5  \n",
              "\n",
              "[242885 rows x 6 columns]"
            ],
            "text/html": [
              "\n",
              "  <div id=\"df-ca99f6d5-ceea-43f0-ba65-669e7ff5cb12\">\n",
              "    <div class=\"colab-df-container\">\n",
              "      <div>\n",
              "<style scoped>\n",
              "    .dataframe tbody tr th:only-of-type {\n",
              "        vertical-align: middle;\n",
              "    }\n",
              "\n",
              "    .dataframe tbody tr th {\n",
              "        vertical-align: top;\n",
              "    }\n",
              "\n",
              "    .dataframe thead th {\n",
              "        text-align: right;\n",
              "    }\n",
              "</style>\n",
              "<table border=\"1\" class=\"dataframe\">\n",
              "  <thead>\n",
              "    <tr style=\"text-align: right;\">\n",
              "      <th></th>\n",
              "      <th>Time/sec</th>\n",
              "      <th>Potential/V</th>\n",
              "      <th>Current/A</th>\n",
              "      <th>Charge/C</th>\n",
              "      <th>Capacity/Ah</th>\n",
              "      <th>Nominal_Capacity/Ah</th>\n",
              "    </tr>\n",
              "  </thead>\n",
              "  <tbody>\n",
              "    <tr>\n",
              "      <th>0</th>\n",
              "      <td>0.4</td>\n",
              "      <td>3.54</td>\n",
              "      <td>1.25</td>\n",
              "      <td>0.00</td>\n",
              "      <td>0.00</td>\n",
              "      <td>2.5</td>\n",
              "    </tr>\n",
              "    <tr>\n",
              "      <th>1</th>\n",
              "      <td>1.0</td>\n",
              "      <td>3.54</td>\n",
              "      <td>1.25</td>\n",
              "      <td>0.95</td>\n",
              "      <td>0.00</td>\n",
              "      <td>2.5</td>\n",
              "    </tr>\n",
              "    <tr>\n",
              "      <th>2</th>\n",
              "      <td>2.0</td>\n",
              "      <td>3.54</td>\n",
              "      <td>1.25</td>\n",
              "      <td>2.28</td>\n",
              "      <td>0.00</td>\n",
              "      <td>2.5</td>\n",
              "    </tr>\n",
              "    <tr>\n",
              "      <th>3</th>\n",
              "      <td>3.0</td>\n",
              "      <td>3.55</td>\n",
              "      <td>1.25</td>\n",
              "      <td>3.46</td>\n",
              "      <td>0.00</td>\n",
              "      <td>2.5</td>\n",
              "    </tr>\n",
              "    <tr>\n",
              "      <th>4</th>\n",
              "      <td>4.0</td>\n",
              "      <td>3.55</td>\n",
              "      <td>1.25</td>\n",
              "      <td>4.64</td>\n",
              "      <td>0.00</td>\n",
              "      <td>2.5</td>\n",
              "    </tr>\n",
              "    <tr>\n",
              "      <th>...</th>\n",
              "      <td>...</td>\n",
              "      <td>...</td>\n",
              "      <td>...</td>\n",
              "      <td>...</td>\n",
              "      <td>...</td>\n",
              "      <td>...</td>\n",
              "    </tr>\n",
              "    <tr>\n",
              "      <th>242880</th>\n",
              "      <td>249963.2</td>\n",
              "      <td>4.20</td>\n",
              "      <td>0.20</td>\n",
              "      <td>8450.00</td>\n",
              "      <td>2.35</td>\n",
              "      <td>2.5</td>\n",
              "    </tr>\n",
              "    <tr>\n",
              "      <th>242881</th>\n",
              "      <td>249964.2</td>\n",
              "      <td>4.20</td>\n",
              "      <td>0.20</td>\n",
              "      <td>8450.00</td>\n",
              "      <td>2.35</td>\n",
              "      <td>2.5</td>\n",
              "    </tr>\n",
              "    <tr>\n",
              "      <th>242882</th>\n",
              "      <td>249965.2</td>\n",
              "      <td>4.20</td>\n",
              "      <td>0.20</td>\n",
              "      <td>8450.00</td>\n",
              "      <td>2.35</td>\n",
              "      <td>2.5</td>\n",
              "    </tr>\n",
              "    <tr>\n",
              "      <th>242883</th>\n",
              "      <td>249966.2</td>\n",
              "      <td>4.20</td>\n",
              "      <td>0.20</td>\n",
              "      <td>8450.00</td>\n",
              "      <td>2.35</td>\n",
              "      <td>2.5</td>\n",
              "    </tr>\n",
              "    <tr>\n",
              "      <th>242884</th>\n",
              "      <td>249967.2</td>\n",
              "      <td>4.20</td>\n",
              "      <td>0.20</td>\n",
              "      <td>8450.00</td>\n",
              "      <td>2.35</td>\n",
              "      <td>2.5</td>\n",
              "    </tr>\n",
              "  </tbody>\n",
              "</table>\n",
              "<p>242885 rows × 6 columns</p>\n",
              "</div>\n",
              "      <button class=\"colab-df-convert\" onclick=\"convertToInteractive('df-ca99f6d5-ceea-43f0-ba65-669e7ff5cb12')\"\n",
              "              title=\"Convert this dataframe to an interactive table.\"\n",
              "              style=\"display:none;\">\n",
              "        \n",
              "  <svg xmlns=\"http://www.w3.org/2000/svg\" height=\"24px\"viewBox=\"0 0 24 24\"\n",
              "       width=\"24px\">\n",
              "    <path d=\"M0 0h24v24H0V0z\" fill=\"none\"/>\n",
              "    <path d=\"M18.56 5.44l.94 2.06.94-2.06 2.06-.94-2.06-.94-.94-2.06-.94 2.06-2.06.94zm-11 1L8.5 8.5l.94-2.06 2.06-.94-2.06-.94L8.5 2.5l-.94 2.06-2.06.94zm10 10l.94 2.06.94-2.06 2.06-.94-2.06-.94-.94-2.06-.94 2.06-2.06.94z\"/><path d=\"M17.41 7.96l-1.37-1.37c-.4-.4-.92-.59-1.43-.59-.52 0-1.04.2-1.43.59L10.3 9.45l-7.72 7.72c-.78.78-.78 2.05 0 2.83L4 21.41c.39.39.9.59 1.41.59.51 0 1.02-.2 1.41-.59l7.78-7.78 2.81-2.81c.8-.78.8-2.07 0-2.86zM5.41 20L4 18.59l7.72-7.72 1.47 1.35L5.41 20z\"/>\n",
              "  </svg>\n",
              "      </button>\n",
              "      \n",
              "  <style>\n",
              "    .colab-df-container {\n",
              "      display:flex;\n",
              "      flex-wrap:wrap;\n",
              "      gap: 12px;\n",
              "    }\n",
              "\n",
              "    .colab-df-convert {\n",
              "      background-color: #E8F0FE;\n",
              "      border: none;\n",
              "      border-radius: 50%;\n",
              "      cursor: pointer;\n",
              "      display: none;\n",
              "      fill: #1967D2;\n",
              "      height: 32px;\n",
              "      padding: 0 0 0 0;\n",
              "      width: 32px;\n",
              "    }\n",
              "\n",
              "    .colab-df-convert:hover {\n",
              "      background-color: #E2EBFA;\n",
              "      box-shadow: 0px 1px 2px rgba(60, 64, 67, 0.3), 0px 1px 3px 1px rgba(60, 64, 67, 0.15);\n",
              "      fill: #174EA6;\n",
              "    }\n",
              "\n",
              "    [theme=dark] .colab-df-convert {\n",
              "      background-color: #3B4455;\n",
              "      fill: #D2E3FC;\n",
              "    }\n",
              "\n",
              "    [theme=dark] .colab-df-convert:hover {\n",
              "      background-color: #434B5C;\n",
              "      box-shadow: 0px 1px 3px 1px rgba(0, 0, 0, 0.15);\n",
              "      filter: drop-shadow(0px 1px 2px rgba(0, 0, 0, 0.3));\n",
              "      fill: #FFFFFF;\n",
              "    }\n",
              "  </style>\n",
              "\n",
              "      <script>\n",
              "        const buttonEl =\n",
              "          document.querySelector('#df-ca99f6d5-ceea-43f0-ba65-669e7ff5cb12 button.colab-df-convert');\n",
              "        buttonEl.style.display =\n",
              "          google.colab.kernel.accessAllowed ? 'block' : 'none';\n",
              "\n",
              "        async function convertToInteractive(key) {\n",
              "          const element = document.querySelector('#df-ca99f6d5-ceea-43f0-ba65-669e7ff5cb12');\n",
              "          const dataTable =\n",
              "            await google.colab.kernel.invokeFunction('convertToInteractive',\n",
              "                                                     [key], {});\n",
              "          if (!dataTable) return;\n",
              "\n",
              "          const docLinkHtml = 'Like what you see? Visit the ' +\n",
              "            '<a target=\"_blank\" href=https://colab.research.google.com/notebooks/data_table.ipynb>data table notebook</a>'\n",
              "            + ' to learn more about interactive tables.';\n",
              "          element.innerHTML = '';\n",
              "          dataTable['output_type'] = 'display_data';\n",
              "          await google.colab.output.renderOutput(dataTable, element);\n",
              "          const docLink = document.createElement('div');\n",
              "          docLink.innerHTML = docLinkHtml;\n",
              "          element.appendChild(docLink);\n",
              "        }\n",
              "      </script>\n",
              "    </div>\n",
              "  </div>\n",
              "  "
            ]
          },
          "metadata": {},
          "execution_count": 6
        }
      ]
    },
    {
      "cell_type": "code",
      "source": [
        "df.shape   # checking the shape of dataset"
      ],
      "metadata": {
        "colab": {
          "base_uri": "https://localhost:8080/"
        },
        "id": "nwyCRAExA-VH",
        "outputId": "72d859c3-0715-4ef0-9f85-4ff801db6dd2"
      },
      "execution_count": 7,
      "outputs": [
        {
          "output_type": "execute_result",
          "data": {
            "text/plain": [
              "(242885, 6)"
            ]
          },
          "metadata": {},
          "execution_count": 7
        }
      ]
    },
    {
      "cell_type": "code",
      "source": [
        "df.info()"
      ],
      "metadata": {
        "colab": {
          "base_uri": "https://localhost:8080/"
        },
        "id": "iSSmTNm2Azyh",
        "outputId": "d32edb90-4162-4864-9aef-f1c65fa82a07"
      },
      "execution_count": 8,
      "outputs": [
        {
          "output_type": "stream",
          "name": "stdout",
          "text": [
            "<class 'pandas.core.frame.DataFrame'>\n",
            "RangeIndex: 242885 entries, 0 to 242884\n",
            "Data columns (total 6 columns):\n",
            " #   Column               Non-Null Count   Dtype  \n",
            "---  ------               --------------   -----  \n",
            " 0   Time/sec             242885 non-null  float64\n",
            " 1   Potential/V          242885 non-null  float64\n",
            " 2   Current/A            242885 non-null  float64\n",
            " 3   Charge/C             242885 non-null  float64\n",
            " 4   Capacity/Ah          242885 non-null  float64\n",
            " 5   Nominal_Capacity/Ah  242885 non-null  float64\n",
            "dtypes: float64(6)\n",
            "memory usage: 11.1 MB\n"
          ]
        }
      ]
    },
    {
      "cell_type": "code",
      "source": [
        "df.isnull().count()"
      ],
      "metadata": {
        "colab": {
          "base_uri": "https://localhost:8080/"
        },
        "id": "_p_17GPJA5jp",
        "outputId": "0c0d0e6d-0c19-4a61-cc45-d59cfa600d8b"
      },
      "execution_count": 9,
      "outputs": [
        {
          "output_type": "execute_result",
          "data": {
            "text/plain": [
              "Time/sec               242885\n",
              "Potential/V            242885\n",
              "Current/A              242885\n",
              "Charge/C               242885\n",
              "Capacity/Ah            242885\n",
              "Nominal_Capacity/Ah    242885\n",
              "dtype: int64"
            ]
          },
          "metadata": {},
          "execution_count": 9
        }
      ]
    },
    {
      "cell_type": "markdown",
      "source": [
        "# Insertion of Columns"
      ],
      "metadata": {
        "id": "uqyvsZ3Bh3lM"
      }
    },
    {
      "cell_type": "code",
      "source": [
        "display(df.iloc[1])"
      ],
      "metadata": {
        "colab": {
          "base_uri": "https://localhost:8080/",
          "height": 144
        },
        "id": "18wCqyMsiqZT",
        "outputId": "34f3e23e-ec41-4478-8c79-70d84d7a0ef3"
      },
      "execution_count": 10,
      "outputs": [
        {
          "output_type": "display_data",
          "data": {
            "text/plain": [
              "Time/sec               1.00\n",
              "Potential/V            3.54\n",
              "Current/A              1.25\n",
              "Charge/C               0.95\n",
              "Capacity/Ah            0.00\n",
              "Nominal_Capacity/Ah    2.50\n",
              "Name: 1, dtype: float64"
            ]
          },
          "metadata": {}
        }
      ]
    },
    {
      "cell_type": "code",
      "source": [
        "df.insert(loc = 6,column ='Energy',value=df['Capacity/Ah']*df[\"Potential/V\"])"
      ],
      "metadata": {
        "id": "ILAnUhwrdzJz"
      },
      "execution_count": 11,
      "outputs": []
    },
    {
      "cell_type": "code",
      "source": [
        "df.insert(loc = 7,column ='Power',value=df['Current/A']*df[\"Potential/V\"])"
      ],
      "metadata": {
        "id": "adgX92SFexur"
      },
      "execution_count": 12,
      "outputs": []
    },
    {
      "cell_type": "code",
      "source": [
        "df.insert(loc = 8,column ='SOC',value=df['Capacity/Ah']/df['Nominal_Capacity/Ah'])"
      ],
      "metadata": {
        "id": "frtAlTDoi9Fe"
      },
      "execution_count": 13,
      "outputs": []
    },
    {
      "cell_type": "code",
      "source": [
        "df.insert(loc = 9,column ='SOC(%)',value=df['SOC'] * 100)"
      ],
      "metadata": {
        "id": "2_gq2kC6mL0x"
      },
      "execution_count": 14,
      "outputs": []
    },
    {
      "cell_type": "code",
      "source": [
        "df.head()"
      ],
      "metadata": {
        "colab": {
          "base_uri": "https://localhost:8080/",
          "height": 206
        },
        "id": "dyQksptbkkjp",
        "outputId": "49102ee8-d5ca-4fcc-ba23-581a46c8f008"
      },
      "execution_count": 15,
      "outputs": [
        {
          "output_type": "execute_result",
          "data": {
            "text/plain": [
              "   Time/sec  Potential/V  Current/A  Charge/C  Capacity/Ah  \\\n",
              "0       0.4         3.54       1.25      0.00          0.0   \n",
              "1       1.0         3.54       1.25      0.95          0.0   \n",
              "2       2.0         3.54       1.25      2.28          0.0   \n",
              "3       3.0         3.55       1.25      3.46          0.0   \n",
              "4       4.0         3.55       1.25      4.64          0.0   \n",
              "\n",
              "   Nominal_Capacity/Ah  Energy   Power  SOC  SOC(%)  \n",
              "0                  2.5     0.0  4.4250  0.0     0.0  \n",
              "1                  2.5     0.0  4.4250  0.0     0.0  \n",
              "2                  2.5     0.0  4.4250  0.0     0.0  \n",
              "3                  2.5     0.0  4.4375  0.0     0.0  \n",
              "4                  2.5     0.0  4.4375  0.0     0.0  "
            ],
            "text/html": [
              "\n",
              "  <div id=\"df-e61263d9-ffcf-4877-81a1-d55a33c74cb1\">\n",
              "    <div class=\"colab-df-container\">\n",
              "      <div>\n",
              "<style scoped>\n",
              "    .dataframe tbody tr th:only-of-type {\n",
              "        vertical-align: middle;\n",
              "    }\n",
              "\n",
              "    .dataframe tbody tr th {\n",
              "        vertical-align: top;\n",
              "    }\n",
              "\n",
              "    .dataframe thead th {\n",
              "        text-align: right;\n",
              "    }\n",
              "</style>\n",
              "<table border=\"1\" class=\"dataframe\">\n",
              "  <thead>\n",
              "    <tr style=\"text-align: right;\">\n",
              "      <th></th>\n",
              "      <th>Time/sec</th>\n",
              "      <th>Potential/V</th>\n",
              "      <th>Current/A</th>\n",
              "      <th>Charge/C</th>\n",
              "      <th>Capacity/Ah</th>\n",
              "      <th>Nominal_Capacity/Ah</th>\n",
              "      <th>Energy</th>\n",
              "      <th>Power</th>\n",
              "      <th>SOC</th>\n",
              "      <th>SOC(%)</th>\n",
              "    </tr>\n",
              "  </thead>\n",
              "  <tbody>\n",
              "    <tr>\n",
              "      <th>0</th>\n",
              "      <td>0.4</td>\n",
              "      <td>3.54</td>\n",
              "      <td>1.25</td>\n",
              "      <td>0.00</td>\n",
              "      <td>0.0</td>\n",
              "      <td>2.5</td>\n",
              "      <td>0.0</td>\n",
              "      <td>4.4250</td>\n",
              "      <td>0.0</td>\n",
              "      <td>0.0</td>\n",
              "    </tr>\n",
              "    <tr>\n",
              "      <th>1</th>\n",
              "      <td>1.0</td>\n",
              "      <td>3.54</td>\n",
              "      <td>1.25</td>\n",
              "      <td>0.95</td>\n",
              "      <td>0.0</td>\n",
              "      <td>2.5</td>\n",
              "      <td>0.0</td>\n",
              "      <td>4.4250</td>\n",
              "      <td>0.0</td>\n",
              "      <td>0.0</td>\n",
              "    </tr>\n",
              "    <tr>\n",
              "      <th>2</th>\n",
              "      <td>2.0</td>\n",
              "      <td>3.54</td>\n",
              "      <td>1.25</td>\n",
              "      <td>2.28</td>\n",
              "      <td>0.0</td>\n",
              "      <td>2.5</td>\n",
              "      <td>0.0</td>\n",
              "      <td>4.4250</td>\n",
              "      <td>0.0</td>\n",
              "      <td>0.0</td>\n",
              "    </tr>\n",
              "    <tr>\n",
              "      <th>3</th>\n",
              "      <td>3.0</td>\n",
              "      <td>3.55</td>\n",
              "      <td>1.25</td>\n",
              "      <td>3.46</td>\n",
              "      <td>0.0</td>\n",
              "      <td>2.5</td>\n",
              "      <td>0.0</td>\n",
              "      <td>4.4375</td>\n",
              "      <td>0.0</td>\n",
              "      <td>0.0</td>\n",
              "    </tr>\n",
              "    <tr>\n",
              "      <th>4</th>\n",
              "      <td>4.0</td>\n",
              "      <td>3.55</td>\n",
              "      <td>1.25</td>\n",
              "      <td>4.64</td>\n",
              "      <td>0.0</td>\n",
              "      <td>2.5</td>\n",
              "      <td>0.0</td>\n",
              "      <td>4.4375</td>\n",
              "      <td>0.0</td>\n",
              "      <td>0.0</td>\n",
              "    </tr>\n",
              "  </tbody>\n",
              "</table>\n",
              "</div>\n",
              "      <button class=\"colab-df-convert\" onclick=\"convertToInteractive('df-e61263d9-ffcf-4877-81a1-d55a33c74cb1')\"\n",
              "              title=\"Convert this dataframe to an interactive table.\"\n",
              "              style=\"display:none;\">\n",
              "        \n",
              "  <svg xmlns=\"http://www.w3.org/2000/svg\" height=\"24px\"viewBox=\"0 0 24 24\"\n",
              "       width=\"24px\">\n",
              "    <path d=\"M0 0h24v24H0V0z\" fill=\"none\"/>\n",
              "    <path d=\"M18.56 5.44l.94 2.06.94-2.06 2.06-.94-2.06-.94-.94-2.06-.94 2.06-2.06.94zm-11 1L8.5 8.5l.94-2.06 2.06-.94-2.06-.94L8.5 2.5l-.94 2.06-2.06.94zm10 10l.94 2.06.94-2.06 2.06-.94-2.06-.94-.94-2.06-.94 2.06-2.06.94z\"/><path d=\"M17.41 7.96l-1.37-1.37c-.4-.4-.92-.59-1.43-.59-.52 0-1.04.2-1.43.59L10.3 9.45l-7.72 7.72c-.78.78-.78 2.05 0 2.83L4 21.41c.39.39.9.59 1.41.59.51 0 1.02-.2 1.41-.59l7.78-7.78 2.81-2.81c.8-.78.8-2.07 0-2.86zM5.41 20L4 18.59l7.72-7.72 1.47 1.35L5.41 20z\"/>\n",
              "  </svg>\n",
              "      </button>\n",
              "      \n",
              "  <style>\n",
              "    .colab-df-container {\n",
              "      display:flex;\n",
              "      flex-wrap:wrap;\n",
              "      gap: 12px;\n",
              "    }\n",
              "\n",
              "    .colab-df-convert {\n",
              "      background-color: #E8F0FE;\n",
              "      border: none;\n",
              "      border-radius: 50%;\n",
              "      cursor: pointer;\n",
              "      display: none;\n",
              "      fill: #1967D2;\n",
              "      height: 32px;\n",
              "      padding: 0 0 0 0;\n",
              "      width: 32px;\n",
              "    }\n",
              "\n",
              "    .colab-df-convert:hover {\n",
              "      background-color: #E2EBFA;\n",
              "      box-shadow: 0px 1px 2px rgba(60, 64, 67, 0.3), 0px 1px 3px 1px rgba(60, 64, 67, 0.15);\n",
              "      fill: #174EA6;\n",
              "    }\n",
              "\n",
              "    [theme=dark] .colab-df-convert {\n",
              "      background-color: #3B4455;\n",
              "      fill: #D2E3FC;\n",
              "    }\n",
              "\n",
              "    [theme=dark] .colab-df-convert:hover {\n",
              "      background-color: #434B5C;\n",
              "      box-shadow: 0px 1px 3px 1px rgba(0, 0, 0, 0.15);\n",
              "      filter: drop-shadow(0px 1px 2px rgba(0, 0, 0, 0.3));\n",
              "      fill: #FFFFFF;\n",
              "    }\n",
              "  </style>\n",
              "\n",
              "      <script>\n",
              "        const buttonEl =\n",
              "          document.querySelector('#df-e61263d9-ffcf-4877-81a1-d55a33c74cb1 button.colab-df-convert');\n",
              "        buttonEl.style.display =\n",
              "          google.colab.kernel.accessAllowed ? 'block' : 'none';\n",
              "\n",
              "        async function convertToInteractive(key) {\n",
              "          const element = document.querySelector('#df-e61263d9-ffcf-4877-81a1-d55a33c74cb1');\n",
              "          const dataTable =\n",
              "            await google.colab.kernel.invokeFunction('convertToInteractive',\n",
              "                                                     [key], {});\n",
              "          if (!dataTable) return;\n",
              "\n",
              "          const docLinkHtml = 'Like what you see? Visit the ' +\n",
              "            '<a target=\"_blank\" href=https://colab.research.google.com/notebooks/data_table.ipynb>data table notebook</a>'\n",
              "            + ' to learn more about interactive tables.';\n",
              "          element.innerHTML = '';\n",
              "          dataTable['output_type'] = 'display_data';\n",
              "          await google.colab.output.renderOutput(dataTable, element);\n",
              "          const docLink = document.createElement('div');\n",
              "          docLink.innerHTML = docLinkHtml;\n",
              "          element.appendChild(docLink);\n",
              "        }\n",
              "      </script>\n",
              "    </div>\n",
              "  </div>\n",
              "  "
            ]
          },
          "metadata": {},
          "execution_count": 15
        }
      ]
    },
    {
      "cell_type": "code",
      "source": [
        "df.describe()"
      ],
      "metadata": {
        "colab": {
          "base_uri": "https://localhost:8080/",
          "height": 300
        },
        "id": "adssTv1dPwns",
        "outputId": "aab56567-edbb-462d-f03a-073d180b7b22"
      },
      "execution_count": 16,
      "outputs": [
        {
          "output_type": "execute_result",
          "data": {
            "text/plain": [
              "            Time/sec    Potential/V      Current/A       Charge/C  \\\n",
              "count  242885.000000  242885.000000  242885.000000  242885.000000   \n",
              "mean   124950.840426       3.839404       0.034547    5083.012369   \n",
              "std     72231.050997       0.385144       1.234725    3185.178306   \n",
              "min         0.400000       2.750000      -2.500000       0.000000   \n",
              "25%     62490.800000       3.440000       0.000000    1920.000000   \n",
              "50%    124983.000000       3.940000       0.080000    5790.000000   \n",
              "75%    187475.100000       4.200000       1.250000    8280.000000   \n",
              "max    249967.200000       4.200000       1.260000    8680.000000   \n",
              "\n",
              "         Capacity/Ah  Nominal_Capacity/Ah         Energy          Power  \\\n",
              "count  242885.000000             242885.0  242885.000000  242885.000000   \n",
              "mean        1.412284                  2.5       5.702908       0.394564   \n",
              "std         0.884470                  0.0       3.763641       4.354979   \n",
              "min         0.000000                  2.5       0.000000      -9.650000   \n",
              "25%         0.530000                  2.5       1.895000       0.000000   \n",
              "50%         1.610000                  2.5       6.181200       0.336000   \n",
              "75%         2.300000                  2.5       9.660000       4.662500   \n",
              "max         2.410000                  2.5      10.122000       5.292000   \n",
              "\n",
              "                 SOC         SOC(%)  \n",
              "count  242885.000000  242885.000000  \n",
              "mean        0.564913      56.491349  \n",
              "std         0.353788      35.378782  \n",
              "min         0.000000       0.000000  \n",
              "25%         0.212000      21.200000  \n",
              "50%         0.644000      64.400000  \n",
              "75%         0.920000      92.000000  \n",
              "max         0.964000      96.400000  "
            ],
            "text/html": [
              "\n",
              "  <div id=\"df-047c28bc-e9dd-4958-984b-b134acc56ac1\">\n",
              "    <div class=\"colab-df-container\">\n",
              "      <div>\n",
              "<style scoped>\n",
              "    .dataframe tbody tr th:only-of-type {\n",
              "        vertical-align: middle;\n",
              "    }\n",
              "\n",
              "    .dataframe tbody tr th {\n",
              "        vertical-align: top;\n",
              "    }\n",
              "\n",
              "    .dataframe thead th {\n",
              "        text-align: right;\n",
              "    }\n",
              "</style>\n",
              "<table border=\"1\" class=\"dataframe\">\n",
              "  <thead>\n",
              "    <tr style=\"text-align: right;\">\n",
              "      <th></th>\n",
              "      <th>Time/sec</th>\n",
              "      <th>Potential/V</th>\n",
              "      <th>Current/A</th>\n",
              "      <th>Charge/C</th>\n",
              "      <th>Capacity/Ah</th>\n",
              "      <th>Nominal_Capacity/Ah</th>\n",
              "      <th>Energy</th>\n",
              "      <th>Power</th>\n",
              "      <th>SOC</th>\n",
              "      <th>SOC(%)</th>\n",
              "    </tr>\n",
              "  </thead>\n",
              "  <tbody>\n",
              "    <tr>\n",
              "      <th>count</th>\n",
              "      <td>242885.000000</td>\n",
              "      <td>242885.000000</td>\n",
              "      <td>242885.000000</td>\n",
              "      <td>242885.000000</td>\n",
              "      <td>242885.000000</td>\n",
              "      <td>242885.0</td>\n",
              "      <td>242885.000000</td>\n",
              "      <td>242885.000000</td>\n",
              "      <td>242885.000000</td>\n",
              "      <td>242885.000000</td>\n",
              "    </tr>\n",
              "    <tr>\n",
              "      <th>mean</th>\n",
              "      <td>124950.840426</td>\n",
              "      <td>3.839404</td>\n",
              "      <td>0.034547</td>\n",
              "      <td>5083.012369</td>\n",
              "      <td>1.412284</td>\n",
              "      <td>2.5</td>\n",
              "      <td>5.702908</td>\n",
              "      <td>0.394564</td>\n",
              "      <td>0.564913</td>\n",
              "      <td>56.491349</td>\n",
              "    </tr>\n",
              "    <tr>\n",
              "      <th>std</th>\n",
              "      <td>72231.050997</td>\n",
              "      <td>0.385144</td>\n",
              "      <td>1.234725</td>\n",
              "      <td>3185.178306</td>\n",
              "      <td>0.884470</td>\n",
              "      <td>0.0</td>\n",
              "      <td>3.763641</td>\n",
              "      <td>4.354979</td>\n",
              "      <td>0.353788</td>\n",
              "      <td>35.378782</td>\n",
              "    </tr>\n",
              "    <tr>\n",
              "      <th>min</th>\n",
              "      <td>0.400000</td>\n",
              "      <td>2.750000</td>\n",
              "      <td>-2.500000</td>\n",
              "      <td>0.000000</td>\n",
              "      <td>0.000000</td>\n",
              "      <td>2.5</td>\n",
              "      <td>0.000000</td>\n",
              "      <td>-9.650000</td>\n",
              "      <td>0.000000</td>\n",
              "      <td>0.000000</td>\n",
              "    </tr>\n",
              "    <tr>\n",
              "      <th>25%</th>\n",
              "      <td>62490.800000</td>\n",
              "      <td>3.440000</td>\n",
              "      <td>0.000000</td>\n",
              "      <td>1920.000000</td>\n",
              "      <td>0.530000</td>\n",
              "      <td>2.5</td>\n",
              "      <td>1.895000</td>\n",
              "      <td>0.000000</td>\n",
              "      <td>0.212000</td>\n",
              "      <td>21.200000</td>\n",
              "    </tr>\n",
              "    <tr>\n",
              "      <th>50%</th>\n",
              "      <td>124983.000000</td>\n",
              "      <td>3.940000</td>\n",
              "      <td>0.080000</td>\n",
              "      <td>5790.000000</td>\n",
              "      <td>1.610000</td>\n",
              "      <td>2.5</td>\n",
              "      <td>6.181200</td>\n",
              "      <td>0.336000</td>\n",
              "      <td>0.644000</td>\n",
              "      <td>64.400000</td>\n",
              "    </tr>\n",
              "    <tr>\n",
              "      <th>75%</th>\n",
              "      <td>187475.100000</td>\n",
              "      <td>4.200000</td>\n",
              "      <td>1.250000</td>\n",
              "      <td>8280.000000</td>\n",
              "      <td>2.300000</td>\n",
              "      <td>2.5</td>\n",
              "      <td>9.660000</td>\n",
              "      <td>4.662500</td>\n",
              "      <td>0.920000</td>\n",
              "      <td>92.000000</td>\n",
              "    </tr>\n",
              "    <tr>\n",
              "      <th>max</th>\n",
              "      <td>249967.200000</td>\n",
              "      <td>4.200000</td>\n",
              "      <td>1.260000</td>\n",
              "      <td>8680.000000</td>\n",
              "      <td>2.410000</td>\n",
              "      <td>2.5</td>\n",
              "      <td>10.122000</td>\n",
              "      <td>5.292000</td>\n",
              "      <td>0.964000</td>\n",
              "      <td>96.400000</td>\n",
              "    </tr>\n",
              "  </tbody>\n",
              "</table>\n",
              "</div>\n",
              "      <button class=\"colab-df-convert\" onclick=\"convertToInteractive('df-047c28bc-e9dd-4958-984b-b134acc56ac1')\"\n",
              "              title=\"Convert this dataframe to an interactive table.\"\n",
              "              style=\"display:none;\">\n",
              "        \n",
              "  <svg xmlns=\"http://www.w3.org/2000/svg\" height=\"24px\"viewBox=\"0 0 24 24\"\n",
              "       width=\"24px\">\n",
              "    <path d=\"M0 0h24v24H0V0z\" fill=\"none\"/>\n",
              "    <path d=\"M18.56 5.44l.94 2.06.94-2.06 2.06-.94-2.06-.94-.94-2.06-.94 2.06-2.06.94zm-11 1L8.5 8.5l.94-2.06 2.06-.94-2.06-.94L8.5 2.5l-.94 2.06-2.06.94zm10 10l.94 2.06.94-2.06 2.06-.94-2.06-.94-.94-2.06-.94 2.06-2.06.94z\"/><path d=\"M17.41 7.96l-1.37-1.37c-.4-.4-.92-.59-1.43-.59-.52 0-1.04.2-1.43.59L10.3 9.45l-7.72 7.72c-.78.78-.78 2.05 0 2.83L4 21.41c.39.39.9.59 1.41.59.51 0 1.02-.2 1.41-.59l7.78-7.78 2.81-2.81c.8-.78.8-2.07 0-2.86zM5.41 20L4 18.59l7.72-7.72 1.47 1.35L5.41 20z\"/>\n",
              "  </svg>\n",
              "      </button>\n",
              "      \n",
              "  <style>\n",
              "    .colab-df-container {\n",
              "      display:flex;\n",
              "      flex-wrap:wrap;\n",
              "      gap: 12px;\n",
              "    }\n",
              "\n",
              "    .colab-df-convert {\n",
              "      background-color: #E8F0FE;\n",
              "      border: none;\n",
              "      border-radius: 50%;\n",
              "      cursor: pointer;\n",
              "      display: none;\n",
              "      fill: #1967D2;\n",
              "      height: 32px;\n",
              "      padding: 0 0 0 0;\n",
              "      width: 32px;\n",
              "    }\n",
              "\n",
              "    .colab-df-convert:hover {\n",
              "      background-color: #E2EBFA;\n",
              "      box-shadow: 0px 1px 2px rgba(60, 64, 67, 0.3), 0px 1px 3px 1px rgba(60, 64, 67, 0.15);\n",
              "      fill: #174EA6;\n",
              "    }\n",
              "\n",
              "    [theme=dark] .colab-df-convert {\n",
              "      background-color: #3B4455;\n",
              "      fill: #D2E3FC;\n",
              "    }\n",
              "\n",
              "    [theme=dark] .colab-df-convert:hover {\n",
              "      background-color: #434B5C;\n",
              "      box-shadow: 0px 1px 3px 1px rgba(0, 0, 0, 0.15);\n",
              "      filter: drop-shadow(0px 1px 2px rgba(0, 0, 0, 0.3));\n",
              "      fill: #FFFFFF;\n",
              "    }\n",
              "  </style>\n",
              "\n",
              "      <script>\n",
              "        const buttonEl =\n",
              "          document.querySelector('#df-047c28bc-e9dd-4958-984b-b134acc56ac1 button.colab-df-convert');\n",
              "        buttonEl.style.display =\n",
              "          google.colab.kernel.accessAllowed ? 'block' : 'none';\n",
              "\n",
              "        async function convertToInteractive(key) {\n",
              "          const element = document.querySelector('#df-047c28bc-e9dd-4958-984b-b134acc56ac1');\n",
              "          const dataTable =\n",
              "            await google.colab.kernel.invokeFunction('convertToInteractive',\n",
              "                                                     [key], {});\n",
              "          if (!dataTable) return;\n",
              "\n",
              "          const docLinkHtml = 'Like what you see? Visit the ' +\n",
              "            '<a target=\"_blank\" href=https://colab.research.google.com/notebooks/data_table.ipynb>data table notebook</a>'\n",
              "            + ' to learn more about interactive tables.';\n",
              "          element.innerHTML = '';\n",
              "          dataTable['output_type'] = 'display_data';\n",
              "          await google.colab.output.renderOutput(dataTable, element);\n",
              "          const docLink = document.createElement('div');\n",
              "          docLink.innerHTML = docLinkHtml;\n",
              "          element.appendChild(docLink);\n",
              "        }\n",
              "      </script>\n",
              "    </div>\n",
              "  </div>\n",
              "  "
            ]
          },
          "metadata": {},
          "execution_count": 16
        }
      ]
    },
    {
      "cell_type": "code",
      "source": [
        "print(f\"The SOC of battery is {df.iloc[4444][9]}% \\nFor the values of: \\n{df.iloc[4444]}\")"
      ],
      "metadata": {
        "colab": {
          "base_uri": "https://localhost:8080/"
        },
        "id": "FpKGddI4Dg6o",
        "outputId": "9c4299d5-4fa2-40d2-a374-df984777957a"
      },
      "execution_count": 17,
      "outputs": [
        {
          "output_type": "stream",
          "name": "stdout",
          "text": [
            "The SOC of battery is 61.6% \n",
            "For the values of: \n",
            "Time/sec               4444.0000\n",
            "Potential/V               4.0700\n",
            "Current/A                 1.2500\n",
            "Charge/C               5560.0000\n",
            "Capacity/Ah               1.5400\n",
            "Nominal_Capacity/Ah       2.5000\n",
            "Energy                    6.2678\n",
            "Power                     5.0875\n",
            "SOC                       0.6160\n",
            "SOC(%)                   61.6000\n",
            "Name: 4444, dtype: float64\n"
          ]
        }
      ]
    },
    {
      "cell_type": "markdown",
      "source": [
        "# Function for getting the SOC(state of Charge) %"
      ],
      "metadata": {
        "id": "Xz2WxkxVKvhJ"
      }
    },
    {
      "cell_type": "code",
      "source": [
        "def show_soc(row, soc_column):\n",
        "  print(f\"The SOC of battery is {df.iloc[row][soc_column]}% \\nFor the values of: \\n{df.iloc[row]}\")"
      ],
      "metadata": {
        "id": "VDiAcnFVH9FQ"
      },
      "execution_count": 18,
      "outputs": []
    },
    {
      "cell_type": "code",
      "source": [
        "show_soc(5675,9)"
      ],
      "metadata": {
        "colab": {
          "base_uri": "https://localhost:8080/"
        },
        "id": "agtsLHNLKn6h",
        "outputId": "34fc3595-5c18-4d99-cf81-3f0b980c3d9e"
      },
      "execution_count": 19,
      "outputs": [
        {
          "output_type": "stream",
          "name": "stdout",
          "text": [
            "The SOC of battery is 78.0% \n",
            "For the values of: \n",
            "Time/sec               5675.000\n",
            "Potential/V               4.200\n",
            "Current/A                 0.930\n",
            "Charge/C               7030.000\n",
            "Capacity/Ah               1.950\n",
            "Nominal_Capacity/Ah       2.500\n",
            "Energy                    8.190\n",
            "Power                     3.906\n",
            "SOC                       0.780\n",
            "SOC(%)                   78.000\n",
            "Name: 5675, dtype: float64\n"
          ]
        }
      ]
    },
    {
      "cell_type": "code",
      "source": [
        "show_soc(7898,9)"
      ],
      "metadata": {
        "colab": {
          "base_uri": "https://localhost:8080/"
        },
        "id": "2UYl9-RDKqxJ",
        "outputId": "d8d61026-cbe3-4283-b6ad-3fb03fb87536"
      },
      "execution_count": 20,
      "outputs": [
        {
          "output_type": "stream",
          "name": "stdout",
          "text": [
            "The SOC of battery is 89.60000000000001% \n",
            "For the values of: \n",
            "Time/sec               7898.000\n",
            "Potential/V               4.200\n",
            "Current/A                 0.200\n",
            "Charge/C               8050.000\n",
            "Capacity/Ah               2.240\n",
            "Nominal_Capacity/Ah       2.500\n",
            "Energy                    9.408\n",
            "Power                     0.840\n",
            "SOC                       0.896\n",
            "SOC(%)                   89.600\n",
            "Name: 7898, dtype: float64\n"
          ]
        }
      ]
    },
    {
      "cell_type": "code",
      "source": [
        "# SOC plot\n",
        "plt.plot(df[\"SOC\"], linestyle='solid')\n",
        "plt.xlabel('Time')\n",
        "plt.ylabel(\"SOC\")"
      ],
      "metadata": {
        "colab": {
          "base_uri": "https://localhost:8080/",
          "height": 299
        },
        "id": "seK7ipzDQurz",
        "outputId": "94b99e09-ff3b-491f-a019-b6c6a8bb9d38"
      },
      "execution_count": 21,
      "outputs": [
        {
          "output_type": "execute_result",
          "data": {
            "text/plain": [
              "Text(0, 0.5, 'SOC')"
            ]
          },
          "metadata": {},
          "execution_count": 21
        },
        {
          "output_type": "display_data",
          "data": {
            "text/plain": [
              "<Figure size 432x288 with 1 Axes>"
            ],
            "image/png": "[encoded data removed]"
          },
          "metadata": {
            "needs_background": "light"
          }
        }
      ]
    },
    {
      "cell_type": "code",
      "source": [
        "#sns.lineplot(x=\"Capacity/Ah\", y=\"Potential/V\",\n",
        "             hue=\"Charge/C\",\n",
        "             data=df)"
      ],
      "metadata": {
        "colab": {
          "base_uri": "https://localhost:8080/",
          "height": 297
        },
        "id": "bqMwzzGBLegx",
        "outputId": "61380835-63e0-425e-dda5-4826d23fe08e"
      },
      "execution_count": 22,
      "outputs": [
        {
          "output_type": "execute_result",
          "data": {
            "text/plain": [
              "<matplotlib.axes._subplots.AxesSubplot at 0x7f3559fc3a90>"
            ]
          },
          "metadata": {},
          "execution_count": 22
        },
        {
          "output_type": "display_data",
          "data": {
            "text/plain": [
              "<Figure size 432x288 with 1 Axes>"
            ],
            "image/png": "[encoded data removed]"
          },
          "metadata": {
            "needs_background": "light"
          }
        }
      ]
    },
    {
      "cell_type": "code",
      "source": [
        "# SOC plot\n",
        "#sns.lineplot(x=\"Power\", y=\"Potential/V\",\n",
        "             hue=\"Charge/C\",\n",
        "             data=df)"
      ],
      "metadata": {
        "colab": {
          "base_uri": "https://localhost:8080/",
          "height": 297
        },
        "id": "vb7VgwY-fIeo",
        "outputId": "3166fda4-4ea0-4af6-e1d5-7d6afe71528e"
      },
      "execution_count": 23,
      "outputs": [
        {
          "output_type": "execute_result",
          "data": {
            "text/plain": [
              "<matplotlib.axes._subplots.AxesSubplot at 0x7f35570af400>"
            ]
          },
          "metadata": {},
          "execution_count": 23
        },
        {
          "output_type": "display_data",
          "data": {
            "text/plain": [
              "<Figure size 432x288 with 1 Axes>"
            ],
            "image/png": "[encoded data removed]"
          },
          "metadata": {
            "needs_background": "light"
          }
        }
      ]
    },
    {
      "cell_type": "code",
      "source": [
        "plt.plot(df[\"Power\"],df['Potential/V'], linestyle='solid')"
      ],
      "metadata": {
        "colab": {
          "base_uri": "https://localhost:8080/",
          "height": 283
        },
        "id": "pyHHlV9eiDxy",
        "outputId": "5968efc7-f2b5-4760-cc24-c1e525ff949f"
      },
      "execution_count": 24,
      "outputs": [
        {
          "output_type": "execute_result",
          "data": {
            "text/plain": [
              "[<matplotlib.lines.Line2D at 0x7f35547cb070>]"
            ]
          },
          "metadata": {},
          "execution_count": 24
        },
        {
          "output_type": "display_data",
          "data": {
            "text/plain": [
              "<Figure size 432x288 with 1 Axes>"
            ],
            "image/png": "[encoded data removed]"
          },
          "metadata": {
            "needs_background": "light"
          }
        }
      ]
    },
    {
      "cell_type": "code",
      "source": [
        "plt.plot(df[\"Power\"],df['SOC'], linestyle='solid')"
      ],
      "metadata": {
        "colab": {
          "base_uri": "https://localhost:8080/",
          "height": 285
        },
        "id": "XGuXMLGBlQNP",
        "outputId": "05718922-f1d9-43fc-f42e-576201bdf60c"
      },
      "execution_count": 25,
      "outputs": [
        {
          "output_type": "execute_result",
          "data": {
            "text/plain": [
              "[<matplotlib.lines.Line2D at 0x7f355494ab80>]"
            ]
          },
          "metadata": {},
          "execution_count": 25
        },
        {
          "output_type": "display_data",
          "data": {
            "text/plain": [
              "<Figure size 432x288 with 1 Axes>"
            ],
            "image/png": "[encoded data removed]"
          },
          "metadata": {
            "needs_background": "light"
          }
        }
      ]
    },
    {
      "cell_type": "code",
      "source": [
        "plt.plot(df['Power'],linestyle=\"solid\")"
      ],
      "metadata": {
        "colab": {
          "base_uri": "https://localhost:8080/",
          "height": 287
        },
        "id": "x-eUBuvJjVNx",
        "outputId": "98aed3e8-3011-483b-a52a-6213ce0d3546"
      },
      "execution_count": 26,
      "outputs": [
        {
          "output_type": "execute_result",
          "data": {
            "text/plain": [
              "[<matplotlib.lines.Line2D at 0x7f3554712a90>]"
            ]
          },
          "metadata": {},
          "execution_count": 26
        },
        {
          "output_type": "display_data",
          "data": {
            "text/plain": [
              "<Figure size 432x288 with 1 Axes>"
            ],
            "image/png": "[encoded data removed]"
          },
          "metadata": {
            "needs_background": "light"
          }
        }
      ]
    },
    {
      "cell_type": "code",
      "source": [
        "plt.plot(df['Energy'],linestyle=\"solid\")"
      ],
      "metadata": {
        "colab": {
          "base_uri": "https://localhost:8080/",
          "height": 283
        },
        "id": "RElsKcx4j1yr",
        "outputId": "5f39b839-ffb9-4c9b-ffaa-2e1b4a32a5a5"
      },
      "execution_count": 27,
      "outputs": [
        {
          "output_type": "execute_result",
          "data": {
            "text/plain": [
              "[<matplotlib.lines.Line2D at 0x7f3554909bb0>]"
            ]
          },
          "metadata": {},
          "execution_count": 27
        },
        {
          "output_type": "display_data",
          "data": {
            "text/plain": [
              "<Figure size 432x288 with 1 Axes>"
            ],
            "image/png": "[encoded data removed]"
          },
          "metadata": {
            "needs_background": "light"
          }
        }
      ]
    },
    {
      "cell_type": "markdown",
      "source": [
        "# Finding SOH"
      ],
      "metadata": {
        "id": "nehQFNN29V4I"
      }
    },
    {
      "cell_type": "markdown",
      "source": [
        "## Waste start🗑"
      ],
      "metadata": {
        "id": "Slv3PsT_PZ69"
      }
    },
    {
      "cell_type": "code",
      "source": [
        "df.info()"
      ],
      "metadata": {
        "colab": {
          "base_uri": "https://localhost:8080/"
        },
        "id": "MfcFq1xTj8rI",
        "outputId": "e6d8ff4d-9960-4ce3-da0a-3f6a0d8c25df"
      },
      "execution_count": 28,
      "outputs": [
        {
          "output_type": "stream",
          "name": "stdout",
          "text": [
            "<class 'pandas.core.frame.DataFrame'>\n",
            "RangeIndex: 242885 entries, 0 to 242884\n",
            "Data columns (total 10 columns):\n",
            " #   Column               Non-Null Count   Dtype  \n",
            "---  ------               --------------   -----  \n",
            " 0   Time/sec             242885 non-null  float64\n",
            " 1   Potential/V          242885 non-null  float64\n",
            " 2   Current/A            242885 non-null  float64\n",
            " 3   Charge/C             242885 non-null  float64\n",
            " 4   Capacity/Ah          242885 non-null  float64\n",
            " 5   Nominal_Capacity/Ah  242885 non-null  float64\n",
            " 6   Energy               242885 non-null  float64\n",
            " 7   Power                242885 non-null  float64\n",
            " 8   SOC                  242885 non-null  float64\n",
            " 9   SOC(%)               242885 non-null  float64\n",
            "dtypes: float64(10)\n",
            "memory usage: 18.5 MB\n"
          ]
        }
      ]
    },
    {
      "cell_type": "code",
      "source": [
        "df[\"SOC\"].max()"
      ],
      "metadata": {
        "colab": {
          "base_uri": "https://localhost:8080/"
        },
        "id": "wAMhi6f34XVs",
        "outputId": "ac317c78-cd60-445e-c76d-fad40c8a1766"
      },
      "execution_count": 35,
      "outputs": [
        {
          "output_type": "execute_result",
          "data": {
            "text/plain": [
              "0.9640000000000001"
            ]
          },
          "metadata": {},
          "execution_count": 35
        }
      ]
    },
    {
      "cell_type": "code",
      "source": [
        "trial = df.sort_values(by=['SOC'], ascending=False)"
      ],
      "metadata": {
        "id": "Ar-OBO5u5vhR"
      },
      "execution_count": 38,
      "outputs": []
    },
    {
      "cell_type": "code",
      "source": [
        "trial.describe()"
      ],
      "metadata": {
        "colab": {
          "base_uri": "https://localhost:8080/",
          "height": 300
        },
        "id": "hhBw_BXP-EQV",
        "outputId": "b9216058-bbc5-4042-ef62-e69b729f0a90"
      },
      "execution_count": 45,
      "outputs": [
        {
          "output_type": "execute_result",
          "data": {
            "text/plain": [
              "            Time/sec    Potential/V      Current/A       Charge/C  \\\n",
              "count  242885.000000  242885.000000  242885.000000  242885.000000   \n",
              "mean   124950.840426       3.839404       0.034547    5083.012369   \n",
              "std     72231.050997       0.385144       1.234725    3185.178306   \n",
              "min         0.400000       2.750000      -2.500000       0.000000   \n",
              "25%     62490.800000       3.440000       0.000000    1920.000000   \n",
              "50%    124983.000000       3.940000       0.080000    5790.000000   \n",
              "75%    187475.100000       4.200000       1.250000    8280.000000   \n",
              "max    249967.200000       4.200000       1.260000    8680.000000   \n",
              "\n",
              "         Capacity/Ah  Nominal_Capacity/Ah         Energy          Power  \\\n",
              "count  242885.000000             242885.0  242885.000000  242885.000000   \n",
              "mean        1.412284                  2.5       5.702908       0.394564   \n",
              "std         0.884470                  0.0       3.763641       4.354979   \n",
              "min         0.000000                  2.5       0.000000      -9.650000   \n",
              "25%         0.530000                  2.5       1.895000       0.000000   \n",
              "50%         1.610000                  2.5       6.181200       0.336000   \n",
              "75%         2.300000                  2.5       9.660000       4.662500   \n",
              "max         2.410000                  2.5      10.122000       5.292000   \n",
              "\n",
              "                 SOC         SOC(%)  \n",
              "count  242885.000000  242885.000000  \n",
              "mean        0.564913      56.491349  \n",
              "std         0.353788      35.378782  \n",
              "min         0.000000       0.000000  \n",
              "25%         0.212000      21.200000  \n",
              "50%         0.644000      64.400000  \n",
              "75%         0.920000      92.000000  \n",
              "max         0.964000      96.400000  "
            ],
            "text/html": [
              "\n",
              "  <div id=\"df-847e25f4-d507-4d0b-877b-f52f0bc622a4\">\n",
              "    <div class=\"colab-df-container\">\n",
              "      <div>\n",
              "<style scoped>\n",
              "    .dataframe tbody tr th:only-of-type {\n",
              "        vertical-align: middle;\n",
              "    }\n",
              "\n",
              "    .dataframe tbody tr th {\n",
              "        vertical-align: top;\n",
              "    }\n",
              "\n",
              "    .dataframe thead th {\n",
              "        text-align: right;\n",
              "    }\n",
              "</style>\n",
              "<table border=\"1\" class=\"dataframe\">\n",
              "  <thead>\n",
              "    <tr style=\"text-align: right;\">\n",
              "      <th></th>\n",
              "      <th>Time/sec</th>\n",
              "      <th>Potential/V</th>\n",
              "      <th>Current/A</th>\n",
              "      <th>Charge/C</th>\n",
              "      <th>Capacity/Ah</th>\n",
              "      <th>Nominal_Capacity/Ah</th>\n",
              "      <th>Energy</th>\n",
              "      <th>Power</th>\n",
              "      <th>SOC</th>\n",
              "      <th>SOC(%)</th>\n",
              "    </tr>\n",
              "  </thead>\n",
              "  <tbody>\n",
              "    <tr>\n",
              "      <th>count</th>\n",
              "      <td>242885.000000</td>\n",
              "      <td>242885.000000</td>\n",
              "      <td>242885.000000</td>\n",
              "      <td>242885.000000</td>\n",
              "      <td>242885.000000</td>\n",
              "      <td>242885.0</td>\n",
              "      <td>242885.000000</td>\n",
              "      <td>242885.000000</td>\n",
              "      <td>242885.000000</td>\n",
              "      <td>242885.000000</td>\n",
              "    </tr>\n",
              "    <tr>\n",
              "      <th>mean</th>\n",
              "      <td>124950.840426</td>\n",
              "      <td>3.839404</td>\n",
              "      <td>0.034547</td>\n",
              "      <td>5083.012369</td>\n",
              "      <td>1.412284</td>\n",
              "      <td>2.5</td>\n",
              "      <td>5.702908</td>\n",
              "      <td>0.394564</td>\n",
              "      <td>0.564913</td>\n",
              "      <td>56.491349</td>\n",
              "    </tr>\n",
              "    <tr>\n",
              "      <th>std</th>\n",
              "      <td>72231.050997</td>\n",
              "      <td>0.385144</td>\n",
              "      <td>1.234725</td>\n",
              "      <td>3185.178306</td>\n",
              "      <td>0.884470</td>\n",
              "      <td>0.0</td>\n",
              "      <td>3.763641</td>\n",
              "      <td>4.354979</td>\n",
              "      <td>0.353788</td>\n",
              "      <td>35.378782</td>\n",
              "    </tr>\n",
              "    <tr>\n",
              "      <th>min</th>\n",
              "      <td>0.400000</td>\n",
              "      <td>2.750000</td>\n",
              "      <td>-2.500000</td>\n",
              "      <td>0.000000</td>\n",
              "      <td>0.000000</td>\n",
              "      <td>2.5</td>\n",
              "      <td>0.000000</td>\n",
              "      <td>-9.650000</td>\n",
              "      <td>0.000000</td>\n",
              "      <td>0.000000</td>\n",
              "    </tr>\n",
              "    <tr>\n",
              "      <th>25%</th>\n",
              "      <td>62490.800000</td>\n",
              "      <td>3.440000</td>\n",
              "      <td>0.000000</td>\n",
              "      <td>1920.000000</td>\n",
              "      <td>0.530000</td>\n",
              "      <td>2.5</td>\n",
              "      <td>1.895000</td>\n",
              "      <td>0.000000</td>\n",
              "      <td>0.212000</td>\n",
              "      <td>21.200000</td>\n",
              "    </tr>\n",
              "    <tr>\n",
              "      <th>50%</th>\n",
              "      <td>124983.000000</td>\n",
              "      <td>3.940000</td>\n",
              "      <td>0.080000</td>\n",
              "      <td>5790.000000</td>\n",
              "      <td>1.610000</td>\n",
              "      <td>2.5</td>\n",
              "      <td>6.181200</td>\n",
              "      <td>0.336000</td>\n",
              "      <td>0.644000</td>\n",
              "      <td>64.400000</td>\n",
              "    </tr>\n",
              "    <tr>\n",
              "      <th>75%</th>\n",
              "      <td>187475.100000</td>\n",
              "      <td>4.200000</td>\n",
              "      <td>1.250000</td>\n",
              "      <td>8280.000000</td>\n",
              "      <td>2.300000</td>\n",
              "      <td>2.5</td>\n",
              "      <td>9.660000</td>\n",
              "      <td>4.662500</td>\n",
              "      <td>0.920000</td>\n",
              "      <td>92.000000</td>\n",
              "    </tr>\n",
              "    <tr>\n",
              "      <th>max</th>\n",
              "      <td>249967.200000</td>\n",
              "      <td>4.200000</td>\n",
              "      <td>1.260000</td>\n",
              "      <td>8680.000000</td>\n",
              "      <td>2.410000</td>\n",
              "      <td>2.5</td>\n",
              "      <td>10.122000</td>\n",
              "      <td>5.292000</td>\n",
              "      <td>0.964000</td>\n",
              "      <td>96.400000</td>\n",
              "    </tr>\n",
              "  </tbody>\n",
              "</table>\n",
              "</div>\n",
              "      <button class=\"colab-df-convert\" onclick=\"convertToInteractive('df-847e25f4-d507-4d0b-877b-f52f0bc622a4')\"\n",
              "              title=\"Convert this dataframe to an interactive table.\"\n",
              "              style=\"display:none;\">\n",
              "        \n",
              "  <svg xmlns=\"http://www.w3.org/2000/svg\" height=\"24px\"viewBox=\"0 0 24 24\"\n",
              "       width=\"24px\">\n",
              "    <path d=\"M0 0h24v24H0V0z\" fill=\"none\"/>\n",
              "    <path d=\"M18.56 5.44l.94 2.06.94-2.06 2.06-.94-2.06-.94-.94-2.06-.94 2.06-2.06.94zm-11 1L8.5 8.5l.94-2.06 2.06-.94-2.06-.94L8.5 2.5l-.94 2.06-2.06.94zm10 10l.94 2.06.94-2.06 2.06-.94-2.06-.94-.94-2.06-.94 2.06-2.06.94z\"/><path d=\"M17.41 7.96l-1.37-1.37c-.4-.4-.92-.59-1.43-.59-.52 0-1.04.2-1.43.59L10.3 9.45l-7.72 7.72c-.78.78-.78 2.05 0 2.83L4 21.41c.39.39.9.59 1.41.59.51 0 1.02-.2 1.41-.59l7.78-7.78 2.81-2.81c.8-.78.8-2.07 0-2.86zM5.41 20L4 18.59l7.72-7.72 1.47 1.35L5.41 20z\"/>\n",
              "  </svg>\n",
              "      </button>\n",
              "      \n",
              "  <style>\n",
              "    .colab-df-container {\n",
              "      display:flex;\n",
              "      flex-wrap:wrap;\n",
              "      gap: 12px;\n",
              "    }\n",
              "\n",
              "    .colab-df-convert {\n",
              "      background-color: #E8F0FE;\n",
              "      border: none;\n",
              "      border-radius: 50%;\n",
              "      cursor: pointer;\n",
              "      display: none;\n",
              "      fill: #1967D2;\n",
              "      height: 32px;\n",
              "      padding: 0 0 0 0;\n",
              "      width: 32px;\n",
              "    }\n",
              "\n",
              "    .colab-df-convert:hover {\n",
              "      background-color: #E2EBFA;\n",
              "      box-shadow: 0px 1px 2px rgba(60, 64, 67, 0.3), 0px 1px 3px 1px rgba(60, 64, 67, 0.15);\n",
              "      fill: #174EA6;\n",
              "    }\n",
              "\n",
              "    [theme=dark] .colab-df-convert {\n",
              "      background-color: #3B4455;\n",
              "      fill: #D2E3FC;\n",
              "    }\n",
              "\n",
              "    [theme=dark] .colab-df-convert:hover {\n",
              "      background-color: #434B5C;\n",
              "      box-shadow: 0px 1px 3px 1px rgba(0, 0, 0, 0.15);\n",
              "      filter: drop-shadow(0px 1px 2px rgba(0, 0, 0, 0.3));\n",
              "      fill: #FFFFFF;\n",
              "    }\n",
              "  </style>\n",
              "\n",
              "      <script>\n",
              "        const buttonEl =\n",
              "          document.querySelector('#df-847e25f4-d507-4d0b-877b-f52f0bc622a4 button.colab-df-convert');\n",
              "        buttonEl.style.display =\n",
              "          google.colab.kernel.accessAllowed ? 'block' : 'none';\n",
              "\n",
              "        async function convertToInteractive(key) {\n",
              "          const element = document.querySelector('#df-847e25f4-d507-4d0b-877b-f52f0bc622a4');\n",
              "          const dataTable =\n",
              "            await google.colab.kernel.invokeFunction('convertToInteractive',\n",
              "                                                     [key], {});\n",
              "          if (!dataTable) return;\n",
              "\n",
              "          const docLinkHtml = 'Like what you see? Visit the ' +\n",
              "            '<a target=\"_blank\" href=https://colab.research.google.com/notebooks/data_table.ipynb>data table notebook</a>'\n",
              "            + ' to learn more about interactive tables.';\n",
              "          element.innerHTML = '';\n",
              "          dataTable['output_type'] = 'display_data';\n",
              "          await google.colab.output.renderOutput(dataTable, element);\n",
              "          const docLink = document.createElement('div');\n",
              "          docLink.innerHTML = docLinkHtml;\n",
              "          element.appendChild(docLink);\n",
              "        }\n",
              "      </script>\n",
              "    </div>\n",
              "  </div>\n",
              "  "
            ]
          },
          "metadata": {},
          "execution_count": 45
        }
      ]
    },
    {
      "cell_type": "code",
      "source": [
        "# SOC plot\n",
        "plt.plot(trial[\"SOC\"], linestyle='solid')\n",
        "plt.xlabel('Time')\n",
        "plt.ylabel(\"SOC\")"
      ],
      "metadata": {
        "colab": {
          "base_uri": "https://localhost:8080/",
          "height": 299
        },
        "id": "g5CVYj3B75dS",
        "outputId": "a3c66c3e-3f10-4de4-f67a-d3bf7bb25260"
      },
      "execution_count": 39,
      "outputs": [
        {
          "output_type": "execute_result",
          "data": {
            "text/plain": [
              "Text(0, 0.5, 'SOC')"
            ]
          },
          "metadata": {},
          "execution_count": 39
        },
        {
          "output_type": "display_data",
          "data": {
            "text/plain": [
              "<Figure size 432x288 with 1 Axes>"
            ],
            "image/png": "[encoded data removed]"
          },
          "metadata": {
            "needs_background": "light"
          }
        }
      ]
    },
    {
      "cell_type": "code",
      "source": [
        "trial.head(100)"
      ],
      "metadata": {
        "colab": {
          "base_uri": "https://localhost:8080/",
          "height": 424
        },
        "id": "PAd2DslU8G7K",
        "outputId": "f05d5c98-0e6c-4e7b-828e-4431bd4cf315"
      },
      "execution_count": 42,
      "outputs": [
        {
          "output_type": "execute_result",
          "data": {
            "text/plain": [
              "        Time/sec  Potential/V  Current/A  Charge/C  Capacity/Ah  \\\n",
              "226041  232534.7         4.19        0.0    8680.0         2.41   \n",
              "226706  233199.7         4.19        0.0    8680.0         2.41   \n",
              "226704  233197.7         4.19        0.0    8680.0         2.41   \n",
              "226703  233196.7         4.19        0.0    8680.0         2.41   \n",
              "226702  233195.7         4.19        0.0    8680.0         2.41   \n",
              "...          ...          ...        ...       ...          ...   \n",
              "226669  233162.7         4.19        0.0    8680.0         2.41   \n",
              "226668  233161.7         4.19        0.0    8680.0         2.41   \n",
              "226667  233160.7         4.19        0.0    8680.0         2.41   \n",
              "226666  233159.7         4.19        0.0    8680.0         2.41   \n",
              "226665  233158.7         4.19        0.0    8680.0         2.41   \n",
              "\n",
              "        Nominal_Capacity/Ah   Energy  Power    SOC  SOC(%)  \n",
              "226041                  2.5  10.0979    0.0  0.964    96.4  \n",
              "226706                  2.5  10.0979    0.0  0.964    96.4  \n",
              "226704                  2.5  10.0979    0.0  0.964    96.4  \n",
              "226703                  2.5  10.0979    0.0  0.964    96.4  \n",
              "226702                  2.5  10.0979    0.0  0.964    96.4  \n",
              "...                     ...      ...    ...    ...     ...  \n",
              "226669                  2.5  10.0979    0.0  0.964    96.4  \n",
              "226668                  2.5  10.0979    0.0  0.964    96.4  \n",
              "226667                  2.5  10.0979    0.0  0.964    96.4  \n",
              "226666                  2.5  10.0979    0.0  0.964    96.4  \n",
              "226665                  2.5  10.0979    0.0  0.964    96.4  \n",
              "\n",
              "[100 rows x 10 columns]"
            ],
            "text/html": [
              "\n",
              "  <div id=\"df-13e404d5-09a5-4e15-92aa-de3e0a718023\">\n",
              "    <div class=\"colab-df-container\">\n",
              "      <div>\n",
              "<style scoped>\n",
              "    .dataframe tbody tr th:only-of-type {\n",
              "        vertical-align: middle;\n",
              "    }\n",
              "\n",
              "    .dataframe tbody tr th {\n",
              "        vertical-align: top;\n",
              "    }\n",
              "\n",
              "    .dataframe thead th {\n",
              "        text-align: right;\n",
              "    }\n",
              "</style>\n",
              "<table border=\"1\" class=\"dataframe\">\n",
              "  <thead>\n",
              "    <tr style=\"text-align: right;\">\n",
              "      <th></th>\n",
              "      <th>Time/sec</th>\n",
              "      <th>Potential/V</th>\n",
              "      <th>Current/A</th>\n",
              "      <th>Charge/C</th>\n",
              "      <th>Capacity/Ah</th>\n",
              "      <th>Nominal_Capacity/Ah</th>\n",
              "      <th>Energy</th>\n",
              "      <th>Power</th>\n",
              "      <th>SOC</th>\n",
              "      <th>SOC(%)</th>\n",
              "    </tr>\n",
              "  </thead>\n",
              "  <tbody>\n",
              "    <tr>\n",
              "      <th>226041</th>\n",
              "      <td>232534.7</td>\n",
              "      <td>4.19</td>\n",
              "      <td>0.0</td>\n",
              "      <td>8680.0</td>\n",
              "      <td>2.41</td>\n",
              "      <td>2.5</td>\n",
              "      <td>10.0979</td>\n",
              "      <td>0.0</td>\n",
              "      <td>0.964</td>\n",
              "      <td>96.4</td>\n",
              "    </tr>\n",
              "    <tr>\n",
              "      <th>226706</th>\n",
              "      <td>233199.7</td>\n",
              "      <td>4.19</td>\n",
              "      <td>0.0</td>\n",
              "      <td>8680.0</td>\n",
              "      <td>2.41</td>\n",
              "      <td>2.5</td>\n",
              "      <td>10.0979</td>\n",
              "      <td>0.0</td>\n",
              "      <td>0.964</td>\n",
              "      <td>96.4</td>\n",
              "    </tr>\n",
              "    <tr>\n",
              "      <th>226704</th>\n",
              "      <td>233197.7</td>\n",
              "      <td>4.19</td>\n",
              "      <td>0.0</td>\n",
              "      <td>8680.0</td>\n",
              "      <td>2.41</td>\n",
              "      <td>2.5</td>\n",
              "      <td>10.0979</td>\n",
              "      <td>0.0</td>\n",
              "      <td>0.964</td>\n",
              "      <td>96.4</td>\n",
              "    </tr>\n",
              "    <tr>\n",
              "      <th>226703</th>\n",
              "      <td>233196.7</td>\n",
              "      <td>4.19</td>\n",
              "      <td>0.0</td>\n",
              "      <td>8680.0</td>\n",
              "      <td>2.41</td>\n",
              "      <td>2.5</td>\n",
              "      <td>10.0979</td>\n",
              "      <td>0.0</td>\n",
              "      <td>0.964</td>\n",
              "      <td>96.4</td>\n",
              "    </tr>\n",
              "    <tr>\n",
              "      <th>226702</th>\n",
              "      <td>233195.7</td>\n",
              "      <td>4.19</td>\n",
              "      <td>0.0</td>\n",
              "      <td>8680.0</td>\n",
              "      <td>2.41</td>\n",
              "      <td>2.5</td>\n",
              "      <td>10.0979</td>\n",
              "      <td>0.0</td>\n",
              "      <td>0.964</td>\n",
              "      <td>96.4</td>\n",
              "    </tr>\n",
              "    <tr>\n",
              "      <th>...</th>\n",
              "      <td>...</td>\n",
              "      <td>...</td>\n",
              "      <td>...</td>\n",
              "      <td>...</td>\n",
              "      <td>...</td>\n",
              "      <td>...</td>\n",
              "      <td>...</td>\n",
              "      <td>...</td>\n",
              "      <td>...</td>\n",
              "      <td>...</td>\n",
              "    </tr>\n",
              "    <tr>\n",
              "      <th>226669</th>\n",
              "      <td>233162.7</td>\n",
              "      <td>4.19</td>\n",
              "      <td>0.0</td>\n",
              "      <td>8680.0</td>\n",
              "      <td>2.41</td>\n",
              "      <td>2.5</td>\n",
              "      <td>10.0979</td>\n",
              "      <td>0.0</td>\n",
              "      <td>0.964</td>\n",
              "      <td>96.4</td>\n",
              "    </tr>\n",
              "    <tr>\n",
              "      <th>226668</th>\n",
              "      <td>233161.7</td>\n",
              "      <td>4.19</td>\n",
              "      <td>0.0</td>\n",
              "      <td>8680.0</td>\n",
              "      <td>2.41</td>\n",
              "      <td>2.5</td>\n",
              "      <td>10.0979</td>\n",
              "      <td>0.0</td>\n",
              "      <td>0.964</td>\n",
              "      <td>96.4</td>\n",
              "    </tr>\n",
              "    <tr>\n",
              "      <th>226667</th>\n",
              "      <td>233160.7</td>\n",
              "      <td>4.19</td>\n",
              "      <td>0.0</td>\n",
              "      <td>8680.0</td>\n",
              "      <td>2.41</td>\n",
              "      <td>2.5</td>\n",
              "      <td>10.0979</td>\n",
              "      <td>0.0</td>\n",
              "      <td>0.964</td>\n",
              "      <td>96.4</td>\n",
              "    </tr>\n",
              "    <tr>\n",
              "      <th>226666</th>\n",
              "      <td>233159.7</td>\n",
              "      <td>4.19</td>\n",
              "      <td>0.0</td>\n",
              "      <td>8680.0</td>\n",
              "      <td>2.41</td>\n",
              "      <td>2.5</td>\n",
              "      <td>10.0979</td>\n",
              "      <td>0.0</td>\n",
              "      <td>0.964</td>\n",
              "      <td>96.4</td>\n",
              "    </tr>\n",
              "    <tr>\n",
              "      <th>226665</th>\n",
              "      <td>233158.7</td>\n",
              "      <td>4.19</td>\n",
              "      <td>0.0</td>\n",
              "      <td>8680.0</td>\n",
              "      <td>2.41</td>\n",
              "      <td>2.5</td>\n",
              "      <td>10.0979</td>\n",
              "      <td>0.0</td>\n",
              "      <td>0.964</td>\n",
              "      <td>96.4</td>\n",
              "    </tr>\n",
              "  </tbody>\n",
              "</table>\n",
              "<p>100 rows × 10 columns</p>\n",
              "</div>\n",
              "      <button class=\"colab-df-convert\" onclick=\"convertToInteractive('df-13e404d5-09a5-4e15-92aa-de3e0a718023')\"\n",
              "              title=\"Convert this dataframe to an interactive table.\"\n",
              "              style=\"display:none;\">\n",
              "        \n",
              "  <svg xmlns=\"http://www.w3.org/2000/svg\" height=\"24px\"viewBox=\"0 0 24 24\"\n",
              "       width=\"24px\">\n",
              "    <path d=\"M0 0h24v24H0V0z\" fill=\"none\"/>\n",
              "    <path d=\"M18.56 5.44l.94 2.06.94-2.06 2.06-.94-2.06-.94-.94-2.06-.94 2.06-2.06.94zm-11 1L8.5 8.5l.94-2.06 2.06-.94-2.06-.94L8.5 2.5l-.94 2.06-2.06.94zm10 10l.94 2.06.94-2.06 2.06-.94-2.06-.94-.94-2.06-.94 2.06-2.06.94z\"/><path d=\"M17.41 7.96l-1.37-1.37c-.4-.4-.92-.59-1.43-.59-.52 0-1.04.2-1.43.59L10.3 9.45l-7.72 7.72c-.78.78-.78 2.05 0 2.83L4 21.41c.39.39.9.59 1.41.59.51 0 1.02-.2 1.41-.59l7.78-7.78 2.81-2.81c.8-.78.8-2.07 0-2.86zM5.41 20L4 18.59l7.72-7.72 1.47 1.35L5.41 20z\"/>\n",
              "  </svg>\n",
              "      </button>\n",
              "      \n",
              "  <style>\n",
              "    .colab-df-container {\n",
              "      display:flex;\n",
              "      flex-wrap:wrap;\n",
              "      gap: 12px;\n",
              "    }\n",
              "\n",
              "    .colab-df-convert {\n",
              "      background-color: #E8F0FE;\n",
              "      border: none;\n",
              "      border-radius: 50%;\n",
              "      cursor: pointer;\n",
              "      display: none;\n",
              "      fill: #1967D2;\n",
              "      height: 32px;\n",
              "      padding: 0 0 0 0;\n",
              "      width: 32px;\n",
              "    }\n",
              "\n",
              "    .colab-df-convert:hover {\n",
              "      background-color: #E2EBFA;\n",
              "      box-shadow: 0px 1px 2px rgba(60, 64, 67, 0.3), 0px 1px 3px 1px rgba(60, 64, 67, 0.15);\n",
              "      fill: #174EA6;\n",
              "    }\n",
              "\n",
              "    [theme=dark] .colab-df-convert {\n",
              "      background-color: #3B4455;\n",
              "      fill: #D2E3FC;\n",
              "    }\n",
              "\n",
              "    [theme=dark] .colab-df-convert:hover {\n",
              "      background-color: #434B5C;\n",
              "      box-shadow: 0px 1px 3px 1px rgba(0, 0, 0, 0.15);\n",
              "      filter: drop-shadow(0px 1px 2px rgba(0, 0, 0, 0.3));\n",
              "      fill: #FFFFFF;\n",
              "    }\n",
              "  </style>\n",
              "\n",
              "      <script>\n",
              "        const buttonEl =\n",
              "          document.querySelector('#df-13e404d5-09a5-4e15-92aa-de3e0a718023 button.colab-df-convert');\n",
              "        buttonEl.style.display =\n",
              "          google.colab.kernel.accessAllowed ? 'block' : 'none';\n",
              "\n",
              "        async function convertToInteractive(key) {\n",
              "          const element = document.querySelector('#df-13e404d5-09a5-4e15-92aa-de3e0a718023');\n",
              "          const dataTable =\n",
              "            await google.colab.kernel.invokeFunction('convertToInteractive',\n",
              "                                                     [key], {});\n",
              "          if (!dataTable) return;\n",
              "\n",
              "          const docLinkHtml = 'Like what you see? Visit the ' +\n",
              "            '<a target=\"_blank\" href=https://colab.research.google.com/notebooks/data_table.ipynb>data table notebook</a>'\n",
              "            + ' to learn more about interactive tables.';\n",
              "          element.innerHTML = '';\n",
              "          dataTable['output_type'] = 'display_data';\n",
              "          await google.colab.output.renderOutput(dataTable, element);\n",
              "          const docLink = document.createElement('div');\n",
              "          docLink.innerHTML = docLinkHtml;\n",
              "          element.appendChild(docLink);\n",
              "        }\n",
              "      </script>\n",
              "    </div>\n",
              "  </div>\n",
              "  "
            ]
          },
          "metadata": {},
          "execution_count": 42
        }
      ]
    },
    {
      "cell_type": "code",
      "source": [
        "trial.SOC.quantile(0.95)"
      ],
      "metadata": {
        "colab": {
          "base_uri": "https://localhost:8080/"
        },
        "id": "_9ktJkXB8Ski",
        "outputId": "3d731fb9-dc36-4154-fcf8-af7fb003fc2f"
      },
      "execution_count": 47,
      "outputs": [
        {
          "output_type": "execute_result",
          "data": {
            "text/plain": [
              "0.952"
            ]
          },
          "metadata": {},
          "execution_count": 47
        }
      ]
    },
    {
      "cell_type": "markdown",
      "source": [
        "## Waste end 🗑"
      ],
      "metadata": {
        "id": "i1rShrTSPciC"
      }
    },
    {
      "cell_type": "markdown",
      "source": [
        "## Method 1 \n",
        "Here what we did is that, first of all we took unique values of **capacity**. Then sorted into descending order. After this we devided this from **Nominal capacity** for the SOH.\n",
        "We took Top 8 values from the list! (which is decreasing) 📉"
      ],
      "metadata": {
        "id": "lhKfP660B1Qq"
      }
    },
    {
      "cell_type": "code",
      "source": [
        "c = df['Capacity/Ah'].unique()"
      ],
      "metadata": {
        "id": "b4JGK8c9-4wZ"
      },
      "execution_count": 59,
      "outputs": []
    },
    {
      "cell_type": "code",
      "source": [
        "c.sort()\n",
        "print(c)"
      ],
      "metadata": {
        "colab": {
          "base_uri": "https://localhost:8080/"
        },
        "id": "GknpV1uC_8Mj",
        "outputId": "d279c8de-d83c-45a0-d232-de6779eeafea"
      },
      "execution_count": 60,
      "outputs": [
        {
          "output_type": "stream",
          "name": "stdout",
          "text": [
            "[0.   0.01 0.02 0.03 0.04 0.05 0.06 0.07 0.08 0.09 0.1  0.11 0.12 0.13\n",
            " 0.14 0.15 0.16 0.17 0.18 0.19 0.2  0.21 0.22 0.23 0.24 0.25 0.26 0.27\n",
            " 0.28 0.29 0.3  0.31 0.32 0.33 0.34 0.35 0.36 0.37 0.38 0.39 0.4  0.41\n",
            " 0.42 0.43 0.44 0.45 0.46 0.47 0.48 0.49 0.5  0.51 0.52 0.53 0.54 0.55\n",
            " 0.56 0.57 0.58 0.59 0.6  0.61 0.62 0.63 0.64 0.65 0.66 0.67 0.68 0.69\n",
            " 0.7  0.71 0.72 0.73 0.74 0.75 0.76 0.77 0.78 0.79 0.8  0.81 0.82 0.83\n",
            " 0.84 0.85 0.86 0.87 0.88 0.89 0.9  0.91 0.92 0.93 0.94 0.95 0.96 0.97\n",
            " 0.98 0.99 1.   1.01 1.02 1.03 1.04 1.05 1.06 1.07 1.08 1.09 1.1  1.11\n",
            " 1.12 1.13 1.14 1.15 1.16 1.17 1.18 1.19 1.2  1.21 1.22 1.23 1.24 1.25\n",
            " 1.26 1.27 1.28 1.29 1.3  1.31 1.32 1.33 1.34 1.35 1.36 1.37 1.38 1.39\n",
            " 1.4  1.41 1.42 1.43 1.44 1.45 1.46 1.47 1.48 1.49 1.5  1.51 1.52 1.53\n",
            " 1.54 1.55 1.56 1.57 1.58 1.59 1.6  1.61 1.62 1.63 1.64 1.65 1.66 1.67\n",
            " 1.68 1.69 1.7  1.71 1.72 1.73 1.74 1.75 1.76 1.77 1.78 1.79 1.8  1.81\n",
            " 1.82 1.83 1.84 1.85 1.86 1.87 1.88 1.89 1.9  1.91 1.92 1.93 1.94 1.95\n",
            " 1.96 1.97 1.98 1.99 2.   2.01 2.02 2.03 2.04 2.05 2.06 2.07 2.08 2.09\n",
            " 2.1  2.11 2.12 2.13 2.14 2.15 2.16 2.17 2.18 2.19 2.2  2.21 2.22 2.23\n",
            " 2.24 2.25 2.26 2.27 2.28 2.29 2.3  2.31 2.32 2.33 2.34 2.35 2.36 2.37\n",
            " 2.38 2.39 2.4  2.41]\n"
          ]
        }
      ]
    },
    {
      "cell_type": "code",
      "source": [
        "Soh = c/2.5"
      ],
      "metadata": {
        "id": "ulzTHcoU_-Up"
      },
      "execution_count": 61,
      "outputs": []
    },
    {
      "cell_type": "code",
      "source": [
        "print(Soh)"
      ],
      "metadata": {
        "colab": {
          "base_uri": "https://localhost:8080/"
        },
        "id": "bUhBzpxsBJhK",
        "outputId": "a4b0da3c-4807-48dc-cb67-9a95db78c52f"
      },
      "execution_count": 63,
      "outputs": [
        {
          "output_type": "stream",
          "name": "stdout",
          "text": [
            "[0.    0.004 0.008 0.012 0.016 0.02  0.024 0.028 0.032 0.036 0.04  0.044\n",
            " 0.048 0.052 0.056 0.06  0.064 0.068 0.072 0.076 0.08  0.084 0.088 0.092\n",
            " 0.096 0.1   0.104 0.108 0.112 0.116 0.12  0.124 0.128 0.132 0.136 0.14\n",
            " 0.144 0.148 0.152 0.156 0.16  0.164 0.168 0.172 0.176 0.18  0.184 0.188\n",
            " 0.192 0.196 0.2   0.204 0.208 0.212 0.216 0.22  0.224 0.228 0.232 0.236\n",
            " 0.24  0.244 0.248 0.252 0.256 0.26  0.264 0.268 0.272 0.276 0.28  0.284\n",
            " 0.288 0.292 0.296 0.3   0.304 0.308 0.312 0.316 0.32  0.324 0.328 0.332\n",
            " 0.336 0.34  0.344 0.348 0.352 0.356 0.36  0.364 0.368 0.372 0.376 0.38\n",
            " 0.384 0.388 0.392 0.396 0.4   0.404 0.408 0.412 0.416 0.42  0.424 0.428\n",
            " 0.432 0.436 0.44  0.444 0.448 0.452 0.456 0.46  0.464 0.468 0.472 0.476\n",
            " 0.48  0.484 0.488 0.492 0.496 0.5   0.504 0.508 0.512 0.516 0.52  0.524\n",
            " 0.528 0.532 0.536 0.54  0.544 0.548 0.552 0.556 0.56  0.564 0.568 0.572\n",
            " 0.576 0.58  0.584 0.588 0.592 0.596 0.6   0.604 0.608 0.612 0.616 0.62\n",
            " 0.624 0.628 0.632 0.636 0.64  0.644 0.648 0.652 0.656 0.66  0.664 0.668\n",
            " 0.672 0.676 0.68  0.684 0.688 0.692 0.696 0.7   0.704 0.708 0.712 0.716\n",
            " 0.72  0.724 0.728 0.732 0.736 0.74  0.744 0.748 0.752 0.756 0.76  0.764\n",
            " 0.768 0.772 0.776 0.78  0.784 0.788 0.792 0.796 0.8   0.804 0.808 0.812\n",
            " 0.816 0.82  0.824 0.828 0.832 0.836 0.84  0.844 0.848 0.852 0.856 0.86\n",
            " 0.864 0.868 0.872 0.876 0.88  0.884 0.888 0.892 0.896 0.9   0.904 0.908\n",
            " 0.912 0.916 0.92  0.924 0.928 0.932 0.936 0.94  0.944 0.948 0.952 0.956\n",
            " 0.96  0.964]\n"
          ]
        }
      ]
    },
    {
      "cell_type": "code",
      "source": [
        "Soh.shape"
      ],
      "metadata": {
        "colab": {
          "base_uri": "https://localhost:8080/"
        },
        "id": "o6BVgiLNFTnw",
        "outputId": "93053025-22d3-48e8-ffa7-95c10e2c4457"
      },
      "execution_count": 82,
      "outputs": [
        {
          "output_type": "execute_result",
          "data": {
            "text/plain": [
              "(242,)"
            ]
          },
          "metadata": {},
          "execution_count": 82
        }
      ]
    },
    {
      "cell_type": "code",
      "source": [
        "import math\n",
        "print(\"Battery is decreasing with the rate of: \")\n",
        "for i in range(241, 232, -1):\n",
        "  print(f\"SOH is {math.trunc(Soh[i]*100)} %\")"
      ],
      "metadata": {
        "colab": {
          "base_uri": "https://localhost:8080/"
        },
        "id": "jaLCGMIJDGtJ",
        "outputId": "874517fe-407a-4fdd-d181-9f0aabe0ad7c"
      },
      "execution_count": 89,
      "outputs": [
        {
          "output_type": "stream",
          "name": "stdout",
          "text": [
            "Battery is decreasing with the rate of: \n",
            "SOH is 96 %\n",
            "SOH is 96 %\n",
            "SOH is 95 %\n",
            "SOH is 95 %\n",
            "SOH is 94 %\n",
            "SOH is 94 %\n",
            "SOH is 94 %\n",
            "SOH is 93 %\n",
            "SOH is 93 %\n"
          ]
        }
      ]
    },
    {
      "cell_type": "code",
      "source": [
        "# second option to do rouding \n",
        "import math\n",
        "print(\"Battery is decreasing with the rate of: \")\n",
        "for i in range(241, 232, -1):\n",
        "  value = Soh[i]*100\n",
        "  print(f\"The SOH is\",round(value,2),\"%\")"
      ],
      "metadata": {
        "colab": {
          "base_uri": "https://localhost:8080/"
        },
        "id": "W0uZ0SWLObPf",
        "outputId": "3e2c10d6-a974-4360-fe3d-0d6530a4ab82"
      },
      "execution_count": 127,
      "outputs": [
        {
          "output_type": "stream",
          "name": "stdout",
          "text": [
            "Battery is decreasing with the rate of: \n",
            "The SOH is 96.4 %\n",
            "The SOH is 96.0 %\n",
            "The SOH is 95.6 %\n",
            "The SOH is 95.2 %\n",
            "The SOH is 94.8 %\n",
            "The SOH is 94.4 %\n",
            "The SOH is 94.0 %\n",
            "The SOH is 93.6 %\n",
            "The SOH is 93.2 %\n"
          ]
        }
      ]
    },
    {
      "cell_type": "markdown",
      "source": [
        "## Method 2"
      ],
      "metadata": {
        "id": "_8y-UCu8LAwS"
      }
    },
    {
      "cell_type": "code",
      "source": [
        "reverse_soh = np.sort(Soh)[241:232:-1]"
      ],
      "metadata": {
        "id": "4LQJDgNXIS5s"
      },
      "execution_count": 100,
      "outputs": []
    },
    {
      "cell_type": "code",
      "source": [
        "soh_perc = reverse_soh*100\n",
        "print(soh_perc)"
      ],
      "metadata": {
        "colab": {
          "base_uri": "https://localhost:8080/"
        },
        "id": "n_UkM02qKBfO",
        "outputId": "0300757c-8727-4261-d662-836cfec1a72c"
      },
      "execution_count": 102,
      "outputs": [
        {
          "output_type": "stream",
          "name": "stdout",
          "text": [
            "[96.4 96.  95.6 95.2 94.8 94.4 94.  93.6 93.2]\n"
          ]
        }
      ]
    },
    {
      "cell_type": "code",
      "source": [
        "import math\n",
        "print(\"Battery is decreasing with the rate of: \")\n",
        "for i in soh_perc:\n",
        "  print(f\"SOH is {round(i, 4)} %\")"
      ],
      "metadata": {
        "colab": {
          "base_uri": "https://localhost:8080/"
        },
        "id": "TvvHHU8UM6JL",
        "outputId": "84cef13d-184d-434b-8f66-175d2c72faf3"
      },
      "execution_count": 123,
      "outputs": [
        {
          "output_type": "stream",
          "name": "stdout",
          "text": [
            "Battery is decreasing with the rate of: \n",
            "SOH is 96.4 %\n",
            "SOH is 96.0 %\n",
            "SOH is 95.6 %\n",
            "SOH is 95.2 %\n",
            "SOH is 94.8 %\n",
            "SOH is 94.4 %\n",
            "SOH is 94.0 %\n",
            "SOH is 93.6 %\n",
            "SOH is 93.2 %\n"
          ]
        }
      ]
    },
    {
      "cell_type": "code",
      "source": [
        "plt.plot(soh_perc,linestyle=\"dashdot\")\n",
        "plt.xlabel(\"Cycle\")\n",
        "plt.ylabel(\"SOH\")"
      ],
      "metadata": {
        "colab": {
          "base_uri": "https://localhost:8080/",
          "height": 298
        },
        "id": "9y8-TcSDCy8b",
        "outputId": "72fad8fb-51c9-4cf4-b326-acd87db3e35f"
      },
      "execution_count": 110,
      "outputs": [
        {
          "output_type": "execute_result",
          "data": {
            "text/plain": [
              "Text(0, 0.5, 'SOH')"
            ]
          },
          "metadata": {},
          "execution_count": 110
        },
        {
          "output_type": "display_data",
          "data": {
            "text/plain": [
              "<Figure size 432x288 with 1 Axes>"
            ],
            "image/png": "[encoded data removed]"
          },
          "metadata": {
            "needs_background": "light"
          }
        }
      ]
    },
    {
      "cell_type": "code",
      "source": [
        "plt.boxplot(df['SOC'])\n",
        "plt.show()"
      ],
      "metadata": {
        "colab": {
          "base_uri": "https://localhost:8080/",
          "height": 267
        },
        "id": "9Jeksig0L3oL",
        "outputId": "12a2eb0f-e33a-4437-dfdd-7b2ce6c7f816"
      },
      "execution_count": 112,
      "outputs": [
        {
          "output_type": "display_data",
          "data": {
            "text/plain": [
              "<Figure size 432x288 with 1 Axes>"
            ],
            "image/png": "[encoded data removed]"
          },
          "metadata": {
            "needs_background": "light"
          }
        }
      ]
    },
    {
      "cell_type": "code",
      "source": [],
      "metadata": {
        "id": "IKuXjHuGMUes"
      },
      "execution_count": null,
      "outputs": []
    }
  ]
}