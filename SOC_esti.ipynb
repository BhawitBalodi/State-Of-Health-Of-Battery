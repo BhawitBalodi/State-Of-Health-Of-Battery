{
 "cells": [
  {
   "cell_type": "code",
   "execution_count": 1,
   "id": "eb3b8658",
   "metadata": {},
   "outputs": [],
   "source": [
    "import numpy as np\n",
    "import pandas as pd\n",
    "import seaborn as sns\n",
    "import matplotlib.pyplot as plt\n",
    "import os"
   ]
  },
  {
   "cell_type": "code",
   "execution_count": 2,
   "id": "c5627c71",
   "metadata": {},
   "outputs": [],
   "source": [
    "data = pd.read_csv('D:/IIT Delhi/Dataset_july/data_files/data_1.csv')"
   ]
  },
  {
   "cell_type": "code",
   "execution_count": 3,
   "id": "c8fb0162",
   "metadata": {},
   "outputs": [
    {
     "data": {
      "text/html": [
       "<div>\n",
       "<style scoped>\n",
       "    .dataframe tbody tr th:only-of-type {\n",
       "        vertical-align: middle;\n",
       "    }\n",
       "\n",
       "    .dataframe tbody tr th {\n",
       "        vertical-align: top;\n",
       "    }\n",
       "\n",
       "    .dataframe thead th {\n",
       "        text-align: right;\n",
       "    }\n",
       "</style>\n",
       "<table border=\"1\" class=\"dataframe\">\n",
       "  <thead>\n",
       "    <tr style=\"text-align: right;\">\n",
       "      <th></th>\n",
       "      <th>Time</th>\n",
       "      <th>Potential</th>\n",
       "      <th>Current</th>\n",
       "      <th>SOC</th>\n",
       "    </tr>\n",
       "  </thead>\n",
       "  <tbody>\n",
       "    <tr>\n",
       "      <th>0</th>\n",
       "      <td>0.4</td>\n",
       "      <td>3.97</td>\n",
       "      <td>0.400</td>\n",
       "      <td>0.629932</td>\n",
       "    </tr>\n",
       "    <tr>\n",
       "      <th>1</th>\n",
       "      <td>1.0</td>\n",
       "      <td>3.97</td>\n",
       "      <td>1.250</td>\n",
       "      <td>0.629554</td>\n",
       "    </tr>\n",
       "    <tr>\n",
       "      <th>2</th>\n",
       "      <td>2.0</td>\n",
       "      <td>3.98</td>\n",
       "      <td>1.250</td>\n",
       "      <td>0.629679</td>\n",
       "    </tr>\n",
       "    <tr>\n",
       "      <th>3</th>\n",
       "      <td>3.0</td>\n",
       "      <td>3.98</td>\n",
       "      <td>1.250</td>\n",
       "      <td>0.629821</td>\n",
       "    </tr>\n",
       "    <tr>\n",
       "      <th>4</th>\n",
       "      <td>4.0</td>\n",
       "      <td>3.98</td>\n",
       "      <td>1.250</td>\n",
       "      <td>0.629946</td>\n",
       "    </tr>\n",
       "    <tr>\n",
       "      <th>...</th>\n",
       "      <td>...</td>\n",
       "      <td>...</td>\n",
       "      <td>...</td>\n",
       "      <td>...</td>\n",
       "    </tr>\n",
       "    <tr>\n",
       "      <th>1048567</th>\n",
       "      <td>1048567.0</td>\n",
       "      <td>4.20</td>\n",
       "      <td>0.828</td>\n",
       "      <td>0.891719</td>\n",
       "    </tr>\n",
       "    <tr>\n",
       "      <th>1048568</th>\n",
       "      <td>1048568.0</td>\n",
       "      <td>4.20</td>\n",
       "      <td>0.827</td>\n",
       "      <td>0.891719</td>\n",
       "    </tr>\n",
       "    <tr>\n",
       "      <th>1048569</th>\n",
       "      <td>1048569.0</td>\n",
       "      <td>4.20</td>\n",
       "      <td>0.826</td>\n",
       "      <td>0.891719</td>\n",
       "    </tr>\n",
       "    <tr>\n",
       "      <th>1048570</th>\n",
       "      <td>1048570.0</td>\n",
       "      <td>4.20</td>\n",
       "      <td>0.826</td>\n",
       "      <td>0.891719</td>\n",
       "    </tr>\n",
       "    <tr>\n",
       "      <th>1048571</th>\n",
       "      <td>1048571.0</td>\n",
       "      <td>4.20</td>\n",
       "      <td>0.825</td>\n",
       "      <td>0.891719</td>\n",
       "    </tr>\n",
       "  </tbody>\n",
       "</table>\n",
       "<p>1048572 rows × 4 columns</p>\n",
       "</div>"
      ],
      "text/plain": [
       "              Time  Potential  Current       SOC\n",
       "0              0.4       3.97    0.400  0.629932\n",
       "1              1.0       3.97    1.250  0.629554\n",
       "2              2.0       3.98    1.250  0.629679\n",
       "3              3.0       3.98    1.250  0.629821\n",
       "4              4.0       3.98    1.250  0.629946\n",
       "...            ...        ...      ...       ...\n",
       "1048567  1048567.0       4.20    0.828  0.891719\n",
       "1048568  1048568.0       4.20    0.827  0.891719\n",
       "1048569  1048569.0       4.20    0.826  0.891719\n",
       "1048570  1048570.0       4.20    0.826  0.891719\n",
       "1048571  1048571.0       4.20    0.825  0.891719\n",
       "\n",
       "[1048572 rows x 4 columns]"
      ]
     },
     "execution_count": 3,
     "metadata": {},
     "output_type": "execute_result"
    }
   ],
   "source": [
    "data"
   ]
  },
  {
   "cell_type": "code",
   "execution_count": 4,
   "id": "d44d4858",
   "metadata": {},
   "outputs": [
    {
     "data": {
      "text/html": [
       "<div>\n",
       "<style scoped>\n",
       "    .dataframe tbody tr th:only-of-type {\n",
       "        vertical-align: middle;\n",
       "    }\n",
       "\n",
       "    .dataframe tbody tr th {\n",
       "        vertical-align: top;\n",
       "    }\n",
       "\n",
       "    .dataframe thead th {\n",
       "        text-align: right;\n",
       "    }\n",
       "</style>\n",
       "<table border=\"1\" class=\"dataframe\">\n",
       "  <thead>\n",
       "    <tr style=\"text-align: right;\">\n",
       "      <th></th>\n",
       "      <th>Time</th>\n",
       "      <th>Potential</th>\n",
       "      <th>Current</th>\n",
       "      <th>SOC</th>\n",
       "    </tr>\n",
       "  </thead>\n",
       "  <tbody>\n",
       "    <tr>\n",
       "      <th>count</th>\n",
       "      <td>1.048572e+06</td>\n",
       "      <td>1.048572e+06</td>\n",
       "      <td>1.048572e+06</td>\n",
       "      <td>1.048572e+06</td>\n",
       "    </tr>\n",
       "    <tr>\n",
       "      <th>mean</th>\n",
       "      <td>5.242855e+05</td>\n",
       "      <td>3.814223e+00</td>\n",
       "      <td>1.833261e-03</td>\n",
       "      <td>5.698376e-01</td>\n",
       "    </tr>\n",
       "    <tr>\n",
       "      <th>std</th>\n",
       "      <td>3.026968e+05</td>\n",
       "      <td>3.940242e-01</td>\n",
       "      <td>1.285114e+00</td>\n",
       "      <td>3.532780e-01</td>\n",
       "    </tr>\n",
       "    <tr>\n",
       "      <th>min</th>\n",
       "      <td>4.000000e-01</td>\n",
       "      <td>2.750000e+00</td>\n",
       "      <td>-2.500000e+00</td>\n",
       "      <td>0.000000e+00</td>\n",
       "    </tr>\n",
       "    <tr>\n",
       "      <th>25%</th>\n",
       "      <td>2.621428e+05</td>\n",
       "      <td>3.400000e+00</td>\n",
       "      <td>0.000000e+00</td>\n",
       "      <td>2.197449e-01</td>\n",
       "    </tr>\n",
       "    <tr>\n",
       "      <th>50%</th>\n",
       "      <td>5.242855e+05</td>\n",
       "      <td>3.890000e+00</td>\n",
       "      <td>7.400000e-02</td>\n",
       "      <td>6.417189e-01</td>\n",
       "    </tr>\n",
       "    <tr>\n",
       "      <th>75%</th>\n",
       "      <td>7.864282e+05</td>\n",
       "      <td>4.190000e+00</td>\n",
       "      <td>1.250000e+00</td>\n",
       "      <td>9.214426e-01</td>\n",
       "    </tr>\n",
       "    <tr>\n",
       "      <th>max</th>\n",
       "      <td>1.048571e+06</td>\n",
       "      <td>4.200000e+00</td>\n",
       "      <td>1.270000e+00</td>\n",
       "      <td>9.999987e-01</td>\n",
       "    </tr>\n",
       "  </tbody>\n",
       "</table>\n",
       "</div>"
      ],
      "text/plain": [
       "               Time     Potential       Current           SOC\n",
       "count  1.048572e+06  1.048572e+06  1.048572e+06  1.048572e+06\n",
       "mean   5.242855e+05  3.814223e+00  1.833261e-03  5.698376e-01\n",
       "std    3.026968e+05  3.940242e-01  1.285114e+00  3.532780e-01\n",
       "min    4.000000e-01  2.750000e+00 -2.500000e+00  0.000000e+00\n",
       "25%    2.621428e+05  3.400000e+00  0.000000e+00  2.197449e-01\n",
       "50%    5.242855e+05  3.890000e+00  7.400000e-02  6.417189e-01\n",
       "75%    7.864282e+05  4.190000e+00  1.250000e+00  9.214426e-01\n",
       "max    1.048571e+06  4.200000e+00  1.270000e+00  9.999987e-01"
      ]
     },
     "execution_count": 4,
     "metadata": {},
     "output_type": "execute_result"
    }
   ],
   "source": [
    "data.describe()"
   ]
  },
  {
   "cell_type": "code",
   "execution_count": 5,
   "id": "5964cb43",
   "metadata": {},
   "outputs": [
    {
     "data": {
      "text/plain": [
       "Time         0\n",
       "Potential    0\n",
       "Current      0\n",
       "SOC          0\n",
       "dtype: int64"
      ]
     },
     "execution_count": 5,
     "metadata": {},
     "output_type": "execute_result"
    }
   ],
   "source": [
    "data.isnull().sum()"
   ]
  },
  {
   "cell_type": "markdown",
   "id": "e87c1050",
   "metadata": {},
   "source": [
    "# Data Modeling"
   ]
  },
  {
   "cell_type": "code",
   "execution_count": 6,
   "id": "f4a16f47",
   "metadata": {},
   "outputs": [],
   "source": [
    "from sklearn import preprocessing\n",
    "from sklearn.preprocessing import MinMaxScaler\n",
    "scaler = MinMaxScaler()\n",
    "\n",
    "numericals = ['Time','Potential','Current'] # Not Normalizing the Y(target Variable) - which is SOC\n",
    "data[numericals] = scaler.fit_transform(data[numericals])"
   ]
  },
  {
   "cell_type": "code",
   "execution_count": 7,
   "id": "59910ab3",
   "metadata": {},
   "outputs": [
    {
     "data": {
      "text/html": [
       "<div>\n",
       "<style scoped>\n",
       "    .dataframe tbody tr th:only-of-type {\n",
       "        vertical-align: middle;\n",
       "    }\n",
       "\n",
       "    .dataframe tbody tr th {\n",
       "        vertical-align: top;\n",
       "    }\n",
       "\n",
       "    .dataframe thead th {\n",
       "        text-align: right;\n",
       "    }\n",
       "</style>\n",
       "<table border=\"1\" class=\"dataframe\">\n",
       "  <thead>\n",
       "    <tr style=\"text-align: right;\">\n",
       "      <th></th>\n",
       "      <th>Time</th>\n",
       "      <th>Potential</th>\n",
       "      <th>Current</th>\n",
       "      <th>SOC</th>\n",
       "    </tr>\n",
       "  </thead>\n",
       "  <tbody>\n",
       "    <tr>\n",
       "      <th>0</th>\n",
       "      <td>0.000000e+00</td>\n",
       "      <td>0.841379</td>\n",
       "      <td>0.769231</td>\n",
       "      <td>0.629932</td>\n",
       "    </tr>\n",
       "    <tr>\n",
       "      <th>1</th>\n",
       "      <td>5.722075e-07</td>\n",
       "      <td>0.841379</td>\n",
       "      <td>0.994695</td>\n",
       "      <td>0.629554</td>\n",
       "    </tr>\n",
       "    <tr>\n",
       "      <th>2</th>\n",
       "      <td>1.525887e-06</td>\n",
       "      <td>0.848276</td>\n",
       "      <td>0.994695</td>\n",
       "      <td>0.629679</td>\n",
       "    </tr>\n",
       "    <tr>\n",
       "      <th>3</th>\n",
       "      <td>2.479566e-06</td>\n",
       "      <td>0.848276</td>\n",
       "      <td>0.994695</td>\n",
       "      <td>0.629821</td>\n",
       "    </tr>\n",
       "    <tr>\n",
       "      <th>4</th>\n",
       "      <td>3.433245e-06</td>\n",
       "      <td>0.848276</td>\n",
       "      <td>0.994695</td>\n",
       "      <td>0.629946</td>\n",
       "    </tr>\n",
       "  </tbody>\n",
       "</table>\n",
       "</div>"
      ],
      "text/plain": [
       "           Time  Potential   Current       SOC\n",
       "0  0.000000e+00   0.841379  0.769231  0.629932\n",
       "1  5.722075e-07   0.841379  0.994695  0.629554\n",
       "2  1.525887e-06   0.848276  0.994695  0.629679\n",
       "3  2.479566e-06   0.848276  0.994695  0.629821\n",
       "4  3.433245e-06   0.848276  0.994695  0.629946"
      ]
     },
     "execution_count": 7,
     "metadata": {},
     "output_type": "execute_result"
    }
   ],
   "source": [
    "data.head()\n"
   ]
  },
  {
   "cell_type": "code",
   "execution_count": 8,
   "id": "2268efd5",
   "metadata": {},
   "outputs": [],
   "source": [
    "Y = data.pop('SOC')\n",
    "X = data"
   ]
  },
  {
   "cell_type": "code",
   "execution_count": 9,
   "id": "10e12db7",
   "metadata": {},
   "outputs": [],
   "source": [
    "from sklearn.model_selection import train_test_split\n",
    "X_train, X_test, Y_train, Y_test = train_test_split(X,Y,test_size = 0.2)"
   ]
  },
  {
   "cell_type": "code",
   "execution_count": 10,
   "id": "9316216c",
   "metadata": {},
   "outputs": [
    {
     "data": {
      "text/plain": [
       "((838857, 3), (209715, 3), (838857,), (209715,))"
      ]
     },
     "execution_count": 10,
     "metadata": {},
     "output_type": "execute_result"
    }
   ],
   "source": [
    "X_train.shape , X_test.shape , Y_train.shape , Y_test.shape"
   ]
  },
  {
   "cell_type": "code",
   "execution_count": 11,
   "id": "a9a080d7",
   "metadata": {},
   "outputs": [
    {
     "data": {
      "text/html": [
       "<div>\n",
       "<style scoped>\n",
       "    .dataframe tbody tr th:only-of-type {\n",
       "        vertical-align: middle;\n",
       "    }\n",
       "\n",
       "    .dataframe tbody tr th {\n",
       "        vertical-align: top;\n",
       "    }\n",
       "\n",
       "    .dataframe thead th {\n",
       "        text-align: right;\n",
       "    }\n",
       "</style>\n",
       "<table border=\"1\" class=\"dataframe\">\n",
       "  <thead>\n",
       "    <tr style=\"text-align: right;\">\n",
       "      <th></th>\n",
       "      <th>Time</th>\n",
       "      <th>Potential</th>\n",
       "      <th>Current</th>\n",
       "    </tr>\n",
       "  </thead>\n",
       "  <tbody>\n",
       "    <tr>\n",
       "      <th>681274</th>\n",
       "      <td>0.649716</td>\n",
       "      <td>0.365517</td>\n",
       "      <td>0.663130</td>\n",
       "    </tr>\n",
       "    <tr>\n",
       "      <th>318059</th>\n",
       "      <td>0.303326</td>\n",
       "      <td>0.317241</td>\n",
       "      <td>0.663130</td>\n",
       "    </tr>\n",
       "    <tr>\n",
       "      <th>691293</th>\n",
       "      <td>0.659271</td>\n",
       "      <td>1.000000</td>\n",
       "      <td>0.681618</td>\n",
       "    </tr>\n",
       "    <tr>\n",
       "      <th>671244</th>\n",
       "      <td>0.640151</td>\n",
       "      <td>1.000000</td>\n",
       "      <td>0.698143</td>\n",
       "    </tr>\n",
       "    <tr>\n",
       "      <th>410237</th>\n",
       "      <td>0.391234</td>\n",
       "      <td>0.496552</td>\n",
       "      <td>0.000000</td>\n",
       "    </tr>\n",
       "  </tbody>\n",
       "</table>\n",
       "</div>"
      ],
      "text/plain": [
       "            Time  Potential   Current\n",
       "681274  0.649716   0.365517  0.663130\n",
       "318059  0.303326   0.317241  0.663130\n",
       "691293  0.659271   1.000000  0.681618\n",
       "671244  0.640151   1.000000  0.698143\n",
       "410237  0.391234   0.496552  0.000000"
      ]
     },
     "execution_count": 11,
     "metadata": {},
     "output_type": "execute_result"
    }
   ],
   "source": [
    "X_train.head()"
   ]
  },
  {
   "cell_type": "code",
   "execution_count": 12,
   "id": "153cb88f",
   "metadata": {},
   "outputs": [],
   "source": [
    "def plot_his(history):\n",
    "  plt.plot(history.history['loss'])\n",
    "  plt.plot(history.history['val_loss'])\n",
    "  plt.title('model loss')\n",
    "  plt.ylabel('Loss')\n",
    "  plt.xlabel('Epoch')\n",
    "  plt.legend(['Train', 'Test'], loc='upper left')\n",
    "  plt.show()"
   ]
  },
  {
   "cell_type": "code",
   "execution_count": 13,
   "id": "577b2d66",
   "metadata": {},
   "outputs": [],
   "source": [
    "from tensorflow.keras.callbacks import EarlyStopping\n",
    "callback = EarlyStopping(\n",
    "    monitor = 'val_loss' ,\n",
    "    min_delta = 0.00001,\n",
    "    patience = 15,\n",
    "    verbose = 1,\n",
    "    mode = 'auto',\n",
    "    baseline = None,\n",
    "    restore_best_weights = False\n",
    ")"
   ]
  },
  {
   "cell_type": "markdown",
   "id": "67c232e1",
   "metadata": {},
   "source": [
    "# AIC"
   ]
  },
  {
   "cell_type": "code",
   "execution_count": 14,
   "id": "0bf4c60d",
   "metadata": {},
   "outputs": [],
   "source": [
    "import tensorflow as tf\n",
    "from scipy.stats import norm\n",
    "\n",
    "# Train your model using TensorFlow\n",
    "def AIC_value(model,Y_pred,Y_test):\n",
    "\n",
    "    Y_test = np.asarray(Y_test).astype('float32').reshape((-1,1))\n",
    "    Y_pred_1 = np.asarray(Y_pred).astype('float32').reshape((-1,1))\n",
    "\n",
    "\n",
    "    # Calculate the negative log-likelihood of the model's parameters based on the training data\n",
    "    nll = tf.reduce_mean(tf.nn.sigmoid_cross_entropy_with_logits(labels=Y_test, logits=Y_pred_1))\n",
    "\n",
    "    # Calculate the number of parameters in the model\n",
    "    num_params = model.count_params()\n",
    "\n",
    "    # Calculate the AIC value for the model\n",
    "    aic = 2 * num_params - 2 * nll\n",
    "\n",
    "    # Print the AIC value\n",
    "    print(\"AIC: \", aic.numpy())"
   ]
  },
  {
   "cell_type": "code",
   "execution_count": 15,
   "id": "d0f0b4ab",
   "metadata": {},
   "outputs": [],
   "source": [
    "# pip install tensorflow_addons"
   ]
  },
  {
   "cell_type": "code",
   "execution_count": 16,
   "id": "3a6b94fa",
   "metadata": {},
   "outputs": [
    {
     "name": "stderr",
     "output_type": "stream",
     "text": [
      "C:\\Users\\Bhawit Balodi\\AppData\\Roaming\\Python\\Python310\\site-packages\\tensorflow_addons\\utils\\tfa_eol_msg.py:23: UserWarning: \n",
      "\n",
      "TensorFlow Addons (TFA) has ended development and introduction of new features.\n",
      "TFA has entered a minimal maintenance and release mode until a planned end of life in May 2024.\n",
      "Please modify downstream libraries to take dependencies from other repositories in our TensorFlow community (e.g. Keras, Keras-CV, and Keras-NLP). \n",
      "\n",
      "For more information see: https://github.com/tensorflow/addons/issues/2807 \n",
      "\n",
      "  warnings.warn(\n"
     ]
    }
   ],
   "source": [
    "import tensorflow_addons as tfa"
   ]
  },
  {
   "cell_type": "code",
   "execution_count": null,
   "id": "582dcbe9",
   "metadata": {},
   "outputs": [],
   "source": []
  },
  {
   "cell_type": "code",
   "execution_count": null,
   "id": "ae0985f2",
   "metadata": {},
   "outputs": [],
   "source": []
  },
  {
   "cell_type": "code",
   "execution_count": null,
   "id": "eca055a0",
   "metadata": {},
   "outputs": [],
   "source": []
  },
  {
   "cell_type": "code",
   "execution_count": null,
   "id": "d1c66f4c",
   "metadata": {},
   "outputs": [],
   "source": []
  },
  {
   "cell_type": "code",
   "execution_count": null,
   "id": "f15f4dd2",
   "metadata": {},
   "outputs": [],
   "source": []
  },
  {
   "cell_type": "code",
   "execution_count": null,
   "id": "69768ef4",
   "metadata": {},
   "outputs": [],
   "source": []
  },
  {
   "cell_type": "code",
   "execution_count": 19,
   "id": "8ec3d19f",
   "metadata": {},
   "outputs": [
    {
     "name": "stdout",
     "output_type": "stream",
     "text": [
      "Epoch 1/100\n",
      "26215/26215 [==============================] - 57s 2ms/step - loss: 0.0414 - rmse: 0.0593 - r2: 0.9718 - mae: 0.0414 - mse: 0.0035 - mape: 84783.7500 - val_loss: 0.0343 - val_rmse: 0.0521 - val_r2: 0.9782 - val_mae: 0.0343 - val_mse: 0.0027 - val_mape: 28696.4805\n",
      "Epoch 2/100\n",
      "26215/26215 [==============================] - 60s 2ms/step - loss: 0.0384 - rmse: 0.0566 - r2: 0.9743 - mae: 0.0384 - mse: 0.0032 - mape: 87462.1328 - val_loss: 0.0340 - val_rmse: 0.0525 - val_r2: 0.9779 - val_mae: 0.0340 - val_mse: 0.0028 - val_mape: 28875.6973\n",
      "Epoch 3/100\n",
      "26215/26215 [==============================] - 62s 2ms/step - loss: 0.0380 - rmse: 0.0566 - r2: 0.9744 - mae: 0.0380 - mse: 0.0032 - mape: 86739.7969 - val_loss: 0.0341 - val_rmse: 0.0528 - val_r2: 0.9776 - val_mae: 0.0341 - val_mse: 0.0028 - val_mape: 32073.8691\n",
      "Epoch 4/100\n",
      "26215/26215 [==============================] - 50s 2ms/step - loss: 0.0378 - rmse: 0.0564 - r2: 0.9745 - mae: 0.0378 - mse: 0.0032 - mape: 84767.1875 - val_loss: 0.0341 - val_rmse: 0.0525 - val_r2: 0.9778 - val_mae: 0.0341 - val_mse: 0.0028 - val_mape: 30998.4082\n",
      "Epoch 5/100\n",
      "26215/26215 [==============================] - 47s 2ms/step - loss: 0.0377 - rmse: 0.0564 - r2: 0.9746 - mae: 0.0377 - mse: 0.0032 - mape: 87379.1953 - val_loss: 0.0343 - val_rmse: 0.0514 - val_r2: 0.9788 - val_mae: 0.0343 - val_mse: 0.0026 - val_mape: 26361.8418\n",
      "Epoch 6/100\n",
      "26215/26215 [==============================] - 47s 2ms/step - loss: 0.0376 - rmse: 0.0563 - r2: 0.9746 - mae: 0.0376 - mse: 0.0032 - mape: 84939.7578 - val_loss: 0.0343 - val_rmse: 0.0516 - val_r2: 0.9786 - val_mae: 0.0343 - val_mse: 0.0027 - val_mape: 26966.9492\n",
      "Epoch 7/100\n",
      "26215/26215 [==============================] - 48s 2ms/step - loss: 0.0376 - rmse: 0.0563 - r2: 0.9746 - mae: 0.0376 - mse: 0.0032 - mape: 84511.5547 - val_loss: 0.0343 - val_rmse: 0.0512 - val_r2: 0.9789 - val_mae: 0.0343 - val_mse: 0.0026 - val_mape: 27392.1387\n",
      "Epoch 8/100\n",
      "26215/26215 [==============================] - 47s 2ms/step - loss: 0.0375 - rmse: 0.0562 - r2: 0.9747 - mae: 0.0375 - mse: 0.0032 - mape: 85721.2969 - val_loss: 0.0340 - val_rmse: 0.0521 - val_r2: 0.9782 - val_mae: 0.0340 - val_mse: 0.0027 - val_mape: 28614.0156\n",
      "Epoch 9/100\n",
      "26215/26215 [==============================] - 47s 2ms/step - loss: 0.0374 - rmse: 0.0562 - r2: 0.9747 - mae: 0.0374 - mse: 0.0032 - mape: 84390.6484 - val_loss: 0.0340 - val_rmse: 0.0522 - val_r2: 0.9781 - val_mae: 0.0340 - val_mse: 0.0027 - val_mape: 28717.5723\n",
      "Epoch 10/100\n",
      "26215/26215 [==============================] - 47s 2ms/step - loss: 0.0374 - rmse: 0.0562 - r2: 0.9747 - mae: 0.0374 - mse: 0.0032 - mape: 87810.4062 - val_loss: 0.0341 - val_rmse: 0.0519 - val_r2: 0.9784 - val_mae: 0.0341 - val_mse: 0.0027 - val_mape: 27931.7773\n",
      "Epoch 11/100\n",
      "26215/26215 [==============================] - 47s 2ms/step - loss: 0.0374 - rmse: 0.0562 - r2: 0.9747 - mae: 0.0374 - mse: 0.0032 - mape: 82702.8047 - val_loss: 0.0340 - val_rmse: 0.0520 - val_r2: 0.9783 - val_mae: 0.0340 - val_mse: 0.0027 - val_mape: 28149.8262\n",
      "Epoch 12/100\n",
      "26215/26215 [==============================] - 46s 2ms/step - loss: 0.0374 - rmse: 0.0562 - r2: 0.9747 - mae: 0.0374 - mse: 0.0032 - mape: 87132.7812 - val_loss: 0.0340 - val_rmse: 0.0522 - val_r2: 0.9781 - val_mae: 0.0340 - val_mse: 0.0027 - val_mape: 28744.4727\n",
      "Epoch 13/100\n",
      "26215/26215 [==============================] - 47s 2ms/step - loss: 0.0374 - rmse: 0.0562 - r2: 0.9747 - mae: 0.0374 - mse: 0.0032 - mape: 84496.3516 - val_loss: 0.0342 - val_rmse: 0.0518 - val_r2: 0.9785 - val_mae: 0.0342 - val_mse: 0.0027 - val_mape: 27460.8301\n",
      "Epoch 14/100\n",
      "26215/26215 [==============================] - 48s 2ms/step - loss: 0.0373 - rmse: 0.0562 - r2: 0.9747 - mae: 0.0373 - mse: 0.0032 - mape: 87204.7812 - val_loss: 0.0341 - val_rmse: 0.0518 - val_r2: 0.9784 - val_mae: 0.0341 - val_mse: 0.0027 - val_mape: 27765.3848\n",
      "Epoch 15/100\n",
      "26215/26215 [==============================] - 47s 2ms/step - loss: 0.0373 - rmse: 0.0561 - r2: 0.9748 - mae: 0.0373 - mse: 0.0032 - mape: 85395.4375 - val_loss: 0.0340 - val_rmse: 0.0520 - val_r2: 0.9783 - val_mae: 0.0340 - val_mse: 0.0027 - val_mape: 28185.8086\n",
      "Epoch 16/100\n",
      "26215/26215 [==============================] - 48s 2ms/step - loss: 0.0373 - rmse: 0.0561 - r2: 0.9748 - mae: 0.0373 - mse: 0.0032 - mape: 86830.8047 - val_loss: 0.0341 - val_rmse: 0.0517 - val_r2: 0.9785 - val_mae: 0.0341 - val_mse: 0.0027 - val_mape: 27436.5742\n",
      "Epoch 17/100\n",
      "26215/26215 [==============================] - 47s 2ms/step - loss: 0.0372 - rmse: 0.0561 - r2: 0.9748 - mae: 0.0372 - mse: 0.0031 - mape: 83119.7422 - val_loss: 0.0340 - val_rmse: 0.0519 - val_r2: 0.9783 - val_mae: 0.0340 - val_mse: 0.0027 - val_mape: 27839.4277\n",
      "Epoch 18/100\n",
      "26215/26215 [==============================] - 47s 2ms/step - loss: 0.0372 - rmse: 0.0561 - r2: 0.9748 - mae: 0.0372 - mse: 0.0031 - mape: 82341.9922 - val_loss: 0.0340 - val_rmse: 0.0522 - val_r2: 0.9781 - val_mae: 0.0340 - val_mse: 0.0027 - val_mape: 28595.7676\n",
      "Epoch 19/100\n",
      "26215/26215 [==============================] - 48s 2ms/step - loss: 0.0372 - rmse: 0.0561 - r2: 0.9748 - mae: 0.0372 - mse: 0.0032 - mape: 84276.6484 - val_loss: 0.0341 - val_rmse: 0.0517 - val_r2: 0.9785 - val_mae: 0.0341 - val_mse: 0.0027 - val_mape: 27315.3359\n",
      "Epoch 20/100\n",
      "26215/26215 [==============================] - 47s 2ms/step - loss: 0.0372 - rmse: 0.0561 - r2: 0.9748 - mae: 0.0372 - mse: 0.0031 - mape: 83851.6484 - val_loss: 0.0340 - val_rmse: 0.0522 - val_r2: 0.9781 - val_mae: 0.0340 - val_mse: 0.0027 - val_mape: 28463.6875\n",
      "Epoch 21/100\n",
      "26215/26215 [==============================] - 47s 2ms/step - loss: 0.0372 - rmse: 0.0561 - r2: 0.9748 - mae: 0.0372 - mse: 0.0032 - mape: 84470.5312 - val_loss: 0.0340 - val_rmse: 0.0519 - val_r2: 0.9784 - val_mae: 0.0340 - val_mse: 0.0027 - val_mape: 28025.2461\n",
      "Epoch 22/100\n",
      "26215/26215 [==============================] - 48s 2ms/step - loss: 0.0372 - rmse: 0.0561 - r2: 0.9748 - mae: 0.0372 - mse: 0.0031 - mape: 85701.0625 - val_loss: 0.0340 - val_rmse: 0.0524 - val_r2: 0.9779 - val_mae: 0.0340 - val_mse: 0.0027 - val_mape: 29285.1641\n",
      "Epoch 23/100\n",
      "26215/26215 [==============================] - 48s 2ms/step - loss: 0.0372 - rmse: 0.0561 - r2: 0.9748 - mae: 0.0372 - mse: 0.0031 - mape: 84428.1875 - val_loss: 0.0340 - val_rmse: 0.0521 - val_r2: 0.9782 - val_mae: 0.0340 - val_mse: 0.0027 - val_mape: 28382.2246\n",
      "Epoch 24/100\n",
      "26215/26215 [==============================] - 47s 2ms/step - loss: 0.0372 - rmse: 0.0561 - r2: 0.9748 - mae: 0.0372 - mse: 0.0032 - mape: 83539.6094 - val_loss: 0.0340 - val_rmse: 0.0521 - val_r2: 0.9782 - val_mae: 0.0340 - val_mse: 0.0027 - val_mape: 28525.4805\n",
      "Epoch 25/100\n",
      "26215/26215 [==============================] - 47s 2ms/step - loss: 0.0371 - rmse: 0.0561 - r2: 0.9748 - mae: 0.0371 - mse: 0.0031 - mape: 83123.4922 - val_loss: 0.0340 - val_rmse: 0.0522 - val_r2: 0.9781 - val_mae: 0.0340 - val_mse: 0.0027 - val_mape: 28566.1699\n",
      "Epoch 26/100\n",
      "26215/26215 [==============================] - 47s 2ms/step - loss: 0.0372 - rmse: 0.0561 - r2: 0.9748 - mae: 0.0372 - mse: 0.0031 - mape: 86953.7734 - val_loss: 0.0340 - val_rmse: 0.0525 - val_r2: 0.9778 - val_mae: 0.0340 - val_mse: 0.0028 - val_mape: 29718.5684\n",
      "Epoch 27/100\n",
      "26215/26215 [==============================] - 47s 2ms/step - loss: 0.0372 - rmse: 0.0561 - r2: 0.9748 - mae: 0.0372 - mse: 0.0031 - mape: 84557.8438 - val_loss: 0.0340 - val_rmse: 0.0523 - val_r2: 0.9780 - val_mae: 0.0340 - val_mse: 0.0027 - val_mape: 28885.9180\n",
      "Epoch 28/100\n",
      "26215/26215 [==============================] - 46s 2ms/step - loss: 0.0371 - rmse: 0.0561 - r2: 0.9748 - mae: 0.0371 - mse: 0.0031 - mape: 82526.6719 - val_loss: 0.0341 - val_rmse: 0.0519 - val_r2: 0.9784 - val_mae: 0.0341 - val_mse: 0.0027 - val_mape: 27781.7422\n",
      "Epoch 29/100\n",
      "26215/26215 [==============================] - 46s 2ms/step - loss: 0.0372 - rmse: 0.0561 - r2: 0.9748 - mae: 0.0372 - mse: 0.0032 - mape: 84612.5000 - val_loss: 0.0340 - val_rmse: 0.0523 - val_r2: 0.9781 - val_mae: 0.0340 - val_mse: 0.0027 - val_mape: 28735.6426\n",
      "Epoch 30/100\n",
      "26215/26215 [==============================] - 46s 2ms/step - loss: 0.0371 - rmse: 0.0560 - r2: 0.9748 - mae: 0.0371 - mse: 0.0031 - mape: 82894.2500 - val_loss: 0.0340 - val_rmse: 0.0521 - val_r2: 0.9782 - val_mae: 0.0340 - val_mse: 0.0027 - val_mape: 28555.0977\n"
     ]
    },
    {
     "name": "stdout",
     "output_type": "stream",
     "text": [
      "Epoch 31/100\n",
      "26215/26215 [==============================] - 46s 2ms/step - loss: 0.0371 - rmse: 0.0561 - r2: 0.9748 - mae: 0.0371 - mse: 0.0031 - mape: 83867.5469 - val_loss: 0.0341 - val_rmse: 0.0518 - val_r2: 0.9784 - val_mae: 0.0341 - val_mse: 0.0027 - val_mape: 27688.7383\n",
      "Epoch 32/100\n",
      "26215/26215 [==============================] - 47s 2ms/step - loss: 0.0371 - rmse: 0.0560 - r2: 0.9749 - mae: 0.0371 - mse: 0.0031 - mape: 81838.7422 - val_loss: 0.0340 - val_rmse: 0.0522 - val_r2: 0.9781 - val_mae: 0.0340 - val_mse: 0.0027 - val_mape: 28643.4766\n",
      "Epoch 33/100\n",
      "26215/26215 [==============================] - 46s 2ms/step - loss: 0.0371 - rmse: 0.0560 - r2: 0.9749 - mae: 0.0371 - mse: 0.0031 - mape: 83906.6172 - val_loss: 0.0340 - val_rmse: 0.0522 - val_r2: 0.9782 - val_mae: 0.0340 - val_mse: 0.0027 - val_mape: 28579.2676\n",
      "Epoch 34/100\n",
      "26215/26215 [==============================] - 46s 2ms/step - loss: 0.0372 - rmse: 0.0561 - r2: 0.9748 - mae: 0.0372 - mse: 0.0031 - mape: 82908.9141 - val_loss: 0.0340 - val_rmse: 0.0524 - val_r2: 0.9780 - val_mae: 0.0340 - val_mse: 0.0027 - val_mape: 29020.4824\n",
      "Epoch 35/100\n",
      "26215/26215 [==============================] - 46s 2ms/step - loss: 0.0371 - rmse: 0.0560 - r2: 0.9749 - mae: 0.0371 - mse: 0.0031 - mape: 84026.2188 - val_loss: 0.0340 - val_rmse: 0.0522 - val_r2: 0.9781 - val_mae: 0.0340 - val_mse: 0.0027 - val_mape: 28598.7109\n",
      "Epoch 36/100\n",
      "26215/26215 [==============================] - 46s 2ms/step - loss: 0.0371 - rmse: 0.0560 - r2: 0.9749 - mae: 0.0371 - mse: 0.0031 - mape: 82023.7422 - val_loss: 0.0340 - val_rmse: 0.0521 - val_r2: 0.9782 - val_mae: 0.0340 - val_mse: 0.0027 - val_mape: 28543.2812\n",
      "Epoch 37/100\n",
      "26215/26215 [==============================] - 46s 2ms/step - loss: 0.0371 - rmse: 0.0560 - r2: 0.9749 - mae: 0.0371 - mse: 0.0031 - mape: 83366.9922 - val_loss: 0.0340 - val_rmse: 0.0521 - val_r2: 0.9782 - val_mae: 0.0340 - val_mse: 0.0027 - val_mape: 28323.2188\n",
      "Epoch 37: early stopping\n",
      "CPU times: total: 49min 22s\n",
      "Wall time: 29min 38s\n"
     ]
    }
   ],
   "source": [
    "%%time\n",
    "import tensorflow as tf\n",
    "\n",
    "tf.random.set_seed(42)\n",
    "\n",
    "model_1 = tf.keras.Sequential([tf.keras.layers.Dense(150,activation = 'linear'),\n",
    "                               tf.keras.layers.Dropout(0.2),\n",
    "                               tf.keras.layers.Dense(100),\n",
    "                               tf.keras.layers.Dense(50),\n",
    "                               tf.keras.layers.Dense(1)])\n",
    "\n",
    "model_1.compile(loss = tf.keras.losses.mae,\n",
    "                optimizer = tf.keras.optimizers.legacy.Adam(learning_rate=0.001,decay=0.001),\n",
    "                metrics=[tf.keras.metrics.RootMeanSquaredError(name='rmse'),\n",
    "                         tfa.metrics.RSquare(name='r2'),'mae','mse','mape'])\n",
    "\n",
    "history_1 = model_1.fit(X_train,Y_train, epochs= 100,batch_size=32,validation_data=(X_test,Y_test), callbacks = callback)"
   ]
  },
  {
   "cell_type": "code",
   "execution_count": null,
   "id": "4a304219",
   "metadata": {},
   "outputs": [],
   "source": []
  },
  {
   "cell_type": "code",
   "execution_count": 20,
   "id": "177bd393",
   "metadata": {},
   "outputs": [
    {
     "data": {
      "image/png": "[encoded data removed]",
      "text/plain": [
       "<Figure size 640x480 with 1 Axes>"
      ]
     },
     "metadata": {},
     "output_type": "display_data"
    }
   ],
   "source": [
    "plot_his(history_1)"
   ]
  },
  {
   "cell_type": "code",
   "execution_count": 21,
   "id": "9f3ab896",
   "metadata": {},
   "outputs": [
    {
     "name": "stdout",
     "output_type": "stream",
     "text": [
      "6554/6554 [==============================] - 8s 1ms/step - loss: 0.0340 - rmse: 0.0521 - r2: 0.9782 - mae: 0.0340 - mse: 0.0027 - mape: 28323.2188\n"
     ]
    },
    {
     "data": {
      "text/plain": [
       "[0.03401464223861694,\n",
       " 0.05205315724015236,\n",
       " 0.9782336354255676,\n",
       " 0.03401464223861694,\n",
       " 0.0027095309924334288,\n",
       " 28323.21875]"
      ]
     },
     "execution_count": 21,
     "metadata": {},
     "output_type": "execute_result"
    }
   ],
   "source": [
    "model_1.evaluate(X_test,Y_test)"
   ]
  },
  {
   "cell_type": "code",
   "execution_count": 22,
   "id": "7292deed",
   "metadata": {},
   "outputs": [
    {
     "name": "stdout",
     "output_type": "stream",
     "text": [
      "6554/6554 [==============================] - 5s 708us/step\n"
     ]
    }
   ],
   "source": [
    "Y_pred_1 = model_1.predict(X_test)"
   ]
  },
  {
   "cell_type": "code",
   "execution_count": 23,
   "id": "be8695e5",
   "metadata": {},
   "outputs": [
    {
     "name": "stdout",
     "output_type": "stream",
     "text": [
      "Model: \"sequential\"\n",
      "_________________________________________________________________\n",
      " Layer (type)                Output Shape              Param #   \n",
      "=================================================================\n",
      " dense (Dense)               (None, 150)               600       \n",
      "                                                                 \n",
      " dropout (Dropout)           (None, 150)               0         \n",
      "                                                                 \n",
      " dense_1 (Dense)             (None, 100)               15100     \n",
      "                                                                 \n",
      " dense_2 (Dense)             (None, 50)                5050      \n",
      "                                                                 \n",
      " dense_3 (Dense)             (None, 1)                 51        \n",
      "                                                                 \n",
      "=================================================================\n",
      "Total params: 20,801\n",
      "Trainable params: 20,801\n",
      "Non-trainable params: 0\n",
      "_________________________________________________________________\n"
     ]
    }
   ],
   "source": [
    "model_1.summary()"
   ]
  },
  {
   "cell_type": "code",
   "execution_count": 24,
   "id": "b4045fe2",
   "metadata": {},
   "outputs": [
    {
     "name": "stdout",
     "output_type": "stream",
     "text": [
      "AIC:  41600.824\n"
     ]
    }
   ],
   "source": [
    "AIC_value(model_1,Y_pred_1,Y_test)"
   ]
  },
  {
   "cell_type": "code",
   "execution_count": 25,
   "id": "e3434644",
   "metadata": {},
   "outputs": [],
   "source": [
    "model_1.save('Saved_models/model_1_SOCesti.h5')"
   ]
  },
  {
   "cell_type": "code",
   "execution_count": null,
   "id": "691ecc85",
   "metadata": {},
   "outputs": [],
   "source": []
  },
  {
   "cell_type": "code",
   "execution_count": null,
   "id": "1f78ce16",
   "metadata": {},
   "outputs": [],
   "source": []
  },
  {
   "cell_type": "code",
   "execution_count": null,
   "id": "7493e455",
   "metadata": {},
   "outputs": [],
   "source": []
  },
  {
   "cell_type": "code",
   "execution_count": 19,
   "id": "73623f3f",
   "metadata": {},
   "outputs": [
    {
     "name": "stdout",
     "output_type": "stream",
     "text": [
      "Epoch 1/100\n",
      "26215/26215 [==============================] - 47s 2ms/step - loss: 0.0056 - rmse: 0.0113 - r2: 0.9990 - mae: 0.0056 - mse: 1.2733e-04 - mape: 9616.6494 - val_loss: 0.0038 - val_rmse: 0.0065 - val_r2: 0.9997 - val_mae: 0.0038 - val_mse: 4.2013e-05 - val_mape: 2855.8550\n",
      "Epoch 2/100\n",
      "26215/26215 [==============================] - 41s 2ms/step - loss: 0.0036 - rmse: 0.0061 - r2: 0.9997 - mae: 0.0036 - mse: 3.7470e-05 - mape: 3082.3311 - val_loss: 0.0034 - val_rmse: 0.0061 - val_r2: 0.9997 - val_mae: 0.0034 - val_mse: 3.6818e-05 - val_mape: 1990.5089\n",
      "Epoch 3/100\n",
      "26215/26215 [==============================] - 41s 2ms/step - loss: 0.0034 - rmse: 0.0059 - r2: 0.9997 - mae: 0.0034 - mse: 3.4839e-05 - mape: 2882.2893 - val_loss: 0.0033 - val_rmse: 0.0059 - val_r2: 0.9997 - val_mae: 0.0033 - val_mse: 3.4285e-05 - val_mape: 2867.9641\n",
      "Epoch 4/100\n",
      "26215/26215 [==============================] - 41s 2ms/step - loss: 0.0033 - rmse: 0.0058 - r2: 0.9997 - mae: 0.0033 - mse: 3.3983e-05 - mape: 2523.2334 - val_loss: 0.0032 - val_rmse: 0.0058 - val_r2: 0.9997 - val_mae: 0.0032 - val_mse: 3.3973e-05 - val_mape: 1846.0251\n",
      "Epoch 5/100\n",
      "26215/26215 [==============================] - 41s 2ms/step - loss: 0.0032 - rmse: 0.0058 - r2: 0.9997 - mae: 0.0032 - mse: 3.3395e-05 - mape: 2222.8040 - val_loss: 0.0032 - val_rmse: 0.0058 - val_r2: 0.9997 - val_mae: 0.0032 - val_mse: 3.3646e-05 - val_mape: 1820.5032\n",
      "Epoch 6/100\n",
      "26215/26215 [==============================] - 42s 2ms/step - loss: 0.0032 - rmse: 0.0057 - r2: 0.9997 - mae: 0.0032 - mse: 3.2985e-05 - mape: 2215.6675 - val_loss: 0.0032 - val_rmse: 0.0057 - val_r2: 0.9997 - val_mae: 0.0032 - val_mse: 3.2786e-05 - val_mape: 1708.6532\n",
      "Epoch 7/100\n",
      "26215/26215 [==============================] - 41s 2ms/step - loss: 0.0032 - rmse: 0.0057 - r2: 0.9997 - mae: 0.0032 - mse: 3.2671e-05 - mape: 2189.1067 - val_loss: 0.0032 - val_rmse: 0.0057 - val_r2: 0.9997 - val_mae: 0.0032 - val_mse: 3.2933e-05 - val_mape: 1725.5325\n",
      "Epoch 8/100\n",
      "26215/26215 [==============================] - 41s 2ms/step - loss: 0.0032 - rmse: 0.0057 - r2: 0.9997 - mae: 0.0032 - mse: 3.2418e-05 - mape: 1993.5309 - val_loss: 0.0032 - val_rmse: 0.0057 - val_r2: 0.9997 - val_mae: 0.0032 - val_mse: 3.2547e-05 - val_mape: 2358.7139\n",
      "Epoch 9/100\n",
      "26215/26215 [==============================] - 41s 2ms/step - loss: 0.0032 - rmse: 0.0057 - r2: 0.9997 - mae: 0.0032 - mse: 3.2255e-05 - mape: 1846.1665 - val_loss: 0.0031 - val_rmse: 0.0057 - val_r2: 0.9997 - val_mae: 0.0031 - val_mse: 3.2407e-05 - val_mape: 1868.5420\n",
      "Epoch 10/100\n",
      "26215/26215 [==============================] - 41s 2ms/step - loss: 0.0031 - rmse: 0.0057 - r2: 0.9997 - mae: 0.0031 - mse: 3.2100e-05 - mape: 1858.8298 - val_loss: 0.0032 - val_rmse: 0.0057 - val_r2: 0.9997 - val_mae: 0.0032 - val_mse: 3.2234e-05 - val_mape: 1876.2762\n",
      "Epoch 11/100\n",
      "26215/26215 [==============================] - 41s 2ms/step - loss: 0.0031 - rmse: 0.0057 - r2: 0.9997 - mae: 0.0031 - mse: 3.1991e-05 - mape: 1799.7684 - val_loss: 0.0032 - val_rmse: 0.0057 - val_r2: 0.9997 - val_mae: 0.0032 - val_mse: 3.2287e-05 - val_mape: 2772.6260\n",
      "Epoch 12/100\n",
      "26215/26215 [==============================] - 41s 2ms/step - loss: 0.0031 - rmse: 0.0056 - r2: 0.9997 - mae: 0.0031 - mse: 3.1847e-05 - mape: 1792.7201 - val_loss: 0.0031 - val_rmse: 0.0057 - val_r2: 0.9997 - val_mae: 0.0031 - val_mse: 3.1968e-05 - val_mape: 2885.2366\n",
      "Epoch 13/100\n",
      "26215/26215 [==============================] - 41s 2ms/step - loss: 0.0031 - rmse: 0.0056 - r2: 0.9997 - mae: 0.0031 - mse: 3.1749e-05 - mape: 1778.1141 - val_loss: 0.0032 - val_rmse: 0.0057 - val_r2: 0.9997 - val_mae: 0.0032 - val_mse: 3.2105e-05 - val_mape: 1042.4761\n",
      "Epoch 14/100\n",
      "26215/26215 [==============================] - 42s 2ms/step - loss: 0.0031 - rmse: 0.0056 - r2: 0.9997 - mae: 0.0031 - mse: 3.1571e-05 - mape: 1809.8887 - val_loss: 0.0031 - val_rmse: 0.0056 - val_r2: 0.9997 - val_mae: 0.0031 - val_mse: 3.1761e-05 - val_mape: 1823.9490\n",
      "Epoch 15/100\n",
      "26215/26215 [==============================] - 46s 2ms/step - loss: 0.0031 - rmse: 0.0056 - r2: 0.9997 - mae: 0.0031 - mse: 3.1422e-05 - mape: 1779.8010 - val_loss: 0.0031 - val_rmse: 0.0057 - val_r2: 0.9997 - val_mae: 0.0031 - val_mse: 3.2026e-05 - val_mape: 1031.1610\n",
      "Epoch 16/100\n",
      "26215/26215 [==============================] - 41s 2ms/step - loss: 0.0031 - rmse: 0.0056 - r2: 0.9997 - mae: 0.0031 - mse: 3.1262e-05 - mape: 1753.7935 - val_loss: 0.0031 - val_rmse: 0.0056 - val_r2: 0.9997 - val_mae: 0.0031 - val_mse: 3.1361e-05 - val_mape: 2954.1223\n",
      "Epoch 17/100\n",
      "26215/26215 [==============================] - 42s 2ms/step - loss: 0.0031 - rmse: 0.0056 - r2: 0.9998 - mae: 0.0031 - mse: 3.1109e-05 - mape: 1751.2347 - val_loss: 0.0031 - val_rmse: 0.0056 - val_r2: 0.9997 - val_mae: 0.0031 - val_mse: 3.1448e-05 - val_mape: 1694.5291\n",
      "Epoch 18/100\n",
      "26215/26215 [==============================] - 41s 2ms/step - loss: 0.0031 - rmse: 0.0056 - r2: 0.9998 - mae: 0.0031 - mse: 3.0976e-05 - mape: 1763.6851 - val_loss: 0.0031 - val_rmse: 0.0056 - val_r2: 0.9997 - val_mae: 0.0031 - val_mse: 3.1309e-05 - val_mape: 1015.6921\n",
      "Epoch 19/100\n",
      "26215/26215 [==============================] - 41s 2ms/step - loss: 0.0031 - rmse: 0.0056 - r2: 0.9998 - mae: 0.0031 - mse: 3.0856e-05 - mape: 1752.6460 - val_loss: 0.0031 - val_rmse: 0.0056 - val_r2: 0.9997 - val_mae: 0.0031 - val_mse: 3.1306e-05 - val_mape: 2056.8066\n",
      "Epoch 20/100\n",
      "26215/26215 [==============================] - 41s 2ms/step - loss: 0.0031 - rmse: 0.0055 - r2: 0.9998 - mae: 0.0031 - mse: 3.0733e-05 - mape: 1739.5280 - val_loss: 0.0031 - val_rmse: 0.0056 - val_r2: 0.9998 - val_mae: 0.0031 - val_mse: 3.1078e-05 - val_mape: 2806.2476\n",
      "Epoch 21/100\n",
      "26215/26215 [==============================] - 42s 2ms/step - loss: 0.0031 - rmse: 0.0055 - r2: 0.9998 - mae: 0.0031 - mse: 3.0673e-05 - mape: 1710.5995 - val_loss: 0.0031 - val_rmse: 0.0056 - val_r2: 0.9998 - val_mae: 0.0031 - val_mse: 3.0829e-05 - val_mape: 3134.2058\n",
      "Epoch 22/100\n",
      "26215/26215 [==============================] - 41s 2ms/step - loss: 0.0031 - rmse: 0.0055 - r2: 0.9998 - mae: 0.0031 - mse: 3.0549e-05 - mape: 1717.3762 - val_loss: 0.0031 - val_rmse: 0.0055 - val_r2: 0.9998 - val_mae: 0.0031 - val_mse: 3.0683e-05 - val_mape: 3026.5144\n",
      "Epoch 23/100\n",
      "26215/26215 [==============================] - 42s 2ms/step - loss: 0.0031 - rmse: 0.0055 - r2: 0.9998 - mae: 0.0031 - mse: 3.0461e-05 - mape: 1735.1852 - val_loss: 0.0031 - val_rmse: 0.0055 - val_r2: 0.9998 - val_mae: 0.0031 - val_mse: 3.0688e-05 - val_mape: 2285.8337\n",
      "Epoch 24/100\n",
      "26215/26215 [==============================] - 41s 2ms/step - loss: 0.0030 - rmse: 0.0055 - r2: 0.9998 - mae: 0.0030 - mse: 3.0389e-05 - mape: 1714.6880 - val_loss: 0.0031 - val_rmse: 0.0055 - val_r2: 0.9998 - val_mae: 0.0031 - val_mse: 3.0643e-05 - val_mape: 1484.6323\n",
      "Epoch 25/100\n",
      "26215/26215 [==============================] - 41s 2ms/step - loss: 0.0030 - rmse: 0.0055 - r2: 0.9998 - mae: 0.0030 - mse: 3.0317e-05 - mape: 1758.0626 - val_loss: 0.0031 - val_rmse: 0.0055 - val_r2: 0.9998 - val_mae: 0.0031 - val_mse: 3.0596e-05 - val_mape: 2206.3354\n",
      "Epoch 26/100\n",
      "26215/26215 [==============================] - 41s 2ms/step - loss: 0.0030 - rmse: 0.0055 - r2: 0.9998 - mae: 0.0030 - mse: 3.0229e-05 - mape: 1745.2998 - val_loss: 0.0031 - val_rmse: 0.0055 - val_r2: 0.9998 - val_mae: 0.0031 - val_mse: 3.0545e-05 - val_mape: 1094.1741\n",
      "Epoch 27/100\n",
      "26215/26215 [==============================] - 42s 2ms/step - loss: 0.0030 - rmse: 0.0055 - r2: 0.9998 - mae: 0.0030 - mse: 3.0123e-05 - mape: 1740.2218 - val_loss: 0.0031 - val_rmse: 0.0055 - val_r2: 0.9998 - val_mae: 0.0031 - val_mse: 3.0477e-05 - val_mape: 1830.8116\n",
      "Epoch 28/100\n",
      "26215/26215 [==============================] - 43s 2ms/step - loss: 0.0030 - rmse: 0.0055 - r2: 0.9998 - mae: 0.0030 - mse: 3.0063e-05 - mape: 1730.0531 - val_loss: 0.0031 - val_rmse: 0.0055 - val_r2: 0.9998 - val_mae: 0.0031 - val_mse: 3.0359e-05 - val_mape: 1525.5565\n",
      "Epoch 29/100\n",
      "26215/26215 [==============================] - 42s 2ms/step - loss: 0.0030 - rmse: 0.0055 - r2: 0.9998 - mae: 0.0030 - mse: 2.9977e-05 - mape: 1719.6715 - val_loss: 0.0031 - val_rmse: 0.0055 - val_r2: 0.9998 - val_mae: 0.0031 - val_mse: 3.0242e-05 - val_mape: 1710.2418\n"
     ]
    },
    {
     "name": "stdout",
     "output_type": "stream",
     "text": [
      "Epoch 30/100\n",
      "26215/26215 [==============================] - 40s 2ms/step - loss: 0.0030 - rmse: 0.0055 - r2: 0.9998 - mae: 0.0030 - mse: 2.9908e-05 - mape: 1729.7467 - val_loss: 0.0031 - val_rmse: 0.0055 - val_r2: 0.9998 - val_mae: 0.0031 - val_mse: 3.0253e-05 - val_mape: 1602.0111\n",
      "Epoch 31/100\n",
      "26215/26215 [==============================] - 40s 2ms/step - loss: 0.0030 - rmse: 0.0055 - r2: 0.9998 - mae: 0.0030 - mse: 2.9831e-05 - mape: 1748.8168 - val_loss: 0.0030 - val_rmse: 0.0055 - val_r2: 0.9998 - val_mae: 0.0030 - val_mse: 3.0269e-05 - val_mape: 1356.2780\n",
      "Epoch 32/100\n",
      "26215/26215 [==============================] - 41s 2ms/step - loss: 0.0030 - rmse: 0.0055 - r2: 0.9998 - mae: 0.0030 - mse: 2.9776e-05 - mape: 1733.2952 - val_loss: 0.0030 - val_rmse: 0.0055 - val_r2: 0.9998 - val_mae: 0.0030 - val_mse: 3.0158e-05 - val_mape: 1849.4725\n",
      "Epoch 33/100\n",
      "26215/26215 [==============================] - 40s 2ms/step - loss: 0.0030 - rmse: 0.0054 - r2: 0.9998 - mae: 0.0030 - mse: 2.9688e-05 - mape: 1749.2476 - val_loss: 0.0030 - val_rmse: 0.0055 - val_r2: 0.9998 - val_mae: 0.0030 - val_mse: 3.0070e-05 - val_mape: 1659.3496\n",
      "Epoch 34/100\n",
      "26215/26215 [==============================] - 40s 2ms/step - loss: 0.0030 - rmse: 0.0054 - r2: 0.9998 - mae: 0.0030 - mse: 2.9633e-05 - mape: 1750.1327 - val_loss: 0.0030 - val_rmse: 0.0055 - val_r2: 0.9998 - val_mae: 0.0030 - val_mse: 2.9961e-05 - val_mape: 1199.2123\n",
      "Epoch 35/100\n",
      "26215/26215 [==============================] - 40s 2ms/step - loss: 0.0030 - rmse: 0.0054 - r2: 0.9998 - mae: 0.0030 - mse: 2.9588e-05 - mape: 1748.1354 - val_loss: 0.0030 - val_rmse: 0.0055 - val_r2: 0.9998 - val_mae: 0.0030 - val_mse: 3.0010e-05 - val_mape: 2561.4321\n",
      "Epoch 36/100\n",
      "26215/26215 [==============================] - 40s 2ms/step - loss: 0.0030 - rmse: 0.0054 - r2: 0.9998 - mae: 0.0030 - mse: 2.9516e-05 - mape: 1754.3806 - val_loss: 0.0030 - val_rmse: 0.0055 - val_r2: 0.9998 - val_mae: 0.0030 - val_mse: 2.9775e-05 - val_mape: 2101.1982\n",
      "Epoch 37/100\n",
      "26215/26215 [==============================] - 40s 2ms/step - loss: 0.0030 - rmse: 0.0054 - r2: 0.9998 - mae: 0.0030 - mse: 2.9463e-05 - mape: 1766.6593 - val_loss: 0.0030 - val_rmse: 0.0055 - val_r2: 0.9998 - val_mae: 0.0030 - val_mse: 2.9768e-05 - val_mape: 1788.9949\n",
      "Epoch 38/100\n",
      "26215/26215 [==============================] - 41s 2ms/step - loss: 0.0030 - rmse: 0.0054 - r2: 0.9998 - mae: 0.0030 - mse: 2.9415e-05 - mape: 1750.7646 - val_loss: 0.0030 - val_rmse: 0.0055 - val_r2: 0.9998 - val_mae: 0.0030 - val_mse: 2.9826e-05 - val_mape: 2309.8948\n",
      "Epoch 39/100\n",
      "26215/26215 [==============================] - 40s 2ms/step - loss: 0.0030 - rmse: 0.0054 - r2: 0.9998 - mae: 0.0030 - mse: 2.9367e-05 - mape: 1708.6600 - val_loss: 0.0030 - val_rmse: 0.0054 - val_r2: 0.9998 - val_mae: 0.0030 - val_mse: 2.9685e-05 - val_mape: 1154.0686\n",
      "Epoch 40/100\n",
      "26215/26215 [==============================] - 40s 2ms/step - loss: 0.0030 - rmse: 0.0054 - r2: 0.9998 - mae: 0.0030 - mse: 2.9327e-05 - mape: 1741.1910 - val_loss: 0.0030 - val_rmse: 0.0054 - val_r2: 0.9998 - val_mae: 0.0030 - val_mse: 2.9638e-05 - val_mape: 1342.8988\n",
      "Epoch 41/100\n",
      "26215/26215 [==============================] - 40s 2ms/step - loss: 0.0030 - rmse: 0.0054 - r2: 0.9998 - mae: 0.0030 - mse: 2.9294e-05 - mape: 1733.9786 - val_loss: 0.0030 - val_rmse: 0.0054 - val_r2: 0.9998 - val_mae: 0.0030 - val_mse: 2.9587e-05 - val_mape: 1479.6500\n",
      "Epoch 42/100\n",
      "26215/26215 [==============================] - 41s 2ms/step - loss: 0.0030 - rmse: 0.0054 - r2: 0.9998 - mae: 0.0030 - mse: 2.9240e-05 - mape: 1741.2457 - val_loss: 0.0030 - val_rmse: 0.0054 - val_r2: 0.9998 - val_mae: 0.0030 - val_mse: 2.9660e-05 - val_mape: 2425.0005\n",
      "Epoch 43/100\n",
      "26215/26215 [==============================] - 40s 2ms/step - loss: 0.0030 - rmse: 0.0054 - r2: 0.9998 - mae: 0.0030 - mse: 2.9175e-05 - mape: 1741.9926 - val_loss: 0.0030 - val_rmse: 0.0054 - val_r2: 0.9998 - val_mae: 0.0030 - val_mse: 2.9476e-05 - val_mape: 2824.9768\n",
      "Epoch 44/100\n",
      "26215/26215 [==============================] - 40s 2ms/step - loss: 0.0030 - rmse: 0.0054 - r2: 0.9998 - mae: 0.0030 - mse: 2.9127e-05 - mape: 1749.5455 - val_loss: 0.0030 - val_rmse: 0.0054 - val_r2: 0.9998 - val_mae: 0.0030 - val_mse: 2.9582e-05 - val_mape: 2163.4009\n",
      "Epoch 45/100\n",
      "26215/26215 [==============================] - 40s 2ms/step - loss: 0.0030 - rmse: 0.0054 - r2: 0.9998 - mae: 0.0030 - mse: 2.9092e-05 - mape: 1762.0176 - val_loss: 0.0030 - val_rmse: 0.0054 - val_r2: 0.9998 - val_mae: 0.0030 - val_mse: 2.9376e-05 - val_mape: 1298.9661\n",
      "Epoch 46/100\n",
      "26215/26215 [==============================] - 40s 2ms/step - loss: 0.0030 - rmse: 0.0054 - r2: 0.9998 - mae: 0.0030 - mse: 2.9049e-05 - mape: 1734.0980 - val_loss: 0.0030 - val_rmse: 0.0054 - val_r2: 0.9998 - val_mae: 0.0030 - val_mse: 2.9432e-05 - val_mape: 1045.6104\n",
      "Epoch 47/100\n",
      "26215/26215 [==============================] - 41s 2ms/step - loss: 0.0030 - rmse: 0.0054 - r2: 0.9998 - mae: 0.0030 - mse: 2.9010e-05 - mape: 1769.7242 - val_loss: 0.0030 - val_rmse: 0.0054 - val_r2: 0.9998 - val_mae: 0.0030 - val_mse: 2.9361e-05 - val_mape: 2264.3599\n",
      "Epoch 48/100\n",
      "26215/26215 [==============================] - 40s 2ms/step - loss: 0.0030 - rmse: 0.0054 - r2: 0.9998 - mae: 0.0030 - mse: 2.8973e-05 - mape: 1760.2001 - val_loss: 0.0030 - val_rmse: 0.0054 - val_r2: 0.9998 - val_mae: 0.0030 - val_mse: 2.9299e-05 - val_mape: 1336.3885\n",
      "Epoch 49/100\n",
      "26215/26215 [==============================] - 40s 2ms/step - loss: 0.0030 - rmse: 0.0054 - r2: 0.9998 - mae: 0.0030 - mse: 2.8924e-05 - mape: 1760.8606 - val_loss: 0.0030 - val_rmse: 0.0054 - val_r2: 0.9998 - val_mae: 0.0030 - val_mse: 2.9465e-05 - val_mape: 2290.4482\n",
      "Epoch 50/100\n",
      "26215/26215 [==============================] - 42s 2ms/step - loss: 0.0030 - rmse: 0.0054 - r2: 0.9998 - mae: 0.0030 - mse: 2.8893e-05 - mape: 1768.2640 - val_loss: 0.0030 - val_rmse: 0.0054 - val_r2: 0.9998 - val_mae: 0.0030 - val_mse: 2.9291e-05 - val_mape: 2001.2528\n",
      "Epoch 51/100\n",
      "26215/26215 [==============================] - 41s 2ms/step - loss: 0.0030 - rmse: 0.0054 - r2: 0.9998 - mae: 0.0030 - mse: 2.8870e-05 - mape: 1743.0409 - val_loss: 0.0030 - val_rmse: 0.0054 - val_r2: 0.9998 - val_mae: 0.0030 - val_mse: 2.9213e-05 - val_mape: 1574.2882\n",
      "Epoch 52/100\n",
      "26215/26215 [==============================] - 40s 2ms/step - loss: 0.0030 - rmse: 0.0054 - r2: 0.9998 - mae: 0.0030 - mse: 2.8835e-05 - mape: 1762.4026 - val_loss: 0.0030 - val_rmse: 0.0054 - val_r2: 0.9998 - val_mae: 0.0030 - val_mse: 2.9154e-05 - val_mape: 2548.8455\n",
      "Epoch 53/100\n",
      "26215/26215 [==============================] - 40s 2ms/step - loss: 0.0030 - rmse: 0.0054 - r2: 0.9998 - mae: 0.0030 - mse: 2.8821e-05 - mape: 1757.7831 - val_loss: 0.0030 - val_rmse: 0.0054 - val_r2: 0.9998 - val_mae: 0.0030 - val_mse: 2.9104e-05 - val_mape: 1968.1803\n",
      "Epoch 54/100\n",
      "26215/26215 [==============================] - 41s 2ms/step - loss: 0.0030 - rmse: 0.0054 - r2: 0.9998 - mae: 0.0030 - mse: 2.8786e-05 - mape: 1738.8655 - val_loss: 0.0030 - val_rmse: 0.0054 - val_r2: 0.9998 - val_mae: 0.0030 - val_mse: 2.9111e-05 - val_mape: 1124.9910\n",
      "Epoch 55/100\n",
      "26215/26215 [==============================] - 41s 2ms/step - loss: 0.0030 - rmse: 0.0054 - r2: 0.9998 - mae: 0.0030 - mse: 2.8760e-05 - mape: 1727.9141 - val_loss: 0.0030 - val_rmse: 0.0054 - val_r2: 0.9998 - val_mae: 0.0030 - val_mse: 2.9021e-05 - val_mape: 1910.5676\n",
      "Epoch 56/100\n",
      "26215/26215 [==============================] - 40s 2ms/step - loss: 0.0030 - rmse: 0.0054 - r2: 0.9998 - mae: 0.0030 - mse: 2.8740e-05 - mape: 1725.1609 - val_loss: 0.0030 - val_rmse: 0.0054 - val_r2: 0.9998 - val_mae: 0.0030 - val_mse: 2.9005e-05 - val_mape: 1826.8517\n",
      "Epoch 57/100\n",
      "26215/26215 [==============================] - 41s 2ms/step - loss: 0.0030 - rmse: 0.0054 - r2: 0.9998 - mae: 0.0030 - mse: 2.8709e-05 - mape: 1751.6261 - val_loss: 0.0030 - val_rmse: 0.0054 - val_r2: 0.9998 - val_mae: 0.0030 - val_mse: 2.9002e-05 - val_mape: 1551.3831\n",
      "Epoch 58/100\n",
      "26215/26215 [==============================] - 42s 2ms/step - loss: 0.0030 - rmse: 0.0054 - r2: 0.9998 - mae: 0.0030 - mse: 2.8675e-05 - mape: 1737.3783 - val_loss: 0.0030 - val_rmse: 0.0054 - val_r2: 0.9998 - val_mae: 0.0030 - val_mse: 2.9007e-05 - val_mape: 2213.6584\n"
     ]
    },
    {
     "name": "stdout",
     "output_type": "stream",
     "text": [
      "Epoch 59/100\n",
      "26215/26215 [==============================] - 40s 2ms/step - loss: 0.0030 - rmse: 0.0054 - r2: 0.9998 - mae: 0.0030 - mse: 2.8663e-05 - mape: 1763.0673 - val_loss: 0.0030 - val_rmse: 0.0054 - val_r2: 0.9998 - val_mae: 0.0030 - val_mse: 2.9065e-05 - val_mape: 1771.5411\n",
      "Epoch 60/100\n",
      "26215/26215 [==============================] - 42s 2ms/step - loss: 0.0030 - rmse: 0.0054 - r2: 0.9998 - mae: 0.0030 - mse: 2.8640e-05 - mape: 1761.0625 - val_loss: 0.0030 - val_rmse: 0.0054 - val_r2: 0.9998 - val_mae: 0.0030 - val_mse: 2.9100e-05 - val_mape: 1672.1493\n",
      "Epoch 61/100\n",
      "26215/26215 [==============================] - 41s 2ms/step - loss: 0.0030 - rmse: 0.0053 - r2: 0.9998 - mae: 0.0030 - mse: 2.8616e-05 - mape: 1727.6700 - val_loss: 0.0030 - val_rmse: 0.0054 - val_r2: 0.9998 - val_mae: 0.0030 - val_mse: 2.8928e-05 - val_mape: 1252.9546\n",
      "Epoch 62/100\n",
      "26215/26215 [==============================] - 40s 2ms/step - loss: 0.0030 - rmse: 0.0053 - r2: 0.9998 - mae: 0.0030 - mse: 2.8585e-05 - mape: 1740.4048 - val_loss: 0.0030 - val_rmse: 0.0054 - val_r2: 0.9998 - val_mae: 0.0030 - val_mse: 2.9112e-05 - val_mape: 1935.7169\n",
      "Epoch 63/100\n",
      "26215/26215 [==============================] - 40s 2ms/step - loss: 0.0030 - rmse: 0.0053 - r2: 0.9998 - mae: 0.0030 - mse: 2.8574e-05 - mape: 1734.7745 - val_loss: 0.0030 - val_rmse: 0.0054 - val_r2: 0.9998 - val_mae: 0.0030 - val_mse: 2.8863e-05 - val_mape: 2220.6157\n",
      "Epoch 64/100\n",
      "26215/26215 [==============================] - 40s 2ms/step - loss: 0.0030 - rmse: 0.0053 - r2: 0.9998 - mae: 0.0030 - mse: 2.8545e-05 - mape: 1756.4447 - val_loss: 0.0030 - val_rmse: 0.0054 - val_r2: 0.9998 - val_mae: 0.0030 - val_mse: 2.8851e-05 - val_mape: 1796.5359\n",
      "Epoch 65/100\n",
      "26215/26215 [==============================] - 40s 2ms/step - loss: 0.0030 - rmse: 0.0053 - r2: 0.9998 - mae: 0.0030 - mse: 2.8533e-05 - mape: 1736.4926 - val_loss: 0.0030 - val_rmse: 0.0054 - val_r2: 0.9998 - val_mae: 0.0030 - val_mse: 2.8934e-05 - val_mape: 2020.4095\n",
      "Epoch 66/100\n",
      "26215/26215 [==============================] - 40s 2ms/step - loss: 0.0030 - rmse: 0.0053 - r2: 0.9998 - mae: 0.0030 - mse: 2.8530e-05 - mape: 1743.8973 - val_loss: 0.0030 - val_rmse: 0.0054 - val_r2: 0.9998 - val_mae: 0.0030 - val_mse: 2.8884e-05 - val_mape: 1628.9756\n",
      "Epoch 67/100\n",
      "26215/26215 [==============================] - 40s 2ms/step - loss: 0.0030 - rmse: 0.0053 - r2: 0.9998 - mae: 0.0030 - mse: 2.8489e-05 - mape: 1762.7539 - val_loss: 0.0030 - val_rmse: 0.0054 - val_r2: 0.9998 - val_mae: 0.0030 - val_mse: 2.9015e-05 - val_mape: 1630.1881\n",
      "Epoch 68/100\n",
      "26215/26215 [==============================] - 40s 2ms/step - loss: 0.0030 - rmse: 0.0053 - r2: 0.9998 - mae: 0.0030 - mse: 2.8479e-05 - mape: 1741.4590 - val_loss: 0.0030 - val_rmse: 0.0054 - val_r2: 0.9998 - val_mae: 0.0030 - val_mse: 2.8811e-05 - val_mape: 1923.7302\n",
      "Epoch 69/100\n",
      "26215/26215 [==============================] - 40s 2ms/step - loss: 0.0030 - rmse: 0.0053 - r2: 0.9998 - mae: 0.0030 - mse: 2.8459e-05 - mape: 1746.6396 - val_loss: 0.0030 - val_rmse: 0.0054 - val_r2: 0.9998 - val_mae: 0.0030 - val_mse: 2.8768e-05 - val_mape: 1715.8618\n",
      "Epoch 70/100\n",
      "26215/26215 [==============================] - 40s 2ms/step - loss: 0.0030 - rmse: 0.0053 - r2: 0.9998 - mae: 0.0030 - mse: 2.8442e-05 - mape: 1741.1624 - val_loss: 0.0030 - val_rmse: 0.0054 - val_r2: 0.9998 - val_mae: 0.0030 - val_mse: 2.8793e-05 - val_mape: 1629.2692\n",
      "Epoch 71/100\n",
      "26215/26215 [==============================] - 40s 2ms/step - loss: 0.0030 - rmse: 0.0053 - r2: 0.9998 - mae: 0.0030 - mse: 2.8408e-05 - mape: 1745.6432 - val_loss: 0.0030 - val_rmse: 0.0054 - val_r2: 0.9998 - val_mae: 0.0030 - val_mse: 2.8827e-05 - val_mape: 1737.0978\n",
      "Epoch 72/100\n",
      "26215/26215 [==============================] - 41s 2ms/step - loss: 0.0030 - rmse: 0.0053 - r2: 0.9998 - mae: 0.0030 - mse: 2.8416e-05 - mape: 1743.2020 - val_loss: 0.0030 - val_rmse: 0.0054 - val_r2: 0.9998 - val_mae: 0.0030 - val_mse: 2.8760e-05 - val_mape: 2149.6050\n",
      "Epoch 73/100\n",
      "26215/26215 [==============================] - 41s 2ms/step - loss: 0.0030 - rmse: 0.0053 - r2: 0.9998 - mae: 0.0030 - mse: 2.8386e-05 - mape: 1741.7026 - val_loss: 0.0030 - val_rmse: 0.0054 - val_r2: 0.9998 - val_mae: 0.0030 - val_mse: 2.8763e-05 - val_mape: 1360.6844\n",
      "Epoch 74/100\n",
      "26215/26215 [==============================] - 40s 2ms/step - loss: 0.0030 - rmse: 0.0053 - r2: 0.9998 - mae: 0.0030 - mse: 2.8375e-05 - mape: 1734.5525 - val_loss: 0.0030 - val_rmse: 0.0054 - val_r2: 0.9998 - val_mae: 0.0030 - val_mse: 2.8832e-05 - val_mape: 2200.5088\n",
      "Epoch 75/100\n",
      "26215/26215 [==============================] - 41s 2ms/step - loss: 0.0030 - rmse: 0.0053 - r2: 0.9998 - mae: 0.0030 - mse: 2.8353e-05 - mape: 1767.2377 - val_loss: 0.0030 - val_rmse: 0.0054 - val_r2: 0.9998 - val_mae: 0.0030 - val_mse: 2.8818e-05 - val_mape: 1001.2581\n",
      "Epoch 76/100\n",
      "26215/26215 [==============================] - 41s 2ms/step - loss: 0.0030 - rmse: 0.0053 - r2: 0.9998 - mae: 0.0030 - mse: 2.8337e-05 - mape: 1707.3118 - val_loss: 0.0030 - val_rmse: 0.0054 - val_r2: 0.9998 - val_mae: 0.0030 - val_mse: 2.8708e-05 - val_mape: 2580.4475\n",
      "Epoch 77/100\n",
      "26215/26215 [==============================] - 40s 2ms/step - loss: 0.0030 - rmse: 0.0053 - r2: 0.9998 - mae: 0.0030 - mse: 2.8321e-05 - mape: 1739.0015 - val_loss: 0.0030 - val_rmse: 0.0054 - val_r2: 0.9998 - val_mae: 0.0030 - val_mse: 2.8676e-05 - val_mape: 1911.0974\n",
      "Epoch 78/100\n",
      "26215/26215 [==============================] - 40s 2ms/step - loss: 0.0030 - rmse: 0.0053 - r2: 0.9998 - mae: 0.0030 - mse: 2.8304e-05 - mape: 1751.5215 - val_loss: 0.0030 - val_rmse: 0.0054 - val_r2: 0.9998 - val_mae: 0.0030 - val_mse: 2.8641e-05 - val_mape: 2085.5813\n",
      "Epoch 79/100\n",
      "26215/26215 [==============================] - 41s 2ms/step - loss: 0.0030 - rmse: 0.0053 - r2: 0.9998 - mae: 0.0030 - mse: 2.8295e-05 - mape: 1750.5986 - val_loss: 0.0030 - val_rmse: 0.0054 - val_r2: 0.9998 - val_mae: 0.0030 - val_mse: 2.8633e-05 - val_mape: 1832.6600\n",
      "Epoch 79: early stopping\n",
      "CPU times: total: 1h 39min 35s\n",
      "Wall time: 53min 55s\n"
     ]
    }
   ],
   "source": [
    "%%time\n",
    "tf.random.set_seed(42)\n",
    "\n",
    "model_2 = tf.keras.Sequential([tf.keras.layers.Dense(150,activation = 'linear'),\n",
    "                               tf.keras.layers.Dense(100,activation = 'relu'),\n",
    "                               tf.keras.layers.Dense(50),\n",
    "                               tf.keras.layers.Dense(20),\n",
    "                               tf.keras.layers.Dense(1)])\n",
    "\n",
    "model_2.compile(loss = tf.keras.losses.mae,\n",
    "                optimizer = tf.keras.optimizers.legacy.Adam(learning_rate=0.001,decay=0.001),\n",
    "                metrics=[tf.keras.metrics.RootMeanSquaredError(name='rmse'),\n",
    "                         tfa.metrics.RSquare(name='r2'),'mae','mse','mape'])\n",
    "\n",
    "history_2 = model_2.fit(X_train,Y_train, epochs= 100,batch_size=32,validation_data=(X_test,Y_test), callbacks = callback)"
   ]
  },
  {
   "cell_type": "code",
   "execution_count": 20,
   "id": "06e7fdc4",
   "metadata": {},
   "outputs": [
    {
     "data": {
      "image/png": "[encoded data removed]",
      "text/plain": [
       "<Figure size 640x480 with 1 Axes>"
      ]
     },
     "metadata": {},
     "output_type": "display_data"
    }
   ],
   "source": [
    "plot_his(history_2)"
   ]
  },
  {
   "cell_type": "code",
   "execution_count": 21,
   "id": "b766a6db",
   "metadata": {},
   "outputs": [
    {
     "name": "stdout",
     "output_type": "stream",
     "text": [
      "6554/6554 [==============================] - 6s 983us/step - loss: 0.0030 - rmse: 0.0054 - r2: 0.9998 - mae: 0.0030 - mse: 2.8633e-05 - mape: 1832.6600\n"
     ]
    },
    {
     "data": {
      "text/plain": [
       "[0.0029851431027054787,\n",
       " 0.005350963678210974,\n",
       " 0.9997706413269043,\n",
       " 0.0029851431027054787,\n",
       " 2.8632814064621925e-05,\n",
       " 1832.6600341796875]"
      ]
     },
     "execution_count": 21,
     "metadata": {},
     "output_type": "execute_result"
    }
   ],
   "source": [
    "model_2.evaluate(X_test,Y_test)"
   ]
  },
  {
   "cell_type": "code",
   "execution_count": 22,
   "id": "9277cb84",
   "metadata": {},
   "outputs": [
    {
     "name": "stdout",
     "output_type": "stream",
     "text": [
      "6554/6554 [==============================] - 5s 696us/step\n"
     ]
    }
   ],
   "source": [
    "Y_pred_2 = model_2.predict(X_test)"
   ]
  },
  {
   "cell_type": "code",
   "execution_count": 23,
   "id": "c49e4c99",
   "metadata": {},
   "outputs": [
    {
     "name": "stdout",
     "output_type": "stream",
     "text": [
      "Model: \"sequential_1\"\n",
      "_________________________________________________________________\n",
      " Layer (type)                Output Shape              Param #   \n",
      "=================================================================\n",
      " dense_5 (Dense)             (None, 150)               600       \n",
      "                                                                 \n",
      " dense_6 (Dense)             (None, 100)               15100     \n",
      "                                                                 \n",
      " dense_7 (Dense)             (None, 50)                5050      \n",
      "                                                                 \n",
      " dense_8 (Dense)             (None, 20)                1020      \n",
      "                                                                 \n",
      " dense_9 (Dense)             (None, 1)                 21        \n",
      "                                                                 \n",
      "=================================================================\n",
      "Total params: 21,791\n",
      "Trainable params: 21,791\n",
      "Non-trainable params: 0\n",
      "_________________________________________________________________\n"
     ]
    }
   ],
   "source": [
    "model_2.summary()"
   ]
  },
  {
   "cell_type": "code",
   "execution_count": 24,
   "id": "bb95cc40",
   "metadata": {},
   "outputs": [
    {
     "name": "stdout",
     "output_type": "stream",
     "text": [
      "AIC:  43580.836\n"
     ]
    }
   ],
   "source": [
    "AIC_value(model_2,Y_pred_2,Y_test)"
   ]
  },
  {
   "cell_type": "code",
   "execution_count": 25,
   "id": "510e1f91",
   "metadata": {},
   "outputs": [],
   "source": [
    "model_2.save('Saved_models/model_2_SOCesti.h5')"
   ]
  },
  {
   "cell_type": "code",
   "execution_count": null,
   "id": "6ee75d98",
   "metadata": {},
   "outputs": [],
   "source": []
  },
  {
   "cell_type": "code",
   "execution_count": null,
   "id": "9120ec5c",
   "metadata": {},
   "outputs": [],
   "source": []
  },
  {
   "cell_type": "code",
   "execution_count": null,
   "id": "cef5019b",
   "metadata": {},
   "outputs": [],
   "source": []
  },
  {
   "cell_type": "code",
   "execution_count": 17,
   "id": "8c6583bc",
   "metadata": {},
   "outputs": [
    {
     "name": "stdout",
     "output_type": "stream",
     "text": [
      "Epoch 1/100\n",
      "26215/26215 [==============================] - 56s 2ms/step - loss: 0.0050 - rmse: 0.0152 - r2: 0.9982 - mae: 0.0050 - mse: 2.3036e-04 - mape: 6977.3564 - val_loss: 0.0035 - val_rmse: 0.0064 - val_r2: 0.9997 - val_mae: 0.0035 - val_mse: 4.0460e-05 - val_mape: 1834.8958\n",
      "Epoch 2/100\n",
      "26215/26215 [==============================] - 56s 2ms/step - loss: 0.0033 - rmse: 0.0062 - r2: 0.9997 - mae: 0.0033 - mse: 3.8242e-05 - mape: 2450.5388 - val_loss: 0.0032 - val_rmse: 0.0061 - val_r2: 0.9997 - val_mae: 0.0032 - val_mse: 3.7131e-05 - val_mape: 3209.2520\n",
      "Epoch 3/100\n",
      "26215/26215 [==============================] - 58s 2ms/step - loss: 0.0032 - rmse: 0.0060 - r2: 0.9997 - mae: 0.0032 - mse: 3.6456e-05 - mape: 2156.2080 - val_loss: 0.0031 - val_rmse: 0.0060 - val_r2: 0.9997 - val_mae: 0.0031 - val_mse: 3.5641e-05 - val_mape: 2336.3733\n",
      "Epoch 4/100\n",
      "26215/26215 [==============================] - 54s 2ms/step - loss: 0.0031 - rmse: 0.0060 - r2: 0.9997 - mae: 0.0031 - mse: 3.5591e-05 - mape: 1845.0630 - val_loss: 0.0030 - val_rmse: 0.0059 - val_r2: 0.9997 - val_mae: 0.0030 - val_mse: 3.5066e-05 - val_mape: 1296.8914\n",
      "Epoch 5/100\n",
      "26215/26215 [==============================] - 57s 2ms/step - loss: 0.0031 - rmse: 0.0059 - r2: 0.9997 - mae: 0.0031 - mse: 3.4909e-05 - mape: 1586.3562 - val_loss: 0.0030 - val_rmse: 0.0059 - val_r2: 0.9997 - val_mae: 0.0030 - val_mse: 3.4456e-05 - val_mape: 1426.0900\n",
      "Epoch 6/100\n",
      "26215/26215 [==============================] - 55s 2ms/step - loss: 0.0030 - rmse: 0.0059 - r2: 0.9997 - mae: 0.0030 - mse: 3.4399e-05 - mape: 1437.9435 - val_loss: 0.0030 - val_rmse: 0.0058 - val_r2: 0.9997 - val_mae: 0.0030 - val_mse: 3.3703e-05 - val_mape: 1265.2274\n",
      "Epoch 7/100\n",
      "26215/26215 [==============================] - 56s 2ms/step - loss: 0.0030 - rmse: 0.0058 - r2: 0.9997 - mae: 0.0030 - mse: 3.4011e-05 - mape: 1292.1191 - val_loss: 0.0030 - val_rmse: 0.0058 - val_r2: 0.9997 - val_mae: 0.0030 - val_mse: 3.3382e-05 - val_mape: 1701.9459\n",
      "Epoch 8/100\n",
      "26215/26215 [==============================] - 55s 2ms/step - loss: 0.0030 - rmse: 0.0058 - r2: 0.9997 - mae: 0.0030 - mse: 3.3686e-05 - mape: 1235.5066 - val_loss: 0.0030 - val_rmse: 0.0058 - val_r2: 0.9997 - val_mae: 0.0030 - val_mse: 3.3163e-05 - val_mape: 2062.1721\n",
      "Epoch 9/100\n",
      "26215/26215 [==============================] - 55s 2ms/step - loss: 0.0030 - rmse: 0.0058 - r2: 0.9997 - mae: 0.0030 - mse: 3.3434e-05 - mape: 1112.8545 - val_loss: 0.0030 - val_rmse: 0.0057 - val_r2: 0.9997 - val_mae: 0.0030 - val_mse: 3.2848e-05 - val_mape: 946.6711\n",
      "Epoch 10/100\n",
      "26215/26215 [==============================] - 55s 2ms/step - loss: 0.0030 - rmse: 0.0058 - r2: 0.9997 - mae: 0.0030 - mse: 3.3164e-05 - mape: 1102.6444 - val_loss: 0.0030 - val_rmse: 0.0057 - val_r2: 0.9997 - val_mae: 0.0030 - val_mse: 3.2912e-05 - val_mape: 1080.6176\n",
      "Epoch 11/100\n",
      "26215/26215 [==============================] - 56s 2ms/step - loss: 0.0030 - rmse: 0.0057 - r2: 0.9997 - mae: 0.0030 - mse: 3.2936e-05 - mape: 1051.3391 - val_loss: 0.0029 - val_rmse: 0.0057 - val_r2: 0.9997 - val_mae: 0.0029 - val_mse: 3.2482e-05 - val_mape: 882.6149\n",
      "Epoch 12/100\n",
      "26215/26215 [==============================] - 56s 2ms/step - loss: 0.0029 - rmse: 0.0057 - r2: 0.9997 - mae: 0.0029 - mse: 3.2752e-05 - mape: 1001.6313 - val_loss: 0.0029 - val_rmse: 0.0057 - val_r2: 0.9997 - val_mae: 0.0029 - val_mse: 3.2279e-05 - val_mape: 1076.5688\n",
      "Epoch 13/100\n",
      "26215/26215 [==============================] - 56s 2ms/step - loss: 0.0029 - rmse: 0.0057 - r2: 0.9997 - mae: 0.0029 - mse: 3.2545e-05 - mape: 975.0729 - val_loss: 0.0029 - val_rmse: 0.0057 - val_r2: 0.9997 - val_mae: 0.0029 - val_mse: 3.2104e-05 - val_mape: 843.5903\n",
      "Epoch 14/100\n",
      "26215/26215 [==============================] - 59s 2ms/step - loss: 0.0029 - rmse: 0.0057 - r2: 0.9997 - mae: 0.0029 - mse: 3.2356e-05 - mape: 931.8063 - val_loss: 0.0029 - val_rmse: 0.0057 - val_r2: 0.9997 - val_mae: 0.0029 - val_mse: 3.1951e-05 - val_mape: 782.0872\n",
      "Epoch 15/100\n",
      "26215/26215 [==============================] - 79s 3ms/step - loss: 0.0029 - rmse: 0.0057 - r2: 0.9997 - mae: 0.0029 - mse: 3.2212e-05 - mape: 912.4119 - val_loss: 0.0029 - val_rmse: 0.0057 - val_r2: 0.9997 - val_mae: 0.0029 - val_mse: 3.2089e-05 - val_mape: 928.5762\n",
      "Epoch 16/100\n",
      "26215/26215 [==============================] - 100s 4ms/step - loss: 0.0029 - rmse: 0.0057 - r2: 0.9997 - mae: 0.0029 - mse: 3.2050e-05 - mape: 885.2283 - val_loss: 0.0029 - val_rmse: 0.0056 - val_r2: 0.9997 - val_mae: 0.0029 - val_mse: 3.1745e-05 - val_mape: 799.6394\n",
      "Epoch 17/100\n",
      "26215/26215 [==============================] - 101s 4ms/step - loss: 0.0029 - rmse: 0.0057 - r2: 0.9997 - mae: 0.0029 - mse: 3.1925e-05 - mape: 860.5759 - val_loss: 0.0029 - val_rmse: 0.0056 - val_r2: 0.9997 - val_mae: 0.0029 - val_mse: 3.1651e-05 - val_mape: 1008.9077\n",
      "Epoch 18/100\n",
      "26215/26215 [==============================] - 108s 4ms/step - loss: 0.0029 - rmse: 0.0056 - r2: 0.9997 - mae: 0.0029 - mse: 3.1781e-05 - mape: 843.4372 - val_loss: 0.0029 - val_rmse: 0.0056 - val_r2: 0.9997 - val_mae: 0.0029 - val_mse: 3.1558e-05 - val_mape: 816.8206\n",
      "Epoch 19/100\n",
      "26215/26215 [==============================] - 104s 4ms/step - loss: 0.0029 - rmse: 0.0056 - r2: 0.9997 - mae: 0.0029 - mse: 3.1685e-05 - mape: 838.3210 - val_loss: 0.0029 - val_rmse: 0.0056 - val_r2: 0.9997 - val_mae: 0.0029 - val_mse: 3.1555e-05 - val_mape: 865.0522\n",
      "Epoch 20/100\n",
      "26215/26215 [==============================] - 61s 2ms/step - loss: 0.0029 - rmse: 0.0056 - r2: 0.9997 - mae: 0.0029 - mse: 3.1564e-05 - mape: 796.2900 - val_loss: 0.0029 - val_rmse: 0.0056 - val_r2: 0.9997 - val_mae: 0.0029 - val_mse: 3.1276e-05 - val_mape: 1087.5671\n",
      "Epoch 21/100\n",
      "26215/26215 [==============================] - 54s 2ms/step - loss: 0.0029 - rmse: 0.0056 - r2: 0.9997 - mae: 0.0029 - mse: 3.1464e-05 - mape: 799.4536 - val_loss: 0.0029 - val_rmse: 0.0056 - val_r2: 0.9998 - val_mae: 0.0029 - val_mse: 3.1147e-05 - val_mape: 804.3897\n",
      "Epoch 22/100\n",
      "26215/26215 [==============================] - 54s 2ms/step - loss: 0.0029 - rmse: 0.0056 - r2: 0.9997 - mae: 0.0029 - mse: 3.1370e-05 - mape: 783.3098 - val_loss: 0.0029 - val_rmse: 0.0056 - val_r2: 0.9998 - val_mae: 0.0029 - val_mse: 3.1056e-05 - val_mape: 819.6646\n",
      "Epoch 23/100\n",
      "26215/26215 [==============================] - 53s 2ms/step - loss: 0.0029 - rmse: 0.0056 - r2: 0.9997 - mae: 0.0029 - mse: 3.1280e-05 - mape: 766.1793 - val_loss: 0.0029 - val_rmse: 0.0056 - val_r2: 0.9998 - val_mae: 0.0029 - val_mse: 3.1158e-05 - val_mape: 784.9261\n",
      "Epoch 24/100\n",
      "26215/26215 [==============================] - 52s 2ms/step - loss: 0.0029 - rmse: 0.0056 - r2: 0.9998 - mae: 0.0029 - mse: 3.1188e-05 - mape: 779.6765 - val_loss: 0.0029 - val_rmse: 0.0056 - val_r2: 0.9998 - val_mae: 0.0029 - val_mse: 3.1001e-05 - val_mape: 759.1978\n",
      "Epoch 25/100\n",
      "26215/26215 [==============================] - 57s 2ms/step - loss: 0.0029 - rmse: 0.0056 - r2: 0.9998 - mae: 0.0029 - mse: 3.1131e-05 - mape: 741.0126 - val_loss: 0.0029 - val_rmse: 0.0056 - val_r2: 0.9998 - val_mae: 0.0029 - val_mse: 3.1026e-05 - val_mape: 728.9490\n",
      "Epoch 26/100\n",
      "26215/26215 [==============================] - 52s 2ms/step - loss: 0.0029 - rmse: 0.0056 - r2: 0.9998 - mae: 0.0029 - mse: 3.1026e-05 - mape: 741.0844 - val_loss: 0.0029 - val_rmse: 0.0056 - val_r2: 0.9998 - val_mae: 0.0029 - val_mse: 3.0873e-05 - val_mape: 762.7327\n",
      "Epoch 27/100\n",
      "26215/26215 [==============================] - 57s 2ms/step - loss: 0.0029 - rmse: 0.0056 - r2: 0.9998 - mae: 0.0029 - mse: 3.0976e-05 - mape: 743.9404 - val_loss: 0.0029 - val_rmse: 0.0056 - val_r2: 0.9998 - val_mae: 0.0029 - val_mse: 3.0952e-05 - val_mape: 719.3347\n",
      "Epoch 28/100\n",
      "26215/26215 [==============================] - 58s 2ms/step - loss: 0.0029 - rmse: 0.0056 - r2: 0.9998 - mae: 0.0029 - mse: 3.0905e-05 - mape: 730.8645 - val_loss: 0.0029 - val_rmse: 0.0055 - val_r2: 0.9998 - val_mae: 0.0029 - val_mse: 3.0629e-05 - val_mape: 895.6119\n",
      "Epoch 29/100\n",
      "26215/26215 [==============================] - 52s 2ms/step - loss: 0.0029 - rmse: 0.0056 - r2: 0.9998 - mae: 0.0029 - mse: 3.0804e-05 - mape: 723.7366 - val_loss: 0.0029 - val_rmse: 0.0055 - val_r2: 0.9998 - val_mae: 0.0029 - val_mse: 3.0663e-05 - val_mape: 702.1040\n",
      "Epoch 30/100\n",
      "26215/26215 [==============================] - 50s 2ms/step - loss: 0.0029 - rmse: 0.0055 - r2: 0.9998 - mae: 0.0029 - mse: 3.0756e-05 - mape: 718.0367 - val_loss: 0.0029 - val_rmse: 0.0055 - val_r2: 0.9998 - val_mae: 0.0029 - val_mse: 3.0727e-05 - val_mape: 711.8595\n",
      "Epoch 31/100\n",
      "26215/26215 [==============================] - 48s 2ms/step - loss: 0.0029 - rmse: 0.0055 - r2: 0.9998 - mae: 0.0029 - mse: 3.0692e-05 - mape: 719.9706 - val_loss: 0.0029 - val_rmse: 0.0055 - val_r2: 0.9998 - val_mae: 0.0029 - val_mse: 3.0467e-05 - val_mape: 669.3487\n",
      "Epoch 32/100\n",
      "26215/26215 [==============================] - 47s 2ms/step - loss: 0.0029 - rmse: 0.0055 - r2: 0.9998 - mae: 0.0029 - mse: 3.0639e-05 - mape: 711.8762 - val_loss: 0.0029 - val_rmse: 0.0055 - val_r2: 0.9998 - val_mae: 0.0029 - val_mse: 3.0454e-05 - val_mape: 677.6442\n",
      "Epoch 33/100\n",
      "26215/26215 [==============================] - 48s 2ms/step - loss: 0.0029 - rmse: 0.0055 - r2: 0.9998 - mae: 0.0029 - mse: 3.0539e-05 - mape: 697.5920 - val_loss: 0.0029 - val_rmse: 0.0055 - val_r2: 0.9998 - val_mae: 0.0029 - val_mse: 3.0558e-05 - val_mape: 738.2433\n",
      "Epoch 34/100\n",
      "26215/26215 [==============================] - 44s 2ms/step - loss: 0.0029 - rmse: 0.0055 - r2: 0.9998 - mae: 0.0029 - mse: 3.0530e-05 - mape: 698.8591 - val_loss: 0.0029 - val_rmse: 0.0055 - val_r2: 0.9998 - val_mae: 0.0029 - val_mse: 3.0330e-05 - val_mape: 737.0372\n",
      "Epoch 35/100\n",
      "26215/26215 [==============================] - 46s 2ms/step - loss: 0.0029 - rmse: 0.0055 - r2: 0.9998 - mae: 0.0029 - mse: 3.0472e-05 - mape: 689.7265 - val_loss: 0.0029 - val_rmse: 0.0055 - val_r2: 0.9998 - val_mae: 0.0029 - val_mse: 3.0293e-05 - val_mape: 692.9573\n",
      "Epoch 36/100\n",
      "26215/26215 [==============================] - 46s 2ms/step - loss: 0.0029 - rmse: 0.0055 - r2: 0.9998 - mae: 0.0029 - mse: 3.0398e-05 - mape: 681.1741 - val_loss: 0.0028 - val_rmse: 0.0055 - val_r2: 0.9998 - val_mae: 0.0028 - val_mse: 3.0294e-05 - val_mape: 737.7273\n",
      "Epoch 37/100\n",
      "26215/26215 [==============================] - 50s 2ms/step - loss: 0.0028 - rmse: 0.0055 - r2: 0.9998 - mae: 0.0028 - mse: 3.0347e-05 - mape: 671.3481 - val_loss: 0.0028 - val_rmse: 0.0055 - val_r2: 0.9998 - val_mae: 0.0028 - val_mse: 3.0344e-05 - val_mape: 738.6219\n",
      "Epoch 38/100\n",
      "26215/26215 [==============================] - 48s 2ms/step - loss: 0.0028 - rmse: 0.0055 - r2: 0.9998 - mae: 0.0028 - mse: 3.0303e-05 - mape: 666.6912 - val_loss: 0.0028 - val_rmse: 0.0055 - val_r2: 0.9998 - val_mae: 0.0028 - val_mse: 3.0140e-05 - val_mape: 653.6838\n",
      "Epoch 39/100\n",
      "26215/26215 [==============================] - 53s 2ms/step - loss: 0.0028 - rmse: 0.0055 - r2: 0.9998 - mae: 0.0028 - mse: 3.0269e-05 - mape: 651.6108 - val_loss: 0.0029 - val_rmse: 0.0055 - val_r2: 0.9998 - val_mae: 0.0029 - val_mse: 3.0190e-05 - val_mape: 708.5241\n",
      "Epoch 40/100\n",
      "26215/26215 [==============================] - 52s 2ms/step - loss: 0.0028 - rmse: 0.0055 - r2: 0.9998 - mae: 0.0028 - mse: 3.0212e-05 - mape: 661.7377 - val_loss: 0.0028 - val_rmse: 0.0055 - val_r2: 0.9998 - val_mae: 0.0028 - val_mse: 3.0112e-05 - val_mape: 687.4598\n",
      "Epoch 41/100\n",
      "26215/26215 [==============================] - 48s 2ms/step - loss: 0.0028 - rmse: 0.0055 - r2: 0.9998 - mae: 0.0028 - mse: 3.0196e-05 - mape: 658.2878 - val_loss: 0.0028 - val_rmse: 0.0055 - val_r2: 0.9998 - val_mae: 0.0028 - val_mse: 3.0039e-05 - val_mape: 627.9285\n",
      "Epoch 42/100\n",
      "26215/26215 [==============================] - 47s 2ms/step - loss: 0.0028 - rmse: 0.0055 - r2: 0.9998 - mae: 0.0028 - mse: 3.0140e-05 - mape: 647.8878 - val_loss: 0.0029 - val_rmse: 0.0055 - val_r2: 0.9998 - val_mae: 0.0029 - val_mse: 3.0124e-05 - val_mape: 659.9303\n",
      "Epoch 43/100\n",
      "26215/26215 [==============================] - 60s 2ms/step - loss: 0.0028 - rmse: 0.0055 - r2: 0.9998 - mae: 0.0028 - mse: 3.0108e-05 - mape: 643.0568 - val_loss: 0.0028 - val_rmse: 0.0055 - val_r2: 0.9998 - val_mae: 0.0028 - val_mse: 2.9975e-05 - val_mape: 661.1395\n",
      "Epoch 44/100\n",
      "26215/26215 [==============================] - 53s 2ms/step - loss: 0.0028 - rmse: 0.0055 - r2: 0.9998 - mae: 0.0028 - mse: 3.0069e-05 - mape: 629.2079 - val_loss: 0.0028 - val_rmse: 0.0055 - val_r2: 0.9998 - val_mae: 0.0028 - val_mse: 2.9982e-05 - val_mape: 641.9553\n",
      "Epoch 45/100\n",
      "26215/26215 [==============================] - 47s 2ms/step - loss: 0.0028 - rmse: 0.0055 - r2: 0.9998 - mae: 0.0028 - mse: 3.0044e-05 - mape: 631.5726 - val_loss: 0.0028 - val_rmse: 0.0055 - val_r2: 0.9998 - val_mae: 0.0028 - val_mse: 2.9933e-05 - val_mape: 664.4811\n",
      "Epoch 46/100\n",
      "26215/26215 [==============================] - 50s 2ms/step - loss: 0.0028 - rmse: 0.0055 - r2: 0.9998 - mae: 0.0028 - mse: 2.9995e-05 - mape: 626.3055 - val_loss: 0.0028 - val_rmse: 0.0055 - val_r2: 0.9998 - val_mae: 0.0028 - val_mse: 2.9908e-05 - val_mape: 629.3889\n",
      "Epoch 47/100\n",
      "26215/26215 [==============================] - 60s 2ms/step - loss: 0.0028 - rmse: 0.0055 - r2: 0.9998 - mae: 0.0028 - mse: 2.9947e-05 - mape: 614.3498 - val_loss: 0.0028 - val_rmse: 0.0055 - val_r2: 0.9998 - val_mae: 0.0028 - val_mse: 2.9862e-05 - val_mape: 704.5074\n",
      "Epoch 48/100\n",
      "26215/26215 [==============================] - 62s 2ms/step - loss: 0.0028 - rmse: 0.0055 - r2: 0.9998 - mae: 0.0028 - mse: 2.9941e-05 - mape: 605.5817 - val_loss: 0.0028 - val_rmse: 0.0055 - val_r2: 0.9998 - val_mae: 0.0028 - val_mse: 2.9784e-05 - val_mape: 616.7087\n",
      "Epoch 49/100\n",
      "26215/26215 [==============================] - 61s 2ms/step - loss: 0.0028 - rmse: 0.0055 - r2: 0.9998 - mae: 0.0028 - mse: 2.9899e-05 - mape: 603.6831 - val_loss: 0.0028 - val_rmse: 0.0055 - val_r2: 0.9998 - val_mae: 0.0028 - val_mse: 2.9832e-05 - val_mape: 676.8235\n",
      "Epoch 50/100\n",
      "26215/26215 [==============================] - 41s 2ms/step - loss: 0.0028 - rmse: 0.0055 - r2: 0.9998 - mae: 0.0028 - mse: 2.9868e-05 - mape: 597.2676 - val_loss: 0.0028 - val_rmse: 0.0055 - val_r2: 0.9998 - val_mae: 0.0028 - val_mse: 2.9828e-05 - val_mape: 783.8807\n",
      "Epoch 51/100\n",
      "26215/26215 [==============================] - 40s 2ms/step - loss: 0.0028 - rmse: 0.0055 - r2: 0.9998 - mae: 0.0028 - mse: 2.9840e-05 - mape: 591.4600 - val_loss: 0.0028 - val_rmse: 0.0055 - val_r2: 0.9998 - val_mae: 0.0028 - val_mse: 2.9738e-05 - val_mape: 640.5695\n",
      "Epoch 52/100\n",
      "26215/26215 [==============================] - 38s 1ms/step - loss: 0.0028 - rmse: 0.0055 - r2: 0.9998 - mae: 0.0028 - mse: 2.9812e-05 - mape: 592.9017 - val_loss: 0.0028 - val_rmse: 0.0055 - val_r2: 0.9998 - val_mae: 0.0028 - val_mse: 2.9762e-05 - val_mape: 662.6312\n",
      "Epoch 53/100\n",
      "26215/26215 [==============================] - 36s 1ms/step - loss: 0.0028 - rmse: 0.0055 - r2: 0.9998 - mae: 0.0028 - mse: 2.9787e-05 - mape: 589.0112 - val_loss: 0.0028 - val_rmse: 0.0055 - val_r2: 0.9998 - val_mae: 0.0028 - val_mse: 2.9724e-05 - val_mape: 609.5945\n",
      "Epoch 54/100\n",
      "26215/26215 [==============================] - 37s 1ms/step - loss: 0.0028 - rmse: 0.0055 - r2: 0.9998 - mae: 0.0028 - mse: 2.9751e-05 - mape: 585.7842 - val_loss: 0.0028 - val_rmse: 0.0054 - val_r2: 0.9998 - val_mae: 0.0028 - val_mse: 2.9699e-05 - val_mape: 612.4979\n",
      "Epoch 55/100\n",
      "26215/26215 [==============================] - 36s 1ms/step - loss: 0.0028 - rmse: 0.0055 - r2: 0.9998 - mae: 0.0028 - mse: 2.9720e-05 - mape: 589.7476 - val_loss: 0.0028 - val_rmse: 0.0055 - val_r2: 0.9998 - val_mae: 0.0028 - val_mse: 2.9713e-05 - val_mape: 645.9293\n",
      "Epoch 56/100\n",
      "26215/26215 [==============================] - 36s 1ms/step - loss: 0.0028 - rmse: 0.0055 - r2: 0.9998 - mae: 0.0028 - mse: 2.9709e-05 - mape: 578.5408 - val_loss: 0.0028 - val_rmse: 0.0054 - val_r2: 0.9998 - val_mae: 0.0028 - val_mse: 2.9639e-05 - val_mape: 590.3492\n",
      "Epoch 57/100\n",
      "26215/26215 [==============================] - 37s 1ms/step - loss: 0.0028 - rmse: 0.0054 - r2: 0.9998 - mae: 0.0028 - mse: 2.9664e-05 - mape: 594.5869 - val_loss: 0.0028 - val_rmse: 0.0054 - val_r2: 0.9998 - val_mae: 0.0028 - val_mse: 2.9628e-05 - val_mape: 604.9333\n",
      "Epoch 58/100\n",
      "26215/26215 [==============================] - 36s 1ms/step - loss: 0.0028 - rmse: 0.0054 - r2: 0.9998 - mae: 0.0028 - mse: 2.9647e-05 - mape: 574.6534 - val_loss: 0.0028 - val_rmse: 0.0054 - val_r2: 0.9998 - val_mae: 0.0028 - val_mse: 2.9634e-05 - val_mape: 699.2882\n",
      "Epoch 59/100\n"
     ]
    },
    {
     "name": "stdout",
     "output_type": "stream",
     "text": [
      "26215/26215 [==============================] - 36s 1ms/step - loss: 0.0028 - rmse: 0.0054 - r2: 0.9998 - mae: 0.0028 - mse: 2.9626e-05 - mape: 577.8306 - val_loss: 0.0028 - val_rmse: 0.0054 - val_r2: 0.9998 - val_mae: 0.0028 - val_mse: 2.9675e-05 - val_mape: 640.7665\n",
      "Epoch 60/100\n",
      "26215/26215 [==============================] - 37s 1ms/step - loss: 0.0028 - rmse: 0.0054 - r2: 0.9998 - mae: 0.0028 - mse: 2.9613e-05 - mape: 576.5374 - val_loss: 0.0028 - val_rmse: 0.0054 - val_r2: 0.9998 - val_mae: 0.0028 - val_mse: 2.9490e-05 - val_mape: 793.7847\n",
      "Epoch 61/100\n",
      "26215/26215 [==============================] - 36s 1ms/step - loss: 0.0028 - rmse: 0.0054 - r2: 0.9998 - mae: 0.0028 - mse: 2.9576e-05 - mape: 572.6642 - val_loss: 0.0028 - val_rmse: 0.0054 - val_r2: 0.9998 - val_mae: 0.0028 - val_mse: 2.9477e-05 - val_mape: 559.6459\n",
      "Epoch 62/100\n",
      "26215/26215 [==============================] - 37s 1ms/step - loss: 0.0028 - rmse: 0.0054 - r2: 0.9998 - mae: 0.0028 - mse: 2.9553e-05 - mape: 571.5429 - val_loss: 0.0028 - val_rmse: 0.0054 - val_r2: 0.9998 - val_mae: 0.0028 - val_mse: 2.9493e-05 - val_mape: 612.5435\n",
      "Epoch 63/100\n",
      "26215/26215 [==============================] - 37s 1ms/step - loss: 0.0028 - rmse: 0.0054 - r2: 0.9998 - mae: 0.0028 - mse: 2.9531e-05 - mape: 566.6436 - val_loss: 0.0028 - val_rmse: 0.0054 - val_r2: 0.9998 - val_mae: 0.0028 - val_mse: 2.9486e-05 - val_mape: 612.5192\n",
      "Epoch 64/100\n",
      "26215/26215 [==============================] - 36s 1ms/step - loss: 0.0028 - rmse: 0.0054 - r2: 0.9998 - mae: 0.0028 - mse: 2.9503e-05 - mape: 556.8892 - val_loss: 0.0028 - val_rmse: 0.0054 - val_r2: 0.9998 - val_mae: 0.0028 - val_mse: 2.9458e-05 - val_mape: 635.2605\n",
      "Epoch 65/100\n",
      "26215/26215 [==============================] - 37s 1ms/step - loss: 0.0028 - rmse: 0.0054 - r2: 0.9998 - mae: 0.0028 - mse: 2.9497e-05 - mape: 564.5272 - val_loss: 0.0028 - val_rmse: 0.0054 - val_r2: 0.9998 - val_mae: 0.0028 - val_mse: 2.9491e-05 - val_mape: 709.2758\n",
      "Epoch 66/100\n",
      "26215/26215 [==============================] - 38s 1ms/step - loss: 0.0028 - rmse: 0.0054 - r2: 0.9998 - mae: 0.0028 - mse: 2.9471e-05 - mape: 558.9500 - val_loss: 0.0028 - val_rmse: 0.0054 - val_r2: 0.9998 - val_mae: 0.0028 - val_mse: 2.9397e-05 - val_mape: 715.0113\n",
      "Epoch 67/100\n",
      "26215/26215 [==============================] - 43s 2ms/step - loss: 0.0028 - rmse: 0.0054 - r2: 0.9998 - mae: 0.0028 - mse: 2.9447e-05 - mape: 550.6508 - val_loss: 0.0028 - val_rmse: 0.0054 - val_r2: 0.9998 - val_mae: 0.0028 - val_mse: 2.9368e-05 - val_mape: 593.2594\n",
      "Epoch 68/100\n",
      "26215/26215 [==============================] - 42s 2ms/step - loss: 0.0028 - rmse: 0.0054 - r2: 0.9998 - mae: 0.0028 - mse: 2.9428e-05 - mape: 546.5438 - val_loss: 0.0028 - val_rmse: 0.0054 - val_r2: 0.9998 - val_mae: 0.0028 - val_mse: 2.9384e-05 - val_mape: 603.7108\n",
      "Epoch 69/100\n",
      "26215/26215 [==============================] - 37s 1ms/step - loss: 0.0028 - rmse: 0.0054 - r2: 0.9998 - mae: 0.0028 - mse: 2.9419e-05 - mape: 544.3972 - val_loss: 0.0028 - val_rmse: 0.0054 - val_r2: 0.9998 - val_mae: 0.0028 - val_mse: 2.9377e-05 - val_mape: 552.5729\n",
      "Epoch 70/100\n",
      "26215/26215 [==============================] - 36s 1ms/step - loss: 0.0028 - rmse: 0.0054 - r2: 0.9998 - mae: 0.0028 - mse: 2.9398e-05 - mape: 544.4645 - val_loss: 0.0028 - val_rmse: 0.0054 - val_r2: 0.9998 - val_mae: 0.0028 - val_mse: 2.9345e-05 - val_mape: 568.4776\n",
      "Epoch 71/100\n",
      "26215/26215 [==============================] - 37s 1ms/step - loss: 0.0028 - rmse: 0.0054 - r2: 0.9998 - mae: 0.0028 - mse: 2.9379e-05 - mape: 545.5746 - val_loss: 0.0028 - val_rmse: 0.0054 - val_r2: 0.9998 - val_mae: 0.0028 - val_mse: 2.9298e-05 - val_mape: 620.2076\n",
      "Epoch 72/100\n",
      "26215/26215 [==============================] - 36s 1ms/step - loss: 0.0028 - rmse: 0.0054 - r2: 0.9998 - mae: 0.0028 - mse: 2.9368e-05 - mape: 536.8208 - val_loss: 0.0028 - val_rmse: 0.0054 - val_r2: 0.9998 - val_mae: 0.0028 - val_mse: 2.9264e-05 - val_mape: 556.0193\n",
      "Epoch 73/100\n",
      "26215/26215 [==============================] - 36s 1ms/step - loss: 0.0028 - rmse: 0.0054 - r2: 0.9998 - mae: 0.0028 - mse: 2.9351e-05 - mape: 537.7433 - val_loss: 0.0028 - val_rmse: 0.0054 - val_r2: 0.9998 - val_mae: 0.0028 - val_mse: 2.9279e-05 - val_mape: 549.0436\n",
      "Epoch 74/100\n",
      "26215/26215 [==============================] - 36s 1ms/step - loss: 0.0028 - rmse: 0.0054 - r2: 0.9998 - mae: 0.0028 - mse: 2.9317e-05 - mape: 529.0909 - val_loss: 0.0028 - val_rmse: 0.0054 - val_r2: 0.9998 - val_mae: 0.0028 - val_mse: 2.9219e-05 - val_mape: 560.0135\n",
      "Epoch 75/100\n",
      "26215/26215 [==============================] - 37s 1ms/step - loss: 0.0028 - rmse: 0.0054 - r2: 0.9998 - mae: 0.0028 - mse: 2.9296e-05 - mape: 529.3751 - val_loss: 0.0028 - val_rmse: 0.0054 - val_r2: 0.9998 - val_mae: 0.0028 - val_mse: 2.9298e-05 - val_mape: 535.8155\n",
      "Epoch 76/100\n",
      "26215/26215 [==============================] - 36s 1ms/step - loss: 0.0028 - rmse: 0.0054 - r2: 0.9998 - mae: 0.0028 - mse: 2.9291e-05 - mape: 529.1839 - val_loss: 0.0028 - val_rmse: 0.0054 - val_r2: 0.9998 - val_mae: 0.0028 - val_mse: 2.9273e-05 - val_mape: 580.7972\n",
      "Epoch 77/100\n",
      "26215/26215 [==============================] - 37s 1ms/step - loss: 0.0028 - rmse: 0.0054 - r2: 0.9998 - mae: 0.0028 - mse: 2.9290e-05 - mape: 531.0990 - val_loss: 0.0028 - val_rmse: 0.0054 - val_r2: 0.9998 - val_mae: 0.0028 - val_mse: 2.9204e-05 - val_mape: 559.3861\n",
      "Epoch 78/100\n",
      "26215/26215 [==============================] - 37s 1ms/step - loss: 0.0028 - rmse: 0.0054 - r2: 0.9998 - mae: 0.0028 - mse: 2.9258e-05 - mape: 529.8807 - val_loss: 0.0028 - val_rmse: 0.0054 - val_r2: 0.9998 - val_mae: 0.0028 - val_mse: 2.9205e-05 - val_mape: 536.7877\n",
      "Epoch 79/100\n",
      "26215/26215 [==============================] - 37s 1ms/step - loss: 0.0028 - rmse: 0.0054 - r2: 0.9998 - mae: 0.0028 - mse: 2.9249e-05 - mape: 519.7766 - val_loss: 0.0028 - val_rmse: 0.0054 - val_r2: 0.9998 - val_mae: 0.0028 - val_mse: 2.9193e-05 - val_mape: 651.6658\n",
      "Epoch 80/100\n",
      "26215/26215 [==============================] - 37s 1ms/step - loss: 0.0028 - rmse: 0.0054 - r2: 0.9998 - mae: 0.0028 - mse: 2.9229e-05 - mape: 516.5181 - val_loss: 0.0028 - val_rmse: 0.0054 - val_r2: 0.9998 - val_mae: 0.0028 - val_mse: 2.9162e-05 - val_mape: 558.5419\n",
      "Epoch 81/100\n",
      "26215/26215 [==============================] - 37s 1ms/step - loss: 0.0028 - rmse: 0.0054 - r2: 0.9998 - mae: 0.0028 - mse: 2.9214e-05 - mape: 527.2977 - val_loss: 0.0028 - val_rmse: 0.0054 - val_r2: 0.9998 - val_mae: 0.0028 - val_mse: 2.9162e-05 - val_mape: 545.5909\n",
      "Epoch 82/100\n",
      "26215/26215 [==============================] - 36s 1ms/step - loss: 0.0028 - rmse: 0.0054 - r2: 0.9998 - mae: 0.0028 - mse: 2.9200e-05 - mape: 520.2657 - val_loss: 0.0028 - val_rmse: 0.0054 - val_r2: 0.9998 - val_mae: 0.0028 - val_mse: 2.9183e-05 - val_mape: 570.7480\n",
      "Epoch 83/100\n",
      "26215/26215 [==============================] - 37s 1ms/step - loss: 0.0028 - rmse: 0.0054 - r2: 0.9998 - mae: 0.0028 - mse: 2.9187e-05 - mape: 514.5143 - val_loss: 0.0028 - val_rmse: 0.0054 - val_r2: 0.9998 - val_mae: 0.0028 - val_mse: 2.9141e-05 - val_mape: 534.1978\n",
      "Epoch 84/100\n",
      "26215/26215 [==============================] - 37s 1ms/step - loss: 0.0028 - rmse: 0.0054 - r2: 0.9998 - mae: 0.0028 - mse: 2.9166e-05 - mape: 510.1277 - val_loss: 0.0028 - val_rmse: 0.0054 - val_r2: 0.9998 - val_mae: 0.0028 - val_mse: 2.9088e-05 - val_mape: 529.6671\n",
      "Epoch 85/100\n",
      "26215/26215 [==============================] - 36s 1ms/step - loss: 0.0028 - rmse: 0.0054 - r2: 0.9998 - mae: 0.0028 - mse: 2.9158e-05 - mape: 507.2038 - val_loss: 0.0028 - val_rmse: 0.0054 - val_r2: 0.9998 - val_mae: 0.0028 - val_mse: 2.9150e-05 - val_mape: 556.6750\n",
      "Epoch 86/100\n",
      "26215/26215 [==============================] - 36s 1ms/step - loss: 0.0028 - rmse: 0.0054 - r2: 0.9998 - mae: 0.0028 - mse: 2.9143e-05 - mape: 503.9142 - val_loss: 0.0028 - val_rmse: 0.0054 - val_r2: 0.9998 - val_mae: 0.0028 - val_mse: 2.9103e-05 - val_mape: 562.1603\n",
      "Epoch 87/100\n",
      "26215/26215 [==============================] - 37s 1ms/step - loss: 0.0028 - rmse: 0.0054 - r2: 0.9998 - mae: 0.0028 - mse: 2.9131e-05 - mape: 512.3679 - val_loss: 0.0028 - val_rmse: 0.0054 - val_r2: 0.9998 - val_mae: 0.0028 - val_mse: 2.9038e-05 - val_mape: 551.2653\n",
      "Epoch 88/100\n",
      "26215/26215 [==============================] - 36s 1ms/step - loss: 0.0028 - rmse: 0.0054 - r2: 0.9998 - mae: 0.0028 - mse: 2.9113e-05 - mape: 501.2406 - val_loss: 0.0028 - val_rmse: 0.0054 - val_r2: 0.9998 - val_mae: 0.0028 - val_mse: 2.9044e-05 - val_mape: 522.0458\n",
      "Epoch 89/100\n",
      "26215/26215 [==============================] - 37s 1ms/step - loss: 0.0028 - rmse: 0.0054 - r2: 0.9998 - mae: 0.0028 - mse: 2.9087e-05 - mape: 497.7814 - val_loss: 0.0028 - val_rmse: 0.0054 - val_r2: 0.9998 - val_mae: 0.0028 - val_mse: 2.9040e-05 - val_mape: 517.8732\n",
      "Epoch 90/100\n",
      "26215/26215 [==============================] - 37s 1ms/step - loss: 0.0028 - rmse: 0.0054 - r2: 0.9998 - mae: 0.0028 - mse: 2.9087e-05 - mape: 497.3720 - val_loss: 0.0028 - val_rmse: 0.0054 - val_r2: 0.9998 - val_mae: 0.0028 - val_mse: 2.9077e-05 - val_mape: 695.9995\n",
      "Epoch 91/100\n",
      "26215/26215 [==============================] - 36s 1ms/step - loss: 0.0028 - rmse: 0.0054 - r2: 0.9998 - mae: 0.0028 - mse: 2.9067e-05 - mape: 495.4149 - val_loss: 0.0028 - val_rmse: 0.0054 - val_r2: 0.9998 - val_mae: 0.0028 - val_mse: 2.9032e-05 - val_mape: 511.6227\n",
      "Epoch 92/100\n",
      "26215/26215 [==============================] - 36s 1ms/step - loss: 0.0028 - rmse: 0.0054 - r2: 0.9998 - mae: 0.0028 - mse: 2.9068e-05 - mape: 487.4306 - val_loss: 0.0028 - val_rmse: 0.0054 - val_r2: 0.9998 - val_mae: 0.0028 - val_mse: 2.9027e-05 - val_mape: 513.5997\n",
      "Epoch 93/100\n",
      "26215/26215 [==============================] - 36s 1ms/step - loss: 0.0028 - rmse: 0.0054 - r2: 0.9998 - mae: 0.0028 - mse: 2.9056e-05 - mape: 491.7128 - val_loss: 0.0028 - val_rmse: 0.0054 - val_r2: 0.9998 - val_mae: 0.0028 - val_mse: 2.8965e-05 - val_mape: 584.5919\n",
      "Epoch 93: early stopping\n",
      "CPU times: total: 2h 6min 2s\n",
      "Wall time: 1h 14min 37s\n"
     ]
    }
   ],
   "source": [
    "%%time\n",
    "tf.random.set_seed(42)\n",
    "\n",
    "model_3 = tf.keras.Sequential([tf.keras.layers.Dense(32,activation = 'relu'),\n",
    "                               tf.keras.layers.Dense(128,activation = 'relu'),\n",
    "                               tf.keras.layers.Dense(64),\n",
    "                               tf.keras.layers.Dense(32),\n",
    "                               tf.keras.layers.Dense(1)])\n",
    "\n",
    "model_3.compile(loss = tf.keras.losses.mae,\n",
    "                optimizer = tf.keras.optimizers.legacy.Adam(learning_rate=0.001,decay=0.001),\n",
    "                metrics=[tf.keras.metrics.RootMeanSquaredError(name='rmse'),\n",
    "                         tfa.metrics.RSquare(name='r2'),'mae','mse','mape'])\n",
    "\n",
    "history_3 = model_3.fit(X_train,Y_train, epochs= 100,batch_size=32,validation_data=(X_test,Y_test), callbacks = callback)"
   ]
  },
  {
   "cell_type": "code",
   "execution_count": 18,
   "id": "1671fd67",
   "metadata": {},
   "outputs": [
    {
     "data": {
      "image/png": "[encoded data removed]",
      "text/plain": [
       "<Figure size 640x480 with 1 Axes>"
      ]
     },
     "metadata": {},
     "output_type": "display_data"
    }
   ],
   "source": [
    "plot_his(history_3)"
   ]
  },
  {
   "cell_type": "code",
   "execution_count": 19,
   "id": "d72caa23",
   "metadata": {},
   "outputs": [
    {
     "name": "stdout",
     "output_type": "stream",
     "text": [
      "6554/6554 [==============================] - 6s 914us/step - loss: 0.0028 - rmse: 0.0054 - r2: 0.9998 - mae: 0.0028 - mse: 2.8965e-05 - mape: 584.5919\n"
     ]
    },
    {
     "data": {
      "text/plain": [
       "[0.002797475317493081,\n",
       " 0.005381959956139326,\n",
       " 0.9997678399085999,\n",
       " 0.002797475317493081,\n",
       " 2.8965492674615234e-05,\n",
       " 584.5919189453125]"
      ]
     },
     "execution_count": 19,
     "metadata": {},
     "output_type": "execute_result"
    }
   ],
   "source": [
    "model_3.evaluate(X_test,Y_test)"
   ]
  },
  {
   "cell_type": "code",
   "execution_count": 20,
   "id": "cc13e26a",
   "metadata": {},
   "outputs": [
    {
     "name": "stdout",
     "output_type": "stream",
     "text": [
      "6554/6554 [==============================] - 4s 644us/step\n"
     ]
    }
   ],
   "source": [
    "Y_pred_3 = model_3.predict(X_test)"
   ]
  },
  {
   "cell_type": "code",
   "execution_count": 21,
   "id": "1c01d0cf",
   "metadata": {},
   "outputs": [
    {
     "name": "stdout",
     "output_type": "stream",
     "text": [
      "Model: \"sequential\"\n",
      "_________________________________________________________________\n",
      " Layer (type)                Output Shape              Param #   \n",
      "=================================================================\n",
      " dense (Dense)               (None, 32)                128       \n",
      "                                                                 \n",
      " dense_1 (Dense)             (None, 128)               4224      \n",
      "                                                                 \n",
      " dense_2 (Dense)             (None, 64)                8256      \n",
      "                                                                 \n",
      " dense_3 (Dense)             (None, 32)                2080      \n",
      "                                                                 \n",
      " dense_4 (Dense)             (None, 1)                 33        \n",
      "                                                                 \n",
      "=================================================================\n",
      "Total params: 14,721\n",
      "Trainable params: 14,721\n",
      "Non-trainable params: 0\n",
      "_________________________________________________________________\n"
     ]
    }
   ],
   "source": [
    "model_3.summary()"
   ]
  },
  {
   "cell_type": "code",
   "execution_count": 22,
   "id": "a2798b3a",
   "metadata": {},
   "outputs": [
    {
     "name": "stdout",
     "output_type": "stream",
     "text": [
      "AIC:  29440.834\n"
     ]
    }
   ],
   "source": [
    "AIC_value(model_3,Y_pred_3,Y_test)"
   ]
  },
  {
   "cell_type": "code",
   "execution_count": 23,
   "id": "aab32789",
   "metadata": {},
   "outputs": [],
   "source": [
    "model_3.save('Saved_models/model_3_SOCesti.h5')"
   ]
  },
  {
   "cell_type": "code",
   "execution_count": null,
   "id": "05f91892",
   "metadata": {},
   "outputs": [],
   "source": [
    "    "
   ]
  },
  {
   "cell_type": "code",
   "execution_count": 24,
   "id": "9f87b11e",
   "metadata": {},
   "outputs": [
    {
     "name": "stdout",
     "output_type": "stream",
     "text": [
      "Epoch 1/100\n",
      "26215/26215 [==============================] - 41s 2ms/step - loss: 0.0095 - rmse: 0.0183 - r2: 0.9973 - mae: 0.0095 - mse: 3.3635e-04 - mape: 18650.8750 - val_loss: 0.0057 - val_rmse: 0.0093 - val_r2: 0.9993 - val_mae: 0.0057 - val_mse: 8.7083e-05 - val_mape: 6805.9316\n",
      "Epoch 2/100\n",
      "26215/26215 [==============================] - 41s 2ms/step - loss: 0.0055 - rmse: 0.0091 - r2: 0.9993 - mae: 0.0055 - mse: 8.3085e-05 - mape: 8041.2998 - val_loss: 0.0051 - val_rmse: 0.0088 - val_r2: 0.9994 - val_mae: 0.0051 - val_mse: 7.6723e-05 - val_mape: 7232.2544\n",
      "Epoch 3/100\n",
      "26215/26215 [==============================] - 40s 2ms/step - loss: 0.0052 - rmse: 0.0088 - r2: 0.9994 - mae: 0.0052 - mse: 7.6776e-05 - mape: 4700.0605 - val_loss: 0.0054 - val_rmse: 0.0087 - val_r2: 0.9994 - val_mae: 0.0054 - val_mse: 7.5967e-05 - val_mape: 5406.6001\n",
      "Epoch 4/100\n",
      "26215/26215 [==============================] - 41s 2ms/step - loss: 0.0051 - rmse: 0.0086 - r2: 0.9994 - mae: 0.0051 - mse: 7.4384e-05 - mape: 3626.0642 - val_loss: 0.0052 - val_rmse: 0.0087 - val_r2: 0.9994 - val_mae: 0.0052 - val_mse: 7.5484e-05 - val_mape: 2642.3469\n",
      "Epoch 5/100\n",
      "26215/26215 [==============================] - 41s 2ms/step - loss: 0.0050 - rmse: 0.0085 - r2: 0.9994 - mae: 0.0050 - mse: 7.3061e-05 - mape: 3170.2964 - val_loss: 0.0050 - val_rmse: 0.0085 - val_r2: 0.9994 - val_mae: 0.0050 - val_mse: 7.2989e-05 - val_mape: 2608.3997\n",
      "Epoch 6/100\n",
      "26215/26215 [==============================] - 41s 2ms/step - loss: 0.0049 - rmse: 0.0085 - r2: 0.9994 - mae: 0.0049 - mse: 7.2251e-05 - mape: 2993.0259 - val_loss: 0.0048 - val_rmse: 0.0085 - val_r2: 0.9994 - val_mae: 0.0048 - val_mse: 7.1792e-05 - val_mape: 2403.7629\n",
      "Epoch 7/100\n",
      "26215/26215 [==============================] - 41s 2ms/step - loss: 0.0049 - rmse: 0.0085 - r2: 0.9994 - mae: 0.0049 - mse: 7.1555e-05 - mape: 2899.1792 - val_loss: 0.0051 - val_rmse: 0.0085 - val_r2: 0.9994 - val_mae: 0.0051 - val_mse: 7.1965e-05 - val_mape: 3571.2412\n",
      "Epoch 8/100\n",
      "26215/26215 [==============================] - 41s 2ms/step - loss: 0.0048 - rmse: 0.0084 - r2: 0.9994 - mae: 0.0048 - mse: 7.0961e-05 - mape: 2777.9258 - val_loss: 0.0048 - val_rmse: 0.0084 - val_r2: 0.9994 - val_mae: 0.0048 - val_mse: 7.0380e-05 - val_mape: 2352.2192\n",
      "Epoch 9/100\n",
      "26215/26215 [==============================] - 41s 2ms/step - loss: 0.0048 - rmse: 0.0084 - r2: 0.9994 - mae: 0.0048 - mse: 7.0615e-05 - mape: 2602.6306 - val_loss: 0.0047 - val_rmse: 0.0083 - val_r2: 0.9994 - val_mae: 0.0047 - val_mse: 6.9642e-05 - val_mape: 2391.7952\n",
      "Epoch 10/100\n",
      "26215/26215 [==============================] - 41s 2ms/step - loss: 0.0048 - rmse: 0.0084 - r2: 0.9994 - mae: 0.0048 - mse: 7.0163e-05 - mape: 2607.4109 - val_loss: 0.0049 - val_rmse: 0.0084 - val_r2: 0.9994 - val_mae: 0.0049 - val_mse: 7.0284e-05 - val_mape: 3518.6831\n",
      "Epoch 11/100\n",
      "26215/26215 [==============================] - 41s 2ms/step - loss: 0.0048 - rmse: 0.0084 - r2: 0.9994 - mae: 0.0048 - mse: 6.9914e-05 - mape: 2518.8562 - val_loss: 0.0047 - val_rmse: 0.0083 - val_r2: 0.9994 - val_mae: 0.0047 - val_mse: 6.9165e-05 - val_mape: 2359.1467\n",
      "Epoch 12/100\n",
      "26215/26215 [==============================] - 42s 2ms/step - loss: 0.0047 - rmse: 0.0083 - r2: 0.9994 - mae: 0.0047 - mse: 6.9466e-05 - mape: 2570.3250 - val_loss: 0.0047 - val_rmse: 0.0083 - val_r2: 0.9994 - val_mae: 0.0047 - val_mse: 6.8704e-05 - val_mape: 2206.4763\n",
      "Epoch 13/100\n",
      "26215/26215 [==============================] - 41s 2ms/step - loss: 0.0047 - rmse: 0.0083 - r2: 0.9994 - mae: 0.0047 - mse: 6.8960e-05 - mape: 2455.6943 - val_loss: 0.0047 - val_rmse: 0.0083 - val_r2: 0.9995 - val_mae: 0.0047 - val_mse: 6.8241e-05 - val_mape: 2196.5923\n",
      "Epoch 14/100\n",
      "26215/26215 [==============================] - 41s 2ms/step - loss: 0.0047 - rmse: 0.0083 - r2: 0.9995 - mae: 0.0047 - mse: 6.8510e-05 - mape: 2503.1047 - val_loss: 0.0047 - val_rmse: 0.0082 - val_r2: 0.9995 - val_mae: 0.0047 - val_mse: 6.7686e-05 - val_mape: 2208.5715\n",
      "Epoch 15/100\n",
      "26215/26215 [==============================] - 41s 2ms/step - loss: 0.0047 - rmse: 0.0083 - r2: 0.9995 - mae: 0.0047 - mse: 6.8152e-05 - mape: 2478.1719 - val_loss: 0.0047 - val_rmse: 0.0082 - val_r2: 0.9995 - val_mae: 0.0047 - val_mse: 6.8031e-05 - val_mape: 3782.8857\n",
      "Epoch 16/100\n",
      "26215/26215 [==============================] - 41s 2ms/step - loss: 0.0047 - rmse: 0.0082 - r2: 0.9995 - mae: 0.0047 - mse: 6.7738e-05 - mape: 2466.2046 - val_loss: 0.0046 - val_rmse: 0.0082 - val_r2: 0.9995 - val_mae: 0.0046 - val_mse: 6.7183e-05 - val_mape: 2162.9585\n",
      "Epoch 17/100\n",
      "26215/26215 [==============================] - 53s 2ms/step - loss: 0.0047 - rmse: 0.0082 - r2: 0.9995 - mae: 0.0047 - mse: 6.7361e-05 - mape: 2476.9795 - val_loss: 0.0046 - val_rmse: 0.0082 - val_r2: 0.9995 - val_mae: 0.0046 - val_mse: 6.6603e-05 - val_mape: 2624.8826\n",
      "Epoch 18/100\n",
      "26215/26215 [==============================] - 60s 2ms/step - loss: 0.0046 - rmse: 0.0082 - r2: 0.9995 - mae: 0.0046 - mse: 6.6939e-05 - mape: 2483.4922 - val_loss: 0.0046 - val_rmse: 0.0081 - val_r2: 0.9995 - val_mae: 0.0046 - val_mse: 6.6219e-05 - val_mape: 2304.6270\n",
      "Epoch 19/100\n",
      "26215/26215 [==============================] - 60s 2ms/step - loss: 0.0046 - rmse: 0.0082 - r2: 0.9995 - mae: 0.0046 - mse: 6.6510e-05 - mape: 2509.4500 - val_loss: 0.0046 - val_rmse: 0.0082 - val_r2: 0.9995 - val_mae: 0.0046 - val_mse: 6.6481e-05 - val_mape: 2417.4294\n",
      "Epoch 20/100\n",
      "26215/26215 [==============================] - 59s 2ms/step - loss: 0.0046 - rmse: 0.0081 - r2: 0.9995 - mae: 0.0046 - mse: 6.6163e-05 - mape: 2465.7947 - val_loss: 0.0046 - val_rmse: 0.0081 - val_r2: 0.9995 - val_mae: 0.0046 - val_mse: 6.5629e-05 - val_mape: 2857.9727\n",
      "Epoch 21/100\n",
      "26215/26215 [==============================] - 60s 2ms/step - loss: 0.0046 - rmse: 0.0081 - r2: 0.9995 - mae: 0.0046 - mse: 6.5793e-05 - mape: 2483.2227 - val_loss: 0.0046 - val_rmse: 0.0081 - val_r2: 0.9995 - val_mae: 0.0046 - val_mse: 6.5015e-05 - val_mape: 2382.7148\n",
      "Epoch 22/100\n",
      "26215/26215 [==============================] - 60s 2ms/step - loss: 0.0046 - rmse: 0.0081 - r2: 0.9995 - mae: 0.0046 - mse: 6.4943e-05 - mape: 2417.4829 - val_loss: 0.0045 - val_rmse: 0.0080 - val_r2: 0.9995 - val_mae: 0.0045 - val_mse: 6.3711e-05 - val_mape: 2018.9144\n",
      "Epoch 23/100\n",
      "26215/26215 [==============================] - 59s 2ms/step - loss: 0.0046 - rmse: 0.0080 - r2: 0.9995 - mae: 0.0046 - mse: 6.3930e-05 - mape: 2370.1389 - val_loss: 0.0045 - val_rmse: 0.0079 - val_r2: 0.9995 - val_mae: 0.0045 - val_mse: 6.3160e-05 - val_mape: 2281.3684\n",
      "Epoch 24/100\n",
      "26215/26215 [==============================] - 60s 2ms/step - loss: 0.0045 - rmse: 0.0079 - r2: 0.9995 - mae: 0.0045 - mse: 6.3087e-05 - mape: 2324.8140 - val_loss: 0.0045 - val_rmse: 0.0079 - val_r2: 0.9995 - val_mae: 0.0045 - val_mse: 6.2203e-05 - val_mape: 2065.5024\n",
      "Epoch 25/100\n",
      "26215/26215 [==============================] - 59s 2ms/step - loss: 0.0045 - rmse: 0.0079 - r2: 0.9995 - mae: 0.0045 - mse: 6.2527e-05 - mape: 2318.9626 - val_loss: 0.0045 - val_rmse: 0.0079 - val_r2: 0.9995 - val_mae: 0.0045 - val_mse: 6.1786e-05 - val_mape: 1662.0056\n",
      "Epoch 26/100\n",
      "26215/26215 [==============================] - 59s 2ms/step - loss: 0.0045 - rmse: 0.0079 - r2: 0.9995 - mae: 0.0045 - mse: 6.1942e-05 - mape: 2236.8979 - val_loss: 0.0044 - val_rmse: 0.0078 - val_r2: 0.9995 - val_mae: 0.0044 - val_mse: 6.1412e-05 - val_mape: 2979.1057\n",
      "Epoch 27/100\n",
      "26215/26215 [==============================] - 59s 2ms/step - loss: 0.0045 - rmse: 0.0078 - r2: 0.9995 - mae: 0.0045 - mse: 6.1554e-05 - mape: 2225.1528 - val_loss: 0.0044 - val_rmse: 0.0078 - val_r2: 0.9995 - val_mae: 0.0044 - val_mse: 6.0707e-05 - val_mape: 2023.4729\n",
      "Epoch 28/100\n",
      "26215/26215 [==============================] - 58s 2ms/step - loss: 0.0044 - rmse: 0.0078 - r2: 0.9995 - mae: 0.0044 - mse: 6.1200e-05 - mape: 2162.7385 - val_loss: 0.0045 - val_rmse: 0.0078 - val_r2: 0.9995 - val_mae: 0.0045 - val_mse: 6.0551e-05 - val_mape: 1913.3969\n",
      "Epoch 29/100\n",
      "26215/26215 [==============================] - 57s 2ms/step - loss: 0.0044 - rmse: 0.0078 - r2: 0.9995 - mae: 0.0044 - mse: 6.0807e-05 - mape: 2104.9980 - val_loss: 0.0044 - val_rmse: 0.0078 - val_r2: 0.9995 - val_mae: 0.0044 - val_mse: 6.0337e-05 - val_mape: 2102.6533\n"
     ]
    },
    {
     "name": "stdout",
     "output_type": "stream",
     "text": [
      "Epoch 30/100\n",
      "26215/26215 [==============================] - 58s 2ms/step - loss: 0.0044 - rmse: 0.0078 - r2: 0.9995 - mae: 0.0044 - mse: 6.0533e-05 - mape: 2071.3523 - val_loss: 0.0044 - val_rmse: 0.0077 - val_r2: 0.9995 - val_mae: 0.0044 - val_mse: 5.9877e-05 - val_mape: 2098.7922\n",
      "Epoch 31/100\n",
      "26215/26215 [==============================] - 57s 2ms/step - loss: 0.0044 - rmse: 0.0078 - r2: 0.9995 - mae: 0.0044 - mse: 6.0271e-05 - mape: 2068.7002 - val_loss: 0.0044 - val_rmse: 0.0077 - val_r2: 0.9995 - val_mae: 0.0044 - val_mse: 5.9329e-05 - val_mape: 1515.5192\n",
      "Epoch 32/100\n",
      "26215/26215 [==============================] - 58s 2ms/step - loss: 0.0044 - rmse: 0.0077 - r2: 0.9995 - mae: 0.0044 - mse: 6.0033e-05 - mape: 2111.2393 - val_loss: 0.0043 - val_rmse: 0.0077 - val_r2: 0.9995 - val_mae: 0.0043 - val_mse: 5.9138e-05 - val_mape: 1821.8372\n",
      "Epoch 33/100\n",
      "26215/26215 [==============================] - 58s 2ms/step - loss: 0.0044 - rmse: 0.0077 - r2: 0.9995 - mae: 0.0044 - mse: 5.9769e-05 - mape: 2098.4255 - val_loss: 0.0043 - val_rmse: 0.0077 - val_r2: 0.9995 - val_mae: 0.0043 - val_mse: 5.8919e-05 - val_mape: 1744.8651\n",
      "Epoch 34/100\n",
      "26215/26215 [==============================] - 58s 2ms/step - loss: 0.0044 - rmse: 0.0077 - r2: 0.9995 - mae: 0.0044 - mse: 5.9581e-05 - mape: 2081.9326 - val_loss: 0.0043 - val_rmse: 0.0077 - val_r2: 0.9995 - val_mae: 0.0043 - val_mse: 5.8877e-05 - val_mape: 2579.2581\n",
      "Epoch 35/100\n",
      "26215/26215 [==============================] - 58s 2ms/step - loss: 0.0044 - rmse: 0.0077 - r2: 0.9995 - mae: 0.0044 - mse: 5.9426e-05 - mape: 2146.1326 - val_loss: 0.0044 - val_rmse: 0.0077 - val_r2: 0.9995 - val_mae: 0.0044 - val_mse: 5.9028e-05 - val_mape: 2521.8643\n",
      "Epoch 36/100\n",
      "26215/26215 [==============================] - 58s 2ms/step - loss: 0.0043 - rmse: 0.0077 - r2: 0.9995 - mae: 0.0043 - mse: 5.9231e-05 - mape: 2172.0457 - val_loss: 0.0043 - val_rmse: 0.0076 - val_r2: 0.9995 - val_mae: 0.0043 - val_mse: 5.8491e-05 - val_mape: 2254.7554\n",
      "Epoch 37/100\n",
      "26215/26215 [==============================] - 59s 2ms/step - loss: 0.0043 - rmse: 0.0077 - r2: 0.9995 - mae: 0.0043 - mse: 5.9037e-05 - mape: 2169.5149 - val_loss: 0.0043 - val_rmse: 0.0077 - val_r2: 0.9995 - val_mae: 0.0043 - val_mse: 5.8557e-05 - val_mape: 2206.2200\n",
      "Epoch 38/100\n",
      "26215/26215 [==============================] - 57s 2ms/step - loss: 0.0043 - rmse: 0.0077 - r2: 0.9995 - mae: 0.0043 - mse: 5.8812e-05 - mape: 2227.7468 - val_loss: 0.0043 - val_rmse: 0.0076 - val_r2: 0.9995 - val_mae: 0.0043 - val_mse: 5.8249e-05 - val_mape: 2382.5535\n",
      "Epoch 39/100\n",
      "26215/26215 [==============================] - 58s 2ms/step - loss: 0.0043 - rmse: 0.0077 - r2: 0.9995 - mae: 0.0043 - mse: 5.8652e-05 - mape: 2269.9666 - val_loss: 0.0043 - val_rmse: 0.0076 - val_r2: 0.9995 - val_mae: 0.0043 - val_mse: 5.7815e-05 - val_mape: 1742.6602\n",
      "Epoch 40/100\n",
      "26215/26215 [==============================] - 57s 2ms/step - loss: 0.0043 - rmse: 0.0076 - r2: 0.9995 - mae: 0.0043 - mse: 5.8409e-05 - mape: 2275.3596 - val_loss: 0.0043 - val_rmse: 0.0076 - val_r2: 0.9995 - val_mae: 0.0043 - val_mse: 5.7653e-05 - val_mape: 2171.9292\n",
      "Epoch 41/100\n",
      "26215/26215 [==============================] - 58s 2ms/step - loss: 0.0043 - rmse: 0.0076 - r2: 0.9995 - mae: 0.0043 - mse: 5.8283e-05 - mape: 2333.4028 - val_loss: 0.0043 - val_rmse: 0.0076 - val_r2: 0.9995 - val_mae: 0.0043 - val_mse: 5.7921e-05 - val_mape: 3040.0374\n",
      "Epoch 42/100\n",
      "26215/26215 [==============================] - 58s 2ms/step - loss: 0.0043 - rmse: 0.0076 - r2: 0.9995 - mae: 0.0043 - mse: 5.8107e-05 - mape: 2302.1155 - val_loss: 0.0043 - val_rmse: 0.0076 - val_r2: 0.9995 - val_mae: 0.0043 - val_mse: 5.7397e-05 - val_mape: 2272.3271\n",
      "Epoch 43/100\n",
      "26215/26215 [==============================] - 58s 2ms/step - loss: 0.0043 - rmse: 0.0076 - r2: 0.9995 - mae: 0.0043 - mse: 5.7963e-05 - mape: 2338.4724 - val_loss: 0.0043 - val_rmse: 0.0076 - val_r2: 0.9995 - val_mae: 0.0043 - val_mse: 5.7321e-05 - val_mape: 1821.9878\n",
      "Epoch 44/100\n",
      "26215/26215 [==============================] - 58s 2ms/step - loss: 0.0043 - rmse: 0.0076 - r2: 0.9995 - mae: 0.0043 - mse: 5.7837e-05 - mape: 2340.7720 - val_loss: 0.0043 - val_rmse: 0.0076 - val_r2: 0.9995 - val_mae: 0.0043 - val_mse: 5.7068e-05 - val_mape: 1645.2743\n",
      "Epoch 45/100\n",
      "26215/26215 [==============================] - 59s 2ms/step - loss: 0.0043 - rmse: 0.0076 - r2: 0.9995 - mae: 0.0043 - mse: 5.7725e-05 - mape: 2345.5681 - val_loss: 0.0043 - val_rmse: 0.0076 - val_r2: 0.9995 - val_mae: 0.0043 - val_mse: 5.7115e-05 - val_mape: 2583.9819\n",
      "Epoch 46/100\n",
      "26215/26215 [==============================] - 58s 2ms/step - loss: 0.0043 - rmse: 0.0076 - r2: 0.9995 - mae: 0.0043 - mse: 5.7612e-05 - mape: 2396.8733 - val_loss: 0.0043 - val_rmse: 0.0075 - val_r2: 0.9995 - val_mae: 0.0043 - val_mse: 5.6761e-05 - val_mape: 2267.0110\n",
      "Epoch 47/100\n",
      "26215/26215 [==============================] - 60s 2ms/step - loss: 0.0043 - rmse: 0.0076 - r2: 0.9995 - mae: 0.0043 - mse: 5.7486e-05 - mape: 2462.5288 - val_loss: 0.0043 - val_rmse: 0.0076 - val_r2: 0.9995 - val_mae: 0.0043 - val_mse: 5.7209e-05 - val_mape: 2957.5459\n",
      "Epoch 48/100\n",
      "26215/26215 [==============================] - 58s 2ms/step - loss: 0.0043 - rmse: 0.0076 - r2: 0.9995 - mae: 0.0043 - mse: 5.7440e-05 - mape: 2489.6106 - val_loss: 0.0043 - val_rmse: 0.0075 - val_r2: 0.9995 - val_mae: 0.0043 - val_mse: 5.6834e-05 - val_mape: 2491.8376\n",
      "Epoch 49/100\n",
      "26215/26215 [==============================] - 58s 2ms/step - loss: 0.0043 - rmse: 0.0076 - r2: 0.9995 - mae: 0.0043 - mse: 5.7339e-05 - mape: 2504.2227 - val_loss: 0.0043 - val_rmse: 0.0075 - val_r2: 0.9995 - val_mae: 0.0043 - val_mse: 5.6646e-05 - val_mape: 2215.7485\n",
      "Epoch 50/100\n",
      "26215/26215 [==============================] - 58s 2ms/step - loss: 0.0043 - rmse: 0.0076 - r2: 0.9995 - mae: 0.0043 - mse: 5.7233e-05 - mape: 2519.1494 - val_loss: 0.0042 - val_rmse: 0.0075 - val_r2: 0.9995 - val_mae: 0.0042 - val_mse: 5.6467e-05 - val_mape: 2030.7876\n",
      "Epoch 51/100\n",
      "26215/26215 [==============================] - 67s 3ms/step - loss: 0.0043 - rmse: 0.0076 - r2: 0.9995 - mae: 0.0043 - mse: 5.7148e-05 - mape: 2569.1487 - val_loss: 0.0043 - val_rmse: 0.0075 - val_r2: 0.9995 - val_mae: 0.0043 - val_mse: 5.6627e-05 - val_mape: 2531.9067\n",
      "Epoch 52/100\n",
      "26215/26215 [==============================] - 58s 2ms/step - loss: 0.0043 - rmse: 0.0076 - r2: 0.9995 - mae: 0.0043 - mse: 5.7036e-05 - mape: 2573.5735 - val_loss: 0.0042 - val_rmse: 0.0075 - val_r2: 0.9995 - val_mae: 0.0042 - val_mse: 5.6561e-05 - val_mape: 2505.3025\n",
      "Epoch 53/100\n",
      "26215/26215 [==============================] - 59s 2ms/step - loss: 0.0043 - rmse: 0.0076 - r2: 0.9995 - mae: 0.0043 - mse: 5.7007e-05 - mape: 2583.0242 - val_loss: 0.0043 - val_rmse: 0.0075 - val_r2: 0.9995 - val_mae: 0.0043 - val_mse: 5.6813e-05 - val_mape: 3516.7844\n",
      "Epoch 54/100\n",
      "26215/26215 [==============================] - 59s 2ms/step - loss: 0.0042 - rmse: 0.0075 - r2: 0.9995 - mae: 0.0042 - mse: 5.6869e-05 - mape: 2533.6785 - val_loss: 0.0042 - val_rmse: 0.0075 - val_r2: 0.9995 - val_mae: 0.0042 - val_mse: 5.6392e-05 - val_mape: 2879.2922\n",
      "Epoch 55/100\n",
      "26215/26215 [==============================] - 58s 2ms/step - loss: 0.0042 - rmse: 0.0075 - r2: 0.9995 - mae: 0.0042 - mse: 5.6810e-05 - mape: 2617.6328 - val_loss: 0.0042 - val_rmse: 0.0075 - val_r2: 0.9995 - val_mae: 0.0042 - val_mse: 5.6181e-05 - val_mape: 2508.2554\n",
      "Epoch 56/100\n",
      "26215/26215 [==============================] - 58s 2ms/step - loss: 0.0042 - rmse: 0.0075 - r2: 0.9995 - mae: 0.0042 - mse: 5.6739e-05 - mape: 2587.0586 - val_loss: 0.0042 - val_rmse: 0.0075 - val_r2: 0.9996 - val_mae: 0.0042 - val_mse: 5.6095e-05 - val_mape: 2357.5249\n",
      "Epoch 57/100\n",
      "26215/26215 [==============================] - 64s 2ms/step - loss: 0.0042 - rmse: 0.0075 - r2: 0.9995 - mae: 0.0042 - mse: 5.6650e-05 - mape: 2570.2415 - val_loss: 0.0042 - val_rmse: 0.0075 - val_r2: 0.9996 - val_mae: 0.0042 - val_mse: 5.6114e-05 - val_mape: 2652.3564\n",
      "Epoch 58/100\n",
      "26215/26215 [==============================] - 62s 2ms/step - loss: 0.0042 - rmse: 0.0075 - r2: 0.9995 - mae: 0.0042 - mse: 5.6613e-05 - mape: 2578.5381 - val_loss: 0.0042 - val_rmse: 0.0075 - val_r2: 0.9996 - val_mae: 0.0042 - val_mse: 5.5957e-05 - val_mape: 2339.5203\n"
     ]
    },
    {
     "name": "stdout",
     "output_type": "stream",
     "text": [
      "Epoch 59/100\n",
      "26215/26215 [==============================] - 43s 2ms/step - loss: 0.0042 - rmse: 0.0075 - r2: 0.9995 - mae: 0.0042 - mse: 5.6503e-05 - mape: 2577.6768 - val_loss: 0.0042 - val_rmse: 0.0075 - val_r2: 0.9996 - val_mae: 0.0042 - val_mse: 5.5961e-05 - val_mape: 2092.1792\n",
      "Epoch 60/100\n",
      "26215/26215 [==============================] - 42s 2ms/step - loss: 0.0042 - rmse: 0.0075 - r2: 0.9995 - mae: 0.0042 - mse: 5.6475e-05 - mape: 2595.8369 - val_loss: 0.0042 - val_rmse: 0.0075 - val_r2: 0.9996 - val_mae: 0.0042 - val_mse: 5.5907e-05 - val_mape: 2797.6313\n",
      "Epoch 61/100\n",
      "26215/26215 [==============================] - 42s 2ms/step - loss: 0.0042 - rmse: 0.0075 - r2: 0.9995 - mae: 0.0042 - mse: 5.6403e-05 - mape: 2612.3164 - val_loss: 0.0042 - val_rmse: 0.0075 - val_r2: 0.9996 - val_mae: 0.0042 - val_mse: 5.5658e-05 - val_mape: 2506.4277\n",
      "Epoch 62/100\n",
      "26215/26215 [==============================] - 41s 2ms/step - loss: 0.0042 - rmse: 0.0075 - r2: 0.9995 - mae: 0.0042 - mse: 5.6301e-05 - mape: 2594.0916 - val_loss: 0.0042 - val_rmse: 0.0075 - val_r2: 0.9996 - val_mae: 0.0042 - val_mse: 5.5722e-05 - val_mape: 2304.7029\n",
      "Epoch 63/100\n",
      "26215/26215 [==============================] - 41s 2ms/step - loss: 0.0042 - rmse: 0.0075 - r2: 0.9995 - mae: 0.0042 - mse: 5.6262e-05 - mape: 2618.9756 - val_loss: 0.0042 - val_rmse: 0.0075 - val_r2: 0.9996 - val_mae: 0.0042 - val_mse: 5.5618e-05 - val_mape: 1755.2759\n",
      "Epoch 64/100\n",
      "26215/26215 [==============================] - 40s 2ms/step - loss: 0.0042 - rmse: 0.0075 - r2: 0.9995 - mae: 0.0042 - mse: 5.6201e-05 - mape: 2588.3384 - val_loss: 0.0042 - val_rmse: 0.0075 - val_r2: 0.9996 - val_mae: 0.0042 - val_mse: 5.5560e-05 - val_mape: 2577.3987\n",
      "Epoch 65/100\n",
      "26215/26215 [==============================] - 41s 2ms/step - loss: 0.0042 - rmse: 0.0075 - r2: 0.9995 - mae: 0.0042 - mse: 5.6167e-05 - mape: 2597.5496 - val_loss: 0.0042 - val_rmse: 0.0075 - val_r2: 0.9996 - val_mae: 0.0042 - val_mse: 5.5592e-05 - val_mape: 2269.8103\n",
      "Epoch 66/100\n",
      "26215/26215 [==============================] - 44s 2ms/step - loss: 0.0042 - rmse: 0.0075 - r2: 0.9996 - mae: 0.0042 - mse: 5.6116e-05 - mape: 2617.6633 - val_loss: 0.0042 - val_rmse: 0.0075 - val_r2: 0.9996 - val_mae: 0.0042 - val_mse: 5.5681e-05 - val_mape: 2810.3528\n",
      "Epoch 67/100\n",
      "26215/26215 [==============================] - 40s 2ms/step - loss: 0.0042 - rmse: 0.0075 - r2: 0.9996 - mae: 0.0042 - mse: 5.6075e-05 - mape: 2574.8994 - val_loss: 0.0042 - val_rmse: 0.0075 - val_r2: 0.9996 - val_mae: 0.0042 - val_mse: 5.5630e-05 - val_mape: 2606.4846\n",
      "Epoch 68/100\n",
      "26215/26215 [==============================] - 40s 2ms/step - loss: 0.0042 - rmse: 0.0075 - r2: 0.9996 - mae: 0.0042 - mse: 5.6046e-05 - mape: 2581.2493 - val_loss: 0.0042 - val_rmse: 0.0075 - val_r2: 0.9996 - val_mae: 0.0042 - val_mse: 5.5586e-05 - val_mape: 2751.2336\n",
      "Epoch 69/100\n",
      "26215/26215 [==============================] - 49s 2ms/step - loss: 0.0042 - rmse: 0.0075 - r2: 0.9996 - mae: 0.0042 - mse: 5.6008e-05 - mape: 2622.9822 - val_loss: 0.0042 - val_rmse: 0.0074 - val_r2: 0.9996 - val_mae: 0.0042 - val_mse: 5.5425e-05 - val_mape: 2949.4641\n",
      "Epoch 70/100\n",
      "26215/26215 [==============================] - 47s 2ms/step - loss: 0.0042 - rmse: 0.0075 - r2: 0.9996 - mae: 0.0042 - mse: 5.5936e-05 - mape: 2607.3616 - val_loss: 0.0042 - val_rmse: 0.0074 - val_r2: 0.9996 - val_mae: 0.0042 - val_mse: 5.5418e-05 - val_mape: 2866.9053\n",
      "Epoch 71/100\n",
      "26215/26215 [==============================] - 48s 2ms/step - loss: 0.0042 - rmse: 0.0075 - r2: 0.9996 - mae: 0.0042 - mse: 5.5918e-05 - mape: 2623.0986 - val_loss: 0.0042 - val_rmse: 0.0075 - val_r2: 0.9996 - val_mae: 0.0042 - val_mse: 5.5558e-05 - val_mape: 2654.5269\n",
      "Epoch 72/100\n",
      "26215/26215 [==============================] - 46s 2ms/step - loss: 0.0042 - rmse: 0.0075 - r2: 0.9996 - mae: 0.0042 - mse: 5.5914e-05 - mape: 2613.4988 - val_loss: 0.0042 - val_rmse: 0.0074 - val_r2: 0.9996 - val_mae: 0.0042 - val_mse: 5.5313e-05 - val_mape: 2853.9541\n",
      "Epoch 73/100\n",
      "26215/26215 [==============================] - 49s 2ms/step - loss: 0.0042 - rmse: 0.0075 - r2: 0.9996 - mae: 0.0042 - mse: 5.5861e-05 - mape: 2615.4714 - val_loss: 0.0042 - val_rmse: 0.0074 - val_r2: 0.9996 - val_mae: 0.0042 - val_mse: 5.5239e-05 - val_mape: 2496.0002\n",
      "Epoch 74/100\n",
      "26215/26215 [==============================] - 50s 2ms/step - loss: 0.0042 - rmse: 0.0075 - r2: 0.9996 - mae: 0.0042 - mse: 5.5834e-05 - mape: 2637.0264 - val_loss: 0.0042 - val_rmse: 0.0074 - val_r2: 0.9996 - val_mae: 0.0042 - val_mse: 5.5087e-05 - val_mape: 2412.6638\n",
      "Epoch 75/100\n",
      "26215/26215 [==============================] - 49s 2ms/step - loss: 0.0042 - rmse: 0.0075 - r2: 0.9996 - mae: 0.0042 - mse: 5.5782e-05 - mape: 2627.9226 - val_loss: 0.0042 - val_rmse: 0.0074 - val_r2: 0.9996 - val_mae: 0.0042 - val_mse: 5.5275e-05 - val_mape: 2735.2583\n",
      "Epoch 76/100\n",
      "26215/26215 [==============================] - 46s 2ms/step - loss: 0.0042 - rmse: 0.0075 - r2: 0.9996 - mae: 0.0042 - mse: 5.5743e-05 - mape: 2671.0964 - val_loss: 0.0042 - val_rmse: 0.0074 - val_r2: 0.9996 - val_mae: 0.0042 - val_mse: 5.5382e-05 - val_mape: 3032.3906\n",
      "Epoch 77/100\n",
      "26215/26215 [==============================] - 52s 2ms/step - loss: 0.0042 - rmse: 0.0075 - r2: 0.9996 - mae: 0.0042 - mse: 5.5726e-05 - mape: 2645.1892 - val_loss: 0.0042 - val_rmse: 0.0074 - val_r2: 0.9996 - val_mae: 0.0042 - val_mse: 5.5104e-05 - val_mape: 2485.9175\n",
      "Epoch 78/100\n",
      "26215/26215 [==============================] - 48s 2ms/step - loss: 0.0042 - rmse: 0.0075 - r2: 0.9996 - mae: 0.0042 - mse: 5.5684e-05 - mape: 2649.6411 - val_loss: 0.0042 - val_rmse: 0.0074 - val_r2: 0.9996 - val_mae: 0.0042 - val_mse: 5.5044e-05 - val_mape: 2956.2437\n",
      "Epoch 79/100\n",
      "26215/26215 [==============================] - 48s 2ms/step - loss: 0.0042 - rmse: 0.0075 - r2: 0.9996 - mae: 0.0042 - mse: 5.5670e-05 - mape: 2636.7073 - val_loss: 0.0042 - val_rmse: 0.0074 - val_r2: 0.9996 - val_mae: 0.0042 - val_mse: 5.5097e-05 - val_mape: 1958.0316\n",
      "Epoch 80/100\n",
      "26215/26215 [==============================] - 49s 2ms/step - loss: 0.0042 - rmse: 0.0075 - r2: 0.9996 - mae: 0.0042 - mse: 5.5620e-05 - mape: 2669.7188 - val_loss: 0.0042 - val_rmse: 0.0074 - val_r2: 0.9996 - val_mae: 0.0042 - val_mse: 5.5351e-05 - val_mape: 3502.6726\n",
      "Epoch 81/100\n",
      "26215/26215 [==============================] - 48s 2ms/step - loss: 0.0042 - rmse: 0.0075 - r2: 0.9996 - mae: 0.0042 - mse: 5.5614e-05 - mape: 2663.8164 - val_loss: 0.0042 - val_rmse: 0.0074 - val_r2: 0.9996 - val_mae: 0.0042 - val_mse: 5.5052e-05 - val_mape: 2661.7869\n",
      "Epoch 82/100\n",
      "26215/26215 [==============================] - 47s 2ms/step - loss: 0.0042 - rmse: 0.0075 - r2: 0.9996 - mae: 0.0042 - mse: 5.5571e-05 - mape: 2671.6396 - val_loss: 0.0042 - val_rmse: 0.0074 - val_r2: 0.9996 - val_mae: 0.0042 - val_mse: 5.5077e-05 - val_mape: 2619.9490\n",
      "Epoch 83/100\n",
      "26215/26215 [==============================] - 45s 2ms/step - loss: 0.0042 - rmse: 0.0075 - r2: 0.9996 - mae: 0.0042 - mse: 5.5565e-05 - mape: 2654.8191 - val_loss: 0.0042 - val_rmse: 0.0074 - val_r2: 0.9996 - val_mae: 0.0042 - val_mse: 5.4954e-05 - val_mape: 2835.7827\n",
      "Epoch 84/100\n",
      "26215/26215 [==============================] - 47s 2ms/step - loss: 0.0042 - rmse: 0.0075 - r2: 0.9996 - mae: 0.0042 - mse: 5.5514e-05 - mape: 2695.6860 - val_loss: 0.0042 - val_rmse: 0.0074 - val_r2: 0.9996 - val_mae: 0.0042 - val_mse: 5.4952e-05 - val_mape: 2304.4114\n",
      "Epoch 85/100\n",
      "26215/26215 [==============================] - 40s 2ms/step - loss: 0.0042 - rmse: 0.0074 - r2: 0.9996 - mae: 0.0042 - mse: 5.5489e-05 - mape: 2646.5435 - val_loss: 0.0042 - val_rmse: 0.0074 - val_r2: 0.9996 - val_mae: 0.0042 - val_mse: 5.4873e-05 - val_mape: 2095.4575\n",
      "Epoch 86/100\n",
      "26215/26215 [==============================] - 42s 2ms/step - loss: 0.0042 - rmse: 0.0074 - r2: 0.9996 - mae: 0.0042 - mse: 5.5469e-05 - mape: 2665.4951 - val_loss: 0.0042 - val_rmse: 0.0074 - val_r2: 0.9996 - val_mae: 0.0042 - val_mse: 5.5007e-05 - val_mape: 2922.6252\n",
      "Epoch 87/100\n",
      "26215/26215 [==============================] - 46s 2ms/step - loss: 0.0042 - rmse: 0.0074 - r2: 0.9996 - mae: 0.0042 - mse: 5.5426e-05 - mape: 2671.7627 - val_loss: 0.0042 - val_rmse: 0.0074 - val_r2: 0.9996 - val_mae: 0.0042 - val_mse: 5.4787e-05 - val_mape: 2308.3142\n"
     ]
    },
    {
     "name": "stdout",
     "output_type": "stream",
     "text": [
      "Epoch 88/100\n",
      "26215/26215 [==============================] - 44s 2ms/step - loss: 0.0042 - rmse: 0.0074 - r2: 0.9996 - mae: 0.0042 - mse: 5.5396e-05 - mape: 2654.8574 - val_loss: 0.0042 - val_rmse: 0.0074 - val_r2: 0.9996 - val_mae: 0.0042 - val_mse: 5.4881e-05 - val_mape: 3155.1824\n",
      "Epoch 89/100\n",
      "26215/26215 [==============================] - 41s 2ms/step - loss: 0.0042 - rmse: 0.0074 - r2: 0.9996 - mae: 0.0042 - mse: 5.5363e-05 - mape: 2656.6096 - val_loss: 0.0042 - val_rmse: 0.0074 - val_r2: 0.9996 - val_mae: 0.0042 - val_mse: 5.4902e-05 - val_mape: 2701.6165\n",
      "Epoch 90/100\n",
      "26215/26215 [==============================] - 40s 2ms/step - loss: 0.0042 - rmse: 0.0074 - r2: 0.9996 - mae: 0.0042 - mse: 5.5332e-05 - mape: 2675.2454 - val_loss: 0.0042 - val_rmse: 0.0074 - val_r2: 0.9996 - val_mae: 0.0042 - val_mse: 5.4959e-05 - val_mape: 3209.4578\n",
      "Epoch 91/100\n",
      "26215/26215 [==============================] - 44s 2ms/step - loss: 0.0042 - rmse: 0.0074 - r2: 0.9996 - mae: 0.0042 - mse: 5.5300e-05 - mape: 2647.5439 - val_loss: 0.0041 - val_rmse: 0.0074 - val_r2: 0.9996 - val_mae: 0.0041 - val_mse: 5.4768e-05 - val_mape: 2594.6284\n",
      "Epoch 92/100\n",
      "26215/26215 [==============================] - 49s 2ms/step - loss: 0.0042 - rmse: 0.0074 - r2: 0.9996 - mae: 0.0042 - mse: 5.5290e-05 - mape: 2657.8743 - val_loss: 0.0041 - val_rmse: 0.0074 - val_r2: 0.9996 - val_mae: 0.0041 - val_mse: 5.4691e-05 - val_mape: 2361.1279\n",
      "Epoch 93/100\n",
      "26215/26215 [==============================] - 49s 2ms/step - loss: 0.0042 - rmse: 0.0074 - r2: 0.9996 - mae: 0.0042 - mse: 5.5281e-05 - mape: 2673.4426 - val_loss: 0.0041 - val_rmse: 0.0074 - val_r2: 0.9996 - val_mae: 0.0041 - val_mse: 5.4730e-05 - val_mape: 2727.1641\n",
      "Epoch 94/100\n",
      "26215/26215 [==============================] - 50s 2ms/step - loss: 0.0042 - rmse: 0.0074 - r2: 0.9996 - mae: 0.0042 - mse: 5.5245e-05 - mape: 2636.0500 - val_loss: 0.0041 - val_rmse: 0.0074 - val_r2: 0.9996 - val_mae: 0.0041 - val_mse: 5.4620e-05 - val_mape: 2630.7017\n",
      "Epoch 95/100\n",
      "26215/26215 [==============================] - 55s 2ms/step - loss: 0.0042 - rmse: 0.0074 - r2: 0.9996 - mae: 0.0042 - mse: 5.5207e-05 - mape: 2647.5347 - val_loss: 0.0041 - val_rmse: 0.0074 - val_r2: 0.9996 - val_mae: 0.0041 - val_mse: 5.4726e-05 - val_mape: 2411.4260\n",
      "Epoch 96/100\n",
      "26215/26215 [==============================] - 48s 2ms/step - loss: 0.0042 - rmse: 0.0074 - r2: 0.9996 - mae: 0.0042 - mse: 5.5176e-05 - mape: 2679.4839 - val_loss: 0.0042 - val_rmse: 0.0074 - val_r2: 0.9996 - val_mae: 0.0042 - val_mse: 5.4579e-05 - val_mape: 2375.3440\n",
      "Epoch 97/100\n",
      "26215/26215 [==============================] - 40s 2ms/step - loss: 0.0042 - rmse: 0.0074 - r2: 0.9996 - mae: 0.0042 - mse: 5.5167e-05 - mape: 2673.3467 - val_loss: 0.0041 - val_rmse: 0.0074 - val_r2: 0.9996 - val_mae: 0.0041 - val_mse: 5.4692e-05 - val_mape: 2986.3005\n",
      "Epoch 98/100\n",
      "26215/26215 [==============================] - 40s 2ms/step - loss: 0.0042 - rmse: 0.0074 - r2: 0.9996 - mae: 0.0042 - mse: 5.5136e-05 - mape: 2683.3352 - val_loss: 0.0041 - val_rmse: 0.0074 - val_r2: 0.9996 - val_mae: 0.0041 - val_mse: 5.4612e-05 - val_mape: 2828.5122\n",
      "Epoch 99/100\n",
      "26215/26215 [==============================] - 40s 2ms/step - loss: 0.0042 - rmse: 0.0074 - r2: 0.9996 - mae: 0.0042 - mse: 5.5108e-05 - mape: 2684.0154 - val_loss: 0.0041 - val_rmse: 0.0074 - val_r2: 0.9996 - val_mae: 0.0041 - val_mse: 5.4506e-05 - val_mape: 2217.2258\n",
      "Epoch 100/100\n",
      "26215/26215 [==============================] - 40s 2ms/step - loss: 0.0042 - rmse: 0.0074 - r2: 0.9996 - mae: 0.0042 - mse: 5.5089e-05 - mape: 2679.1121 - val_loss: 0.0042 - val_rmse: 0.0074 - val_r2: 0.9996 - val_mae: 0.0042 - val_mse: 5.4515e-05 - val_mape: 2485.4209\n",
      "CPU times: total: 2h 40min 49s\n",
      "Wall time: 1h 23min 27s\n"
     ]
    }
   ],
   "source": [
    "%%time\n",
    "tf.random.set_seed(42)\n",
    "\n",
    "model_4 = tf.keras.Sequential([tf.keras.layers.Dense(50,activation = 'relu'),\n",
    "                               tf.keras.layers.Dense(50),\n",
    "                               tf.keras.layers.Dense(50),\n",
    "                               tf.keras.layers.Dense(100),\n",
    "                               tf.keras.layers.Dense(50),\n",
    "                               tf.keras.layers.Dense(20),\n",
    "                               tf.keras.layers.Dense(1)])\n",
    "\n",
    "model_4.compile(loss = tf.keras.losses.mae,\n",
    "                optimizer = tf.keras.optimizers.legacy.Adam(learning_rate=0.001,decay=0.001),\n",
    "                metrics=[tf.keras.metrics.RootMeanSquaredError(name='rmse'),\n",
    "                         tfa.metrics.RSquare(name='r2'),'mae','mse','mape'])\n",
    "\n",
    "history_4 = model_4.fit(X_train,Y_train, epochs= 100,batch_size=32,validation_data=(X_test,Y_test), callbacks = callback)"
   ]
  },
  {
   "cell_type": "code",
   "execution_count": 25,
   "id": "1fc2d723",
   "metadata": {},
   "outputs": [
    {
     "data": {
      "image/png": "[encoded data removed]",
      "text/plain": [
       "<Figure size 640x480 with 1 Axes>"
      ]
     },
     "metadata": {},
     "output_type": "display_data"
    }
   ],
   "source": [
    "plot_his(history_4)"
   ]
  },
  {
   "cell_type": "code",
   "execution_count": 26,
   "id": "8eb2d5d4",
   "metadata": {},
   "outputs": [
    {
     "name": "stdout",
     "output_type": "stream",
     "text": [
      "6554/6554 [==============================] - 6s 941us/step - loss: 0.0042 - rmse: 0.0074 - r2: 0.9996 - mae: 0.0042 - mse: 5.4515e-05 - mape: 2485.4209\n"
     ]
    },
    {
     "data": {
      "text/plain": [
       "[0.0041570840403437614,\n",
       " 0.007383457850664854,\n",
       " 0.9995630979537964,\n",
       " 0.0041570840403437614,\n",
       " 5.451545075629838e-05,\n",
       " 2485.4208984375]"
      ]
     },
     "execution_count": 26,
     "metadata": {},
     "output_type": "execute_result"
    }
   ],
   "source": [
    "model_4.evaluate(X_test,Y_test)"
   ]
  },
  {
   "cell_type": "code",
   "execution_count": 27,
   "id": "c2742a85",
   "metadata": {},
   "outputs": [
    {
     "name": "stdout",
     "output_type": "stream",
     "text": [
      "6554/6554 [==============================] - 5s 685us/step\n"
     ]
    }
   ],
   "source": [
    "Y_pred_4 = model_4.predict(X_test)"
   ]
  },
  {
   "cell_type": "code",
   "execution_count": 28,
   "id": "90dd25c8",
   "metadata": {},
   "outputs": [
    {
     "name": "stdout",
     "output_type": "stream",
     "text": [
      "Model: \"sequential_1\"\n",
      "_________________________________________________________________\n",
      " Layer (type)                Output Shape              Param #   \n",
      "=================================================================\n",
      " dense_5 (Dense)             (None, 50)                200       \n",
      "                                                                 \n",
      " dense_6 (Dense)             (None, 50)                2550      \n",
      "                                                                 \n",
      " dense_7 (Dense)             (None, 50)                2550      \n",
      "                                                                 \n",
      " dense_8 (Dense)             (None, 100)               5100      \n",
      "                                                                 \n",
      " dense_9 (Dense)             (None, 50)                5050      \n",
      "                                                                 \n",
      " dense_10 (Dense)            (None, 20)                1020      \n",
      "                                                                 \n",
      " dense_11 (Dense)            (None, 1)                 21        \n",
      "                                                                 \n",
      "=================================================================\n",
      "Total params: 16,491\n",
      "Trainable params: 16,491\n",
      "Non-trainable params: 0\n",
      "_________________________________________________________________\n"
     ]
    }
   ],
   "source": [
    "model_4.summary()"
   ]
  },
  {
   "cell_type": "code",
   "execution_count": 29,
   "id": "fbbf4501",
   "metadata": {},
   "outputs": [
    {
     "name": "stdout",
     "output_type": "stream",
     "text": [
      "AIC:  32980.832\n"
     ]
    }
   ],
   "source": [
    "AIC_value(model_4,Y_pred_4,Y_test)"
   ]
  },
  {
   "cell_type": "code",
   "execution_count": 30,
   "id": "f16f5694",
   "metadata": {},
   "outputs": [],
   "source": [
    "model_4.save('Saved_models/model_4_SOCesti.h5')"
   ]
  },
  {
   "cell_type": "code",
   "execution_count": null,
   "id": "16a61a84",
   "metadata": {},
   "outputs": [],
   "source": []
  },
  {
   "cell_type": "markdown",
   "id": "05d8ac8e",
   "metadata": {},
   "source": [
    "# LSTM"
   ]
  },
  {
   "cell_type": "code",
   "execution_count": 17,
   "id": "5770ebd6",
   "metadata": {},
   "outputs": [
    {
     "name": "stdout",
     "output_type": "stream",
     "text": [
      "Epoch 1/100\n",
      "26215/26215 [==============================] - 84s 3ms/step - loss: 0.0209 - rmse: 0.0507 - r2: 0.9794 - mae: 0.0209 - mse: 0.0026 - mape: 33095.7461 - val_loss: 0.0071 - val_rmse: 0.0119 - val_r2: 0.9989 - val_mae: 0.0071 - val_mse: 1.4067e-04 - val_mape: 1551.4481\n",
      "Epoch 2/100\n",
      "26215/26215 [==============================] - 87s 3ms/step - loss: 0.0064 - rmse: 0.0104 - r2: 0.9991 - mae: 0.0064 - mse: 1.0833e-04 - mape: 3296.3525 - val_loss: 0.0059 - val_rmse: 0.0100 - val_r2: 0.9992 - val_mae: 0.0059 - val_mse: 1.0052e-04 - val_mape: 2051.3748\n",
      "Epoch 3/100\n",
      "26215/26215 [==============================] - 91s 3ms/step - loss: 0.0059 - rmse: 0.0096 - r2: 0.9993 - mae: 0.0059 - mse: 9.2490e-05 - mape: 3574.5422 - val_loss: 0.0058 - val_rmse: 0.0095 - val_r2: 0.9993 - val_mae: 0.0058 - val_mse: 8.9609e-05 - val_mape: 4053.8020\n",
      "Epoch 4/100\n",
      "26215/26215 [==============================] - 96s 4ms/step - loss: 0.0056 - rmse: 0.0093 - r2: 0.9993 - mae: 0.0056 - mse: 8.6744e-05 - mape: 3452.1223 - val_loss: 0.0055 - val_rmse: 0.0092 - val_r2: 0.9993 - val_mae: 0.0055 - val_mse: 8.5138e-05 - val_mape: 4881.9795\n",
      "Epoch 5/100\n",
      "26215/26215 [==============================] - 89s 3ms/step - loss: 0.0055 - rmse: 0.0092 - r2: 0.9993 - mae: 0.0055 - mse: 8.4082e-05 - mape: 3350.3250 - val_loss: 0.0057 - val_rmse: 0.0097 - val_r2: 0.9993 - val_mae: 0.0057 - val_mse: 9.3159e-05 - val_mape: 4657.7891\n",
      "Epoch 6/100\n",
      "26215/26215 [==============================] - 90s 3ms/step - loss: 0.0054 - rmse: 0.0091 - r2: 0.9993 - mae: 0.0054 - mse: 8.2406e-05 - mape: 3226.2747 - val_loss: 0.0053 - val_rmse: 0.0092 - val_r2: 0.9993 - val_mae: 0.0053 - val_mse: 8.3802e-05 - val_mape: 2500.2292\n",
      "Epoch 7/100\n",
      "26215/26215 [==============================] - 89s 3ms/step - loss: 0.0053 - rmse: 0.0090 - r2: 0.9993 - mae: 0.0053 - mse: 8.1164e-05 - mape: 3196.4070 - val_loss: 0.0053 - val_rmse: 0.0092 - val_r2: 0.9993 - val_mae: 0.0053 - val_mse: 8.3757e-05 - val_mape: 2116.3147\n",
      "Epoch 8/100\n",
      "26215/26215 [==============================] - 90s 3ms/step - loss: 0.0052 - rmse: 0.0090 - r2: 0.9994 - mae: 0.0052 - mse: 8.0276e-05 - mape: 3106.6914 - val_loss: 0.0054 - val_rmse: 0.0090 - val_r2: 0.9993 - val_mae: 0.0054 - val_mse: 8.1531e-05 - val_mape: 3726.0259\n",
      "Epoch 9/100\n",
      "26215/26215 [==============================] - 90s 3ms/step - loss: 0.0052 - rmse: 0.0089 - r2: 0.9994 - mae: 0.0052 - mse: 7.9455e-05 - mape: 3078.2441 - val_loss: 0.0051 - val_rmse: 0.0089 - val_r2: 0.9994 - val_mae: 0.0051 - val_mse: 7.9339e-05 - val_mape: 2836.7795\n",
      "Epoch 10/100\n",
      "26215/26215 [==============================] - 90s 3ms/step - loss: 0.0051 - rmse: 0.0089 - r2: 0.9994 - mae: 0.0051 - mse: 7.8560e-05 - mape: 3059.0193 - val_loss: 0.0051 - val_rmse: 0.0089 - val_r2: 0.9994 - val_mae: 0.0051 - val_mse: 7.9835e-05 - val_mape: 2947.5667\n",
      "Epoch 11/100\n",
      "26215/26215 [==============================] - 90s 3ms/step - loss: 0.0051 - rmse: 0.0088 - r2: 0.9994 - mae: 0.0051 - mse: 7.7862e-05 - mape: 3044.8447 - val_loss: 0.0050 - val_rmse: 0.0088 - val_r2: 0.9994 - val_mae: 0.0050 - val_mse: 7.7610e-05 - val_mape: 3055.0044\n",
      "Epoch 12/100\n",
      "26215/26215 [==============================] - 90s 3ms/step - loss: 0.0050 - rmse: 0.0088 - r2: 0.9994 - mae: 0.0050 - mse: 7.6972e-05 - mape: 3023.7297 - val_loss: 0.0052 - val_rmse: 0.0090 - val_r2: 0.9994 - val_mae: 0.0052 - val_mse: 8.0731e-05 - val_mape: 2919.6560\n",
      "Epoch 13/100\n",
      "26215/26215 [==============================] - 90s 3ms/step - loss: 0.0050 - rmse: 0.0087 - r2: 0.9994 - mae: 0.0050 - mse: 7.6200e-05 - mape: 3040.5723 - val_loss: 0.0049 - val_rmse: 0.0087 - val_r2: 0.9994 - val_mae: 0.0049 - val_mse: 7.6176e-05 - val_mape: 2620.9922\n",
      "Epoch 14/100\n",
      "26215/26215 [==============================] - 90s 3ms/step - loss: 0.0049 - rmse: 0.0087 - r2: 0.9994 - mae: 0.0049 - mse: 7.5297e-05 - mape: 2976.8577 - val_loss: 0.0049 - val_rmse: 0.0087 - val_r2: 0.9994 - val_mae: 0.0049 - val_mse: 7.6415e-05 - val_mape: 2428.7844\n",
      "Epoch 15/100\n",
      "26215/26215 [==============================] - 91s 3ms/step - loss: 0.0049 - rmse: 0.0086 - r2: 0.9994 - mae: 0.0049 - mse: 7.4576e-05 - mape: 2999.1560 - val_loss: 0.0049 - val_rmse: 0.0087 - val_r2: 0.9994 - val_mae: 0.0049 - val_mse: 7.5943e-05 - val_mape: 2834.1062\n",
      "Epoch 16/100\n",
      "26215/26215 [==============================] - 90s 3ms/step - loss: 0.0049 - rmse: 0.0086 - r2: 0.9994 - mae: 0.0049 - mse: 7.3741e-05 - mape: 2990.4563 - val_loss: 0.0049 - val_rmse: 0.0087 - val_r2: 0.9994 - val_mae: 0.0049 - val_mse: 7.5954e-05 - val_mape: 3460.9294\n",
      "Epoch 17/100\n",
      "26215/26215 [==============================] - 90s 3ms/step - loss: 0.0048 - rmse: 0.0085 - r2: 0.9994 - mae: 0.0048 - mse: 7.3023e-05 - mape: 2993.3401 - val_loss: 0.0049 - val_rmse: 0.0087 - val_r2: 0.9994 - val_mae: 0.0049 - val_mse: 7.5904e-05 - val_mape: 3343.0996\n",
      "Epoch 18/100\n",
      "26215/26215 [==============================] - 91s 3ms/step - loss: 0.0048 - rmse: 0.0085 - r2: 0.9994 - mae: 0.0048 - mse: 7.2215e-05 - mape: 2973.9478 - val_loss: 0.0048 - val_rmse: 0.0085 - val_r2: 0.9994 - val_mae: 0.0048 - val_mse: 7.2723e-05 - val_mape: 2831.0303\n",
      "Epoch 19/100\n",
      "26215/26215 [==============================] - 91s 3ms/step - loss: 0.0048 - rmse: 0.0085 - r2: 0.9994 - mae: 0.0048 - mse: 7.1558e-05 - mape: 2953.4636 - val_loss: 0.0048 - val_rmse: 0.0086 - val_r2: 0.9994 - val_mae: 0.0048 - val_mse: 7.3233e-05 - val_mape: 2329.1294\n",
      "Epoch 20/100\n",
      "26215/26215 [==============================] - 90s 3ms/step - loss: 0.0048 - rmse: 0.0084 - r2: 0.9994 - mae: 0.0048 - mse: 7.0768e-05 - mape: 2947.0696 - val_loss: 0.0047 - val_rmse: 0.0084 - val_r2: 0.9994 - val_mae: 0.0047 - val_mse: 7.1089e-05 - val_mape: 3344.0518\n",
      "Epoch 21/100\n",
      "26215/26215 [==============================] - 90s 3ms/step - loss: 0.0047 - rmse: 0.0084 - r2: 0.9994 - mae: 0.0047 - mse: 7.0108e-05 - mape: 2880.1201 - val_loss: 0.0047 - val_rmse: 0.0084 - val_r2: 0.9994 - val_mae: 0.0047 - val_mse: 7.1219e-05 - val_mape: 2091.9985\n",
      "Epoch 22/100\n",
      "26215/26215 [==============================] - 91s 3ms/step - loss: 0.0047 - rmse: 0.0083 - r2: 0.9994 - mae: 0.0047 - mse: 6.9510e-05 - mape: 2892.3843 - val_loss: 0.0047 - val_rmse: 0.0084 - val_r2: 0.9994 - val_mae: 0.0047 - val_mse: 7.0913e-05 - val_mape: 1992.7354\n",
      "Epoch 23/100\n",
      "26215/26215 [==============================] - 91s 3ms/step - loss: 0.0047 - rmse: 0.0083 - r2: 0.9994 - mae: 0.0047 - mse: 6.8851e-05 - mape: 2855.7605 - val_loss: 0.0047 - val_rmse: 0.0084 - val_r2: 0.9994 - val_mae: 0.0047 - val_mse: 7.0271e-05 - val_mape: 3075.1423\n",
      "Epoch 24/100\n",
      "26215/26215 [==============================] - 90s 3ms/step - loss: 0.0047 - rmse: 0.0083 - r2: 0.9995 - mae: 0.0047 - mse: 6.8214e-05 - mape: 2839.2036 - val_loss: 0.0047 - val_rmse: 0.0084 - val_r2: 0.9994 - val_mae: 0.0047 - val_mse: 6.9943e-05 - val_mape: 2045.2681\n",
      "Epoch 25/100\n",
      "26215/26215 [==============================] - 91s 3ms/step - loss: 0.0046 - rmse: 0.0082 - r2: 0.9995 - mae: 0.0046 - mse: 6.7644e-05 - mape: 2836.8062 - val_loss: 0.0046 - val_rmse: 0.0083 - val_r2: 0.9995 - val_mae: 0.0046 - val_mse: 6.8086e-05 - val_mape: 2620.8542\n",
      "Epoch 26/100\n",
      "26215/26215 [==============================] - 94s 4ms/step - loss: 0.0046 - rmse: 0.0082 - r2: 0.9995 - mae: 0.0046 - mse: 6.7056e-05 - mape: 2756.6221 - val_loss: 0.0046 - val_rmse: 0.0082 - val_r2: 0.9995 - val_mae: 0.0046 - val_mse: 6.7809e-05 - val_mape: 2433.8770\n",
      "Epoch 27/100\n",
      "26215/26215 [==============================] - 92s 3ms/step - loss: 0.0046 - rmse: 0.0082 - r2: 0.9995 - mae: 0.0046 - mse: 6.6510e-05 - mape: 2765.3694 - val_loss: 0.0046 - val_rmse: 0.0082 - val_r2: 0.9995 - val_mae: 0.0046 - val_mse: 6.7503e-05 - val_mape: 2853.6619\n",
      "Epoch 28/100\n",
      "26215/26215 [==============================] - 93s 4ms/step - loss: 0.0046 - rmse: 0.0081 - r2: 0.9995 - mae: 0.0046 - mse: 6.6026e-05 - mape: 2722.3020 - val_loss: 0.0046 - val_rmse: 0.0082 - val_r2: 0.9995 - val_mae: 0.0046 - val_mse: 6.6583e-05 - val_mape: 2709.2002\n",
      "Epoch 29/100\n",
      "26215/26215 [==============================] - 91s 3ms/step - loss: 0.0046 - rmse: 0.0081 - r2: 0.9995 - mae: 0.0046 - mse: 6.5429e-05 - mape: 2712.6350 - val_loss: 0.0046 - val_rmse: 0.0082 - val_r2: 0.9995 - val_mae: 0.0046 - val_mse: 6.6862e-05 - val_mape: 3058.3406\n"
     ]
    },
    {
     "name": "stdout",
     "output_type": "stream",
     "text": [
      "Epoch 30/100\n",
      "26215/26215 [==============================] - 115s 4ms/step - loss: 0.0045 - rmse: 0.0081 - r2: 0.9995 - mae: 0.0045 - mse: 6.4985e-05 - mape: 2696.3267 - val_loss: 0.0045 - val_rmse: 0.0081 - val_r2: 0.9995 - val_mae: 0.0045 - val_mse: 6.5582e-05 - val_mape: 2852.4121\n",
      "Epoch 31/100\n",
      "26215/26215 [==============================] - 126s 5ms/step - loss: 0.0045 - rmse: 0.0080 - r2: 0.9995 - mae: 0.0045 - mse: 6.4545e-05 - mape: 2697.2988 - val_loss: 0.0046 - val_rmse: 0.0081 - val_r2: 0.9995 - val_mae: 0.0046 - val_mse: 6.6369e-05 - val_mape: 3375.4753\n",
      "Epoch 32/100\n",
      "26215/26215 [==============================] - 127s 5ms/step - loss: 0.0045 - rmse: 0.0080 - r2: 0.9995 - mae: 0.0045 - mse: 6.4081e-05 - mape: 2690.2661 - val_loss: 0.0045 - val_rmse: 0.0081 - val_r2: 0.9995 - val_mae: 0.0045 - val_mse: 6.5535e-05 - val_mape: 2935.6375\n",
      "Epoch 33/100\n",
      "26215/26215 [==============================] - 129s 5ms/step - loss: 0.0045 - rmse: 0.0080 - r2: 0.9995 - mae: 0.0045 - mse: 6.3735e-05 - mape: 2634.8486 - val_loss: 0.0046 - val_rmse: 0.0081 - val_r2: 0.9995 - val_mae: 0.0046 - val_mse: 6.4831e-05 - val_mape: 2281.9070\n",
      "Epoch 34/100\n",
      "26215/26215 [==============================] - 127s 5ms/step - loss: 0.0045 - rmse: 0.0080 - r2: 0.9995 - mae: 0.0045 - mse: 6.3294e-05 - mape: 2604.3191 - val_loss: 0.0045 - val_rmse: 0.0080 - val_r2: 0.9995 - val_mae: 0.0045 - val_mse: 6.4572e-05 - val_mape: 2439.8157\n",
      "Epoch 35/100\n",
      "26215/26215 [==============================] - 126s 5ms/step - loss: 0.0045 - rmse: 0.0079 - r2: 0.9995 - mae: 0.0045 - mse: 6.2912e-05 - mape: 2608.8635 - val_loss: 0.0045 - val_rmse: 0.0080 - val_r2: 0.9995 - val_mae: 0.0045 - val_mse: 6.3710e-05 - val_mape: 2409.5015\n",
      "Epoch 36/100\n",
      "26215/26215 [==============================] - 127s 5ms/step - loss: 0.0045 - rmse: 0.0079 - r2: 0.9995 - mae: 0.0045 - mse: 6.2567e-05 - mape: 2560.2017 - val_loss: 0.0045 - val_rmse: 0.0080 - val_r2: 0.9995 - val_mae: 0.0045 - val_mse: 6.4045e-05 - val_mape: 2655.7808\n",
      "Epoch 37/100\n",
      "26215/26215 [==============================] - 126s 5ms/step - loss: 0.0044 - rmse: 0.0079 - r2: 0.9995 - mae: 0.0044 - mse: 6.2258e-05 - mape: 2551.2905 - val_loss: 0.0044 - val_rmse: 0.0080 - val_r2: 0.9995 - val_mae: 0.0044 - val_mse: 6.3267e-05 - val_mape: 3230.0571\n",
      "Epoch 38/100\n",
      "26215/26215 [==============================] - 127s 5ms/step - loss: 0.0044 - rmse: 0.0079 - r2: 0.9995 - mae: 0.0044 - mse: 6.1932e-05 - mape: 2529.4778 - val_loss: 0.0045 - val_rmse: 0.0080 - val_r2: 0.9995 - val_mae: 0.0045 - val_mse: 6.4542e-05 - val_mape: 2298.5564\n",
      "Epoch 39/100\n",
      "26215/26215 [==============================] - 127s 5ms/step - loss: 0.0044 - rmse: 0.0079 - r2: 0.9995 - mae: 0.0044 - mse: 6.1640e-05 - mape: 2484.4897 - val_loss: 0.0044 - val_rmse: 0.0079 - val_r2: 0.9995 - val_mae: 0.0044 - val_mse: 6.3045e-05 - val_mape: 2790.6965\n",
      "Epoch 40/100\n",
      "26215/26215 [==============================] - 127s 5ms/step - loss: 0.0044 - rmse: 0.0078 - r2: 0.9995 - mae: 0.0044 - mse: 6.1312e-05 - mape: 2407.9712 - val_loss: 0.0044 - val_rmse: 0.0079 - val_r2: 0.9995 - val_mae: 0.0044 - val_mse: 6.2373e-05 - val_mape: 2451.9827\n",
      "Epoch 41/100\n",
      "26215/26215 [==============================] - 115s 4ms/step - loss: 0.0044 - rmse: 0.0078 - r2: 0.9995 - mae: 0.0044 - mse: 6.1114e-05 - mape: 2407.0598 - val_loss: 0.0044 - val_rmse: 0.0079 - val_r2: 0.9995 - val_mae: 0.0044 - val_mse: 6.1818e-05 - val_mape: 2007.6052\n",
      "Epoch 42/100\n",
      "26215/26215 [==============================] - 87s 3ms/step - loss: 0.0044 - rmse: 0.0078 - r2: 0.9995 - mae: 0.0044 - mse: 6.0780e-05 - mape: 2368.2473 - val_loss: 0.0044 - val_rmse: 0.0079 - val_r2: 0.9995 - val_mae: 0.0044 - val_mse: 6.1802e-05 - val_mape: 2107.5435\n",
      "Epoch 43/100\n",
      "26215/26215 [==============================] - 89s 3ms/step - loss: 0.0044 - rmse: 0.0078 - r2: 0.9995 - mae: 0.0044 - mse: 6.0568e-05 - mape: 2299.2085 - val_loss: 0.0044 - val_rmse: 0.0079 - val_r2: 0.9995 - val_mae: 0.0044 - val_mse: 6.1738e-05 - val_mape: 2020.2903\n",
      "Epoch 44/100\n",
      "26215/26215 [==============================] - 88s 3ms/step - loss: 0.0044 - rmse: 0.0078 - r2: 0.9995 - mae: 0.0044 - mse: 6.0297e-05 - mape: 2275.8723 - val_loss: 0.0044 - val_rmse: 0.0078 - val_r2: 0.9995 - val_mae: 0.0044 - val_mse: 6.1449e-05 - val_mape: 2006.0499\n",
      "Epoch 45/100\n",
      "26215/26215 [==============================] - 88s 3ms/step - loss: 0.0044 - rmse: 0.0077 - r2: 0.9995 - mae: 0.0044 - mse: 6.0041e-05 - mape: 2228.2722 - val_loss: 0.0044 - val_rmse: 0.0078 - val_r2: 0.9995 - val_mae: 0.0044 - val_mse: 6.1415e-05 - val_mape: 2196.2822\n",
      "Epoch 46/100\n",
      "26215/26215 [==============================] - 88s 3ms/step - loss: 0.0043 - rmse: 0.0077 - r2: 0.9995 - mae: 0.0043 - mse: 5.9817e-05 - mape: 2184.3589 - val_loss: 0.0044 - val_rmse: 0.0079 - val_r2: 0.9995 - val_mae: 0.0044 - val_mse: 6.1711e-05 - val_mape: 2219.7100\n",
      "Epoch 47/100\n",
      "26215/26215 [==============================] - 89s 3ms/step - loss: 0.0043 - rmse: 0.0077 - r2: 0.9995 - mae: 0.0043 - mse: 5.9611e-05 - mape: 2133.0305 - val_loss: 0.0043 - val_rmse: 0.0078 - val_r2: 0.9995 - val_mae: 0.0043 - val_mse: 6.0799e-05 - val_mape: 2005.7419\n",
      "Epoch 48/100\n",
      "26215/26215 [==============================] - 89s 3ms/step - loss: 0.0043 - rmse: 0.0077 - r2: 0.9995 - mae: 0.0043 - mse: 5.9374e-05 - mape: 2065.3145 - val_loss: 0.0043 - val_rmse: 0.0078 - val_r2: 0.9995 - val_mae: 0.0043 - val_mse: 6.0147e-05 - val_mape: 2001.1473\n",
      "Epoch 49/100\n",
      "26215/26215 [==============================] - 88s 3ms/step - loss: 0.0043 - rmse: 0.0077 - r2: 0.9995 - mae: 0.0043 - mse: 5.9185e-05 - mape: 2016.5786 - val_loss: 0.0043 - val_rmse: 0.0077 - val_r2: 0.9995 - val_mae: 0.0043 - val_mse: 5.9854e-05 - val_mape: 2095.2012\n",
      "Epoch 50/100\n",
      "26215/26215 [==============================] - 90s 3ms/step - loss: 0.0043 - rmse: 0.0077 - r2: 0.9995 - mae: 0.0043 - mse: 5.8932e-05 - mape: 1986.9963 - val_loss: 0.0043 - val_rmse: 0.0078 - val_r2: 0.9995 - val_mae: 0.0043 - val_mse: 6.0106e-05 - val_mape: 2646.2815\n",
      "Epoch 51/100\n",
      "26215/26215 [==============================] - 89s 3ms/step - loss: 0.0043 - rmse: 0.0077 - r2: 0.9995 - mae: 0.0043 - mse: 5.8798e-05 - mape: 1911.8821 - val_loss: 0.0043 - val_rmse: 0.0078 - val_r2: 0.9995 - val_mae: 0.0043 - val_mse: 6.0149e-05 - val_mape: 1821.1947\n",
      "Epoch 52/100\n",
      "26215/26215 [==============================] - 89s 3ms/step - loss: 0.0043 - rmse: 0.0077 - r2: 0.9995 - mae: 0.0043 - mse: 5.8554e-05 - mape: 1856.0669 - val_loss: 0.0043 - val_rmse: 0.0077 - val_r2: 0.9995 - val_mae: 0.0043 - val_mse: 5.9463e-05 - val_mape: 1469.8176\n",
      "Epoch 53/100\n",
      "26215/26215 [==============================] - 89s 3ms/step - loss: 0.0043 - rmse: 0.0076 - r2: 0.9995 - mae: 0.0043 - mse: 5.8354e-05 - mape: 1830.0574 - val_loss: 0.0043 - val_rmse: 0.0077 - val_r2: 0.9995 - val_mae: 0.0043 - val_mse: 5.9436e-05 - val_mape: 1450.4985\n",
      "Epoch 54/100\n",
      "26215/26215 [==============================] - 88s 3ms/step - loss: 0.0043 - rmse: 0.0076 - r2: 0.9995 - mae: 0.0043 - mse: 5.8178e-05 - mape: 1788.4150 - val_loss: 0.0043 - val_rmse: 0.0077 - val_r2: 0.9995 - val_mae: 0.0043 - val_mse: 5.9135e-05 - val_mape: 1506.6292\n",
      "Epoch 55/100\n",
      "26215/26215 [==============================] - 122s 5ms/step - loss: 0.0043 - rmse: 0.0076 - r2: 0.9995 - mae: 0.0043 - mse: 5.8017e-05 - mape: 1761.7826 - val_loss: 0.0043 - val_rmse: 0.0077 - val_r2: 0.9995 - val_mae: 0.0043 - val_mse: 5.9145e-05 - val_mape: 1623.8861\n",
      "Epoch 56/100\n",
      "26215/26215 [==============================] - 130s 5ms/step - loss: 0.0043 - rmse: 0.0076 - r2: 0.9995 - mae: 0.0043 - mse: 5.7856e-05 - mape: 1707.8296 - val_loss: 0.0043 - val_rmse: 0.0077 - val_r2: 0.9995 - val_mae: 0.0043 - val_mse: 5.9254e-05 - val_mape: 1757.8405\n",
      "Epoch 57/100\n",
      "26215/26215 [==============================] - 129s 5ms/step - loss: 0.0042 - rmse: 0.0076 - r2: 0.9995 - mae: 0.0042 - mse: 5.7626e-05 - mape: 1646.8944 - val_loss: 0.0043 - val_rmse: 0.0077 - val_r2: 0.9995 - val_mae: 0.0043 - val_mse: 5.8871e-05 - val_mape: 1716.7423\n",
      "Epoch 58/100\n",
      "26215/26215 [==============================] - 129s 5ms/step - loss: 0.0042 - rmse: 0.0076 - r2: 0.9995 - mae: 0.0042 - mse: 5.7452e-05 - mape: 1657.0643 - val_loss: 0.0043 - val_rmse: 0.0077 - val_r2: 0.9995 - val_mae: 0.0043 - val_mse: 5.9115e-05 - val_mape: 1565.1687\n"
     ]
    },
    {
     "name": "stdout",
     "output_type": "stream",
     "text": [
      "Epoch 59/100\n",
      "26215/26215 [==============================] - 126s 5ms/step - loss: 0.0042 - rmse: 0.0076 - r2: 0.9995 - mae: 0.0042 - mse: 5.7238e-05 - mape: 1599.1794 - val_loss: 0.0043 - val_rmse: 0.0076 - val_r2: 0.9995 - val_mae: 0.0043 - val_mse: 5.8470e-05 - val_mape: 1408.9166\n",
      "Epoch 60/100\n",
      "26215/26215 [==============================] - 127s 5ms/step - loss: 0.0042 - rmse: 0.0076 - r2: 0.9995 - mae: 0.0042 - mse: 5.7107e-05 - mape: 1577.1721 - val_loss: 0.0042 - val_rmse: 0.0076 - val_r2: 0.9995 - val_mae: 0.0042 - val_mse: 5.7926e-05 - val_mape: 1295.9840\n",
      "Epoch 61/100\n",
      "26215/26215 [==============================] - 127s 5ms/step - loss: 0.0042 - rmse: 0.0075 - r2: 0.9995 - mae: 0.0042 - mse: 5.6954e-05 - mape: 1533.6039 - val_loss: 0.0042 - val_rmse: 0.0076 - val_r2: 0.9995 - val_mae: 0.0042 - val_mse: 5.7582e-05 - val_mape: 1533.0858\n",
      "Epoch 62/100\n",
      "26215/26215 [==============================] - 126s 5ms/step - loss: 0.0042 - rmse: 0.0075 - r2: 0.9995 - mae: 0.0042 - mse: 5.6714e-05 - mape: 1507.6583 - val_loss: 0.0042 - val_rmse: 0.0076 - val_r2: 0.9995 - val_mae: 0.0042 - val_mse: 5.7710e-05 - val_mape: 1316.8472\n",
      "Epoch 63/100\n",
      "26215/26215 [==============================] - 128s 5ms/step - loss: 0.0042 - rmse: 0.0075 - r2: 0.9995 - mae: 0.0042 - mse: 5.6603e-05 - mape: 1480.8126 - val_loss: 0.0042 - val_rmse: 0.0076 - val_r2: 0.9995 - val_mae: 0.0042 - val_mse: 5.7700e-05 - val_mape: 1412.4901\n",
      "Epoch 64/100\n",
      "26215/26215 [==============================] - 127s 5ms/step - loss: 0.0042 - rmse: 0.0075 - r2: 0.9995 - mae: 0.0042 - mse: 5.6373e-05 - mape: 1461.4049 - val_loss: 0.0042 - val_rmse: 0.0076 - val_r2: 0.9995 - val_mae: 0.0042 - val_mse: 5.7721e-05 - val_mape: 1480.4796\n",
      "Epoch 65/100\n",
      "26215/26215 [==============================] - 128s 5ms/step - loss: 0.0042 - rmse: 0.0075 - r2: 0.9995 - mae: 0.0042 - mse: 5.6277e-05 - mape: 1440.9991 - val_loss: 0.0042 - val_rmse: 0.0076 - val_r2: 0.9995 - val_mae: 0.0042 - val_mse: 5.7719e-05 - val_mape: 1530.0480\n",
      "Epoch 66/100\n",
      "26215/26215 [==============================] - 127s 5ms/step - loss: 0.0042 - rmse: 0.0075 - r2: 0.9996 - mae: 0.0042 - mse: 5.6105e-05 - mape: 1413.1494 - val_loss: 0.0042 - val_rmse: 0.0076 - val_r2: 0.9995 - val_mae: 0.0042 - val_mse: 5.7424e-05 - val_mape: 1761.9148\n",
      "Epoch 67/100\n",
      "26215/26215 [==============================] - 107s 4ms/step - loss: 0.0042 - rmse: 0.0075 - r2: 0.9996 - mae: 0.0042 - mse: 5.5993e-05 - mape: 1392.2234 - val_loss: 0.0043 - val_rmse: 0.0076 - val_r2: 0.9995 - val_mae: 0.0043 - val_mse: 5.7240e-05 - val_mape: 1229.7668\n",
      "Epoch 68/100\n",
      "26215/26215 [==============================] - 88s 3ms/step - loss: 0.0042 - rmse: 0.0075 - r2: 0.9996 - mae: 0.0042 - mse: 5.5810e-05 - mape: 1369.9930 - val_loss: 0.0042 - val_rmse: 0.0075 - val_r2: 0.9995 - val_mae: 0.0042 - val_mse: 5.6953e-05 - val_mape: 1552.6371\n",
      "Epoch 69/100\n",
      "26215/26215 [==============================] - 88s 3ms/step - loss: 0.0042 - rmse: 0.0075 - r2: 0.9996 - mae: 0.0042 - mse: 5.5674e-05 - mape: 1345.5764 - val_loss: 0.0042 - val_rmse: 0.0075 - val_r2: 0.9995 - val_mae: 0.0042 - val_mse: 5.6440e-05 - val_mape: 1327.2948\n",
      "Epoch 70/100\n",
      "26215/26215 [==============================] - 88s 3ms/step - loss: 0.0042 - rmse: 0.0074 - r2: 0.9996 - mae: 0.0042 - mse: 5.5493e-05 - mape: 1329.8141 - val_loss: 0.0042 - val_rmse: 0.0075 - val_r2: 0.9996 - val_mae: 0.0042 - val_mse: 5.6126e-05 - val_mape: 1163.1278\n",
      "Epoch 71/100\n",
      "26215/26215 [==============================] - 88s 3ms/step - loss: 0.0042 - rmse: 0.0074 - r2: 0.9996 - mae: 0.0042 - mse: 5.5375e-05 - mape: 1312.5835 - val_loss: 0.0042 - val_rmse: 0.0075 - val_r2: 0.9996 - val_mae: 0.0042 - val_mse: 5.6021e-05 - val_mape: 1181.9500\n",
      "Epoch 72/100\n",
      "26215/26215 [==============================] - 89s 3ms/step - loss: 0.0042 - rmse: 0.0074 - r2: 0.9996 - mae: 0.0042 - mse: 5.5214e-05 - mape: 1301.2294 - val_loss: 0.0042 - val_rmse: 0.0075 - val_r2: 0.9995 - val_mae: 0.0042 - val_mse: 5.6229e-05 - val_mape: 1105.9120\n",
      "Epoch 73/100\n",
      "26215/26215 [==============================] - 88s 3ms/step - loss: 0.0041 - rmse: 0.0074 - r2: 0.9996 - mae: 0.0041 - mse: 5.5146e-05 - mape: 1277.1669 - val_loss: 0.0042 - val_rmse: 0.0075 - val_r2: 0.9996 - val_mae: 0.0042 - val_mse: 5.6180e-05 - val_mape: 1359.7324\n",
      "Epoch 74/100\n",
      "26215/26215 [==============================] - 89s 3ms/step - loss: 0.0041 - rmse: 0.0074 - r2: 0.9996 - mae: 0.0041 - mse: 5.4986e-05 - mape: 1270.0586 - val_loss: 0.0041 - val_rmse: 0.0075 - val_r2: 0.9996 - val_mae: 0.0041 - val_mse: 5.6082e-05 - val_mape: 1714.4279\n",
      "Epoch 75/100\n",
      "26215/26215 [==============================] - 89s 3ms/step - loss: 0.0041 - rmse: 0.0074 - r2: 0.9996 - mae: 0.0041 - mse: 5.4863e-05 - mape: 1242.5780 - val_loss: 0.0042 - val_rmse: 0.0075 - val_r2: 0.9996 - val_mae: 0.0042 - val_mse: 5.6125e-05 - val_mape: 1286.8022\n",
      "Epoch 76/100\n",
      "26215/26215 [==============================] - 88s 3ms/step - loss: 0.0041 - rmse: 0.0074 - r2: 0.9996 - mae: 0.0041 - mse: 5.4798e-05 - mape: 1247.3557 - val_loss: 0.0042 - val_rmse: 0.0075 - val_r2: 0.9995 - val_mae: 0.0042 - val_mse: 5.6614e-05 - val_mape: 1160.7922\n",
      "Epoch 77/100\n",
      "26215/26215 [==============================] - 88s 3ms/step - loss: 0.0041 - rmse: 0.0074 - r2: 0.9996 - mae: 0.0041 - mse: 5.4684e-05 - mape: 1225.0549 - val_loss: 0.0042 - val_rmse: 0.0074 - val_r2: 0.9996 - val_mae: 0.0042 - val_mse: 5.5451e-05 - val_mape: 1232.1902\n",
      "Epoch 78/100\n",
      "26215/26215 [==============================] - 89s 3ms/step - loss: 0.0041 - rmse: 0.0074 - r2: 0.9996 - mae: 0.0041 - mse: 5.4579e-05 - mape: 1211.3542 - val_loss: 0.0041 - val_rmse: 0.0074 - val_r2: 0.9996 - val_mae: 0.0041 - val_mse: 5.5257e-05 - val_mape: 1132.9302\n",
      "Epoch 79/100\n",
      "26215/26215 [==============================] - 90s 3ms/step - loss: 0.0041 - rmse: 0.0074 - r2: 0.9996 - mae: 0.0041 - mse: 5.4482e-05 - mape: 1209.2526 - val_loss: 0.0041 - val_rmse: 0.0074 - val_r2: 0.9996 - val_mae: 0.0041 - val_mse: 5.5041e-05 - val_mape: 1087.8298\n",
      "Epoch 80/100\n",
      "26215/26215 [==============================] - 89s 3ms/step - loss: 0.0041 - rmse: 0.0074 - r2: 0.9996 - mae: 0.0041 - mse: 5.4372e-05 - mape: 1192.3434 - val_loss: 0.0041 - val_rmse: 0.0074 - val_r2: 0.9996 - val_mae: 0.0041 - val_mse: 5.5440e-05 - val_mape: 1120.5825\n",
      "Epoch 81/100\n",
      "26215/26215 [==============================] - 89s 3ms/step - loss: 0.0041 - rmse: 0.0074 - r2: 0.9996 - mae: 0.0041 - mse: 5.4275e-05 - mape: 1180.0884 - val_loss: 0.0041 - val_rmse: 0.0074 - val_r2: 0.9996 - val_mae: 0.0041 - val_mse: 5.5007e-05 - val_mape: 1099.0660\n",
      "Epoch 82/100\n",
      "26215/26215 [==============================] - 126s 5ms/step - loss: 0.0041 - rmse: 0.0074 - r2: 0.9996 - mae: 0.0041 - mse: 5.4241e-05 - mape: 1170.2482 - val_loss: 0.0041 - val_rmse: 0.0074 - val_r2: 0.9996 - val_mae: 0.0041 - val_mse: 5.4897e-05 - val_mape: 1153.2107\n",
      "Epoch 83/100\n",
      "26215/26215 [==============================] - 129s 5ms/step - loss: 0.0041 - rmse: 0.0074 - r2: 0.9996 - mae: 0.0041 - mse: 5.4117e-05 - mape: 1176.4169 - val_loss: 0.0041 - val_rmse: 0.0074 - val_r2: 0.9996 - val_mae: 0.0041 - val_mse: 5.4956e-05 - val_mape: 1087.8994\n",
      "Epoch 84/100\n",
      "26215/26215 [==============================] - 129s 5ms/step - loss: 0.0041 - rmse: 0.0074 - r2: 0.9996 - mae: 0.0041 - mse: 5.4061e-05 - mape: 1150.7690 - val_loss: 0.0041 - val_rmse: 0.0074 - val_r2: 0.9996 - val_mae: 0.0041 - val_mse: 5.4683e-05 - val_mape: 1101.0833\n",
      "Epoch 85/100\n",
      "26215/26215 [==============================] - 128s 5ms/step - loss: 0.0041 - rmse: 0.0073 - r2: 0.9996 - mae: 0.0041 - mse: 5.3977e-05 - mape: 1144.8319 - val_loss: 0.0041 - val_rmse: 0.0074 - val_r2: 0.9996 - val_mae: 0.0041 - val_mse: 5.5365e-05 - val_mape: 1100.3896\n",
      "Epoch 86/100\n",
      "26215/26215 [==============================] - 128s 5ms/step - loss: 0.0041 - rmse: 0.0073 - r2: 0.9996 - mae: 0.0041 - mse: 5.3913e-05 - mape: 1129.2629 - val_loss: 0.0041 - val_rmse: 0.0074 - val_r2: 0.9996 - val_mae: 0.0041 - val_mse: 5.4787e-05 - val_mape: 1069.2865\n",
      "Epoch 87/100\n",
      "26215/26215 [==============================] - 128s 5ms/step - loss: 0.0041 - rmse: 0.0073 - r2: 0.9996 - mae: 0.0041 - mse: 5.3838e-05 - mape: 1126.0195 - val_loss: 0.0041 - val_rmse: 0.0074 - val_r2: 0.9996 - val_mae: 0.0041 - val_mse: 5.4442e-05 - val_mape: 1041.2568\n"
     ]
    },
    {
     "name": "stdout",
     "output_type": "stream",
     "text": [
      "Epoch 88/100\n",
      "26215/26215 [==============================] - 125s 5ms/step - loss: 0.0041 - rmse: 0.0073 - r2: 0.9996 - mae: 0.0041 - mse: 5.3758e-05 - mape: 1112.1825 - val_loss: 0.0041 - val_rmse: 0.0074 - val_r2: 0.9996 - val_mae: 0.0041 - val_mse: 5.4958e-05 - val_mape: 1070.1541\n",
      "Epoch 89/100\n",
      "26215/26215 [==============================] - 127s 5ms/step - loss: 0.0041 - rmse: 0.0073 - r2: 0.9996 - mae: 0.0041 - mse: 5.3699e-05 - mape: 1120.3845 - val_loss: 0.0041 - val_rmse: 0.0075 - val_r2: 0.9996 - val_mae: 0.0041 - val_mse: 5.5503e-05 - val_mape: 1085.3314\n",
      "Epoch 90/100\n",
      "26215/26215 [==============================] - 126s 5ms/step - loss: 0.0041 - rmse: 0.0073 - r2: 0.9996 - mae: 0.0041 - mse: 5.3688e-05 - mape: 1097.4570 - val_loss: 0.0041 - val_rmse: 0.0074 - val_r2: 0.9996 - val_mae: 0.0041 - val_mse: 5.4475e-05 - val_mape: 1127.0371\n",
      "Epoch 91/100\n",
      "26215/26215 [==============================] - 113s 4ms/step - loss: 0.0041 - rmse: 0.0073 - r2: 0.9996 - mae: 0.0041 - mse: 5.3624e-05 - mape: 1096.0504 - val_loss: 0.0041 - val_rmse: 0.0074 - val_r2: 0.9996 - val_mae: 0.0041 - val_mse: 5.4113e-05 - val_mape: 1056.7933\n",
      "Epoch 92/100\n",
      "26215/26215 [==============================] - 87s 3ms/step - loss: 0.0041 - rmse: 0.0073 - r2: 0.9996 - mae: 0.0041 - mse: 5.3576e-05 - mape: 1090.1842 - val_loss: 0.0041 - val_rmse: 0.0074 - val_r2: 0.9996 - val_mae: 0.0041 - val_mse: 5.4318e-05 - val_mape: 1085.2427\n",
      "Epoch 93/100\n",
      "26215/26215 [==============================] - 88s 3ms/step - loss: 0.0041 - rmse: 0.0073 - r2: 0.9996 - mae: 0.0041 - mse: 5.3456e-05 - mape: 1084.0834 - val_loss: 0.0041 - val_rmse: 0.0074 - val_r2: 0.9996 - val_mae: 0.0041 - val_mse: 5.4072e-05 - val_mape: 1011.9766\n",
      "Epoch 94/100\n",
      "26215/26215 [==============================] - 88s 3ms/step - loss: 0.0040 - rmse: 0.0073 - r2: 0.9996 - mae: 0.0040 - mse: 5.3469e-05 - mape: 1078.3059 - val_loss: 0.0041 - val_rmse: 0.0074 - val_r2: 0.9996 - val_mae: 0.0041 - val_mse: 5.4344e-05 - val_mape: 1051.4640\n",
      "Epoch 95/100\n",
      "26215/26215 [==============================] - 88s 3ms/step - loss: 0.0040 - rmse: 0.0073 - r2: 0.9996 - mae: 0.0040 - mse: 5.3396e-05 - mape: 1084.1953 - val_loss: 0.0041 - val_rmse: 0.0073 - val_r2: 0.9996 - val_mae: 0.0041 - val_mse: 5.3898e-05 - val_mape: 964.5674\n",
      "Epoch 96/100\n",
      "26215/26215 [==============================] - 88s 3ms/step - loss: 0.0040 - rmse: 0.0073 - r2: 0.9996 - mae: 0.0040 - mse: 5.3338e-05 - mape: 1052.9945 - val_loss: 0.0041 - val_rmse: 0.0073 - val_r2: 0.9996 - val_mae: 0.0041 - val_mse: 5.3860e-05 - val_mape: 994.5541\n",
      "Epoch 97/100\n",
      "26215/26215 [==============================] - 88s 3ms/step - loss: 0.0040 - rmse: 0.0073 - r2: 0.9996 - mae: 0.0040 - mse: 5.3312e-05 - mape: 1056.0051 - val_loss: 0.0041 - val_rmse: 0.0074 - val_r2: 0.9996 - val_mae: 0.0041 - val_mse: 5.5496e-05 - val_mape: 1153.0719\n",
      "Epoch 98/100\n",
      "26215/26215 [==============================] - 88s 3ms/step - loss: 0.0040 - rmse: 0.0073 - r2: 0.9996 - mae: 0.0040 - mse: 5.3283e-05 - mape: 1055.9457 - val_loss: 0.0040 - val_rmse: 0.0073 - val_r2: 0.9996 - val_mae: 0.0040 - val_mse: 5.3735e-05 - val_mape: 1015.0465\n",
      "Epoch 99/100\n",
      "26215/26215 [==============================] - 89s 3ms/step - loss: 0.0040 - rmse: 0.0073 - r2: 0.9996 - mae: 0.0040 - mse: 5.3238e-05 - mape: 1044.7623 - val_loss: 0.0040 - val_rmse: 0.0073 - val_r2: 0.9996 - val_mae: 0.0040 - val_mse: 5.3701e-05 - val_mape: 1028.7019\n",
      "Epoch 100/100\n",
      "26215/26215 [==============================] - 89s 3ms/step - loss: 0.0040 - rmse: 0.0073 - r2: 0.9996 - mae: 0.0040 - mse: 5.3176e-05 - mape: 1032.9458 - val_loss: 0.0041 - val_rmse: 0.0073 - val_r2: 0.9996 - val_mae: 0.0041 - val_mse: 5.3881e-05 - val_mape: 987.9821\n",
      "CPU times: total: 6h 42min 25s\n",
      "Wall time: 2h 49min 55s\n"
     ]
    }
   ],
   "source": [
    "%%time\n",
    "tf.random.set_seed(42)\n",
    "\n",
    "model_5 = tf.keras.Sequential([tf.keras.layers.LSTM(50,activation= 'linear',return_sequences=True, input_shape=(3,1)),\n",
    "                               tf.keras.layers.LSTM(10,activation='linear'),\n",
    "                               tf.keras.layers.Dense(1)])\n",
    "\n",
    "model_5.compile(loss = tf.keras.losses.mae,\n",
    "                optimizer = tf.keras.optimizers.legacy.Adam(learning_rate=0.001,decay=0.0001),\n",
    "                metrics=[tf.keras.metrics.RootMeanSquaredError(name='rmse'),\n",
    "                         tfa.metrics.RSquare(name='r2'),'mae','mse','mape'])\n",
    "\n",
    "history_5 = model_5.fit(X_train,Y_train,epochs=100,validation_data=(X_test,Y_test),callbacks = callback)"
   ]
  },
  {
   "cell_type": "code",
   "execution_count": 18,
   "id": "4b1c0b78",
   "metadata": {},
   "outputs": [
    {
     "data": {
      "image/png": "[encoded data removed]",
      "text/plain": [
       "<Figure size 640x480 with 1 Axes>"
      ]
     },
     "metadata": {},
     "output_type": "display_data"
    }
   ],
   "source": [
    "plot_his(history_5)"
   ]
  },
  {
   "cell_type": "code",
   "execution_count": 19,
   "id": "a15aa71d",
   "metadata": {},
   "outputs": [
    {
     "name": "stdout",
     "output_type": "stream",
     "text": [
      "6554/6554 [==============================] - 10s 2ms/step - loss: 0.0041 - rmse: 0.0073 - r2: 0.9996 - mae: 0.0041 - mse: 5.3881e-05 - mape: 987.9821\n"
     ]
    },
    {
     "data": {
      "text/plain": [
       "[0.004076512064784765,\n",
       " 0.007340384181588888,\n",
       " 0.999568521976471,\n",
       " 0.004076512064784765,\n",
       " 5.388123827287927e-05,\n",
       " 987.9820556640625]"
      ]
     },
     "execution_count": 19,
     "metadata": {},
     "output_type": "execute_result"
    }
   ],
   "source": [
    "model_5.evaluate(X_test,Y_test)"
   ]
  },
  {
   "cell_type": "code",
   "execution_count": 20,
   "id": "8624f9cb",
   "metadata": {},
   "outputs": [
    {
     "name": "stdout",
     "output_type": "stream",
     "text": [
      "Model: \"sequential\"\n",
      "_________________________________________________________________\n",
      " Layer (type)                Output Shape              Param #   \n",
      "=================================================================\n",
      " lstm (LSTM)                 (None, 3, 50)             10400     \n",
      "                                                                 \n",
      " lstm_1 (LSTM)               (None, 10)                2440      \n",
      "                                                                 \n",
      " dense (Dense)               (None, 1)                 11        \n",
      "                                                                 \n",
      "=================================================================\n",
      "Total params: 12,851\n",
      "Trainable params: 12,851\n",
      "Non-trainable params: 0\n",
      "_________________________________________________________________\n"
     ]
    }
   ],
   "source": [
    "model_5.summary()"
   ]
  },
  {
   "cell_type": "code",
   "execution_count": 21,
   "id": "1cc24a33",
   "metadata": {},
   "outputs": [
    {
     "name": "stdout",
     "output_type": "stream",
     "text": [
      "6554/6554 [==============================] - 8s 1ms/step\n"
     ]
    }
   ],
   "source": [
    "prediction_5 = model_5.predict(X_test)"
   ]
  },
  {
   "cell_type": "code",
   "execution_count": 22,
   "id": "2304e1e5",
   "metadata": {},
   "outputs": [
    {
     "name": "stdout",
     "output_type": "stream",
     "text": [
      "AIC:  25700.836\n"
     ]
    }
   ],
   "source": [
    "AIC_value(model_5,prediction_5,Y_test)"
   ]
  },
  {
   "cell_type": "code",
   "execution_count": 23,
   "id": "9004108d",
   "metadata": {},
   "outputs": [],
   "source": [
    "model_5.save('Saved_models/model_5_SOCesti.h5')"
   ]
  },
  {
   "cell_type": "code",
   "execution_count": null,
   "id": "226decf6",
   "metadata": {},
   "outputs": [],
   "source": []
  },
  {
   "cell_type": "code",
   "execution_count": null,
   "id": "c13cbc71",
   "metadata": {},
   "outputs": [],
   "source": []
  },
  {
   "cell_type": "code",
   "execution_count": null,
   "id": "930620d5",
   "metadata": {},
   "outputs": [],
   "source": []
  },
  {
   "cell_type": "code",
   "execution_count": 17,
   "id": "06c7e7d3",
   "metadata": {},
   "outputs": [
    {
     "name": "stdout",
     "output_type": "stream",
     "text": [
      "Epoch 1/100\n",
      "26215/26215 [==============================] - 121s 5ms/step - loss: 0.0121 - rmse: 0.0424 - r2: 0.9856 - mae: 0.0121 - mse: 0.0018 - mape: 20861.1172 - val_loss: 0.0064 - val_rmse: 0.0103 - val_r2: 0.9991 - val_mae: 0.0064 - val_mse: 1.0608e-04 - val_mape: 4753.6294\n",
      "Epoch 2/100\n",
      "26215/26215 [==============================] - 120s 5ms/step - loss: 0.0061 - rmse: 0.0099 - r2: 0.9992 - mae: 0.0061 - mse: 9.8661e-05 - mape: 5917.4634 - val_loss: 0.0059 - val_rmse: 0.0097 - val_r2: 0.9993 - val_mae: 0.0059 - val_mse: 9.3207e-05 - val_mape: 5262.2959\n",
      "Epoch 3/100\n",
      "26215/26215 [==============================] - 100s 4ms/step - loss: 0.0058 - rmse: 0.0096 - r2: 0.9993 - mae: 0.0058 - mse: 9.1392e-05 - mape: 5704.4873 - val_loss: 0.0058 - val_rmse: 0.0096 - val_r2: 0.9993 - val_mae: 0.0058 - val_mse: 9.1895e-05 - val_mape: 5949.5068\n",
      "Epoch 4/100\n",
      "26215/26215 [==============================] - 101s 4ms/step - loss: 0.0057 - rmse: 0.0094 - r2: 0.9993 - mae: 0.0057 - mse: 8.8288e-05 - mape: 5626.7905 - val_loss: 0.0057 - val_rmse: 0.0094 - val_r2: 0.9993 - val_mae: 0.0057 - val_mse: 8.7718e-05 - val_mape: 4288.5322\n",
      "Epoch 5/100\n",
      "26215/26215 [==============================] - 100s 4ms/step - loss: 0.0056 - rmse: 0.0093 - r2: 0.9993 - mae: 0.0056 - mse: 8.6259e-05 - mape: 5598.9214 - val_loss: 0.0056 - val_rmse: 0.0094 - val_r2: 0.9993 - val_mae: 0.0056 - val_mse: 8.7916e-05 - val_mape: 5781.3164\n",
      "Epoch 6/100\n",
      "26215/26215 [==============================] - 105s 4ms/step - loss: 0.0055 - rmse: 0.0092 - r2: 0.9993 - mae: 0.0055 - mse: 8.4833e-05 - mape: 5595.7432 - val_loss: 0.0056 - val_rmse: 0.0092 - val_r2: 0.9993 - val_mae: 0.0056 - val_mse: 8.4589e-05 - val_mape: 6186.1855\n",
      "Epoch 7/100\n",
      "26215/26215 [==============================] - 101s 4ms/step - loss: 0.0055 - rmse: 0.0091 - r2: 0.9993 - mae: 0.0055 - mse: 8.3402e-05 - mape: 5559.9170 - val_loss: 0.0055 - val_rmse: 0.0091 - val_r2: 0.9993 - val_mae: 0.0055 - val_mse: 8.2311e-05 - val_mape: 5356.2021\n",
      "Epoch 8/100\n",
      "26215/26215 [==============================] - 100s 4ms/step - loss: 0.0054 - rmse: 0.0089 - r2: 0.9994 - mae: 0.0054 - mse: 7.8844e-05 - mape: 5461.8989 - val_loss: 0.0053 - val_rmse: 0.0088 - val_r2: 0.9994 - val_mae: 0.0053 - val_mse: 7.7723e-05 - val_mape: 5540.9575\n",
      "Epoch 9/100\n",
      "26215/26215 [==============================] - 101s 4ms/step - loss: 0.0053 - rmse: 0.0088 - r2: 0.9994 - mae: 0.0053 - mse: 7.7030e-05 - mape: 5419.3037 - val_loss: 0.0053 - val_rmse: 0.0088 - val_r2: 0.9994 - val_mae: 0.0053 - val_mse: 7.7213e-05 - val_mape: 4806.4287\n",
      "Epoch 10/100\n",
      "26215/26215 [==============================] - 100s 4ms/step - loss: 0.0053 - rmse: 0.0087 - r2: 0.9994 - mae: 0.0053 - mse: 7.6034e-05 - mape: 5419.8428 - val_loss: 0.0053 - val_rmse: 0.0087 - val_r2: 0.9994 - val_mae: 0.0053 - val_mse: 7.6198e-05 - val_mape: 5453.7441\n",
      "Epoch 11/100\n",
      "26215/26215 [==============================] - 100s 4ms/step - loss: 0.0052 - rmse: 0.0087 - r2: 0.9994 - mae: 0.0052 - mse: 7.5418e-05 - mape: 5418.7788 - val_loss: 0.0052 - val_rmse: 0.0087 - val_r2: 0.9994 - val_mae: 0.0052 - val_mse: 7.5319e-05 - val_mape: 5088.8848\n",
      "Epoch 12/100\n",
      "26215/26215 [==============================] - 100s 4ms/step - loss: 0.0052 - rmse: 0.0086 - r2: 0.9994 - mae: 0.0052 - mse: 7.4801e-05 - mape: 5455.2456 - val_loss: 0.0053 - val_rmse: 0.0087 - val_r2: 0.9994 - val_mae: 0.0053 - val_mse: 7.5744e-05 - val_mape: 4966.2466\n",
      "Epoch 13/100\n",
      "26215/26215 [==============================] - 101s 4ms/step - loss: 0.0052 - rmse: 0.0086 - r2: 0.9994 - mae: 0.0052 - mse: 7.4415e-05 - mape: 5447.1870 - val_loss: 0.0052 - val_rmse: 0.0086 - val_r2: 0.9994 - val_mae: 0.0052 - val_mse: 7.4439e-05 - val_mape: 5535.4790\n",
      "Epoch 14/100\n",
      "26215/26215 [==============================] - 101s 4ms/step - loss: 0.0052 - rmse: 0.0086 - r2: 0.9994 - mae: 0.0052 - mse: 7.4008e-05 - mape: 5479.7856 - val_loss: 0.0052 - val_rmse: 0.0086 - val_r2: 0.9994 - val_mae: 0.0052 - val_mse: 7.4796e-05 - val_mape: 6062.5327\n",
      "Epoch 15/100\n",
      "26215/26215 [==============================] - 116s 4ms/step - loss: 0.0052 - rmse: 0.0086 - r2: 0.9994 - mae: 0.0052 - mse: 7.3609e-05 - mape: 5481.2944 - val_loss: 0.0053 - val_rmse: 0.0087 - val_r2: 0.9994 - val_mae: 0.0053 - val_mse: 7.6380e-05 - val_mape: 6063.3882\n",
      "Epoch 16/100\n",
      "26215/26215 [==============================] - 102s 4ms/step - loss: 0.0051 - rmse: 0.0086 - r2: 0.9994 - mae: 0.0051 - mse: 7.3338e-05 - mape: 5476.2671 - val_loss: 0.0051 - val_rmse: 0.0086 - val_r2: 0.9994 - val_mae: 0.0051 - val_mse: 7.3616e-05 - val_mape: 5701.3267\n",
      "Epoch 17/100\n",
      "26215/26215 [==============================] - 101s 4ms/step - loss: 0.0051 - rmse: 0.0085 - r2: 0.9994 - mae: 0.0051 - mse: 7.3082e-05 - mape: 5521.1875 - val_loss: 0.0051 - val_rmse: 0.0086 - val_r2: 0.9994 - val_mae: 0.0051 - val_mse: 7.3691e-05 - val_mape: 5535.6226\n",
      "Epoch 18/100\n",
      "26215/26215 [==============================] - 102s 4ms/step - loss: 0.0051 - rmse: 0.0085 - r2: 0.9994 - mae: 0.0051 - mse: 7.2845e-05 - mape: 5493.1909 - val_loss: 0.0051 - val_rmse: 0.0086 - val_r2: 0.9994 - val_mae: 0.0051 - val_mse: 7.3267e-05 - val_mape: 4600.9888\n",
      "Epoch 19/100\n",
      "26215/26215 [==============================] - 102s 4ms/step - loss: 0.0051 - rmse: 0.0085 - r2: 0.9994 - mae: 0.0051 - mse: 7.2624e-05 - mape: 5482.3599 - val_loss: 0.0051 - val_rmse: 0.0085 - val_r2: 0.9994 - val_mae: 0.0051 - val_mse: 7.2956e-05 - val_mape: 5383.9619\n",
      "Epoch 20/100\n",
      "26215/26215 [==============================] - 101s 4ms/step - loss: 0.0051 - rmse: 0.0085 - r2: 0.9994 - mae: 0.0051 - mse: 7.2449e-05 - mape: 5478.0381 - val_loss: 0.0051 - val_rmse: 0.0086 - val_r2: 0.9994 - val_mae: 0.0051 - val_mse: 7.3177e-05 - val_mape: 5435.2690\n",
      "Epoch 21/100\n",
      "26215/26215 [==============================] - 102s 4ms/step - loss: 0.0051 - rmse: 0.0085 - r2: 0.9994 - mae: 0.0051 - mse: 7.2266e-05 - mape: 5456.4512 - val_loss: 0.0051 - val_rmse: 0.0085 - val_r2: 0.9994 - val_mae: 0.0051 - val_mse: 7.2649e-05 - val_mape: 5156.6353\n",
      "Epoch 22/100\n",
      "26215/26215 [==============================] - 101s 4ms/step - loss: 0.0051 - rmse: 0.0085 - r2: 0.9994 - mae: 0.0051 - mse: 7.2098e-05 - mape: 5479.5400 - val_loss: 0.0051 - val_rmse: 0.0085 - val_r2: 0.9994 - val_mae: 0.0051 - val_mse: 7.2627e-05 - val_mape: 6063.6577\n",
      "Epoch 23/100\n",
      "26215/26215 [==============================] - 102s 4ms/step - loss: 0.0051 - rmse: 0.0085 - r2: 0.9994 - mae: 0.0051 - mse: 7.1916e-05 - mape: 5448.1265 - val_loss: 0.0051 - val_rmse: 0.0085 - val_r2: 0.9994 - val_mae: 0.0051 - val_mse: 7.2608e-05 - val_mape: 4849.9062\n",
      "Epoch 24/100\n",
      "26215/26215 [==============================] - 102s 4ms/step - loss: 0.0051 - rmse: 0.0085 - r2: 0.9994 - mae: 0.0051 - mse: 7.1783e-05 - mape: 5459.2246 - val_loss: 0.0051 - val_rmse: 0.0085 - val_r2: 0.9994 - val_mae: 0.0051 - val_mse: 7.2460e-05 - val_mape: 4785.0811\n",
      "Epoch 25/100\n",
      "26215/26215 [==============================] - 102s 4ms/step - loss: 0.0051 - rmse: 0.0085 - r2: 0.9994 - mae: 0.0051 - mse: 7.1642e-05 - mape: 5428.0854 - val_loss: 0.0051 - val_rmse: 0.0085 - val_r2: 0.9994 - val_mae: 0.0051 - val_mse: 7.2934e-05 - val_mape: 5137.5161\n",
      "Epoch 26/100\n",
      "26215/26215 [==============================] - 102s 4ms/step - loss: 0.0051 - rmse: 0.0085 - r2: 0.9994 - mae: 0.0051 - mse: 7.1515e-05 - mape: 5410.5498 - val_loss: 0.0051 - val_rmse: 0.0085 - val_r2: 0.9994 - val_mae: 0.0051 - val_mse: 7.2014e-05 - val_mape: 5021.1670\n",
      "Epoch 27/100\n",
      "26215/26215 [==============================] - 104s 4ms/step - loss: 0.0050 - rmse: 0.0084 - r2: 0.9994 - mae: 0.0050 - mse: 7.1379e-05 - mape: 5401.5864 - val_loss: 0.0051 - val_rmse: 0.0085 - val_r2: 0.9994 - val_mae: 0.0051 - val_mse: 7.2074e-05 - val_mape: 5170.0708\n",
      "Epoch 28/100\n",
      "26215/26215 [==============================] - 103s 4ms/step - loss: 0.0050 - rmse: 0.0084 - r2: 0.9994 - mae: 0.0050 - mse: 7.1282e-05 - mape: 5384.8682 - val_loss: 0.0050 - val_rmse: 0.0085 - val_r2: 0.9994 - val_mae: 0.0050 - val_mse: 7.1739e-05 - val_mape: 5459.0718\n",
      "Epoch 29/100\n",
      "26215/26215 [==============================] - 103s 4ms/step - loss: 0.0050 - rmse: 0.0084 - r2: 0.9994 - mae: 0.0050 - mse: 7.1175e-05 - mape: 5378.6543 - val_loss: 0.0050 - val_rmse: 0.0085 - val_r2: 0.9994 - val_mae: 0.0050 - val_mse: 7.1857e-05 - val_mape: 5008.7056\n"
     ]
    },
    {
     "name": "stdout",
     "output_type": "stream",
     "text": [
      "Epoch 30/100\n",
      "26215/26215 [==============================] - 99s 4ms/step - loss: 0.0050 - rmse: 0.0084 - r2: 0.9994 - mae: 0.0050 - mse: 7.1079e-05 - mape: 5372.1582 - val_loss: 0.0050 - val_rmse: 0.0085 - val_r2: 0.9994 - val_mae: 0.0050 - val_mse: 7.1651e-05 - val_mape: 5244.7461\n",
      "Epoch 31/100\n",
      "26215/26215 [==============================] - 100s 4ms/step - loss: 0.0050 - rmse: 0.0084 - r2: 0.9994 - mae: 0.0050 - mse: 7.0965e-05 - mape: 5360.0122 - val_loss: 0.0050 - val_rmse: 0.0085 - val_r2: 0.9994 - val_mae: 0.0050 - val_mse: 7.1680e-05 - val_mape: 5588.8823\n",
      "Epoch 32/100\n",
      "26215/26215 [==============================] - 99s 4ms/step - loss: 0.0050 - rmse: 0.0084 - r2: 0.9994 - mae: 0.0050 - mse: 7.0868e-05 - mape: 5337.0220 - val_loss: 0.0050 - val_rmse: 0.0085 - val_r2: 0.9994 - val_mae: 0.0050 - val_mse: 7.1491e-05 - val_mape: 4703.4546\n",
      "Epoch 33/100\n",
      "26215/26215 [==============================] - 104s 4ms/step - loss: 0.0050 - rmse: 0.0084 - r2: 0.9994 - mae: 0.0050 - mse: 7.0752e-05 - mape: 5332.8354 - val_loss: 0.0050 - val_rmse: 0.0085 - val_r2: 0.9994 - val_mae: 0.0050 - val_mse: 7.1576e-05 - val_mape: 5087.3813\n",
      "Epoch 34/100\n",
      "26215/26215 [==============================] - 143s 5ms/step - loss: 0.0050 - rmse: 0.0084 - r2: 0.9994 - mae: 0.0050 - mse: 7.0685e-05 - mape: 5337.0972 - val_loss: 0.0050 - val_rmse: 0.0084 - val_r2: 0.9994 - val_mae: 0.0050 - val_mse: 7.1315e-05 - val_mape: 4889.6919\n",
      "Epoch 35/100\n",
      "26215/26215 [==============================] - 143s 5ms/step - loss: 0.0050 - rmse: 0.0084 - r2: 0.9994 - mae: 0.0050 - mse: 7.0605e-05 - mape: 5315.3008 - val_loss: 0.0050 - val_rmse: 0.0084 - val_r2: 0.9994 - val_mae: 0.0050 - val_mse: 7.1226e-05 - val_mape: 5539.6904\n",
      "Epoch 36/100\n",
      "26215/26215 [==============================] - 141s 5ms/step - loss: 0.0050 - rmse: 0.0084 - r2: 0.9994 - mae: 0.0050 - mse: 7.0513e-05 - mape: 5325.0552 - val_loss: 0.0050 - val_rmse: 0.0084 - val_r2: 0.9994 - val_mae: 0.0050 - val_mse: 7.1208e-05 - val_mape: 5219.4702\n",
      "Epoch 37/100\n",
      "26215/26215 [==============================] - 143s 5ms/step - loss: 0.0050 - rmse: 0.0084 - r2: 0.9994 - mae: 0.0050 - mse: 7.0399e-05 - mape: 5319.1450 - val_loss: 0.0050 - val_rmse: 0.0084 - val_r2: 0.9994 - val_mae: 0.0050 - val_mse: 7.1377e-05 - val_mape: 5203.2363\n",
      "Epoch 38/100\n",
      "26215/26215 [==============================] - 142s 5ms/step - loss: 0.0050 - rmse: 0.0084 - r2: 0.9994 - mae: 0.0050 - mse: 7.0360e-05 - mape: 5295.2383 - val_loss: 0.0050 - val_rmse: 0.0084 - val_r2: 0.9994 - val_mae: 0.0050 - val_mse: 7.1015e-05 - val_mape: 5066.7832\n",
      "Epoch 39/100\n",
      "26215/26215 [==============================] - 145s 6ms/step - loss: 0.0050 - rmse: 0.0084 - r2: 0.9994 - mae: 0.0050 - mse: 7.0279e-05 - mape: 5289.4761 - val_loss: 0.0050 - val_rmse: 0.0084 - val_r2: 0.9994 - val_mae: 0.0050 - val_mse: 7.0660e-05 - val_mape: 5213.1270\n",
      "Epoch 40/100\n",
      "26215/26215 [==============================] - 132s 5ms/step - loss: 0.0050 - rmse: 0.0084 - r2: 0.9994 - mae: 0.0050 - mse: 7.0158e-05 - mape: 5293.1611 - val_loss: 0.0050 - val_rmse: 0.0084 - val_r2: 0.9994 - val_mae: 0.0050 - val_mse: 7.0854e-05 - val_mape: 5055.3633\n",
      "Epoch 41/100\n",
      "26215/26215 [==============================] - 99s 4ms/step - loss: 0.0050 - rmse: 0.0084 - r2: 0.9994 - mae: 0.0050 - mse: 7.0067e-05 - mape: 5296.6475 - val_loss: 0.0050 - val_rmse: 0.0084 - val_r2: 0.9994 - val_mae: 0.0050 - val_mse: 7.0725e-05 - val_mape: 5264.5400\n",
      "Epoch 42/100\n",
      "26215/26215 [==============================] - 100s 4ms/step - loss: 0.0050 - rmse: 0.0084 - r2: 0.9994 - mae: 0.0050 - mse: 6.9995e-05 - mape: 5280.6855 - val_loss: 0.0050 - val_rmse: 0.0084 - val_r2: 0.9994 - val_mae: 0.0050 - val_mse: 7.0797e-05 - val_mape: 5095.3452\n",
      "Epoch 43/100\n",
      "26215/26215 [==============================] - 99s 4ms/step - loss: 0.0050 - rmse: 0.0084 - r2: 0.9994 - mae: 0.0050 - mse: 6.9946e-05 - mape: 5274.5562 - val_loss: 0.0050 - val_rmse: 0.0084 - val_r2: 0.9994 - val_mae: 0.0050 - val_mse: 7.0587e-05 - val_mape: 5040.5435\n",
      "Epoch 44/100\n",
      "26215/26215 [==============================] - 100s 4ms/step - loss: 0.0050 - rmse: 0.0084 - r2: 0.9994 - mae: 0.0050 - mse: 6.9871e-05 - mape: 5268.6836 - val_loss: 0.0050 - val_rmse: 0.0084 - val_r2: 0.9994 - val_mae: 0.0050 - val_mse: 7.0551e-05 - val_mape: 5130.8145\n",
      "Epoch 45/100\n",
      "26215/26215 [==============================] - 99s 4ms/step - loss: 0.0050 - rmse: 0.0084 - r2: 0.9994 - mae: 0.0050 - mse: 6.9792e-05 - mape: 5274.0322 - val_loss: 0.0050 - val_rmse: 0.0084 - val_r2: 0.9994 - val_mae: 0.0050 - val_mse: 7.0321e-05 - val_mape: 4728.0967\n",
      "Epoch 46/100\n",
      "26215/26215 [==============================] - 100s 4ms/step - loss: 0.0050 - rmse: 0.0084 - r2: 0.9994 - mae: 0.0050 - mse: 6.9729e-05 - mape: 5263.2935 - val_loss: 0.0050 - val_rmse: 0.0084 - val_r2: 0.9994 - val_mae: 0.0050 - val_mse: 7.0448e-05 - val_mape: 5107.5264\n",
      "Epoch 47/100\n",
      "26215/26215 [==============================] - 100s 4ms/step - loss: 0.0050 - rmse: 0.0083 - r2: 0.9994 - mae: 0.0050 - mse: 6.9690e-05 - mape: 5252.6948 - val_loss: 0.0050 - val_rmse: 0.0084 - val_r2: 0.9994 - val_mae: 0.0050 - val_mse: 7.0303e-05 - val_mape: 4909.1406\n",
      "Epoch 48/100\n",
      "26215/26215 [==============================] - 100s 4ms/step - loss: 0.0050 - rmse: 0.0083 - r2: 0.9994 - mae: 0.0050 - mse: 6.9619e-05 - mape: 5245.2393 - val_loss: 0.0050 - val_rmse: 0.0084 - val_r2: 0.9994 - val_mae: 0.0050 - val_mse: 7.0402e-05 - val_mape: 4900.5400\n",
      "Epoch 49/100\n",
      "26215/26215 [==============================] - 100s 4ms/step - loss: 0.0050 - rmse: 0.0083 - r2: 0.9994 - mae: 0.0050 - mse: 6.9549e-05 - mape: 5242.0688 - val_loss: 0.0050 - val_rmse: 0.0084 - val_r2: 0.9994 - val_mae: 0.0050 - val_mse: 7.0254e-05 - val_mape: 5089.0571\n",
      "Epoch 50/100\n",
      "26215/26215 [==============================] - 101s 4ms/step - loss: 0.0049 - rmse: 0.0083 - r2: 0.9994 - mae: 0.0049 - mse: 6.9482e-05 - mape: 5239.3433 - val_loss: 0.0050 - val_rmse: 0.0084 - val_r2: 0.9994 - val_mae: 0.0050 - val_mse: 7.0241e-05 - val_mape: 5192.6025\n",
      "Epoch 51/100\n",
      "26215/26215 [==============================] - 101s 4ms/step - loss: 0.0049 - rmse: 0.0083 - r2: 0.9994 - mae: 0.0049 - mse: 6.9439e-05 - mape: 5234.3823 - val_loss: 0.0050 - val_rmse: 0.0084 - val_r2: 0.9994 - val_mae: 0.0050 - val_mse: 7.0235e-05 - val_mape: 5369.9385\n",
      "Epoch 52/100\n",
      "26215/26215 [==============================] - 101s 4ms/step - loss: 0.0049 - rmse: 0.0083 - r2: 0.9994 - mae: 0.0049 - mse: 6.9376e-05 - mape: 5224.4775 - val_loss: 0.0050 - val_rmse: 0.0084 - val_r2: 0.9994 - val_mae: 0.0050 - val_mse: 7.0151e-05 - val_mape: 5157.0498\n",
      "Epoch 53/100\n",
      "26215/26215 [==============================] - 100s 4ms/step - loss: 0.0049 - rmse: 0.0083 - r2: 0.9994 - mae: 0.0049 - mse: 6.9332e-05 - mape: 5215.3359 - val_loss: 0.0050 - val_rmse: 0.0084 - val_r2: 0.9994 - val_mae: 0.0050 - val_mse: 7.0372e-05 - val_mape: 5351.8906\n",
      "Epoch 54/100\n",
      "26215/26215 [==============================] - 101s 4ms/step - loss: 0.0049 - rmse: 0.0083 - r2: 0.9994 - mae: 0.0049 - mse: 6.9279e-05 - mape: 5212.2095 - val_loss: 0.0049 - val_rmse: 0.0084 - val_r2: 0.9994 - val_mae: 0.0049 - val_mse: 6.9972e-05 - val_mape: 5161.1821\n",
      "Epoch 55/100\n",
      "26215/26215 [==============================] - 100s 4ms/step - loss: 0.0049 - rmse: 0.0083 - r2: 0.9994 - mae: 0.0049 - mse: 6.9243e-05 - mape: 5206.5146 - val_loss: 0.0049 - val_rmse: 0.0084 - val_r2: 0.9994 - val_mae: 0.0049 - val_mse: 6.9918e-05 - val_mape: 4801.4473\n",
      "Epoch 56/100\n",
      "26215/26215 [==============================] - 101s 4ms/step - loss: 0.0049 - rmse: 0.0083 - r2: 0.9994 - mae: 0.0049 - mse: 6.9195e-05 - mape: 5218.1006 - val_loss: 0.0049 - val_rmse: 0.0084 - val_r2: 0.9994 - val_mae: 0.0049 - val_mse: 6.9871e-05 - val_mape: 5049.5654\n",
      "Epoch 57/100\n",
      "26215/26215 [==============================] - 100s 4ms/step - loss: 0.0049 - rmse: 0.0083 - r2: 0.9994 - mae: 0.0049 - mse: 6.9155e-05 - mape: 5194.4004 - val_loss: 0.0049 - val_rmse: 0.0083 - val_r2: 0.9994 - val_mae: 0.0049 - val_mse: 6.9659e-05 - val_mape: 4778.6045\n",
      "Epoch 58/100\n",
      "26215/26215 [==============================] - 101s 4ms/step - loss: 0.0049 - rmse: 0.0083 - r2: 0.9994 - mae: 0.0049 - mse: 6.9090e-05 - mape: 5207.9346 - val_loss: 0.0049 - val_rmse: 0.0084 - val_r2: 0.9994 - val_mae: 0.0049 - val_mse: 6.9865e-05 - val_mape: 5000.3462\n"
     ]
    },
    {
     "name": "stdout",
     "output_type": "stream",
     "text": [
      "Epoch 59/100\n",
      "26215/26215 [==============================] - 99s 4ms/step - loss: 0.0049 - rmse: 0.0083 - r2: 0.9994 - mae: 0.0049 - mse: 6.9049e-05 - mape: 5198.1187 - val_loss: 0.0049 - val_rmse: 0.0083 - val_r2: 0.9994 - val_mae: 0.0049 - val_mse: 6.9705e-05 - val_mape: 4693.6802\n",
      "Epoch 60/100\n",
      "26215/26215 [==============================] - 100s 4ms/step - loss: 0.0049 - rmse: 0.0083 - r2: 0.9994 - mae: 0.0049 - mse: 6.9008e-05 - mape: 5199.1938 - val_loss: 0.0049 - val_rmse: 0.0084 - val_r2: 0.9994 - val_mae: 0.0049 - val_mse: 6.9899e-05 - val_mape: 5262.1606\n",
      "Epoch 61/100\n",
      "26215/26215 [==============================] - 99s 4ms/step - loss: 0.0049 - rmse: 0.0083 - r2: 0.9994 - mae: 0.0049 - mse: 6.8970e-05 - mape: 5186.1025 - val_loss: 0.0049 - val_rmse: 0.0083 - val_r2: 0.9994 - val_mae: 0.0049 - val_mse: 6.9582e-05 - val_mape: 5173.7334\n",
      "Epoch 62/100\n",
      "26215/26215 [==============================] - 99s 4ms/step - loss: 0.0049 - rmse: 0.0083 - r2: 0.9994 - mae: 0.0049 - mse: 6.8915e-05 - mape: 5195.9297 - val_loss: 0.0049 - val_rmse: 0.0083 - val_r2: 0.9994 - val_mae: 0.0049 - val_mse: 6.9641e-05 - val_mape: 4672.1602\n",
      "Epoch 63/100\n",
      "26215/26215 [==============================] - 101s 4ms/step - loss: 0.0049 - rmse: 0.0083 - r2: 0.9994 - mae: 0.0049 - mse: 6.8876e-05 - mape: 5190.6123 - val_loss: 0.0049 - val_rmse: 0.0083 - val_r2: 0.9994 - val_mae: 0.0049 - val_mse: 6.9571e-05 - val_mape: 5095.1182\n",
      "Epoch 64/100\n",
      "26215/26215 [==============================] - 144s 5ms/step - loss: 0.0049 - rmse: 0.0083 - r2: 0.9994 - mae: 0.0049 - mse: 6.8827e-05 - mape: 5178.8291 - val_loss: 0.0049 - val_rmse: 0.0083 - val_r2: 0.9994 - val_mae: 0.0049 - val_mse: 6.9655e-05 - val_mape: 4903.4116\n",
      "Epoch 65/100\n",
      "26215/26215 [==============================] - 144s 5ms/step - loss: 0.0049 - rmse: 0.0083 - r2: 0.9994 - mae: 0.0049 - mse: 6.8776e-05 - mape: 5185.6890 - val_loss: 0.0049 - val_rmse: 0.0083 - val_r2: 0.9994 - val_mae: 0.0049 - val_mse: 6.9516e-05 - val_mape: 4939.4326\n",
      "Epoch 66/100\n",
      "26215/26215 [==============================] - 142s 5ms/step - loss: 0.0049 - rmse: 0.0083 - r2: 0.9994 - mae: 0.0049 - mse: 6.8744e-05 - mape: 5169.6128 - val_loss: 0.0049 - val_rmse: 0.0083 - val_r2: 0.9994 - val_mae: 0.0049 - val_mse: 6.9682e-05 - val_mape: 5051.6060\n",
      "Epoch 67/100\n",
      "26215/26215 [==============================] - 144s 5ms/step - loss: 0.0049 - rmse: 0.0083 - r2: 0.9994 - mae: 0.0049 - mse: 6.8720e-05 - mape: 5172.8027 - val_loss: 0.0049 - val_rmse: 0.0083 - val_r2: 0.9994 - val_mae: 0.0049 - val_mse: 6.9546e-05 - val_mape: 4972.0605\n",
      "Epoch 68/100\n",
      "26215/26215 [==============================] - 143s 5ms/step - loss: 0.0049 - rmse: 0.0083 - r2: 0.9994 - mae: 0.0049 - mse: 6.8687e-05 - mape: 5170.7412 - val_loss: 0.0049 - val_rmse: 0.0083 - val_r2: 0.9994 - val_mae: 0.0049 - val_mse: 6.9344e-05 - val_mape: 4874.4268\n",
      "Epoch 69/100\n",
      "26215/26215 [==============================] - 143s 5ms/step - loss: 0.0049 - rmse: 0.0083 - r2: 0.9995 - mae: 0.0049 - mse: 6.8629e-05 - mape: 5172.2925 - val_loss: 0.0049 - val_rmse: 0.0083 - val_r2: 0.9994 - val_mae: 0.0049 - val_mse: 6.9420e-05 - val_mape: 4896.3530\n",
      "Epoch 70/100\n",
      "26215/26215 [==============================] - 143s 5ms/step - loss: 0.0049 - rmse: 0.0083 - r2: 0.9995 - mae: 0.0049 - mse: 6.8599e-05 - mape: 5168.9551 - val_loss: 0.0049 - val_rmse: 0.0083 - val_r2: 0.9994 - val_mae: 0.0049 - val_mse: 6.9500e-05 - val_mape: 5079.7080\n",
      "Epoch 71/100\n",
      "26215/26215 [==============================] - 143s 5ms/step - loss: 0.0049 - rmse: 0.0083 - r2: 0.9995 - mae: 0.0049 - mse: 6.8579e-05 - mape: 5172.7124 - val_loss: 0.0049 - val_rmse: 0.0083 - val_r2: 0.9994 - val_mae: 0.0049 - val_mse: 6.9172e-05 - val_mape: 4892.8901\n",
      "Epoch 72/100\n",
      "26215/26215 [==============================] - 135s 5ms/step - loss: 0.0049 - rmse: 0.0083 - r2: 0.9995 - mae: 0.0049 - mse: 6.8524e-05 - mape: 5157.0210 - val_loss: 0.0049 - val_rmse: 0.0083 - val_r2: 0.9994 - val_mae: 0.0049 - val_mse: 6.9224e-05 - val_mape: 5023.4609\n",
      "Epoch 73/100\n",
      "26215/26215 [==============================] - 99s 4ms/step - loss: 0.0049 - rmse: 0.0083 - r2: 0.9995 - mae: 0.0049 - mse: 6.8499e-05 - mape: 5148.0532 - val_loss: 0.0049 - val_rmse: 0.0083 - val_r2: 0.9994 - val_mae: 0.0049 - val_mse: 6.9202e-05 - val_mape: 4934.0293\n",
      "Epoch 74/100\n",
      "26215/26215 [==============================] - 100s 4ms/step - loss: 0.0049 - rmse: 0.0083 - r2: 0.9995 - mae: 0.0049 - mse: 6.8457e-05 - mape: 5162.7964 - val_loss: 0.0049 - val_rmse: 0.0083 - val_r2: 0.9994 - val_mae: 0.0049 - val_mse: 6.9192e-05 - val_mape: 4766.8389\n",
      "Epoch 75/100\n",
      "26215/26215 [==============================] - 100s 4ms/step - loss: 0.0049 - rmse: 0.0083 - r2: 0.9995 - mae: 0.0049 - mse: 6.8437e-05 - mape: 5151.9409 - val_loss: 0.0049 - val_rmse: 0.0083 - val_r2: 0.9994 - val_mae: 0.0049 - val_mse: 6.9297e-05 - val_mape: 5001.7578\n",
      "Epoch 76/100\n",
      "26215/26215 [==============================] - 100s 4ms/step - loss: 0.0049 - rmse: 0.0083 - r2: 0.9995 - mae: 0.0049 - mse: 6.8410e-05 - mape: 5153.7617 - val_loss: 0.0049 - val_rmse: 0.0083 - val_r2: 0.9994 - val_mae: 0.0049 - val_mse: 6.9275e-05 - val_mape: 4768.4321\n",
      "Epoch 77/100\n",
      "26215/26215 [==============================] - 99s 4ms/step - loss: 0.0049 - rmse: 0.0083 - r2: 0.9995 - mae: 0.0049 - mse: 6.8374e-05 - mape: 5148.9268 - val_loss: 0.0049 - val_rmse: 0.0083 - val_r2: 0.9994 - val_mae: 0.0049 - val_mse: 6.8979e-05 - val_mape: 4823.1631\n",
      "Epoch 78/100\n",
      "26215/26215 [==============================] - 100s 4ms/step - loss: 0.0049 - rmse: 0.0083 - r2: 0.9995 - mae: 0.0049 - mse: 6.8331e-05 - mape: 5154.3662 - val_loss: 0.0049 - val_rmse: 0.0083 - val_r2: 0.9994 - val_mae: 0.0049 - val_mse: 6.9125e-05 - val_mape: 5027.0493\n",
      "Epoch 79/100\n",
      "26215/26215 [==============================] - 100s 4ms/step - loss: 0.0049 - rmse: 0.0083 - r2: 0.9995 - mae: 0.0049 - mse: 6.8338e-05 - mape: 5139.6304 - val_loss: 0.0049 - val_rmse: 0.0083 - val_r2: 0.9994 - val_mae: 0.0049 - val_mse: 6.9053e-05 - val_mape: 5103.6650\n",
      "Epoch 80/100\n",
      "26215/26215 [==============================] - 100s 4ms/step - loss: 0.0049 - rmse: 0.0083 - r2: 0.9995 - mae: 0.0049 - mse: 6.8297e-05 - mape: 5154.5410 - val_loss: 0.0049 - val_rmse: 0.0083 - val_r2: 0.9994 - val_mae: 0.0049 - val_mse: 6.9049e-05 - val_mape: 4924.6362\n",
      "Epoch 81/100\n",
      "26215/26215 [==============================] - 100s 4ms/step - loss: 0.0049 - rmse: 0.0083 - r2: 0.9995 - mae: 0.0049 - mse: 6.8282e-05 - mape: 5131.2627 - val_loss: 0.0049 - val_rmse: 0.0083 - val_r2: 0.9994 - val_mae: 0.0049 - val_mse: 6.8931e-05 - val_mape: 5087.9790\n",
      "Epoch 82/100\n",
      "26215/26215 [==============================] - 100s 4ms/step - loss: 0.0049 - rmse: 0.0083 - r2: 0.9995 - mae: 0.0049 - mse: 6.8242e-05 - mape: 5137.1709 - val_loss: 0.0049 - val_rmse: 0.0083 - val_r2: 0.9994 - val_mae: 0.0049 - val_mse: 6.9250e-05 - val_mape: 5168.0952\n",
      "Epoch 83/100\n",
      "26215/26215 [==============================] - 101s 4ms/step - loss: 0.0049 - rmse: 0.0083 - r2: 0.9995 - mae: 0.0049 - mse: 6.8213e-05 - mape: 5143.0396 - val_loss: 0.0049 - val_rmse: 0.0083 - val_r2: 0.9994 - val_mae: 0.0049 - val_mse: 6.9061e-05 - val_mape: 5097.0044\n",
      "Epoch 84/100\n",
      "26215/26215 [==============================] - 100s 4ms/step - loss: 0.0049 - rmse: 0.0083 - r2: 0.9995 - mae: 0.0049 - mse: 6.8191e-05 - mape: 5135.9331 - val_loss: 0.0049 - val_rmse: 0.0083 - val_r2: 0.9994 - val_mae: 0.0049 - val_mse: 6.9067e-05 - val_mape: 5034.9463\n",
      "Epoch 85/100\n",
      "26215/26215 [==============================] - 100s 4ms/step - loss: 0.0049 - rmse: 0.0083 - r2: 0.9995 - mae: 0.0049 - mse: 6.8160e-05 - mape: 5125.9937 - val_loss: 0.0049 - val_rmse: 0.0083 - val_r2: 0.9994 - val_mae: 0.0049 - val_mse: 6.8877e-05 - val_mape: 4867.8945\n",
      "Epoch 86/100\n",
      "26215/26215 [==============================] - 100s 4ms/step - loss: 0.0049 - rmse: 0.0083 - r2: 0.9995 - mae: 0.0049 - mse: 6.8143e-05 - mape: 5137.2021 - val_loss: 0.0049 - val_rmse: 0.0083 - val_r2: 0.9994 - val_mae: 0.0049 - val_mse: 6.8944e-05 - val_mape: 4848.0845\n",
      "Epoch 87/100\n",
      "26215/26215 [==============================] - 100s 4ms/step - loss: 0.0049 - rmse: 0.0083 - r2: 0.9995 - mae: 0.0049 - mse: 6.8120e-05 - mape: 5124.9956 - val_loss: 0.0049 - val_rmse: 0.0083 - val_r2: 0.9994 - val_mae: 0.0049 - val_mse: 6.8850e-05 - val_mape: 4942.3721\n"
     ]
    },
    {
     "name": "stdout",
     "output_type": "stream",
     "text": [
      "Epoch 88/100\n",
      "26215/26215 [==============================] - 99s 4ms/step - loss: 0.0049 - rmse: 0.0083 - r2: 0.9995 - mae: 0.0049 - mse: 6.8080e-05 - mape: 5120.5083 - val_loss: 0.0049 - val_rmse: 0.0083 - val_r2: 0.9994 - val_mae: 0.0049 - val_mse: 6.8713e-05 - val_mape: 5048.5874\n",
      "Epoch 89/100\n",
      "26215/26215 [==============================] - 99s 4ms/step - loss: 0.0049 - rmse: 0.0082 - r2: 0.9995 - mae: 0.0049 - mse: 6.8052e-05 - mape: 5126.2354 - val_loss: 0.0049 - val_rmse: 0.0083 - val_r2: 0.9994 - val_mae: 0.0049 - val_mse: 6.8870e-05 - val_mape: 4965.4761\n",
      "Epoch 90/100\n",
      "26215/26215 [==============================] - 99s 4ms/step - loss: 0.0049 - rmse: 0.0082 - r2: 0.9995 - mae: 0.0049 - mse: 6.8047e-05 - mape: 5125.5127 - val_loss: 0.0049 - val_rmse: 0.0083 - val_r2: 0.9994 - val_mae: 0.0049 - val_mse: 6.8772e-05 - val_mape: 5030.1904\n",
      "Epoch 91/100\n",
      "26215/26215 [==============================] - 99s 4ms/step - loss: 0.0049 - rmse: 0.0082 - r2: 0.9995 - mae: 0.0049 - mse: 6.8016e-05 - mape: 5124.5776 - val_loss: 0.0049 - val_rmse: 0.0083 - val_r2: 0.9994 - val_mae: 0.0049 - val_mse: 6.8810e-05 - val_mape: 4697.0830\n",
      "Epoch 92/100\n",
      "26215/26215 [==============================] - 100s 4ms/step - loss: 0.0049 - rmse: 0.0082 - r2: 0.9995 - mae: 0.0049 - mse: 6.7992e-05 - mape: 5108.6016 - val_loss: 0.0049 - val_rmse: 0.0083 - val_r2: 0.9994 - val_mae: 0.0049 - val_mse: 6.8788e-05 - val_mape: 5042.3931\n",
      "Epoch 93/100\n",
      "26215/26215 [==============================] - 100s 4ms/step - loss: 0.0049 - rmse: 0.0082 - r2: 0.9995 - mae: 0.0049 - mse: 6.7968e-05 - mape: 5122.4307 - val_loss: 0.0049 - val_rmse: 0.0083 - val_r2: 0.9994 - val_mae: 0.0049 - val_mse: 6.8890e-05 - val_mape: 5013.5083\n",
      "Epoch 94/100\n",
      "26215/26215 [==============================] - 100s 4ms/step - loss: 0.0049 - rmse: 0.0082 - r2: 0.9995 - mae: 0.0049 - mse: 6.7959e-05 - mape: 5122.4810 - val_loss: 0.0049 - val_rmse: 0.0083 - val_r2: 0.9995 - val_mae: 0.0049 - val_mse: 6.8564e-05 - val_mape: 4829.3960\n",
      "Epoch 95/100\n",
      "26215/26215 [==============================] - 100s 4ms/step - loss: 0.0049 - rmse: 0.0082 - r2: 0.9995 - mae: 0.0049 - mse: 6.7916e-05 - mape: 5115.5562 - val_loss: 0.0049 - val_rmse: 0.0083 - val_r2: 0.9995 - val_mae: 0.0049 - val_mse: 6.8571e-05 - val_mape: 5017.6279\n",
      "Epoch 96/100\n",
      "26215/26215 [==============================] - 100s 4ms/step - loss: 0.0049 - rmse: 0.0082 - r2: 0.9995 - mae: 0.0049 - mse: 6.7904e-05 - mape: 5121.4331 - val_loss: 0.0049 - val_rmse: 0.0083 - val_r2: 0.9994 - val_mae: 0.0049 - val_mse: 6.8638e-05 - val_mape: 4911.5713\n",
      "Epoch 97/100\n",
      "26215/26215 [==============================] - 99s 4ms/step - loss: 0.0049 - rmse: 0.0082 - r2: 0.9995 - mae: 0.0049 - mse: 6.7865e-05 - mape: 5113.1895 - val_loss: 0.0049 - val_rmse: 0.0083 - val_r2: 0.9995 - val_mae: 0.0049 - val_mse: 6.8633e-05 - val_mape: 4998.4092\n",
      "Epoch 98/100\n",
      "26215/26215 [==============================] - 100s 4ms/step - loss: 0.0049 - rmse: 0.0082 - r2: 0.9995 - mae: 0.0049 - mse: 6.7865e-05 - mape: 5106.3867 - val_loss: 0.0049 - val_rmse: 0.0083 - val_r2: 0.9995 - val_mae: 0.0049 - val_mse: 6.8489e-05 - val_mape: 4894.6011\n",
      "Epoch 99/100\n",
      "26215/26215 [==============================] - 100s 4ms/step - loss: 0.0049 - rmse: 0.0082 - r2: 0.9995 - mae: 0.0049 - mse: 6.7842e-05 - mape: 5115.6606 - val_loss: 0.0049 - val_rmse: 0.0083 - val_r2: 0.9995 - val_mae: 0.0049 - val_mse: 6.8438e-05 - val_mape: 5076.8774\n",
      "Epoch 100/100\n",
      "26215/26215 [==============================] - 100s 4ms/step - loss: 0.0048 - rmse: 0.0082 - r2: 0.9995 - mae: 0.0048 - mse: 6.7818e-05 - mape: 5119.4990 - val_loss: 0.0049 - val_rmse: 0.0083 - val_r2: 0.9995 - val_mae: 0.0049 - val_mse: 6.8579e-05 - val_mape: 5039.5532\n"
     ]
    }
   ],
   "source": [
    "tf.random.set_seed(42)\n",
    "\n",
    "model_6 = tf.keras.Sequential([tf.keras.layers.LSTM(70,activation= 'linear',return_sequences=True, input_shape=(3,1)),\n",
    "                               tf.keras.layers.LSTM(30,activation= 'linear'),\n",
    "                               tf.keras.layers.Dense(20,activation='relu'),\n",
    "                               tf.keras.layers.Dense(1,activation='linear')])\n",
    "\n",
    "model_6.compile(loss = tf.keras.losses.mae,\n",
    "                optimizer = tf.keras.optimizers.legacy.Adam(learning_rate=0.001,decay = 0.001),\n",
    "                metrics=[tf.keras.metrics.RootMeanSquaredError(name='rmse'),\n",
    "                         tfa.metrics.RSquare(name='r2'),'mae','mse','mape'])\n",
    "\n",
    "history_6 = model_6.fit(X_train,Y_train,epochs=100,validation_data=(X_test,Y_test),callbacks = callback)"
   ]
  },
  {
   "cell_type": "code",
   "execution_count": 18,
   "id": "a25e7ebf",
   "metadata": {},
   "outputs": [
    {
     "data": {
      "image/png": "[encoded data removed]",
      "text/plain": [
       "<Figure size 640x480 with 1 Axes>"
      ]
     },
     "metadata": {},
     "output_type": "display_data"
    }
   ],
   "source": [
    "plot_his(history_6)"
   ]
  },
  {
   "cell_type": "code",
   "execution_count": 19,
   "id": "2f41e7f5",
   "metadata": {},
   "outputs": [
    {
     "name": "stdout",
     "output_type": "stream",
     "text": [
      "Model: \"sequential\"\n",
      "_________________________________________________________________\n",
      " Layer (type)                Output Shape              Param #   \n",
      "=================================================================\n",
      " lstm (LSTM)                 (None, 3, 70)             20160     \n",
      "                                                                 \n",
      " lstm_1 (LSTM)               (None, 30)                12120     \n",
      "                                                                 \n",
      " dense (Dense)               (None, 20)                620       \n",
      "                                                                 \n",
      " dense_1 (Dense)             (None, 1)                 21        \n",
      "                                                                 \n",
      "=================================================================\n",
      "Total params: 32,921\n",
      "Trainable params: 32,921\n",
      "Non-trainable params: 0\n",
      "_________________________________________________________________\n"
     ]
    }
   ],
   "source": [
    "model_6.summary()"
   ]
  },
  {
   "cell_type": "code",
   "execution_count": 20,
   "id": "ac8f4e5c",
   "metadata": {},
   "outputs": [
    {
     "name": "stdout",
     "output_type": "stream",
     "text": [
      "6554/6554 [==============================] - 11s 2ms/step - loss: 0.0049 - rmse: 0.0083 - r2: 0.9995 - mae: 0.0049 - mse: 6.8579e-05 - mape: 5039.5532\n"
     ]
    },
    {
     "data": {
      "text/plain": [
       "[0.004867010749876499,\n",
       " 0.008281255140900612,\n",
       " 0.9994504451751709,\n",
       " 0.004867010749876499,\n",
       " 6.857918197056279e-05,\n",
       " 5039.55322265625]"
      ]
     },
     "execution_count": 20,
     "metadata": {},
     "output_type": "execute_result"
    }
   ],
   "source": [
    "model_6.evaluate(X_test,Y_test)"
   ]
  },
  {
   "cell_type": "code",
   "execution_count": 21,
   "id": "5d82d29c",
   "metadata": {},
   "outputs": [
    {
     "name": "stdout",
     "output_type": "stream",
     "text": [
      "6554/6554 [==============================] - 9s 1ms/step\n"
     ]
    }
   ],
   "source": [
    "prediction_6 = model_6.predict(X_test)"
   ]
  },
  {
   "cell_type": "code",
   "execution_count": 22,
   "id": "82ccde3f",
   "metadata": {},
   "outputs": [
    {
     "name": "stdout",
     "output_type": "stream",
     "text": [
      "AIC:  65840.836\n"
     ]
    }
   ],
   "source": [
    "AIC_value(model_6,prediction_6,Y_test)"
   ]
  },
  {
   "cell_type": "code",
   "execution_count": 23,
   "id": "9f2d1f04",
   "metadata": {},
   "outputs": [],
   "source": [
    "model_6.save('Saved_models/model_6_SOCesti.h5')"
   ]
  },
  {
   "cell_type": "code",
   "execution_count": null,
   "id": "a238c94f",
   "metadata": {},
   "outputs": [],
   "source": []
  },
  {
   "cell_type": "code",
   "execution_count": null,
   "id": "51c14c79",
   "metadata": {},
   "outputs": [],
   "source": []
  },
  {
   "cell_type": "code",
   "execution_count": 17,
   "id": "c1e998c1",
   "metadata": {},
   "outputs": [
    {
     "name": "stdout",
     "output_type": "stream",
     "text": [
      "Epoch 1/100\n",
      "26215/26215 [==============================] - 80s 3ms/step - loss: 0.2657 - rmse: 0.3113 - r2: 0.2237 - mae: 0.2657 - mse: 0.0969 - mape: 764166.3750 - val_loss: 0.2608 - val_rmse: 0.3052 - val_r2: 0.2530 - val_mae: 0.2608 - val_mse: 0.0932 - val_mape: 776141.6250\n",
      "Epoch 2/100\n",
      "26215/26215 [==============================] - 83s 3ms/step - loss: 0.2584 - rmse: 0.3024 - r2: 0.2672 - mae: 0.2584 - mse: 0.0915 - mape: 695972.5000 - val_loss: 0.2555 - val_rmse: 0.2992 - val_r2: 0.2819 - val_mae: 0.2555 - val_mse: 0.0895 - val_mape: 743357.4375\n",
      "Epoch 3/100\n",
      "26215/26215 [==============================] - 86s 3ms/step - loss: 0.2534 - rmse: 0.2968 - r2: 0.2945 - mae: 0.2534 - mse: 0.0881 - mape: 667673.7500 - val_loss: 0.2508 - val_rmse: 0.2936 - val_r2: 0.3086 - val_mae: 0.2508 - val_mse: 0.0862 - val_mape: 715181.6250\n",
      "Epoch 4/100\n",
      "26215/26215 [==============================] - 85s 3ms/step - loss: 0.2487 - rmse: 0.2914 - r2: 0.3195 - mae: 0.2487 - mse: 0.0849 - mape: 644676.0625 - val_loss: 0.2461 - val_rmse: 0.2884 - val_r2: 0.3329 - val_mae: 0.2461 - val_mse: 0.0832 - val_mape: 692480.5000\n",
      "Epoch 5/100\n",
      "26215/26215 [==============================] - 85s 3ms/step - loss: 0.2440 - rmse: 0.2863 - r2: 0.3435 - mae: 0.2440 - mse: 0.0820 - mape: 625199.5625 - val_loss: 0.2414 - val_rmse: 0.2832 - val_r2: 0.3567 - val_mae: 0.2414 - val_mse: 0.0802 - val_mape: 669704.1250\n",
      "Epoch 6/100\n",
      "26215/26215 [==============================] - 86s 3ms/step - loss: 0.2393 - rmse: 0.2809 - r2: 0.3678 - mae: 0.2393 - mse: 0.0789 - mape: 602767.1250 - val_loss: 0.2366 - val_rmse: 0.2780 - val_r2: 0.3804 - val_mae: 0.2366 - val_mse: 0.0773 - val_mape: 648478.4375\n",
      "Epoch 7/100\n",
      "26215/26215 [==============================] - 85s 3ms/step - loss: 0.2344 - rmse: 0.2754 - r2: 0.3925 - mae: 0.2344 - mse: 0.0758 - mape: 582175.1875 - val_loss: 0.2316 - val_rmse: 0.2722 - val_r2: 0.4056 - val_mae: 0.2316 - val_mse: 0.0741 - val_mape: 624410.3750\n",
      "Epoch 8/100\n",
      "26215/26215 [==============================] - 86s 3ms/step - loss: 0.2292 - rmse: 0.2697 - r2: 0.4174 - mae: 0.2292 - mse: 0.0727 - mape: 561465.4375 - val_loss: 0.2263 - val_rmse: 0.2666 - val_r2: 0.4299 - val_mae: 0.2263 - val_mse: 0.0711 - val_mape: 604819.6250\n",
      "Epoch 9/100\n",
      "26215/26215 [==============================] - 85s 3ms/step - loss: 0.2238 - rmse: 0.2638 - r2: 0.4426 - mae: 0.2238 - mse: 0.0696 - mape: 542254.5000 - val_loss: 0.2208 - val_rmse: 0.2604 - val_r2: 0.4560 - val_mae: 0.2208 - val_mse: 0.0678 - val_mape: 581767.2500\n",
      "Epoch 10/100\n",
      "26215/26215 [==============================] - 86s 3ms/step - loss: 0.2181 - rmse: 0.2575 - r2: 0.4687 - mae: 0.2181 - mse: 0.0663 - mape: 522531.6562 - val_loss: 0.2149 - val_rmse: 0.2541 - val_r2: 0.4823 - val_mae: 0.2149 - val_mse: 0.0646 - val_mape: 559789.3750\n",
      "Epoch 11/100\n",
      "26215/26215 [==============================] - 86s 3ms/step - loss: 0.2120 - rmse: 0.2510 - r2: 0.4954 - mae: 0.2120 - mse: 0.0630 - mape: 502293.9062 - val_loss: 0.2087 - val_rmse: 0.2473 - val_r2: 0.5097 - val_mae: 0.2087 - val_mse: 0.0611 - val_mape: 535960.4375\n",
      "Epoch 12/100\n",
      "26215/26215 [==============================] - 86s 3ms/step - loss: 0.2056 - rmse: 0.2440 - r2: 0.5229 - mae: 0.2056 - mse: 0.0596 - mape: 480828.9688 - val_loss: 0.2021 - val_rmse: 0.2403 - val_r2: 0.5369 - val_mae: 0.2021 - val_mse: 0.0578 - val_mape: 513408.0938\n",
      "Epoch 13/100\n",
      "26215/26215 [==============================] - 86s 3ms/step - loss: 0.1988 - rmse: 0.2369 - r2: 0.5504 - mae: 0.1988 - mse: 0.0561 - mape: 459574.7812 - val_loss: 0.1952 - val_rmse: 0.2330 - val_r2: 0.5645 - val_mae: 0.1952 - val_mse: 0.0543 - val_mape: 489352.0938\n",
      "Epoch 14/100\n",
      "26215/26215 [==============================] - 87s 3ms/step - loss: 0.1917 - rmse: 0.2294 - r2: 0.5784 - mae: 0.1917 - mse: 0.0526 - mape: 436623.5000 - val_loss: 0.1878 - val_rmse: 0.2253 - val_r2: 0.5929 - val_mae: 0.1878 - val_mse: 0.0508 - val_mape: 462333.9688\n",
      "Epoch 15/100\n",
      "26215/26215 [==============================] - 90s 3ms/step - loss: 0.1841 - rmse: 0.2215 - r2: 0.6070 - mae: 0.1841 - mse: 0.0491 - mape: 411902.5938 - val_loss: 0.1800 - val_rmse: 0.2174 - val_r2: 0.6211 - val_mae: 0.1800 - val_mse: 0.0473 - val_mape: 437022.9062\n",
      "Epoch 16/100\n",
      "26215/26215 [==============================] - 88s 3ms/step - loss: 0.1760 - rmse: 0.2133 - r2: 0.6354 - mae: 0.1760 - mse: 0.0455 - mape: 386813.8125 - val_loss: 0.1718 - val_rmse: 0.2090 - val_r2: 0.6496 - val_mae: 0.1718 - val_mse: 0.0437 - val_mape: 407086.7500\n",
      "Epoch 17/100\n",
      "26215/26215 [==============================] - 90s 3ms/step - loss: 0.1676 - rmse: 0.2048 - r2: 0.6640 - mae: 0.1676 - mse: 0.0419 - mape: 358309.3438 - val_loss: 0.1631 - val_rmse: 0.2004 - val_r2: 0.6781 - val_mae: 0.1631 - val_mse: 0.0401 - val_mape: 374413.9062\n",
      "Epoch 18/100\n",
      "26215/26215 [==============================] - 110s 4ms/step - loss: 0.1587 - rmse: 0.1960 - r2: 0.6921 - mae: 0.1587 - mse: 0.0384 - mape: 326989.0938 - val_loss: 0.1541 - val_rmse: 0.1916 - val_r2: 0.7057 - val_mae: 0.1541 - val_mse: 0.0367 - val_mape: 338298.6875\n",
      "Epoch 19/100\n",
      "26215/26215 [==============================] - 121s 5ms/step - loss: 0.1495 - rmse: 0.1872 - r2: 0.7194 - mae: 0.1495 - mse: 0.0350 - mape: 291863.9062 - val_loss: 0.1448 - val_rmse: 0.1827 - val_r2: 0.7323 - val_mae: 0.1448 - val_mse: 0.0334 - val_mape: 297088.1875\n",
      "Epoch 20/100\n",
      "26215/26215 [==============================] - 122s 5ms/step - loss: 0.1400 - rmse: 0.1783 - r2: 0.7452 - mae: 0.1400 - mse: 0.0318 - mape: 252566.9062 - val_loss: 0.1352 - val_rmse: 0.1741 - val_r2: 0.7570 - val_mae: 0.1352 - val_mse: 0.0303 - val_mape: 253480.8125\n",
      "Epoch 21/100\n",
      "26215/26215 [==============================] - 128s 5ms/step - loss: 0.1304 - rmse: 0.1698 - r2: 0.7690 - mae: 0.1304 - mse: 0.0288 - mape: 210069.5469 - val_loss: 0.1255 - val_rmse: 0.1658 - val_r2: 0.7797 - val_mae: 0.1255 - val_mse: 0.0275 - val_mape: 204988.7656\n",
      "Epoch 22/100\n",
      "26215/26215 [==============================] - 128s 5ms/step - loss: 0.1205 - rmse: 0.1618 - r2: 0.7903 - mae: 0.1205 - mse: 0.0262 - mape: 165061.6875 - val_loss: 0.1156 - val_rmse: 0.1582 - val_r2: 0.7993 - val_mae: 0.1156 - val_mse: 0.0250 - val_mape: 154923.9688\n",
      "Epoch 23/100\n",
      "26215/26215 [==============================] - 126s 5ms/step - loss: 0.1106 - rmse: 0.1546 - r2: 0.8084 - mae: 0.1106 - mse: 0.0239 - mape: 119958.4453 - val_loss: 0.1058 - val_rmse: 0.1516 - val_r2: 0.8157 - val_mae: 0.1058 - val_mse: 0.0230 - val_mape: 105842.9688\n",
      "Epoch 24/100\n",
      "26215/26215 [==============================] - 125s 5ms/step - loss: 0.1014 - rmse: 0.1486 - r2: 0.8230 - mae: 0.1014 - mse: 0.0221 - mape: 75154.8672 - val_loss: 0.0974 - val_rmse: 0.1464 - val_r2: 0.8281 - val_mae: 0.0974 - val_mse: 0.0214 - val_mape: 57423.6484\n",
      "Epoch 25/100\n",
      "26215/26215 [==============================] - 126s 5ms/step - loss: 0.0940 - rmse: 0.1439 - r2: 0.8341 - mae: 0.0940 - mse: 0.0207 - mape: 35811.3359 - val_loss: 0.0911 - val_rmse: 0.1419 - val_r2: 0.8385 - val_mae: 0.0911 - val_mse: 0.0201 - val_mape: 24040.8652\n",
      "Epoch 26/100\n",
      "26215/26215 [==============================] - 124s 5ms/step - loss: 0.0887 - rmse: 0.1396 - r2: 0.8440 - mae: 0.0887 - mse: 0.0195 - mape: 15962.4932 - val_loss: 0.0868 - val_rmse: 0.1380 - val_r2: 0.8473 - val_mae: 0.0868 - val_mse: 0.0190 - val_mape: 12550.0586\n",
      "Epoch 27/100\n",
      "26215/26215 [==============================] - 115s 4ms/step - loss: 0.0852 - rmse: 0.1357 - r2: 0.8524 - mae: 0.0852 - mse: 0.0184 - mape: 15413.1875 - val_loss: 0.0838 - val_rmse: 0.1342 - val_r2: 0.8556 - val_mae: 0.0838 - val_mse: 0.0180 - val_mape: 21233.8926\n",
      "Epoch 28/100\n",
      "26215/26215 [==============================] - 116s 4ms/step - loss: 0.0824 - rmse: 0.1320 - r2: 0.8604 - mae: 0.0824 - mse: 0.0174 - mape: 23137.8516 - val_loss: 0.0812 - val_rmse: 0.1305 - val_r2: 0.8634 - val_mae: 0.0812 - val_mse: 0.0170 - val_mape: 27553.2031\n",
      "Epoch 29/100\n",
      "26215/26215 [==============================] - 117s 4ms/step - loss: 0.0800 - rmse: 0.1284 - r2: 0.8679 - mae: 0.0800 - mse: 0.0165 - mape: 28232.7129 - val_loss: 0.0790 - val_rmse: 0.1271 - val_r2: 0.8705 - val_mae: 0.0790 - val_mse: 0.0161 - val_mape: 32861.4297\n",
      "Epoch 30/100\n",
      "26215/26215 [==============================] - 118s 5ms/step - loss: 0.0778 - rmse: 0.1251 - r2: 0.8747 - mae: 0.0778 - mse: 0.0156 - mape: 30884.7754 - val_loss: 0.0769 - val_rmse: 0.1238 - val_r2: 0.8771 - val_mae: 0.0769 - val_mse: 0.0153 - val_mape: 33789.2617\n",
      "Epoch 31/100\n",
      "26215/26215 [==============================] - 116s 4ms/step - loss: 0.0757 - rmse: 0.1220 - r2: 0.8808 - mae: 0.0757 - mse: 0.0149 - mape: 31140.4844 - val_loss: 0.0749 - val_rmse: 0.1208 - val_r2: 0.8829 - val_mae: 0.0749 - val_mse: 0.0146 - val_mape: 33857.6250\n",
      "Epoch 32/100\n",
      "26215/26215 [==============================] - 119s 5ms/step - loss: 0.0738 - rmse: 0.1191 - r2: 0.8864 - mae: 0.0738 - mse: 0.0142 - mape: 30780.3672 - val_loss: 0.0731 - val_rmse: 0.1181 - val_r2: 0.8882 - val_mae: 0.0731 - val_mse: 0.0139 - val_mape: 33563.0625\n",
      "Epoch 33/100\n",
      "26215/26215 [==============================] - 116s 4ms/step - loss: 0.0721 - rmse: 0.1164 - r2: 0.8914 - mae: 0.0721 - mse: 0.0136 - mape: 30468.4844 - val_loss: 0.0714 - val_rmse: 0.1155 - val_r2: 0.8930 - val_mae: 0.0714 - val_mse: 0.0133 - val_mape: 32731.9863\n",
      "Epoch 34/100\n",
      "26215/26215 [==============================] - 118s 5ms/step - loss: 0.0705 - rmse: 0.1140 - r2: 0.8960 - mae: 0.0705 - mse: 0.0130 - mape: 29288.3184 - val_loss: 0.0699 - val_rmse: 0.1132 - val_r2: 0.8973 - val_mae: 0.0699 - val_mse: 0.0128 - val_mape: 31655.5664\n",
      "Epoch 35/100\n",
      "26215/26215 [==============================] - 119s 5ms/step - loss: 0.0690 - rmse: 0.1118 - r2: 0.9000 - mae: 0.0690 - mse: 0.0125 - mape: 28316.3438 - val_loss: 0.0685 - val_rmse: 0.1111 - val_r2: 0.9011 - val_mae: 0.0685 - val_mse: 0.0123 - val_mape: 30465.2949\n",
      "Epoch 36/100\n",
      "26215/26215 [==============================] - 118s 4ms/step - loss: 0.0677 - rmse: 0.1097 - r2: 0.9036 - mae: 0.0677 - mse: 0.0120 - mape: 26552.5137 - val_loss: 0.0672 - val_rmse: 0.1091 - val_r2: 0.9046 - val_mae: 0.0672 - val_mse: 0.0119 - val_mape: 27931.1953\n",
      "Epoch 37/100\n",
      "26215/26215 [==============================] - 117s 4ms/step - loss: 0.0665 - rmse: 0.1079 - r2: 0.9068 - mae: 0.0665 - mse: 0.0116 - mape: 24569.5254 - val_loss: 0.0661 - val_rmse: 0.1074 - val_r2: 0.9076 - val_mae: 0.0661 - val_mse: 0.0115 - val_mape: 26180.7227\n",
      "Epoch 38/100\n",
      "26215/26215 [==============================] - 117s 4ms/step - loss: 0.0654 - rmse: 0.1062 - r2: 0.9096 - mae: 0.0654 - mse: 0.0113 - mape: 23305.0820 - val_loss: 0.0651 - val_rmse: 0.1057 - val_r2: 0.9104 - val_mae: 0.0651 - val_mse: 0.0112 - val_mape: 24430.3848\n",
      "Epoch 39/100\n",
      "26215/26215 [==============================] - 118s 4ms/step - loss: 0.0644 - rmse: 0.1047 - r2: 0.9122 - mae: 0.0644 - mse: 0.0110 - mape: 22391.1895 - val_loss: 0.0641 - val_rmse: 0.1043 - val_r2: 0.9128 - val_mae: 0.0641 - val_mse: 0.0109 - val_mape: 23599.9180\n",
      "Epoch 40/100\n",
      "26215/26215 [==============================] - 119s 5ms/step - loss: 0.0636 - rmse: 0.1032 - r2: 0.9147 - mae: 0.0636 - mse: 0.0106 - mape: 20973.9531 - val_loss: 0.0633 - val_rmse: 0.1028 - val_r2: 0.9152 - val_mae: 0.0633 - val_mse: 0.0106 - val_mape: 21878.1328\n",
      "Epoch 41/100\n",
      "26215/26215 [==============================] - 120s 5ms/step - loss: 0.0627 - rmse: 0.1019 - r2: 0.9169 - mae: 0.0627 - mse: 0.0104 - mape: 19871.8223 - val_loss: 0.0625 - val_rmse: 0.1016 - val_r2: 0.9172 - val_mae: 0.0625 - val_mse: 0.0103 - val_mape: 20852.6133\n",
      "Epoch 42/100\n",
      "26215/26215 [==============================] - 119s 5ms/step - loss: 0.0620 - rmse: 0.1007 - r2: 0.9188 - mae: 0.0620 - mse: 0.0101 - mape: 18914.5977 - val_loss: 0.0618 - val_rmse: 0.1005 - val_r2: 0.9189 - val_mae: 0.0618 - val_mse: 0.0101 - val_mape: 19920.4883\n",
      "Epoch 43/100\n",
      "26215/26215 [==============================] - 119s 5ms/step - loss: 0.0613 - rmse: 0.0997 - r2: 0.9204 - mae: 0.0613 - mse: 0.0099 - mape: 17720.4414 - val_loss: 0.0611 - val_rmse: 0.0995 - val_r2: 0.9206 - val_mae: 0.0611 - val_mse: 0.0099 - val_mape: 17834.4785\n",
      "Epoch 44/100\n",
      "26215/26215 [==============================] - 118s 4ms/step - loss: 0.0607 - rmse: 0.0987 - r2: 0.9219 - mae: 0.0607 - mse: 0.0097 - mape: 16047.8838 - val_loss: 0.0606 - val_rmse: 0.0986 - val_r2: 0.9220 - val_mae: 0.0606 - val_mse: 0.0097 - val_mape: 16082.0674\n",
      "Epoch 45/100\n",
      "26215/26215 [==============================] - 118s 5ms/step - loss: 0.0601 - rmse: 0.0978 - r2: 0.9233 - mae: 0.0601 - mse: 0.0096 - mape: 14618.0596 - val_loss: 0.0600 - val_rmse: 0.0978 - val_r2: 0.9234 - val_mae: 0.0600 - val_mse: 0.0096 - val_mape: 14758.4922\n",
      "Epoch 46/100\n",
      "26215/26215 [==============================] - 118s 4ms/step - loss: 0.0596 - rmse: 0.0970 - r2: 0.9246 - mae: 0.0596 - mse: 0.0094 - mape: 14204.9365 - val_loss: 0.0596 - val_rmse: 0.0969 - val_r2: 0.9246 - val_mae: 0.0596 - val_mse: 0.0094 - val_mape: 14986.4570\n",
      "Epoch 47/100\n",
      "26215/26215 [==============================] - 128s 5ms/step - loss: 0.0592 - rmse: 0.0963 - r2: 0.9257 - mae: 0.0592 - mse: 0.0093 - mape: 14396.3057 - val_loss: 0.0591 - val_rmse: 0.0962 - val_r2: 0.9258 - val_mae: 0.0591 - val_mse: 0.0093 - val_mape: 15323.4150\n",
      "Epoch 48/100\n",
      "26215/26215 [==============================] - 125s 5ms/step - loss: 0.0588 - rmse: 0.0956 - r2: 0.9268 - mae: 0.0588 - mse: 0.0091 - mape: 14645.7119 - val_loss: 0.0587 - val_rmse: 0.0956 - val_r2: 0.9268 - val_mae: 0.0587 - val_mse: 0.0091 - val_mape: 15614.3857\n",
      "Epoch 49/100\n",
      "26215/26215 [==============================] - 126s 5ms/step - loss: 0.0584 - rmse: 0.0950 - r2: 0.9278 - mae: 0.0584 - mse: 0.0090 - mape: 14866.2119 - val_loss: 0.0584 - val_rmse: 0.0950 - val_r2: 0.9277 - val_mae: 0.0584 - val_mse: 0.0090 - val_mape: 15823.4785\n",
      "Epoch 50/100\n",
      "26215/26215 [==============================] - 126s 5ms/step - loss: 0.0581 - rmse: 0.0943 - r2: 0.9287 - mae: 0.0581 - mse: 0.0089 - mape: 15079.2764 - val_loss: 0.0581 - val_rmse: 0.0943 - val_r2: 0.9286 - val_mae: 0.0581 - val_mse: 0.0089 - val_mape: 16126.4492\n",
      "Epoch 51/100\n",
      "26215/26215 [==============================] - 127s 5ms/step - loss: 0.0578 - rmse: 0.0937 - r2: 0.9296 - mae: 0.0578 - mse: 0.0088 - mape: 15274.3320 - val_loss: 0.0578 - val_rmse: 0.0938 - val_r2: 0.9295 - val_mae: 0.0578 - val_mse: 0.0088 - val_mape: 16346.7002\n",
      "Epoch 52/100\n",
      "26215/26215 [==============================] - 127s 5ms/step - loss: 0.0575 - rmse: 0.0932 - r2: 0.9304 - mae: 0.0575 - mse: 0.0087 - mape: 15451.8379 - val_loss: 0.0575 - val_rmse: 0.0932 - val_r2: 0.9304 - val_mae: 0.0575 - val_mse: 0.0087 - val_mape: 16654.9395\n",
      "Epoch 53/100\n",
      "26215/26215 [==============================] - 125s 5ms/step - loss: 0.0572 - rmse: 0.0927 - r2: 0.9312 - mae: 0.0572 - mse: 0.0086 - mape: 15682.6709 - val_loss: 0.0572 - val_rmse: 0.0927 - val_r2: 0.9311 - val_mae: 0.0572 - val_mse: 0.0086 - val_mape: 16934.1797\n",
      "Epoch 54/100\n",
      "26215/26215 [==============================] - 125s 5ms/step - loss: 0.0569 - rmse: 0.0922 - r2: 0.9319 - mae: 0.0569 - mse: 0.0085 - mape: 15867.8086 - val_loss: 0.0570 - val_rmse: 0.0922 - val_r2: 0.9318 - val_mae: 0.0570 - val_mse: 0.0085 - val_mape: 17167.4277\n",
      "Epoch 55/100\n",
      "26215/26215 [==============================] - 125s 5ms/step - loss: 0.0567 - rmse: 0.0917 - r2: 0.9326 - mae: 0.0567 - mse: 0.0084 - mape: 16044.2549 - val_loss: 0.0567 - val_rmse: 0.0918 - val_r2: 0.9324 - val_mae: 0.0567 - val_mse: 0.0084 - val_mape: 17338.6777\n",
      "Epoch 56/100\n",
      "26215/26215 [==============================] - 125s 5ms/step - loss: 0.0565 - rmse: 0.0913 - r2: 0.9333 - mae: 0.0565 - mse: 0.0083 - mape: 16210.3330 - val_loss: 0.0565 - val_rmse: 0.0913 - val_r2: 0.9331 - val_mae: 0.0565 - val_mse: 0.0083 - val_mape: 17558.3945\n",
      "Epoch 57/100\n",
      "26215/26215 [==============================] - 126s 5ms/step - loss: 0.0563 - rmse: 0.0908 - r2: 0.9339 - mae: 0.0563 - mse: 0.0083 - mape: 16363.9990 - val_loss: 0.0563 - val_rmse: 0.0910 - val_r2: 0.9336 - val_mae: 0.0563 - val_mse: 0.0083 - val_mape: 17683.7539\n",
      "Epoch 58/100\n",
      "26215/26215 [==============================] - 125s 5ms/step - loss: 0.0561 - rmse: 0.0905 - r2: 0.9344 - mae: 0.0561 - mse: 0.0082 - mape: 16452.8574 - val_loss: 0.0561 - val_rmse: 0.0906 - val_r2: 0.9342 - val_mae: 0.0561 - val_mse: 0.0082 - val_mape: 17807.1816\n",
      "Epoch 59/100\n"
     ]
    },
    {
     "name": "stdout",
     "output_type": "stream",
     "text": [
      "26215/26215 [==============================] - 115s 4ms/step - loss: 0.0559 - rmse: 0.0902 - r2: 0.9349 - mae: 0.0559 - mse: 0.0081 - mape: 16562.4062 - val_loss: 0.0559 - val_rmse: 0.0903 - val_r2: 0.9347 - val_mae: 0.0559 - val_mse: 0.0081 - val_mape: 18130.3418\n",
      "Epoch 60/100\n",
      "26215/26215 [==============================] - 111s 4ms/step - loss: 0.0557 - rmse: 0.0898 - r2: 0.9354 - mae: 0.0557 - mse: 0.0081 - mape: 16922.4121 - val_loss: 0.0558 - val_rmse: 0.0899 - val_r2: 0.9351 - val_mae: 0.0558 - val_mse: 0.0081 - val_mape: 18332.2988\n",
      "Epoch 61/100\n",
      "26215/26215 [==============================] - 118s 5ms/step - loss: 0.0555 - rmse: 0.0895 - r2: 0.9358 - mae: 0.0555 - mse: 0.0080 - mape: 16978.5664 - val_loss: 0.0556 - val_rmse: 0.0897 - val_r2: 0.9355 - val_mae: 0.0556 - val_mse: 0.0080 - val_mape: 18373.4297\n",
      "Epoch 62/100\n",
      "26215/26215 [==============================] - 118s 4ms/step - loss: 0.0554 - rmse: 0.0892 - r2: 0.9362 - mae: 0.0554 - mse: 0.0080 - mape: 17106.0234 - val_loss: 0.0555 - val_rmse: 0.0893 - val_r2: 0.9360 - val_mae: 0.0555 - val_mse: 0.0080 - val_mape: 18750.1055\n",
      "Epoch 63/100\n",
      "26215/26215 [==============================] - 117s 4ms/step - loss: 0.0552 - rmse: 0.0889 - r2: 0.9367 - mae: 0.0552 - mse: 0.0079 - mape: 17400.8926 - val_loss: 0.0553 - val_rmse: 0.0890 - val_r2: 0.9364 - val_mae: 0.0553 - val_mse: 0.0079 - val_mape: 18853.4121\n",
      "Epoch 64/100\n",
      "26215/26215 [==============================] - 116s 4ms/step - loss: 0.0551 - rmse: 0.0886 - r2: 0.9371 - mae: 0.0551 - mse: 0.0079 - mape: 17465.3398 - val_loss: 0.0552 - val_rmse: 0.0887 - val_r2: 0.9368 - val_mae: 0.0552 - val_mse: 0.0079 - val_mape: 18951.3594\n",
      "Epoch 65/100\n",
      "26215/26215 [==============================] - 118s 5ms/step - loss: 0.0550 - rmse: 0.0883 - r2: 0.9375 - mae: 0.0550 - mse: 0.0078 - mape: 17582.6914 - val_loss: 0.0550 - val_rmse: 0.0885 - val_r2: 0.9373 - val_mae: 0.0550 - val_mse: 0.0078 - val_mape: 19163.4414\n",
      "Epoch 66/100\n",
      "26215/26215 [==============================] - 119s 5ms/step - loss: 0.0548 - rmse: 0.0880 - r2: 0.9379 - mae: 0.0548 - mse: 0.0078 - mape: 17757.5879 - val_loss: 0.0549 - val_rmse: 0.0882 - val_r2: 0.9376 - val_mae: 0.0549 - val_mse: 0.0078 - val_mape: 19134.7109\n",
      "Epoch 67/100\n",
      "26215/26215 [==============================] - 126s 5ms/step - loss: 0.0547 - rmse: 0.0878 - r2: 0.9382 - mae: 0.0547 - mse: 0.0077 - mape: 17740.5332 - val_loss: 0.0548 - val_rmse: 0.0879 - val_r2: 0.9380 - val_mae: 0.0548 - val_mse: 0.0077 - val_mape: 19281.9844\n",
      "Epoch 68/100\n",
      "26215/26215 [==============================] - 126s 5ms/step - loss: 0.0546 - rmse: 0.0876 - r2: 0.9386 - mae: 0.0546 - mse: 0.0077 - mape: 17725.2227 - val_loss: 0.0547 - val_rmse: 0.0877 - val_r2: 0.9383 - val_mae: 0.0547 - val_mse: 0.0077 - val_mape: 19249.5176\n",
      "Epoch 69/100\n",
      "26215/26215 [==============================] - 127s 5ms/step - loss: 0.0545 - rmse: 0.0873 - r2: 0.9389 - mae: 0.0545 - mse: 0.0076 - mape: 17677.7656 - val_loss: 0.0546 - val_rmse: 0.0875 - val_r2: 0.9386 - val_mae: 0.0546 - val_mse: 0.0077 - val_mape: 19235.3027\n",
      "Epoch 70/100\n",
      "26215/26215 [==============================] - 128s 5ms/step - loss: 0.0544 - rmse: 0.0871 - r2: 0.9392 - mae: 0.0544 - mse: 0.0076 - mape: 17587.8711 - val_loss: 0.0545 - val_rmse: 0.0872 - val_r2: 0.9390 - val_mae: 0.0545 - val_mse: 0.0076 - val_mape: 19295.0586\n",
      "Epoch 71/100\n",
      "26215/26215 [==============================] - 126s 5ms/step - loss: 0.0543 - rmse: 0.0869 - r2: 0.9395 - mae: 0.0543 - mse: 0.0076 - mape: 17671.0508 - val_loss: 0.0544 - val_rmse: 0.0871 - val_r2: 0.9392 - val_mae: 0.0544 - val_mse: 0.0076 - val_mape: 19151.7754\n",
      "Epoch 72/100\n",
      "26215/26215 [==============================] - 127s 5ms/step - loss: 0.0542 - rmse: 0.0867 - r2: 0.9398 - mae: 0.0542 - mse: 0.0075 - mape: 17624.7148 - val_loss: 0.0543 - val_rmse: 0.0869 - val_r2: 0.9395 - val_mae: 0.0543 - val_mse: 0.0075 - val_mape: 19168.3379\n",
      "Epoch 73/100\n",
      "26215/26215 [==============================] - 127s 5ms/step - loss: 0.0541 - rmse: 0.0865 - r2: 0.9400 - mae: 0.0541 - mse: 0.0075 - mape: 17623.0605 - val_loss: 0.0542 - val_rmse: 0.0867 - val_r2: 0.9397 - val_mae: 0.0542 - val_mse: 0.0075 - val_mape: 19114.5625\n",
      "Epoch 74/100\n",
      "26215/26215 [==============================] - 126s 5ms/step - loss: 0.0540 - rmse: 0.0863 - r2: 0.9403 - mae: 0.0540 - mse: 0.0075 - mape: 17539.0312 - val_loss: 0.0541 - val_rmse: 0.0865 - val_r2: 0.9399 - val_mae: 0.0541 - val_mse: 0.0075 - val_mape: 18972.5859\n",
      "Epoch 75/100\n",
      "26215/26215 [==============================] - 125s 5ms/step - loss: 0.0539 - rmse: 0.0862 - r2: 0.9405 - mae: 0.0539 - mse: 0.0074 - mape: 17460.8984 - val_loss: 0.0540 - val_rmse: 0.0864 - val_r2: 0.9402 - val_mae: 0.0540 - val_mse: 0.0075 - val_mape: 18879.5625\n",
      "Epoch 76/100\n",
      "26215/26215 [==============================] - 126s 5ms/step - loss: 0.0538 - rmse: 0.0860 - r2: 0.9407 - mae: 0.0538 - mse: 0.0074 - mape: 17358.0410 - val_loss: 0.0539 - val_rmse: 0.0862 - val_r2: 0.9404 - val_mae: 0.0539 - val_mse: 0.0074 - val_mape: 18717.2090\n",
      "Epoch 77/100\n",
      "26215/26215 [==============================] - 127s 5ms/step - loss: 0.0537 - rmse: 0.0859 - r2: 0.9409 - mae: 0.0537 - mse: 0.0074 - mape: 17215.2324 - val_loss: 0.0538 - val_rmse: 0.0861 - val_r2: 0.9406 - val_mae: 0.0538 - val_mse: 0.0074 - val_mape: 18591.8125\n",
      "Epoch 78/100\n",
      "26215/26215 [==============================] - 123s 5ms/step - loss: 0.0536 - rmse: 0.0857 - r2: 0.9412 - mae: 0.0536 - mse: 0.0073 - mape: 17077.1406 - val_loss: 0.0537 - val_rmse: 0.0858 - val_r2: 0.9409 - val_mae: 0.0537 - val_mse: 0.0074 - val_mape: 18681.5371\n",
      "Epoch 79/100\n",
      "26215/26215 [==============================] - 126s 5ms/step - loss: 0.0536 - rmse: 0.0855 - r2: 0.9414 - mae: 0.0536 - mse: 0.0073 - mape: 17012.4160 - val_loss: 0.0537 - val_rmse: 0.0857 - val_r2: 0.9411 - val_mae: 0.0537 - val_mse: 0.0074 - val_mape: 18374.8809\n",
      "Epoch 80/100\n",
      "26215/26215 [==============================] - 128s 5ms/step - loss: 0.0535 - rmse: 0.0854 - r2: 0.9416 - mae: 0.0535 - mse: 0.0073 - mape: 16909.6191 - val_loss: 0.0536 - val_rmse: 0.0855 - val_r2: 0.9413 - val_mae: 0.0536 - val_mse: 0.0073 - val_mape: 18382.3828\n",
      "Epoch 81/100\n",
      "26215/26215 [==============================] - 126s 5ms/step - loss: 0.0534 - rmse: 0.0852 - r2: 0.9418 - mae: 0.0534 - mse: 0.0073 - mape: 16843.4844 - val_loss: 0.0535 - val_rmse: 0.0854 - val_r2: 0.9416 - val_mae: 0.0535 - val_mse: 0.0073 - val_mape: 18341.7598\n",
      "Epoch 82/100\n",
      "26215/26215 [==============================] - 122s 5ms/step - loss: 0.0533 - rmse: 0.0850 - r2: 0.9421 - mae: 0.0533 - mse: 0.0072 - mape: 16726.4355 - val_loss: 0.0534 - val_rmse: 0.0852 - val_r2: 0.9418 - val_mae: 0.0534 - val_mse: 0.0073 - val_mape: 18216.1973\n",
      "Epoch 83/100\n",
      "26215/26215 [==============================] - 125s 5ms/step - loss: 0.0533 - rmse: 0.0849 - r2: 0.9423 - mae: 0.0533 - mse: 0.0072 - mape: 16706.1973 - val_loss: 0.0534 - val_rmse: 0.0851 - val_r2: 0.9420 - val_mae: 0.0534 - val_mse: 0.0072 - val_mape: 18055.0371\n",
      "Epoch 84/100\n",
      "26215/26215 [==============================] - 126s 5ms/step - loss: 0.0532 - rmse: 0.0847 - r2: 0.9425 - mae: 0.0532 - mse: 0.0072 - mape: 16596.4863 - val_loss: 0.0533 - val_rmse: 0.0849 - val_r2: 0.9422 - val_mae: 0.0533 - val_mse: 0.0072 - val_mape: 18021.6094\n",
      "Epoch 85/100\n",
      "26215/26215 [==============================] - 125s 5ms/step - loss: 0.0531 - rmse: 0.0846 - r2: 0.9427 - mae: 0.0531 - mse: 0.0072 - mape: 16477.4629 - val_loss: 0.0532 - val_rmse: 0.0848 - val_r2: 0.9423 - val_mae: 0.0532 - val_mse: 0.0072 - val_mape: 17788.6348\n",
      "Epoch 86/100\n",
      "26215/26215 [==============================] - 126s 5ms/step - loss: 0.0531 - rmse: 0.0845 - r2: 0.9429 - mae: 0.0531 - mse: 0.0071 - mape: 16328.3809 - val_loss: 0.0532 - val_rmse: 0.0846 - val_r2: 0.9425 - val_mae: 0.0532 - val_mse: 0.0072 - val_mape: 17672.3457\n",
      "Epoch 87/100\n",
      "26215/26215 [==============================] - 123s 5ms/step - loss: 0.0530 - rmse: 0.0843 - r2: 0.9430 - mae: 0.0530 - mse: 0.0071 - mape: 16184.5938 - val_loss: 0.0531 - val_rmse: 0.0845 - val_r2: 0.9427 - val_mae: 0.0531 - val_mse: 0.0071 - val_mape: 17551.8613\n",
      "Epoch 88/100\n",
      "26215/26215 [==============================] - 117s 4ms/step - loss: 0.0529 - rmse: 0.0842 - r2: 0.9432 - mae: 0.0529 - mse: 0.0071 - mape: 16049.7959 - val_loss: 0.0531 - val_rmse: 0.0843 - val_r2: 0.9429 - val_mae: 0.0531 - val_mse: 0.0071 - val_mape: 17479.7520\n",
      "Epoch 89/100\n",
      "26215/26215 [==============================] - 116s 4ms/step - loss: 0.0529 - rmse: 0.0841 - r2: 0.9434 - mae: 0.0529 - mse: 0.0071 - mape: 15924.4863 - val_loss: 0.0530 - val_rmse: 0.0842 - val_r2: 0.9431 - val_mae: 0.0530 - val_mse: 0.0071 - val_mape: 17287.5098\n",
      "Epoch 90/100\n",
      "26215/26215 [==============================] - 118s 4ms/step - loss: 0.0528 - rmse: 0.0839 - r2: 0.9436 - mae: 0.0528 - mse: 0.0070 - mape: 15838.3164 - val_loss: 0.0529 - val_rmse: 0.0841 - val_r2: 0.9432 - val_mae: 0.0529 - val_mse: 0.0071 - val_mape: 17177.8164\n",
      "Epoch 91/100\n",
      "26215/26215 [==============================] - 119s 5ms/step - loss: 0.0528 - rmse: 0.0838 - r2: 0.9437 - mae: 0.0528 - mse: 0.0070 - mape: 15859.8525 - val_loss: 0.0529 - val_rmse: 0.0840 - val_r2: 0.9434 - val_mae: 0.0529 - val_mse: 0.0071 - val_mape: 17258.9902\n",
      "Epoch 92/100\n",
      "26215/26215 [==============================] - 116s 4ms/step - loss: 0.0527 - rmse: 0.0837 - r2: 0.9439 - mae: 0.0527 - mse: 0.0070 - mape: 15939.0713 - val_loss: 0.0528 - val_rmse: 0.0839 - val_r2: 0.9435 - val_mae: 0.0528 - val_mse: 0.0070 - val_mape: 17370.9434\n",
      "Epoch 93/100\n",
      "26215/26215 [==============================] - 117s 4ms/step - loss: 0.0527 - rmse: 0.0836 - r2: 0.9440 - mae: 0.0527 - mse: 0.0070 - mape: 16023.6074 - val_loss: 0.0528 - val_rmse: 0.0838 - val_r2: 0.9436 - val_mae: 0.0528 - val_mse: 0.0070 - val_mape: 17459.3086\n",
      "Epoch 94/100\n",
      "26215/26215 [==============================] - 118s 5ms/step - loss: 0.0526 - rmse: 0.0835 - r2: 0.9441 - mae: 0.0526 - mse: 0.0070 - mape: 16172.7148 - val_loss: 0.0527 - val_rmse: 0.0837 - val_r2: 0.9438 - val_mae: 0.0527 - val_mse: 0.0070 - val_mape: 17721.3184\n",
      "Epoch 95/100\n",
      "26215/26215 [==============================] - 119s 5ms/step - loss: 0.0526 - rmse: 0.0834 - r2: 0.9443 - mae: 0.0526 - mse: 0.0070 - mape: 16295.7598 - val_loss: 0.0527 - val_rmse: 0.0836 - val_r2: 0.9439 - val_mae: 0.0527 - val_mse: 0.0070 - val_mape: 17840.2090\n",
      "Epoch 96/100\n",
      "26215/26215 [==============================] - 120s 5ms/step - loss: 0.0525 - rmse: 0.0833 - r2: 0.9444 - mae: 0.0525 - mse: 0.0069 - mape: 16398.8320 - val_loss: 0.0526 - val_rmse: 0.0835 - val_r2: 0.9440 - val_mae: 0.0526 - val_mse: 0.0070 - val_mape: 17823.0098\n",
      "Epoch 97/100\n",
      "26215/26215 [==============================] - 116s 4ms/step - loss: 0.0525 - rmse: 0.0832 - r2: 0.9445 - mae: 0.0525 - mse: 0.0069 - mape: 16455.8984 - val_loss: 0.0526 - val_rmse: 0.0834 - val_r2: 0.9442 - val_mae: 0.0526 - val_mse: 0.0070 - val_mape: 17983.2012\n",
      "Epoch 98/100\n",
      "26215/26215 [==============================] - 118s 4ms/step - loss: 0.0524 - rmse: 0.0831 - r2: 0.9446 - mae: 0.0524 - mse: 0.0069 - mape: 16528.9199 - val_loss: 0.0525 - val_rmse: 0.0833 - val_r2: 0.9443 - val_mae: 0.0525 - val_mse: 0.0069 - val_mape: 18105.6211\n",
      "Epoch 99/100\n",
      "26215/26215 [==============================] - 120s 5ms/step - loss: 0.0524 - rmse: 0.0830 - r2: 0.9448 - mae: 0.0524 - mse: 0.0069 - mape: 16632.3848 - val_loss: 0.0525 - val_rmse: 0.0832 - val_r2: 0.9445 - val_mae: 0.0525 - val_mse: 0.0069 - val_mape: 18340.3672\n",
      "Epoch 100/100\n",
      "26215/26215 [==============================] - 119s 5ms/step - loss: 0.0523 - rmse: 0.0829 - r2: 0.9449 - mae: 0.0523 - mse: 0.0069 - mape: 16750.4180 - val_loss: 0.0524 - val_rmse: 0.0831 - val_r2: 0.9446 - val_mae: 0.0524 - val_mse: 0.0069 - val_mape: 18412.3008\n"
     ]
    }
   ],
   "source": [
    "tf.random.set_seed(42)\n",
    "\n",
    "model_7 = tf.keras.Sequential([tf.keras.layers.LSTM(20,activation= 'relu',return_sequences=True, input_shape=(3,1)),\n",
    "                               tf.keras.layers.LSTM(10,activation='linear'),\n",
    "                               tf.keras.layers.Dense(10),\n",
    "                               tf.keras.layers.Dense(1)])\n",
    "\n",
    "model_7.compile(loss = tf.keras.losses.mae,\n",
    "                optimizer = tf.keras.optimizers.legacy.Adam(learning_rate=0.001,decay=0.01),\n",
    "                metrics=[tf.keras.metrics.RootMeanSquaredError(name='rmse'),\n",
    "                         tfa.metrics.RSquare(name='r2'),'mae','mse','mape'])\n",
    "\n",
    "history_7 = model_7.fit(X_train,Y_train,batch_size = 32,epochs=100,validation_data=(X_test,Y_test),callbacks = callback)"
   ]
  },
  {
   "cell_type": "code",
   "execution_count": 18,
   "id": "31b9603e",
   "metadata": {},
   "outputs": [
    {
     "data": {
      "image/png": "[encoded data removed]",
      "text/plain": [
       "<Figure size 640x480 with 1 Axes>"
      ]
     },
     "metadata": {},
     "output_type": "display_data"
    }
   ],
   "source": [
    "plot_his(history_7)"
   ]
  },
  {
   "cell_type": "code",
   "execution_count": 19,
   "id": "94322687",
   "metadata": {},
   "outputs": [
    {
     "name": "stdout",
     "output_type": "stream",
     "text": [
      "6554/6554 [==============================] - 11s 2ms/step\n"
     ]
    }
   ],
   "source": [
    "prediction_7 = model_7.predict(X_test)"
   ]
  },
  {
   "cell_type": "code",
   "execution_count": 20,
   "id": "57596503",
   "metadata": {},
   "outputs": [
    {
     "name": "stdout",
     "output_type": "stream",
     "text": [
      "6554/6554 [==============================] - 18s 3ms/step - loss: 0.0524 - rmse: 0.0831 - r2: 0.9446 - mae: 0.0524 - mse: 0.0069 - mape: 18412.3008\n"
     ]
    },
    {
     "data": {
      "text/plain": [
       "[0.0524369440972805,\n",
       " 0.08313482254743576,\n",
       " 0.9445757269859314,\n",
       " 0.0524369440972805,\n",
       " 0.006911399308592081,\n",
       " 18412.30078125]"
      ]
     },
     "execution_count": 20,
     "metadata": {},
     "output_type": "execute_result"
    }
   ],
   "source": [
    "model_7.evaluate(X_test,Y_test)"
   ]
  },
  {
   "cell_type": "code",
   "execution_count": 21,
   "id": "fb00c9b2",
   "metadata": {},
   "outputs": [
    {
     "name": "stdout",
     "output_type": "stream",
     "text": [
      "AIC:  6240.8257\n"
     ]
    }
   ],
   "source": [
    "AIC_value(model_7,prediction_7,Y_test)"
   ]
  },
  {
   "cell_type": "code",
   "execution_count": 22,
   "id": "45a0418b",
   "metadata": {},
   "outputs": [
    {
     "name": "stdout",
     "output_type": "stream",
     "text": [
      "Model: \"sequential\"\n",
      "_________________________________________________________________\n",
      " Layer (type)                Output Shape              Param #   \n",
      "=================================================================\n",
      " lstm (LSTM)                 (None, 3, 20)             1760      \n",
      "                                                                 \n",
      " lstm_1 (LSTM)               (None, 10)                1240      \n",
      "                                                                 \n",
      " dense (Dense)               (None, 10)                110       \n",
      "                                                                 \n",
      " dense_1 (Dense)             (None, 1)                 11        \n",
      "                                                                 \n",
      "=================================================================\n",
      "Total params: 3,121\n",
      "Trainable params: 3,121\n",
      "Non-trainable params: 0\n",
      "_________________________________________________________________\n"
     ]
    }
   ],
   "source": [
    "model_7.summary()"
   ]
  },
  {
   "cell_type": "code",
   "execution_count": 23,
   "id": "0389ed33",
   "metadata": {},
   "outputs": [],
   "source": [
    "model_7.save('Saved_models/model_7_SOCesti.h5')"
   ]
  },
  {
   "cell_type": "code",
   "execution_count": null,
   "id": "df91c6c9",
   "metadata": {},
   "outputs": [],
   "source": []
  },
  {
   "cell_type": "code",
   "execution_count": null,
   "id": "8ed032b9",
   "metadata": {},
   "outputs": [],
   "source": []
  },
  {
   "cell_type": "code",
   "execution_count": 26,
   "id": "465050f2",
   "metadata": {},
   "outputs": [
    {
     "name": "stdout",
     "output_type": "stream",
     "text": [
      "Epoch 1/100\n",
      "26215/26215 [==============================] - 134s 5ms/step - loss: 0.0382 - rmse: 0.0655 - r2: 0.9657 - mae: 0.0382 - mse: 0.0043 - mape: 43766.0820 - val_loss: 0.0334 - val_rmse: 0.0521 - val_r2: 0.9783 - val_mae: 0.0334 - val_mse: 0.0027 - val_mape: 37286.6602\n",
      "Epoch 2/100\n",
      "26215/26215 [==============================] - 130s 5ms/step - loss: 0.0334 - rmse: 0.0525 - r2: 0.9779 - mae: 0.0334 - mse: 0.0028 - mape: 27863.9453 - val_loss: 0.0335 - val_rmse: 0.0519 - val_r2: 0.9784 - val_mae: 0.0335 - val_mse: 0.0027 - val_mape: 37218.2773\n",
      "Epoch 3/100\n",
      "26215/26215 [==============================] - 134s 5ms/step - loss: 0.0332 - rmse: 0.0522 - r2: 0.9782 - mae: 0.0332 - mse: 0.0027 - mape: 29204.0527 - val_loss: 0.0330 - val_rmse: 0.0521 - val_r2: 0.9782 - val_mae: 0.0330 - val_mse: 0.0027 - val_mape: 29978.1055\n",
      "Epoch 4/100\n",
      "26215/26215 [==============================] - 133s 5ms/step - loss: 0.0330 - rmse: 0.0520 - r2: 0.9784 - mae: 0.0330 - mse: 0.0027 - mape: 30342.4121 - val_loss: 0.0328 - val_rmse: 0.0515 - val_r2: 0.9787 - val_mae: 0.0328 - val_mse: 0.0027 - val_mape: 32685.0527\n",
      "Epoch 5/100\n",
      "26215/26215 [==============================] - 133s 5ms/step - loss: 0.0329 - rmse: 0.0518 - r2: 0.9785 - mae: 0.0329 - mse: 0.0027 - mape: 30944.3398 - val_loss: 0.0327 - val_rmse: 0.0514 - val_r2: 0.9788 - val_mae: 0.0327 - val_mse: 0.0026 - val_mape: 34794.3945\n",
      "Epoch 6/100\n",
      "26215/26215 [==============================] - 137s 5ms/step - loss: 0.0328 - rmse: 0.0516 - r2: 0.9787 - mae: 0.0328 - mse: 0.0027 - mape: 32486.8008 - val_loss: 0.0325 - val_rmse: 0.0513 - val_r2: 0.9789 - val_mae: 0.0325 - val_mse: 0.0026 - val_mape: 35733.9219\n",
      "Epoch 7/100\n",
      "26215/26215 [==============================] - 133s 5ms/step - loss: 0.0326 - rmse: 0.0514 - r2: 0.9788 - mae: 0.0326 - mse: 0.0026 - mape: 33249.1680 - val_loss: 0.0325 - val_rmse: 0.0508 - val_r2: 0.9793 - val_mae: 0.0325 - val_mse: 0.0026 - val_mape: 40210.5742\n",
      "Epoch 8/100\n",
      "26215/26215 [==============================] - 140s 5ms/step - loss: 0.0325 - rmse: 0.0513 - r2: 0.9790 - mae: 0.0325 - mse: 0.0026 - mape: 33587.7109 - val_loss: 0.0324 - val_rmse: 0.0510 - val_r2: 0.9791 - val_mae: 0.0324 - val_mse: 0.0026 - val_mape: 37555.2344\n",
      "Epoch 9/100\n",
      "26215/26215 [==============================] - 138s 5ms/step - loss: 0.0324 - rmse: 0.0511 - r2: 0.9791 - mae: 0.0324 - mse: 0.0026 - mape: 34357.5312 - val_loss: 0.0322 - val_rmse: 0.0509 - val_r2: 0.9792 - val_mae: 0.0322 - val_mse: 0.0026 - val_mape: 38534.0703\n",
      "Epoch 10/100\n",
      "26215/26215 [==============================] - 138s 5ms/step - loss: 0.0323 - rmse: 0.0510 - r2: 0.9792 - mae: 0.0323 - mse: 0.0026 - mape: 34854.7734 - val_loss: 0.0321 - val_rmse: 0.0507 - val_r2: 0.9794 - val_mae: 0.0321 - val_mse: 0.0026 - val_mape: 38553.2344\n",
      "Epoch 11/100\n",
      "26215/26215 [==============================] - 138s 5ms/step - loss: 0.0322 - rmse: 0.0508 - r2: 0.9793 - mae: 0.0322 - mse: 0.0026 - mape: 35457.1836 - val_loss: 0.0320 - val_rmse: 0.0506 - val_r2: 0.9795 - val_mae: 0.0320 - val_mse: 0.0026 - val_mape: 38356.3828\n",
      "Epoch 12/100\n",
      "26215/26215 [==============================] - 137s 5ms/step - loss: 0.0321 - rmse: 0.0506 - r2: 0.9795 - mae: 0.0321 - mse: 0.0026 - mape: 35847.2383 - val_loss: 0.0319 - val_rmse: 0.0506 - val_r2: 0.9795 - val_mae: 0.0319 - val_mse: 0.0026 - val_mape: 37788.1602\n",
      "Epoch 13/100\n",
      "26215/26215 [==============================] - 138s 5ms/step - loss: 0.0320 - rmse: 0.0505 - r2: 0.9796 - mae: 0.0320 - mse: 0.0025 - mape: 36528.9297 - val_loss: 0.0318 - val_rmse: 0.0502 - val_r2: 0.9798 - val_mae: 0.0318 - val_mse: 0.0025 - val_mape: 41085.9219\n",
      "Epoch 14/100\n",
      "26215/26215 [==============================] - 139s 5ms/step - loss: 0.0319 - rmse: 0.0503 - r2: 0.9797 - mae: 0.0319 - mse: 0.0025 - mape: 38199.0859 - val_loss: 0.0317 - val_rmse: 0.0501 - val_r2: 0.9798 - val_mae: 0.0317 - val_mse: 0.0025 - val_mape: 40627.8867\n",
      "Epoch 15/100\n",
      "26215/26215 [==============================] - 138s 5ms/step - loss: 0.0318 - rmse: 0.0501 - r2: 0.9799 - mae: 0.0318 - mse: 0.0025 - mape: 39147.0234 - val_loss: 0.0316 - val_rmse: 0.0501 - val_r2: 0.9799 - val_mae: 0.0316 - val_mse: 0.0025 - val_mape: 41793.3359\n",
      "Epoch 16/100\n",
      "26215/26215 [==============================] - 134s 5ms/step - loss: 0.0317 - rmse: 0.0499 - r2: 0.9800 - mae: 0.0317 - mse: 0.0025 - mape: 40382.6719 - val_loss: 0.0315 - val_rmse: 0.0496 - val_r2: 0.9802 - val_mae: 0.0315 - val_mse: 0.0025 - val_mape: 45539.3398\n",
      "Epoch 17/100\n",
      "26215/26215 [==============================] - 133s 5ms/step - loss: 0.0315 - rmse: 0.0498 - r2: 0.9801 - mae: 0.0315 - mse: 0.0025 - mape: 41101.6328 - val_loss: 0.0313 - val_rmse: 0.0494 - val_r2: 0.9804 - val_mae: 0.0313 - val_mse: 0.0024 - val_mape: 46515.9883\n",
      "Epoch 18/100\n",
      "26215/26215 [==============================] - 133s 5ms/step - loss: 0.0314 - rmse: 0.0496 - r2: 0.9803 - mae: 0.0314 - mse: 0.0025 - mape: 41453.6797 - val_loss: 0.0312 - val_rmse: 0.0495 - val_r2: 0.9804 - val_mae: 0.0312 - val_mse: 0.0024 - val_mape: 44786.7617\n",
      "Epoch 19/100\n",
      "26215/26215 [==============================] - 137s 5ms/step - loss: 0.0313 - rmse: 0.0495 - r2: 0.9804 - mae: 0.0313 - mse: 0.0024 - mape: 41477.3945 - val_loss: 0.0311 - val_rmse: 0.0492 - val_r2: 0.9806 - val_mae: 0.0311 - val_mse: 0.0024 - val_mape: 46449.7109\n",
      "Epoch 20/100\n",
      "26215/26215 [==============================] - 138s 5ms/step - loss: 0.0312 - rmse: 0.0493 - r2: 0.9806 - mae: 0.0312 - mse: 0.0024 - mape: 41655.0781 - val_loss: 0.0310 - val_rmse: 0.0491 - val_r2: 0.9807 - val_mae: 0.0310 - val_mse: 0.0024 - val_mape: 45117.0781\n",
      "Epoch 21/100\n",
      "26215/26215 [==============================] - 138s 5ms/step - loss: 0.0311 - rmse: 0.0491 - r2: 0.9807 - mae: 0.0311 - mse: 0.0024 - mape: 41633.3398 - val_loss: 0.0309 - val_rmse: 0.0488 - val_r2: 0.9809 - val_mae: 0.0309 - val_mse: 0.0024 - val_mape: 46702.8359\n",
      "Epoch 22/100\n",
      "26215/26215 [==============================] - 138s 5ms/step - loss: 0.0310 - rmse: 0.0489 - r2: 0.9808 - mae: 0.0310 - mse: 0.0024 - mape: 41721.7578 - val_loss: 0.0308 - val_rmse: 0.0487 - val_r2: 0.9810 - val_mae: 0.0308 - val_mse: 0.0024 - val_mape: 46689.3711\n",
      "Epoch 23/100\n",
      "26215/26215 [==============================] - 138s 5ms/step - loss: 0.0309 - rmse: 0.0487 - r2: 0.9810 - mae: 0.0309 - mse: 0.0024 - mape: 42110.6758 - val_loss: 0.0307 - val_rmse: 0.0486 - val_r2: 0.9811 - val_mae: 0.0307 - val_mse: 0.0024 - val_mape: 46740.2734\n",
      "Epoch 24/100\n",
      "26215/26215 [==============================] - 139s 5ms/step - loss: 0.0307 - rmse: 0.0485 - r2: 0.9811 - mae: 0.0307 - mse: 0.0024 - mape: 43080.0234 - val_loss: 0.0306 - val_rmse: 0.0484 - val_r2: 0.9812 - val_mae: 0.0306 - val_mse: 0.0023 - val_mape: 46670.4297\n",
      "Epoch 25/100\n",
      "26215/26215 [==============================] - 139s 5ms/step - loss: 0.0306 - rmse: 0.0483 - r2: 0.9813 - mae: 0.0306 - mse: 0.0023 - mape: 43627.4531 - val_loss: 0.0304 - val_rmse: 0.0481 - val_r2: 0.9815 - val_mae: 0.0304 - val_mse: 0.0023 - val_mape: 48838.4141\n",
      "Epoch 26/100\n",
      "26215/26215 [==============================] - 138s 5ms/step - loss: 0.0305 - rmse: 0.0481 - r2: 0.9814 - mae: 0.0305 - mse: 0.0023 - mape: 45098.1289 - val_loss: 0.0303 - val_rmse: 0.0478 - val_r2: 0.9817 - val_mae: 0.0303 - val_mse: 0.0023 - val_mape: 50968.3086\n",
      "Epoch 27/100\n",
      "26215/26215 [==============================] - 130s 5ms/step - loss: 0.0304 - rmse: 0.0479 - r2: 0.9816 - mae: 0.0304 - mse: 0.0023 - mape: 46036.7891 - val_loss: 0.0302 - val_rmse: 0.0476 - val_r2: 0.9818 - val_mae: 0.0302 - val_mse: 0.0023 - val_mape: 53202.9453\n",
      "Epoch 28/100\n",
      "26215/26215 [==============================] - 132s 5ms/step - loss: 0.0303 - rmse: 0.0477 - r2: 0.9818 - mae: 0.0303 - mse: 0.0023 - mape: 47527.4414 - val_loss: 0.0301 - val_rmse: 0.0474 - val_r2: 0.9820 - val_mae: 0.0301 - val_mse: 0.0022 - val_mape: 54808.3906\n",
      "Epoch 29/100\n",
      "26215/26215 [==============================] - 129s 5ms/step - loss: 0.0302 - rmse: 0.0475 - r2: 0.9819 - mae: 0.0302 - mse: 0.0023 - mape: 49207.9688 - val_loss: 0.0300 - val_rmse: 0.0475 - val_r2: 0.9819 - val_mae: 0.0300 - val_mse: 0.0023 - val_mape: 52503.2422\n",
      "Epoch 30/100\n",
      "26215/26215 [==============================] - 132s 5ms/step - loss: 0.0300 - rmse: 0.0473 - r2: 0.9821 - mae: 0.0300 - mse: 0.0022 - mape: 50396.3516 - val_loss: 0.0299 - val_rmse: 0.0470 - val_r2: 0.9823 - val_mae: 0.0299 - val_mse: 0.0022 - val_mape: 56496.6641\n",
      "Epoch 31/100\n",
      "26215/26215 [==============================] - 131s 5ms/step - loss: 0.0299 - rmse: 0.0471 - r2: 0.9822 - mae: 0.0299 - mse: 0.0022 - mape: 51230.7383 - val_loss: 0.0297 - val_rmse: 0.0468 - val_r2: 0.9824 - val_mae: 0.0297 - val_mse: 0.0022 - val_mape: 56873.2227\n",
      "Epoch 32/100\n",
      "26215/26215 [==============================] - 131s 5ms/step - loss: 0.0298 - rmse: 0.0469 - r2: 0.9824 - mae: 0.0298 - mse: 0.0022 - mape: 51442.3516 - val_loss: 0.0296 - val_rmse: 0.0467 - val_r2: 0.9825 - val_mae: 0.0296 - val_mse: 0.0022 - val_mape: 56649.4883\n",
      "Epoch 33/100\n",
      "26215/26215 [==============================] - 132s 5ms/step - loss: 0.0297 - rmse: 0.0467 - r2: 0.9826 - mae: 0.0297 - mse: 0.0022 - mape: 51621.6016 - val_loss: 0.0295 - val_rmse: 0.0464 - val_r2: 0.9827 - val_mae: 0.0295 - val_mse: 0.0022 - val_mape: 56463.3320\n",
      "Epoch 34/100\n",
      "26215/26215 [==============================] - 134s 5ms/step - loss: 0.0295 - rmse: 0.0464 - r2: 0.9827 - mae: 0.0295 - mse: 0.0022 - mape: 51760.6953 - val_loss: 0.0294 - val_rmse: 0.0461 - val_r2: 0.9829 - val_mae: 0.0294 - val_mse: 0.0021 - val_mape: 58348.5156\n",
      "Epoch 35/100\n",
      "26215/26215 [==============================] - 132s 5ms/step - loss: 0.0294 - rmse: 0.0462 - r2: 0.9829 - mae: 0.0294 - mse: 0.0021 - mape: 52136.7578 - val_loss: 0.0292 - val_rmse: 0.0460 - val_r2: 0.9830 - val_mae: 0.0292 - val_mse: 0.0021 - val_mape: 56616.8867\n",
      "Epoch 36/100\n",
      "26215/26215 [==============================] - 134s 5ms/step - loss: 0.0293 - rmse: 0.0460 - r2: 0.9830 - mae: 0.0293 - mse: 0.0021 - mape: 52155.6758 - val_loss: 0.0291 - val_rmse: 0.0457 - val_r2: 0.9832 - val_mae: 0.0291 - val_mse: 0.0021 - val_mape: 57764.9102\n",
      "Epoch 37/100\n",
      "26215/26215 [==============================] - 133s 5ms/step - loss: 0.0291 - rmse: 0.0458 - r2: 0.9832 - mae: 0.0291 - mse: 0.0021 - mape: 52199.4609 - val_loss: 0.0290 - val_rmse: 0.0456 - val_r2: 0.9834 - val_mae: 0.0290 - val_mse: 0.0021 - val_mape: 57581.5898\n",
      "Epoch 38/100\n",
      "26215/26215 [==============================] - 132s 5ms/step - loss: 0.0290 - rmse: 0.0455 - r2: 0.9834 - mae: 0.0290 - mse: 0.0021 - mape: 52534.0312 - val_loss: 0.0288 - val_rmse: 0.0453 - val_r2: 0.9836 - val_mae: 0.0288 - val_mse: 0.0021 - val_mape: 57842.0078\n",
      "Epoch 39/100\n",
      "26215/26215 [==============================] - 131s 5ms/step - loss: 0.0288 - rmse: 0.0453 - r2: 0.9836 - mae: 0.0288 - mse: 0.0021 - mape: 52382.2578 - val_loss: 0.0287 - val_rmse: 0.0449 - val_r2: 0.9838 - val_mae: 0.0287 - val_mse: 0.0020 - val_mape: 59531.5625\n",
      "Epoch 40/100\n",
      "26215/26215 [==============================] - 128s 5ms/step - loss: 0.0287 - rmse: 0.0450 - r2: 0.9837 - mae: 0.0287 - mse: 0.0020 - mape: 52568.6914 - val_loss: 0.0285 - val_rmse: 0.0448 - val_r2: 0.9839 - val_mae: 0.0285 - val_mse: 0.0020 - val_mape: 56708.2266\n",
      "Epoch 41/100\n",
      "26215/26215 [==============================] - 133s 5ms/step - loss: 0.0285 - rmse: 0.0448 - r2: 0.9839 - mae: 0.0285 - mse: 0.0020 - mape: 52128.3945 - val_loss: 0.0284 - val_rmse: 0.0446 - val_r2: 0.9841 - val_mae: 0.0284 - val_mse: 0.0020 - val_mape: 57183.3398\n",
      "Epoch 42/100\n",
      "26215/26215 [==============================] - 131s 5ms/step - loss: 0.0284 - rmse: 0.0445 - r2: 0.9841 - mae: 0.0284 - mse: 0.0020 - mape: 51736.3555 - val_loss: 0.0282 - val_rmse: 0.0442 - val_r2: 0.9843 - val_mae: 0.0282 - val_mse: 0.0020 - val_mape: 58070.5820\n",
      "Epoch 43/100\n",
      "26215/26215 [==============================] - 133s 5ms/step - loss: 0.0282 - rmse: 0.0443 - r2: 0.9843 - mae: 0.0282 - mse: 0.0020 - mape: 51369.7969 - val_loss: 0.0280 - val_rmse: 0.0441 - val_r2: 0.9844 - val_mae: 0.0280 - val_mse: 0.0019 - val_mape: 54908.3242\n",
      "Epoch 44/100\n",
      "26215/26215 [==============================] - 133s 5ms/step - loss: 0.0280 - rmse: 0.0440 - r2: 0.9845 - mae: 0.0280 - mse: 0.0019 - mape: 50701.0586 - val_loss: 0.0279 - val_rmse: 0.0439 - val_r2: 0.9846 - val_mae: 0.0279 - val_mse: 0.0019 - val_mape: 53650.3594\n",
      "Epoch 45/100\n",
      "26215/26215 [==============================] - 132s 5ms/step - loss: 0.0279 - rmse: 0.0437 - r2: 0.9847 - mae: 0.0279 - mse: 0.0019 - mape: 50261.0547 - val_loss: 0.0277 - val_rmse: 0.0434 - val_r2: 0.9849 - val_mae: 0.0277 - val_mse: 0.0019 - val_mape: 55142.6094\n",
      "Epoch 46/100\n",
      "26215/26215 [==============================] - 133s 5ms/step - loss: 0.0277 - rmse: 0.0434 - r2: 0.9849 - mae: 0.0277 - mse: 0.0019 - mape: 49667.6016 - val_loss: 0.0275 - val_rmse: 0.0431 - val_r2: 0.9851 - val_mae: 0.0275 - val_mse: 0.0019 - val_mape: 55076.7422\n",
      "Epoch 47/100\n",
      "26215/26215 [==============================] - 131s 5ms/step - loss: 0.0275 - rmse: 0.0431 - r2: 0.9851 - mae: 0.0275 - mse: 0.0019 - mape: 49144.0000 - val_loss: 0.0273 - val_rmse: 0.0429 - val_r2: 0.9853 - val_mae: 0.0273 - val_mse: 0.0018 - val_mape: 52818.4844\n",
      "Epoch 48/100\n",
      "26215/26215 [==============================] - 132s 5ms/step - loss: 0.0273 - rmse: 0.0427 - r2: 0.9854 - mae: 0.0273 - mse: 0.0018 - mape: 48555.7227 - val_loss: 0.0271 - val_rmse: 0.0425 - val_r2: 0.9855 - val_mae: 0.0271 - val_mse: 0.0018 - val_mape: 52710.6133\n",
      "Epoch 49/100\n",
      "26215/26215 [==============================] - 132s 5ms/step - loss: 0.0271 - rmse: 0.0424 - r2: 0.9856 - mae: 0.0271 - mse: 0.0018 - mape: 48000.8086 - val_loss: 0.0269 - val_rmse: 0.0421 - val_r2: 0.9858 - val_mae: 0.0269 - val_mse: 0.0018 - val_mape: 51978.5391\n",
      "Epoch 50/100\n",
      "26215/26215 [==============================] - 133s 5ms/step - loss: 0.0269 - rmse: 0.0420 - r2: 0.9859 - mae: 0.0269 - mse: 0.0018 - mape: 47517.2812 - val_loss: 0.0267 - val_rmse: 0.0418 - val_r2: 0.9860 - val_mae: 0.0267 - val_mse: 0.0017 - val_mape: 50426.4414\n",
      "Epoch 51/100\n",
      "26215/26215 [==============================] - 131s 5ms/step - loss: 0.0266 - rmse: 0.0416 - r2: 0.9861 - mae: 0.0266 - mse: 0.0017 - mape: 46819.6445 - val_loss: 0.0264 - val_rmse: 0.0413 - val_r2: 0.9863 - val_mae: 0.0264 - val_mse: 0.0017 - val_mape: 51428.2656\n",
      "Epoch 52/100\n",
      "26215/26215 [==============================] - 130s 5ms/step - loss: 0.0264 - rmse: 0.0412 - r2: 0.9864 - mae: 0.0264 - mse: 0.0017 - mape: 46280.7852 - val_loss: 0.0262 - val_rmse: 0.0409 - val_r2: 0.9866 - val_mae: 0.0262 - val_mse: 0.0017 - val_mape: 49978.7930\n",
      "Epoch 53/100\n",
      "26215/26215 [==============================] - 130s 5ms/step - loss: 0.0261 - rmse: 0.0408 - r2: 0.9867 - mae: 0.0261 - mse: 0.0017 - mape: 45645.7539 - val_loss: 0.0259 - val_rmse: 0.0406 - val_r2: 0.9868 - val_mae: 0.0259 - val_mse: 0.0016 - val_mape: 48222.5664\n",
      "Epoch 54/100\n",
      "26215/26215 [==============================] - 130s 5ms/step - loss: 0.0259 - rmse: 0.0403 - r2: 0.9870 - mae: 0.0259 - mse: 0.0016 - mape: 44349.8867 - val_loss: 0.0256 - val_rmse: 0.0400 - val_r2: 0.9871 - val_mae: 0.0256 - val_mse: 0.0016 - val_mape: 47434.4453\n",
      "Epoch 55/100\n",
      "26215/26215 [==============================] - 130s 5ms/step - loss: 0.0256 - rmse: 0.0398 - r2: 0.9873 - mae: 0.0256 - mse: 0.0016 - mape: 43315.6289 - val_loss: 0.0254 - val_rmse: 0.0395 - val_r2: 0.9875 - val_mae: 0.0254 - val_mse: 0.0016 - val_mape: 46199.2031\n",
      "Epoch 56/100\n",
      "26215/26215 [==============================] - 131s 5ms/step - loss: 0.0253 - rmse: 0.0394 - r2: 0.9876 - mae: 0.0253 - mse: 0.0015 - mape: 41516.4297 - val_loss: 0.0251 - val_rmse: 0.0392 - val_r2: 0.9877 - val_mae: 0.0251 - val_mse: 0.0015 - val_mape: 42689.0820\n",
      "Epoch 57/100\n",
      "26215/26215 [==============================] - 132s 5ms/step - loss: 0.0250 - rmse: 0.0388 - r2: 0.9879 - mae: 0.0250 - mse: 0.0015 - mape: 40062.2070 - val_loss: 0.0248 - val_rmse: 0.0385 - val_r2: 0.9881 - val_mae: 0.0248 - val_mse: 0.0015 - val_mape: 43189.3867\n",
      "Epoch 58/100\n",
      "26215/26215 [==============================] - 131s 5ms/step - loss: 0.0247 - rmse: 0.0383 - r2: 0.9883 - mae: 0.0247 - mse: 0.0015 - mape: 38813.7500 - val_loss: 0.0245 - val_rmse: 0.0378 - val_r2: 0.9885 - val_mae: 0.0245 - val_mse: 0.0014 - val_mape: 43135.2266\n",
      "Epoch 59/100\n"
     ]
    },
    {
     "name": "stdout",
     "output_type": "stream",
     "text": [
      "26215/26215 [==============================] - 133s 5ms/step - loss: 0.0243 - rmse: 0.0377 - r2: 0.9886 - mae: 0.0243 - mse: 0.0014 - mape: 38109.6758 - val_loss: 0.0241 - val_rmse: 0.0374 - val_r2: 0.9888 - val_mae: 0.0241 - val_mse: 0.0014 - val_mape: 40180.1055\n",
      "Epoch 60/100\n",
      "26215/26215 [==============================] - 134s 5ms/step - loss: 0.0240 - rmse: 0.0371 - r2: 0.9890 - mae: 0.0240 - mse: 0.0014 - mape: 36647.0039 - val_loss: 0.0238 - val_rmse: 0.0366 - val_r2: 0.9892 - val_mae: 0.0238 - val_mse: 0.0013 - val_mape: 40652.5742\n",
      "Epoch 61/100\n",
      "26215/26215 [==============================] - 130s 5ms/step - loss: 0.0237 - rmse: 0.0365 - r2: 0.9893 - mae: 0.0237 - mse: 0.0013 - mape: 35435.2227 - val_loss: 0.0234 - val_rmse: 0.0362 - val_r2: 0.9895 - val_mae: 0.0234 - val_mse: 0.0013 - val_mape: 36162.5156\n",
      "Epoch 62/100\n",
      "26215/26215 [==============================] - 133s 5ms/step - loss: 0.0233 - rmse: 0.0359 - r2: 0.9897 - mae: 0.0233 - mse: 0.0013 - mape: 34659.7266 - val_loss: 0.0231 - val_rmse: 0.0355 - val_r2: 0.9899 - val_mae: 0.0231 - val_mse: 0.0013 - val_mape: 37382.7500\n",
      "Epoch 63/100\n",
      "26215/26215 [==============================] - 132s 5ms/step - loss: 0.0229 - rmse: 0.0352 - r2: 0.9901 - mae: 0.0229 - mse: 0.0012 - mape: 34951.9766 - val_loss: 0.0227 - val_rmse: 0.0349 - val_r2: 0.9903 - val_mae: 0.0227 - val_mse: 0.0012 - val_mape: 38055.3438\n",
      "Epoch 64/100\n",
      "26215/26215 [==============================] - 131s 5ms/step - loss: 0.0226 - rmse: 0.0346 - r2: 0.9904 - mae: 0.0226 - mse: 0.0012 - mape: 34844.7227 - val_loss: 0.0224 - val_rmse: 0.0342 - val_r2: 0.9906 - val_mae: 0.0224 - val_mse: 0.0012 - val_mape: 37803.5586\n",
      "Epoch 65/100\n",
      "26215/26215 [==============================] - 134s 5ms/step - loss: 0.0223 - rmse: 0.0339 - r2: 0.9908 - mae: 0.0223 - mse: 0.0012 - mape: 35646.8828 - val_loss: 0.0221 - val_rmse: 0.0336 - val_r2: 0.9910 - val_mae: 0.0221 - val_mse: 0.0011 - val_mape: 39460.2461\n",
      "Epoch 66/100\n",
      "26215/26215 [==============================] - 131s 5ms/step - loss: 0.0219 - rmse: 0.0333 - r2: 0.9911 - mae: 0.0219 - mse: 0.0011 - mape: 36416.6719 - val_loss: 0.0218 - val_rmse: 0.0330 - val_r2: 0.9913 - val_mae: 0.0218 - val_mse: 0.0011 - val_mape: 39706.5156\n",
      "Epoch 67/100\n",
      "26215/26215 [==============================] - 133s 5ms/step - loss: 0.0216 - rmse: 0.0328 - r2: 0.9914 - mae: 0.0216 - mse: 0.0011 - mape: 36507.2969 - val_loss: 0.0215 - val_rmse: 0.0324 - val_r2: 0.9916 - val_mae: 0.0215 - val_mse: 0.0011 - val_mape: 40225.4805\n",
      "Epoch 68/100\n",
      "26215/26215 [==============================] - 132s 5ms/step - loss: 0.0213 - rmse: 0.0322 - r2: 0.9917 - mae: 0.0213 - mse: 0.0010 - mape: 36787.0938 - val_loss: 0.0212 - val_rmse: 0.0319 - val_r2: 0.9918 - val_mae: 0.0212 - val_mse: 0.0010 - val_mape: 40110.3438\n",
      "Epoch 69/100\n",
      "26215/26215 [==============================] - 133s 5ms/step - loss: 0.0210 - rmse: 0.0317 - r2: 0.9920 - mae: 0.0210 - mse: 0.0010 - mape: 36899.2578 - val_loss: 0.0209 - val_rmse: 0.0315 - val_r2: 0.9920 - val_mae: 0.0209 - val_mse: 9.9209e-04 - val_mape: 39430.8594\n",
      "Epoch 70/100\n",
      "26215/26215 [==============================] - 131s 5ms/step - loss: 0.0208 - rmse: 0.0312 - r2: 0.9922 - mae: 0.0208 - mse: 9.7334e-04 - mape: 37991.2070 - val_loss: 0.0207 - val_rmse: 0.0310 - val_r2: 0.9923 - val_mae: 0.0207 - val_mse: 9.6101e-04 - val_mape: 41173.3945\n",
      "Epoch 71/100\n",
      "26215/26215 [==============================] - 134s 5ms/step - loss: 0.0205 - rmse: 0.0307 - r2: 0.9924 - mae: 0.0205 - mse: 9.4478e-04 - mape: 39083.3086 - val_loss: 0.0204 - val_rmse: 0.0306 - val_r2: 0.9925 - val_mae: 0.0204 - val_mse: 9.3511e-04 - val_mape: 42749.9766\n",
      "Epoch 72/100\n",
      "26215/26215 [==============================] - 133s 5ms/step - loss: 0.0203 - rmse: 0.0303 - r2: 0.9926 - mae: 0.0203 - mse: 9.1986e-04 - mape: 40607.7070 - val_loss: 0.0202 - val_rmse: 0.0301 - val_r2: 0.9927 - val_mae: 0.0202 - val_mse: 9.0661e-04 - val_mape: 44686.7461\n",
      "Epoch 73/100\n",
      "26215/26215 [==============================] - 132s 5ms/step - loss: 0.0201 - rmse: 0.0300 - r2: 0.9928 - mae: 0.0201 - mse: 8.9741e-04 - mape: 41388.0664 - val_loss: 0.0200 - val_rmse: 0.0298 - val_r2: 0.9929 - val_mae: 0.0200 - val_mse: 8.8923e-04 - val_mape: 45767.0508\n",
      "Epoch 74/100\n",
      "26215/26215 [==============================] - 133s 5ms/step - loss: 0.0199 - rmse: 0.0296 - r2: 0.9930 - mae: 0.0199 - mse: 8.7691e-04 - mape: 42307.0664 - val_loss: 0.0198 - val_rmse: 0.0295 - val_r2: 0.9930 - val_mae: 0.0198 - val_mse: 8.6883e-04 - val_mape: 46192.0703\n",
      "Epoch 75/100\n",
      "26215/26215 [==============================] - 132s 5ms/step - loss: 0.0197 - rmse: 0.0293 - r2: 0.9931 - mae: 0.0197 - mse: 8.5916e-04 - mape: 42714.5781 - val_loss: 0.0196 - val_rmse: 0.0292 - val_r2: 0.9932 - val_mae: 0.0196 - val_mse: 8.4978e-04 - val_mape: 47887.5781\n",
      "Epoch 76/100\n",
      "26215/26215 [==============================] - 132s 5ms/step - loss: 0.0195 - rmse: 0.0290 - r2: 0.9932 - mae: 0.0195 - mse: 8.4273e-04 - mape: 43569.8008 - val_loss: 0.0195 - val_rmse: 0.0289 - val_r2: 0.9933 - val_mae: 0.0195 - val_mse: 8.3370e-04 - val_mape: 49379.4141\n",
      "Epoch 77/100\n",
      "26215/26215 [==============================] - 132s 5ms/step - loss: 0.0193 - rmse: 0.0288 - r2: 0.9934 - mae: 0.0193 - mse: 8.2850e-04 - mape: 44592.2930 - val_loss: 0.0193 - val_rmse: 0.0287 - val_r2: 0.9934 - val_mae: 0.0193 - val_mse: 8.2448e-04 - val_mape: 49371.8242\n",
      "Epoch 78/100\n",
      "26215/26215 [==============================] - 132s 5ms/step - loss: 0.0192 - rmse: 0.0286 - r2: 0.9935 - mae: 0.0192 - mse: 8.1571e-04 - mape: 46070.8984 - val_loss: 0.0191 - val_rmse: 0.0285 - val_r2: 0.9935 - val_mae: 0.0191 - val_mse: 8.1153e-04 - val_mape: 50916.0430\n",
      "Epoch 79/100\n",
      "26215/26215 [==============================] - 131s 5ms/step - loss: 0.0190 - rmse: 0.0284 - r2: 0.9936 - mae: 0.0190 - mse: 8.0383e-04 - mape: 47775.8008 - val_loss: 0.0190 - val_rmse: 0.0283 - val_r2: 0.9936 - val_mae: 0.0190 - val_mse: 8.0223e-04 - val_mape: 52906.1992\n",
      "Epoch 80/100\n",
      "26215/26215 [==============================] - 131s 5ms/step - loss: 0.0189 - rmse: 0.0282 - r2: 0.9936 - mae: 0.0189 - mse: 7.9390e-04 - mape: 48666.3594 - val_loss: 0.0189 - val_rmse: 0.0282 - val_r2: 0.9936 - val_mae: 0.0189 - val_mse: 7.9446e-04 - val_mape: 52705.6719\n",
      "Epoch 81/100\n",
      "26215/26215 [==============================] - 131s 5ms/step - loss: 0.0187 - rmse: 0.0280 - r2: 0.9937 - mae: 0.0187 - mse: 7.8502e-04 - mape: 49288.0586 - val_loss: 0.0187 - val_rmse: 0.0280 - val_r2: 0.9937 - val_mae: 0.0187 - val_mse: 7.8594e-04 - val_mape: 53182.4688\n",
      "Epoch 82/100\n",
      "26215/26215 [==============================] - 131s 5ms/step - loss: 0.0186 - rmse: 0.0279 - r2: 0.9938 - mae: 0.0186 - mse: 7.7688e-04 - mape: 49524.1680 - val_loss: 0.0186 - val_rmse: 0.0279 - val_r2: 0.9937 - val_mae: 0.0186 - val_mse: 7.8020e-04 - val_mape: 53339.2852\n",
      "Epoch 83/100\n",
      "26215/26215 [==============================] - 131s 5ms/step - loss: 0.0185 - rmse: 0.0277 - r2: 0.9938 - mae: 0.0185 - mse: 7.6965e-04 - mape: 49833.4375 - val_loss: 0.0185 - val_rmse: 0.0277 - val_r2: 0.9938 - val_mae: 0.0185 - val_mse: 7.6991e-04 - val_mape: 54324.8164\n",
      "Epoch 84/100\n",
      "26215/26215 [==============================] - 131s 5ms/step - loss: 0.0184 - rmse: 0.0276 - r2: 0.9939 - mae: 0.0184 - mse: 7.6258e-04 - mape: 49465.2734 - val_loss: 0.0184 - val_rmse: 0.0277 - val_r2: 0.9939 - val_mae: 0.0184 - val_mse: 7.6461e-04 - val_mape: 52215.4805\n",
      "Epoch 85/100\n",
      "26215/26215 [==============================] - 131s 5ms/step - loss: 0.0183 - rmse: 0.0275 - r2: 0.9939 - mae: 0.0183 - mse: 7.5667e-04 - mape: 48354.3789 - val_loss: 0.0183 - val_rmse: 0.0275 - val_r2: 0.9939 - val_mae: 0.0183 - val_mse: 7.5671e-04 - val_mape: 52713.5469\n",
      "Epoch 86/100\n",
      "26215/26215 [==============================] - 132s 5ms/step - loss: 0.0182 - rmse: 0.0274 - r2: 0.9940 - mae: 0.0182 - mse: 7.5064e-04 - mape: 47174.9727 - val_loss: 0.0182 - val_rmse: 0.0274 - val_r2: 0.9940 - val_mae: 0.0182 - val_mse: 7.5238e-04 - val_mape: 50194.7500\n",
      "Epoch 87/100\n",
      "26215/26215 [==============================] - 131s 5ms/step - loss: 0.0181 - rmse: 0.0273 - r2: 0.9940 - mae: 0.0181 - mse: 7.4499e-04 - mape: 46006.6445 - val_loss: 0.0181 - val_rmse: 0.0274 - val_r2: 0.9940 - val_mae: 0.0181 - val_mse: 7.4976e-04 - val_mape: 49143.9727\n"
     ]
    },
    {
     "name": "stdout",
     "output_type": "stream",
     "text": [
      "Epoch 88/100\n",
      "26215/26215 [==============================] - 132s 5ms/step - loss: 0.0180 - rmse: 0.0272 - r2: 0.9941 - mae: 0.0180 - mse: 7.4000e-04 - mape: 44790.3594 - val_loss: 0.0180 - val_rmse: 0.0273 - val_r2: 0.9940 - val_mae: 0.0180 - val_mse: 7.4442e-04 - val_mape: 46938.1992\n",
      "Epoch 89/100\n",
      "26215/26215 [==============================] - 132s 5ms/step - loss: 0.0179 - rmse: 0.0271 - r2: 0.9941 - mae: 0.0179 - mse: 7.3465e-04 - mape: 43302.0352 - val_loss: 0.0179 - val_rmse: 0.0272 - val_r2: 0.9941 - val_mae: 0.0179 - val_mse: 7.3907e-04 - val_mape: 45282.6016\n",
      "Epoch 90/100\n",
      "26215/26215 [==============================] - 134s 5ms/step - loss: 0.0178 - rmse: 0.0270 - r2: 0.9942 - mae: 0.0178 - mse: 7.2986e-04 - mape: 41282.2539 - val_loss: 0.0178 - val_rmse: 0.0271 - val_r2: 0.9941 - val_mae: 0.0178 - val_mse: 7.3495e-04 - val_mape: 43430.0039\n",
      "Epoch 91/100\n",
      "26215/26215 [==============================] - 134s 5ms/step - loss: 0.0177 - rmse: 0.0269 - r2: 0.9942 - mae: 0.0177 - mse: 7.2555e-04 - mape: 39495.4883 - val_loss: 0.0178 - val_rmse: 0.0270 - val_r2: 0.9942 - val_mae: 0.0178 - val_mse: 7.2898e-04 - val_mape: 42031.5000\n",
      "Epoch 92/100\n",
      "26215/26215 [==============================] - 133s 5ms/step - loss: 0.0177 - rmse: 0.0268 - r2: 0.9942 - mae: 0.0177 - mse: 7.2045e-04 - mape: 37531.0781 - val_loss: 0.0177 - val_rmse: 0.0269 - val_r2: 0.9942 - val_mae: 0.0177 - val_mse: 7.2545e-04 - val_mape: 39447.4766\n",
      "Epoch 93/100\n",
      "26215/26215 [==============================] - 131s 5ms/step - loss: 0.0176 - rmse: 0.0268 - r2: 0.9943 - mae: 0.0176 - mse: 7.1616e-04 - mape: 35593.2383 - val_loss: 0.0176 - val_rmse: 0.0268 - val_r2: 0.9942 - val_mae: 0.0176 - val_mse: 7.1997e-04 - val_mape: 37450.1016\n",
      "Epoch 94/100\n",
      "26215/26215 [==============================] - 132s 5ms/step - loss: 0.0175 - rmse: 0.0267 - r2: 0.9943 - mae: 0.0175 - mse: 7.1214e-04 - mape: 33291.4414 - val_loss: 0.0175 - val_rmse: 0.0268 - val_r2: 0.9943 - val_mae: 0.0175 - val_mse: 7.1623e-04 - val_mape: 34596.3086\n",
      "Epoch 95/100\n",
      "26215/26215 [==============================] - 119s 5ms/step - loss: 0.0174 - rmse: 0.0266 - r2: 0.9943 - mae: 0.0174 - mse: 7.0763e-04 - mape: 30926.9883 - val_loss: 0.0175 - val_rmse: 0.0267 - val_r2: 0.9943 - val_mae: 0.0175 - val_mse: 7.1234e-04 - val_mape: 31817.2832\n",
      "Epoch 96/100\n",
      "26215/26215 [==============================] - 135s 5ms/step - loss: 0.0174 - rmse: 0.0265 - r2: 0.9944 - mae: 0.0174 - mse: 7.0371e-04 - mape: 28525.0000 - val_loss: 0.0174 - val_rmse: 0.0266 - val_r2: 0.9943 - val_mae: 0.0174 - val_mse: 7.0572e-04 - val_mape: 29650.2988\n",
      "Epoch 97/100\n",
      "26215/26215 [==============================] - 132s 5ms/step - loss: 0.0173 - rmse: 0.0265 - r2: 0.9944 - mae: 0.0173 - mse: 6.9975e-04 - mape: 26376.8945 - val_loss: 0.0173 - val_rmse: 0.0265 - val_r2: 0.9944 - val_mae: 0.0173 - val_mse: 7.0362e-04 - val_mape: 27584.9062\n",
      "Epoch 98/100\n",
      "26215/26215 [==============================] - 131s 5ms/step - loss: 0.0172 - rmse: 0.0264 - r2: 0.9944 - mae: 0.0172 - mse: 6.9569e-04 - mape: 24528.9395 - val_loss: 0.0173 - val_rmse: 0.0264 - val_r2: 0.9944 - val_mae: 0.0173 - val_mse: 6.9779e-04 - val_mape: 25092.0156\n",
      "Epoch 99/100\n",
      "26215/26215 [==============================] - 132s 5ms/step - loss: 0.0172 - rmse: 0.0263 - r2: 0.9945 - mae: 0.0172 - mse: 6.9167e-04 - mape: 22570.5664 - val_loss: 0.0172 - val_rmse: 0.0264 - val_r2: 0.9944 - val_mae: 0.0172 - val_mse: 6.9660e-04 - val_mape: 23204.8750\n",
      "Epoch 100/100\n",
      "26215/26215 [==============================] - 132s 5ms/step - loss: 0.0171 - rmse: 0.0262 - r2: 0.9945 - mae: 0.0171 - mse: 6.8757e-04 - mape: 20776.9160 - val_loss: 0.0171 - val_rmse: 0.0263 - val_r2: 0.9945 - val_mae: 0.0171 - val_mse: 6.9168e-04 - val_mape: 21754.0176\n",
      "CPU times: total: 9h 40min 54s\n",
      "Wall time: 3h 41min 29s\n"
     ]
    }
   ],
   "source": [
    "%%time\n",
    "tf.random.set_seed(42)\n",
    "\n",
    "model_8 = tf.keras.Sequential([tf.keras.layers.LSTM(8,activation= 'linear',return_sequences=True, input_shape=(3,1)),\n",
    "                               tf.keras.layers.LSTM(16,activation= 'linear'),\n",
    "                               tf.keras.layers.Dense(16,activation='linear'),\n",
    "                               tf.keras.layers.Flatten(),\n",
    "                               tf.keras.layers.Dense(1,activation='linear')])\n",
    "\n",
    "model_8.compile(loss = tf.keras.losses.mae,\n",
    "                optimizer = tf.keras.optimizers.legacy.Adam(learning_rate=0.001,decay = 0.001),\n",
    "                metrics=[tf.keras.metrics.RootMeanSquaredError(name='rmse'),\n",
    "                         tfa.metrics.RSquare(name='r2'),'mae','mse','mape'])\n",
    "\n",
    "history_8 = model_8.fit(X_train,Y_train,batch_size=32,epochs=100,validation_data=(X_test,Y_test),,callbacks = callback)"
   ]
  },
  {
   "cell_type": "code",
   "execution_count": 27,
   "id": "59eac165",
   "metadata": {},
   "outputs": [
    {
     "data": {
      "image/png": "[encoded data removed]",
      "text/plain": [
       "<Figure size 640x480 with 1 Axes>"
      ]
     },
     "metadata": {},
     "output_type": "display_data"
    }
   ],
   "source": [
    "plot_his(history_8)"
   ]
  },
  {
   "cell_type": "code",
   "execution_count": 28,
   "id": "8caa0a53",
   "metadata": {},
   "outputs": [
    {
     "name": "stdout",
     "output_type": "stream",
     "text": [
      "6554/6554 [==============================] - 11s 2ms/step\n"
     ]
    }
   ],
   "source": [
    "prediction_8 = model_8.predict(X_test)"
   ]
  },
  {
   "cell_type": "code",
   "execution_count": 29,
   "id": "367bad36",
   "metadata": {},
   "outputs": [
    {
     "name": "stdout",
     "output_type": "stream",
     "text": [
      "6554/6554 [==============================] - 19s 3ms/step - loss: 0.0171 - rmse: 0.0263 - r2: 0.9945 - mae: 0.0171 - mse: 6.9168e-04 - mape: 21754.0176\n"
     ]
    },
    {
     "data": {
      "text/plain": [
       "[0.01714031584560871,\n",
       " 0.02629976160824299,\n",
       " 0.9944532513618469,\n",
       " 0.01714031584560871,\n",
       " 0.0006916774436831474,\n",
       " 21754.017578125]"
      ]
     },
     "execution_count": 29,
     "metadata": {},
     "output_type": "execute_result"
    }
   ],
   "source": [
    "model_8.evaluate(X_test,Y_test)"
   ]
  },
  {
   "cell_type": "code",
   "execution_count": 30,
   "id": "8a8aba4b",
   "metadata": {},
   "outputs": [
    {
     "name": "stdout",
     "output_type": "stream",
     "text": [
      "AIC:  65840.836\n"
     ]
    }
   ],
   "source": [
    "AIC_value(model_8,prediction_8, Y_test)"
   ]
  },
  {
   "cell_type": "code",
   "execution_count": 31,
   "id": "ceb333db",
   "metadata": {},
   "outputs": [],
   "source": [
    "model_8.save('Saved_models/model_8_SOCesti.h5')"
   ]
  },
  {
   "cell_type": "code",
   "execution_count": null,
   "id": "11fde851",
   "metadata": {},
   "outputs": [],
   "source": []
  },
  {
   "cell_type": "markdown",
   "id": "afa5cd69",
   "metadata": {},
   "source": [
    "# CNN"
   ]
  },
  {
   "cell_type": "code",
   "execution_count": 17,
   "id": "36e79ceb",
   "metadata": {},
   "outputs": [
    {
     "name": "stdout",
     "output_type": "stream",
     "text": [
      "Epoch 1/100\n",
      "26215/26215 [==============================] - 96s 4ms/step - loss: 0.0325 - rmse: 0.0569 - r2: 0.9741 - mae: 0.0325 - mse: 0.0032 - mape: 49020.7305 - val_loss: 0.0305 - val_rmse: 0.0488 - val_r2: 0.9810 - val_mae: 0.0305 - val_mse: 0.0024 - val_mape: 44952.4453\n",
      "Epoch 2/100\n",
      "26215/26215 [==============================] - 98s 4ms/step - loss: 0.0305 - rmse: 0.0490 - r2: 0.9807 - mae: 0.0305 - mse: 0.0024 - mape: 42379.0000 - val_loss: 0.0304 - val_rmse: 0.0493 - val_r2: 0.9806 - val_mae: 0.0304 - val_mse: 0.0024 - val_mape: 47913.1133\n",
      "Epoch 3/100\n",
      "26215/26215 [==============================] - 102s 4ms/step - loss: 0.0304 - rmse: 0.0490 - r2: 0.9808 - mae: 0.0304 - mse: 0.0024 - mape: 41832.9531 - val_loss: 0.0304 - val_rmse: 0.0490 - val_r2: 0.9808 - val_mae: 0.0304 - val_mse: 0.0024 - val_mape: 45156.6641\n",
      "Epoch 4/100\n",
      "26215/26215 [==============================] - 67s 3ms/step - loss: 0.0304 - rmse: 0.0489 - r2: 0.9808 - mae: 0.0304 - mse: 0.0024 - mape: 41705.0586 - val_loss: 0.0305 - val_rmse: 0.0490 - val_r2: 0.9808 - val_mae: 0.0305 - val_mse: 0.0024 - val_mape: 44022.9805\n",
      "Epoch 5/100\n",
      "26215/26215 [==============================] - 61s 2ms/step - loss: 0.0303 - rmse: 0.0489 - r2: 0.9808 - mae: 0.0303 - mse: 0.0024 - mape: 41657.2969 - val_loss: 0.0304 - val_rmse: 0.0489 - val_r2: 0.9809 - val_mae: 0.0304 - val_mse: 0.0024 - val_mape: 43746.9453\n",
      "Epoch 6/100\n",
      "26215/26215 [==============================] - 58s 2ms/step - loss: 0.0303 - rmse: 0.0489 - r2: 0.9808 - mae: 0.0303 - mse: 0.0024 - mape: 41750.2188 - val_loss: 0.0304 - val_rmse: 0.0494 - val_r2: 0.9804 - val_mae: 0.0304 - val_mse: 0.0024 - val_mape: 48864.6562\n",
      "Epoch 7/100\n",
      "26215/26215 [==============================] - 57s 2ms/step - loss: 0.0303 - rmse: 0.0489 - r2: 0.9808 - mae: 0.0303 - mse: 0.0024 - mape: 41480.0039 - val_loss: 0.0304 - val_rmse: 0.0488 - val_r2: 0.9809 - val_mae: 0.0304 - val_mse: 0.0024 - val_mape: 44269.0625\n",
      "Epoch 8/100\n",
      "26215/26215 [==============================] - 57s 2ms/step - loss: 0.0303 - rmse: 0.0489 - r2: 0.9808 - mae: 0.0303 - mse: 0.0024 - mape: 41541.0039 - val_loss: 0.0304 - val_rmse: 0.0490 - val_r2: 0.9808 - val_mae: 0.0304 - val_mse: 0.0024 - val_mape: 46933.6562\n",
      "Epoch 9/100\n",
      "26215/26215 [==============================] - 57s 2ms/step - loss: 0.0303 - rmse: 0.0489 - r2: 0.9808 - mae: 0.0303 - mse: 0.0024 - mape: 41220.3203 - val_loss: 0.0304 - val_rmse: 0.0490 - val_r2: 0.9808 - val_mae: 0.0304 - val_mse: 0.0024 - val_mape: 45449.5000\n",
      "Epoch 10/100\n",
      "26215/26215 [==============================] - 60s 2ms/step - loss: 0.0303 - rmse: 0.0489 - r2: 0.9808 - mae: 0.0303 - mse: 0.0024 - mape: 41332.5938 - val_loss: 0.0304 - val_rmse: 0.0489 - val_r2: 0.9809 - val_mae: 0.0304 - val_mse: 0.0024 - val_mape: 43445.4531\n",
      "Epoch 11/100\n",
      "26215/26215 [==============================] - 57s 2ms/step - loss: 0.0303 - rmse: 0.0489 - r2: 0.9808 - mae: 0.0303 - mse: 0.0024 - mape: 41173.3320 - val_loss: 0.0304 - val_rmse: 0.0489 - val_r2: 0.9808 - val_mae: 0.0304 - val_mse: 0.0024 - val_mape: 45579.0117\n",
      "Epoch 12/100\n",
      "26215/26215 [==============================] - 57s 2ms/step - loss: 0.0303 - rmse: 0.0489 - r2: 0.9808 - mae: 0.0303 - mse: 0.0024 - mape: 41263.0352 - val_loss: 0.0304 - val_rmse: 0.0489 - val_r2: 0.9809 - val_mae: 0.0304 - val_mse: 0.0024 - val_mape: 43728.5977\n",
      "Epoch 13/100\n",
      "26215/26215 [==============================] - 58s 2ms/step - loss: 0.0303 - rmse: 0.0489 - r2: 0.9808 - mae: 0.0303 - mse: 0.0024 - mape: 41139.0156 - val_loss: 0.0304 - val_rmse: 0.0489 - val_r2: 0.9809 - val_mae: 0.0304 - val_mse: 0.0024 - val_mape: 45532.7773\n",
      "Epoch 14/100\n",
      "26215/26215 [==============================] - 56s 2ms/step - loss: 0.0303 - rmse: 0.0489 - r2: 0.9808 - mae: 0.0303 - mse: 0.0024 - mape: 41110.0977 - val_loss: 0.0304 - val_rmse: 0.0491 - val_r2: 0.9807 - val_mae: 0.0304 - val_mse: 0.0024 - val_mape: 46661.4570\n",
      "Epoch 15/100\n",
      "26215/26215 [==============================] - 57s 2ms/step - loss: 0.0303 - rmse: 0.0489 - r2: 0.9808 - mae: 0.0303 - mse: 0.0024 - mape: 41206.8281 - val_loss: 0.0304 - val_rmse: 0.0491 - val_r2: 0.9807 - val_mae: 0.0304 - val_mse: 0.0024 - val_mape: 47167.9766\n",
      "Epoch 16/100\n",
      "26215/26215 [==============================] - 60s 2ms/step - loss: 0.0303 - rmse: 0.0489 - r2: 0.9808 - mae: 0.0303 - mse: 0.0024 - mape: 41171.0781 - val_loss: 0.0304 - val_rmse: 0.0490 - val_r2: 0.9808 - val_mae: 0.0304 - val_mse: 0.0024 - val_mape: 46323.5898\n",
      "Epoch 17/100\n",
      "26215/26215 [==============================] - 58s 2ms/step - loss: 0.0303 - rmse: 0.0489 - r2: 0.9808 - mae: 0.0303 - mse: 0.0024 - mape: 41031.9336 - val_loss: 0.0304 - val_rmse: 0.0490 - val_r2: 0.9808 - val_mae: 0.0304 - val_mse: 0.0024 - val_mape: 46449.6211\n",
      "Epoch 18/100\n",
      "26215/26215 [==============================] - 58s 2ms/step - loss: 0.0303 - rmse: 0.0489 - r2: 0.9808 - mae: 0.0303 - mse: 0.0024 - mape: 41202.2148 - val_loss: 0.0304 - val_rmse: 0.0490 - val_r2: 0.9808 - val_mae: 0.0304 - val_mse: 0.0024 - val_mape: 44926.4102\n",
      "Epoch 19/100\n",
      "26215/26215 [==============================] - 61s 2ms/step - loss: 0.0303 - rmse: 0.0489 - r2: 0.9808 - mae: 0.0303 - mse: 0.0024 - mape: 41054.4180 - val_loss: 0.0304 - val_rmse: 0.0491 - val_r2: 0.9807 - val_mae: 0.0304 - val_mse: 0.0024 - val_mape: 47432.3516\n",
      "Epoch 20/100\n",
      "26215/26215 [==============================] - 60s 2ms/step - loss: 0.0303 - rmse: 0.0489 - r2: 0.9808 - mae: 0.0303 - mse: 0.0024 - mape: 41175.9336 - val_loss: 0.0304 - val_rmse: 0.0494 - val_r2: 0.9805 - val_mae: 0.0304 - val_mse: 0.0024 - val_mape: 50061.4453\n",
      "Epoch 21/100\n",
      "26215/26215 [==============================] - 60s 2ms/step - loss: 0.0303 - rmse: 0.0489 - r2: 0.9808 - mae: 0.0303 - mse: 0.0024 - mape: 41255.5156 - val_loss: 0.0304 - val_rmse: 0.0490 - val_r2: 0.9808 - val_mae: 0.0304 - val_mse: 0.0024 - val_mape: 45721.2891\n",
      "Epoch 22/100\n",
      "26215/26215 [==============================] - 58s 2ms/step - loss: 0.0303 - rmse: 0.0489 - r2: 0.9808 - mae: 0.0303 - mse: 0.0024 - mape: 41108.4922 - val_loss: 0.0304 - val_rmse: 0.0490 - val_r2: 0.9808 - val_mae: 0.0304 - val_mse: 0.0024 - val_mape: 45519.7695\n",
      "Epoch 23/100\n",
      "26215/26215 [==============================] - 58s 2ms/step - loss: 0.0303 - rmse: 0.0489 - r2: 0.9808 - mae: 0.0303 - mse: 0.0024 - mape: 41116.6562 - val_loss: 0.0304 - val_rmse: 0.0491 - val_r2: 0.9807 - val_mae: 0.0304 - val_mse: 0.0024 - val_mape: 46992.0234\n",
      "Epoch 24/100\n",
      "26215/26215 [==============================] - 64s 2ms/step - loss: 0.0303 - rmse: 0.0489 - r2: 0.9808 - mae: 0.0303 - mse: 0.0024 - mape: 41090.5820 - val_loss: 0.0304 - val_rmse: 0.0488 - val_r2: 0.9809 - val_mae: 0.0304 - val_mse: 0.0024 - val_mape: 44279.6562\n",
      "Epoch 25/100\n",
      "26215/26215 [==============================] - 59s 2ms/step - loss: 0.0303 - rmse: 0.0489 - r2: 0.9808 - mae: 0.0303 - mse: 0.0024 - mape: 40910.5625 - val_loss: 0.0304 - val_rmse: 0.0490 - val_r2: 0.9808 - val_mae: 0.0304 - val_mse: 0.0024 - val_mape: 45375.2305\n",
      "Epoch 26/100\n",
      "26215/26215 [==============================] - 60s 2ms/step - loss: 0.0303 - rmse: 0.0489 - r2: 0.9808 - mae: 0.0303 - mse: 0.0024 - mape: 41036.9258 - val_loss: 0.0304 - val_rmse: 0.0489 - val_r2: 0.9809 - val_mae: 0.0304 - val_mse: 0.0024 - val_mape: 45187.3906\n",
      "Epoch 27/100\n",
      "26215/26215 [==============================] - 59s 2ms/step - loss: 0.0303 - rmse: 0.0489 - r2: 0.9808 - mae: 0.0303 - mse: 0.0024 - mape: 41029.9961 - val_loss: 0.0304 - val_rmse: 0.0491 - val_r2: 0.9807 - val_mae: 0.0304 - val_mse: 0.0024 - val_mape: 46359.7109\n",
      "Epoch 28/100\n",
      "26215/26215 [==============================] - 59s 2ms/step - loss: 0.0303 - rmse: 0.0489 - r2: 0.9808 - mae: 0.0303 - mse: 0.0024 - mape: 41012.6875 - val_loss: 0.0304 - val_rmse: 0.0489 - val_r2: 0.9809 - val_mae: 0.0304 - val_mse: 0.0024 - val_mape: 44181.9023\n",
      "Epoch 28: early stopping\n",
      "CPU times: total: 44min 5s\n",
      "Wall time: 29min 34s\n"
     ]
    }
   ],
   "source": [
    "%%time\n",
    "model_9 = tf.keras.Sequential([tf.keras.layers.Conv1D(10,2,activation='linear',input_shape=(3,1)),\n",
    "                               tf.keras.layers.Conv1D(8,2,activation='relu'),\n",
    "                               tf.keras.layers.Flatten(),\n",
    "                               tf.keras.layers.Dense(1)])\n",
    "\n",
    "model_9.compile(loss = tf.keras.losses.mae,\n",
    "                optimizer = tf.keras.optimizers.legacy.Adam(learning_rate=0.001,decay=0.0001),\n",
    "                metrics=[tf.keras.metrics.RootMeanSquaredError(name='rmse'),\n",
    "                         tfa.metrics.RSquare(name='r2'),'mae','mse','mape'])\n",
    "\n",
    "history_9 = model_9.fit(X_train,Y_train,epochs=100,validation_data=(X_test,Y_test),callbacks=callback)"
   ]
  },
  {
   "cell_type": "code",
   "execution_count": 18,
   "id": "33928b0d",
   "metadata": {},
   "outputs": [
    {
     "data": {
      "image/png": "[encoded data removed]",
      "text/plain": [
       "<Figure size 640x480 with 1 Axes>"
      ]
     },
     "metadata": {},
     "output_type": "display_data"
    }
   ],
   "source": [
    "plot_his(history_9)"
   ]
  },
  {
   "cell_type": "code",
   "execution_count": 19,
   "id": "028b1ad9",
   "metadata": {},
   "outputs": [
    {
     "name": "stdout",
     "output_type": "stream",
     "text": [
      "6554/6554 [==============================] - 19s 3ms/step - loss: 0.0304 - rmse: 0.0489 - r2: 0.9809 - mae: 0.0304 - mse: 0.0024 - mape: 44181.9023\n"
     ]
    },
    {
     "data": {
      "text/plain": [
       "[0.03036024421453476,\n",
       " 0.04888681694865227,\n",
       " 0.980877697467804,\n",
       " 0.03036024421453476,\n",
       " 0.002389920875430107,\n",
       " 44181.90234375]"
      ]
     },
     "execution_count": 19,
     "metadata": {},
     "output_type": "execute_result"
    }
   ],
   "source": [
    "model_9.evaluate(X_test,Y_test)"
   ]
  },
  {
   "cell_type": "code",
   "execution_count": 20,
   "id": "41c7e591",
   "metadata": {},
   "outputs": [
    {
     "name": "stdout",
     "output_type": "stream",
     "text": [
      "6554/6554 [==============================] - 7s 1ms/step\n"
     ]
    }
   ],
   "source": [
    "prediction_9 = model_9.predict(X_test)"
   ]
  },
  {
   "cell_type": "code",
   "execution_count": 21,
   "id": "bc5c0ccc",
   "metadata": {},
   "outputs": [
    {
     "name": "stdout",
     "output_type": "stream",
     "text": [
      "AIC:  412.82547\n"
     ]
    }
   ],
   "source": [
    "AIC_value(model_9,prediction_9,Y_test)"
   ]
  },
  {
   "cell_type": "code",
   "execution_count": 22,
   "id": "caab2b62",
   "metadata": {},
   "outputs": [],
   "source": [
    "model_9.save('Saved_models/model_9_SOCesti.h5')"
   ]
  },
  {
   "cell_type": "code",
   "execution_count": null,
   "id": "2cdc0d1b",
   "metadata": {},
   "outputs": [],
   "source": []
  },
  {
   "cell_type": "code",
   "execution_count": 17,
   "id": "6c0faec8",
   "metadata": {},
   "outputs": [
    {
     "name": "stdout",
     "output_type": "stream",
     "text": [
      "Epoch 1/100\n",
      "26215/26215 [==============================] - 32s 1ms/step - loss: 0.0344 - rmse: 0.0540 - mae: 0.0344 - mse: 0.0029 - mape: 31858.1953 - val_loss: 0.0342 - val_rmse: 0.0523 - val_mae: 0.0342 - val_mse: 0.0027 - val_mape: 32217.7598\n",
      "Epoch 2/100\n",
      "26215/26215 [==============================] - 31s 1ms/step - loss: 0.0341 - rmse: 0.0528 - mae: 0.0341 - mse: 0.0028 - mape: 29742.9023 - val_loss: 0.0340 - val_rmse: 0.0529 - val_mae: 0.0340 - val_mse: 0.0028 - val_mape: 36046.1562\n",
      "Epoch 3/100\n",
      "26215/26215 [==============================] - 32s 1ms/step - loss: 0.0341 - rmse: 0.0528 - mae: 0.0341 - mse: 0.0028 - mape: 29760.6543 - val_loss: 0.0340 - val_rmse: 0.0527 - val_mae: 0.0340 - val_mse: 0.0028 - val_mape: 33225.0469\n",
      "Epoch 4/100\n",
      "26215/26215 [==============================] - 34s 1ms/step - loss: 0.0341 - rmse: 0.0528 - mae: 0.0341 - mse: 0.0028 - mape: 29752.3984 - val_loss: 0.0340 - val_rmse: 0.0528 - val_mae: 0.0340 - val_mse: 0.0028 - val_mape: 33952.3164\n",
      "Epoch 5/100\n",
      "26215/26215 [==============================] - 34s 1ms/step - loss: 0.0341 - rmse: 0.0528 - mae: 0.0341 - mse: 0.0028 - mape: 29523.2773 - val_loss: 0.0340 - val_rmse: 0.0528 - val_mae: 0.0340 - val_mse: 0.0028 - val_mape: 34116.6289\n",
      "Epoch 6/100\n",
      "26215/26215 [==============================] - 38s 1ms/step - loss: 0.0341 - rmse: 0.0528 - mae: 0.0341 - mse: 0.0028 - mape: 29558.0684 - val_loss: 0.0340 - val_rmse: 0.0527 - val_mae: 0.0340 - val_mse: 0.0028 - val_mape: 33332.3867\n",
      "Epoch 7/100\n",
      "26215/26215 [==============================] - 34s 1ms/step - loss: 0.0341 - rmse: 0.0527 - mae: 0.0341 - mse: 0.0028 - mape: 29411.2441 - val_loss: 0.0340 - val_rmse: 0.0527 - val_mae: 0.0340 - val_mse: 0.0028 - val_mape: 33880.5273\n",
      "Epoch 8/100\n",
      "26215/26215 [==============================] - 35s 1ms/step - loss: 0.0340 - rmse: 0.0528 - mae: 0.0340 - mse: 0.0028 - mape: 29500.8789 - val_loss: 0.0340 - val_rmse: 0.0528 - val_mae: 0.0340 - val_mse: 0.0028 - val_mape: 34065.5938\n",
      "Epoch 9/100\n",
      "26215/26215 [==============================] - 34s 1ms/step - loss: 0.0340 - rmse: 0.0527 - mae: 0.0340 - mse: 0.0028 - mape: 29442.8945 - val_loss: 0.0340 - val_rmse: 0.0529 - val_mae: 0.0340 - val_mse: 0.0028 - val_mape: 34817.5938\n",
      "Epoch 10/100\n",
      "26215/26215 [==============================] - 34s 1ms/step - loss: 0.0340 - rmse: 0.0528 - mae: 0.0340 - mse: 0.0028 - mape: 29377.6035 - val_loss: 0.0340 - val_rmse: 0.0527 - val_mae: 0.0340 - val_mse: 0.0028 - val_mape: 32767.4570\n",
      "Epoch 11/100\n",
      "26215/26215 [==============================] - 35s 1ms/step - loss: 0.0340 - rmse: 0.0527 - mae: 0.0340 - mse: 0.0028 - mape: 29369.1816 - val_loss: 0.0340 - val_rmse: 0.0528 - val_mae: 0.0340 - val_mse: 0.0028 - val_mape: 33561.3203\n",
      "Epoch 12/100\n",
      "26215/26215 [==============================] - 35s 1ms/step - loss: 0.0340 - rmse: 0.0527 - mae: 0.0340 - mse: 0.0028 - mape: 29312.1562 - val_loss: 0.0340 - val_rmse: 0.0527 - val_mae: 0.0340 - val_mse: 0.0028 - val_mape: 33159.8320\n",
      "Epoch 13/100\n",
      "26215/26215 [==============================] - 35s 1ms/step - loss: 0.0340 - rmse: 0.0527 - mae: 0.0340 - mse: 0.0028 - mape: 29274.9766 - val_loss: 0.0340 - val_rmse: 0.0527 - val_mae: 0.0340 - val_mse: 0.0028 - val_mape: 33183.2695\n",
      "Epoch 14/100\n",
      "26215/26215 [==============================] - 34s 1ms/step - loss: 0.0340 - rmse: 0.0527 - mae: 0.0340 - mse: 0.0028 - mape: 29341.6172 - val_loss: 0.0340 - val_rmse: 0.0527 - val_mae: 0.0340 - val_mse: 0.0028 - val_mape: 33365.2266\n",
      "Epoch 15/100\n",
      "26215/26215 [==============================] - 35s 1ms/step - loss: 0.0340 - rmse: 0.0527 - mae: 0.0340 - mse: 0.0028 - mape: 29311.2773 - val_loss: 0.0340 - val_rmse: 0.0527 - val_mae: 0.0340 - val_mse: 0.0028 - val_mape: 33356.2812\n",
      "Epoch 16/100\n",
      "26215/26215 [==============================] - 35s 1ms/step - loss: 0.0340 - rmse: 0.0527 - mae: 0.0340 - mse: 0.0028 - mape: 29236.0332 - val_loss: 0.0340 - val_rmse: 0.0527 - val_mae: 0.0340 - val_mse: 0.0028 - val_mape: 32865.8477\n",
      "Epoch 17/100\n",
      "26215/26215 [==============================] - 35s 1ms/step - loss: 0.0340 - rmse: 0.0528 - mae: 0.0340 - mse: 0.0028 - mape: 29318.6387 - val_loss: 0.0340 - val_rmse: 0.0526 - val_mae: 0.0340 - val_mse: 0.0028 - val_mape: 32466.1387\n",
      "Epoch 18/100\n",
      "26215/26215 [==============================] - 34s 1ms/step - loss: 0.0340 - rmse: 0.0527 - mae: 0.0340 - mse: 0.0028 - mape: 29196.9590 - val_loss: 0.0340 - val_rmse: 0.0527 - val_mae: 0.0340 - val_mse: 0.0028 - val_mape: 32961.0898\n",
      "Epoch 19/100\n",
      "26215/26215 [==============================] - 34s 1ms/step - loss: 0.0340 - rmse: 0.0527 - mae: 0.0340 - mse: 0.0028 - mape: 29247.7090 - val_loss: 0.0340 - val_rmse: 0.0528 - val_mae: 0.0340 - val_mse: 0.0028 - val_mape: 33688.1289\n",
      "Epoch 19: early stopping\n",
      "CPU times: total: 15min 18s\n",
      "Wall time: 10min 51s\n"
     ]
    }
   ],
   "source": [
    "%%time\n",
    "model_10 = tf.keras.Sequential([tf.keras.layers.Conv1D(10,2,activation='linear',input_shape=(3,1)),\n",
    "                               tf.keras.layers.Conv1D(32,2,activation='linear'),\n",
    "                               tf.keras.layers.Flatten(),\n",
    "                               tf.keras.layers.Dense(10),\n",
    "                               tf.keras.layers.Dense(1,activation='linear')])\n",
    "\n",
    "model_10.compile(loss = tf.keras.losses.mae,\n",
    "                optimizer = tf.keras.optimizers.legacy.Adam(learning_rate=0.01,decay=0.01),\n",
    "                metrics=[tf.keras.metrics.RootMeanSquaredError(name='rmse'),'mae','mse','mape'])\n",
    "\n",
    "history_10 = model_10.fit(X_train,Y_train,epochs=100,validation_data=(X_test,Y_test),callbacks = callback)"
   ]
  },
  {
   "cell_type": "code",
   "execution_count": 18,
   "id": "94ff0528",
   "metadata": {},
   "outputs": [
    {
     "data": {
      "image/png": "[encoded data removed]",
      "text/plain": [
       "<Figure size 640x480 with 1 Axes>"
      ]
     },
     "metadata": {},
     "output_type": "display_data"
    }
   ],
   "source": [
    "plot_his(history_10)"
   ]
  },
  {
   "cell_type": "code",
   "execution_count": 19,
   "id": "000e601c",
   "metadata": {},
   "outputs": [
    {
     "name": "stdout",
     "output_type": "stream",
     "text": [
      "6554/6554 [==============================] - 6s 949us/step - loss: 0.0340 - rmse: 0.0528 - mae: 0.0340 - mse: 0.0028 - mape: 33688.1289\n"
     ]
    },
    {
     "data": {
      "text/plain": [
       "[0.03400880843400955,\n",
       " 0.05276403948664665,\n",
       " 0.03400880843400955,\n",
       " 0.0027840440161526203,\n",
       " 33688.12890625]"
      ]
     },
     "execution_count": 19,
     "metadata": {},
     "output_type": "execute_result"
    }
   ],
   "source": [
    "model_10.evaluate(X_test,Y_test)"
   ]
  },
  {
   "cell_type": "code",
   "execution_count": 20,
   "id": "54949271",
   "metadata": {},
   "outputs": [
    {
     "name": "stdout",
     "output_type": "stream",
     "text": [
      "6554/6554 [==============================] - 5s 678us/step\n"
     ]
    }
   ],
   "source": [
    "prediction_10 = model_10.predict(X_test)"
   ]
  },
  {
   "cell_type": "code",
   "execution_count": 21,
   "id": "1e2fd607",
   "metadata": {},
   "outputs": [
    {
     "name": "stdout",
     "output_type": "stream",
     "text": [
      "AIC:  500.8219\n"
     ]
    }
   ],
   "source": [
    "AIC_value(model_10,prediction_10,Y_test)"
   ]
  },
  {
   "cell_type": "code",
   "execution_count": 22,
   "id": "d5c5d30a",
   "metadata": {},
   "outputs": [],
   "source": [
    "model_10.save('Saved_models/model_10_SOCesti.h5')"
   ]
  },
  {
   "cell_type": "code",
   "execution_count": null,
   "id": "5f9a4bb2",
   "metadata": {},
   "outputs": [],
   "source": []
  },
  {
   "cell_type": "code",
   "execution_count": null,
   "id": "8c4696a4",
   "metadata": {},
   "outputs": [],
   "source": []
  },
  {
   "cell_type": "code",
   "execution_count": 17,
   "id": "340540a5",
   "metadata": {},
   "outputs": [
    {
     "name": "stdout",
     "output_type": "stream",
     "text": [
      "Epoch 1/100\n",
      "26215/26215 [==============================] - 60s 2ms/step - loss: 0.0200 - rmse: 0.0393 - mae: 0.0200 - mse: 0.0015 - mape: 15675.9023 - val_loss: 0.0127 - val_rmse: 0.0209 - val_mae: 0.0127 - val_mse: 4.3821e-04 - val_mape: 8616.4463\n",
      "Epoch 2/100\n",
      "26215/26215 [==============================] - 60s 2ms/step - loss: 0.0104 - rmse: 0.0180 - mae: 0.0104 - mse: 3.2521e-04 - mape: 8945.5869 - val_loss: 0.0094 - val_rmse: 0.0166 - val_mae: 0.0094 - val_mse: 2.7603e-04 - val_mape: 8876.3887\n",
      "Epoch 3/100\n",
      "26215/26215 [==============================] - 56s 2ms/step - loss: 0.0092 - rmse: 0.0163 - mae: 0.0092 - mse: 2.6683e-04 - mape: 8305.3848 - val_loss: 0.0090 - val_rmse: 0.0161 - val_mae: 0.0090 - val_mse: 2.5932e-04 - val_mape: 8423.5264\n",
      "Epoch 4/100\n",
      "26215/26215 [==============================] - 55s 2ms/step - loss: 0.0090 - rmse: 0.0160 - mae: 0.0090 - mse: 2.5737e-04 - mape: 8085.1318 - val_loss: 0.0090 - val_rmse: 0.0160 - val_mae: 0.0090 - val_mse: 2.5480e-04 - val_mape: 8785.6201\n",
      "Epoch 5/100\n",
      "26215/26215 [==============================] - 62s 2ms/step - loss: 0.0089 - rmse: 0.0159 - mae: 0.0089 - mse: 2.5384e-04 - mape: 8044.5176 - val_loss: 0.0089 - val_rmse: 0.0159 - val_mae: 0.0089 - val_mse: 2.5213e-04 - val_mape: 8289.8398\n",
      "Epoch 6/100\n",
      "26215/26215 [==============================] - 73s 3ms/step - loss: 0.0088 - rmse: 0.0158 - mae: 0.0088 - mse: 2.5120e-04 - mape: 7981.2954 - val_loss: 0.0088 - val_rmse: 0.0158 - val_mae: 0.0088 - val_mse: 2.5087e-04 - val_mape: 8299.6992\n",
      "Epoch 7/100\n",
      "26215/26215 [==============================] - 55s 2ms/step - loss: 0.0088 - rmse: 0.0158 - mae: 0.0088 - mse: 2.4978e-04 - mape: 7891.2485 - val_loss: 0.0088 - val_rmse: 0.0158 - val_mae: 0.0088 - val_mse: 2.4926e-04 - val_mape: 8241.5430\n",
      "Epoch 8/100\n",
      "26215/26215 [==============================] - 53s 2ms/step - loss: 0.0088 - rmse: 0.0158 - mae: 0.0088 - mse: 2.4842e-04 - mape: 7859.7119 - val_loss: 0.0088 - val_rmse: 0.0158 - val_mae: 0.0088 - val_mse: 2.4871e-04 - val_mape: 8188.0571\n",
      "Epoch 9/100\n",
      "26215/26215 [==============================] - 55s 2ms/step - loss: 0.0088 - rmse: 0.0157 - mae: 0.0088 - mse: 2.4772e-04 - mape: 7855.2017 - val_loss: 0.0088 - val_rmse: 0.0158 - val_mae: 0.0088 - val_mse: 2.4832e-04 - val_mape: 8214.8652\n",
      "Epoch 10/100\n",
      "26215/26215 [==============================] - 55s 2ms/step - loss: 0.0088 - rmse: 0.0157 - mae: 0.0088 - mse: 2.4621e-04 - mape: 7832.4453 - val_loss: 0.0087 - val_rmse: 0.0157 - val_mae: 0.0087 - val_mse: 2.4498e-04 - val_mape: 8061.0356\n",
      "Epoch 11/100\n",
      "26215/26215 [==============================] - 57s 2ms/step - loss: 0.0085 - rmse: 0.0156 - mae: 0.0085 - mse: 2.4324e-04 - mape: 7710.1699 - val_loss: 0.0085 - val_rmse: 0.0156 - val_mae: 0.0085 - val_mse: 2.4404e-04 - val_mape: 8100.9424\n",
      "Epoch 12/100\n",
      "26215/26215 [==============================] - 62s 2ms/step - loss: 0.0084 - rmse: 0.0156 - mae: 0.0084 - mse: 2.4267e-04 - mape: 7884.9106 - val_loss: 0.0084 - val_rmse: 0.0156 - val_mae: 0.0084 - val_mse: 2.4264e-04 - val_mape: 8394.6611\n",
      "Epoch 13/100\n",
      "26215/26215 [==============================] - 53s 2ms/step - loss: 0.0084 - rmse: 0.0155 - mae: 0.0084 - mse: 2.4140e-04 - mape: 8214.6455 - val_loss: 0.0084 - val_rmse: 0.0156 - val_mae: 0.0084 - val_mse: 2.4218e-04 - val_mape: 9030.3604\n",
      "Epoch 14/100\n",
      "26215/26215 [==============================] - 53s 2ms/step - loss: 0.0084 - rmse: 0.0155 - mae: 0.0084 - mse: 2.4059e-04 - mape: 8385.7451 - val_loss: 0.0084 - val_rmse: 0.0155 - val_mae: 0.0084 - val_mse: 2.4109e-04 - val_mape: 8663.9727\n",
      "Epoch 15/100\n",
      "26215/26215 [==============================] - 64s 2ms/step - loss: 0.0084 - rmse: 0.0155 - mae: 0.0084 - mse: 2.3964e-04 - mape: 8372.5605 - val_loss: 0.0084 - val_rmse: 0.0155 - val_mae: 0.0084 - val_mse: 2.4060e-04 - val_mape: 8964.0264\n",
      "Epoch 16/100\n",
      "26215/26215 [==============================] - 63s 2ms/step - loss: 0.0084 - rmse: 0.0155 - mae: 0.0084 - mse: 2.3910e-04 - mape: 8440.0537 - val_loss: 0.0084 - val_rmse: 0.0155 - val_mae: 0.0084 - val_mse: 2.3938e-04 - val_mape: 8991.6836\n",
      "Epoch 17/100\n",
      "26215/26215 [==============================] - 57s 2ms/step - loss: 0.0084 - rmse: 0.0154 - mae: 0.0084 - mse: 2.3843e-04 - mape: 8640.1699 - val_loss: 0.0084 - val_rmse: 0.0155 - val_mae: 0.0084 - val_mse: 2.3948e-04 - val_mape: 9190.8047\n",
      "Epoch 18/100\n",
      "26215/26215 [==============================] - 54s 2ms/step - loss: 0.0084 - rmse: 0.0154 - mae: 0.0084 - mse: 2.3796e-04 - mape: 8956.1348 - val_loss: 0.0084 - val_rmse: 0.0154 - val_mae: 0.0084 - val_mse: 2.3837e-04 - val_mape: 9501.0732\n",
      "Epoch 19/100\n",
      "26215/26215 [==============================] - 58s 2ms/step - loss: 0.0084 - rmse: 0.0154 - mae: 0.0084 - mse: 2.3750e-04 - mape: 9139.6035 - val_loss: 0.0084 - val_rmse: 0.0155 - val_mae: 0.0084 - val_mse: 2.3877e-04 - val_mape: 9861.0234\n",
      "Epoch 20/100\n",
      "26215/26215 [==============================] - 54s 2ms/step - loss: 0.0084 - rmse: 0.0154 - mae: 0.0084 - mse: 2.3704e-04 - mape: 9457.5889 - val_loss: 0.0084 - val_rmse: 0.0154 - val_mae: 0.0084 - val_mse: 2.3837e-04 - val_mape: 10295.2988\n",
      "Epoch 21/100\n",
      "26215/26215 [==============================] - 56s 2ms/step - loss: 0.0083 - rmse: 0.0154 - mae: 0.0083 - mse: 2.3681e-04 - mape: 9664.3008 - val_loss: 0.0084 - val_rmse: 0.0154 - val_mae: 0.0084 - val_mse: 2.3749e-04 - val_mape: 10210.7881\n",
      "Epoch 22/100\n",
      "26215/26215 [==============================] - 48s 2ms/step - loss: 0.0083 - rmse: 0.0154 - mae: 0.0083 - mse: 2.3639e-04 - mape: 9893.0342 - val_loss: 0.0084 - val_rmse: 0.0154 - val_mae: 0.0084 - val_mse: 2.3791e-04 - val_mape: 11001.2480\n",
      "Epoch 23/100\n",
      "26215/26215 [==============================] - 37s 1ms/step - loss: 0.0083 - rmse: 0.0154 - mae: 0.0083 - mse: 2.3608e-04 - mape: 10667.8525 - val_loss: 0.0084 - val_rmse: 0.0154 - val_mae: 0.0084 - val_mse: 2.3761e-04 - val_mape: 11464.7285\n",
      "Epoch 24/100\n",
      "26215/26215 [==============================] - 36s 1ms/step - loss: 0.0083 - rmse: 0.0153 - mae: 0.0083 - mse: 2.3559e-04 - mape: 10799.4316 - val_loss: 0.0083 - val_rmse: 0.0154 - val_mae: 0.0083 - val_mse: 2.3652e-04 - val_mape: 11631.7969\n",
      "Epoch 25/100\n",
      "26215/26215 [==============================] - 37s 1ms/step - loss: 0.0083 - rmse: 0.0153 - mae: 0.0083 - mse: 2.3534e-04 - mape: 11032.2500 - val_loss: 0.0083 - val_rmse: 0.0154 - val_mae: 0.0083 - val_mse: 2.3664e-04 - val_mape: 11672.0303\n",
      "Epoch 26/100\n",
      "26215/26215 [==============================] - 36s 1ms/step - loss: 0.0083 - rmse: 0.0153 - mae: 0.0083 - mse: 2.3496e-04 - mape: 11164.0596 - val_loss: 0.0083 - val_rmse: 0.0154 - val_mae: 0.0083 - val_mse: 2.3645e-04 - val_mape: 11728.2236\n",
      "Epoch 27/100\n",
      "26215/26215 [==============================] - 39s 1ms/step - loss: 0.0083 - rmse: 0.0153 - mae: 0.0083 - mse: 2.3469e-04 - mape: 11101.8096 - val_loss: 0.0083 - val_rmse: 0.0153 - val_mae: 0.0083 - val_mse: 2.3539e-04 - val_mape: 11712.6104\n",
      "Epoch 28/100\n",
      "26215/26215 [==============================] - 37s 1ms/step - loss: 0.0083 - rmse: 0.0153 - mae: 0.0083 - mse: 2.3441e-04 - mape: 11020.8418 - val_loss: 0.0083 - val_rmse: 0.0154 - val_mae: 0.0083 - val_mse: 2.3577e-04 - val_mape: 11516.5762\n",
      "Epoch 29/100\n",
      "26215/26215 [==============================] - 36s 1ms/step - loss: 0.0083 - rmse: 0.0153 - mae: 0.0083 - mse: 2.3422e-04 - mape: 10954.2305 - val_loss: 0.0083 - val_rmse: 0.0153 - val_mae: 0.0083 - val_mse: 2.3549e-04 - val_mape: 11573.9160\n",
      "Epoch 30/100\n",
      "26215/26215 [==============================] - 37s 1ms/step - loss: 0.0083 - rmse: 0.0153 - mae: 0.0083 - mse: 2.3404e-04 - mape: 10878.1387 - val_loss: 0.0083 - val_rmse: 0.0153 - val_mae: 0.0083 - val_mse: 2.3552e-04 - val_mape: 11369.5645\n",
      "Epoch 31/100\n",
      "26215/26215 [==============================] - 37s 1ms/step - loss: 0.0083 - rmse: 0.0153 - mae: 0.0083 - mse: 2.3383e-04 - mape: 10831.4414 - val_loss: 0.0083 - val_rmse: 0.0153 - val_mae: 0.0083 - val_mse: 2.3511e-04 - val_mape: 11313.4678\n",
      "Epoch 32/100\n",
      "26215/26215 [==============================] - 36s 1ms/step - loss: 0.0083 - rmse: 0.0153 - mae: 0.0083 - mse: 2.3377e-04 - mape: 10778.6914 - val_loss: 0.0083 - val_rmse: 0.0153 - val_mae: 0.0083 - val_mse: 2.3497e-04 - val_mape: 11260.3271\n",
      "Epoch 33/100\n"
     ]
    },
    {
     "name": "stdout",
     "output_type": "stream",
     "text": [
      "26215/26215 [==============================] - 37s 1ms/step - loss: 0.0083 - rmse: 0.0153 - mae: 0.0083 - mse: 2.3360e-04 - mape: 10773.6201 - val_loss: 0.0083 - val_rmse: 0.0153 - val_mae: 0.0083 - val_mse: 2.3486e-04 - val_mape: 11309.7988\n",
      "Epoch 34/100\n",
      "26215/26215 [==============================] - 37s 1ms/step - loss: 0.0083 - rmse: 0.0153 - mae: 0.0083 - mse: 2.3344e-04 - mape: 10762.7441 - val_loss: 0.0083 - val_rmse: 0.0153 - val_mae: 0.0083 - val_mse: 2.3461e-04 - val_mape: 11294.3379\n",
      "Epoch 35/100\n",
      "26215/26215 [==============================] - 38s 1ms/step - loss: 0.0083 - rmse: 0.0153 - mae: 0.0083 - mse: 2.3334e-04 - mape: 10736.0879 - val_loss: 0.0083 - val_rmse: 0.0153 - val_mae: 0.0083 - val_mse: 2.3464e-04 - val_mape: 11354.0586\n",
      "Epoch 36/100\n",
      "26215/26215 [==============================] - 38s 1ms/step - loss: 0.0083 - rmse: 0.0153 - mae: 0.0083 - mse: 2.3324e-04 - mape: 10734.6309 - val_loss: 0.0083 - val_rmse: 0.0153 - val_mae: 0.0083 - val_mse: 2.3435e-04 - val_mape: 11346.2070\n",
      "Epoch 37/100\n",
      "26215/26215 [==============================] - 37s 1ms/step - loss: 0.0083 - rmse: 0.0153 - mae: 0.0083 - mse: 2.3315e-04 - mape: 10709.6357 - val_loss: 0.0083 - val_rmse: 0.0153 - val_mae: 0.0083 - val_mse: 2.3433e-04 - val_mape: 11299.4160\n",
      "Epoch 38/100\n",
      "26215/26215 [==============================] - 36s 1ms/step - loss: 0.0083 - rmse: 0.0153 - mae: 0.0083 - mse: 2.3299e-04 - mape: 10702.7002 - val_loss: 0.0083 - val_rmse: 0.0153 - val_mae: 0.0083 - val_mse: 2.3424e-04 - val_mape: 11351.2031\n",
      "Epoch 39/100\n",
      "26215/26215 [==============================] - 36s 1ms/step - loss: 0.0083 - rmse: 0.0153 - mae: 0.0083 - mse: 2.3298e-04 - mape: 10695.0176 - val_loss: 0.0083 - val_rmse: 0.0153 - val_mae: 0.0083 - val_mse: 2.3418e-04 - val_mape: 11231.9746\n",
      "Epoch 40/100\n",
      "26215/26215 [==============================] - 36s 1ms/step - loss: 0.0083 - rmse: 0.0153 - mae: 0.0083 - mse: 2.3278e-04 - mape: 10680.1123 - val_loss: 0.0083 - val_rmse: 0.0153 - val_mae: 0.0083 - val_mse: 2.3413e-04 - val_mape: 11189.5361\n",
      "Epoch 41/100\n",
      "26215/26215 [==============================] - 36s 1ms/step - loss: 0.0083 - rmse: 0.0153 - mae: 0.0083 - mse: 2.3277e-04 - mape: 10650.6963 - val_loss: 0.0083 - val_rmse: 0.0153 - val_mae: 0.0083 - val_mse: 2.3392e-04 - val_mape: 11445.7051\n",
      "Epoch 42/100\n",
      "26215/26215 [==============================] - 38s 1ms/step - loss: 0.0083 - rmse: 0.0153 - mae: 0.0083 - mse: 2.3271e-04 - mape: 10675.6836 - val_loss: 0.0083 - val_rmse: 0.0153 - val_mae: 0.0083 - val_mse: 2.3389e-04 - val_mape: 11117.2520\n",
      "Epoch 43/100\n",
      "26215/26215 [==============================] - 38s 1ms/step - loss: 0.0083 - rmse: 0.0152 - mae: 0.0083 - mse: 2.3254e-04 - mape: 10620.2041 - val_loss: 0.0083 - val_rmse: 0.0153 - val_mae: 0.0083 - val_mse: 2.3382e-04 - val_mape: 11140.9209\n",
      "Epoch 44/100\n",
      "26215/26215 [==============================] - 38s 1ms/step - loss: 0.0083 - rmse: 0.0152 - mae: 0.0083 - mse: 2.3247e-04 - mape: 10642.3818 - val_loss: 0.0083 - val_rmse: 0.0153 - val_mae: 0.0083 - val_mse: 2.3372e-04 - val_mape: 11111.9482\n",
      "Epoch 45/100\n",
      "26215/26215 [==============================] - 40s 2ms/step - loss: 0.0083 - rmse: 0.0152 - mae: 0.0083 - mse: 2.3237e-04 - mape: 10662.2969 - val_loss: 0.0083 - val_rmse: 0.0153 - val_mae: 0.0083 - val_mse: 2.3379e-04 - val_mape: 11270.5371\n",
      "Epoch 46/100\n",
      "26215/26215 [==============================] - 38s 1ms/step - loss: 0.0083 - rmse: 0.0152 - mae: 0.0083 - mse: 2.3245e-04 - mape: 10941.3164 - val_loss: 0.0083 - val_rmse: 0.0153 - val_mae: 0.0083 - val_mse: 2.3413e-04 - val_mape: 11628.6768\n",
      "Epoch 47/100\n",
      "26215/26215 [==============================] - 41s 2ms/step - loss: 0.0083 - rmse: 0.0153 - mae: 0.0083 - mse: 2.3258e-04 - mape: 11296.3975 - val_loss: 0.0083 - val_rmse: 0.0153 - val_mae: 0.0083 - val_mse: 2.3397e-04 - val_mape: 12017.3281\n",
      "Epoch 48/100\n",
      "26215/26215 [==============================] - 39s 1ms/step - loss: 0.0083 - rmse: 0.0153 - mae: 0.0083 - mse: 2.3257e-04 - mape: 11547.4951 - val_loss: 0.0083 - val_rmse: 0.0153 - val_mae: 0.0083 - val_mse: 2.3407e-04 - val_mape: 12473.1426\n",
      "Epoch 49/100\n",
      "26215/26215 [==============================] - 40s 2ms/step - loss: 0.0082 - rmse: 0.0153 - mae: 0.0082 - mse: 2.3257e-04 - mape: 11708.3164 - val_loss: 0.0083 - val_rmse: 0.0153 - val_mae: 0.0083 - val_mse: 2.3406e-04 - val_mape: 12403.8018\n",
      "Epoch 50/100\n",
      "26215/26215 [==============================] - 40s 2ms/step - loss: 0.0082 - rmse: 0.0153 - mae: 0.0082 - mse: 2.3256e-04 - mape: 11801.4717 - val_loss: 0.0083 - val_rmse: 0.0153 - val_mae: 0.0083 - val_mse: 2.3386e-04 - val_mape: 12381.4629\n",
      "Epoch 51/100\n",
      "26215/26215 [==============================] - 39s 1ms/step - loss: 0.0082 - rmse: 0.0152 - mae: 0.0082 - mse: 2.3246e-04 - mape: 11811.9434 - val_loss: 0.0083 - val_rmse: 0.0153 - val_mae: 0.0083 - val_mse: 2.3374e-04 - val_mape: 12459.3926\n",
      "Epoch 52/100\n",
      "26215/26215 [==============================] - 40s 2ms/step - loss: 0.0082 - rmse: 0.0152 - mae: 0.0082 - mse: 2.3231e-04 - mape: 11758.6152 - val_loss: 0.0083 - val_rmse: 0.0153 - val_mae: 0.0083 - val_mse: 2.3377e-04 - val_mape: 12454.2725\n",
      "Epoch 53/100\n",
      "26215/26215 [==============================] - 40s 2ms/step - loss: 0.0082 - rmse: 0.0152 - mae: 0.0082 - mse: 2.3226e-04 - mape: 11746.3730 - val_loss: 0.0083 - val_rmse: 0.0153 - val_mae: 0.0083 - val_mse: 2.3360e-04 - val_mape: 12398.0732\n",
      "Epoch 54/100\n",
      "26215/26215 [==============================] - 40s 2ms/step - loss: 0.0082 - rmse: 0.0152 - mae: 0.0082 - mse: 2.3224e-04 - mape: 11711.2803 - val_loss: 0.0083 - val_rmse: 0.0153 - val_mae: 0.0083 - val_mse: 2.3333e-04 - val_mape: 12408.1455\n",
      "Epoch 55/100\n",
      "26215/26215 [==============================] - 40s 2ms/step - loss: 0.0082 - rmse: 0.0152 - mae: 0.0082 - mse: 2.3213e-04 - mape: 11720.2852 - val_loss: 0.0083 - val_rmse: 0.0153 - val_mae: 0.0083 - val_mse: 2.3341e-04 - val_mape: 12317.3857\n",
      "Epoch 56/100\n",
      "26215/26215 [==============================] - 40s 2ms/step - loss: 0.0082 - rmse: 0.0152 - mae: 0.0082 - mse: 2.3203e-04 - mape: 11657.2832 - val_loss: 0.0083 - val_rmse: 0.0153 - val_mae: 0.0083 - val_mse: 2.3356e-04 - val_mape: 12220.6484\n",
      "Epoch 57/100\n",
      "26215/26215 [==============================] - 40s 2ms/step - loss: 0.0082 - rmse: 0.0152 - mae: 0.0082 - mse: 2.3199e-04 - mape: 11633.0664 - val_loss: 0.0083 - val_rmse: 0.0153 - val_mae: 0.0083 - val_mse: 2.3338e-04 - val_mape: 12294.6113\n",
      "Epoch 58/100\n",
      "26215/26215 [==============================] - 40s 2ms/step - loss: 0.0082 - rmse: 0.0152 - mae: 0.0082 - mse: 2.3195e-04 - mape: 11635.5615 - val_loss: 0.0083 - val_rmse: 0.0153 - val_mae: 0.0083 - val_mse: 2.3332e-04 - val_mape: 12234.2607\n",
      "Epoch 59/100\n",
      "26215/26215 [==============================] - 40s 2ms/step - loss: 0.0082 - rmse: 0.0152 - mae: 0.0082 - mse: 2.3191e-04 - mape: 11597.7178 - val_loss: 0.0083 - val_rmse: 0.0153 - val_mae: 0.0083 - val_mse: 2.3332e-04 - val_mape: 12291.8896\n",
      "Epoch 60/100\n",
      "26215/26215 [==============================] - 43s 2ms/step - loss: 0.0082 - rmse: 0.0152 - mae: 0.0082 - mse: 2.3187e-04 - mape: 11580.6689 - val_loss: 0.0083 - val_rmse: 0.0153 - val_mae: 0.0083 - val_mse: 2.3336e-04 - val_mape: 12260.0283\n",
      "Epoch 61/100\n",
      "26215/26215 [==============================] - 41s 2ms/step - loss: 0.0082 - rmse: 0.0152 - mae: 0.0082 - mse: 2.3189e-04 - mape: 11630.0049 - val_loss: 0.0083 - val_rmse: 0.0153 - val_mae: 0.0083 - val_mse: 2.3322e-04 - val_mape: 12179.1729\n",
      "Epoch 62/100\n",
      "26215/26215 [==============================] - 40s 2ms/step - loss: 0.0082 - rmse: 0.0152 - mae: 0.0082 - mse: 2.3184e-04 - mape: 11623.4170 - val_loss: 0.0083 - val_rmse: 0.0153 - val_mae: 0.0083 - val_mse: 2.3317e-04 - val_mape: 12208.3818\n",
      "Epoch 63/100\n",
      "26215/26215 [==============================] - 39s 1ms/step - loss: 0.0082 - rmse: 0.0152 - mae: 0.0082 - mse: 2.3175e-04 - mape: 11575.6807 - val_loss: 0.0083 - val_rmse: 0.0153 - val_mae: 0.0083 - val_mse: 2.3336e-04 - val_mape: 12193.4932\n",
      "Epoch 64/100\n",
      "26215/26215 [==============================] - 41s 2ms/step - loss: 0.0082 - rmse: 0.0152 - mae: 0.0082 - mse: 2.3184e-04 - mape: 11628.3770 - val_loss: 0.0083 - val_rmse: 0.0153 - val_mae: 0.0083 - val_mse: 2.3320e-04 - val_mape: 12143.6602\n",
      "Epoch 65/100\n"
     ]
    },
    {
     "name": "stdout",
     "output_type": "stream",
     "text": [
      "26215/26215 [==============================] - 38s 1ms/step - loss: 0.0082 - rmse: 0.0152 - mae: 0.0082 - mse: 2.3181e-04 - mape: 11618.2959 - val_loss: 0.0083 - val_rmse: 0.0153 - val_mae: 0.0083 - val_mse: 2.3302e-04 - val_mape: 12315.9873\n",
      "Epoch 66/100\n",
      "26215/26215 [==============================] - 38s 1ms/step - loss: 0.0082 - rmse: 0.0152 - mae: 0.0082 - mse: 2.3192e-04 - mape: 11629.7861 - val_loss: 0.0082 - val_rmse: 0.0153 - val_mae: 0.0082 - val_mse: 2.3371e-04 - val_mape: 12325.2812\n",
      "Epoch 67/100\n",
      "26215/26215 [==============================] - 38s 1ms/step - loss: 0.0082 - rmse: 0.0153 - mae: 0.0082 - mse: 2.3259e-04 - mape: 11738.3291 - val_loss: 0.0083 - val_rmse: 0.0153 - val_mae: 0.0083 - val_mse: 2.3440e-04 - val_mape: 12364.0137\n",
      "Epoch 68/100\n",
      "26215/26215 [==============================] - 38s 1ms/step - loss: 0.0082 - rmse: 0.0153 - mae: 0.0082 - mse: 2.3277e-04 - mape: 11828.4229 - val_loss: 0.0082 - val_rmse: 0.0153 - val_mae: 0.0082 - val_mse: 2.3442e-04 - val_mape: 12608.3535\n",
      "Epoch 69/100\n",
      "26215/26215 [==============================] - 38s 1ms/step - loss: 0.0082 - rmse: 0.0153 - mae: 0.0082 - mse: 2.3285e-04 - mape: 11878.7402 - val_loss: 0.0082 - val_rmse: 0.0153 - val_mae: 0.0082 - val_mse: 2.3433e-04 - val_mape: 12672.3506\n",
      "Epoch 70/100\n",
      "26215/26215 [==============================] - 38s 1ms/step - loss: 0.0082 - rmse: 0.0153 - mae: 0.0082 - mse: 2.3290e-04 - mape: 11903.5312 - val_loss: 0.0082 - val_rmse: 0.0153 - val_mae: 0.0082 - val_mse: 2.3442e-04 - val_mape: 12672.8906\n",
      "Epoch 71/100\n",
      "26215/26215 [==============================] - 38s 1ms/step - loss: 0.0082 - rmse: 0.0153 - mae: 0.0082 - mse: 2.3302e-04 - mape: 11990.0996 - val_loss: 0.0082 - val_rmse: 0.0153 - val_mae: 0.0082 - val_mse: 2.3466e-04 - val_mape: 12669.5078\n",
      "Epoch 72/100\n",
      "26215/26215 [==============================] - 38s 1ms/step - loss: 0.0082 - rmse: 0.0153 - mae: 0.0082 - mse: 2.3313e-04 - mape: 12004.2207 - val_loss: 0.0082 - val_rmse: 0.0153 - val_mae: 0.0082 - val_mse: 2.3460e-04 - val_mape: 12754.2520\n",
      "Epoch 73/100\n",
      "26215/26215 [==============================] - 38s 1ms/step - loss: 0.0082 - rmse: 0.0153 - mae: 0.0082 - mse: 2.3320e-04 - mape: 11995.0332 - val_loss: 0.0082 - val_rmse: 0.0153 - val_mae: 0.0082 - val_mse: 2.3485e-04 - val_mape: 12690.0537\n",
      "Epoch 74/100\n",
      "26215/26215 [==============================] - 40s 2ms/step - loss: 0.0082 - rmse: 0.0153 - mae: 0.0082 - mse: 2.3316e-04 - mape: 12006.4102 - val_loss: 0.0082 - val_rmse: 0.0153 - val_mae: 0.0082 - val_mse: 2.3474e-04 - val_mape: 12619.7969\n",
      "Epoch 75/100\n",
      "26215/26215 [==============================] - 38s 1ms/step - loss: 0.0082 - rmse: 0.0153 - mae: 0.0082 - mse: 2.3315e-04 - mape: 11956.5615 - val_loss: 0.0082 - val_rmse: 0.0153 - val_mae: 0.0082 - val_mse: 2.3473e-04 - val_mape: 12644.4355\n",
      "Epoch 76/100\n",
      "26215/26215 [==============================] - 38s 1ms/step - loss: 0.0082 - rmse: 0.0153 - mae: 0.0082 - mse: 2.3315e-04 - mape: 11925.9863 - val_loss: 0.0082 - val_rmse: 0.0153 - val_mae: 0.0082 - val_mse: 2.3460e-04 - val_mape: 12637.0254\n",
      "Epoch 77/100\n",
      "26215/26215 [==============================] - 38s 1ms/step - loss: 0.0082 - rmse: 0.0153 - mae: 0.0082 - mse: 2.3312e-04 - mape: 11913.8057 - val_loss: 0.0082 - val_rmse: 0.0153 - val_mae: 0.0082 - val_mse: 2.3472e-04 - val_mape: 12521.3682\n",
      "Epoch 78/100\n",
      "26215/26215 [==============================] - 38s 1ms/step - loss: 0.0082 - rmse: 0.0153 - mae: 0.0082 - mse: 2.3310e-04 - mape: 11859.6768 - val_loss: 0.0082 - val_rmse: 0.0153 - val_mae: 0.0082 - val_mse: 2.3466e-04 - val_mape: 12537.6250\n",
      "Epoch 79/100\n",
      "26215/26215 [==============================] - 39s 1ms/step - loss: 0.0082 - rmse: 0.0153 - mae: 0.0082 - mse: 2.3306e-04 - mape: 11860.6064 - val_loss: 0.0082 - val_rmse: 0.0153 - val_mae: 0.0082 - val_mse: 2.3462e-04 - val_mape: 12439.2305\n",
      "Epoch 80/100\n",
      "26215/26215 [==============================] - 38s 1ms/step - loss: 0.0082 - rmse: 0.0153 - mae: 0.0082 - mse: 2.3303e-04 - mape: 11799.8828 - val_loss: 0.0082 - val_rmse: 0.0153 - val_mae: 0.0082 - val_mse: 2.3465e-04 - val_mape: 12344.8076\n",
      "Epoch 81/100\n",
      "26215/26215 [==============================] - 39s 1ms/step - loss: 0.0082 - rmse: 0.0153 - mae: 0.0082 - mse: 2.3300e-04 - mape: 11779.3027 - val_loss: 0.0082 - val_rmse: 0.0153 - val_mae: 0.0082 - val_mse: 2.3443e-04 - val_mape: 12428.3652\n",
      "Epoch 82/100\n",
      "26215/26215 [==============================] - 42s 2ms/step - loss: 0.0082 - rmse: 0.0153 - mae: 0.0082 - mse: 2.3294e-04 - mape: 11742.5361 - val_loss: 0.0082 - val_rmse: 0.0153 - val_mae: 0.0082 - val_mse: 2.3465e-04 - val_mape: 12444.3379\n",
      "Epoch 83/100\n",
      "26215/26215 [==============================] - 40s 2ms/step - loss: 0.0082 - rmse: 0.0153 - mae: 0.0082 - mse: 2.3289e-04 - mape: 11699.5713 - val_loss: 0.0082 - val_rmse: 0.0153 - val_mae: 0.0082 - val_mse: 2.3468e-04 - val_mape: 12372.3047\n",
      "Epoch 84/100\n",
      "26215/26215 [==============================] - 39s 1ms/step - loss: 0.0082 - rmse: 0.0153 - mae: 0.0082 - mse: 2.3289e-04 - mape: 11694.2646 - val_loss: 0.0082 - val_rmse: 0.0153 - val_mae: 0.0082 - val_mse: 2.3456e-04 - val_mape: 12287.8145\n",
      "Epoch 85/100\n",
      "26215/26215 [==============================] - 39s 1ms/step - loss: 0.0082 - rmse: 0.0153 - mae: 0.0082 - mse: 2.3288e-04 - mape: 11666.6445 - val_loss: 0.0082 - val_rmse: 0.0153 - val_mae: 0.0082 - val_mse: 2.3456e-04 - val_mape: 12305.8086\n",
      "Epoch 86/100\n",
      "26215/26215 [==============================] - 38s 1ms/step - loss: 0.0082 - rmse: 0.0153 - mae: 0.0082 - mse: 2.3281e-04 - mape: 11644.3486 - val_loss: 0.0082 - val_rmse: 0.0153 - val_mae: 0.0082 - val_mse: 2.3438e-04 - val_mape: 12351.9297\n",
      "Epoch 87/100\n",
      "26215/26215 [==============================] - 38s 1ms/step - loss: 0.0082 - rmse: 0.0153 - mae: 0.0082 - mse: 2.3275e-04 - mape: 11621.2949 - val_loss: 0.0082 - val_rmse: 0.0153 - val_mae: 0.0082 - val_mse: 2.3448e-04 - val_mape: 12224.7637\n",
      "Epoch 88/100\n",
      "26215/26215 [==============================] - 38s 1ms/step - loss: 0.0082 - rmse: 0.0153 - mae: 0.0082 - mse: 2.3276e-04 - mape: 11622.4561 - val_loss: 0.0082 - val_rmse: 0.0153 - val_mae: 0.0082 - val_mse: 2.3452e-04 - val_mape: 12279.2412\n",
      "Epoch 89/100\n",
      "26215/26215 [==============================] - 39s 1ms/step - loss: 0.0082 - rmse: 0.0153 - mae: 0.0082 - mse: 2.3274e-04 - mape: 11612.5576 - val_loss: 0.0082 - val_rmse: 0.0153 - val_mae: 0.0082 - val_mse: 2.3435e-04 - val_mape: 12270.1396\n",
      "Epoch 90/100\n",
      "26215/26215 [==============================] - 39s 1ms/step - loss: 0.0082 - rmse: 0.0153 - mae: 0.0082 - mse: 2.3269e-04 - mape: 11598.8086 - val_loss: 0.0082 - val_rmse: 0.0153 - val_mae: 0.0082 - val_mse: 2.3427e-04 - val_mape: 12271.9951\n",
      "Epoch 91/100\n",
      "26215/26215 [==============================] - 39s 1ms/step - loss: 0.0082 - rmse: 0.0153 - mae: 0.0082 - mse: 2.3269e-04 - mape: 11598.3730 - val_loss: 0.0082 - val_rmse: 0.0153 - val_mae: 0.0082 - val_mse: 2.3406e-04 - val_mape: 12230.1846\n",
      "Epoch 92/100\n",
      "26215/26215 [==============================] - 38s 1ms/step - loss: 0.0082 - rmse: 0.0153 - mae: 0.0082 - mse: 2.3259e-04 - mape: 11574.0518 - val_loss: 0.0082 - val_rmse: 0.0153 - val_mae: 0.0082 - val_mse: 2.3432e-04 - val_mape: 12268.7998\n",
      "Epoch 93/100\n",
      "26215/26215 [==============================] - 38s 1ms/step - loss: 0.0082 - rmse: 0.0153 - mae: 0.0082 - mse: 2.3257e-04 - mape: 11564.4297 - val_loss: 0.0082 - val_rmse: 0.0153 - val_mae: 0.0082 - val_mse: 2.3439e-04 - val_mape: 12112.3232\n",
      "Epoch 94/100\n",
      "26215/26215 [==============================] - 38s 1ms/step - loss: 0.0082 - rmse: 0.0153 - mae: 0.0082 - mse: 2.3258e-04 - mape: 11554.6055 - val_loss: 0.0082 - val_rmse: 0.0153 - val_mae: 0.0082 - val_mse: 2.3408e-04 - val_mape: 12167.2666\n",
      "Epoch 95/100\n",
      "26215/26215 [==============================] - 38s 1ms/step - loss: 0.0082 - rmse: 0.0152 - mae: 0.0082 - mse: 2.3254e-04 - mape: 11530.4395 - val_loss: 0.0082 - val_rmse: 0.0153 - val_mae: 0.0082 - val_mse: 2.3418e-04 - val_mape: 12262.8252\n",
      "Epoch 96/100\n",
      "26215/26215 [==============================] - 38s 1ms/step - loss: 0.0082 - rmse: 0.0152 - mae: 0.0082 - mse: 2.3254e-04 - mape: 11521.9004 - val_loss: 0.0082 - val_rmse: 0.0153 - val_mae: 0.0082 - val_mse: 2.3413e-04 - val_mape: 12149.0166\n",
      "Epoch 97/100\n"
     ]
    },
    {
     "name": "stdout",
     "output_type": "stream",
     "text": [
      "26215/26215 [==============================] - 38s 1ms/step - loss: 0.0082 - rmse: 0.0152 - mae: 0.0082 - mse: 2.3242e-04 - mape: 11505.3926 - val_loss: 0.0082 - val_rmse: 0.0153 - val_mae: 0.0082 - val_mse: 2.3428e-04 - val_mape: 12143.3330\n",
      "Epoch 98/100\n",
      "26215/26215 [==============================] - 39s 1ms/step - loss: 0.0082 - rmse: 0.0152 - mae: 0.0082 - mse: 2.3249e-04 - mape: 11488.1846 - val_loss: 0.0082 - val_rmse: 0.0153 - val_mae: 0.0082 - val_mse: 2.3409e-04 - val_mape: 12046.7568\n",
      "Epoch 99/100\n",
      "26215/26215 [==============================] - 38s 1ms/step - loss: 0.0082 - rmse: 0.0152 - mae: 0.0082 - mse: 2.3243e-04 - mape: 11478.9375 - val_loss: 0.0082 - val_rmse: 0.0153 - val_mae: 0.0082 - val_mse: 2.3414e-04 - val_mape: 12023.0361\n",
      "Epoch 100/100\n",
      "26215/26215 [==============================] - 38s 1ms/step - loss: 0.0082 - rmse: 0.0152 - mae: 0.0082 - mse: 2.3239e-04 - mape: 11442.0225 - val_loss: 0.0082 - val_rmse: 0.0153 - val_mae: 0.0082 - val_mse: 2.3395e-04 - val_mape: 12003.9932\n",
      "CPU times: total: 1h 48min 23s\n",
      "Wall time: 1h 11min 1s\n"
     ]
    }
   ],
   "source": [
    "%%time\n",
    "model_11 = tf.keras.Sequential([tf.keras.layers.Conv1D(8,2,activation='relu',input_shape=(3,1)),\n",
    "                               tf.keras.layers.Conv1D(4,2,activation='linear'),\n",
    "                               tf.keras.layers.Flatten(),\n",
    "                               tf.keras.layers.Dense(8,activation=\"linear\"),\n",
    "                               tf.keras.layers.Dense(4,activation=\"relu\"),\n",
    "                               tf.keras.layers.Dense(1,activation ='linear')])\n",
    "\n",
    "model_11.compile(loss = tf.keras.losses.mae,\n",
    "                optimizer = tf.keras.optimizers.legacy.Adam(learning_rate=0.001,decay=0.001),\n",
    "                metrics=[tf.keras.metrics.RootMeanSquaredError(name='rmse'),'mae','mse','mape'])\n",
    "\n",
    "history_11 = model_11.fit(X_train,Y_train,epochs=100,validation_data=(X_test,Y_test),callbacks = callback)"
   ]
  },
  {
   "cell_type": "code",
   "execution_count": 18,
   "id": "38d1f2d8",
   "metadata": {},
   "outputs": [
    {
     "data": {
      "image/png": "[encoded data removed]",
      "text/plain": [
       "<Figure size 640x480 with 1 Axes>"
      ]
     },
     "metadata": {},
     "output_type": "display_data"
    }
   ],
   "source": [
    "plot_his(history_11)"
   ]
  },
  {
   "cell_type": "code",
   "execution_count": 19,
   "id": "b584c203",
   "metadata": {},
   "outputs": [
    {
     "name": "stdout",
     "output_type": "stream",
     "text": [
      "6554/6554 [==============================] - 6s 901us/step - loss: 0.0082 - rmse: 0.0153 - mae: 0.0082 - mse: 2.3395e-04 - mape: 12003.9932\n"
     ]
    },
    {
     "data": {
      "text/plain": [
       "[0.008213073946535587,\n",
       " 0.015295355580747128,\n",
       " 0.008213073946535587,\n",
       " 0.00023394789604935795,\n",
       " 12003.9931640625]"
      ]
     },
     "execution_count": 19,
     "metadata": {},
     "output_type": "execute_result"
    }
   ],
   "source": [
    "model_11.evaluate(X_test,Y_test)"
   ]
  },
  {
   "cell_type": "code",
   "execution_count": 20,
   "id": "79c90bab",
   "metadata": {},
   "outputs": [
    {
     "name": "stdout",
     "output_type": "stream",
     "text": [
      "6554/6554 [==============================] - 5s 707us/step\n"
     ]
    }
   ],
   "source": [
    "prediction_11 = model_11.predict(X_test)"
   ]
  },
  {
   "cell_type": "code",
   "execution_count": 21,
   "id": "9845e930",
   "metadata": {},
   "outputs": [
    {
     "name": "stdout",
     "output_type": "stream",
     "text": [
      "AIC:  344.8341\n"
     ]
    }
   ],
   "source": [
    "AIC_value(model_11,prediction_11,Y_test)"
   ]
  },
  {
   "cell_type": "code",
   "execution_count": 22,
   "id": "c76d2e29",
   "metadata": {},
   "outputs": [],
   "source": [
    "model_11.save('Saved_models/model_11_SOCesti.h5')"
   ]
  },
  {
   "cell_type": "code",
   "execution_count": null,
   "id": "4a91b158",
   "metadata": {},
   "outputs": [],
   "source": []
  },
  {
   "cell_type": "code",
   "execution_count": null,
   "id": "20b35f26",
   "metadata": {},
   "outputs": [],
   "source": []
  },
  {
   "cell_type": "code",
   "execution_count": 29,
   "id": "e5613ea1",
   "metadata": {},
   "outputs": [
    {
     "name": "stdout",
     "output_type": "stream",
     "text": [
      "Epoch 1/100\n",
      "26215/26215 [==============================] - 37s 1ms/step - loss: 0.0235 - rmse: 0.0399 - mae: 0.0235 - mse: 0.0016 - mape: 17974.0469 - val_loss: 0.0197 - val_rmse: 0.0299 - val_mae: 0.0197 - val_mse: 8.9547e-04 - val_mape: 10245.5361\n",
      "Epoch 2/100\n",
      "26215/26215 [==============================] - 36s 1ms/step - loss: 0.0195 - rmse: 0.0291 - mae: 0.0195 - mse: 8.4548e-04 - mape: 8687.1875 - val_loss: 0.0188 - val_rmse: 0.0282 - val_mae: 0.0188 - val_mse: 7.9435e-04 - val_mape: 10837.7217\n",
      "Epoch 3/100\n",
      "26215/26215 [==============================] - 36s 1ms/step - loss: 0.0189 - rmse: 0.0287 - mae: 0.0189 - mse: 8.2630e-04 - mape: 7414.8394 - val_loss: 0.0186 - val_rmse: 0.0287 - val_mae: 0.0186 - val_mse: 8.2243e-04 - val_mape: 4081.0771\n",
      "Epoch 4/100\n",
      "26215/26215 [==============================] - 37s 1ms/step - loss: 0.0188 - rmse: 0.0286 - mae: 0.0188 - mse: 8.1824e-04 - mape: 6023.5000 - val_loss: 0.0185 - val_rmse: 0.0284 - val_mae: 0.0185 - val_mse: 8.0435e-04 - val_mape: 3739.3093\n",
      "Epoch 5/100\n",
      "26215/26215 [==============================] - 36s 1ms/step - loss: 0.0187 - rmse: 0.0285 - mae: 0.0187 - mse: 8.1445e-04 - mape: 5539.1875 - val_loss: 0.0186 - val_rmse: 0.0283 - val_mae: 0.0186 - val_mse: 7.9836e-04 - val_mape: 3758.8298\n",
      "Epoch 6/100\n",
      "26215/26215 [==============================] - 36s 1ms/step - loss: 0.0187 - rmse: 0.0285 - mae: 0.0187 - mse: 8.1132e-04 - mape: 5204.9858 - val_loss: 0.0185 - val_rmse: 0.0285 - val_mae: 0.0185 - val_mse: 8.0945e-04 - val_mape: 3947.5225\n",
      "Epoch 7/100\n",
      "26215/26215 [==============================] - 36s 1ms/step - loss: 0.0186 - rmse: 0.0284 - mae: 0.0186 - mse: 8.0930e-04 - mape: 5045.9600 - val_loss: 0.0189 - val_rmse: 0.0280 - val_mae: 0.0189 - val_mse: 7.8335e-04 - val_mape: 11016.2695\n",
      "Epoch 8/100\n",
      "26215/26215 [==============================] - 37s 1ms/step - loss: 0.0186 - rmse: 0.0284 - mae: 0.0186 - mse: 8.0842e-04 - mape: 4780.3521 - val_loss: 0.0185 - val_rmse: 0.0282 - val_mae: 0.0185 - val_mse: 7.9368e-04 - val_mape: 7811.2246\n",
      "Epoch 9/100\n",
      "26215/26215 [==============================] - 37s 1ms/step - loss: 0.0186 - rmse: 0.0284 - mae: 0.0186 - mse: 8.0717e-04 - mape: 4761.4497 - val_loss: 0.0185 - val_rmse: 0.0284 - val_mae: 0.0185 - val_mse: 8.0476e-04 - val_mape: 3729.7490\n",
      "Epoch 10/100\n",
      "26215/26215 [==============================] - 36s 1ms/step - loss: 0.0186 - rmse: 0.0284 - mae: 0.0186 - mse: 8.0665e-04 - mape: 4653.1001 - val_loss: 0.0184 - val_rmse: 0.0281 - val_mae: 0.0184 - val_mse: 7.9026e-04 - val_mape: 4087.9338\n",
      "Epoch 11/100\n",
      "26215/26215 [==============================] - 36s 1ms/step - loss: 0.0185 - rmse: 0.0284 - mae: 0.0185 - mse: 8.0497e-04 - mape: 4479.6060 - val_loss: 0.0184 - val_rmse: 0.0285 - val_mae: 0.0184 - val_mse: 8.1407e-04 - val_mape: 3457.4783\n",
      "Epoch 12/100\n",
      "26215/26215 [==============================] - 36s 1ms/step - loss: 0.0185 - rmse: 0.0284 - mae: 0.0185 - mse: 8.0480e-04 - mape: 4428.3296 - val_loss: 0.0186 - val_rmse: 0.0280 - val_mae: 0.0186 - val_mse: 7.8200e-04 - val_mape: 6710.3843\n",
      "Epoch 13/100\n",
      "26215/26215 [==============================] - 37s 1ms/step - loss: 0.0185 - rmse: 0.0284 - mae: 0.0185 - mse: 8.0424e-04 - mape: 4297.1558 - val_loss: 0.0184 - val_rmse: 0.0283 - val_mae: 0.0184 - val_mse: 8.0158e-04 - val_mape: 5591.5942\n",
      "Epoch 14/100\n",
      "26215/26215 [==============================] - 36s 1ms/step - loss: 0.0185 - rmse: 0.0284 - mae: 0.0185 - mse: 8.0394e-04 - mape: 4344.8828 - val_loss: 0.0184 - val_rmse: 0.0285 - val_mae: 0.0184 - val_mse: 8.1134e-04 - val_mape: 3450.8625\n",
      "Epoch 15/100\n",
      "26215/26215 [==============================] - 40s 2ms/step - loss: 0.0185 - rmse: 0.0284 - mae: 0.0185 - mse: 8.0499e-04 - mape: 4160.1113 - val_loss: 0.0184 - val_rmse: 0.0285 - val_mae: 0.0184 - val_mse: 8.1308e-04 - val_mape: 3160.4265\n",
      "Epoch 16/100\n",
      "26215/26215 [==============================] - 37s 1ms/step - loss: 0.0185 - rmse: 0.0284 - mae: 0.0185 - mse: 8.0414e-04 - mape: 4127.9595 - val_loss: 0.0184 - val_rmse: 0.0281 - val_mae: 0.0184 - val_mse: 7.8714e-04 - val_mape: 4010.8408\n",
      "Epoch 17/100\n",
      "26215/26215 [==============================] - 37s 1ms/step - loss: 0.0185 - rmse: 0.0284 - mae: 0.0185 - mse: 8.0374e-04 - mape: 4087.2310 - val_loss: 0.0185 - val_rmse: 0.0280 - val_mae: 0.0185 - val_mse: 7.8218e-04 - val_mape: 4475.9897\n",
      "Epoch 18/100\n",
      "26215/26215 [==============================] - 37s 1ms/step - loss: 0.0185 - rmse: 0.0283 - mae: 0.0185 - mse: 8.0343e-04 - mape: 3934.8787 - val_loss: 0.0186 - val_rmse: 0.0281 - val_mae: 0.0186 - val_mse: 7.8880e-04 - val_mape: 5590.8389\n",
      "Epoch 19/100\n",
      "26215/26215 [==============================] - 37s 1ms/step - loss: 0.0185 - rmse: 0.0283 - mae: 0.0185 - mse: 8.0329e-04 - mape: 3990.0798 - val_loss: 0.0184 - val_rmse: 0.0283 - val_mae: 0.0184 - val_mse: 8.0326e-04 - val_mape: 3562.5283\n",
      "Epoch 20/100\n",
      "26215/26215 [==============================] - 37s 1ms/step - loss: 0.0185 - rmse: 0.0283 - mae: 0.0185 - mse: 8.0191e-04 - mape: 3959.5020 - val_loss: 0.0185 - val_rmse: 0.0282 - val_mae: 0.0185 - val_mse: 7.9590e-04 - val_mape: 5900.0967\n",
      "Epoch 21/100\n",
      "26215/26215 [==============================] - 37s 1ms/step - loss: 0.0185 - rmse: 0.0283 - mae: 0.0185 - mse: 8.0234e-04 - mape: 3858.2563 - val_loss: 0.0185 - val_rmse: 0.0284 - val_mae: 0.0185 - val_mse: 8.0571e-04 - val_mape: 3071.5618\n",
      "Epoch 22/100\n",
      "26215/26215 [==============================] - 37s 1ms/step - loss: 0.0185 - rmse: 0.0283 - mae: 0.0185 - mse: 8.0185e-04 - mape: 3924.3235 - val_loss: 0.0186 - val_rmse: 0.0281 - val_mae: 0.0186 - val_mse: 7.9045e-04 - val_mape: 7765.0703\n",
      "Epoch 23/100\n",
      "26215/26215 [==============================] - 38s 1ms/step - loss: 0.0185 - rmse: 0.0283 - mae: 0.0185 - mse: 8.0201e-04 - mape: 3852.4783 - val_loss: 0.0184 - val_rmse: 0.0286 - val_mae: 0.0184 - val_mse: 8.1844e-04 - val_mape: 3512.5647\n",
      "Epoch 24/100\n",
      "26215/26215 [==============================] - 37s 1ms/step - loss: 0.0185 - rmse: 0.0283 - mae: 0.0185 - mse: 8.0207e-04 - mape: 3849.6958 - val_loss: 0.0184 - val_rmse: 0.0282 - val_mae: 0.0184 - val_mse: 7.9369e-04 - val_mape: 6470.5225\n",
      "Epoch 25/100\n",
      "26215/26215 [==============================] - 37s 1ms/step - loss: 0.0184 - rmse: 0.0283 - mae: 0.0184 - mse: 8.0174e-04 - mape: 3781.3853 - val_loss: 0.0184 - val_rmse: 0.0280 - val_mae: 0.0184 - val_mse: 7.8510e-04 - val_mape: 5517.5928\n",
      "Epoch 26/100\n",
      "26215/26215 [==============================] - 37s 1ms/step - loss: 0.0184 - rmse: 0.0283 - mae: 0.0184 - mse: 8.0187e-04 - mape: 3744.8159 - val_loss: 0.0184 - val_rmse: 0.0284 - val_mae: 0.0184 - val_mse: 8.0582e-04 - val_mape: 3525.8054\n",
      "Epoch 27/100\n",
      "26215/26215 [==============================] - 37s 1ms/step - loss: 0.0184 - rmse: 0.0283 - mae: 0.0184 - mse: 8.0172e-04 - mape: 3814.3997 - val_loss: 0.0184 - val_rmse: 0.0281 - val_mae: 0.0184 - val_mse: 7.9225e-04 - val_mape: 5218.5884\n",
      "Epoch 28/100\n",
      "26215/26215 [==============================] - 37s 1ms/step - loss: 0.0184 - rmse: 0.0283 - mae: 0.0184 - mse: 8.0154e-04 - mape: 3871.5474 - val_loss: 0.0184 - val_rmse: 0.0285 - val_mae: 0.0184 - val_mse: 8.1355e-04 - val_mape: 3782.3135\n",
      "Epoch 29/100\n",
      "26215/26215 [==============================] - 37s 1ms/step - loss: 0.0184 - rmse: 0.0283 - mae: 0.0184 - mse: 8.0202e-04 - mape: 3773.8894 - val_loss: 0.0184 - val_rmse: 0.0280 - val_mae: 0.0184 - val_mse: 7.8341e-04 - val_mape: 5024.2354\n",
      "Epoch 30/100\n",
      "26215/26215 [==============================] - 37s 1ms/step - loss: 0.0184 - rmse: 0.0283 - mae: 0.0184 - mse: 8.0141e-04 - mape: 3751.9900 - val_loss: 0.0184 - val_rmse: 0.0283 - val_mae: 0.0184 - val_mse: 7.9847e-04 - val_mape: 4038.5137\n",
      "Epoch 31/100\n",
      "26215/26215 [==============================] - 37s 1ms/step - loss: 0.0184 - rmse: 0.0283 - mae: 0.0184 - mse: 8.0116e-04 - mape: 3694.2087 - val_loss: 0.0184 - val_rmse: 0.0284 - val_mae: 0.0184 - val_mse: 8.0921e-04 - val_mape: 3269.9773\n",
      "Epoch 32/100\n",
      "26215/26215 [==============================] - 37s 1ms/step - loss: 0.0184 - rmse: 0.0283 - mae: 0.0184 - mse: 8.0141e-04 - mape: 3695.1663 - val_loss: 0.0185 - val_rmse: 0.0281 - val_mae: 0.0185 - val_mse: 7.8986e-04 - val_mape: 6570.6689\n",
      "Epoch 33/100\n"
     ]
    },
    {
     "name": "stdout",
     "output_type": "stream",
     "text": [
      "26215/26215 [==============================] - 36s 1ms/step - loss: 0.0184 - rmse: 0.0283 - mae: 0.0184 - mse: 8.0175e-04 - mape: 3663.0730 - val_loss: 0.0184 - val_rmse: 0.0281 - val_mae: 0.0184 - val_mse: 7.9080e-04 - val_mape: 3151.4238\n",
      "Epoch 34/100\n",
      "26215/26215 [==============================] - 37s 1ms/step - loss: 0.0184 - rmse: 0.0283 - mae: 0.0184 - mse: 8.0037e-04 - mape: 3721.2737 - val_loss: 0.0184 - val_rmse: 0.0283 - val_mae: 0.0184 - val_mse: 8.0010e-04 - val_mape: 3406.9045\n",
      "Epoch 35/100\n",
      "26215/26215 [==============================] - 36s 1ms/step - loss: 0.0184 - rmse: 0.0283 - mae: 0.0184 - mse: 8.0124e-04 - mape: 3701.9324 - val_loss: 0.0184 - val_rmse: 0.0283 - val_mae: 0.0184 - val_mse: 8.0135e-04 - val_mape: 4400.5137\n",
      "Epoch 36/100\n",
      "26215/26215 [==============================] - 37s 1ms/step - loss: 0.0184 - rmse: 0.0283 - mae: 0.0184 - mse: 8.0111e-04 - mape: 3683.3223 - val_loss: 0.0184 - val_rmse: 0.0282 - val_mae: 0.0184 - val_mse: 7.9639e-04 - val_mape: 5758.9062\n",
      "Epoch 37/100\n",
      "26215/26215 [==============================] - 48s 2ms/step - loss: 0.0184 - rmse: 0.0283 - mae: 0.0184 - mse: 8.0100e-04 - mape: 3636.3120 - val_loss: 0.0184 - val_rmse: 0.0281 - val_mae: 0.0184 - val_mse: 7.8712e-04 - val_mape: 4019.7539\n",
      "Epoch 38/100\n",
      "26215/26215 [==============================] - 53s 2ms/step - loss: 0.0184 - rmse: 0.0283 - mae: 0.0184 - mse: 8.0164e-04 - mape: 3594.9729 - val_loss: 0.0184 - val_rmse: 0.0283 - val_mae: 0.0184 - val_mse: 8.0129e-04 - val_mape: 3191.2583\n",
      "Epoch 39/100\n",
      "26215/26215 [==============================] - 54s 2ms/step - loss: 0.0184 - rmse: 0.0283 - mae: 0.0184 - mse: 8.0100e-04 - mape: 3672.2849 - val_loss: 0.0185 - val_rmse: 0.0286 - val_mae: 0.0185 - val_mse: 8.1580e-04 - val_mape: 3083.7202\n",
      "Epoch 40/100\n",
      "26215/26215 [==============================] - 55s 2ms/step - loss: 0.0184 - rmse: 0.0283 - mae: 0.0184 - mse: 8.0104e-04 - mape: 3642.7747 - val_loss: 0.0184 - val_rmse: 0.0280 - val_mae: 0.0184 - val_mse: 7.8503e-04 - val_mape: 4677.8135\n",
      "Epoch 41/100\n",
      "26215/26215 [==============================] - 52s 2ms/step - loss: 0.0184 - rmse: 0.0283 - mae: 0.0184 - mse: 8.0072e-04 - mape: 3604.8030 - val_loss: 0.0184 - val_rmse: 0.0282 - val_mae: 0.0184 - val_mse: 7.9488e-04 - val_mape: 4559.5811\n",
      "Epoch 42/100\n",
      "26215/26215 [==============================] - 52s 2ms/step - loss: 0.0184 - rmse: 0.0283 - mae: 0.0184 - mse: 8.0130e-04 - mape: 3649.3049 - val_loss: 0.0183 - val_rmse: 0.0281 - val_mae: 0.0183 - val_mse: 7.9001e-04 - val_mape: 4150.7964\n",
      "Epoch 43/100\n",
      "26215/26215 [==============================] - 53s 2ms/step - loss: 0.0184 - rmse: 0.0283 - mae: 0.0184 - mse: 8.0071e-04 - mape: 3595.0293 - val_loss: 0.0184 - val_rmse: 0.0280 - val_mae: 0.0184 - val_mse: 7.8470e-04 - val_mape: 5244.1377\n",
      "Epoch 44/100\n",
      "26215/26215 [==============================] - 53s 2ms/step - loss: 0.0184 - rmse: 0.0283 - mae: 0.0184 - mse: 8.0030e-04 - mape: 3587.8955 - val_loss: 0.0184 - val_rmse: 0.0283 - val_mae: 0.0184 - val_mse: 8.0288e-04 - val_mape: 3658.6277\n",
      "Epoch 45/100\n",
      "26215/26215 [==============================] - 52s 2ms/step - loss: 0.0184 - rmse: 0.0283 - mae: 0.0184 - mse: 8.0121e-04 - mape: 3578.1392 - val_loss: 0.0184 - val_rmse: 0.0284 - val_mae: 0.0184 - val_mse: 8.0421e-04 - val_mape: 3487.8752\n",
      "Epoch 46/100\n",
      "26215/26215 [==============================] - 52s 2ms/step - loss: 0.0184 - rmse: 0.0283 - mae: 0.0184 - mse: 8.0079e-04 - mape: 3642.3010 - val_loss: 0.0184 - val_rmse: 0.0284 - val_mae: 0.0184 - val_mse: 8.0787e-04 - val_mape: 3064.2134\n",
      "Epoch 47/100\n",
      "26215/26215 [==============================] - 53s 2ms/step - loss: 0.0184 - rmse: 0.0283 - mae: 0.0184 - mse: 8.0051e-04 - mape: 3601.9304 - val_loss: 0.0184 - val_rmse: 0.0282 - val_mae: 0.0184 - val_mse: 7.9801e-04 - val_mape: 3984.2930\n",
      "Epoch 48/100\n",
      "26215/26215 [==============================] - 53s 2ms/step - loss: 0.0184 - rmse: 0.0283 - mae: 0.0184 - mse: 8.0065e-04 - mape: 3575.3005 - val_loss: 0.0184 - val_rmse: 0.0281 - val_mae: 0.0184 - val_mse: 7.8877e-04 - val_mape: 4061.4250\n",
      "Epoch 49/100\n",
      "26215/26215 [==============================] - 52s 2ms/step - loss: 0.0184 - rmse: 0.0283 - mae: 0.0184 - mse: 8.0013e-04 - mape: 3569.9631 - val_loss: 0.0184 - val_rmse: 0.0286 - val_mae: 0.0184 - val_mse: 8.1882e-04 - val_mape: 3163.4485\n",
      "Epoch 50/100\n",
      "26215/26215 [==============================] - 52s 2ms/step - loss: 0.0184 - rmse: 0.0283 - mae: 0.0184 - mse: 8.0054e-04 - mape: 3544.2737 - val_loss: 0.0183 - val_rmse: 0.0282 - val_mae: 0.0183 - val_mse: 7.9710e-04 - val_mape: 4068.4817\n",
      "Epoch 51/100\n",
      "26215/26215 [==============================] - 52s 2ms/step - loss: 0.0184 - rmse: 0.0283 - mae: 0.0184 - mse: 8.0082e-04 - mape: 3561.8271 - val_loss: 0.0184 - val_rmse: 0.0280 - val_mae: 0.0184 - val_mse: 7.8255e-04 - val_mape: 5444.9575\n",
      "Epoch 52/100\n",
      "26215/26215 [==============================] - 52s 2ms/step - loss: 0.0184 - rmse: 0.0283 - mae: 0.0184 - mse: 8.0042e-04 - mape: 3603.0088 - val_loss: 0.0184 - val_rmse: 0.0285 - val_mae: 0.0184 - val_mse: 8.1203e-04 - val_mape: 3233.9878\n",
      "Epoch 53/100\n",
      "26215/26215 [==============================] - 56s 2ms/step - loss: 0.0184 - rmse: 0.0283 - mae: 0.0184 - mse: 8.0030e-04 - mape: 3601.9487 - val_loss: 0.0185 - val_rmse: 0.0287 - val_mae: 0.0185 - val_mse: 8.2523e-04 - val_mape: 3299.2529\n",
      "Epoch 54/100\n",
      "26215/26215 [==============================] - 54s 2ms/step - loss: 0.0184 - rmse: 0.0283 - mae: 0.0184 - mse: 8.0015e-04 - mape: 3574.7407 - val_loss: 0.0184 - val_rmse: 0.0283 - val_mae: 0.0184 - val_mse: 7.9820e-04 - val_mape: 4689.4185\n",
      "Epoch 55/100\n",
      "26215/26215 [==============================] - 52s 2ms/step - loss: 0.0184 - rmse: 0.0283 - mae: 0.0184 - mse: 8.0060e-04 - mape: 3521.3774 - val_loss: 0.0184 - val_rmse: 0.0281 - val_mae: 0.0184 - val_mse: 7.8838e-04 - val_mape: 4461.2144\n",
      "Epoch 56/100\n",
      "26215/26215 [==============================] - 52s 2ms/step - loss: 0.0184 - rmse: 0.0283 - mae: 0.0184 - mse: 8.0008e-04 - mape: 3558.6819 - val_loss: 0.0184 - val_rmse: 0.0281 - val_mae: 0.0184 - val_mse: 7.9009e-04 - val_mape: 4564.2412\n",
      "Epoch 56: early stopping\n",
      "CPU times: total: 1h 3min 47s\n",
      "Wall time: 39min 38s\n"
     ]
    }
   ],
   "source": [
    "%%time\n",
    "model_12 = tf.keras.Sequential([tf.keras.layers.Conv1D(10,2,activation='relu',input_shape=(3,1)),\n",
    "                               tf.keras.layers.Conv1D(32,2,activation='linear'),\n",
    "                               tf.keras.layers.Flatten(),\n",
    "                               tf.keras.layers.Dense(5),\n",
    "                               tf.keras.layers.Dense(1,activation = 'linear')])\n",
    "\n",
    "model_12.compile(loss = tf.keras.losses.mae,\n",
    "                optimizer = tf.keras.optimizers.legacy.Adam(learning_rate=0.001,decay=0.0001),\n",
    "                metrics=[tf.keras.metrics.RootMeanSquaredError(name='rmse'),'mae','mse','mape'])\n",
    "\n",
    "history_12 = model_12.fit(X_train,Y_train,epochs=100,validation_data=(X_test,Y_test),callbacks = callback)"
   ]
  },
  {
   "cell_type": "code",
   "execution_count": 30,
   "id": "521aa0c0",
   "metadata": {},
   "outputs": [
    {
     "data": {
      "image/png": "[encoded data removed]",
      "text/plain": [
       "<Figure size 640x480 with 1 Axes>"
      ]
     },
     "metadata": {},
     "output_type": "display_data"
    }
   ],
   "source": [
    "plot_his(history_12)"
   ]
  },
  {
   "cell_type": "code",
   "execution_count": 31,
   "id": "19553201",
   "metadata": {},
   "outputs": [
    {
     "name": "stdout",
     "output_type": "stream",
     "text": [
      "6554/6554 [==============================] - 9s 1ms/step - loss: 0.0184 - rmse: 0.0281 - mae: 0.0184 - mse: 7.9009e-04 - mape: 4564.2412\n"
     ]
    },
    {
     "data": {
      "text/plain": [
       "[0.018362922593951225,\n",
       " 0.02810857445001602,\n",
       " 0.018362922593951225,\n",
       " 0.0007900919881649315,\n",
       " 4564.2412109375]"
      ]
     },
     "execution_count": 31,
     "metadata": {},
     "output_type": "execute_result"
    }
   ],
   "source": [
    "model_12.evaluate(X_test,Y_test)"
   ]
  },
  {
   "cell_type": "code",
   "execution_count": 32,
   "id": "726e708b",
   "metadata": {},
   "outputs": [
    {
     "name": "stdout",
     "output_type": "stream",
     "text": [
      "6554/6554 [==============================] - 7s 1ms/step\n"
     ]
    }
   ],
   "source": [
    "prediction_12 = model_12.predict(X_test)"
   ]
  },
  {
   "cell_type": "code",
   "execution_count": 33,
   "id": "493d9128",
   "metadata": {},
   "outputs": [
    {
     "name": "stdout",
     "output_type": "stream",
     "text": [
      "AIC:  344.82822\n"
     ]
    }
   ],
   "source": [
    "AIC_value(model_11,prediction_11,Y_test)"
   ]
  },
  {
   "cell_type": "code",
   "execution_count": 34,
   "id": "092d154b",
   "metadata": {},
   "outputs": [],
   "source": [
    "model_12.save('Saved_models/model_12_SOCesti.h5')"
   ]
  },
  {
   "cell_type": "code",
   "execution_count": null,
   "id": "31d7d8a6",
   "metadata": {},
   "outputs": [],
   "source": []
  },
  {
   "cell_type": "code",
   "execution_count": null,
   "id": "c8f7ef81",
   "metadata": {},
   "outputs": [],
   "source": []
  },
  {
   "cell_type": "code",
   "execution_count": null,
   "id": "9cce4161",
   "metadata": {},
   "outputs": [],
   "source": []
  },
  {
   "cell_type": "code",
   "execution_count": null,
   "id": "d190390d",
   "metadata": {},
   "outputs": [],
   "source": []
  },
  {
   "cell_type": "code",
   "execution_count": null,
   "id": "93e6bf5b",
   "metadata": {},
   "outputs": [],
   "source": []
  },
  {
   "cell_type": "code",
   "execution_count": null,
   "id": "6d211c54",
   "metadata": {},
   "outputs": [],
   "source": []
  },
  {
   "cell_type": "code",
   "execution_count": null,
   "id": "8a3a4f27",
   "metadata": {},
   "outputs": [],
   "source": []
  },
  {
   "cell_type": "code",
   "execution_count": null,
   "id": "e851c190",
   "metadata": {},
   "outputs": [],
   "source": []
  }
 ],
 "metadata": {
  "kernelspec": {
   "display_name": "Python 3 (ipykernel)",
   "language": "python",
   "name": "python3"
  },
  "language_info": {
   "codemirror_mode": {
    "name": "ipython",
    "version": 3
   },
   "file_extension": ".py",
   "mimetype": "text/x-python",
   "name": "python",
   "nbconvert_exporter": "python",
   "pygments_lexer": "ipython3",
   "version": "3.10.0"
  }
 },
 "nbformat": 4,
 "nbformat_minor": 5
}
