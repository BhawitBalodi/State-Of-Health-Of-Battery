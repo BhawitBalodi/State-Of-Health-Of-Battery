{
  "nbformat": 4,
  "nbformat_minor": 0,
  "metadata": {
    "colab": {
      "provenance": [],
      "toc_visible": true
    },
    "kernelspec": {
      "name": "python3",
      "display_name": "Python 3"
    },
    "language_info": {
      "name": "python"
    },
    "accelerator": "GPU",
    "gpuClass": "standard"
  },
  "cells": [
    {
      "cell_type": "markdown",
      "source": [
        "# Some Important Points: 🔋 \n",
        "\n",
        "\n",
        "1.   V(max) = 4.2 volt\n",
        "2.   V(min) = 2.8/2.7 Volt\n",
        "3.   Nominal Charge capacity = 2500 mA/2.5Ah \n",
        "4.   SOC = Normal Capacity at that point/Nominal capacity\n",
        "5.   Nominal Capacity - ammount of charged deliverd by fully charge batter, when it is fresh. OR **we can say Total capacity of battery.**\n",
        "6.   SOH = Maximum of SOC at one cycle.\n",
        "7.   we can find SOH by making set of loops in dataset and then find max(SOC).\n"
      ],
      "metadata": {
        "id": "9HNzs_7qHk2b"
      }
    },
    {
      "cell_type": "markdown",
      "source": [
        "# Models 📌\n",
        "\n",
        "\n",
        "1.   (DNN) Deep Neural Network \n",
        "2.   LSTM\n",
        "3.   CNN\n",
        "4.   GPR (Gaussian Progress Rregressor)\n",
        "5.   Genetic Algorithms\n",
        "6.   Support Vector Regressor\n",
        "7.   Random Forest\n",
        "\n"
      ],
      "metadata": {
        "id": "nwY59tqhFe2n"
      }
    },
    {
      "cell_type": "markdown",
      "source": [
        "# Model Partitioning"
      ],
      "metadata": {
        "id": "hWuUu2usHlzz"
      }
    },
    {
      "cell_type": "code",
      "source": [
        "import numpy as np\n",
        "import matplotlib.pyplot as plt\n",
        "import pandas as pd\n",
        "import seaborn as sns\n",
        "import tensorflow as tf\n",
        "from sklearn.model_selection import train_test_split\n",
        "import random\n",
        "from tensorflow.keras.callbacks import EarlyStopping"
      ],
      "metadata": {
        "id": "CzgWTYP5JAlm"
      },
      "execution_count": 39,
      "outputs": []
    },
    {
      "cell_type": "code",
      "source": [
        "# Reading the data\n",
        "df = pd.read_csv(\"trial1.csv\")\n",
        "df.head(5)"
      ],
      "metadata": {
        "colab": {
          "base_uri": "https://localhost:8080/",
          "height": 206
        },
        "id": "dhJKmtvhJjF4",
        "outputId": "ebcc1d72-218e-4e38-a9e2-aab3aca442c1"
      },
      "execution_count": 2,
      "outputs": [
        {
          "output_type": "execute_result",
          "data": {
            "text/plain": [
              "   Time/sec  Potential/V  Current/A  Charge/C  Capacity/Ah  \\\n",
              "0       0.4         3.54       1.25      0.00          0.0   \n",
              "1       1.0         3.54       1.25      0.95          0.0   \n",
              "2       2.0         3.54       1.25      2.28          0.0   \n",
              "3       3.0         3.55       1.25      3.46          0.0   \n",
              "4       4.0         3.55       1.25      4.64          0.0   \n",
              "\n",
              "   Nominal_Capacity/Ah  \n",
              "0                  2.5  \n",
              "1                  2.5  \n",
              "2                  2.5  \n",
              "3                  2.5  \n",
              "4                  2.5  "
            ],
            "text/html": [
              "\n",
              "  <div id=\"df-63dddc85-0098-4c33-b8c4-22902197dbb5\">\n",
              "    <div class=\"colab-df-container\">\n",
              "      <div>\n",
              "<style scoped>\n",
              "    .dataframe tbody tr th:only-of-type {\n",
              "        vertical-align: middle;\n",
              "    }\n",
              "\n",
              "    .dataframe tbody tr th {\n",
              "        vertical-align: top;\n",
              "    }\n",
              "\n",
              "    .dataframe thead th {\n",
              "        text-align: right;\n",
              "    }\n",
              "</style>\n",
              "<table border=\"1\" class=\"dataframe\">\n",
              "  <thead>\n",
              "    <tr style=\"text-align: right;\">\n",
              "      <th></th>\n",
              "      <th>Time/sec</th>\n",
              "      <th>Potential/V</th>\n",
              "      <th>Current/A</th>\n",
              "      <th>Charge/C</th>\n",
              "      <th>Capacity/Ah</th>\n",
              "      <th>Nominal_Capacity/Ah</th>\n",
              "    </tr>\n",
              "  </thead>\n",
              "  <tbody>\n",
              "    <tr>\n",
              "      <th>0</th>\n",
              "      <td>0.4</td>\n",
              "      <td>3.54</td>\n",
              "      <td>1.25</td>\n",
              "      <td>0.00</td>\n",
              "      <td>0.0</td>\n",
              "      <td>2.5</td>\n",
              "    </tr>\n",
              "    <tr>\n",
              "      <th>1</th>\n",
              "      <td>1.0</td>\n",
              "      <td>3.54</td>\n",
              "      <td>1.25</td>\n",
              "      <td>0.95</td>\n",
              "      <td>0.0</td>\n",
              "      <td>2.5</td>\n",
              "    </tr>\n",
              "    <tr>\n",
              "      <th>2</th>\n",
              "      <td>2.0</td>\n",
              "      <td>3.54</td>\n",
              "      <td>1.25</td>\n",
              "      <td>2.28</td>\n",
              "      <td>0.0</td>\n",
              "      <td>2.5</td>\n",
              "    </tr>\n",
              "    <tr>\n",
              "      <th>3</th>\n",
              "      <td>3.0</td>\n",
              "      <td>3.55</td>\n",
              "      <td>1.25</td>\n",
              "      <td>3.46</td>\n",
              "      <td>0.0</td>\n",
              "      <td>2.5</td>\n",
              "    </tr>\n",
              "    <tr>\n",
              "      <th>4</th>\n",
              "      <td>4.0</td>\n",
              "      <td>3.55</td>\n",
              "      <td>1.25</td>\n",
              "      <td>4.64</td>\n",
              "      <td>0.0</td>\n",
              "      <td>2.5</td>\n",
              "    </tr>\n",
              "  </tbody>\n",
              "</table>\n",
              "</div>\n",
              "      <button class=\"colab-df-convert\" onclick=\"convertToInteractive('df-63dddc85-0098-4c33-b8c4-22902197dbb5')\"\n",
              "              title=\"Convert this dataframe to an interactive table.\"\n",
              "              style=\"display:none;\">\n",
              "        \n",
              "  <svg xmlns=\"http://www.w3.org/2000/svg\" height=\"24px\"viewBox=\"0 0 24 24\"\n",
              "       width=\"24px\">\n",
              "    <path d=\"M0 0h24v24H0V0z\" fill=\"none\"/>\n",
              "    <path d=\"M18.56 5.44l.94 2.06.94-2.06 2.06-.94-2.06-.94-.94-2.06-.94 2.06-2.06.94zm-11 1L8.5 8.5l.94-2.06 2.06-.94-2.06-.94L8.5 2.5l-.94 2.06-2.06.94zm10 10l.94 2.06.94-2.06 2.06-.94-2.06-.94-.94-2.06-.94 2.06-2.06.94z\"/><path d=\"M17.41 7.96l-1.37-1.37c-.4-.4-.92-.59-1.43-.59-.52 0-1.04.2-1.43.59L10.3 9.45l-7.72 7.72c-.78.78-.78 2.05 0 2.83L4 21.41c.39.39.9.59 1.41.59.51 0 1.02-.2 1.41-.59l7.78-7.78 2.81-2.81c.8-.78.8-2.07 0-2.86zM5.41 20L4 18.59l7.72-7.72 1.47 1.35L5.41 20z\"/>\n",
              "  </svg>\n",
              "      </button>\n",
              "      \n",
              "  <style>\n",
              "    .colab-df-container {\n",
              "      display:flex;\n",
              "      flex-wrap:wrap;\n",
              "      gap: 12px;\n",
              "    }\n",
              "\n",
              "    .colab-df-convert {\n",
              "      background-color: #E8F0FE;\n",
              "      border: none;\n",
              "      border-radius: 50%;\n",
              "      cursor: pointer;\n",
              "      display: none;\n",
              "      fill: #1967D2;\n",
              "      height: 32px;\n",
              "      padding: 0 0 0 0;\n",
              "      width: 32px;\n",
              "    }\n",
              "\n",
              "    .colab-df-convert:hover {\n",
              "      background-color: #E2EBFA;\n",
              "      box-shadow: 0px 1px 2px rgba(60, 64, 67, 0.3), 0px 1px 3px 1px rgba(60, 64, 67, 0.15);\n",
              "      fill: #174EA6;\n",
              "    }\n",
              "\n",
              "    [theme=dark] .colab-df-convert {\n",
              "      background-color: #3B4455;\n",
              "      fill: #D2E3FC;\n",
              "    }\n",
              "\n",
              "    [theme=dark] .colab-df-convert:hover {\n",
              "      background-color: #434B5C;\n",
              "      box-shadow: 0px 1px 3px 1px rgba(0, 0, 0, 0.15);\n",
              "      filter: drop-shadow(0px 1px 2px rgba(0, 0, 0, 0.3));\n",
              "      fill: #FFFFFF;\n",
              "    }\n",
              "  </style>\n",
              "\n",
              "      <script>\n",
              "        const buttonEl =\n",
              "          document.querySelector('#df-63dddc85-0098-4c33-b8c4-22902197dbb5 button.colab-df-convert');\n",
              "        buttonEl.style.display =\n",
              "          google.colab.kernel.accessAllowed ? 'block' : 'none';\n",
              "\n",
              "        async function convertToInteractive(key) {\n",
              "          const element = document.querySelector('#df-63dddc85-0098-4c33-b8c4-22902197dbb5');\n",
              "          const dataTable =\n",
              "            await google.colab.kernel.invokeFunction('convertToInteractive',\n",
              "                                                     [key], {});\n",
              "          if (!dataTable) return;\n",
              "\n",
              "          const docLinkHtml = 'Like what you see? Visit the ' +\n",
              "            '<a target=\"_blank\" href=https://colab.research.google.com/notebooks/data_table.ipynb>data table notebook</a>'\n",
              "            + ' to learn more about interactive tables.';\n",
              "          element.innerHTML = '';\n",
              "          dataTable['output_type'] = 'display_data';\n",
              "          await google.colab.output.renderOutput(dataTable, element);\n",
              "          const docLink = document.createElement('div');\n",
              "          docLink.innerHTML = docLinkHtml;\n",
              "          element.appendChild(docLink);\n",
              "        }\n",
              "      </script>\n",
              "    </div>\n",
              "  </div>\n",
              "  "
            ]
          },
          "metadata": {},
          "execution_count": 2
        }
      ]
    },
    {
      "cell_type": "code",
      "source": [
        "df.rename(columns= {'Time/sec':'Time', 'Potential/V':'Potential', 'Current/A':'Current', 'Charge/C':'Charge',\n",
        "                    'Capacity/Ah':'Capacity', 'Nominal_Capacity/Ah':'Nominal_Capacity'},inplace=True)"
      ],
      "metadata": {
        "id": "HijDPYMNJqs2"
      },
      "execution_count": 3,
      "outputs": []
    },
    {
      "cell_type": "code",
      "source": [
        "df.insert(loc = 6,column ='Energy',value=df['Capacity']*df[\"Potential\"])"
      ],
      "metadata": {
        "id": "a7LcUWDdLDJc"
      },
      "execution_count": 4,
      "outputs": []
    },
    {
      "cell_type": "code",
      "source": [
        "df.insert(loc = 7,column ='Power',value=df['Current']*df[\"Potential\"])"
      ],
      "metadata": {
        "id": "Eb-yQQq7LDGw"
      },
      "execution_count": 5,
      "outputs": []
    },
    {
      "cell_type": "code",
      "source": [
        "df.insert(loc = 8,column ='SOC',value=df['Capacity']/df['Nominal_Capacity']) "
      ],
      "metadata": {
        "id": "WNSslidQLDEw"
      },
      "execution_count": 6,
      "outputs": []
    },
    {
      "cell_type": "code",
      "source": [
        "df.head()"
      ],
      "metadata": {
        "colab": {
          "base_uri": "https://localhost:8080/",
          "height": 206
        },
        "id": "YCgEibTFJqqG",
        "outputId": "902d56cb-b695-413c-a93a-32d0bd2ee09b"
      },
      "execution_count": 7,
      "outputs": [
        {
          "output_type": "execute_result",
          "data": {
            "text/plain": [
              "   Time  Potential  Current  Charge  Capacity  Nominal_Capacity  Energy  \\\n",
              "0   0.4       3.54     1.25    0.00       0.0               2.5     0.0   \n",
              "1   1.0       3.54     1.25    0.95       0.0               2.5     0.0   \n",
              "2   2.0       3.54     1.25    2.28       0.0               2.5     0.0   \n",
              "3   3.0       3.55     1.25    3.46       0.0               2.5     0.0   \n",
              "4   4.0       3.55     1.25    4.64       0.0               2.5     0.0   \n",
              "\n",
              "    Power  SOC  \n",
              "0  4.4250  0.0  \n",
              "1  4.4250  0.0  \n",
              "2  4.4250  0.0  \n",
              "3  4.4375  0.0  \n",
              "4  4.4375  0.0  "
            ],
            "text/html": [
              "\n",
              "  <div id=\"df-11934672-2e24-4992-9ce5-8e4c9b15d32e\">\n",
              "    <div class=\"colab-df-container\">\n",
              "      <div>\n",
              "<style scoped>\n",
              "    .dataframe tbody tr th:only-of-type {\n",
              "        vertical-align: middle;\n",
              "    }\n",
              "\n",
              "    .dataframe tbody tr th {\n",
              "        vertical-align: top;\n",
              "    }\n",
              "\n",
              "    .dataframe thead th {\n",
              "        text-align: right;\n",
              "    }\n",
              "</style>\n",
              "<table border=\"1\" class=\"dataframe\">\n",
              "  <thead>\n",
              "    <tr style=\"text-align: right;\">\n",
              "      <th></th>\n",
              "      <th>Time</th>\n",
              "      <th>Potential</th>\n",
              "      <th>Current</th>\n",
              "      <th>Charge</th>\n",
              "      <th>Capacity</th>\n",
              "      <th>Nominal_Capacity</th>\n",
              "      <th>Energy</th>\n",
              "      <th>Power</th>\n",
              "      <th>SOC</th>\n",
              "    </tr>\n",
              "  </thead>\n",
              "  <tbody>\n",
              "    <tr>\n",
              "      <th>0</th>\n",
              "      <td>0.4</td>\n",
              "      <td>3.54</td>\n",
              "      <td>1.25</td>\n",
              "      <td>0.00</td>\n",
              "      <td>0.0</td>\n",
              "      <td>2.5</td>\n",
              "      <td>0.0</td>\n",
              "      <td>4.4250</td>\n",
              "      <td>0.0</td>\n",
              "    </tr>\n",
              "    <tr>\n",
              "      <th>1</th>\n",
              "      <td>1.0</td>\n",
              "      <td>3.54</td>\n",
              "      <td>1.25</td>\n",
              "      <td>0.95</td>\n",
              "      <td>0.0</td>\n",
              "      <td>2.5</td>\n",
              "      <td>0.0</td>\n",
              "      <td>4.4250</td>\n",
              "      <td>0.0</td>\n",
              "    </tr>\n",
              "    <tr>\n",
              "      <th>2</th>\n",
              "      <td>2.0</td>\n",
              "      <td>3.54</td>\n",
              "      <td>1.25</td>\n",
              "      <td>2.28</td>\n",
              "      <td>0.0</td>\n",
              "      <td>2.5</td>\n",
              "      <td>0.0</td>\n",
              "      <td>4.4250</td>\n",
              "      <td>0.0</td>\n",
              "    </tr>\n",
              "    <tr>\n",
              "      <th>3</th>\n",
              "      <td>3.0</td>\n",
              "      <td>3.55</td>\n",
              "      <td>1.25</td>\n",
              "      <td>3.46</td>\n",
              "      <td>0.0</td>\n",
              "      <td>2.5</td>\n",
              "      <td>0.0</td>\n",
              "      <td>4.4375</td>\n",
              "      <td>0.0</td>\n",
              "    </tr>\n",
              "    <tr>\n",
              "      <th>4</th>\n",
              "      <td>4.0</td>\n",
              "      <td>3.55</td>\n",
              "      <td>1.25</td>\n",
              "      <td>4.64</td>\n",
              "      <td>0.0</td>\n",
              "      <td>2.5</td>\n",
              "      <td>0.0</td>\n",
              "      <td>4.4375</td>\n",
              "      <td>0.0</td>\n",
              "    </tr>\n",
              "  </tbody>\n",
              "</table>\n",
              "</div>\n",
              "      <button class=\"colab-df-convert\" onclick=\"convertToInteractive('df-11934672-2e24-4992-9ce5-8e4c9b15d32e')\"\n",
              "              title=\"Convert this dataframe to an interactive table.\"\n",
              "              style=\"display:none;\">\n",
              "        \n",
              "  <svg xmlns=\"http://www.w3.org/2000/svg\" height=\"24px\"viewBox=\"0 0 24 24\"\n",
              "       width=\"24px\">\n",
              "    <path d=\"M0 0h24v24H0V0z\" fill=\"none\"/>\n",
              "    <path d=\"M18.56 5.44l.94 2.06.94-2.06 2.06-.94-2.06-.94-.94-2.06-.94 2.06-2.06.94zm-11 1L8.5 8.5l.94-2.06 2.06-.94-2.06-.94L8.5 2.5l-.94 2.06-2.06.94zm10 10l.94 2.06.94-2.06 2.06-.94-2.06-.94-.94-2.06-.94 2.06-2.06.94z\"/><path d=\"M17.41 7.96l-1.37-1.37c-.4-.4-.92-.59-1.43-.59-.52 0-1.04.2-1.43.59L10.3 9.45l-7.72 7.72c-.78.78-.78 2.05 0 2.83L4 21.41c.39.39.9.59 1.41.59.51 0 1.02-.2 1.41-.59l7.78-7.78 2.81-2.81c.8-.78.8-2.07 0-2.86zM5.41 20L4 18.59l7.72-7.72 1.47 1.35L5.41 20z\"/>\n",
              "  </svg>\n",
              "      </button>\n",
              "      \n",
              "  <style>\n",
              "    .colab-df-container {\n",
              "      display:flex;\n",
              "      flex-wrap:wrap;\n",
              "      gap: 12px;\n",
              "    }\n",
              "\n",
              "    .colab-df-convert {\n",
              "      background-color: #E8F0FE;\n",
              "      border: none;\n",
              "      border-radius: 50%;\n",
              "      cursor: pointer;\n",
              "      display: none;\n",
              "      fill: #1967D2;\n",
              "      height: 32px;\n",
              "      padding: 0 0 0 0;\n",
              "      width: 32px;\n",
              "    }\n",
              "\n",
              "    .colab-df-convert:hover {\n",
              "      background-color: #E2EBFA;\n",
              "      box-shadow: 0px 1px 2px rgba(60, 64, 67, 0.3), 0px 1px 3px 1px rgba(60, 64, 67, 0.15);\n",
              "      fill: #174EA6;\n",
              "    }\n",
              "\n",
              "    [theme=dark] .colab-df-convert {\n",
              "      background-color: #3B4455;\n",
              "      fill: #D2E3FC;\n",
              "    }\n",
              "\n",
              "    [theme=dark] .colab-df-convert:hover {\n",
              "      background-color: #434B5C;\n",
              "      box-shadow: 0px 1px 3px 1px rgba(0, 0, 0, 0.15);\n",
              "      filter: drop-shadow(0px 1px 2px rgba(0, 0, 0, 0.3));\n",
              "      fill: #FFFFFF;\n",
              "    }\n",
              "  </style>\n",
              "\n",
              "      <script>\n",
              "        const buttonEl =\n",
              "          document.querySelector('#df-11934672-2e24-4992-9ce5-8e4c9b15d32e button.colab-df-convert');\n",
              "        buttonEl.style.display =\n",
              "          google.colab.kernel.accessAllowed ? 'block' : 'none';\n",
              "\n",
              "        async function convertToInteractive(key) {\n",
              "          const element = document.querySelector('#df-11934672-2e24-4992-9ce5-8e4c9b15d32e');\n",
              "          const dataTable =\n",
              "            await google.colab.kernel.invokeFunction('convertToInteractive',\n",
              "                                                     [key], {});\n",
              "          if (!dataTable) return;\n",
              "\n",
              "          const docLinkHtml = 'Like what you see? Visit the ' +\n",
              "            '<a target=\"_blank\" href=https://colab.research.google.com/notebooks/data_table.ipynb>data table notebook</a>'\n",
              "            + ' to learn more about interactive tables.';\n",
              "          element.innerHTML = '';\n",
              "          dataTable['output_type'] = 'display_data';\n",
              "          await google.colab.output.renderOutput(dataTable, element);\n",
              "          const docLink = document.createElement('div');\n",
              "          docLink.innerHTML = docLinkHtml;\n",
              "          element.appendChild(docLink);\n",
              "        }\n",
              "      </script>\n",
              "    </div>\n",
              "  </div>\n",
              "  "
            ]
          },
          "metadata": {},
          "execution_count": 7
        }
      ]
    },
    {
      "cell_type": "code",
      "source": [
        "df.info()"
      ],
      "metadata": {
        "colab": {
          "base_uri": "https://localhost:8080/"
        },
        "id": "ukAoVByUJql9",
        "outputId": "d89d1998-0be5-4714-dfe1-56e00a4dc5d5"
      },
      "execution_count": 8,
      "outputs": [
        {
          "output_type": "stream",
          "name": "stdout",
          "text": [
            "<class 'pandas.core.frame.DataFrame'>\n",
            "RangeIndex: 242885 entries, 0 to 242884\n",
            "Data columns (total 9 columns):\n",
            " #   Column            Non-Null Count   Dtype  \n",
            "---  ------            --------------   -----  \n",
            " 0   Time              242885 non-null  float64\n",
            " 1   Potential         242885 non-null  float64\n",
            " 2   Current           242885 non-null  float64\n",
            " 3   Charge            242885 non-null  float64\n",
            " 4   Capacity          242885 non-null  float64\n",
            " 5   Nominal_Capacity  242885 non-null  float64\n",
            " 6   Energy            242885 non-null  float64\n",
            " 7   Power             242885 non-null  float64\n",
            " 8   SOC               242885 non-null  float64\n",
            "dtypes: float64(9)\n",
            "memory usage: 16.7 MB\n"
          ]
        }
      ]
    },
    {
      "cell_type": "code",
      "source": [
        "df.isnull().count()"
      ],
      "metadata": {
        "colab": {
          "base_uri": "https://localhost:8080/"
        },
        "id": "2UCCeg94Jqjq",
        "outputId": "4f5ae8cc-94b0-4b6d-8d3b-6bb3ff402e6c"
      },
      "execution_count": 9,
      "outputs": [
        {
          "output_type": "execute_result",
          "data": {
            "text/plain": [
              "Time                242885\n",
              "Potential           242885\n",
              "Current             242885\n",
              "Charge              242885\n",
              "Capacity            242885\n",
              "Nominal_Capacity    242885\n",
              "Energy              242885\n",
              "Power               242885\n",
              "SOC                 242885\n",
              "dtype: int64"
            ]
          },
          "metadata": {},
          "execution_count": 9
        }
      ]
    },
    {
      "cell_type": "code",
      "source": [
        "df.describe()"
      ],
      "metadata": {
        "colab": {
          "base_uri": "https://localhost:8080/",
          "height": 344
        },
        "id": "O6dnc9ufJqhd",
        "outputId": "2321d9e8-1aae-4bd0-fbbe-338ccebec01a"
      },
      "execution_count": 10,
      "outputs": [
        {
          "output_type": "execute_result",
          "data": {
            "text/plain": [
              "                Time      Potential        Current         Charge  \\\n",
              "count  242885.000000  242885.000000  242885.000000  242885.000000   \n",
              "mean   124950.840426       3.839404       0.034547    5083.012369   \n",
              "std     72231.050997       0.385144       1.234725    3185.178306   \n",
              "min         0.400000       2.750000      -2.500000       0.000000   \n",
              "25%     62490.800000       3.440000       0.000000    1920.000000   \n",
              "50%    124983.000000       3.940000       0.080000    5790.000000   \n",
              "75%    187475.100000       4.200000       1.250000    8280.000000   \n",
              "max    249967.200000       4.200000       1.260000    8680.000000   \n",
              "\n",
              "            Capacity  Nominal_Capacity         Energy          Power  \\\n",
              "count  242885.000000          242885.0  242885.000000  242885.000000   \n",
              "mean        1.412284               2.5       5.702908       0.394564   \n",
              "std         0.884470               0.0       3.763641       4.354979   \n",
              "min         0.000000               2.5       0.000000      -9.650000   \n",
              "25%         0.530000               2.5       1.895000       0.000000   \n",
              "50%         1.610000               2.5       6.181200       0.336000   \n",
              "75%         2.300000               2.5       9.660000       4.662500   \n",
              "max         2.410000               2.5      10.122000       5.292000   \n",
              "\n",
              "                 SOC  \n",
              "count  242885.000000  \n",
              "mean        0.564913  \n",
              "std         0.353788  \n",
              "min         0.000000  \n",
              "25%         0.212000  \n",
              "50%         0.644000  \n",
              "75%         0.920000  \n",
              "max         0.964000  "
            ],
            "text/html": [
              "\n",
              "  <div id=\"df-4ae0be62-b33c-4467-94af-d66c32c63ab9\">\n",
              "    <div class=\"colab-df-container\">\n",
              "      <div>\n",
              "<style scoped>\n",
              "    .dataframe tbody tr th:only-of-type {\n",
              "        vertical-align: middle;\n",
              "    }\n",
              "\n",
              "    .dataframe tbody tr th {\n",
              "        vertical-align: top;\n",
              "    }\n",
              "\n",
              "    .dataframe thead th {\n",
              "        text-align: right;\n",
              "    }\n",
              "</style>\n",
              "<table border=\"1\" class=\"dataframe\">\n",
              "  <thead>\n",
              "    <tr style=\"text-align: right;\">\n",
              "      <th></th>\n",
              "      <th>Time</th>\n",
              "      <th>Potential</th>\n",
              "      <th>Current</th>\n",
              "      <th>Charge</th>\n",
              "      <th>Capacity</th>\n",
              "      <th>Nominal_Capacity</th>\n",
              "      <th>Energy</th>\n",
              "      <th>Power</th>\n",
              "      <th>SOC</th>\n",
              "    </tr>\n",
              "  </thead>\n",
              "  <tbody>\n",
              "    <tr>\n",
              "      <th>count</th>\n",
              "      <td>242885.000000</td>\n",
              "      <td>242885.000000</td>\n",
              "      <td>242885.000000</td>\n",
              "      <td>242885.000000</td>\n",
              "      <td>242885.000000</td>\n",
              "      <td>242885.0</td>\n",
              "      <td>242885.000000</td>\n",
              "      <td>242885.000000</td>\n",
              "      <td>242885.000000</td>\n",
              "    </tr>\n",
              "    <tr>\n",
              "      <th>mean</th>\n",
              "      <td>124950.840426</td>\n",
              "      <td>3.839404</td>\n",
              "      <td>0.034547</td>\n",
              "      <td>5083.012369</td>\n",
              "      <td>1.412284</td>\n",
              "      <td>2.5</td>\n",
              "      <td>5.702908</td>\n",
              "      <td>0.394564</td>\n",
              "      <td>0.564913</td>\n",
              "    </tr>\n",
              "    <tr>\n",
              "      <th>std</th>\n",
              "      <td>72231.050997</td>\n",
              "      <td>0.385144</td>\n",
              "      <td>1.234725</td>\n",
              "      <td>3185.178306</td>\n",
              "      <td>0.884470</td>\n",
              "      <td>0.0</td>\n",
              "      <td>3.763641</td>\n",
              "      <td>4.354979</td>\n",
              "      <td>0.353788</td>\n",
              "    </tr>\n",
              "    <tr>\n",
              "      <th>min</th>\n",
              "      <td>0.400000</td>\n",
              "      <td>2.750000</td>\n",
              "      <td>-2.500000</td>\n",
              "      <td>0.000000</td>\n",
              "      <td>0.000000</td>\n",
              "      <td>2.5</td>\n",
              "      <td>0.000000</td>\n",
              "      <td>-9.650000</td>\n",
              "      <td>0.000000</td>\n",
              "    </tr>\n",
              "    <tr>\n",
              "      <th>25%</th>\n",
              "      <td>62490.800000</td>\n",
              "      <td>3.440000</td>\n",
              "      <td>0.000000</td>\n",
              "      <td>1920.000000</td>\n",
              "      <td>0.530000</td>\n",
              "      <td>2.5</td>\n",
              "      <td>1.895000</td>\n",
              "      <td>0.000000</td>\n",
              "      <td>0.212000</td>\n",
              "    </tr>\n",
              "    <tr>\n",
              "      <th>50%</th>\n",
              "      <td>124983.000000</td>\n",
              "      <td>3.940000</td>\n",
              "      <td>0.080000</td>\n",
              "      <td>5790.000000</td>\n",
              "      <td>1.610000</td>\n",
              "      <td>2.5</td>\n",
              "      <td>6.181200</td>\n",
              "      <td>0.336000</td>\n",
              "      <td>0.644000</td>\n",
              "    </tr>\n",
              "    <tr>\n",
              "      <th>75%</th>\n",
              "      <td>187475.100000</td>\n",
              "      <td>4.200000</td>\n",
              "      <td>1.250000</td>\n",
              "      <td>8280.000000</td>\n",
              "      <td>2.300000</td>\n",
              "      <td>2.5</td>\n",
              "      <td>9.660000</td>\n",
              "      <td>4.662500</td>\n",
              "      <td>0.920000</td>\n",
              "    </tr>\n",
              "    <tr>\n",
              "      <th>max</th>\n",
              "      <td>249967.200000</td>\n",
              "      <td>4.200000</td>\n",
              "      <td>1.260000</td>\n",
              "      <td>8680.000000</td>\n",
              "      <td>2.410000</td>\n",
              "      <td>2.5</td>\n",
              "      <td>10.122000</td>\n",
              "      <td>5.292000</td>\n",
              "      <td>0.964000</td>\n",
              "    </tr>\n",
              "  </tbody>\n",
              "</table>\n",
              "</div>\n",
              "      <button class=\"colab-df-convert\" onclick=\"convertToInteractive('df-4ae0be62-b33c-4467-94af-d66c32c63ab9')\"\n",
              "              title=\"Convert this dataframe to an interactive table.\"\n",
              "              style=\"display:none;\">\n",
              "        \n",
              "  <svg xmlns=\"http://www.w3.org/2000/svg\" height=\"24px\"viewBox=\"0 0 24 24\"\n",
              "       width=\"24px\">\n",
              "    <path d=\"M0 0h24v24H0V0z\" fill=\"none\"/>\n",
              "    <path d=\"M18.56 5.44l.94 2.06.94-2.06 2.06-.94-2.06-.94-.94-2.06-.94 2.06-2.06.94zm-11 1L8.5 8.5l.94-2.06 2.06-.94-2.06-.94L8.5 2.5l-.94 2.06-2.06.94zm10 10l.94 2.06.94-2.06 2.06-.94-2.06-.94-.94-2.06-.94 2.06-2.06.94z\"/><path d=\"M17.41 7.96l-1.37-1.37c-.4-.4-.92-.59-1.43-.59-.52 0-1.04.2-1.43.59L10.3 9.45l-7.72 7.72c-.78.78-.78 2.05 0 2.83L4 21.41c.39.39.9.59 1.41.59.51 0 1.02-.2 1.41-.59l7.78-7.78 2.81-2.81c.8-.78.8-2.07 0-2.86zM5.41 20L4 18.59l7.72-7.72 1.47 1.35L5.41 20z\"/>\n",
              "  </svg>\n",
              "      </button>\n",
              "      \n",
              "  <style>\n",
              "    .colab-df-container {\n",
              "      display:flex;\n",
              "      flex-wrap:wrap;\n",
              "      gap: 12px;\n",
              "    }\n",
              "\n",
              "    .colab-df-convert {\n",
              "      background-color: #E8F0FE;\n",
              "      border: none;\n",
              "      border-radius: 50%;\n",
              "      cursor: pointer;\n",
              "      display: none;\n",
              "      fill: #1967D2;\n",
              "      height: 32px;\n",
              "      padding: 0 0 0 0;\n",
              "      width: 32px;\n",
              "    }\n",
              "\n",
              "    .colab-df-convert:hover {\n",
              "      background-color: #E2EBFA;\n",
              "      box-shadow: 0px 1px 2px rgba(60, 64, 67, 0.3), 0px 1px 3px 1px rgba(60, 64, 67, 0.15);\n",
              "      fill: #174EA6;\n",
              "    }\n",
              "\n",
              "    [theme=dark] .colab-df-convert {\n",
              "      background-color: #3B4455;\n",
              "      fill: #D2E3FC;\n",
              "    }\n",
              "\n",
              "    [theme=dark] .colab-df-convert:hover {\n",
              "      background-color: #434B5C;\n",
              "      box-shadow: 0px 1px 3px 1px rgba(0, 0, 0, 0.15);\n",
              "      filter: drop-shadow(0px 1px 2px rgba(0, 0, 0, 0.3));\n",
              "      fill: #FFFFFF;\n",
              "    }\n",
              "  </style>\n",
              "\n",
              "      <script>\n",
              "        const buttonEl =\n",
              "          document.querySelector('#df-4ae0be62-b33c-4467-94af-d66c32c63ab9 button.colab-df-convert');\n",
              "        buttonEl.style.display =\n",
              "          google.colab.kernel.accessAllowed ? 'block' : 'none';\n",
              "\n",
              "        async function convertToInteractive(key) {\n",
              "          const element = document.querySelector('#df-4ae0be62-b33c-4467-94af-d66c32c63ab9');\n",
              "          const dataTable =\n",
              "            await google.colab.kernel.invokeFunction('convertToInteractive',\n",
              "                                                     [key], {});\n",
              "          if (!dataTable) return;\n",
              "\n",
              "          const docLinkHtml = 'Like what you see? Visit the ' +\n",
              "            '<a target=\"_blank\" href=https://colab.research.google.com/notebooks/data_table.ipynb>data table notebook</a>'\n",
              "            + ' to learn more about interactive tables.';\n",
              "          element.innerHTML = '';\n",
              "          dataTable['output_type'] = 'display_data';\n",
              "          await google.colab.output.renderOutput(dataTable, element);\n",
              "          const docLink = document.createElement('div');\n",
              "          docLink.innerHTML = docLinkHtml;\n",
              "          element.appendChild(docLink);\n",
              "        }\n",
              "      </script>\n",
              "    </div>\n",
              "  </div>\n",
              "  "
            ]
          },
          "metadata": {},
          "execution_count": 10
        }
      ]
    },
    {
      "cell_type": "markdown",
      "source": [
        "# Normalizing the Values "
      ],
      "metadata": {
        "id": "CSloqdvOOCZJ"
      }
    },
    {
      "cell_type": "code",
      "source": [
        "callback = EarlyStopping(\n",
        "    monitor = 'val_loss' ,\n",
        "    min_delta = 0.00001,\n",
        "    patience = 10,\n",
        "    verbose = 1,\n",
        "    mode = 'auto',\n",
        "    baseline = None,\n",
        "    restore_best_weights = False\n",
        ")"
      ],
      "metadata": {
        "id": "bZtFt8pLycZp"
      },
      "execution_count": 43,
      "outputs": []
    },
    {
      "cell_type": "code",
      "source": [
        "from sklearn import preprocessing\n",
        "from sklearn.preprocessing import MinMaxScaler\n",
        "scaler = MinMaxScaler()\n",
        "\n",
        "numericals = ['Time','Potential','Current','Charge','Capacity','Nominal_Capacity','Energy','Power'] # Not Normalizing the Y(target Variable) - which is SOC\n",
        "df[numericals] = scaler.fit_transform(df[numericals])"
      ],
      "metadata": {
        "id": "9xKLVqeIJqfQ"
      },
      "execution_count": 11,
      "outputs": []
    },
    {
      "cell_type": "code",
      "source": [
        "df.head()"
      ],
      "metadata": {
        "colab": {
          "base_uri": "https://localhost:8080/",
          "height": 206
        },
        "id": "Ozv64Ji2JqdG",
        "outputId": "8efd1a0f-c326-428f-872c-e0de5aaff1b4"
      },
      "execution_count": 12,
      "outputs": [
        {
          "output_type": "execute_result",
          "data": {
            "text/plain": [
              "       Time  Potential  Current    Charge  Capacity  Nominal_Capacity  Energy  \\\n",
              "0  0.000000   0.544828  0.99734  0.000000       0.0               0.0     0.0   \n",
              "1  0.000002   0.544828  0.99734  0.000109       0.0               0.0     0.0   \n",
              "2  0.000006   0.544828  0.99734  0.000263       0.0               0.0     0.0   \n",
              "3  0.000010   0.551724  0.99734  0.000399       0.0               0.0     0.0   \n",
              "4  0.000014   0.551724  0.99734  0.000535       0.0               0.0     0.0   \n",
              "\n",
              "      Power  SOC  \n",
              "0  0.941976  0.0  \n",
              "1  0.941976  0.0  \n",
              "2  0.941976  0.0  \n",
              "3  0.942812  0.0  \n",
              "4  0.942812  0.0  "
            ],
            "text/html": [
              "\n",
              "  <div id=\"df-a02febca-d8bf-4585-b14d-08973bbd2b82\">\n",
              "    <div class=\"colab-df-container\">\n",
              "      <div>\n",
              "<style scoped>\n",
              "    .dataframe tbody tr th:only-of-type {\n",
              "        vertical-align: middle;\n",
              "    }\n",
              "\n",
              "    .dataframe tbody tr th {\n",
              "        vertical-align: top;\n",
              "    }\n",
              "\n",
              "    .dataframe thead th {\n",
              "        text-align: right;\n",
              "    }\n",
              "</style>\n",
              "<table border=\"1\" class=\"dataframe\">\n",
              "  <thead>\n",
              "    <tr style=\"text-align: right;\">\n",
              "      <th></th>\n",
              "      <th>Time</th>\n",
              "      <th>Potential</th>\n",
              "      <th>Current</th>\n",
              "      <th>Charge</th>\n",
              "      <th>Capacity</th>\n",
              "      <th>Nominal_Capacity</th>\n",
              "      <th>Energy</th>\n",
              "      <th>Power</th>\n",
              "      <th>SOC</th>\n",
              "    </tr>\n",
              "  </thead>\n",
              "  <tbody>\n",
              "    <tr>\n",
              "      <th>0</th>\n",
              "      <td>0.000000</td>\n",
              "      <td>0.544828</td>\n",
              "      <td>0.99734</td>\n",
              "      <td>0.000000</td>\n",
              "      <td>0.0</td>\n",
              "      <td>0.0</td>\n",
              "      <td>0.0</td>\n",
              "      <td>0.941976</td>\n",
              "      <td>0.0</td>\n",
              "    </tr>\n",
              "    <tr>\n",
              "      <th>1</th>\n",
              "      <td>0.000002</td>\n",
              "      <td>0.544828</td>\n",
              "      <td>0.99734</td>\n",
              "      <td>0.000109</td>\n",
              "      <td>0.0</td>\n",
              "      <td>0.0</td>\n",
              "      <td>0.0</td>\n",
              "      <td>0.941976</td>\n",
              "      <td>0.0</td>\n",
              "    </tr>\n",
              "    <tr>\n",
              "      <th>2</th>\n",
              "      <td>0.000006</td>\n",
              "      <td>0.544828</td>\n",
              "      <td>0.99734</td>\n",
              "      <td>0.000263</td>\n",
              "      <td>0.0</td>\n",
              "      <td>0.0</td>\n",
              "      <td>0.0</td>\n",
              "      <td>0.941976</td>\n",
              "      <td>0.0</td>\n",
              "    </tr>\n",
              "    <tr>\n",
              "      <th>3</th>\n",
              "      <td>0.000010</td>\n",
              "      <td>0.551724</td>\n",
              "      <td>0.99734</td>\n",
              "      <td>0.000399</td>\n",
              "      <td>0.0</td>\n",
              "      <td>0.0</td>\n",
              "      <td>0.0</td>\n",
              "      <td>0.942812</td>\n",
              "      <td>0.0</td>\n",
              "    </tr>\n",
              "    <tr>\n",
              "      <th>4</th>\n",
              "      <td>0.000014</td>\n",
              "      <td>0.551724</td>\n",
              "      <td>0.99734</td>\n",
              "      <td>0.000535</td>\n",
              "      <td>0.0</td>\n",
              "      <td>0.0</td>\n",
              "      <td>0.0</td>\n",
              "      <td>0.942812</td>\n",
              "      <td>0.0</td>\n",
              "    </tr>\n",
              "  </tbody>\n",
              "</table>\n",
              "</div>\n",
              "      <button class=\"colab-df-convert\" onclick=\"convertToInteractive('df-a02febca-d8bf-4585-b14d-08973bbd2b82')\"\n",
              "              title=\"Convert this dataframe to an interactive table.\"\n",
              "              style=\"display:none;\">\n",
              "        \n",
              "  <svg xmlns=\"http://www.w3.org/2000/svg\" height=\"24px\"viewBox=\"0 0 24 24\"\n",
              "       width=\"24px\">\n",
              "    <path d=\"M0 0h24v24H0V0z\" fill=\"none\"/>\n",
              "    <path d=\"M18.56 5.44l.94 2.06.94-2.06 2.06-.94-2.06-.94-.94-2.06-.94 2.06-2.06.94zm-11 1L8.5 8.5l.94-2.06 2.06-.94-2.06-.94L8.5 2.5l-.94 2.06-2.06.94zm10 10l.94 2.06.94-2.06 2.06-.94-2.06-.94-.94-2.06-.94 2.06-2.06.94z\"/><path d=\"M17.41 7.96l-1.37-1.37c-.4-.4-.92-.59-1.43-.59-.52 0-1.04.2-1.43.59L10.3 9.45l-7.72 7.72c-.78.78-.78 2.05 0 2.83L4 21.41c.39.39.9.59 1.41.59.51 0 1.02-.2 1.41-.59l7.78-7.78 2.81-2.81c.8-.78.8-2.07 0-2.86zM5.41 20L4 18.59l7.72-7.72 1.47 1.35L5.41 20z\"/>\n",
              "  </svg>\n",
              "      </button>\n",
              "      \n",
              "  <style>\n",
              "    .colab-df-container {\n",
              "      display:flex;\n",
              "      flex-wrap:wrap;\n",
              "      gap: 12px;\n",
              "    }\n",
              "\n",
              "    .colab-df-convert {\n",
              "      background-color: #E8F0FE;\n",
              "      border: none;\n",
              "      border-radius: 50%;\n",
              "      cursor: pointer;\n",
              "      display: none;\n",
              "      fill: #1967D2;\n",
              "      height: 32px;\n",
              "      padding: 0 0 0 0;\n",
              "      width: 32px;\n",
              "    }\n",
              "\n",
              "    .colab-df-convert:hover {\n",
              "      background-color: #E2EBFA;\n",
              "      box-shadow: 0px 1px 2px rgba(60, 64, 67, 0.3), 0px 1px 3px 1px rgba(60, 64, 67, 0.15);\n",
              "      fill: #174EA6;\n",
              "    }\n",
              "\n",
              "    [theme=dark] .colab-df-convert {\n",
              "      background-color: #3B4455;\n",
              "      fill: #D2E3FC;\n",
              "    }\n",
              "\n",
              "    [theme=dark] .colab-df-convert:hover {\n",
              "      background-color: #434B5C;\n",
              "      box-shadow: 0px 1px 3px 1px rgba(0, 0, 0, 0.15);\n",
              "      filter: drop-shadow(0px 1px 2px rgba(0, 0, 0, 0.3));\n",
              "      fill: #FFFFFF;\n",
              "    }\n",
              "  </style>\n",
              "\n",
              "      <script>\n",
              "        const buttonEl =\n",
              "          document.querySelector('#df-a02febca-d8bf-4585-b14d-08973bbd2b82 button.colab-df-convert');\n",
              "        buttonEl.style.display =\n",
              "          google.colab.kernel.accessAllowed ? 'block' : 'none';\n",
              "\n",
              "        async function convertToInteractive(key) {\n",
              "          const element = document.querySelector('#df-a02febca-d8bf-4585-b14d-08973bbd2b82');\n",
              "          const dataTable =\n",
              "            await google.colab.kernel.invokeFunction('convertToInteractive',\n",
              "                                                     [key], {});\n",
              "          if (!dataTable) return;\n",
              "\n",
              "          const docLinkHtml = 'Like what you see? Visit the ' +\n",
              "            '<a target=\"_blank\" href=https://colab.research.google.com/notebooks/data_table.ipynb>data table notebook</a>'\n",
              "            + ' to learn more about interactive tables.';\n",
              "          element.innerHTML = '';\n",
              "          dataTable['output_type'] = 'display_data';\n",
              "          await google.colab.output.renderOutput(dataTable, element);\n",
              "          const docLink = document.createElement('div');\n",
              "          docLink.innerHTML = docLinkHtml;\n",
              "          element.appendChild(docLink);\n",
              "        }\n",
              "      </script>\n",
              "    </div>\n",
              "  </div>\n",
              "  "
            ]
          },
          "metadata": {},
          "execution_count": 12
        }
      ]
    },
    {
      "cell_type": "code",
      "source": [
        "df.describe()"
      ],
      "metadata": {
        "id": "RauxvdfWQYtn",
        "outputId": "a7922bf6-9532-4964-fde4-cd16edb2bf4c",
        "colab": {
          "base_uri": "https://localhost:8080/",
          "height": 344
        }
      },
      "execution_count": 13,
      "outputs": [
        {
          "output_type": "execute_result",
          "data": {
            "text/plain": [
              "                Time      Potential        Current         Charge  \\\n",
              "count  242885.000000  242885.000000  242885.000000  242885.000000   \n",
              "mean        0.499868       0.751313       0.674082       0.585601   \n",
              "std         0.288963       0.265617       0.328384       0.366956   \n",
              "min         0.000000       0.000000       0.000000       0.000000   \n",
              "25%         0.249995       0.475862       0.664894       0.221198   \n",
              "50%         0.499997       0.820690       0.686170       0.667051   \n",
              "75%         0.749998       1.000000       0.997340       0.953917   \n",
              "max         1.000000       1.000000       1.000000       1.000000   \n",
              "\n",
              "            Capacity  Nominal_Capacity         Energy          Power  \\\n",
              "count  242885.000000          242885.0  242885.000000  242885.000000   \n",
              "mean        0.586010               0.0       0.563417       0.672237   \n",
              "std         0.367000               0.0       0.371828       0.291459   \n",
              "min         0.000000               0.0       0.000000       0.000000   \n",
              "25%         0.219917               0.0       0.187216       0.645831   \n",
              "50%         0.668050               0.0       0.610670       0.668317   \n",
              "75%         0.954357               0.0       0.954357       0.957870   \n",
              "max         1.000000               0.0       1.000000       1.000000   \n",
              "\n",
              "                 SOC  \n",
              "count  242885.000000  \n",
              "mean        0.564913  \n",
              "std         0.353788  \n",
              "min         0.000000  \n",
              "25%         0.212000  \n",
              "50%         0.644000  \n",
              "75%         0.920000  \n",
              "max         0.964000  "
            ],
            "text/html": [
              "\n",
              "  <div id=\"df-be622543-3f3d-4a1c-b314-c2f4494bdcbb\">\n",
              "    <div class=\"colab-df-container\">\n",
              "      <div>\n",
              "<style scoped>\n",
              "    .dataframe tbody tr th:only-of-type {\n",
              "        vertical-align: middle;\n",
              "    }\n",
              "\n",
              "    .dataframe tbody tr th {\n",
              "        vertical-align: top;\n",
              "    }\n",
              "\n",
              "    .dataframe thead th {\n",
              "        text-align: right;\n",
              "    }\n",
              "</style>\n",
              "<table border=\"1\" class=\"dataframe\">\n",
              "  <thead>\n",
              "    <tr style=\"text-align: right;\">\n",
              "      <th></th>\n",
              "      <th>Time</th>\n",
              "      <th>Potential</th>\n",
              "      <th>Current</th>\n",
              "      <th>Charge</th>\n",
              "      <th>Capacity</th>\n",
              "      <th>Nominal_Capacity</th>\n",
              "      <th>Energy</th>\n",
              "      <th>Power</th>\n",
              "      <th>SOC</th>\n",
              "    </tr>\n",
              "  </thead>\n",
              "  <tbody>\n",
              "    <tr>\n",
              "      <th>count</th>\n",
              "      <td>242885.000000</td>\n",
              "      <td>242885.000000</td>\n",
              "      <td>242885.000000</td>\n",
              "      <td>242885.000000</td>\n",
              "      <td>242885.000000</td>\n",
              "      <td>242885.0</td>\n",
              "      <td>242885.000000</td>\n",
              "      <td>242885.000000</td>\n",
              "      <td>242885.000000</td>\n",
              "    </tr>\n",
              "    <tr>\n",
              "      <th>mean</th>\n",
              "      <td>0.499868</td>\n",
              "      <td>0.751313</td>\n",
              "      <td>0.674082</td>\n",
              "      <td>0.585601</td>\n",
              "      <td>0.586010</td>\n",
              "      <td>0.0</td>\n",
              "      <td>0.563417</td>\n",
              "      <td>0.672237</td>\n",
              "      <td>0.564913</td>\n",
              "    </tr>\n",
              "    <tr>\n",
              "      <th>std</th>\n",
              "      <td>0.288963</td>\n",
              "      <td>0.265617</td>\n",
              "      <td>0.328384</td>\n",
              "      <td>0.366956</td>\n",
              "      <td>0.367000</td>\n",
              "      <td>0.0</td>\n",
              "      <td>0.371828</td>\n",
              "      <td>0.291459</td>\n",
              "      <td>0.353788</td>\n",
              "    </tr>\n",
              "    <tr>\n",
              "      <th>min</th>\n",
              "      <td>0.000000</td>\n",
              "      <td>0.000000</td>\n",
              "      <td>0.000000</td>\n",
              "      <td>0.000000</td>\n",
              "      <td>0.000000</td>\n",
              "      <td>0.0</td>\n",
              "      <td>0.000000</td>\n",
              "      <td>0.000000</td>\n",
              "      <td>0.000000</td>\n",
              "    </tr>\n",
              "    <tr>\n",
              "      <th>25%</th>\n",
              "      <td>0.249995</td>\n",
              "      <td>0.475862</td>\n",
              "      <td>0.664894</td>\n",
              "      <td>0.221198</td>\n",
              "      <td>0.219917</td>\n",
              "      <td>0.0</td>\n",
              "      <td>0.187216</td>\n",
              "      <td>0.645831</td>\n",
              "      <td>0.212000</td>\n",
              "    </tr>\n",
              "    <tr>\n",
              "      <th>50%</th>\n",
              "      <td>0.499997</td>\n",
              "      <td>0.820690</td>\n",
              "      <td>0.686170</td>\n",
              "      <td>0.667051</td>\n",
              "      <td>0.668050</td>\n",
              "      <td>0.0</td>\n",
              "      <td>0.610670</td>\n",
              "      <td>0.668317</td>\n",
              "      <td>0.644000</td>\n",
              "    </tr>\n",
              "    <tr>\n",
              "      <th>75%</th>\n",
              "      <td>0.749998</td>\n",
              "      <td>1.000000</td>\n",
              "      <td>0.997340</td>\n",
              "      <td>0.953917</td>\n",
              "      <td>0.954357</td>\n",
              "      <td>0.0</td>\n",
              "      <td>0.954357</td>\n",
              "      <td>0.957870</td>\n",
              "      <td>0.920000</td>\n",
              "    </tr>\n",
              "    <tr>\n",
              "      <th>max</th>\n",
              "      <td>1.000000</td>\n",
              "      <td>1.000000</td>\n",
              "      <td>1.000000</td>\n",
              "      <td>1.000000</td>\n",
              "      <td>1.000000</td>\n",
              "      <td>0.0</td>\n",
              "      <td>1.000000</td>\n",
              "      <td>1.000000</td>\n",
              "      <td>0.964000</td>\n",
              "    </tr>\n",
              "  </tbody>\n",
              "</table>\n",
              "</div>\n",
              "      <button class=\"colab-df-convert\" onclick=\"convertToInteractive('df-be622543-3f3d-4a1c-b314-c2f4494bdcbb')\"\n",
              "              title=\"Convert this dataframe to an interactive table.\"\n",
              "              style=\"display:none;\">\n",
              "        \n",
              "  <svg xmlns=\"http://www.w3.org/2000/svg\" height=\"24px\"viewBox=\"0 0 24 24\"\n",
              "       width=\"24px\">\n",
              "    <path d=\"M0 0h24v24H0V0z\" fill=\"none\"/>\n",
              "    <path d=\"M18.56 5.44l.94 2.06.94-2.06 2.06-.94-2.06-.94-.94-2.06-.94 2.06-2.06.94zm-11 1L8.5 8.5l.94-2.06 2.06-.94-2.06-.94L8.5 2.5l-.94 2.06-2.06.94zm10 10l.94 2.06.94-2.06 2.06-.94-2.06-.94-.94-2.06-.94 2.06-2.06.94z\"/><path d=\"M17.41 7.96l-1.37-1.37c-.4-.4-.92-.59-1.43-.59-.52 0-1.04.2-1.43.59L10.3 9.45l-7.72 7.72c-.78.78-.78 2.05 0 2.83L4 21.41c.39.39.9.59 1.41.59.51 0 1.02-.2 1.41-.59l7.78-7.78 2.81-2.81c.8-.78.8-2.07 0-2.86zM5.41 20L4 18.59l7.72-7.72 1.47 1.35L5.41 20z\"/>\n",
              "  </svg>\n",
              "      </button>\n",
              "      \n",
              "  <style>\n",
              "    .colab-df-container {\n",
              "      display:flex;\n",
              "      flex-wrap:wrap;\n",
              "      gap: 12px;\n",
              "    }\n",
              "\n",
              "    .colab-df-convert {\n",
              "      background-color: #E8F0FE;\n",
              "      border: none;\n",
              "      border-radius: 50%;\n",
              "      cursor: pointer;\n",
              "      display: none;\n",
              "      fill: #1967D2;\n",
              "      height: 32px;\n",
              "      padding: 0 0 0 0;\n",
              "      width: 32px;\n",
              "    }\n",
              "\n",
              "    .colab-df-convert:hover {\n",
              "      background-color: #E2EBFA;\n",
              "      box-shadow: 0px 1px 2px rgba(60, 64, 67, 0.3), 0px 1px 3px 1px rgba(60, 64, 67, 0.15);\n",
              "      fill: #174EA6;\n",
              "    }\n",
              "\n",
              "    [theme=dark] .colab-df-convert {\n",
              "      background-color: #3B4455;\n",
              "      fill: #D2E3FC;\n",
              "    }\n",
              "\n",
              "    [theme=dark] .colab-df-convert:hover {\n",
              "      background-color: #434B5C;\n",
              "      box-shadow: 0px 1px 3px 1px rgba(0, 0, 0, 0.15);\n",
              "      filter: drop-shadow(0px 1px 2px rgba(0, 0, 0, 0.3));\n",
              "      fill: #FFFFFF;\n",
              "    }\n",
              "  </style>\n",
              "\n",
              "      <script>\n",
              "        const buttonEl =\n",
              "          document.querySelector('#df-be622543-3f3d-4a1c-b314-c2f4494bdcbb button.colab-df-convert');\n",
              "        buttonEl.style.display =\n",
              "          google.colab.kernel.accessAllowed ? 'block' : 'none';\n",
              "\n",
              "        async function convertToInteractive(key) {\n",
              "          const element = document.querySelector('#df-be622543-3f3d-4a1c-b314-c2f4494bdcbb');\n",
              "          const dataTable =\n",
              "            await google.colab.kernel.invokeFunction('convertToInteractive',\n",
              "                                                     [key], {});\n",
              "          if (!dataTable) return;\n",
              "\n",
              "          const docLinkHtml = 'Like what you see? Visit the ' +\n",
              "            '<a target=\"_blank\" href=https://colab.research.google.com/notebooks/data_table.ipynb>data table notebook</a>'\n",
              "            + ' to learn more about interactive tables.';\n",
              "          element.innerHTML = '';\n",
              "          dataTable['output_type'] = 'display_data';\n",
              "          await google.colab.output.renderOutput(dataTable, element);\n",
              "          const docLink = document.createElement('div');\n",
              "          docLink.innerHTML = docLinkHtml;\n",
              "          element.appendChild(docLink);\n",
              "        }\n",
              "      </script>\n",
              "    </div>\n",
              "  </div>\n",
              "  "
            ]
          },
          "metadata": {},
          "execution_count": 13
        }
      ]
    },
    {
      "cell_type": "markdown",
      "source": [
        "# Spliting the Data into train and test"
      ],
      "metadata": {
        "id": "XvM1uJDMOxcl"
      }
    },
    {
      "cell_type": "code",
      "source": [
        "Y = df.pop('SOC')\n",
        "X = df"
      ],
      "metadata": {
        "id": "wMXoHw6eJqas"
      },
      "execution_count": 14,
      "outputs": []
    },
    {
      "cell_type": "code",
      "source": [
        "X_train, X_test, Y_train, Y_test = train_test_split(X,Y,test_size = 0.2)"
      ],
      "metadata": {
        "id": "CAQPEBaZJqYP"
      },
      "execution_count": 15,
      "outputs": []
    },
    {
      "cell_type": "code",
      "source": [
        "X_train.shape , X_test.shape , Y_train.shape , Y_test.shape"
      ],
      "metadata": {
        "colab": {
          "base_uri": "https://localhost:8080/"
        },
        "id": "UUveRbKHOtwm",
        "outputId": "4bd7dba3-1c60-4615-e95a-89ec7543387d"
      },
      "execution_count": 16,
      "outputs": [
        {
          "output_type": "execute_result",
          "data": {
            "text/plain": [
              "((194308, 8), (48577, 8), (194308,), (48577,))"
            ]
          },
          "metadata": {},
          "execution_count": 16
        }
      ]
    },
    {
      "cell_type": "code",
      "source": [
        "def plot_his(history):\n",
        "  plt.plot(history.history['loss'])\n",
        "  plt.plot(history.history['val_loss'])\n",
        "  plt.title('model loss')\n",
        "  plt.ylabel('Loss')\n",
        "  plt.xlabel('Epoch')\n",
        "  plt.legend(['Train', 'Test'], loc='upper left')\n",
        "  plt.show()"
      ],
      "metadata": {
        "id": "LmZOytjGhN4P"
      },
      "execution_count": 17,
      "outputs": []
    },
    {
      "cell_type": "code",
      "source": [],
      "metadata": {
        "id": "-rNBIqRjQezL"
      },
      "execution_count": 17,
      "outputs": []
    },
    {
      "cell_type": "markdown",
      "source": [
        "# DNN"
      ],
      "metadata": {
        "id": "W9TrVeKrmoIb"
      }
    },
    {
      "cell_type": "markdown",
      "source": [
        "## Model 1\n",
        "Normal Deep earning neural network\n",
        "with 3 layers and relu activation"
      ],
      "metadata": {
        "id": "rkAWDpfLjB8A"
      }
    },
    {
      "cell_type": "code",
      "source": [
        "tf.random.set_seed(42)\n",
        "\n",
        "model_1 = tf.keras.Sequential([tf.keras.layers.Dense(50, activation='relu'),\n",
        "                               tf.keras.layers.Dense(20, activation = 'relu'),\n",
        "                               tf.keras.layers.Dense(1)])\n",
        "\n",
        "model_1.compile(loss = tf.keras.losses.mae,\n",
        "                optimizer = tf.keras.optimizers.Adam(learning_rate=0.001),\n",
        "                metrics = [\"mae\"])\n",
        "\n",
        "history_1 = model_1.fit(X_train,Y_train, epochs= 30,validation_data=(X_test,Y_test))"
      ],
      "metadata": {
        "id": "f8BRLeiUjD03",
        "colab": {
          "base_uri": "https://localhost:8080/"
        },
        "outputId": "a48ae68e-22f4-4766-fbf0-b125068429f6"
      },
      "execution_count": 26,
      "outputs": [
        {
          "output_type": "stream",
          "name": "stdout",
          "text": [
            "Epoch 1/30\n",
            "6073/6073 [==============================] - 11s 2ms/step - loss: 0.0059 - mae: 0.0059 - val_loss: 0.0013 - val_mae: 0.0013\n",
            "Epoch 2/30\n",
            "6073/6073 [==============================] - 10s 2ms/step - loss: 0.0026 - mae: 0.0026 - val_loss: 0.0030 - val_mae: 0.0030\n",
            "Epoch 3/30\n",
            "6073/6073 [==============================] - 9s 1ms/step - loss: 0.0023 - mae: 0.0023 - val_loss: 0.0050 - val_mae: 0.0050\n",
            "Epoch 4/30\n",
            "6073/6073 [==============================] - 9s 1ms/step - loss: 0.0020 - mae: 0.0020 - val_loss: 0.0017 - val_mae: 0.0017\n",
            "Epoch 5/30\n",
            "6073/6073 [==============================] - 11s 2ms/step - loss: 0.0018 - mae: 0.0018 - val_loss: 0.0041 - val_mae: 0.0041\n",
            "Epoch 6/30\n",
            "6073/6073 [==============================] - 10s 2ms/step - loss: 0.0018 - mae: 0.0018 - val_loss: 0.0026 - val_mae: 0.0026\n",
            "Epoch 7/30\n",
            "6073/6073 [==============================] - 9s 2ms/step - loss: 0.0017 - mae: 0.0017 - val_loss: 0.0021 - val_mae: 0.0021\n",
            "Epoch 8/30\n",
            "6073/6073 [==============================] - 9s 2ms/step - loss: 0.0015 - mae: 0.0015 - val_loss: 0.0036 - val_mae: 0.0036\n",
            "Epoch 9/30\n",
            "6073/6073 [==============================] - 10s 2ms/step - loss: 0.0014 - mae: 0.0014 - val_loss: 7.4488e-04 - val_mae: 7.4488e-04\n",
            "Epoch 10/30\n",
            "6073/6073 [==============================] - 9s 2ms/step - loss: 0.0014 - mae: 0.0014 - val_loss: 0.0011 - val_mae: 0.0011\n",
            "Epoch 11/30\n",
            "6073/6073 [==============================] - 10s 2ms/step - loss: 0.0013 - mae: 0.0013 - val_loss: 0.0032 - val_mae: 0.0032\n",
            "Epoch 12/30\n",
            "6073/6073 [==============================] - 9s 2ms/step - loss: 0.0012 - mae: 0.0012 - val_loss: 0.0019 - val_mae: 0.0019\n",
            "Epoch 13/30\n",
            "6073/6073 [==============================] - 10s 2ms/step - loss: 0.0012 - mae: 0.0012 - val_loss: 0.0018 - val_mae: 0.0018\n",
            "Epoch 14/30\n",
            "6073/6073 [==============================] - 9s 2ms/step - loss: 0.0012 - mae: 0.0012 - val_loss: 0.0020 - val_mae: 0.0020\n",
            "Epoch 15/30\n",
            "6073/6073 [==============================] - 11s 2ms/step - loss: 0.0012 - mae: 0.0012 - val_loss: 4.6991e-04 - val_mae: 4.6991e-04\n",
            "Epoch 16/30\n",
            "6073/6073 [==============================] - 10s 2ms/step - loss: 0.0011 - mae: 0.0011 - val_loss: 0.0049 - val_mae: 0.0049\n",
            "Epoch 17/30\n",
            "6073/6073 [==============================] - 10s 2ms/step - loss: 0.0011 - mae: 0.0011 - val_loss: 0.0012 - val_mae: 0.0012\n",
            "Epoch 18/30\n",
            "6073/6073 [==============================] - 11s 2ms/step - loss: 0.0011 - mae: 0.0011 - val_loss: 5.6003e-04 - val_mae: 5.6003e-04\n",
            "Epoch 19/30\n",
            "6073/6073 [==============================] - 18s 3ms/step - loss: 0.0011 - mae: 0.0011 - val_loss: 0.0021 - val_mae: 0.0021\n",
            "Epoch 20/30\n",
            "6073/6073 [==============================] - 12s 2ms/step - loss: 0.0010 - mae: 0.0010 - val_loss: 9.7967e-04 - val_mae: 9.7967e-04\n",
            "Epoch 21/30\n",
            "6073/6073 [==============================] - 17s 3ms/step - loss: 9.7814e-04 - mae: 9.7814e-04 - val_loss: 5.0262e-04 - val_mae: 5.0262e-04\n",
            "Epoch 22/30\n",
            "6073/6073 [==============================] - 19s 3ms/step - loss: 9.4481e-04 - mae: 9.4481e-04 - val_loss: 5.7433e-04 - val_mae: 5.7433e-04\n",
            "Epoch 23/30\n",
            "6073/6073 [==============================] - 15s 2ms/step - loss: 0.0010 - mae: 0.0010 - val_loss: 6.7638e-04 - val_mae: 6.7638e-04\n",
            "Epoch 24/30\n",
            "6073/6073 [==============================] - 18s 3ms/step - loss: 9.3834e-04 - mae: 9.3834e-04 - val_loss: 5.7462e-04 - val_mae: 5.7462e-04\n",
            "Epoch 25/30\n",
            "6073/6073 [==============================] - 13s 2ms/step - loss: 8.8742e-04 - mae: 8.8742e-04 - val_loss: 0.0011 - val_mae: 0.0011\n",
            "Epoch 26/30\n",
            "6073/6073 [==============================] - 11s 2ms/step - loss: 9.0043e-04 - mae: 9.0043e-04 - val_loss: 6.5128e-04 - val_mae: 6.5128e-04\n",
            "Epoch 27/30\n",
            "6073/6073 [==============================] - 10s 2ms/step - loss: 9.2097e-04 - mae: 9.2097e-04 - val_loss: 5.5599e-04 - val_mae: 5.5599e-04\n",
            "Epoch 28/30\n",
            "6073/6073 [==============================] - 11s 2ms/step - loss: 8.6548e-04 - mae: 8.6548e-04 - val_loss: 3.6742e-04 - val_mae: 3.6742e-04\n",
            "Epoch 29/30\n",
            "6073/6073 [==============================] - 10s 2ms/step - loss: 8.8378e-04 - mae: 8.8378e-04 - val_loss: 3.7102e-04 - val_mae: 3.7102e-04\n",
            "Epoch 30/30\n",
            "6073/6073 [==============================] - 11s 2ms/step - loss: 8.9306e-04 - mae: 8.9306e-04 - val_loss: 0.0012 - val_mae: 0.0012\n"
          ]
        }
      ]
    },
    {
      "cell_type": "code",
      "source": [
        "model_1.summary()"
      ],
      "metadata": {
        "id": "lwWlSXfuk0JR",
        "colab": {
          "base_uri": "https://localhost:8080/"
        },
        "outputId": "c25fd525-0ea8-4c7b-8ee5-c8d3febd7f84"
      },
      "execution_count": 27,
      "outputs": [
        {
          "output_type": "stream",
          "name": "stdout",
          "text": [
            "Model: \"sequential_1\"\n",
            "_________________________________________________________________\n",
            " Layer (type)                Output Shape              Param #   \n",
            "=================================================================\n",
            " dense_3 (Dense)             (None, 50)                450       \n",
            "                                                                 \n",
            " dense_4 (Dense)             (None, 20)                1020      \n",
            "                                                                 \n",
            " dense_5 (Dense)             (None, 1)                 21        \n",
            "                                                                 \n",
            "=================================================================\n",
            "Total params: 1,491\n",
            "Trainable params: 1,491\n",
            "Non-trainable params: 0\n",
            "_________________________________________________________________\n"
          ]
        }
      ]
    },
    {
      "cell_type": "code",
      "source": [
        "model_1.evaluate(X_test,Y_test)"
      ],
      "metadata": {
        "id": "DqTFzKD5mi2R",
        "colab": {
          "base_uri": "https://localhost:8080/"
        },
        "outputId": "c2f78519-f656-48c9-e461-9c78138fae7d"
      },
      "execution_count": 28,
      "outputs": [
        {
          "output_type": "stream",
          "name": "stdout",
          "text": [
            "1519/1519 [==============================] - 2s 1ms/step - loss: 0.0012 - mae: 0.0012\n"
          ]
        },
        {
          "output_type": "execute_result",
          "data": {
            "text/plain": [
              "[0.0011506438022479415, 0.0011506438022479415]"
            ]
          },
          "metadata": {},
          "execution_count": 28
        }
      ]
    },
    {
      "cell_type": "code",
      "source": [
        "plot_his(history_1)"
      ],
      "metadata": {
        "colab": {
          "base_uri": "https://localhost:8080/",
          "height": 295
        },
        "id": "Qh9g2x-nwcTC",
        "outputId": "a559f638-2811-4c78-ee6b-75e1f54f66e6"
      },
      "execution_count": 29,
      "outputs": [
        {
          "output_type": "display_data",
          "data": {
            "text/plain": [
              "<Figure size 432x288 with 1 Axes>"
            ],
            "image/png": "[encoded data removed]"
          },
          "metadata": {
            "needs_background": "light"
          }
        }
      ]
    },
    {
      "cell_type": "code",
      "source": [
        "prediction = model_1.predict(X_test)\n",
        "print(prediction[:10])"
      ],
      "metadata": {
        "id": "vwCM1plLm6hH",
        "colab": {
          "base_uri": "https://localhost:8080/"
        },
        "outputId": "a6a970b0-f6fa-48d5-a980-78f4d8b40eda"
      },
      "execution_count": 30,
      "outputs": [
        {
          "output_type": "stream",
          "name": "stdout",
          "text": [
            "1519/1519 [==============================] - 1s 922us/step\n",
            "[[0.02703466]\n",
            " [0.9549511 ]\n",
            " [0.9030586 ]\n",
            " [0.6874313 ]\n",
            " [0.9199291 ]\n",
            " [0.9274773 ]\n",
            " [0.58642703]\n",
            " [0.7182751 ]\n",
            " [0.01499132]\n",
            " [0.93923265]]\n"
          ]
        }
      ]
    },
    {
      "cell_type": "code",
      "source": [
        "plt.figure(figsize=(14,8))\n",
        "plt.scatter(Y_test[300:900], Y_test[300:900], color='blue')\n",
        "plt.scatter(prediction[300:900], prediction[300:900], color='red')\n",
        "plt.show()"
      ],
      "metadata": {
        "id": "cgqvC6qNoPDs",
        "colab": {
          "base_uri": "https://localhost:8080/",
          "height": 483
        },
        "outputId": "a404f90b-e708-4062-a9b1-1edd717b4155"
      },
      "execution_count": 31,
      "outputs": [
        {
          "output_type": "display_data",
          "data": {
            "text/plain": [
              "<Figure size 1008x576 with 1 Axes>"
            ],
            "image/png": "[encoded data removed]"
          },
          "metadata": {
            "needs_background": "light"
          }
        }
      ]
    },
    {
      "cell_type": "markdown",
      "source": [
        "## Model_1_1"
      ],
      "metadata": {
        "id": "E6bOawF-ycgZ"
      }
    },
    {
      "cell_type": "code",
      "source": [
        "tf.random.set_seed(42)\n",
        "\n",
        "model__1_1 = tf.keras.Sequential([tf.keras.layers.Dense(100, activation='relu'),\n",
        "                                  tf.keras.layers.Dense(50, activation='relu'),\n",
        "                                  tf.keras.layers.Dense(20, activation = 'relu'),\n",
        "                                  tf.keras.layers.Dense(1)])\n",
        "\n",
        "model__1_1.compile(loss = tf.keras.losses.mae,\n",
        "                optimizer = tf.keras.optimizers.Adam(learning_rate=0.001),\n",
        "                metrics = [\"mae\"])\n",
        "\n",
        "#here using callback feature\n",
        "history_1_1 = model__1_1.fit(X_train,Y_train, epochs= 200,validation_data=(X_test,Y_test),callbacks = callback)"
      ],
      "metadata": {
        "colab": {
          "base_uri": "https://localhost:8080/"
        },
        "id": "ROoVrzzTyceL",
        "outputId": "77dec78d-adb2-4d4e-deec-12b44d215174"
      },
      "execution_count": 42,
      "outputs": [
        {
          "output_type": "stream",
          "name": "stdout",
          "text": [
            "Epoch 1/200\n",
            "6073/6073 [==============================] - 13s 2ms/step - loss: 0.0048 - mae: 0.0048 - val_loss: 0.0027 - val_mae: 0.0027\n",
            "Epoch 2/200\n",
            "6073/6073 [==============================] - 17s 3ms/step - loss: 0.0026 - mae: 0.0026 - val_loss: 0.0023 - val_mae: 0.0023\n",
            "Epoch 3/200\n",
            "6073/6073 [==============================] - 13s 2ms/step - loss: 0.0022 - mae: 0.0022 - val_loss: 0.0012 - val_mae: 0.0012\n",
            "Epoch 4/200\n",
            "6073/6073 [==============================] - 11s 2ms/step - loss: 0.0020 - mae: 0.0020 - val_loss: 0.0013 - val_mae: 0.0013\n",
            "Epoch 5/200\n",
            "6073/6073 [==============================] - 11s 2ms/step - loss: 0.0019 - mae: 0.0019 - val_loss: 9.0364e-04 - val_mae: 9.0364e-04\n",
            "Epoch 6/200\n",
            "6073/6073 [==============================] - 11s 2ms/step - loss: 0.0018 - mae: 0.0018 - val_loss: 0.0022 - val_mae: 0.0022\n",
            "Epoch 7/200\n",
            "6073/6073 [==============================] - 12s 2ms/step - loss: 0.0016 - mae: 0.0016 - val_loss: 0.0043 - val_mae: 0.0043\n",
            "Epoch 8/200\n",
            "6073/6073 [==============================] - 11s 2ms/step - loss: 0.0016 - mae: 0.0016 - val_loss: 0.0013 - val_mae: 0.0013\n",
            "Epoch 9/200\n",
            "6073/6073 [==============================] - 11s 2ms/step - loss: 0.0016 - mae: 0.0016 - val_loss: 0.0011 - val_mae: 0.0011\n",
            "Epoch 10/200\n",
            "6073/6073 [==============================] - 12s 2ms/step - loss: 0.0015 - mae: 0.0015 - val_loss: 0.0018 - val_mae: 0.0018\n",
            "Epoch 11/200\n",
            "6073/6073 [==============================] - 11s 2ms/step - loss: 0.0015 - mae: 0.0015 - val_loss: 6.9912e-04 - val_mae: 6.9912e-04\n",
            "Epoch 12/200\n",
            "6073/6073 [==============================] - 13s 2ms/step - loss: 0.0015 - mae: 0.0015 - val_loss: 0.0020 - val_mae: 0.0020\n",
            "Epoch 13/200\n",
            "6073/6073 [==============================] - 11s 2ms/step - loss: 0.0014 - mae: 0.0014 - val_loss: 0.0019 - val_mae: 0.0019\n",
            "Epoch 14/200\n",
            "6073/6073 [==============================] - 11s 2ms/step - loss: 0.0014 - mae: 0.0014 - val_loss: 0.0018 - val_mae: 0.0018\n",
            "Epoch 15/200\n",
            "6073/6073 [==============================] - 12s 2ms/step - loss: 0.0014 - mae: 0.0014 - val_loss: 0.0012 - val_mae: 0.0012\n",
            "Epoch 16/200\n",
            "6073/6073 [==============================] - 11s 2ms/step - loss: 0.0014 - mae: 0.0014 - val_loss: 5.0892e-04 - val_mae: 5.0892e-04\n",
            "Epoch 17/200\n",
            "6073/6073 [==============================] - 11s 2ms/step - loss: 0.0013 - mae: 0.0013 - val_loss: 0.0011 - val_mae: 0.0011\n",
            "Epoch 18/200\n",
            "6073/6073 [==============================] - 12s 2ms/step - loss: 0.0013 - mae: 0.0013 - val_loss: 6.7176e-04 - val_mae: 6.7176e-04\n",
            "Epoch 19/200\n",
            "6073/6073 [==============================] - 11s 2ms/step - loss: 0.0013 - mae: 0.0013 - val_loss: 0.0014 - val_mae: 0.0014\n",
            "Epoch 20/200\n",
            "6073/6073 [==============================] - 11s 2ms/step - loss: 0.0013 - mae: 0.0013 - val_loss: 4.9653e-04 - val_mae: 4.9653e-04\n",
            "Epoch 21/200\n",
            "6073/6073 [==============================] - 12s 2ms/step - loss: 0.0013 - mae: 0.0013 - val_loss: 0.0025 - val_mae: 0.0025\n",
            "Epoch 22/200\n",
            "6073/6073 [==============================] - 12s 2ms/step - loss: 0.0012 - mae: 0.0012 - val_loss: 0.0019 - val_mae: 0.0019\n",
            "Epoch 23/200\n",
            "6073/6073 [==============================] - 11s 2ms/step - loss: 0.0013 - mae: 0.0013 - val_loss: 7.8968e-04 - val_mae: 7.8968e-04\n",
            "Epoch 24/200\n",
            "6073/6073 [==============================] - 11s 2ms/step - loss: 0.0012 - mae: 0.0012 - val_loss: 0.0010 - val_mae: 0.0010\n",
            "Epoch 25/200\n",
            "6073/6073 [==============================] - 11s 2ms/step - loss: 0.0012 - mae: 0.0012 - val_loss: 4.4618e-04 - val_mae: 4.4618e-04\n",
            "Epoch 26/200\n",
            "6073/6073 [==============================] - 12s 2ms/step - loss: 0.0012 - mae: 0.0012 - val_loss: 0.0011 - val_mae: 0.0011\n",
            "Epoch 27/200\n",
            "6073/6073 [==============================] - 12s 2ms/step - loss: 0.0012 - mae: 0.0012 - val_loss: 5.3348e-04 - val_mae: 5.3348e-04\n",
            "Epoch 28/200\n",
            "6073/6073 [==============================] - 12s 2ms/step - loss: 0.0011 - mae: 0.0011 - val_loss: 0.0024 - val_mae: 0.0024\n",
            "Epoch 29/200\n",
            "6073/6073 [==============================] - 11s 2ms/step - loss: 0.0012 - mae: 0.0012 - val_loss: 7.4577e-04 - val_mae: 7.4577e-04\n",
            "Epoch 30/200\n",
            "6073/6073 [==============================] - 11s 2ms/step - loss: 0.0012 - mae: 0.0012 - val_loss: 0.0016 - val_mae: 0.0016\n",
            "Epoch 31/200\n",
            "6073/6073 [==============================] - 13s 2ms/step - loss: 0.0012 - mae: 0.0012 - val_loss: 0.0017 - val_mae: 0.0017\n",
            "Epoch 32/200\n",
            "6073/6073 [==============================] - 18s 3ms/step - loss: 0.0011 - mae: 0.0011 - val_loss: 4.5569e-04 - val_mae: 4.5569e-04\n",
            "Epoch 33/200\n",
            "6073/6073 [==============================] - 11s 2ms/step - loss: 0.0011 - mae: 0.0011 - val_loss: 0.0017 - val_mae: 0.0017\n",
            "Epoch 34/200\n",
            "6073/6073 [==============================] - 11s 2ms/step - loss: 0.0011 - mae: 0.0011 - val_loss: 7.1275e-04 - val_mae: 7.1275e-04\n",
            "Epoch 35/200\n",
            "6073/6073 [==============================] - 11s 2ms/step - loss: 0.0010 - mae: 0.0010 - val_loss: 6.1455e-04 - val_mae: 6.1455e-04\n",
            "Epoch 36/200\n",
            "6073/6073 [==============================] - 11s 2ms/step - loss: 0.0011 - mae: 0.0011 - val_loss: 9.7658e-04 - val_mae: 9.7658e-04\n",
            "Epoch 37/200\n",
            "6073/6073 [==============================] - 11s 2ms/step - loss: 0.0011 - mae: 0.0011 - val_loss: 7.0695e-04 - val_mae: 7.0695e-04\n",
            "Epoch 38/200\n",
            "6073/6073 [==============================] - 11s 2ms/step - loss: 0.0011 - mae: 0.0011 - val_loss: 0.0011 - val_mae: 0.0011\n",
            "Epoch 39/200\n",
            "6073/6073 [==============================] - 11s 2ms/step - loss: 0.0011 - mae: 0.0011 - val_loss: 0.0029 - val_mae: 0.0029\n",
            "Epoch 40/200\n",
            "6073/6073 [==============================] - 12s 2ms/step - loss: 0.0010 - mae: 0.0010 - val_loss: 4.5671e-04 - val_mae: 4.5671e-04\n",
            "Epoch 41/200\n",
            "6073/6073 [==============================] - 13s 2ms/step - loss: 0.0011 - mae: 0.0011 - val_loss: 4.3744e-04 - val_mae: 4.3744e-04\n",
            "Epoch 42/200\n",
            "6073/6073 [==============================] - 13s 2ms/step - loss: 0.0011 - mae: 0.0011 - val_loss: 8.6297e-04 - val_mae: 8.6297e-04\n",
            "Epoch 43/200\n",
            "6073/6073 [==============================] - 13s 2ms/step - loss: 0.0011 - mae: 0.0011 - val_loss: 4.5677e-04 - val_mae: 4.5677e-04\n",
            "Epoch 44/200\n",
            "6073/6073 [==============================] - 13s 2ms/step - loss: 0.0011 - mae: 0.0011 - val_loss: 4.1341e-04 - val_mae: 4.1341e-04\n",
            "Epoch 45/200\n",
            "6073/6073 [==============================] - 13s 2ms/step - loss: 0.0010 - mae: 0.0010 - val_loss: 0.0029 - val_mae: 0.0029\n",
            "Epoch 46/200\n",
            "6073/6073 [==============================] - 11s 2ms/step - loss: 0.0011 - mae: 0.0011 - val_loss: 0.0019 - val_mae: 0.0019\n",
            "Epoch 47/200\n",
            "6073/6073 [==============================] - 12s 2ms/step - loss: 0.0011 - mae: 0.0011 - val_loss: 0.0012 - val_mae: 0.0012\n",
            "Epoch 48/200\n",
            "6073/6073 [==============================] - 12s 2ms/step - loss: 0.0010 - mae: 0.0010 - val_loss: 0.0017 - val_mae: 0.0017\n",
            "Epoch 49/200\n",
            "6073/6073 [==============================] - 18s 3ms/step - loss: 0.0011 - mae: 0.0011 - val_loss: 7.6995e-04 - val_mae: 7.6995e-04\n",
            "Epoch 50/200\n",
            "6073/6073 [==============================] - 15s 3ms/step - loss: 0.0011 - mae: 0.0011 - val_loss: 4.7138e-04 - val_mae: 4.7138e-04\n",
            "Epoch 51/200\n",
            "6073/6073 [==============================] - 12s 2ms/step - loss: 0.0011 - mae: 0.0011 - val_loss: 3.9750e-04 - val_mae: 3.9750e-04\n",
            "Epoch 52/200\n",
            "6073/6073 [==============================] - 11s 2ms/step - loss: 0.0010 - mae: 0.0010 - val_loss: 9.4916e-04 - val_mae: 9.4916e-04\n",
            "Epoch 53/200\n",
            "6073/6073 [==============================] - 11s 2ms/step - loss: 0.0011 - mae: 0.0011 - val_loss: 8.6006e-04 - val_mae: 8.6006e-04\n",
            "Epoch 54/200\n",
            "6073/6073 [==============================] - 12s 2ms/step - loss: 9.8591e-04 - mae: 9.8591e-04 - val_loss: 9.8270e-04 - val_mae: 9.8270e-04\n",
            "Epoch 55/200\n",
            "6073/6073 [==============================] - 13s 2ms/step - loss: 0.0010 - mae: 0.0010 - val_loss: 6.0888e-04 - val_mae: 6.0888e-04\n",
            "Epoch 56/200\n",
            "6073/6073 [==============================] - 12s 2ms/step - loss: 0.0010 - mae: 0.0010 - val_loss: 5.0093e-04 - val_mae: 5.0093e-04\n",
            "Epoch 57/200\n",
            "6073/6073 [==============================] - 11s 2ms/step - loss: 0.0011 - mae: 0.0011 - val_loss: 4.5417e-04 - val_mae: 4.5417e-04\n",
            "Epoch 58/200\n",
            "6073/6073 [==============================] - 11s 2ms/step - loss: 0.0010 - mae: 0.0010 - val_loss: 0.0015 - val_mae: 0.0015\n",
            "Epoch 59/200\n",
            "6073/6073 [==============================] - 11s 2ms/step - loss: 0.0010 - mae: 0.0010 - val_loss: 9.6472e-04 - val_mae: 9.6472e-04\n",
            "Epoch 60/200\n",
            "6073/6073 [==============================] - 13s 2ms/step - loss: 9.7562e-04 - mae: 9.7562e-04 - val_loss: 0.0039 - val_mae: 0.0039\n",
            "Epoch 61/200\n",
            "6073/6073 [==============================] - 12s 2ms/step - loss: 0.0010 - mae: 0.0010 - val_loss: 0.0010 - val_mae: 0.0010\n",
            "Epoch 62/200\n",
            "6073/6073 [==============================] - 13s 2ms/step - loss: 9.9933e-04 - mae: 9.9933e-04 - val_loss: 0.0013 - val_mae: 0.0013\n",
            "Epoch 63/200\n",
            "6073/6073 [==============================] - 13s 2ms/step - loss: 9.6316e-04 - mae: 9.6316e-04 - val_loss: 9.5997e-04 - val_mae: 9.5997e-04\n",
            "Epoch 64/200\n",
            "6073/6073 [==============================] - 12s 2ms/step - loss: 0.0010 - mae: 0.0010 - val_loss: 0.0015 - val_mae: 0.0015\n",
            "Epoch 65/200\n",
            "6073/6073 [==============================] - 13s 2ms/step - loss: 9.3157e-04 - mae: 9.3157e-04 - val_loss: 5.0724e-04 - val_mae: 5.0724e-04\n",
            "Epoch 66/200\n",
            "6073/6073 [==============================] - 13s 2ms/step - loss: 0.0010 - mae: 0.0010 - val_loss: 5.5986e-04 - val_mae: 5.5986e-04\n",
            "Epoch 67/200\n",
            "6073/6073 [==============================] - 12s 2ms/step - loss: 9.9548e-04 - mae: 9.9548e-04 - val_loss: 3.2227e-04 - val_mae: 3.2227e-04\n",
            "Epoch 68/200\n",
            "6073/6073 [==============================] - 13s 2ms/step - loss: 9.8460e-04 - mae: 9.8460e-04 - val_loss: 3.5545e-04 - val_mae: 3.5545e-04\n",
            "Epoch 69/200\n",
            "6073/6073 [==============================] - 12s 2ms/step - loss: 9.3636e-04 - mae: 9.3636e-04 - val_loss: 0.0013 - val_mae: 0.0013\n",
            "Epoch 70/200\n",
            "6073/6073 [==============================] - 15s 2ms/step - loss: 9.2842e-04 - mae: 9.2842e-04 - val_loss: 0.0012 - val_mae: 0.0012\n",
            "Epoch 71/200\n",
            "6073/6073 [==============================] - 12s 2ms/step - loss: 9.8382e-04 - mae: 9.8382e-04 - val_loss: 7.3564e-04 - val_mae: 7.3564e-04\n",
            "Epoch 72/200\n",
            "6073/6073 [==============================] - 12s 2ms/step - loss: 9.1366e-04 - mae: 9.1366e-04 - val_loss: 5.9564e-04 - val_mae: 5.9564e-04\n",
            "Epoch 73/200\n",
            "6073/6073 [==============================] - 12s 2ms/step - loss: 9.3287e-04 - mae: 9.3287e-04 - val_loss: 7.2016e-04 - val_mae: 7.2016e-04\n",
            "Epoch 74/200\n",
            "6073/6073 [==============================] - 11s 2ms/step - loss: 9.4599e-04 - mae: 9.4599e-04 - val_loss: 4.0504e-04 - val_mae: 4.0504e-04\n",
            "Epoch 75/200\n",
            "6073/6073 [==============================] - 13s 2ms/step - loss: 8.8266e-04 - mae: 8.8266e-04 - val_loss: 0.0014 - val_mae: 0.0014\n",
            "Epoch 76/200\n",
            "6073/6073 [==============================] - 12s 2ms/step - loss: 9.5357e-04 - mae: 9.5357e-04 - val_loss: 0.0018 - val_mae: 0.0018\n",
            "Epoch 77/200\n",
            "6073/6073 [==============================] - 13s 2ms/step - loss: 9.2383e-04 - mae: 9.2383e-04 - val_loss: 6.3879e-04 - val_mae: 6.3879e-04\n",
            "Epoch 78/200\n",
            "6073/6073 [==============================] - 13s 2ms/step - loss: 8.7834e-04 - mae: 8.7834e-04 - val_loss: 4.6233e-04 - val_mae: 4.6233e-04\n",
            "Epoch 79/200\n",
            "6073/6073 [==============================] - 13s 2ms/step - loss: 9.5285e-04 - mae: 9.5285e-04 - val_loss: 0.0015 - val_mae: 0.0015\n",
            "Epoch 80/200\n",
            "6073/6073 [==============================] - 13s 2ms/step - loss: 8.9413e-04 - mae: 8.9413e-04 - val_loss: 9.6951e-04 - val_mae: 9.6951e-04\n",
            "Epoch 81/200\n",
            "6073/6073 [==============================] - 14s 2ms/step - loss: 9.1096e-04 - mae: 9.1096e-04 - val_loss: 7.5240e-04 - val_mae: 7.5240e-04\n",
            "Epoch 82/200\n",
            "6073/6073 [==============================] - 14s 2ms/step - loss: 9.1503e-04 - mae: 9.1503e-04 - val_loss: 5.1957e-04 - val_mae: 5.1957e-04\n",
            "Epoch 83/200\n",
            "6073/6073 [==============================] - 13s 2ms/step - loss: 9.4257e-04 - mae: 9.4257e-04 - val_loss: 0.0015 - val_mae: 0.0015\n",
            "Epoch 84/200\n",
            "6073/6073 [==============================] - 12s 2ms/step - loss: 8.4276e-04 - mae: 8.4276e-04 - val_loss: 9.3588e-04 - val_mae: 9.3588e-04\n",
            "Epoch 85/200\n",
            "6073/6073 [==============================] - 13s 2ms/step - loss: 8.6052e-04 - mae: 8.6052e-04 - val_loss: 7.0061e-04 - val_mae: 7.0061e-04\n",
            "Epoch 86/200\n",
            "6073/6073 [==============================] - 13s 2ms/step - loss: 8.5864e-04 - mae: 8.5864e-04 - val_loss: 0.0014 - val_mae: 0.0014\n",
            "Epoch 87/200\n",
            "6073/6073 [==============================] - 13s 2ms/step - loss: 8.6546e-04 - mae: 8.6546e-04 - val_loss: 4.4593e-04 - val_mae: 4.4593e-04\n",
            "Epoch 87: early stopping\n"
          ]
        }
      ]
    },
    {
      "cell_type": "code",
      "source": [
        "plot_his(history_1_1)"
      ],
      "metadata": {
        "colab": {
          "base_uri": "https://localhost:8080/",
          "height": 295
        },
        "id": "N0W9YmKQycb1",
        "outputId": "5a08dabd-0348-4cbd-81ff-8f9109f674e4"
      },
      "execution_count": 44,
      "outputs": [
        {
          "output_type": "display_data",
          "data": {
            "text/plain": [
              "<Figure size 432x288 with 1 Axes>"
            ],
            "image/png": "[encoded data removed]"
          },
          "metadata": {
            "needs_background": "light"
          }
        }
      ]
    },
    {
      "cell_type": "code",
      "source": [],
      "metadata": {
        "id": "K2bIVKYhycOm"
      },
      "execution_count": null,
      "outputs": []
    },
    {
      "cell_type": "code",
      "source": [],
      "metadata": {
        "id": "RRmRoz_sycMi"
      },
      "execution_count": null,
      "outputs": []
    },
    {
      "cell_type": "markdown",
      "source": [
        "# LSTM\n",
        "LSTM ( Long short term memory)\n"
      ],
      "metadata": {
        "id": "AiqZ_qNtwHj5"
      }
    },
    {
      "cell_type": "markdown",
      "source": [
        "## Model 2"
      ],
      "metadata": {
        "id": "2n4cbTEwmf3y"
      }
    },
    {
      "cell_type": "code",
      "source": [
        "%%time\n",
        "tf.random.set_seed(42)\n",
        "\n",
        "model_2 = tf.keras.Sequential([tf.keras.layers.LSTM(50,activation= 'relu',return_sequences=True, input_shape=(8,1)),\n",
        "                               tf.keras.layers.LSTM(10,activation='relu'),\n",
        "                               tf.keras.layers.Dense(1)])\n",
        "\n",
        "model_2.compile(loss = tf.keras.losses.mae,\n",
        "                optimizer = tf.keras.optimizers.Adam(learning_rate=0.001),\n",
        "                metrics = ['mae'])\n",
        "\n",
        "history_2 = model_2.fit(X_train,Y_train,epochs=40,validation_data=(X_test,Y_test),callbacks = callback)"
      ],
      "metadata": {
        "colab": {
          "base_uri": "https://localhost:8080/"
        },
        "id": "imtd5AUbPvC4",
        "outputId": "f0833cee-c81d-465c-b064-aee9f62100ed"
      },
      "execution_count": 50,
      "outputs": [
        {
          "output_type": "stream",
          "name": "stdout",
          "text": [
            "Epoch 1/40\n",
            "6073/6073 [==============================] - 53s 8ms/step - loss: 0.0177 - mae: 0.0177 - val_loss: 0.0056 - val_mae: 0.0056\n",
            "Epoch 2/40\n",
            "6073/6073 [==============================] - 58s 9ms/step - loss: 0.0054 - mae: 0.0054 - val_loss: 0.0103 - val_mae: 0.0103\n",
            "Epoch 3/40\n",
            "6073/6073 [==============================] - 60s 10ms/step - loss: 0.0048 - mae: 0.0048 - val_loss: 0.0048 - val_mae: 0.0048\n",
            "Epoch 4/40\n",
            "6073/6073 [==============================] - 60s 10ms/step - loss: 0.0041 - mae: 0.0041 - val_loss: 0.0016 - val_mae: 0.0016\n",
            "Epoch 5/40\n",
            "6073/6073 [==============================] - 62s 10ms/step - loss: 0.0036 - mae: 0.0036 - val_loss: 0.0024 - val_mae: 0.0024\n",
            "Epoch 6/40\n",
            "6073/6073 [==============================] - 52s 8ms/step - loss: 0.0033 - mae: 0.0033 - val_loss: 0.0039 - val_mae: 0.0039\n",
            "Epoch 7/40\n",
            "6073/6073 [==============================] - 54s 9ms/step - loss: 0.0030 - mae: 0.0030 - val_loss: 0.0020 - val_mae: 0.0020\n",
            "Epoch 8/40\n",
            "6073/6073 [==============================] - 52s 9ms/step - loss: 0.0029 - mae: 0.0029 - val_loss: 0.0045 - val_mae: 0.0045\n",
            "Epoch 9/40\n",
            "6073/6073 [==============================] - 51s 8ms/step - loss: 0.0025 - mae: 0.0025 - val_loss: 0.0030 - val_mae: 0.0030\n",
            "Epoch 10/40\n",
            "6073/6073 [==============================] - 51s 8ms/step - loss: 0.0025 - mae: 0.0025 - val_loss: 0.0032 - val_mae: 0.0032\n",
            "Epoch 11/40\n",
            "6073/6073 [==============================] - 53s 9ms/step - loss: 0.0025 - mae: 0.0025 - val_loss: 0.0025 - val_mae: 0.0025\n",
            "Epoch 12/40\n",
            "6073/6073 [==============================] - 51s 8ms/step - loss: 0.0022 - mae: 0.0022 - val_loss: 0.0016 - val_mae: 0.0016\n",
            "Epoch 13/40\n",
            "6073/6073 [==============================] - 51s 8ms/step - loss: 0.0021 - mae: 0.0021 - val_loss: 7.5406e-04 - val_mae: 7.5406e-04\n",
            "Epoch 14/40\n",
            "6073/6073 [==============================] - 51s 8ms/step - loss: 0.0020 - mae: 0.0020 - val_loss: 0.0034 - val_mae: 0.0034\n",
            "Epoch 15/40\n",
            "6073/6073 [==============================] - 52s 8ms/step - loss: 0.0018 - mae: 0.0018 - val_loss: 0.0047 - val_mae: 0.0047\n",
            "Epoch 16/40\n",
            "6073/6073 [==============================] - 52s 9ms/step - loss: 0.0018 - mae: 0.0018 - val_loss: 0.0018 - val_mae: 0.0018\n",
            "Epoch 17/40\n",
            "6073/6073 [==============================] - 51s 8ms/step - loss: 0.0017 - mae: 0.0017 - val_loss: 5.4129e-04 - val_mae: 5.4129e-04\n",
            "Epoch 18/40\n",
            "6073/6073 [==============================] - 50s 8ms/step - loss: 0.0016 - mae: 0.0016 - val_loss: 0.0032 - val_mae: 0.0032\n",
            "Epoch 19/40\n",
            "6073/6073 [==============================] - 50s 8ms/step - loss: 0.0016 - mae: 0.0016 - val_loss: 0.0018 - val_mae: 0.0018\n",
            "Epoch 20/40\n",
            "6073/6073 [==============================] - 51s 8ms/step - loss: 0.0015 - mae: 0.0015 - val_loss: 0.0014 - val_mae: 0.0014\n",
            "Epoch 21/40\n",
            "6073/6073 [==============================] - 50s 8ms/step - loss: 0.0015 - mae: 0.0015 - val_loss: 0.0024 - val_mae: 0.0024\n",
            "Epoch 22/40\n",
            "6073/6073 [==============================] - 50s 8ms/step - loss: 0.0014 - mae: 0.0014 - val_loss: 5.1804e-04 - val_mae: 5.1804e-04\n",
            "Epoch 23/40\n",
            "6073/6073 [==============================] - 53s 9ms/step - loss: 0.0014 - mae: 0.0014 - val_loss: 5.2286e-04 - val_mae: 5.2286e-04\n",
            "Epoch 24/40\n",
            "6073/6073 [==============================] - 52s 9ms/step - loss: 0.0013 - mae: 0.0013 - val_loss: 0.0015 - val_mae: 0.0015\n",
            "Epoch 25/40\n",
            "6073/6073 [==============================] - 51s 8ms/step - loss: 0.0013 - mae: 0.0013 - val_loss: 0.0012 - val_mae: 0.0012\n",
            "Epoch 26/40\n",
            "6073/6073 [==============================] - 51s 8ms/step - loss: 0.0012 - mae: 0.0012 - val_loss: 4.8408e-04 - val_mae: 4.8408e-04\n",
            "Epoch 27/40\n",
            "6073/6073 [==============================] - 50s 8ms/step - loss: 0.0013 - mae: 0.0013 - val_loss: 0.0011 - val_mae: 0.0011\n",
            "Epoch 28/40\n",
            "6073/6073 [==============================] - 52s 9ms/step - loss: 0.0012 - mae: 0.0012 - val_loss: 0.0025 - val_mae: 0.0025\n",
            "Epoch 29/40\n",
            "6073/6073 [==============================] - 51s 8ms/step - loss: 0.0012 - mae: 0.0012 - val_loss: 0.0013 - val_mae: 0.0013\n",
            "Epoch 30/40\n",
            "6073/6073 [==============================] - 50s 8ms/step - loss: 0.0011 - mae: 0.0011 - val_loss: 0.0013 - val_mae: 0.0013\n",
            "Epoch 31/40\n",
            "6073/6073 [==============================] - 50s 8ms/step - loss: 0.0011 - mae: 0.0011 - val_loss: 9.1691e-04 - val_mae: 9.1691e-04\n",
            "Epoch 32/40\n",
            "6073/6073 [==============================] - 51s 8ms/step - loss: 0.0011 - mae: 0.0011 - val_loss: 8.2374e-04 - val_mae: 8.2374e-04\n",
            "Epoch 33/40\n",
            "6073/6073 [==============================] - 52s 9ms/step - loss: 0.0010 - mae: 0.0010 - val_loss: 0.0034 - val_mae: 0.0034\n",
            "Epoch 34/40\n",
            "6073/6073 [==============================] - 50s 8ms/step - loss: 0.0010 - mae: 0.0010 - val_loss: 7.9286e-04 - val_mae: 7.9286e-04\n",
            "Epoch 35/40\n",
            "6073/6073 [==============================] - 51s 8ms/step - loss: 0.0010 - mae: 0.0010 - val_loss: 0.0019 - val_mae: 0.0019\n",
            "Epoch 36/40\n",
            "6073/6073 [==============================] - 51s 8ms/step - loss: 0.0010 - mae: 0.0010 - val_loss: 8.3293e-04 - val_mae: 8.3293e-04\n",
            "Epoch 36: early stopping\n",
            "CPU times: user 43min 53s, sys: 2min 15s, total: 46min 8s\n",
            "Wall time: 31min 21s\n"
          ]
        }
      ]
    },
    {
      "cell_type": "code",
      "source": [
        "model_2.evaluate(X_test,Y_test)"
      ],
      "metadata": {
        "colab": {
          "base_uri": "https://localhost:8080/"
        },
        "id": "rwSzcN4IRsz1",
        "outputId": "c57071d1-2fea-4a75-c495-c414fd5d9f30"
      },
      "execution_count": 51,
      "outputs": [
        {
          "output_type": "stream",
          "name": "stdout",
          "text": [
            "1519/1519 [==============================] - 4s 3ms/step - loss: 8.3293e-04 - mae: 8.3293e-04\n"
          ]
        },
        {
          "output_type": "execute_result",
          "data": {
            "text/plain": [
              "[0.0008329264237545431, 0.0008329264237545431]"
            ]
          },
          "metadata": {},
          "execution_count": 51
        }
      ]
    },
    {
      "cell_type": "code",
      "source": [
        "model_2.summary()"
      ],
      "metadata": {
        "colab": {
          "base_uri": "https://localhost:8080/"
        },
        "id": "gEyqToczZ2zV",
        "outputId": "9afc0f38-4a86-4e37-d89d-03129f03a7eb"
      },
      "execution_count": 52,
      "outputs": [
        {
          "output_type": "stream",
          "name": "stdout",
          "text": [
            "Model: \"sequential_10\"\n",
            "_________________________________________________________________\n",
            " Layer (type)                Output Shape              Param #   \n",
            "=================================================================\n",
            " lstm_6 (LSTM)               (None, 8, 50)             10400     \n",
            "                                                                 \n",
            " lstm_7 (LSTM)               (None, 10)                2440      \n",
            "                                                                 \n",
            " dense_28 (Dense)            (None, 1)                 11        \n",
            "                                                                 \n",
            "=================================================================\n",
            "Total params: 12,851\n",
            "Trainable params: 12,851\n",
            "Non-trainable params: 0\n",
            "_________________________________________________________________\n"
          ]
        }
      ]
    },
    {
      "cell_type": "code",
      "source": [
        "plot_his(history_2)"
      ],
      "metadata": {
        "colab": {
          "base_uri": "https://localhost:8080/",
          "height": 295
        },
        "id": "NlVr94Jhwj1R",
        "outputId": "99d4ddd4-9607-4e16-8ea0-32a2d43b2083"
      },
      "execution_count": 53,
      "outputs": [
        {
          "output_type": "display_data",
          "data": {
            "text/plain": [
              "<Figure size 432x288 with 1 Axes>"
            ],
            "image/png": "[encoded data removed]"
          },
          "metadata": {
            "needs_background": "light"
          }
        }
      ]
    },
    {
      "cell_type": "code",
      "source": [
        "prediction_2 = model_2.predict(X_test)\n",
        "print(prediction_2[:20])"
      ],
      "metadata": {
        "colab": {
          "base_uri": "https://localhost:8080/"
        },
        "id": "APTjHqE8Z_YQ",
        "outputId": "dd34bf52-4c7b-4972-f7b6-c19fdcfd9fa7"
      },
      "execution_count": 54,
      "outputs": [
        {
          "output_type": "stream",
          "name": "stdout",
          "text": [
            "1519/1519 [==============================] - 4s 3ms/step\n",
            "[[0.02736638]\n",
            " [0.95636266]\n",
            " [0.90539604]\n",
            " [0.6873215 ]\n",
            " [0.92259246]\n",
            " [0.92982984]\n",
            " [0.5870489 ]\n",
            " [0.72029746]\n",
            " [0.0152736 ]\n",
            " [0.9417359 ]\n",
            " [0.21160957]\n",
            " [0.24843158]\n",
            " [0.9490122 ]\n",
            " [0.961603  ]\n",
            " [0.5846116 ]\n",
            " [0.9177786 ]\n",
            " [0.86491257]\n",
            " [0.9652886 ]\n",
            " [0.19594665]\n",
            " [0.9364731 ]]\n"
          ]
        }
      ]
    },
    {
      "cell_type": "code",
      "source": [
        "plt.figure(figsize=(14,8))\n",
        "plt.scatter(Y_test[300:900], Y_test[300:900], color='blue')\n",
        "plt.scatter(prediction_2[300:900], prediction_2[300:900], color='red')\n",
        "plt.show()"
      ],
      "metadata": {
        "colab": {
          "base_uri": "https://localhost:8080/",
          "height": 483
        },
        "id": "7YTcOpO9aZTI",
        "outputId": "7612127d-8d62-42fc-8df9-633def238a00"
      },
      "execution_count": 55,
      "outputs": [
        {
          "output_type": "display_data",
          "data": {
            "text/plain": [
              "<Figure size 1008x576 with 1 Axes>"
            ],
            "image/png": "[encoded data removed]"
          },
          "metadata": {
            "needs_background": "light"
          }
        }
      ]
    },
    {
      "cell_type": "markdown",
      "source": [
        "## Model 3\n",
        "Best"
      ],
      "metadata": {
        "id": "e6Wq_qvPmS2J"
      }
    },
    {
      "cell_type": "code",
      "source": [
        "%%time\n",
        "tf.random.set_seed(42)\n",
        "\n",
        "model_3 = tf.keras.Sequential([tf.keras.layers.LSTM(100,activation= 'relu',return_sequences=True, input_shape=(8,1)),\n",
        "                               tf.keras.layers.LSTM(50,activation= 'relu',return_sequences=True),\n",
        "                               tf.keras.layers.LSTM(30,activation='relu'),\n",
        "                               tf.keras.layers.Dense(20,activation='relu'),\n",
        "                               tf.keras.layers.Dense(1)])\n",
        "\n",
        "model_3.compile(loss = tf.keras.losses.mae,\n",
        "                optimizer = tf.keras.optimizers.Adam(learning_rate=0.001),\n",
        "                metrics = ['mae'])\n",
        "\n",
        "history_3 = model_3.fit(X_train,Y_train,epochs=40,validation_data=(X_test,Y_test))"
      ],
      "metadata": {
        "colab": {
          "base_uri": "https://localhost:8080/"
        },
        "id": "kXzekG-pN2aK",
        "outputId": "1caf925f-14bb-4c68-a928-d6626b241909"
      },
      "execution_count": 57,
      "outputs": [
        {
          "output_type": "stream",
          "name": "stdout",
          "text": [
            "Epoch 1/40\n",
            "6073/6073 [==============================] - 98s 16ms/step - loss: 0.0213 - mae: 0.0213 - val_loss: 0.0207 - val_mae: 0.0207\n",
            "Epoch 2/40\n",
            "6073/6073 [==============================] - 94s 16ms/step - loss: 0.0080 - mae: 0.0080 - val_loss: 0.0023 - val_mae: 0.0023\n",
            "Epoch 3/40\n",
            "6073/6073 [==============================] - 93s 15ms/step - loss: 0.0057 - mae: 0.0057 - val_loss: 0.0060 - val_mae: 0.0060\n",
            "Epoch 4/40\n",
            "6073/6073 [==============================] - 93s 15ms/step - loss: 0.0047 - mae: 0.0047 - val_loss: 0.0017 - val_mae: 0.0017\n",
            "Epoch 5/40\n",
            "6073/6073 [==============================] - 94s 15ms/step - loss: 0.0041 - mae: 0.0041 - val_loss: 0.0023 - val_mae: 0.0023\n",
            "Epoch 6/40\n",
            "6073/6073 [==============================] - 93s 15ms/step - loss: 0.0036 - mae: 0.0036 - val_loss: 0.0020 - val_mae: 0.0020\n",
            "Epoch 7/40\n",
            "6073/6073 [==============================] - 94s 16ms/step - loss: 0.0031 - mae: 0.0031 - val_loss: 0.0026 - val_mae: 0.0026\n",
            "Epoch 8/40\n",
            "6073/6073 [==============================] - 93s 15ms/step - loss: 0.0029 - mae: 0.0029 - val_loss: 0.0029 - val_mae: 0.0029\n",
            "Epoch 9/40\n",
            "6073/6073 [==============================] - 94s 16ms/step - loss: 0.0027 - mae: 0.0027 - val_loss: 0.0021 - val_mae: 0.0021\n",
            "Epoch 10/40\n",
            "6073/6073 [==============================] - 95s 16ms/step - loss: 0.0025 - mae: 0.0025 - val_loss: 0.0031 - val_mae: 0.0031\n",
            "Epoch 11/40\n",
            "6073/6073 [==============================] - 94s 16ms/step - loss: 0.0024 - mae: 0.0024 - val_loss: 0.0025 - val_mae: 0.0025\n",
            "Epoch 12/40\n",
            "6073/6073 [==============================] - 95s 16ms/step - loss: 0.0022 - mae: 0.0022 - val_loss: 0.0025 - val_mae: 0.0025\n",
            "Epoch 13/40\n",
            "6073/6073 [==============================] - 94s 15ms/step - loss: 0.0022 - mae: 0.0022 - val_loss: 0.0011 - val_mae: 0.0011\n",
            "Epoch 14/40\n",
            "6073/6073 [==============================] - 95s 16ms/step - loss: 0.0021 - mae: 0.0021 - val_loss: 0.0015 - val_mae: 0.0015\n",
            "Epoch 15/40\n",
            "6073/6073 [==============================] - 96s 16ms/step - loss: 0.0020 - mae: 0.0020 - val_loss: 0.0038 - val_mae: 0.0038\n",
            "Epoch 16/40\n",
            "6073/6073 [==============================] - 94s 15ms/step - loss: 0.0020 - mae: 0.0020 - val_loss: 8.6115e-04 - val_mae: 8.6115e-04\n",
            "Epoch 17/40\n",
            "6073/6073 [==============================] - 95s 16ms/step - loss: 0.0019 - mae: 0.0019 - val_loss: 0.0018 - val_mae: 0.0018\n",
            "Epoch 18/40\n",
            "6073/6073 [==============================] - 94s 16ms/step - loss: 0.0018 - mae: 0.0018 - val_loss: 0.0010 - val_mae: 0.0010\n",
            "Epoch 19/40\n",
            "6073/6073 [==============================] - 94s 15ms/step - loss: 0.0018 - mae: 0.0018 - val_loss: 0.0023 - val_mae: 0.0023\n",
            "Epoch 20/40\n",
            "6073/6073 [==============================] - 95s 16ms/step - loss: 0.0017 - mae: 0.0017 - val_loss: 0.0014 - val_mae: 0.0014\n",
            "Epoch 21/40\n",
            "6073/6073 [==============================] - 94s 15ms/step - loss: 0.0017 - mae: 0.0017 - val_loss: 0.0019 - val_mae: 0.0019\n",
            "Epoch 22/40\n",
            "6073/6073 [==============================] - 95s 16ms/step - loss: 0.0017 - mae: 0.0017 - val_loss: 0.0014 - val_mae: 0.0014\n",
            "Epoch 23/40\n",
            "6073/6073 [==============================] - 95s 16ms/step - loss: 0.0016 - mae: 0.0016 - val_loss: 0.0023 - val_mae: 0.0023\n",
            "Epoch 24/40\n",
            "6073/6073 [==============================] - 96s 16ms/step - loss: 0.0016 - mae: 0.0016 - val_loss: 0.0011 - val_mae: 0.0011\n",
            "Epoch 25/40\n",
            "6073/6073 [==============================] - 94s 15ms/step - loss: 0.0015 - mae: 0.0015 - val_loss: 0.0012 - val_mae: 0.0012\n",
            "Epoch 26/40\n",
            "6073/6073 [==============================] - 96s 16ms/step - loss: 0.0015 - mae: 0.0015 - val_loss: 9.0433e-04 - val_mae: 9.0433e-04\n",
            "Epoch 27/40\n",
            "6073/6073 [==============================] - 95s 16ms/step - loss: 0.0015 - mae: 0.0015 - val_loss: 0.0025 - val_mae: 0.0025\n",
            "Epoch 28/40\n",
            "6073/6073 [==============================] - 94s 15ms/step - loss: 0.0015 - mae: 0.0015 - val_loss: 9.8168e-04 - val_mae: 9.8168e-04\n",
            "Epoch 29/40\n",
            "6073/6073 [==============================] - 94s 16ms/step - loss: 0.0014 - mae: 0.0014 - val_loss: 6.7351e-04 - val_mae: 6.7351e-04\n",
            "Epoch 30/40\n",
            "6073/6073 [==============================] - 94s 15ms/step - loss: 0.0014 - mae: 0.0014 - val_loss: 0.0013 - val_mae: 0.0013\n",
            "Epoch 31/40\n",
            "6073/6073 [==============================] - 95s 16ms/step - loss: 0.0014 - mae: 0.0014 - val_loss: 0.0014 - val_mae: 0.0014\n",
            "Epoch 32/40\n",
            "6073/6073 [==============================] - 93s 15ms/step - loss: 0.0014 - mae: 0.0014 - val_loss: 0.0020 - val_mae: 0.0020\n",
            "Epoch 33/40\n",
            "6073/6073 [==============================] - 94s 15ms/step - loss: 0.0014 - mae: 0.0014 - val_loss: 0.0019 - val_mae: 0.0019\n",
            "Epoch 34/40\n",
            "6073/6073 [==============================] - 95s 16ms/step - loss: 0.0013 - mae: 0.0013 - val_loss: 6.8270e-04 - val_mae: 6.8270e-04\n",
            "Epoch 35/40\n",
            "6073/6073 [==============================] - 94s 16ms/step - loss: 0.0014 - mae: 0.0014 - val_loss: 0.0014 - val_mae: 0.0014\n",
            "Epoch 36/40\n",
            "6073/6073 [==============================] - 96s 16ms/step - loss: 0.0013 - mae: 0.0013 - val_loss: 0.0019 - val_mae: 0.0019\n",
            "Epoch 37/40\n",
            "6073/6073 [==============================] - 95s 16ms/step - loss: 0.0013 - mae: 0.0013 - val_loss: 0.0012 - val_mae: 0.0012\n",
            "Epoch 38/40\n",
            "6073/6073 [==============================] - 94s 16ms/step - loss: 0.0013 - mae: 0.0013 - val_loss: 6.5163e-04 - val_mae: 6.5163e-04\n",
            "Epoch 39/40\n",
            "6073/6073 [==============================] - 94s 15ms/step - loss: 0.0013 - mae: 0.0013 - val_loss: 0.0012 - val_mae: 0.0012\n",
            "Epoch 40/40\n",
            "6073/6073 [==============================] - 93s 15ms/step - loss: 0.0013 - mae: 0.0013 - val_loss: 0.0013 - val_mae: 0.0013\n",
            "CPU times: user 1h 34min 38s, sys: 4min 44s, total: 1h 39min 22s\n",
            "Wall time: 1h 3min 25s\n"
          ]
        }
      ]
    },
    {
      "cell_type": "code",
      "source": [
        "model_3.summary()"
      ],
      "metadata": {
        "colab": {
          "base_uri": "https://localhost:8080/"
        },
        "id": "mB_-KjB5P6TZ",
        "outputId": "7611f980-770a-4ee9-f0b4-81753ab110f1"
      },
      "execution_count": 58,
      "outputs": [
        {
          "output_type": "stream",
          "name": "stdout",
          "text": [
            "Model: \"sequential_12\"\n",
            "_________________________________________________________________\n",
            " Layer (type)                Output Shape              Param #   \n",
            "=================================================================\n",
            " lstm_11 (LSTM)              (None, 8, 100)            40800     \n",
            "                                                                 \n",
            " lstm_12 (LSTM)              (None, 8, 50)             30200     \n",
            "                                                                 \n",
            " lstm_13 (LSTM)              (None, 30)                9720      \n",
            "                                                                 \n",
            " dense_31 (Dense)            (None, 20)                620       \n",
            "                                                                 \n",
            " dense_32 (Dense)            (None, 1)                 21        \n",
            "                                                                 \n",
            "=================================================================\n",
            "Total params: 81,361\n",
            "Trainable params: 81,361\n",
            "Non-trainable params: 0\n",
            "_________________________________________________________________\n"
          ]
        }
      ]
    },
    {
      "cell_type": "code",
      "source": [
        "plot_his(history_3)"
      ],
      "metadata": {
        "colab": {
          "base_uri": "https://localhost:8080/",
          "height": 295
        },
        "id": "oySRE_5rwofI",
        "outputId": "56c86c15-6c50-46b8-c390-dcfdb227287b"
      },
      "execution_count": 59,
      "outputs": [
        {
          "output_type": "display_data",
          "data": {
            "text/plain": [
              "<Figure size 432x288 with 1 Axes>"
            ],
            "image/png": "[encoded data removed]"
          },
          "metadata": {
            "needs_background": "light"
          }
        }
      ]
    },
    {
      "cell_type": "code",
      "source": [
        "%%time\n",
        "model_3.evaluate(X_test,Y_test)"
      ],
      "metadata": {
        "colab": {
          "base_uri": "https://localhost:8080/"
        },
        "id": "yFDCLLoIP6Qy",
        "outputId": "5c79569c-67c8-43aa-d330-547d0344d261"
      },
      "execution_count": 60,
      "outputs": [
        {
          "output_type": "stream",
          "name": "stdout",
          "text": [
            "1519/1519 [==============================] - 8s 5ms/step - loss: 0.0013 - mae: 0.0013\n",
            "CPU times: user 11 s, sys: 467 ms, total: 11.5 s\n",
            "Wall time: 7.77 s\n"
          ]
        },
        {
          "output_type": "execute_result",
          "data": {
            "text/plain": [
              "[0.0012521222233772278, 0.0012521222233772278]"
            ]
          },
          "metadata": {},
          "execution_count": 60
        }
      ]
    },
    {
      "cell_type": "code",
      "source": [
        "prediction_3 = model_3.predict(X_test)"
      ],
      "metadata": {
        "colab": {
          "base_uri": "https://localhost:8080/"
        },
        "id": "EF8Dvai7QDPW",
        "outputId": "6aa9de70-b044-4fe2-8903-50d2eafd719f"
      },
      "execution_count": 62,
      "outputs": [
        {
          "output_type": "stream",
          "name": "stdout",
          "text": [
            "1519/1519 [==============================] - 8s 5ms/step\n"
          ]
        }
      ]
    },
    {
      "cell_type": "code",
      "source": [
        "plt.figure(figsize=(14,8))\n",
        "plt.scatter(Y_test[300:900], Y_test[300:900], color='blue')\n",
        "plt.scatter(prediction_3[300:900], prediction_3[300:900], color='red')\n",
        "plt.show()"
      ],
      "metadata": {
        "colab": {
          "base_uri": "https://localhost:8080/",
          "height": 483
        },
        "id": "BC0150k8QDNK",
        "outputId": "8d766a05-39cc-4a8d-bbed-55b3c925bdc9"
      },
      "execution_count": 63,
      "outputs": [
        {
          "output_type": "display_data",
          "data": {
            "text/plain": [
              "<Figure size 1008x576 with 1 Axes>"
            ],
            "image/png": "[encoded data removed]"
          },
          "metadata": {
            "needs_background": "light"
          }
        }
      ]
    },
    {
      "cell_type": "markdown",
      "source": [
        "# CNN"
      ],
      "metadata": {
        "id": "r8VIuV9kmjxB"
      }
    },
    {
      "cell_type": "markdown",
      "source": [
        "## Model 4\n",
        "CNN"
      ],
      "metadata": {
        "id": "jOtJqWZDay3Q"
      }
    },
    {
      "cell_type": "code",
      "source": [
        "%%time\n",
        "model_4 = tf.keras.Sequential([tf.keras.layers.Conv1D(10,3,activation='relu',input_shape=(8,1)),\n",
        "                               tf.keras.layers.Conv1D(10,3,activation='relu'),\n",
        "                               tf.keras.layers.Flatten(),\n",
        "                               tf.keras.layers.Dense(1)])\n",
        "\n",
        "model_4.compile(loss = tf.keras.losses.mae,\n",
        "                optimizer = tf.keras.optimizers.Adam(learning_rate=0.001),\n",
        "                metrics=['mae'])\n",
        "\n",
        "history_4 = model_4.fit(X_train,Y_train,epochs=50,validation_data=(X_test,Y_test),callbacks=callback)"
      ],
      "metadata": {
        "id": "1JnEs7lm-635",
        "colab": {
          "base_uri": "https://localhost:8080/"
        },
        "outputId": "efb0cba1-dba5-4340-c5b3-0945e7a93903"
      },
      "execution_count": 81,
      "outputs": [
        {
          "output_type": "stream",
          "name": "stdout",
          "text": [
            "Epoch 1/50\n",
            "6073/6073 [==============================] - 13s 2ms/step - loss: 0.0071 - mae: 0.0071 - val_loss: 0.0043 - val_mae: 0.0043\n",
            "Epoch 2/50\n",
            "6073/6073 [==============================] - 13s 2ms/step - loss: 0.0015 - mae: 0.0015 - val_loss: 0.0033 - val_mae: 0.0033\n",
            "Epoch 3/50\n",
            "6073/6073 [==============================] - 12s 2ms/step - loss: 0.0014 - mae: 0.0014 - val_loss: 0.0018 - val_mae: 0.0018\n",
            "Epoch 4/50\n",
            "6073/6073 [==============================] - 12s 2ms/step - loss: 0.0013 - mae: 0.0013 - val_loss: 0.0019 - val_mae: 0.0019\n",
            "Epoch 5/50\n",
            "6073/6073 [==============================] - 13s 2ms/step - loss: 0.0013 - mae: 0.0013 - val_loss: 0.0015 - val_mae: 0.0015\n",
            "Epoch 6/50\n",
            "6073/6073 [==============================] - 12s 2ms/step - loss: 0.0013 - mae: 0.0013 - val_loss: 7.0979e-04 - val_mae: 7.0979e-04\n",
            "Epoch 7/50\n",
            "6073/6073 [==============================] - 11s 2ms/step - loss: 0.0012 - mae: 0.0012 - val_loss: 0.0012 - val_mae: 0.0012\n",
            "Epoch 8/50\n",
            "6073/6073 [==============================] - 13s 2ms/step - loss: 0.0012 - mae: 0.0012 - val_loss: 0.0017 - val_mae: 0.0017\n",
            "Epoch 9/50\n",
            "6073/6073 [==============================] - 13s 2ms/step - loss: 0.0012 - mae: 0.0012 - val_loss: 0.0013 - val_mae: 0.0013\n",
            "Epoch 10/50\n",
            "6073/6073 [==============================] - 13s 2ms/step - loss: 0.0012 - mae: 0.0012 - val_loss: 0.0014 - val_mae: 0.0014\n",
            "Epoch 11/50\n",
            "6073/6073 [==============================] - 12s 2ms/step - loss: 0.0012 - mae: 0.0012 - val_loss: 0.0013 - val_mae: 0.0013\n",
            "Epoch 12/50\n",
            "6073/6073 [==============================] - 12s 2ms/step - loss: 0.0011 - mae: 0.0011 - val_loss: 0.0014 - val_mae: 0.0014\n",
            "Epoch 13/50\n",
            "6073/6073 [==============================] - 12s 2ms/step - loss: 0.0011 - mae: 0.0011 - val_loss: 6.4900e-04 - val_mae: 6.4900e-04\n",
            "Epoch 14/50\n",
            "6073/6073 [==============================] - 11s 2ms/step - loss: 0.0011 - mae: 0.0011 - val_loss: 6.8530e-04 - val_mae: 6.8530e-04\n",
            "Epoch 15/50\n",
            "6073/6073 [==============================] - 11s 2ms/step - loss: 0.0011 - mae: 0.0011 - val_loss: 0.0012 - val_mae: 0.0012\n",
            "Epoch 16/50\n",
            "6073/6073 [==============================] - 13s 2ms/step - loss: 0.0011 - mae: 0.0011 - val_loss: 0.0010 - val_mae: 0.0010\n",
            "Epoch 17/50\n",
            "6073/6073 [==============================] - 13s 2ms/step - loss: 0.0011 - mae: 0.0011 - val_loss: 0.0021 - val_mae: 0.0021\n",
            "Epoch 18/50\n",
            "6073/6073 [==============================] - 12s 2ms/step - loss: 0.0011 - mae: 0.0011 - val_loss: 9.0312e-04 - val_mae: 9.0312e-04\n",
            "Epoch 19/50\n",
            "6073/6073 [==============================] - 11s 2ms/step - loss: 0.0011 - mae: 0.0011 - val_loss: 0.0010 - val_mae: 0.0010\n",
            "Epoch 20/50\n",
            "6073/6073 [==============================] - 12s 2ms/step - loss: 0.0011 - mae: 0.0011 - val_loss: 4.3392e-04 - val_mae: 4.3392e-04\n",
            "Epoch 21/50\n",
            "6073/6073 [==============================] - 11s 2ms/step - loss: 0.0011 - mae: 0.0011 - val_loss: 0.0014 - val_mae: 0.0014\n",
            "Epoch 22/50\n",
            "6073/6073 [==============================] - 11s 2ms/step - loss: 0.0010 - mae: 0.0010 - val_loss: 0.0013 - val_mae: 0.0013\n",
            "Epoch 23/50\n",
            "6073/6073 [==============================] - 13s 2ms/step - loss: 0.0011 - mae: 0.0011 - val_loss: 4.2345e-04 - val_mae: 4.2345e-04\n",
            "Epoch 24/50\n",
            "6073/6073 [==============================] - 12s 2ms/step - loss: 0.0011 - mae: 0.0011 - val_loss: 0.0011 - val_mae: 0.0011\n",
            "Epoch 25/50\n",
            "6073/6073 [==============================] - 11s 2ms/step - loss: 0.0010 - mae: 0.0010 - val_loss: 5.0834e-04 - val_mae: 5.0834e-04\n",
            "Epoch 26/50\n",
            "6073/6073 [==============================] - 12s 2ms/step - loss: 0.0010 - mae: 0.0010 - val_loss: 0.0012 - val_mae: 0.0012\n",
            "Epoch 27/50\n",
            "6073/6073 [==============================] - 14s 2ms/step - loss: 9.8857e-04 - mae: 9.8857e-04 - val_loss: 0.0014 - val_mae: 0.0014\n",
            "Epoch 28/50\n",
            "6073/6073 [==============================] - 13s 2ms/step - loss: 0.0010 - mae: 0.0010 - val_loss: 0.0010 - val_mae: 0.0010\n",
            "Epoch 29/50\n",
            "6073/6073 [==============================] - 13s 2ms/step - loss: 0.0010 - mae: 0.0010 - val_loss: 0.0024 - val_mae: 0.0024\n",
            "Epoch 30/50\n",
            "6073/6073 [==============================] - 11s 2ms/step - loss: 0.0010 - mae: 0.0010 - val_loss: 2.1555e-04 - val_mae: 2.1555e-04\n",
            "Epoch 31/50\n",
            "6073/6073 [==============================] - 12s 2ms/step - loss: 9.7918e-04 - mae: 9.7918e-04 - val_loss: 4.0442e-04 - val_mae: 4.0442e-04\n",
            "Epoch 32/50\n",
            "6073/6073 [==============================] - 13s 2ms/step - loss: 0.0010 - mae: 0.0010 - val_loss: 4.4204e-04 - val_mae: 4.4204e-04\n",
            "Epoch 33/50\n",
            "6073/6073 [==============================] - 11s 2ms/step - loss: 9.9025e-04 - mae: 9.9025e-04 - val_loss: 9.8146e-04 - val_mae: 9.8146e-04\n",
            "Epoch 34/50\n",
            "6073/6073 [==============================] - 11s 2ms/step - loss: 9.6345e-04 - mae: 9.6345e-04 - val_loss: 9.1767e-04 - val_mae: 9.1767e-04\n",
            "Epoch 35/50\n",
            "6073/6073 [==============================] - 11s 2ms/step - loss: 9.6606e-04 - mae: 9.6606e-04 - val_loss: 9.5993e-04 - val_mae: 9.5993e-04\n",
            "Epoch 36/50\n",
            "6073/6073 [==============================] - 11s 2ms/step - loss: 9.7595e-04 - mae: 9.7595e-04 - val_loss: 6.0097e-04 - val_mae: 6.0097e-04\n",
            "Epoch 37/50\n",
            "6073/6073 [==============================] - 13s 2ms/step - loss: 9.5095e-04 - mae: 9.5095e-04 - val_loss: 0.0014 - val_mae: 0.0014\n",
            "Epoch 38/50\n",
            "6073/6073 [==============================] - 11s 2ms/step - loss: 9.4624e-04 - mae: 9.4624e-04 - val_loss: 0.0012 - val_mae: 0.0012\n",
            "Epoch 39/50\n",
            "6073/6073 [==============================] - 12s 2ms/step - loss: 9.6346e-04 - mae: 9.6346e-04 - val_loss: 0.0011 - val_mae: 0.0011\n",
            "Epoch 40/50\n",
            "6073/6073 [==============================] - 11s 2ms/step - loss: 9.6418e-04 - mae: 9.6418e-04 - val_loss: 6.7884e-04 - val_mae: 6.7884e-04\n",
            "Epoch 40: early stopping\n",
            "CPU times: user 8min 40s, sys: 37.9 s, total: 9min 18s\n",
            "Wall time: 8min 4s\n"
          ]
        }
      ]
    },
    {
      "cell_type": "code",
      "source": [
        "model_4.evaluate(X_test,Y_test)"
      ],
      "metadata": {
        "colab": {
          "base_uri": "https://localhost:8080/"
        },
        "id": "Ew-_bqOMgKGJ",
        "outputId": "11f4584f-9218-4b30-c3dc-3f447ab8718c"
      },
      "execution_count": 82,
      "outputs": [
        {
          "output_type": "stream",
          "name": "stdout",
          "text": [
            "1519/1519 [==============================] - 2s 1ms/step - loss: 6.7884e-04 - mae: 6.7884e-04\n"
          ]
        },
        {
          "output_type": "execute_result",
          "data": {
            "text/plain": [
              "[0.0006788375321775675, 0.0006788375321775675]"
            ]
          },
          "metadata": {},
          "execution_count": 82
        }
      ]
    },
    {
      "cell_type": "code",
      "source": [
        "plot_his(history_4)"
      ],
      "metadata": {
        "colab": {
          "base_uri": "https://localhost:8080/",
          "height": 295
        },
        "id": "FQFbdP1-hj7A",
        "outputId": "b76bb994-a251-469c-b4b0-b9f999732915"
      },
      "execution_count": 83,
      "outputs": [
        {
          "output_type": "display_data",
          "data": {
            "text/plain": [
              "<Figure size 432x288 with 1 Axes>"
            ],
            "image/png": "[encoded data removed]"
          },
          "metadata": {
            "needs_background": "light"
          }
        }
      ]
    },
    {
      "cell_type": "code",
      "source": [
        "prediction_4 = model_4.predict(X_test)"
      ],
      "metadata": {
        "colab": {
          "base_uri": "https://localhost:8080/"
        },
        "id": "t5wBBzcYg9uv",
        "outputId": "96dfac76-e274-4819-f560-34bd414987ae"
      },
      "execution_count": 84,
      "outputs": [
        {
          "output_type": "stream",
          "name": "stdout",
          "text": [
            "1519/1519 [==============================] - 2s 1ms/step\n"
          ]
        }
      ]
    },
    {
      "cell_type": "code",
      "source": [
        "plt.figure(figsize=(14,8))\n",
        "plt.scatter(Y_test[300:900], Y_test[300:900], color='blue')\n",
        "plt.scatter(prediction_4[300:900], prediction_4[300:900], color='red')\n",
        "plt.show()"
      ],
      "metadata": {
        "colab": {
          "base_uri": "https://localhost:8080/",
          "height": 483
        },
        "id": "86n-v6aRhUvg",
        "outputId": "84dad0ae-ad37-4ebe-93c7-9dba313bd842"
      },
      "execution_count": 85,
      "outputs": [
        {
          "output_type": "display_data",
          "data": {
            "text/plain": [
              "<Figure size 1008x576 with 1 Axes>"
            ],
            "image/png": "[encoded data removed]"
          },
          "metadata": {
            "needs_background": "light"
          }
        }
      ]
    },
    {
      "cell_type": "code",
      "source": [],
      "metadata": {
        "id": "M3Wm9aF_jzzA"
      },
      "execution_count": null,
      "outputs": []
    },
    {
      "cell_type": "code",
      "source": [],
      "metadata": {
        "id": "0Sq1wLclkExF"
      },
      "execution_count": null,
      "outputs": []
    },
    {
      "cell_type": "markdown",
      "source": [
        "## Model 5"
      ],
      "metadata": {
        "id": "uDWgwOG9maNf"
      }
    },
    {
      "cell_type": "code",
      "source": [
        "%%time\n",
        "model_5 = tf.keras.Sequential([tf.keras.layers.Conv1D(30,3,activation='relu',input_shape=(8,1)),\n",
        "                               tf.keras.layers.Conv1D(10,3,activation='relu'),\n",
        "                               tf.keras.layers.Flatten(),\n",
        "                               tf.keras.layers.Dense(16,activation='relu'),\n",
        "                               tf.keras.layers.Dense(1)])\n",
        "\n",
        "model_5.compile(loss = tf.keras.losses.mae,\n",
        "                optimizer = tf.keras.optimizers.Adam(learning_rate=0.001),\n",
        "                metrics=['mae'])\n",
        "\n",
        "history_5 = model_5.fit(X_train,Y_train,epochs=50,validation_data=(X_test,Y_test))"
      ],
      "metadata": {
        "colab": {
          "base_uri": "https://localhost:8080/"
        },
        "id": "HacVkjhykEuw",
        "outputId": "57655129-6f95-49dd-a8b6-2266421bce6d"
      },
      "execution_count": 89,
      "outputs": [
        {
          "output_type": "stream",
          "name": "stdout",
          "text": [
            "Epoch 1/50\n",
            "6073/6073 [==============================] - 15s 2ms/step - loss: 0.0048 - mae: 0.0048 - val_loss: 0.0035 - val_mae: 0.0035\n",
            "Epoch 2/50\n",
            "6073/6073 [==============================] - 13s 2ms/step - loss: 0.0025 - mae: 0.0025 - val_loss: 0.0050 - val_mae: 0.0050\n",
            "Epoch 3/50\n",
            "6073/6073 [==============================] - 13s 2ms/step - loss: 0.0024 - mae: 0.0024 - val_loss: 9.8077e-04 - val_mae: 9.8077e-04\n",
            "Epoch 4/50\n",
            "6073/6073 [==============================] - 13s 2ms/step - loss: 0.0022 - mae: 0.0022 - val_loss: 0.0031 - val_mae: 0.0031\n",
            "Epoch 5/50\n",
            "6073/6073 [==============================] - 15s 2ms/step - loss: 0.0021 - mae: 0.0021 - val_loss: 0.0030 - val_mae: 0.0030\n",
            "Epoch 6/50\n",
            "6073/6073 [==============================] - 15s 2ms/step - loss: 0.0020 - mae: 0.0020 - val_loss: 9.0685e-04 - val_mae: 9.0685e-04\n",
            "Epoch 7/50\n",
            "6073/6073 [==============================] - 13s 2ms/step - loss: 0.0019 - mae: 0.0019 - val_loss: 8.6224e-04 - val_mae: 8.6224e-04\n",
            "Epoch 8/50\n",
            "6073/6073 [==============================] - 15s 3ms/step - loss: 0.0019 - mae: 0.0019 - val_loss: 0.0037 - val_mae: 0.0037\n",
            "Epoch 9/50\n",
            "6073/6073 [==============================] - 13s 2ms/step - loss: 0.0018 - mae: 0.0018 - val_loss: 7.1020e-04 - val_mae: 7.1020e-04\n",
            "Epoch 10/50\n",
            "6073/6073 [==============================] - 13s 2ms/step - loss: 0.0017 - mae: 0.0017 - val_loss: 0.0015 - val_mae: 0.0015\n",
            "Epoch 11/50\n",
            "6073/6073 [==============================] - 14s 2ms/step - loss: 0.0018 - mae: 0.0018 - val_loss: 0.0023 - val_mae: 0.0023\n",
            "Epoch 12/50\n",
            "6073/6073 [==============================] - 15s 2ms/step - loss: 0.0017 - mae: 0.0017 - val_loss: 0.0013 - val_mae: 0.0013\n",
            "Epoch 13/50\n",
            "6073/6073 [==============================] - 13s 2ms/step - loss: 0.0016 - mae: 0.0016 - val_loss: 0.0035 - val_mae: 0.0035\n",
            "Epoch 14/50\n",
            "6073/6073 [==============================] - 14s 2ms/step - loss: 0.0017 - mae: 0.0017 - val_loss: 4.9201e-04 - val_mae: 4.9201e-04\n",
            "Epoch 15/50\n",
            "6073/6073 [==============================] - 13s 2ms/step - loss: 0.0016 - mae: 0.0016 - val_loss: 5.5112e-04 - val_mae: 5.5112e-04\n",
            "Epoch 16/50\n",
            "6073/6073 [==============================] - 13s 2ms/step - loss: 0.0016 - mae: 0.0016 - val_loss: 0.0032 - val_mae: 0.0032\n",
            "Epoch 17/50\n",
            "6073/6073 [==============================] - 14s 2ms/step - loss: 0.0015 - mae: 0.0015 - val_loss: 7.7072e-04 - val_mae: 7.7072e-04\n",
            "Epoch 18/50\n",
            "6073/6073 [==============================] - 13s 2ms/step - loss: 0.0016 - mae: 0.0016 - val_loss: 0.0025 - val_mae: 0.0025\n",
            "Epoch 19/50\n",
            "6073/6073 [==============================] - 14s 2ms/step - loss: 0.0016 - mae: 0.0016 - val_loss: 8.3775e-04 - val_mae: 8.3775e-04\n",
            "Epoch 20/50\n",
            "6073/6073 [==============================] - 13s 2ms/step - loss: 0.0015 - mae: 0.0015 - val_loss: 0.0012 - val_mae: 0.0012\n",
            "Epoch 21/50\n",
            "6073/6073 [==============================] - 13s 2ms/step - loss: 0.0014 - mae: 0.0014 - val_loss: 0.0014 - val_mae: 0.0014\n",
            "Epoch 22/50\n",
            "6073/6073 [==============================] - 14s 2ms/step - loss: 0.0015 - mae: 0.0015 - val_loss: 0.0021 - val_mae: 0.0021\n",
            "Epoch 23/50\n",
            "6073/6073 [==============================] - 13s 2ms/step - loss: 0.0015 - mae: 0.0015 - val_loss: 6.3731e-04 - val_mae: 6.3731e-04\n",
            "Epoch 24/50\n",
            "6073/6073 [==============================] - 13s 2ms/step - loss: 0.0014 - mae: 0.0014 - val_loss: 0.0018 - val_mae: 0.0018\n",
            "Epoch 25/50\n",
            "6073/6073 [==============================] - 14s 2ms/step - loss: 0.0015 - mae: 0.0015 - val_loss: 7.8101e-04 - val_mae: 7.8101e-04\n",
            "Epoch 26/50\n",
            "6073/6073 [==============================] - 13s 2ms/step - loss: 0.0014 - mae: 0.0014 - val_loss: 0.0039 - val_mae: 0.0039\n",
            "Epoch 27/50\n",
            "6073/6073 [==============================] - 14s 2ms/step - loss: 0.0014 - mae: 0.0014 - val_loss: 0.0022 - val_mae: 0.0022\n",
            "Epoch 28/50\n",
            "6073/6073 [==============================] - 13s 2ms/step - loss: 0.0014 - mae: 0.0014 - val_loss: 6.1297e-04 - val_mae: 6.1297e-04\n",
            "Epoch 29/50\n",
            "6073/6073 [==============================] - 14s 2ms/step - loss: 0.0014 - mae: 0.0014 - val_loss: 4.8887e-04 - val_mae: 4.8887e-04\n",
            "Epoch 30/50\n",
            "6073/6073 [==============================] - 14s 2ms/step - loss: 0.0014 - mae: 0.0014 - val_loss: 0.0013 - val_mae: 0.0013\n",
            "Epoch 31/50\n",
            "6073/6073 [==============================] - 13s 2ms/step - loss: 0.0014 - mae: 0.0014 - val_loss: 9.6152e-04 - val_mae: 9.6152e-04\n",
            "Epoch 32/50\n",
            "6073/6073 [==============================] - 14s 2ms/step - loss: 0.0013 - mae: 0.0013 - val_loss: 9.3414e-04 - val_mae: 9.3414e-04\n",
            "Epoch 33/50\n",
            "6073/6073 [==============================] - 14s 2ms/step - loss: 0.0013 - mae: 0.0013 - val_loss: 0.0038 - val_mae: 0.0038\n",
            "Epoch 34/50\n",
            "6073/6073 [==============================] - 14s 2ms/step - loss: 0.0013 - mae: 0.0013 - val_loss: 0.0019 - val_mae: 0.0019\n",
            "Epoch 35/50\n",
            "6073/6073 [==============================] - 13s 2ms/step - loss: 0.0013 - mae: 0.0013 - val_loss: 9.6968e-04 - val_mae: 9.6968e-04\n",
            "Epoch 36/50\n",
            "6073/6073 [==============================] - 13s 2ms/step - loss: 0.0013 - mae: 0.0013 - val_loss: 6.8042e-04 - val_mae: 6.8042e-04\n",
            "Epoch 37/50\n",
            "6073/6073 [==============================] - 14s 2ms/step - loss: 0.0013 - mae: 0.0013 - val_loss: 0.0012 - val_mae: 0.0012\n",
            "Epoch 38/50\n",
            "6073/6073 [==============================] - 14s 2ms/step - loss: 0.0013 - mae: 0.0013 - val_loss: 0.0029 - val_mae: 0.0029\n",
            "Epoch 39/50\n",
            "6073/6073 [==============================] - 15s 2ms/step - loss: 0.0013 - mae: 0.0013 - val_loss: 0.0013 - val_mae: 0.0013\n",
            "Epoch 40/50\n",
            "6073/6073 [==============================] - 14s 2ms/step - loss: 0.0013 - mae: 0.0013 - val_loss: 5.9696e-04 - val_mae: 5.9696e-04\n",
            "Epoch 41/50\n",
            "6073/6073 [==============================] - 13s 2ms/step - loss: 0.0013 - mae: 0.0013 - val_loss: 5.8256e-04 - val_mae: 5.8256e-04\n",
            "Epoch 42/50\n",
            "6073/6073 [==============================] - 15s 2ms/step - loss: 0.0012 - mae: 0.0012 - val_loss: 9.2387e-04 - val_mae: 9.2387e-04\n",
            "Epoch 43/50\n",
            "6073/6073 [==============================] - 15s 2ms/step - loss: 0.0013 - mae: 0.0013 - val_loss: 0.0011 - val_mae: 0.0011\n",
            "Epoch 44/50\n",
            "6073/6073 [==============================] - 14s 2ms/step - loss: 0.0013 - mae: 0.0013 - val_loss: 0.0011 - val_mae: 0.0011\n",
            "Epoch 45/50\n",
            "6073/6073 [==============================] - 15s 2ms/step - loss: 0.0013 - mae: 0.0013 - val_loss: 0.0019 - val_mae: 0.0019\n",
            "Epoch 46/50\n",
            "6073/6073 [==============================] - 15s 2ms/step - loss: 0.0012 - mae: 0.0012 - val_loss: 8.8341e-04 - val_mae: 8.8341e-04\n",
            "Epoch 47/50\n",
            "6073/6073 [==============================] - 14s 2ms/step - loss: 0.0013 - mae: 0.0013 - val_loss: 8.0286e-04 - val_mae: 8.0286e-04\n",
            "Epoch 48/50\n",
            "6073/6073 [==============================] - 13s 2ms/step - loss: 0.0013 - mae: 0.0013 - val_loss: 0.0017 - val_mae: 0.0017\n",
            "Epoch 49/50\n",
            "6073/6073 [==============================] - 14s 2ms/step - loss: 0.0012 - mae: 0.0012 - val_loss: 6.1322e-04 - val_mae: 6.1322e-04\n",
            "Epoch 50/50\n",
            "6073/6073 [==============================] - 15s 2ms/step - loss: 0.0013 - mae: 0.0013 - val_loss: 0.0015 - val_mae: 0.0015\n",
            "CPU times: user 12min 55s, sys: 58.7 s, total: 13min 53s\n",
            "Wall time: 12min 22s\n"
          ]
        }
      ]
    },
    {
      "cell_type": "code",
      "source": [
        "plot_his(history_5)"
      ],
      "metadata": {
        "colab": {
          "base_uri": "https://localhost:8080/",
          "height": 295
        },
        "id": "ZdjiIKnPkQhR",
        "outputId": "16a86210-dae4-4d66-c11e-5a58b1064d3a"
      },
      "execution_count": 90,
      "outputs": [
        {
          "output_type": "display_data",
          "data": {
            "text/plain": [
              "<Figure size 432x288 with 1 Axes>"
            ],
            "image/png": "[encoded data removed]"
          },
          "metadata": {
            "needs_background": "light"
          }
        }
      ]
    },
    {
      "cell_type": "code",
      "source": [
        "prediction_5 = model_5.predict(X_test)"
      ],
      "metadata": {
        "colab": {
          "base_uri": "https://localhost:8080/"
        },
        "id": "jnEjETNymCux",
        "outputId": "c8c7e243-14a8-4915-9c70-869a248c42f6"
      },
      "execution_count": 91,
      "outputs": [
        {
          "output_type": "stream",
          "name": "stdout",
          "text": [
            "1519/1519 [==============================] - 2s 1ms/step\n"
          ]
        }
      ]
    },
    {
      "cell_type": "code",
      "source": [
        "plt.figure(figsize=(14,8))\n",
        "plt.scatter(Y_test[300:900], Y_test[300:900], color='blue')\n",
        "plt.scatter(prediction_5[300:900], prediction_5[300:900], color='red')\n",
        "plt.show()"
      ],
      "metadata": {
        "colab": {
          "base_uri": "https://localhost:8080/",
          "height": 483
        },
        "id": "7j_9vr8ik8DA",
        "outputId": "c9d5892a-4b0b-46ee-9f1b-9d8b7bb1b815"
      },
      "execution_count": 92,
      "outputs": [
        {
          "output_type": "display_data",
          "data": {
            "text/plain": [
              "<Figure size 1008x576 with 1 Axes>"
            ],
            "image/png": "[encoded data removed]"
          },
          "metadata": {
            "needs_background": "light"
          }
        }
      ]
    },
    {
      "cell_type": "markdown",
      "source": [
        "## Model 6"
      ],
      "metadata": {
        "id": "DaImyiqey3QC"
      }
    },
    {
      "cell_type": "code",
      "source": [
        "%%time\n",
        "model_6 = tf.keras.Sequential([tf.keras.layers.Conv1D(10,3,activation='relu',input_shape=(8,1)),\n",
        "                               tf.keras.layers.Conv1D(10,2,activation='relu'),\n",
        "                               tf.keras.layers.Flatten(),\n",
        "                               tf.keras.layers.Dense(16,activation=\"relu\"),\n",
        "                               tf.keras.layers.Dense(1)])\n",
        "\n",
        "model_6.compile(loss = tf.keras.losses.mae,\n",
        "                optimizer = tf.keras.optimizers.Adam(learning_rate=0.001),\n",
        "                metrics=['mae'])\n",
        "\n",
        "history_6 = model_6.fit(X_train,Y_train,epochs=100,validation_data=(X_test,Y_test))"
      ],
      "metadata": {
        "id": "gRyV8MtGoeFw",
        "colab": {
          "base_uri": "https://localhost:8080/"
        },
        "outputId": "c84f718d-9231-4075-a4c3-c9fa689b3f21"
      },
      "execution_count": null,
      "outputs": [
        {
          "output_type": "stream",
          "name": "stdout",
          "text": [
            "Epoch 1/100\n",
            "6073/6073 [==============================] - 22s 3ms/step - loss: 0.0056 - mae: 0.0056 - val_loss: 0.0029 - val_mae: 0.0029\n",
            "Epoch 2/100\n",
            "6073/6073 [==============================] - 21s 3ms/step - loss: 0.0024 - mae: 0.0024 - val_loss: 0.0042 - val_mae: 0.0042\n",
            "Epoch 3/100\n",
            "6073/6073 [==============================] - 21s 3ms/step - loss: 0.0022 - mae: 0.0022 - val_loss: 0.0024 - val_mae: 0.0024\n",
            "Epoch 4/100\n",
            "6073/6073 [==============================] - 21s 3ms/step - loss: 0.0020 - mae: 0.0020 - val_loss: 5.5763e-04 - val_mae: 5.5763e-04\n",
            "Epoch 5/100\n",
            "6073/6073 [==============================] - 21s 3ms/step - loss: 0.0018 - mae: 0.0018 - val_loss: 0.0040 - val_mae: 0.0040\n",
            "Epoch 6/100\n",
            "6073/6073 [==============================] - 21s 3ms/step - loss: 0.0018 - mae: 0.0018 - val_loss: 0.0025 - val_mae: 0.0025\n",
            "Epoch 7/100\n",
            "6073/6073 [==============================] - 21s 3ms/step - loss: 0.0016 - mae: 0.0016 - val_loss: 0.0014 - val_mae: 0.0014\n",
            "Epoch 8/100\n",
            "6073/6073 [==============================] - 21s 3ms/step - loss: 0.0017 - mae: 0.0017 - val_loss: 0.0041 - val_mae: 0.0041\n",
            "Epoch 9/100\n",
            "6073/6073 [==============================] - 21s 3ms/step - loss: 0.0015 - mae: 0.0015 - val_loss: 8.2927e-04 - val_mae: 8.2927e-04\n",
            "Epoch 10/100\n",
            "6073/6073 [==============================] - 21s 3ms/step - loss: 0.0015 - mae: 0.0015 - val_loss: 0.0044 - val_mae: 0.0044\n",
            "Epoch 11/100\n",
            "6073/6073 [==============================] - 21s 3ms/step - loss: 0.0015 - mae: 0.0015 - val_loss: 8.1805e-04 - val_mae: 8.1805e-04\n",
            "Epoch 12/100\n",
            "6073/6073 [==============================] - 21s 3ms/step - loss: 0.0014 - mae: 0.0014 - val_loss: 0.0014 - val_mae: 0.0014\n",
            "Epoch 13/100\n",
            "6073/6073 [==============================] - 24s 4ms/step - loss: 0.0014 - mae: 0.0014 - val_loss: 0.0013 - val_mae: 0.0013\n",
            "Epoch 14/100\n",
            "6073/6073 [==============================] - 21s 4ms/step - loss: 0.0013 - mae: 0.0013 - val_loss: 0.0016 - val_mae: 0.0016\n",
            "Epoch 15/100\n",
            "6073/6073 [==============================] - 21s 3ms/step - loss: 0.0014 - mae: 0.0014 - val_loss: 7.2028e-04 - val_mae: 7.2028e-04\n",
            "Epoch 16/100\n",
            "6073/6073 [==============================] - 21s 3ms/step - loss: 0.0013 - mae: 0.0013 - val_loss: 0.0014 - val_mae: 0.0014\n",
            "Epoch 17/100\n",
            "6073/6073 [==============================] - 21s 3ms/step - loss: 0.0012 - mae: 0.0012 - val_loss: 0.0028 - val_mae: 0.0028\n",
            "Epoch 18/100\n",
            "6073/6073 [==============================] - 21s 3ms/step - loss: 0.0012 - mae: 0.0012 - val_loss: 0.0012 - val_mae: 0.0012\n",
            "Epoch 19/100\n",
            "6073/6073 [==============================] - 21s 3ms/step - loss: 0.0013 - mae: 0.0013 - val_loss: 5.2778e-04 - val_mae: 5.2778e-04\n",
            "Epoch 20/100\n",
            "6073/6073 [==============================] - 21s 3ms/step - loss: 0.0012 - mae: 0.0012 - val_loss: 4.9447e-04 - val_mae: 4.9447e-04\n",
            "Epoch 21/100\n",
            "6073/6073 [==============================] - 21s 3ms/step - loss: 0.0012 - mae: 0.0012 - val_loss: 0.0017 - val_mae: 0.0017\n",
            "Epoch 22/100\n",
            "6073/6073 [==============================] - 21s 4ms/step - loss: 0.0011 - mae: 0.0011 - val_loss: 0.0023 - val_mae: 0.0023\n",
            "Epoch 23/100\n",
            "6073/6073 [==============================] - 21s 3ms/step - loss: 0.0012 - mae: 0.0012 - val_loss: 6.6726e-04 - val_mae: 6.6726e-04\n",
            "Epoch 24/100\n",
            "6073/6073 [==============================] - 21s 3ms/step - loss: 0.0012 - mae: 0.0012 - val_loss: 0.0029 - val_mae: 0.0029\n",
            "Epoch 25/100\n",
            "6073/6073 [==============================] - 21s 4ms/step - loss: 0.0012 - mae: 0.0012 - val_loss: 8.6321e-04 - val_mae: 8.6321e-04\n",
            "Epoch 26/100\n",
            "6073/6073 [==============================] - 24s 4ms/step - loss: 0.0011 - mae: 0.0011 - val_loss: 5.2743e-04 - val_mae: 5.2743e-04\n",
            "Epoch 27/100\n",
            "6073/6073 [==============================] - 24s 4ms/step - loss: 0.0011 - mae: 0.0011 - val_loss: 4.9218e-04 - val_mae: 4.9218e-04\n",
            "Epoch 28/100\n",
            "6073/6073 [==============================] - 21s 4ms/step - loss: 0.0011 - mae: 0.0011 - val_loss: 0.0012 - val_mae: 0.0012\n",
            "Epoch 29/100\n",
            "6073/6073 [==============================] - 21s 3ms/step - loss: 0.0011 - mae: 0.0011 - val_loss: 0.0015 - val_mae: 0.0015\n",
            "Epoch 30/100\n",
            "6073/6073 [==============================] - 21s 3ms/step - loss: 0.0011 - mae: 0.0011 - val_loss: 3.9214e-04 - val_mae: 3.9214e-04\n",
            "Epoch 31/100\n",
            "6073/6073 [==============================] - 21s 3ms/step - loss: 0.0011 - mae: 0.0011 - val_loss: 0.0025 - val_mae: 0.0025\n",
            "Epoch 32/100\n",
            "6073/6073 [==============================] - 21s 3ms/step - loss: 0.0011 - mae: 0.0011 - val_loss: 4.6584e-04 - val_mae: 4.6584e-04\n",
            "Epoch 33/100\n",
            "6073/6073 [==============================] - 21s 3ms/step - loss: 0.0011 - mae: 0.0011 - val_loss: 9.2339e-04 - val_mae: 9.2339e-04\n",
            "Epoch 34/100\n",
            "6073/6073 [==============================] - 21s 3ms/step - loss: 0.0011 - mae: 0.0011 - val_loss: 0.0013 - val_mae: 0.0013\n",
            "Epoch 35/100\n",
            "6073/6073 [==============================] - 21s 3ms/step - loss: 9.7511e-04 - mae: 9.7511e-04 - val_loss: 0.0011 - val_mae: 0.0011\n",
            "Epoch 36/100\n",
            "6073/6073 [==============================] - 21s 3ms/step - loss: 0.0010 - mae: 0.0010 - val_loss: 0.0011 - val_mae: 0.0011\n",
            "Epoch 37/100\n",
            "6073/6073 [==============================] - 24s 4ms/step - loss: 9.5885e-04 - mae: 9.5885e-04 - val_loss: 0.0017 - val_mae: 0.0017\n",
            "Epoch 38/100\n",
            "6073/6073 [==============================] - 27s 4ms/step - loss: 9.6974e-04 - mae: 9.6974e-04 - val_loss: 8.8864e-04 - val_mae: 8.8864e-04\n",
            "Epoch 39/100\n",
            "6073/6073 [==============================] - 25s 4ms/step - loss: 9.6003e-04 - mae: 9.6003e-04 - val_loss: 8.2957e-04 - val_mae: 8.2957e-04\n",
            "Epoch 40/100\n",
            "6073/6073 [==============================] - 24s 4ms/step - loss: 9.3037e-04 - mae: 9.3037e-04 - val_loss: 0.0018 - val_mae: 0.0018\n",
            "Epoch 41/100\n",
            "6073/6073 [==============================] - 25s 4ms/step - loss: 9.1688e-04 - mae: 9.1688e-04 - val_loss: 7.8197e-04 - val_mae: 7.8197e-04\n",
            "Epoch 42/100\n",
            "6073/6073 [==============================] - 21s 4ms/step - loss: 8.9715e-04 - mae: 8.9715e-04 - val_loss: 0.0011 - val_mae: 0.0011\n",
            "Epoch 43/100\n",
            "6073/6073 [==============================] - 21s 3ms/step - loss: 9.0879e-04 - mae: 9.0879e-04 - val_loss: 8.4095e-04 - val_mae: 8.4095e-04\n",
            "Epoch 44/100\n",
            "6073/6073 [==============================] - 25s 4ms/step - loss: 9.1077e-04 - mae: 9.1077e-04 - val_loss: 6.8365e-04 - val_mae: 6.8365e-04\n",
            "Epoch 45/100\n",
            "6073/6073 [==============================] - 28s 5ms/step - loss: 9.4547e-04 - mae: 9.4547e-04 - val_loss: 0.0012 - val_mae: 0.0012\n",
            "Epoch 46/100\n",
            "6073/6073 [==============================] - 21s 4ms/step - loss: 9.1041e-04 - mae: 9.1041e-04 - val_loss: 4.0949e-04 - val_mae: 4.0949e-04\n",
            "Epoch 47/100\n",
            "6073/6073 [==============================] - 21s 3ms/step - loss: 8.8285e-04 - mae: 8.8285e-04 - val_loss: 8.8713e-04 - val_mae: 8.8713e-04\n",
            "Epoch 48/100\n",
            "6073/6073 [==============================] - 21s 3ms/step - loss: 8.9371e-04 - mae: 8.9371e-04 - val_loss: 5.3122e-04 - val_mae: 5.3122e-04\n",
            "Epoch 49/100\n",
            "6073/6073 [==============================] - 21s 3ms/step - loss: 8.5443e-04 - mae: 8.5443e-04 - val_loss: 9.9562e-04 - val_mae: 9.9562e-04\n",
            "Epoch 50/100\n",
            "6073/6073 [==============================] - 24s 4ms/step - loss: 9.0834e-04 - mae: 9.0834e-04 - val_loss: 0.0011 - val_mae: 0.0011\n",
            "Epoch 51/100\n",
            "6073/6073 [==============================] - 22s 4ms/step - loss: 8.5419e-04 - mae: 8.5419e-04 - val_loss: 4.7297e-04 - val_mae: 4.7297e-04\n",
            "Epoch 52/100\n",
            "6073/6073 [==============================] - 21s 4ms/step - loss: 9.1868e-04 - mae: 9.1868e-04 - val_loss: 0.0014 - val_mae: 0.0014\n",
            "Epoch 53/100\n",
            "6073/6073 [==============================] - 24s 4ms/step - loss: 8.5490e-04 - mae: 8.5490e-04 - val_loss: 0.0013 - val_mae: 0.0013\n",
            "Epoch 54/100\n",
            "6073/6073 [==============================] - 21s 3ms/step - loss: 8.8621e-04 - mae: 8.8621e-04 - val_loss: 4.7939e-04 - val_mae: 4.7939e-04\n",
            "Epoch 55/100\n",
            "6073/6073 [==============================] - 24s 4ms/step - loss: 8.7909e-04 - mae: 8.7909e-04 - val_loss: 4.9035e-04 - val_mae: 4.9035e-04\n",
            "Epoch 56/100\n",
            "6073/6073 [==============================] - 22s 4ms/step - loss: 8.3630e-04 - mae: 8.3630e-04 - val_loss: 0.0012 - val_mae: 0.0012\n",
            "Epoch 57/100\n",
            "6073/6073 [==============================] - 21s 3ms/step - loss: 8.6020e-04 - mae: 8.6020e-04 - val_loss: 4.1044e-04 - val_mae: 4.1044e-04\n",
            "Epoch 58/100\n",
            "6073/6073 [==============================] - 21s 3ms/step - loss: 8.4457e-04 - mae: 8.4457e-04 - val_loss: 9.3269e-04 - val_mae: 9.3269e-04\n",
            "Epoch 59/100\n",
            "6073/6073 [==============================] - 21s 3ms/step - loss: 7.9365e-04 - mae: 7.9365e-04 - val_loss: 6.7572e-04 - val_mae: 6.7572e-04\n",
            "Epoch 60/100\n",
            "6073/6073 [==============================] - 21s 3ms/step - loss: 8.7264e-04 - mae: 8.7264e-04 - val_loss: 0.0011 - val_mae: 0.0011\n",
            "Epoch 61/100\n",
            "6073/6073 [==============================] - 21s 3ms/step - loss: 8.3161e-04 - mae: 8.3161e-04 - val_loss: 0.0011 - val_mae: 0.0011\n",
            "Epoch 62/100\n",
            "6073/6073 [==============================] - 21s 3ms/step - loss: 8.0123e-04 - mae: 8.0123e-04 - val_loss: 6.0655e-04 - val_mae: 6.0655e-04\n",
            "Epoch 63/100\n",
            "6073/6073 [==============================] - 21s 3ms/step - loss: 8.2169e-04 - mae: 8.2169e-04 - val_loss: 5.0600e-04 - val_mae: 5.0600e-04\n",
            "Epoch 64/100\n",
            "6073/6073 [==============================] - 21s 4ms/step - loss: 7.8830e-04 - mae: 7.8830e-04 - val_loss: 6.9434e-04 - val_mae: 6.9434e-04\n",
            "Epoch 65/100\n",
            "6073/6073 [==============================] - 21s 3ms/step - loss: 7.8307e-04 - mae: 7.8307e-04 - val_loss: 8.9226e-04 - val_mae: 8.9226e-04\n",
            "Epoch 66/100\n",
            "6073/6073 [==============================] - 24s 4ms/step - loss: 7.7909e-04 - mae: 7.7909e-04 - val_loss: 0.0011 - val_mae: 0.0011\n",
            "Epoch 67/100\n",
            "6073/6073 [==============================] - 21s 3ms/step - loss: 7.8766e-04 - mae: 7.8766e-04 - val_loss: 0.0012 - val_mae: 0.0012\n",
            "Epoch 68/100\n",
            "6073/6073 [==============================] - 21s 3ms/step - loss: 8.1307e-04 - mae: 8.1307e-04 - val_loss: 4.8701e-04 - val_mae: 4.8701e-04\n",
            "Epoch 69/100\n",
            "6073/6073 [==============================] - 21s 3ms/step - loss: 7.8483e-04 - mae: 7.8483e-04 - val_loss: 8.1165e-04 - val_mae: 8.1165e-04\n",
            "Epoch 70/100\n",
            "6073/6073 [==============================] - 22s 4ms/step - loss: 7.7537e-04 - mae: 7.7537e-04 - val_loss: 4.6057e-04 - val_mae: 4.6057e-04\n",
            "Epoch 71/100\n",
            "6073/6073 [==============================] - 21s 3ms/step - loss: 7.6943e-04 - mae: 7.6943e-04 - val_loss: 9.6620e-04 - val_mae: 9.6620e-04\n",
            "Epoch 72/100\n",
            "6073/6073 [==============================] - 21s 3ms/step - loss: 7.5634e-04 - mae: 7.5634e-04 - val_loss: 9.4899e-04 - val_mae: 9.4899e-04\n",
            "Epoch 73/100\n",
            "6073/6073 [==============================] - 21s 4ms/step - loss: 7.4261e-04 - mae: 7.4261e-04 - val_loss: 0.0011 - val_mae: 0.0011\n",
            "Epoch 74/100\n",
            "6073/6073 [==============================] - 21s 4ms/step - loss: 7.6266e-04 - mae: 7.6266e-04 - val_loss: 0.0011 - val_mae: 0.0011\n",
            "Epoch 75/100\n",
            "6073/6073 [==============================] - 21s 3ms/step - loss: 7.8490e-04 - mae: 7.8490e-04 - val_loss: 3.4864e-04 - val_mae: 3.4864e-04\n",
            "Epoch 76/100\n",
            "6073/6073 [==============================] - 21s 4ms/step - loss: 7.5989e-04 - mae: 7.5989e-04 - val_loss: 0.0019 - val_mae: 0.0019\n",
            "Epoch 77/100\n",
            "6073/6073 [==============================] - 21s 3ms/step - loss: 7.7062e-04 - mae: 7.7062e-04 - val_loss: 4.4694e-04 - val_mae: 4.4694e-04\n",
            "Epoch 78/100\n",
            "6073/6073 [==============================] - 21s 3ms/step - loss: 7.5332e-04 - mae: 7.5332e-04 - val_loss: 0.0013 - val_mae: 0.0013\n",
            "Epoch 79/100\n",
            "6073/6073 [==============================] - 21s 4ms/step - loss: 6.9681e-04 - mae: 6.9681e-04 - val_loss: 4.6991e-04 - val_mae: 4.6991e-04\n",
            "Epoch 80/100\n",
            "6073/6073 [==============================] - 21s 4ms/step - loss: 7.2095e-04 - mae: 7.2095e-04 - val_loss: 3.1880e-04 - val_mae: 3.1880e-04\n",
            "Epoch 81/100\n",
            "6073/6073 [==============================] - 21s 4ms/step - loss: 7.4184e-04 - mae: 7.4184e-04 - val_loss: 4.2792e-04 - val_mae: 4.2792e-04\n",
            "Epoch 82/100\n",
            "6073/6073 [==============================] - 21s 3ms/step - loss: 7.6662e-04 - mae: 7.6662e-04 - val_loss: 7.4740e-04 - val_mae: 7.4740e-04\n",
            "Epoch 83/100\n",
            "6073/6073 [==============================] - 21s 4ms/step - loss: 7.3348e-04 - mae: 7.3348e-04 - val_loss: 2.1351e-04 - val_mae: 2.1351e-04\n",
            "Epoch 84/100\n",
            "6073/6073 [==============================] - 24s 4ms/step - loss: 7.2369e-04 - mae: 7.2369e-04 - val_loss: 2.7645e-04 - val_mae: 2.7645e-04\n",
            "Epoch 85/100\n",
            "6073/6073 [==============================] - 22s 4ms/step - loss: 7.5445e-04 - mae: 7.5445e-04 - val_loss: 8.0980e-04 - val_mae: 8.0980e-04\n",
            "Epoch 86/100\n",
            "6073/6073 [==============================] - 21s 4ms/step - loss: 7.4288e-04 - mae: 7.4288e-04 - val_loss: 7.5773e-04 - val_mae: 7.5773e-04\n",
            "Epoch 87/100\n",
            "6073/6073 [==============================] - 21s 4ms/step - loss: 6.9962e-04 - mae: 6.9962e-04 - val_loss: 0.0010 - val_mae: 0.0010\n",
            "Epoch 88/100\n",
            "6073/6073 [==============================] - 21s 3ms/step - loss: 7.3249e-04 - mae: 7.3249e-04 - val_loss: 5.1443e-04 - val_mae: 5.1443e-04\n",
            "Epoch 89/100\n",
            "6073/6073 [==============================] - 21s 3ms/step - loss: 7.0166e-04 - mae: 7.0166e-04 - val_loss: 4.3412e-04 - val_mae: 4.3412e-04\n",
            "Epoch 90/100\n",
            "6073/6073 [==============================] - 21s 4ms/step - loss: 7.3786e-04 - mae: 7.3786e-04 - val_loss: 7.0327e-04 - val_mae: 7.0327e-04\n",
            "Epoch 91/100\n",
            "6073/6073 [==============================] - 21s 4ms/step - loss: 6.8906e-04 - mae: 6.8906e-04 - val_loss: 4.1809e-04 - val_mae: 4.1809e-04\n",
            "Epoch 92/100\n",
            "6073/6073 [==============================] - 21s 3ms/step - loss: 7.4574e-04 - mae: 7.4574e-04 - val_loss: 3.6497e-04 - val_mae: 3.6497e-04\n",
            "Epoch 93/100\n",
            "6073/6073 [==============================] - 21s 4ms/step - loss: 7.2321e-04 - mae: 7.2321e-04 - val_loss: 4.7586e-04 - val_mae: 4.7586e-04\n",
            "Epoch 94/100\n",
            "6073/6073 [==============================] - 24s 4ms/step - loss: 7.2498e-04 - mae: 7.2498e-04 - val_loss: 7.4619e-04 - val_mae: 7.4619e-04\n",
            "Epoch 95/100\n",
            "6073/6073 [==============================] - 21s 4ms/step - loss: 7.1481e-04 - mae: 7.1481e-04 - val_loss: 2.6611e-04 - val_mae: 2.6611e-04\n",
            "Epoch 96/100\n",
            "6073/6073 [==============================] - 21s 4ms/step - loss: 6.7969e-04 - mae: 6.7969e-04 - val_loss: 3.8393e-04 - val_mae: 3.8393e-04\n",
            "Epoch 97/100\n",
            "6073/6073 [==============================] - 21s 3ms/step - loss: 6.7504e-04 - mae: 6.7504e-04 - val_loss: 0.0013 - val_mae: 0.0013\n",
            "Epoch 98/100\n",
            "6073/6073 [==============================] - 24s 4ms/step - loss: 6.7659e-04 - mae: 6.7659e-04 - val_loss: 0.0010 - val_mae: 0.0010\n",
            "Epoch 99/100\n",
            "6073/6073 [==============================] - 21s 4ms/step - loss: 6.8440e-04 - mae: 6.8440e-04 - val_loss: 0.0013 - val_mae: 0.0013\n",
            "Epoch 100/100\n",
            "6073/6073 [==============================] - 21s 4ms/step - loss: 6.8390e-04 - mae: 6.8390e-04 - val_loss: 3.5657e-04 - val_mae: 3.5657e-04\n",
            "CPU times: user 41min 42s, sys: 3min 22s, total: 45min 4s\n",
            "Wall time: 36min 22s\n"
          ]
        }
      ]
    },
    {
      "cell_type": "code",
      "source": [
        "model_6.summary()"
      ],
      "metadata": {
        "colab": {
          "base_uri": "https://localhost:8080/"
        },
        "id": "-64GY8yOQsBN",
        "outputId": "fc532159-da0f-4343-a3a0-8ba9b113dc95"
      },
      "execution_count": null,
      "outputs": [
        {
          "output_type": "stream",
          "name": "stdout",
          "text": [
            "Model: \"sequential_1\"\n",
            "_________________________________________________________________\n",
            " Layer (type)                Output Shape              Param #   \n",
            "=================================================================\n",
            " conv1d_2 (Conv1D)           (None, 5, 10)             50        \n",
            "                                                                 \n",
            " conv1d_3 (Conv1D)           (None, 4, 3)              63        \n",
            "                                                                 \n",
            " flatten_1 (Flatten)         (None, 12)                0         \n",
            "                                                                 \n",
            " dense_2 (Dense)             (None, 32)                416       \n",
            "                                                                 \n",
            " dense_3 (Dense)             (None, 1)                 33        \n",
            "                                                                 \n",
            "=================================================================\n",
            "Total params: 562\n",
            "Trainable params: 562\n",
            "Non-trainable params: 0\n",
            "_________________________________________________________________\n"
          ]
        }
      ]
    },
    {
      "cell_type": "code",
      "source": [],
      "metadata": {
        "id": "ihHbbdx6RmtL"
      },
      "execution_count": null,
      "outputs": []
    },
    {
      "cell_type": "code",
      "source": [],
      "metadata": {
        "id": "7aTiyTQkRmow"
      },
      "execution_count": null,
      "outputs": []
    },
    {
      "cell_type": "code",
      "source": [
        "plt.plot(history_6.history['loss'])\n",
        "plt.plot(history_6.history['val_loss'])\n",
        "plt.title('model loss')\n",
        "plt.ylabel('loss')\n",
        "plt.xlabel('epoch')\n",
        "plt.legend(['train', 'test'], loc='upper left')\n",
        "plt.show()"
      ],
      "metadata": {
        "colab": {
          "base_uri": "https://localhost:8080/",
          "height": 295
        },
        "id": "1bLYuHQpWOPY",
        "outputId": "f8e7bd18-dc7d-48da-8abe-9a66d9bdd8cc"
      },
      "execution_count": null,
      "outputs": [
        {
          "output_type": "display_data",
          "data": {
            "text/plain": [
              "<Figure size 432x288 with 1 Axes>"
            ],
            "image/png": "[encoded data removed]"
          },
          "metadata": {
            "needs_background": "light"
          }
        }
      ]
    },
    {
      "cell_type": "code",
      "source": [
        "prediction_6 = model_6.predict(X_test)\n",
        "plt.figure(figsize=(14,8))\n",
        "plt.scatter(Y_test[300:900], Y_test[300:900], color='blue')\n",
        "plt.scatter(prediction_6[300:900], prediction_6[300:900], color='red')\n",
        "plt.show()"
      ],
      "metadata": {
        "colab": {
          "base_uri": "https://localhost:8080/",
          "height": 500
        },
        "id": "9tvUF7y5R2uS",
        "outputId": "64ed588a-4af6-4ba2-cf4a-9bf6a4cb3442"
      },
      "execution_count": null,
      "outputs": [
        {
          "output_type": "stream",
          "name": "stdout",
          "text": [
            "1519/1519 [==============================] - 2s 2ms/step\n"
          ]
        },
        {
          "output_type": "display_data",
          "data": {
            "text/plain": [
              "<Figure size 1008x576 with 1 Axes>"
            ],
            "image/png": "[encoded data removed]"
          },
          "metadata": {
            "needs_background": "light"
          }
        }
      ]
    },
    {
      "cell_type": "code",
      "source": [],
      "metadata": {
        "id": "mOBNzschR2p1"
      },
      "execution_count": null,
      "outputs": []
    },
    {
      "cell_type": "markdown",
      "source": [
        "## Model 7"
      ],
      "metadata": {
        "id": "ONaV73fGyxX2"
      }
    },
    {
      "cell_type": "code",
      "source": [
        "%%time\n",
        "model_7 = tf.keras.Sequential([tf.keras.layers.Conv1D(64,3,activation='relu',input_shape=(8,1)),\n",
        "                               tf.keras.layers.Conv1D(32,2,activation='relu'),\n",
        "                               tf.keras.layers.Flatten(),\n",
        "                               tf.keras.layers.Dense(32,activation=\"relu\"),\n",
        "                               tf.keras.layers.Dense(16,activation=\"relu\"),\n",
        "                               tf.keras.layers.Dense(1)])\n",
        "\n",
        "model_7.compile(loss = tf.keras.losses.mae,\n",
        "                optimizer = tf.keras.optimizers.Adam(learning_rate=0.0001),\n",
        "                metrics=['mae'])\n",
        "\n",
        "history_7 = model_7.fit(X_train,Y_train,epochs=100,validation_data=(X_test,Y_test),callbacks=callback)"
      ],
      "metadata": {
        "colab": {
          "base_uri": "https://localhost:8080/"
        },
        "id": "yEx5YD5OR2hw",
        "outputId": "17a8861d-98a4-4b6f-d9c6-591e88ccbb68"
      },
      "execution_count": 98,
      "outputs": [
        {
          "output_type": "stream",
          "name": "stdout",
          "text": [
            "Epoch 1/100\n",
            "6073/6073 [==============================] - 17s 3ms/step - loss: 0.0127 - mae: 0.0127 - val_loss: 0.0015 - val_mae: 0.0015\n",
            "Epoch 2/100\n",
            "6073/6073 [==============================] - 16s 3ms/step - loss: 8.4254e-04 - mae: 8.4254e-04 - val_loss: 0.0011 - val_mae: 0.0011\n",
            "Epoch 3/100\n",
            "6073/6073 [==============================] - 18s 3ms/step - loss: 7.6762e-04 - mae: 7.6762e-04 - val_loss: 0.0012 - val_mae: 0.0012\n",
            "Epoch 4/100\n",
            "6073/6073 [==============================] - 16s 3ms/step - loss: 7.3954e-04 - mae: 7.3954e-04 - val_loss: 9.0057e-04 - val_mae: 9.0057e-04\n",
            "Epoch 5/100\n",
            "6073/6073 [==============================] - 18s 3ms/step - loss: 7.8270e-04 - mae: 7.8270e-04 - val_loss: 0.0018 - val_mae: 0.0018\n",
            "Epoch 6/100\n",
            "6073/6073 [==============================] - 17s 3ms/step - loss: 7.4783e-04 - mae: 7.4783e-04 - val_loss: 0.0016 - val_mae: 0.0016\n",
            "Epoch 7/100\n",
            "6073/6073 [==============================] - 17s 3ms/step - loss: 7.0960e-04 - mae: 7.0960e-04 - val_loss: 9.8255e-04 - val_mae: 9.8255e-04\n",
            "Epoch 8/100\n",
            "6073/6073 [==============================] - 18s 3ms/step - loss: 7.0278e-04 - mae: 7.0278e-04 - val_loss: 0.0016 - val_mae: 0.0016\n",
            "Epoch 9/100\n",
            "6073/6073 [==============================] - 17s 3ms/step - loss: 7.0697e-04 - mae: 7.0697e-04 - val_loss: 6.2205e-04 - val_mae: 6.2205e-04\n",
            "Epoch 10/100\n",
            "6073/6073 [==============================] - 17s 3ms/step - loss: 6.9866e-04 - mae: 6.9866e-04 - val_loss: 7.0610e-04 - val_mae: 7.0610e-04\n",
            "Epoch 11/100\n",
            "6073/6073 [==============================] - 17s 3ms/step - loss: 6.7814e-04 - mae: 6.7814e-04 - val_loss: 9.2734e-04 - val_mae: 9.2734e-04\n",
            "Epoch 12/100\n",
            "6073/6073 [==============================] - 19s 3ms/step - loss: 6.6445e-04 - mae: 6.6445e-04 - val_loss: 4.4111e-04 - val_mae: 4.4111e-04\n",
            "Epoch 13/100\n",
            "6073/6073 [==============================] - 18s 3ms/step - loss: 6.7749e-04 - mae: 6.7749e-04 - val_loss: 0.0011 - val_mae: 0.0011\n",
            "Epoch 14/100\n",
            "6073/6073 [==============================] - 17s 3ms/step - loss: 6.4082e-04 - mae: 6.4082e-04 - val_loss: 3.6112e-04 - val_mae: 3.6112e-04\n",
            "Epoch 15/100\n",
            "6073/6073 [==============================] - 20s 3ms/step - loss: 6.4893e-04 - mae: 6.4893e-04 - val_loss: 6.7373e-04 - val_mae: 6.7373e-04\n",
            "Epoch 16/100\n",
            "6073/6073 [==============================] - 18s 3ms/step - loss: 6.4735e-04 - mae: 6.4735e-04 - val_loss: 2.5723e-04 - val_mae: 2.5723e-04\n",
            "Epoch 17/100\n",
            "6073/6073 [==============================] - 18s 3ms/step - loss: 6.5518e-04 - mae: 6.5518e-04 - val_loss: 9.2942e-04 - val_mae: 9.2942e-04\n",
            "Epoch 18/100\n",
            "6073/6073 [==============================] - 17s 3ms/step - loss: 6.1525e-04 - mae: 6.1525e-04 - val_loss: 2.3727e-04 - val_mae: 2.3727e-04\n",
            "Epoch 19/100\n",
            "6073/6073 [==============================] - 17s 3ms/step - loss: 6.1845e-04 - mae: 6.1845e-04 - val_loss: 0.0012 - val_mae: 0.0012\n",
            "Epoch 20/100\n",
            "6073/6073 [==============================] - 18s 3ms/step - loss: 6.5829e-04 - mae: 6.5829e-04 - val_loss: 2.7806e-04 - val_mae: 2.7806e-04\n",
            "Epoch 21/100\n",
            "6073/6073 [==============================] - 17s 3ms/step - loss: 6.0992e-04 - mae: 6.0992e-04 - val_loss: 5.6343e-04 - val_mae: 5.6343e-04\n",
            "Epoch 22/100\n",
            "6073/6073 [==============================] - 16s 3ms/step - loss: 6.1124e-04 - mae: 6.1124e-04 - val_loss: 4.7418e-04 - val_mae: 4.7418e-04\n",
            "Epoch 23/100\n",
            "6073/6073 [==============================] - 17s 3ms/step - loss: 6.0572e-04 - mae: 6.0572e-04 - val_loss: 2.4246e-04 - val_mae: 2.4246e-04\n",
            "Epoch 24/100\n",
            "6073/6073 [==============================] - 17s 3ms/step - loss: 5.8756e-04 - mae: 5.8756e-04 - val_loss: 8.3522e-04 - val_mae: 8.3522e-04\n",
            "Epoch 25/100\n",
            "6073/6073 [==============================] - 18s 3ms/step - loss: 5.8888e-04 - mae: 5.8888e-04 - val_loss: 3.4417e-04 - val_mae: 3.4417e-04\n",
            "Epoch 26/100\n",
            "6073/6073 [==============================] - 17s 3ms/step - loss: 5.9408e-04 - mae: 5.9408e-04 - val_loss: 0.0010 - val_mae: 0.0010\n",
            "Epoch 27/100\n",
            "6073/6073 [==============================] - 17s 3ms/step - loss: 5.8937e-04 - mae: 5.8937e-04 - val_loss: 4.7935e-04 - val_mae: 4.7935e-04\n",
            "Epoch 28/100\n",
            "6073/6073 [==============================] - 17s 3ms/step - loss: 6.0565e-04 - mae: 6.0565e-04 - val_loss: 0.0017 - val_mae: 0.0017\n",
            "Epoch 28: early stopping\n",
            "CPU times: user 9min 16s, sys: 42.3 s, total: 9min 59s\n",
            "Wall time: 8min 5s\n"
          ]
        }
      ]
    },
    {
      "cell_type": "code",
      "source": [
        "plot_his(history_7)"
      ],
      "metadata": {
        "colab": {
          "base_uri": "https://localhost:8080/",
          "height": 295
        },
        "id": "QaQQyJN_hN13",
        "outputId": "a3193eb4-f0b4-44b3-8570-d62068fa7eba"
      },
      "execution_count": 99,
      "outputs": [
        {
          "output_type": "display_data",
          "data": {
            "text/plain": [
              "<Figure size 432x288 with 1 Axes>"
            ],
            "image/png": "[encoded data removed]"
          },
          "metadata": {
            "needs_background": "light"
          }
        }
      ]
    },
    {
      "cell_type": "code",
      "source": [
        "prediction_7 = model_7.predict(X_test)\n",
        "plt.figure(figsize=(14,8))\n",
        "plt.scatter(Y_test, Y_test, color='blue')\n",
        "plt.scatter(prediction_7, prediction_7, color='red')\n",
        "plt.show()"
      ],
      "metadata": {
        "colab": {
          "base_uri": "https://localhost:8080/",
          "height": 500
        },
        "id": "eD-PlzBJhNxS",
        "outputId": "25d84c4d-6b9c-484a-9d67-8673eb2702a9"
      },
      "execution_count": 100,
      "outputs": [
        {
          "output_type": "stream",
          "name": "stdout",
          "text": [
            "1519/1519 [==============================] - 2s 1ms/step\n"
          ]
        },
        {
          "output_type": "display_data",
          "data": {
            "text/plain": [
              "<Figure size 1008x576 with 1 Axes>"
            ],
            "image/png": "[encoded data removed]"
          },
          "metadata": {
            "needs_background": "light"
          }
        }
      ]
    },
    {
      "cell_type": "markdown",
      "source": [
        "# GPR\n",
        "GAUSSIAN PROCESS REGRESSION\n",
        "link - https://www.kaggle.com/code/residentmario/gaussian-process-regression-and-classification\n",
        "\n",
        "Link_1 = https://www.kaggle.com/discussions/questions-and-answers/47716\n",
        "\n",
        "Link_2 = https://www.kaggle.com/code/residentmario/gaussian-process-regression-and-classification\n",
        "\n",
        "Link_3 = https://www.kaggle.com/code/sterby/gaussian-process-regression-benchmark\n"
      ],
      "metadata": {
        "id": "mxWOwHi6pYEw"
      }
    },
    {
      "cell_type": "markdown",
      "source": [
        "# SVR\n",
        "Support vector regressor"
      ],
      "metadata": {
        "id": "X9Tef4tRJn33"
      }
    },
    {
      "cell_type": "code",
      "source": [
        "from sklearn.svm import SVR, LinearSVR"
      ],
      "metadata": {
        "id": "8Dii3ZObXq2B"
      },
      "execution_count": null,
      "outputs": []
    },
    {
      "cell_type": "code",
      "source": [
        "svr = SVR().fit(X, Y)\n",
        "print(svr)"
      ],
      "metadata": {
        "colab": {
          "base_uri": "https://localhost:8080/"
        },
        "id": "98Dyy5OcYESt",
        "outputId": "5acdf773-8b3a-413e-a2a8-e6043ad8ead0"
      },
      "execution_count": null,
      "outputs": [
        {
          "output_type": "stream",
          "name": "stdout",
          "text": [
            "SVR()\n"
          ]
        }
      ]
    },
    {
      "cell_type": "code",
      "source": [
        "y_pred_svr = svr.predict(X)"
      ],
      "metadata": {
        "id": "WdC_zPfyZCBC"
      },
      "execution_count": null,
      "outputs": []
    },
    {
      "cell_type": "code",
      "source": [
        "plt.figure(figsize=(14,8))\n",
        "plt.scatter(Y, Y, s=5, color=\"blue\", label=\"original\")\n",
        "plt.plot(Y, y_pred_svr, lw=2, color=\"red\", label=\"fitted\")\n",
        "plt.legend()\n",
        "plt.show()"
      ],
      "metadata": {
        "colab": {
          "base_uri": "https://localhost:8080/",
          "height": 483
        },
        "id": "PM_HFGo3ZSGJ",
        "outputId": "7f2e5157-3db9-4644-fc34-438426adfca2"
      },
      "execution_count": null,
      "outputs": [
        {
          "output_type": "display_data",
          "data": {
            "text/plain": [
              "<Figure size 1008x576 with 1 Axes>"
            ],
            "image/png": "[encoded data removed]"
          },
          "metadata": {
            "needs_background": "light"
          }
        }
      ]
    },
    {
      "cell_type": "code",
      "source": [
        "from sklearn.metrics import mean_squared_error\n",
        "score = svr.score(X,Y)\n",
        "print(\"R-squared:\", score)\n",
        "print(\"MSE:\", mean_squared_error(Y, y_pred_svr))"
      ],
      "metadata": {
        "colab": {
          "base_uri": "https://localhost:8080/"
        },
        "id": "qdgr56-nZcR5",
        "outputId": "19ccf2c5-545a-466d-902d-aa41c6b3cd63"
      },
      "execution_count": null,
      "outputs": [
        {
          "output_type": "stream",
          "name": "stdout",
          "text": [
            "R-squared: 0.9766601932530652\n",
            "MSE: 0.0029213341417970804\n"
          ]
        }
      ]
    },
    {
      "cell_type": "code",
      "source": [],
      "metadata": {
        "id": "Na5y4W0fZ0qi"
      },
      "execution_count": null,
      "outputs": []
    },
    {
      "cell_type": "code",
      "source": [
        "kernel = ['linear','rbf']        # For both the kernel\n",
        "for i in kernel:\n",
        "  model = SVR(kernel=i,C=1.0)\n",
        "  model.fit(X_train,Y_train)\n",
        "  print(f\"For Kernel {i}\")\n",
        "  print(\"Accuracy is :\", model.score(X_test,Y_test))"
      ],
      "metadata": {
        "colab": {
          "base_uri": "https://localhost:8080/"
        },
        "id": "XA7kAJgFcbKM",
        "outputId": "953fe3af-a8ac-44ba-dc14-f95fb8612221"
      },
      "execution_count": null,
      "outputs": [
        {
          "output_type": "stream",
          "name": "stdout",
          "text": [
            "For Kernel linear\n",
            "Accuracy is : 0.9540766441060804\n",
            "For Kernel rbf\n",
            "Accuracy is : 0.9769426754300402\n"
          ]
        }
      ]
    },
    {
      "cell_type": "code",
      "source": [],
      "metadata": {
        "id": "NLMgynazcbH6"
      },
      "execution_count": null,
      "outputs": []
    },
    {
      "cell_type": "code",
      "source": [],
      "metadata": {
        "id": "Bw0g-mpQDKBB"
      },
      "execution_count": null,
      "outputs": []
    },
    {
      "cell_type": "markdown",
      "source": [
        "# RandomForest\n",
        "\n",
        "link_1 = https://levelup.gitconnected.com/random-forest-regression-209c0f354c84"
      ],
      "metadata": {
        "id": "Wo87Y7G4DLYr"
      }
    },
    {
      "cell_type": "code",
      "source": [
        "from sklearn.ensemble import RandomForestRegressor\n",
        "from sklearn.metrics import accuracy_score"
      ],
      "metadata": {
        "id": "Emd529O1DNYj"
      },
      "execution_count": 64,
      "outputs": []
    },
    {
      "cell_type": "code",
      "source": [
        "rf = RandomForestRegressor()\n",
        "rf.fit(X_train,Y_train)\n",
        "y_pred_rf = rf.predict(X_test)"
      ],
      "metadata": {
        "id": "mpYcg3_hEHbR"
      },
      "execution_count": 68,
      "outputs": []
    },
    {
      "cell_type": "code",
      "source": [
        "rf.score(X_test,Y_test)"
      ],
      "metadata": {
        "colab": {
          "base_uri": "https://localhost:8080/"
        },
        "id": "J2W0ktdXdhbf",
        "outputId": "d88dd507-72f2-45e7-ac2c-21a587f57714"
      },
      "execution_count": 69,
      "outputs": [
        {
          "output_type": "execute_result",
          "data": {
            "text/plain": [
              "0.9999999991947186"
            ]
          },
          "metadata": {},
          "execution_count": 69
        }
      ]
    },
    {
      "cell_type": "code",
      "source": [
        "model = RandomForestRegressor()\n",
        "estimators = np.arange(10, 200, 10)\n",
        "scores = []\n",
        "for n in estimators:\n",
        "    model.set_params(n_estimators=n)\n",
        "    model.fit(X_train, Y_train)\n",
        "    scores.append(model.score(X_test, Y_test))\n",
        "plt.title(\"Effect of n_estimators\")\n",
        "plt.xlabel(\"n_estimator\")\n",
        "plt.ylabel(\"score\")\n",
        "plt.plot(estimators, scores)"
      ],
      "metadata": {
        "colab": {
          "base_uri": "https://localhost:8080/",
          "height": 313
        },
        "id": "JGzIC3h_fvln",
        "outputId": "de8f8a50-7963-405a-f825-496eb7bb4dc3"
      },
      "execution_count": 71,
      "outputs": [
        {
          "output_type": "execute_result",
          "data": {
            "text/plain": [
              "[<matplotlib.lines.Line2D at 0x7f9862c681c0>]"
            ]
          },
          "metadata": {},
          "execution_count": 71
        },
        {
          "output_type": "display_data",
          "data": {
            "text/plain": [
              "<Figure size 432x288 with 1 Axes>"
            ],
            "image/png": "[encoded data removed]"
          },
          "metadata": {
            "needs_background": "light"
          }
        }
      ]
    },
    {
      "cell_type": "code",
      "source": [
        "for i in scores:\n",
        "  print(f\"score is : {i}\")"
      ],
      "metadata": {
        "colab": {
          "base_uri": "https://localhost:8080/"
        },
        "id": "BPSwvSVDf8ln",
        "outputId": "557d7cdc-4209-4046-c7d9-d1086941f37a"
      },
      "execution_count": 73,
      "outputs": [
        {
          "output_type": "stream",
          "name": "stdout",
          "text": [
            "score is : 0.9999999994195219\n",
            "score is : 0.9999999986543462\n",
            "score is : 0.9999999982292486\n",
            "score is : 0.9999999990204432\n",
            "score is : 0.9999999991503912\n",
            "score is : 0.9999999990120145\n",
            "score is : 0.9999999992149007\n",
            "score is : 0.9999999989140772\n",
            "score is : 0.9999999992680504\n",
            "score is : 0.9999999987158241\n",
            "score is : 0.9999999991543599\n",
            "score is : 0.9999999991303823\n",
            "score is : 0.9999999989547335\n",
            "score is : 0.999999998686251\n",
            "score is : 0.9999999989538495\n",
            "score is : 0.999999999014156\n",
            "score is : 0.999999998776504\n",
            "score is : 0.9999999989113593\n",
            "score is : 0.9999999991191234\n"
          ]
        }
      ]
    },
    {
      "cell_type": "code",
      "source": [],
      "metadata": {
        "id": "EGGge_UyieYu"
      },
      "execution_count": null,
      "outputs": []
    }
  ]
}