{
  "nbformat": 4,
  "nbformat_minor": 0,
  "metadata": {
    "colab": {
      "provenance": []
    },
    "kernelspec": {
      "name": "python3",
      "display_name": "Python 3"
    },
    "language_info": {
      "name": "python"
    },
    "accelerator": "GPU",
    "gpuClass": "standard"
  },
  "cells": [
    {
      "cell_type": "markdown",
      "source": [
        "# Some Important Points: 🔋 \n",
        "\n",
        "\n",
        "1.   V(max) = 4.2 volt\n",
        "2.   V(min) = 2.8/2.7 Volt\n",
        "3.   Nominal Charge capacity = 2500 mA/2.5Ah \n",
        "4.   SOC = Normal Capacity at that point/Nominal capacity\n",
        "5.   Nominal Capacity - ammount of charged deliverd by fully charge batter, when it is fresh. OR **we can say Total capacity of battery.**\n",
        "6.   SOH = Maximum of SOC at one cycle.\n",
        "7.   we can find SOH by making set of loops in dataset and then find max(SOC).\n"
      ],
      "metadata": {
        "id": "9HNzs_7qHk2b"
      }
    },
    {
      "cell_type": "markdown",
      "source": [
        "# Models 📌\n",
        "\n",
        "\n",
        "1.   (DNN) Deep Neural Network \n",
        "2.   LSTM\n",
        "3.   CNN\n",
        "4.   GPR (Gaussian Progress Rregressor)\n",
        "5.   Genetic Algorithms\n",
        "6.   Support Vector Regressor\n",
        "7.   Random Forest\n",
        "\n"
      ],
      "metadata": {
        "id": "nwY59tqhFe2n"
      }
    },
    {
      "cell_type": "markdown",
      "source": [
        "# Model Partitioning"
      ],
      "metadata": {
        "id": "hWuUu2usHlzz"
      }
    },
    {
      "cell_type": "code",
      "source": [
        "import numpy as np\n",
        "import matplotlib.pyplot as plt\n",
        "import pandas as pd\n",
        "import seaborn as sns\n",
        "import tensorflow as tf\n",
        "from sklearn.model_selection import train_test_split\n",
        "import random"
      ],
      "metadata": {
        "id": "CzgWTYP5JAlm"
      },
      "execution_count": 1,
      "outputs": []
    },
    {
      "cell_type": "code",
      "source": [
        "# Reading the data\n",
        "df = pd.read_csv(\"trial1.csv\")\n",
        "df.head(5)"
      ],
      "metadata": {
        "colab": {
          "base_uri": "https://localhost:8080/",
          "height": 206
        },
        "id": "dhJKmtvhJjF4",
        "outputId": "7070b09c-ecea-4866-9045-af7c5e345c5a"
      },
      "execution_count": 2,
      "outputs": [
        {
          "output_type": "execute_result",
          "data": {
            "text/plain": [
              "   Time/sec  Potential/V  Current/A  Charge/C  Capacity/Ah  \\\n",
              "0       0.4         3.54       1.25      0.00          0.0   \n",
              "1       1.0         3.54       1.25      0.95          0.0   \n",
              "2       2.0         3.54       1.25      2.28          0.0   \n",
              "3       3.0         3.55       1.25      3.46          0.0   \n",
              "4       4.0         3.55       1.25      4.64          0.0   \n",
              "\n",
              "   Nominal_Capacity/Ah  \n",
              "0                  2.5  \n",
              "1                  2.5  \n",
              "2                  2.5  \n",
              "3                  2.5  \n",
              "4                  2.5  "
            ],
            "text/html": [
              "\n",
              "  <div id=\"df-a7c136f8-89e1-4f2d-80bc-0d5d02242cd8\">\n",
              "    <div class=\"colab-df-container\">\n",
              "      <div>\n",
              "<style scoped>\n",
              "    .dataframe tbody tr th:only-of-type {\n",
              "        vertical-align: middle;\n",
              "    }\n",
              "\n",
              "    .dataframe tbody tr th {\n",
              "        vertical-align: top;\n",
              "    }\n",
              "\n",
              "    .dataframe thead th {\n",
              "        text-align: right;\n",
              "    }\n",
              "</style>\n",
              "<table border=\"1\" class=\"dataframe\">\n",
              "  <thead>\n",
              "    <tr style=\"text-align: right;\">\n",
              "      <th></th>\n",
              "      <th>Time/sec</th>\n",
              "      <th>Potential/V</th>\n",
              "      <th>Current/A</th>\n",
              "      <th>Charge/C</th>\n",
              "      <th>Capacity/Ah</th>\n",
              "      <th>Nominal_Capacity/Ah</th>\n",
              "    </tr>\n",
              "  </thead>\n",
              "  <tbody>\n",
              "    <tr>\n",
              "      <th>0</th>\n",
              "      <td>0.4</td>\n",
              "      <td>3.54</td>\n",
              "      <td>1.25</td>\n",
              "      <td>0.00</td>\n",
              "      <td>0.0</td>\n",
              "      <td>2.5</td>\n",
              "    </tr>\n",
              "    <tr>\n",
              "      <th>1</th>\n",
              "      <td>1.0</td>\n",
              "      <td>3.54</td>\n",
              "      <td>1.25</td>\n",
              "      <td>0.95</td>\n",
              "      <td>0.0</td>\n",
              "      <td>2.5</td>\n",
              "    </tr>\n",
              "    <tr>\n",
              "      <th>2</th>\n",
              "      <td>2.0</td>\n",
              "      <td>3.54</td>\n",
              "      <td>1.25</td>\n",
              "      <td>2.28</td>\n",
              "      <td>0.0</td>\n",
              "      <td>2.5</td>\n",
              "    </tr>\n",
              "    <tr>\n",
              "      <th>3</th>\n",
              "      <td>3.0</td>\n",
              "      <td>3.55</td>\n",
              "      <td>1.25</td>\n",
              "      <td>3.46</td>\n",
              "      <td>0.0</td>\n",
              "      <td>2.5</td>\n",
              "    </tr>\n",
              "    <tr>\n",
              "      <th>4</th>\n",
              "      <td>4.0</td>\n",
              "      <td>3.55</td>\n",
              "      <td>1.25</td>\n",
              "      <td>4.64</td>\n",
              "      <td>0.0</td>\n",
              "      <td>2.5</td>\n",
              "    </tr>\n",
              "  </tbody>\n",
              "</table>\n",
              "</div>\n",
              "      <button class=\"colab-df-convert\" onclick=\"convertToInteractive('df-a7c136f8-89e1-4f2d-80bc-0d5d02242cd8')\"\n",
              "              title=\"Convert this dataframe to an interactive table.\"\n",
              "              style=\"display:none;\">\n",
              "        \n",
              "  <svg xmlns=\"http://www.w3.org/2000/svg\" height=\"24px\"viewBox=\"0 0 24 24\"\n",
              "       width=\"24px\">\n",
              "    <path d=\"M0 0h24v24H0V0z\" fill=\"none\"/>\n",
              "    <path d=\"M18.56 5.44l.94 2.06.94-2.06 2.06-.94-2.06-.94-.94-2.06-.94 2.06-2.06.94zm-11 1L8.5 8.5l.94-2.06 2.06-.94-2.06-.94L8.5 2.5l-.94 2.06-2.06.94zm10 10l.94 2.06.94-2.06 2.06-.94-2.06-.94-.94-2.06-.94 2.06-2.06.94z\"/><path d=\"M17.41 7.96l-1.37-1.37c-.4-.4-.92-.59-1.43-.59-.52 0-1.04.2-1.43.59L10.3 9.45l-7.72 7.72c-.78.78-.78 2.05 0 2.83L4 21.41c.39.39.9.59 1.41.59.51 0 1.02-.2 1.41-.59l7.78-7.78 2.81-2.81c.8-.78.8-2.07 0-2.86zM5.41 20L4 18.59l7.72-7.72 1.47 1.35L5.41 20z\"/>\n",
              "  </svg>\n",
              "      </button>\n",
              "      \n",
              "  <style>\n",
              "    .colab-df-container {\n",
              "      display:flex;\n",
              "      flex-wrap:wrap;\n",
              "      gap: 12px;\n",
              "    }\n",
              "\n",
              "    .colab-df-convert {\n",
              "      background-color: #E8F0FE;\n",
              "      border: none;\n",
              "      border-radius: 50%;\n",
              "      cursor: pointer;\n",
              "      display: none;\n",
              "      fill: #1967D2;\n",
              "      height: 32px;\n",
              "      padding: 0 0 0 0;\n",
              "      width: 32px;\n",
              "    }\n",
              "\n",
              "    .colab-df-convert:hover {\n",
              "      background-color: #E2EBFA;\n",
              "      box-shadow: 0px 1px 2px rgba(60, 64, 67, 0.3), 0px 1px 3px 1px rgba(60, 64, 67, 0.15);\n",
              "      fill: #174EA6;\n",
              "    }\n",
              "\n",
              "    [theme=dark] .colab-df-convert {\n",
              "      background-color: #3B4455;\n",
              "      fill: #D2E3FC;\n",
              "    }\n",
              "\n",
              "    [theme=dark] .colab-df-convert:hover {\n",
              "      background-color: #434B5C;\n",
              "      box-shadow: 0px 1px 3px 1px rgba(0, 0, 0, 0.15);\n",
              "      filter: drop-shadow(0px 1px 2px rgba(0, 0, 0, 0.3));\n",
              "      fill: #FFFFFF;\n",
              "    }\n",
              "  </style>\n",
              "\n",
              "      <script>\n",
              "        const buttonEl =\n",
              "          document.querySelector('#df-a7c136f8-89e1-4f2d-80bc-0d5d02242cd8 button.colab-df-convert');\n",
              "        buttonEl.style.display =\n",
              "          google.colab.kernel.accessAllowed ? 'block' : 'none';\n",
              "\n",
              "        async function convertToInteractive(key) {\n",
              "          const element = document.querySelector('#df-a7c136f8-89e1-4f2d-80bc-0d5d02242cd8');\n",
              "          const dataTable =\n",
              "            await google.colab.kernel.invokeFunction('convertToInteractive',\n",
              "                                                     [key], {});\n",
              "          if (!dataTable) return;\n",
              "\n",
              "          const docLinkHtml = 'Like what you see? Visit the ' +\n",
              "            '<a target=\"_blank\" href=https://colab.research.google.com/notebooks/data_table.ipynb>data table notebook</a>'\n",
              "            + ' to learn more about interactive tables.';\n",
              "          element.innerHTML = '';\n",
              "          dataTable['output_type'] = 'display_data';\n",
              "          await google.colab.output.renderOutput(dataTable, element);\n",
              "          const docLink = document.createElement('div');\n",
              "          docLink.innerHTML = docLinkHtml;\n",
              "          element.appendChild(docLink);\n",
              "        }\n",
              "      </script>\n",
              "    </div>\n",
              "  </div>\n",
              "  "
            ]
          },
          "metadata": {},
          "execution_count": 2
        }
      ]
    },
    {
      "cell_type": "code",
      "source": [
        "df.rename(columns= {'Time/sec':'Time', 'Potential/V':'Potential', 'Current/A':'Current', 'Charge/C':'Charge',\n",
        "                    'Capacity/Ah':'Capacity', 'Nominal_Capacity/Ah':'Nominal_Capacity'},inplace=True)"
      ],
      "metadata": {
        "id": "HijDPYMNJqs2"
      },
      "execution_count": 3,
      "outputs": []
    },
    {
      "cell_type": "code",
      "source": [
        "df.insert(loc = 6,column ='Energy',value=df['Capacity']*df[\"Potential\"])"
      ],
      "metadata": {
        "id": "a7LcUWDdLDJc"
      },
      "execution_count": 4,
      "outputs": []
    },
    {
      "cell_type": "code",
      "source": [
        "df.insert(loc = 7,column ='Power',value=df['Current']*df[\"Potential\"])"
      ],
      "metadata": {
        "id": "Eb-yQQq7LDGw"
      },
      "execution_count": 5,
      "outputs": []
    },
    {
      "cell_type": "code",
      "source": [
        "df.insert(loc = 8,column ='SOC',value=df['Capacity']/df['Nominal_Capacity']) "
      ],
      "metadata": {
        "id": "WNSslidQLDEw"
      },
      "execution_count": 6,
      "outputs": []
    },
    {
      "cell_type": "code",
      "source": [
        "df.head()"
      ],
      "metadata": {
        "colab": {
          "base_uri": "https://localhost:8080/",
          "height": 206
        },
        "id": "YCgEibTFJqqG",
        "outputId": "53142f75-3300-4b77-df66-d7e8d6cf14bc"
      },
      "execution_count": 7,
      "outputs": [
        {
          "output_type": "execute_result",
          "data": {
            "text/plain": [
              "   Time  Potential  Current  Charge  Capacity  Nominal_Capacity  Energy  \\\n",
              "0   0.4       3.54     1.25    0.00       0.0               2.5     0.0   \n",
              "1   1.0       3.54     1.25    0.95       0.0               2.5     0.0   \n",
              "2   2.0       3.54     1.25    2.28       0.0               2.5     0.0   \n",
              "3   3.0       3.55     1.25    3.46       0.0               2.5     0.0   \n",
              "4   4.0       3.55     1.25    4.64       0.0               2.5     0.0   \n",
              "\n",
              "    Power  SOC  \n",
              "0  4.4250  0.0  \n",
              "1  4.4250  0.0  \n",
              "2  4.4250  0.0  \n",
              "3  4.4375  0.0  \n",
              "4  4.4375  0.0  "
            ],
            "text/html": [
              "\n",
              "  <div id=\"df-78feec21-c64b-4d20-9d00-16bd23c9c6db\">\n",
              "    <div class=\"colab-df-container\">\n",
              "      <div>\n",
              "<style scoped>\n",
              "    .dataframe tbody tr th:only-of-type {\n",
              "        vertical-align: middle;\n",
              "    }\n",
              "\n",
              "    .dataframe tbody tr th {\n",
              "        vertical-align: top;\n",
              "    }\n",
              "\n",
              "    .dataframe thead th {\n",
              "        text-align: right;\n",
              "    }\n",
              "</style>\n",
              "<table border=\"1\" class=\"dataframe\">\n",
              "  <thead>\n",
              "    <tr style=\"text-align: right;\">\n",
              "      <th></th>\n",
              "      <th>Time</th>\n",
              "      <th>Potential</th>\n",
              "      <th>Current</th>\n",
              "      <th>Charge</th>\n",
              "      <th>Capacity</th>\n",
              "      <th>Nominal_Capacity</th>\n",
              "      <th>Energy</th>\n",
              "      <th>Power</th>\n",
              "      <th>SOC</th>\n",
              "    </tr>\n",
              "  </thead>\n",
              "  <tbody>\n",
              "    <tr>\n",
              "      <th>0</th>\n",
              "      <td>0.4</td>\n",
              "      <td>3.54</td>\n",
              "      <td>1.25</td>\n",
              "      <td>0.00</td>\n",
              "      <td>0.0</td>\n",
              "      <td>2.5</td>\n",
              "      <td>0.0</td>\n",
              "      <td>4.4250</td>\n",
              "      <td>0.0</td>\n",
              "    </tr>\n",
              "    <tr>\n",
              "      <th>1</th>\n",
              "      <td>1.0</td>\n",
              "      <td>3.54</td>\n",
              "      <td>1.25</td>\n",
              "      <td>0.95</td>\n",
              "      <td>0.0</td>\n",
              "      <td>2.5</td>\n",
              "      <td>0.0</td>\n",
              "      <td>4.4250</td>\n",
              "      <td>0.0</td>\n",
              "    </tr>\n",
              "    <tr>\n",
              "      <th>2</th>\n",
              "      <td>2.0</td>\n",
              "      <td>3.54</td>\n",
              "      <td>1.25</td>\n",
              "      <td>2.28</td>\n",
              "      <td>0.0</td>\n",
              "      <td>2.5</td>\n",
              "      <td>0.0</td>\n",
              "      <td>4.4250</td>\n",
              "      <td>0.0</td>\n",
              "    </tr>\n",
              "    <tr>\n",
              "      <th>3</th>\n",
              "      <td>3.0</td>\n",
              "      <td>3.55</td>\n",
              "      <td>1.25</td>\n",
              "      <td>3.46</td>\n",
              "      <td>0.0</td>\n",
              "      <td>2.5</td>\n",
              "      <td>0.0</td>\n",
              "      <td>4.4375</td>\n",
              "      <td>0.0</td>\n",
              "    </tr>\n",
              "    <tr>\n",
              "      <th>4</th>\n",
              "      <td>4.0</td>\n",
              "      <td>3.55</td>\n",
              "      <td>1.25</td>\n",
              "      <td>4.64</td>\n",
              "      <td>0.0</td>\n",
              "      <td>2.5</td>\n",
              "      <td>0.0</td>\n",
              "      <td>4.4375</td>\n",
              "      <td>0.0</td>\n",
              "    </tr>\n",
              "  </tbody>\n",
              "</table>\n",
              "</div>\n",
              "      <button class=\"colab-df-convert\" onclick=\"convertToInteractive('df-78feec21-c64b-4d20-9d00-16bd23c9c6db')\"\n",
              "              title=\"Convert this dataframe to an interactive table.\"\n",
              "              style=\"display:none;\">\n",
              "        \n",
              "  <svg xmlns=\"http://www.w3.org/2000/svg\" height=\"24px\"viewBox=\"0 0 24 24\"\n",
              "       width=\"24px\">\n",
              "    <path d=\"M0 0h24v24H0V0z\" fill=\"none\"/>\n",
              "    <path d=\"M18.56 5.44l.94 2.06.94-2.06 2.06-.94-2.06-.94-.94-2.06-.94 2.06-2.06.94zm-11 1L8.5 8.5l.94-2.06 2.06-.94-2.06-.94L8.5 2.5l-.94 2.06-2.06.94zm10 10l.94 2.06.94-2.06 2.06-.94-2.06-.94-.94-2.06-.94 2.06-2.06.94z\"/><path d=\"M17.41 7.96l-1.37-1.37c-.4-.4-.92-.59-1.43-.59-.52 0-1.04.2-1.43.59L10.3 9.45l-7.72 7.72c-.78.78-.78 2.05 0 2.83L4 21.41c.39.39.9.59 1.41.59.51 0 1.02-.2 1.41-.59l7.78-7.78 2.81-2.81c.8-.78.8-2.07 0-2.86zM5.41 20L4 18.59l7.72-7.72 1.47 1.35L5.41 20z\"/>\n",
              "  </svg>\n",
              "      </button>\n",
              "      \n",
              "  <style>\n",
              "    .colab-df-container {\n",
              "      display:flex;\n",
              "      flex-wrap:wrap;\n",
              "      gap: 12px;\n",
              "    }\n",
              "\n",
              "    .colab-df-convert {\n",
              "      background-color: #E8F0FE;\n",
              "      border: none;\n",
              "      border-radius: 50%;\n",
              "      cursor: pointer;\n",
              "      display: none;\n",
              "      fill: #1967D2;\n",
              "      height: 32px;\n",
              "      padding: 0 0 0 0;\n",
              "      width: 32px;\n",
              "    }\n",
              "\n",
              "    .colab-df-convert:hover {\n",
              "      background-color: #E2EBFA;\n",
              "      box-shadow: 0px 1px 2px rgba(60, 64, 67, 0.3), 0px 1px 3px 1px rgba(60, 64, 67, 0.15);\n",
              "      fill: #174EA6;\n",
              "    }\n",
              "\n",
              "    [theme=dark] .colab-df-convert {\n",
              "      background-color: #3B4455;\n",
              "      fill: #D2E3FC;\n",
              "    }\n",
              "\n",
              "    [theme=dark] .colab-df-convert:hover {\n",
              "      background-color: #434B5C;\n",
              "      box-shadow: 0px 1px 3px 1px rgba(0, 0, 0, 0.15);\n",
              "      filter: drop-shadow(0px 1px 2px rgba(0, 0, 0, 0.3));\n",
              "      fill: #FFFFFF;\n",
              "    }\n",
              "  </style>\n",
              "\n",
              "      <script>\n",
              "        const buttonEl =\n",
              "          document.querySelector('#df-78feec21-c64b-4d20-9d00-16bd23c9c6db button.colab-df-convert');\n",
              "        buttonEl.style.display =\n",
              "          google.colab.kernel.accessAllowed ? 'block' : 'none';\n",
              "\n",
              "        async function convertToInteractive(key) {\n",
              "          const element = document.querySelector('#df-78feec21-c64b-4d20-9d00-16bd23c9c6db');\n",
              "          const dataTable =\n",
              "            await google.colab.kernel.invokeFunction('convertToInteractive',\n",
              "                                                     [key], {});\n",
              "          if (!dataTable) return;\n",
              "\n",
              "          const docLinkHtml = 'Like what you see? Visit the ' +\n",
              "            '<a target=\"_blank\" href=https://colab.research.google.com/notebooks/data_table.ipynb>data table notebook</a>'\n",
              "            + ' to learn more about interactive tables.';\n",
              "          element.innerHTML = '';\n",
              "          dataTable['output_type'] = 'display_data';\n",
              "          await google.colab.output.renderOutput(dataTable, element);\n",
              "          const docLink = document.createElement('div');\n",
              "          docLink.innerHTML = docLinkHtml;\n",
              "          element.appendChild(docLink);\n",
              "        }\n",
              "      </script>\n",
              "    </div>\n",
              "  </div>\n",
              "  "
            ]
          },
          "metadata": {},
          "execution_count": 7
        }
      ]
    },
    {
      "cell_type": "code",
      "source": [
        "df.info()"
      ],
      "metadata": {
        "colab": {
          "base_uri": "https://localhost:8080/"
        },
        "id": "ukAoVByUJql9",
        "outputId": "9173f5e0-27d6-40c7-865c-89008a7fdd9b"
      },
      "execution_count": 8,
      "outputs": [
        {
          "output_type": "stream",
          "name": "stdout",
          "text": [
            "<class 'pandas.core.frame.DataFrame'>\n",
            "RangeIndex: 242885 entries, 0 to 242884\n",
            "Data columns (total 9 columns):\n",
            " #   Column            Non-Null Count   Dtype  \n",
            "---  ------            --------------   -----  \n",
            " 0   Time              242885 non-null  float64\n",
            " 1   Potential         242885 non-null  float64\n",
            " 2   Current           242885 non-null  float64\n",
            " 3   Charge            242885 non-null  float64\n",
            " 4   Capacity          242885 non-null  float64\n",
            " 5   Nominal_Capacity  242885 non-null  float64\n",
            " 6   Energy            242885 non-null  float64\n",
            " 7   Power             242885 non-null  float64\n",
            " 8   SOC               242885 non-null  float64\n",
            "dtypes: float64(9)\n",
            "memory usage: 16.7 MB\n"
          ]
        }
      ]
    },
    {
      "cell_type": "code",
      "source": [
        "df.isnull().count()"
      ],
      "metadata": {
        "colab": {
          "base_uri": "https://localhost:8080/"
        },
        "id": "2UCCeg94Jqjq",
        "outputId": "5ff9c1c5-4cde-45d4-ff5c-2b7c9966004c"
      },
      "execution_count": 9,
      "outputs": [
        {
          "output_type": "execute_result",
          "data": {
            "text/plain": [
              "Time                242885\n",
              "Potential           242885\n",
              "Current             242885\n",
              "Charge              242885\n",
              "Capacity            242885\n",
              "Nominal_Capacity    242885\n",
              "Energy              242885\n",
              "Power               242885\n",
              "SOC                 242885\n",
              "dtype: int64"
            ]
          },
          "metadata": {},
          "execution_count": 9
        }
      ]
    },
    {
      "cell_type": "code",
      "source": [
        "df.describe()"
      ],
      "metadata": {
        "colab": {
          "base_uri": "https://localhost:8080/",
          "height": 300
        },
        "id": "O6dnc9ufJqhd",
        "outputId": "b7c124c0-2ed5-4be3-c701-25aa5d914b50"
      },
      "execution_count": 10,
      "outputs": [
        {
          "output_type": "execute_result",
          "data": {
            "text/plain": [
              "                Time      Potential        Current         Charge  \\\n",
              "count  242885.000000  242885.000000  242885.000000  242885.000000   \n",
              "mean   124950.840426       3.839404       0.034547    5083.012369   \n",
              "std     72231.050997       0.385144       1.234725    3185.178306   \n",
              "min         0.400000       2.750000      -2.500000       0.000000   \n",
              "25%     62490.800000       3.440000       0.000000    1920.000000   \n",
              "50%    124983.000000       3.940000       0.080000    5790.000000   \n",
              "75%    187475.100000       4.200000       1.250000    8280.000000   \n",
              "max    249967.200000       4.200000       1.260000    8680.000000   \n",
              "\n",
              "            Capacity  Nominal_Capacity         Energy          Power  \\\n",
              "count  242885.000000          242885.0  242885.000000  242885.000000   \n",
              "mean        1.412284               2.5       5.702908       0.394564   \n",
              "std         0.884470               0.0       3.763641       4.354979   \n",
              "min         0.000000               2.5       0.000000      -9.650000   \n",
              "25%         0.530000               2.5       1.895000       0.000000   \n",
              "50%         1.610000               2.5       6.181200       0.336000   \n",
              "75%         2.300000               2.5       9.660000       4.662500   \n",
              "max         2.410000               2.5      10.122000       5.292000   \n",
              "\n",
              "                 SOC  \n",
              "count  242885.000000  \n",
              "mean        0.564913  \n",
              "std         0.353788  \n",
              "min         0.000000  \n",
              "25%         0.212000  \n",
              "50%         0.644000  \n",
              "75%         0.920000  \n",
              "max         0.964000  "
            ],
            "text/html": [
              "\n",
              "  <div id=\"df-59070a30-7a9f-4f03-9eff-107da540022d\">\n",
              "    <div class=\"colab-df-container\">\n",
              "      <div>\n",
              "<style scoped>\n",
              "    .dataframe tbody tr th:only-of-type {\n",
              "        vertical-align: middle;\n",
              "    }\n",
              "\n",
              "    .dataframe tbody tr th {\n",
              "        vertical-align: top;\n",
              "    }\n",
              "\n",
              "    .dataframe thead th {\n",
              "        text-align: right;\n",
              "    }\n",
              "</style>\n",
              "<table border=\"1\" class=\"dataframe\">\n",
              "  <thead>\n",
              "    <tr style=\"text-align: right;\">\n",
              "      <th></th>\n",
              "      <th>Time</th>\n",
              "      <th>Potential</th>\n",
              "      <th>Current</th>\n",
              "      <th>Charge</th>\n",
              "      <th>Capacity</th>\n",
              "      <th>Nominal_Capacity</th>\n",
              "      <th>Energy</th>\n",
              "      <th>Power</th>\n",
              "      <th>SOC</th>\n",
              "    </tr>\n",
              "  </thead>\n",
              "  <tbody>\n",
              "    <tr>\n",
              "      <th>count</th>\n",
              "      <td>242885.000000</td>\n",
              "      <td>242885.000000</td>\n",
              "      <td>242885.000000</td>\n",
              "      <td>242885.000000</td>\n",
              "      <td>242885.000000</td>\n",
              "      <td>242885.0</td>\n",
              "      <td>242885.000000</td>\n",
              "      <td>242885.000000</td>\n",
              "      <td>242885.000000</td>\n",
              "    </tr>\n",
              "    <tr>\n",
              "      <th>mean</th>\n",
              "      <td>124950.840426</td>\n",
              "      <td>3.839404</td>\n",
              "      <td>0.034547</td>\n",
              "      <td>5083.012369</td>\n",
              "      <td>1.412284</td>\n",
              "      <td>2.5</td>\n",
              "      <td>5.702908</td>\n",
              "      <td>0.394564</td>\n",
              "      <td>0.564913</td>\n",
              "    </tr>\n",
              "    <tr>\n",
              "      <th>std</th>\n",
              "      <td>72231.050997</td>\n",
              "      <td>0.385144</td>\n",
              "      <td>1.234725</td>\n",
              "      <td>3185.178306</td>\n",
              "      <td>0.884470</td>\n",
              "      <td>0.0</td>\n",
              "      <td>3.763641</td>\n",
              "      <td>4.354979</td>\n",
              "      <td>0.353788</td>\n",
              "    </tr>\n",
              "    <tr>\n",
              "      <th>min</th>\n",
              "      <td>0.400000</td>\n",
              "      <td>2.750000</td>\n",
              "      <td>-2.500000</td>\n",
              "      <td>0.000000</td>\n",
              "      <td>0.000000</td>\n",
              "      <td>2.5</td>\n",
              "      <td>0.000000</td>\n",
              "      <td>-9.650000</td>\n",
              "      <td>0.000000</td>\n",
              "    </tr>\n",
              "    <tr>\n",
              "      <th>25%</th>\n",
              "      <td>62490.800000</td>\n",
              "      <td>3.440000</td>\n",
              "      <td>0.000000</td>\n",
              "      <td>1920.000000</td>\n",
              "      <td>0.530000</td>\n",
              "      <td>2.5</td>\n",
              "      <td>1.895000</td>\n",
              "      <td>0.000000</td>\n",
              "      <td>0.212000</td>\n",
              "    </tr>\n",
              "    <tr>\n",
              "      <th>50%</th>\n",
              "      <td>124983.000000</td>\n",
              "      <td>3.940000</td>\n",
              "      <td>0.080000</td>\n",
              "      <td>5790.000000</td>\n",
              "      <td>1.610000</td>\n",
              "      <td>2.5</td>\n",
              "      <td>6.181200</td>\n",
              "      <td>0.336000</td>\n",
              "      <td>0.644000</td>\n",
              "    </tr>\n",
              "    <tr>\n",
              "      <th>75%</th>\n",
              "      <td>187475.100000</td>\n",
              "      <td>4.200000</td>\n",
              "      <td>1.250000</td>\n",
              "      <td>8280.000000</td>\n",
              "      <td>2.300000</td>\n",
              "      <td>2.5</td>\n",
              "      <td>9.660000</td>\n",
              "      <td>4.662500</td>\n",
              "      <td>0.920000</td>\n",
              "    </tr>\n",
              "    <tr>\n",
              "      <th>max</th>\n",
              "      <td>249967.200000</td>\n",
              "      <td>4.200000</td>\n",
              "      <td>1.260000</td>\n",
              "      <td>8680.000000</td>\n",
              "      <td>2.410000</td>\n",
              "      <td>2.5</td>\n",
              "      <td>10.122000</td>\n",
              "      <td>5.292000</td>\n",
              "      <td>0.964000</td>\n",
              "    </tr>\n",
              "  </tbody>\n",
              "</table>\n",
              "</div>\n",
              "      <button class=\"colab-df-convert\" onclick=\"convertToInteractive('df-59070a30-7a9f-4f03-9eff-107da540022d')\"\n",
              "              title=\"Convert this dataframe to an interactive table.\"\n",
              "              style=\"display:none;\">\n",
              "        \n",
              "  <svg xmlns=\"http://www.w3.org/2000/svg\" height=\"24px\"viewBox=\"0 0 24 24\"\n",
              "       width=\"24px\">\n",
              "    <path d=\"M0 0h24v24H0V0z\" fill=\"none\"/>\n",
              "    <path d=\"M18.56 5.44l.94 2.06.94-2.06 2.06-.94-2.06-.94-.94-2.06-.94 2.06-2.06.94zm-11 1L8.5 8.5l.94-2.06 2.06-.94-2.06-.94L8.5 2.5l-.94 2.06-2.06.94zm10 10l.94 2.06.94-2.06 2.06-.94-2.06-.94-.94-2.06-.94 2.06-2.06.94z\"/><path d=\"M17.41 7.96l-1.37-1.37c-.4-.4-.92-.59-1.43-.59-.52 0-1.04.2-1.43.59L10.3 9.45l-7.72 7.72c-.78.78-.78 2.05 0 2.83L4 21.41c.39.39.9.59 1.41.59.51 0 1.02-.2 1.41-.59l7.78-7.78 2.81-2.81c.8-.78.8-2.07 0-2.86zM5.41 20L4 18.59l7.72-7.72 1.47 1.35L5.41 20z\"/>\n",
              "  </svg>\n",
              "      </button>\n",
              "      \n",
              "  <style>\n",
              "    .colab-df-container {\n",
              "      display:flex;\n",
              "      flex-wrap:wrap;\n",
              "      gap: 12px;\n",
              "    }\n",
              "\n",
              "    .colab-df-convert {\n",
              "      background-color: #E8F0FE;\n",
              "      border: none;\n",
              "      border-radius: 50%;\n",
              "      cursor: pointer;\n",
              "      display: none;\n",
              "      fill: #1967D2;\n",
              "      height: 32px;\n",
              "      padding: 0 0 0 0;\n",
              "      width: 32px;\n",
              "    }\n",
              "\n",
              "    .colab-df-convert:hover {\n",
              "      background-color: #E2EBFA;\n",
              "      box-shadow: 0px 1px 2px rgba(60, 64, 67, 0.3), 0px 1px 3px 1px rgba(60, 64, 67, 0.15);\n",
              "      fill: #174EA6;\n",
              "    }\n",
              "\n",
              "    [theme=dark] .colab-df-convert {\n",
              "      background-color: #3B4455;\n",
              "      fill: #D2E3FC;\n",
              "    }\n",
              "\n",
              "    [theme=dark] .colab-df-convert:hover {\n",
              "      background-color: #434B5C;\n",
              "      box-shadow: 0px 1px 3px 1px rgba(0, 0, 0, 0.15);\n",
              "      filter: drop-shadow(0px 1px 2px rgba(0, 0, 0, 0.3));\n",
              "      fill: #FFFFFF;\n",
              "    }\n",
              "  </style>\n",
              "\n",
              "      <script>\n",
              "        const buttonEl =\n",
              "          document.querySelector('#df-59070a30-7a9f-4f03-9eff-107da540022d button.colab-df-convert');\n",
              "        buttonEl.style.display =\n",
              "          google.colab.kernel.accessAllowed ? 'block' : 'none';\n",
              "\n",
              "        async function convertToInteractive(key) {\n",
              "          const element = document.querySelector('#df-59070a30-7a9f-4f03-9eff-107da540022d');\n",
              "          const dataTable =\n",
              "            await google.colab.kernel.invokeFunction('convertToInteractive',\n",
              "                                                     [key], {});\n",
              "          if (!dataTable) return;\n",
              "\n",
              "          const docLinkHtml = 'Like what you see? Visit the ' +\n",
              "            '<a target=\"_blank\" href=https://colab.research.google.com/notebooks/data_table.ipynb>data table notebook</a>'\n",
              "            + ' to learn more about interactive tables.';\n",
              "          element.innerHTML = '';\n",
              "          dataTable['output_type'] = 'display_data';\n",
              "          await google.colab.output.renderOutput(dataTable, element);\n",
              "          const docLink = document.createElement('div');\n",
              "          docLink.innerHTML = docLinkHtml;\n",
              "          element.appendChild(docLink);\n",
              "        }\n",
              "      </script>\n",
              "    </div>\n",
              "  </div>\n",
              "  "
            ]
          },
          "metadata": {},
          "execution_count": 10
        }
      ]
    },
    {
      "cell_type": "markdown",
      "source": [
        "# Normalizing the Values "
      ],
      "metadata": {
        "id": "CSloqdvOOCZJ"
      }
    },
    {
      "cell_type": "code",
      "source": [
        "from sklearn import preprocessing\n",
        "from sklearn.preprocessing import MinMaxScaler\n",
        "scaler = MinMaxScaler()\n",
        "\n",
        "numericals = ['Time','Potential','Current','Charge','Capacity','Nominal_Capacity','Energy','Power'] # Not Normalizing the Y(target Variable) - which is SOC\n",
        "df[numericals] = scaler.fit_transform(df[numericals])"
      ],
      "metadata": {
        "id": "9xKLVqeIJqfQ"
      },
      "execution_count": 11,
      "outputs": []
    },
    {
      "cell_type": "code",
      "source": [
        "df.head()"
      ],
      "metadata": {
        "colab": {
          "base_uri": "https://localhost:8080/",
          "height": 206
        },
        "id": "Ozv64Ji2JqdG",
        "outputId": "e87297b7-40a3-46d5-d9ca-7b203bc4cc90"
      },
      "execution_count": 12,
      "outputs": [
        {
          "output_type": "execute_result",
          "data": {
            "text/plain": [
              "       Time  Potential  Current    Charge  Capacity  Nominal_Capacity  Energy  \\\n",
              "0  0.000000   0.544828  0.99734  0.000000       0.0               0.0     0.0   \n",
              "1  0.000002   0.544828  0.99734  0.000109       0.0               0.0     0.0   \n",
              "2  0.000006   0.544828  0.99734  0.000263       0.0               0.0     0.0   \n",
              "3  0.000010   0.551724  0.99734  0.000399       0.0               0.0     0.0   \n",
              "4  0.000014   0.551724  0.99734  0.000535       0.0               0.0     0.0   \n",
              "\n",
              "      Power  SOC  \n",
              "0  0.941976  0.0  \n",
              "1  0.941976  0.0  \n",
              "2  0.941976  0.0  \n",
              "3  0.942812  0.0  \n",
              "4  0.942812  0.0  "
            ],
            "text/html": [
              "\n",
              "  <div id=\"df-4ef9e430-7a46-4b28-8f72-3f688ec8cf29\">\n",
              "    <div class=\"colab-df-container\">\n",
              "      <div>\n",
              "<style scoped>\n",
              "    .dataframe tbody tr th:only-of-type {\n",
              "        vertical-align: middle;\n",
              "    }\n",
              "\n",
              "    .dataframe tbody tr th {\n",
              "        vertical-align: top;\n",
              "    }\n",
              "\n",
              "    .dataframe thead th {\n",
              "        text-align: right;\n",
              "    }\n",
              "</style>\n",
              "<table border=\"1\" class=\"dataframe\">\n",
              "  <thead>\n",
              "    <tr style=\"text-align: right;\">\n",
              "      <th></th>\n",
              "      <th>Time</th>\n",
              "      <th>Potential</th>\n",
              "      <th>Current</th>\n",
              "      <th>Charge</th>\n",
              "      <th>Capacity</th>\n",
              "      <th>Nominal_Capacity</th>\n",
              "      <th>Energy</th>\n",
              "      <th>Power</th>\n",
              "      <th>SOC</th>\n",
              "    </tr>\n",
              "  </thead>\n",
              "  <tbody>\n",
              "    <tr>\n",
              "      <th>0</th>\n",
              "      <td>0.000000</td>\n",
              "      <td>0.544828</td>\n",
              "      <td>0.99734</td>\n",
              "      <td>0.000000</td>\n",
              "      <td>0.0</td>\n",
              "      <td>0.0</td>\n",
              "      <td>0.0</td>\n",
              "      <td>0.941976</td>\n",
              "      <td>0.0</td>\n",
              "    </tr>\n",
              "    <tr>\n",
              "      <th>1</th>\n",
              "      <td>0.000002</td>\n",
              "      <td>0.544828</td>\n",
              "      <td>0.99734</td>\n",
              "      <td>0.000109</td>\n",
              "      <td>0.0</td>\n",
              "      <td>0.0</td>\n",
              "      <td>0.0</td>\n",
              "      <td>0.941976</td>\n",
              "      <td>0.0</td>\n",
              "    </tr>\n",
              "    <tr>\n",
              "      <th>2</th>\n",
              "      <td>0.000006</td>\n",
              "      <td>0.544828</td>\n",
              "      <td>0.99734</td>\n",
              "      <td>0.000263</td>\n",
              "      <td>0.0</td>\n",
              "      <td>0.0</td>\n",
              "      <td>0.0</td>\n",
              "      <td>0.941976</td>\n",
              "      <td>0.0</td>\n",
              "    </tr>\n",
              "    <tr>\n",
              "      <th>3</th>\n",
              "      <td>0.000010</td>\n",
              "      <td>0.551724</td>\n",
              "      <td>0.99734</td>\n",
              "      <td>0.000399</td>\n",
              "      <td>0.0</td>\n",
              "      <td>0.0</td>\n",
              "      <td>0.0</td>\n",
              "      <td>0.942812</td>\n",
              "      <td>0.0</td>\n",
              "    </tr>\n",
              "    <tr>\n",
              "      <th>4</th>\n",
              "      <td>0.000014</td>\n",
              "      <td>0.551724</td>\n",
              "      <td>0.99734</td>\n",
              "      <td>0.000535</td>\n",
              "      <td>0.0</td>\n",
              "      <td>0.0</td>\n",
              "      <td>0.0</td>\n",
              "      <td>0.942812</td>\n",
              "      <td>0.0</td>\n",
              "    </tr>\n",
              "  </tbody>\n",
              "</table>\n",
              "</div>\n",
              "      <button class=\"colab-df-convert\" onclick=\"convertToInteractive('df-4ef9e430-7a46-4b28-8f72-3f688ec8cf29')\"\n",
              "              title=\"Convert this dataframe to an interactive table.\"\n",
              "              style=\"display:none;\">\n",
              "        \n",
              "  <svg xmlns=\"http://www.w3.org/2000/svg\" height=\"24px\"viewBox=\"0 0 24 24\"\n",
              "       width=\"24px\">\n",
              "    <path d=\"M0 0h24v24H0V0z\" fill=\"none\"/>\n",
              "    <path d=\"M18.56 5.44l.94 2.06.94-2.06 2.06-.94-2.06-.94-.94-2.06-.94 2.06-2.06.94zm-11 1L8.5 8.5l.94-2.06 2.06-.94-2.06-.94L8.5 2.5l-.94 2.06-2.06.94zm10 10l.94 2.06.94-2.06 2.06-.94-2.06-.94-.94-2.06-.94 2.06-2.06.94z\"/><path d=\"M17.41 7.96l-1.37-1.37c-.4-.4-.92-.59-1.43-.59-.52 0-1.04.2-1.43.59L10.3 9.45l-7.72 7.72c-.78.78-.78 2.05 0 2.83L4 21.41c.39.39.9.59 1.41.59.51 0 1.02-.2 1.41-.59l7.78-7.78 2.81-2.81c.8-.78.8-2.07 0-2.86zM5.41 20L4 18.59l7.72-7.72 1.47 1.35L5.41 20z\"/>\n",
              "  </svg>\n",
              "      </button>\n",
              "      \n",
              "  <style>\n",
              "    .colab-df-container {\n",
              "      display:flex;\n",
              "      flex-wrap:wrap;\n",
              "      gap: 12px;\n",
              "    }\n",
              "\n",
              "    .colab-df-convert {\n",
              "      background-color: #E8F0FE;\n",
              "      border: none;\n",
              "      border-radius: 50%;\n",
              "      cursor: pointer;\n",
              "      display: none;\n",
              "      fill: #1967D2;\n",
              "      height: 32px;\n",
              "      padding: 0 0 0 0;\n",
              "      width: 32px;\n",
              "    }\n",
              "\n",
              "    .colab-df-convert:hover {\n",
              "      background-color: #E2EBFA;\n",
              "      box-shadow: 0px 1px 2px rgba(60, 64, 67, 0.3), 0px 1px 3px 1px rgba(60, 64, 67, 0.15);\n",
              "      fill: #174EA6;\n",
              "    }\n",
              "\n",
              "    [theme=dark] .colab-df-convert {\n",
              "      background-color: #3B4455;\n",
              "      fill: #D2E3FC;\n",
              "    }\n",
              "\n",
              "    [theme=dark] .colab-df-convert:hover {\n",
              "      background-color: #434B5C;\n",
              "      box-shadow: 0px 1px 3px 1px rgba(0, 0, 0, 0.15);\n",
              "      filter: drop-shadow(0px 1px 2px rgba(0, 0, 0, 0.3));\n",
              "      fill: #FFFFFF;\n",
              "    }\n",
              "  </style>\n",
              "\n",
              "      <script>\n",
              "        const buttonEl =\n",
              "          document.querySelector('#df-4ef9e430-7a46-4b28-8f72-3f688ec8cf29 button.colab-df-convert');\n",
              "        buttonEl.style.display =\n",
              "          google.colab.kernel.accessAllowed ? 'block' : 'none';\n",
              "\n",
              "        async function convertToInteractive(key) {\n",
              "          const element = document.querySelector('#df-4ef9e430-7a46-4b28-8f72-3f688ec8cf29');\n",
              "          const dataTable =\n",
              "            await google.colab.kernel.invokeFunction('convertToInteractive',\n",
              "                                                     [key], {});\n",
              "          if (!dataTable) return;\n",
              "\n",
              "          const docLinkHtml = 'Like what you see? Visit the ' +\n",
              "            '<a target=\"_blank\" href=https://colab.research.google.com/notebooks/data_table.ipynb>data table notebook</a>'\n",
              "            + ' to learn more about interactive tables.';\n",
              "          element.innerHTML = '';\n",
              "          dataTable['output_type'] = 'display_data';\n",
              "          await google.colab.output.renderOutput(dataTable, element);\n",
              "          const docLink = document.createElement('div');\n",
              "          docLink.innerHTML = docLinkHtml;\n",
              "          element.appendChild(docLink);\n",
              "        }\n",
              "      </script>\n",
              "    </div>\n",
              "  </div>\n",
              "  "
            ]
          },
          "metadata": {},
          "execution_count": 12
        }
      ]
    },
    {
      "cell_type": "code",
      "source": [
        "df.describe()"
      ],
      "metadata": {
        "id": "RauxvdfWQYtn",
        "outputId": "f6cdf0c2-7057-442f-a85e-b29b9d18db2e",
        "colab": {
          "base_uri": "https://localhost:8080/",
          "height": 300
        }
      },
      "execution_count": 13,
      "outputs": [
        {
          "output_type": "execute_result",
          "data": {
            "text/plain": [
              "                Time      Potential        Current         Charge  \\\n",
              "count  242885.000000  242885.000000  242885.000000  242885.000000   \n",
              "mean        0.499868       0.751313       0.674082       0.585601   \n",
              "std         0.288963       0.265617       0.328384       0.366956   \n",
              "min         0.000000       0.000000       0.000000       0.000000   \n",
              "25%         0.249995       0.475862       0.664894       0.221198   \n",
              "50%         0.499997       0.820690       0.686170       0.667051   \n",
              "75%         0.749998       1.000000       0.997340       0.953917   \n",
              "max         1.000000       1.000000       1.000000       1.000000   \n",
              "\n",
              "            Capacity  Nominal_Capacity         Energy          Power  \\\n",
              "count  242885.000000          242885.0  242885.000000  242885.000000   \n",
              "mean        0.586010               0.0       0.563417       0.672237   \n",
              "std         0.367000               0.0       0.371828       0.291459   \n",
              "min         0.000000               0.0       0.000000       0.000000   \n",
              "25%         0.219917               0.0       0.187216       0.645831   \n",
              "50%         0.668050               0.0       0.610670       0.668317   \n",
              "75%         0.954357               0.0       0.954357       0.957870   \n",
              "max         1.000000               0.0       1.000000       1.000000   \n",
              "\n",
              "                 SOC  \n",
              "count  242885.000000  \n",
              "mean        0.564913  \n",
              "std         0.353788  \n",
              "min         0.000000  \n",
              "25%         0.212000  \n",
              "50%         0.644000  \n",
              "75%         0.920000  \n",
              "max         0.964000  "
            ],
            "text/html": [
              "\n",
              "  <div id=\"df-4321f321-4830-4ea6-8dd0-893c1bbc0d84\">\n",
              "    <div class=\"colab-df-container\">\n",
              "      <div>\n",
              "<style scoped>\n",
              "    .dataframe tbody tr th:only-of-type {\n",
              "        vertical-align: middle;\n",
              "    }\n",
              "\n",
              "    .dataframe tbody tr th {\n",
              "        vertical-align: top;\n",
              "    }\n",
              "\n",
              "    .dataframe thead th {\n",
              "        text-align: right;\n",
              "    }\n",
              "</style>\n",
              "<table border=\"1\" class=\"dataframe\">\n",
              "  <thead>\n",
              "    <tr style=\"text-align: right;\">\n",
              "      <th></th>\n",
              "      <th>Time</th>\n",
              "      <th>Potential</th>\n",
              "      <th>Current</th>\n",
              "      <th>Charge</th>\n",
              "      <th>Capacity</th>\n",
              "      <th>Nominal_Capacity</th>\n",
              "      <th>Energy</th>\n",
              "      <th>Power</th>\n",
              "      <th>SOC</th>\n",
              "    </tr>\n",
              "  </thead>\n",
              "  <tbody>\n",
              "    <tr>\n",
              "      <th>count</th>\n",
              "      <td>242885.000000</td>\n",
              "      <td>242885.000000</td>\n",
              "      <td>242885.000000</td>\n",
              "      <td>242885.000000</td>\n",
              "      <td>242885.000000</td>\n",
              "      <td>242885.0</td>\n",
              "      <td>242885.000000</td>\n",
              "      <td>242885.000000</td>\n",
              "      <td>242885.000000</td>\n",
              "    </tr>\n",
              "    <tr>\n",
              "      <th>mean</th>\n",
              "      <td>0.499868</td>\n",
              "      <td>0.751313</td>\n",
              "      <td>0.674082</td>\n",
              "      <td>0.585601</td>\n",
              "      <td>0.586010</td>\n",
              "      <td>0.0</td>\n",
              "      <td>0.563417</td>\n",
              "      <td>0.672237</td>\n",
              "      <td>0.564913</td>\n",
              "    </tr>\n",
              "    <tr>\n",
              "      <th>std</th>\n",
              "      <td>0.288963</td>\n",
              "      <td>0.265617</td>\n",
              "      <td>0.328384</td>\n",
              "      <td>0.366956</td>\n",
              "      <td>0.367000</td>\n",
              "      <td>0.0</td>\n",
              "      <td>0.371828</td>\n",
              "      <td>0.291459</td>\n",
              "      <td>0.353788</td>\n",
              "    </tr>\n",
              "    <tr>\n",
              "      <th>min</th>\n",
              "      <td>0.000000</td>\n",
              "      <td>0.000000</td>\n",
              "      <td>0.000000</td>\n",
              "      <td>0.000000</td>\n",
              "      <td>0.000000</td>\n",
              "      <td>0.0</td>\n",
              "      <td>0.000000</td>\n",
              "      <td>0.000000</td>\n",
              "      <td>0.000000</td>\n",
              "    </tr>\n",
              "    <tr>\n",
              "      <th>25%</th>\n",
              "      <td>0.249995</td>\n",
              "      <td>0.475862</td>\n",
              "      <td>0.664894</td>\n",
              "      <td>0.221198</td>\n",
              "      <td>0.219917</td>\n",
              "      <td>0.0</td>\n",
              "      <td>0.187216</td>\n",
              "      <td>0.645831</td>\n",
              "      <td>0.212000</td>\n",
              "    </tr>\n",
              "    <tr>\n",
              "      <th>50%</th>\n",
              "      <td>0.499997</td>\n",
              "      <td>0.820690</td>\n",
              "      <td>0.686170</td>\n",
              "      <td>0.667051</td>\n",
              "      <td>0.668050</td>\n",
              "      <td>0.0</td>\n",
              "      <td>0.610670</td>\n",
              "      <td>0.668317</td>\n",
              "      <td>0.644000</td>\n",
              "    </tr>\n",
              "    <tr>\n",
              "      <th>75%</th>\n",
              "      <td>0.749998</td>\n",
              "      <td>1.000000</td>\n",
              "      <td>0.997340</td>\n",
              "      <td>0.953917</td>\n",
              "      <td>0.954357</td>\n",
              "      <td>0.0</td>\n",
              "      <td>0.954357</td>\n",
              "      <td>0.957870</td>\n",
              "      <td>0.920000</td>\n",
              "    </tr>\n",
              "    <tr>\n",
              "      <th>max</th>\n",
              "      <td>1.000000</td>\n",
              "      <td>1.000000</td>\n",
              "      <td>1.000000</td>\n",
              "      <td>1.000000</td>\n",
              "      <td>1.000000</td>\n",
              "      <td>0.0</td>\n",
              "      <td>1.000000</td>\n",
              "      <td>1.000000</td>\n",
              "      <td>0.964000</td>\n",
              "    </tr>\n",
              "  </tbody>\n",
              "</table>\n",
              "</div>\n",
              "      <button class=\"colab-df-convert\" onclick=\"convertToInteractive('df-4321f321-4830-4ea6-8dd0-893c1bbc0d84')\"\n",
              "              title=\"Convert this dataframe to an interactive table.\"\n",
              "              style=\"display:none;\">\n",
              "        \n",
              "  <svg xmlns=\"http://www.w3.org/2000/svg\" height=\"24px\"viewBox=\"0 0 24 24\"\n",
              "       width=\"24px\">\n",
              "    <path d=\"M0 0h24v24H0V0z\" fill=\"none\"/>\n",
              "    <path d=\"M18.56 5.44l.94 2.06.94-2.06 2.06-.94-2.06-.94-.94-2.06-.94 2.06-2.06.94zm-11 1L8.5 8.5l.94-2.06 2.06-.94-2.06-.94L8.5 2.5l-.94 2.06-2.06.94zm10 10l.94 2.06.94-2.06 2.06-.94-2.06-.94-.94-2.06-.94 2.06-2.06.94z\"/><path d=\"M17.41 7.96l-1.37-1.37c-.4-.4-.92-.59-1.43-.59-.52 0-1.04.2-1.43.59L10.3 9.45l-7.72 7.72c-.78.78-.78 2.05 0 2.83L4 21.41c.39.39.9.59 1.41.59.51 0 1.02-.2 1.41-.59l7.78-7.78 2.81-2.81c.8-.78.8-2.07 0-2.86zM5.41 20L4 18.59l7.72-7.72 1.47 1.35L5.41 20z\"/>\n",
              "  </svg>\n",
              "      </button>\n",
              "      \n",
              "  <style>\n",
              "    .colab-df-container {\n",
              "      display:flex;\n",
              "      flex-wrap:wrap;\n",
              "      gap: 12px;\n",
              "    }\n",
              "\n",
              "    .colab-df-convert {\n",
              "      background-color: #E8F0FE;\n",
              "      border: none;\n",
              "      border-radius: 50%;\n",
              "      cursor: pointer;\n",
              "      display: none;\n",
              "      fill: #1967D2;\n",
              "      height: 32px;\n",
              "      padding: 0 0 0 0;\n",
              "      width: 32px;\n",
              "    }\n",
              "\n",
              "    .colab-df-convert:hover {\n",
              "      background-color: #E2EBFA;\n",
              "      box-shadow: 0px 1px 2px rgba(60, 64, 67, 0.3), 0px 1px 3px 1px rgba(60, 64, 67, 0.15);\n",
              "      fill: #174EA6;\n",
              "    }\n",
              "\n",
              "    [theme=dark] .colab-df-convert {\n",
              "      background-color: #3B4455;\n",
              "      fill: #D2E3FC;\n",
              "    }\n",
              "\n",
              "    [theme=dark] .colab-df-convert:hover {\n",
              "      background-color: #434B5C;\n",
              "      box-shadow: 0px 1px 3px 1px rgba(0, 0, 0, 0.15);\n",
              "      filter: drop-shadow(0px 1px 2px rgba(0, 0, 0, 0.3));\n",
              "      fill: #FFFFFF;\n",
              "    }\n",
              "  </style>\n",
              "\n",
              "      <script>\n",
              "        const buttonEl =\n",
              "          document.querySelector('#df-4321f321-4830-4ea6-8dd0-893c1bbc0d84 button.colab-df-convert');\n",
              "        buttonEl.style.display =\n",
              "          google.colab.kernel.accessAllowed ? 'block' : 'none';\n",
              "\n",
              "        async function convertToInteractive(key) {\n",
              "          const element = document.querySelector('#df-4321f321-4830-4ea6-8dd0-893c1bbc0d84');\n",
              "          const dataTable =\n",
              "            await google.colab.kernel.invokeFunction('convertToInteractive',\n",
              "                                                     [key], {});\n",
              "          if (!dataTable) return;\n",
              "\n",
              "          const docLinkHtml = 'Like what you see? Visit the ' +\n",
              "            '<a target=\"_blank\" href=https://colab.research.google.com/notebooks/data_table.ipynb>data table notebook</a>'\n",
              "            + ' to learn more about interactive tables.';\n",
              "          element.innerHTML = '';\n",
              "          dataTable['output_type'] = 'display_data';\n",
              "          await google.colab.output.renderOutput(dataTable, element);\n",
              "          const docLink = document.createElement('div');\n",
              "          docLink.innerHTML = docLinkHtml;\n",
              "          element.appendChild(docLink);\n",
              "        }\n",
              "      </script>\n",
              "    </div>\n",
              "  </div>\n",
              "  "
            ]
          },
          "metadata": {},
          "execution_count": 13
        }
      ]
    },
    {
      "cell_type": "markdown",
      "source": [
        "# Spliting the Data into train and test"
      ],
      "metadata": {
        "id": "XvM1uJDMOxcl"
      }
    },
    {
      "cell_type": "code",
      "source": [
        "Y = df.pop('SOC')\n",
        "X = df"
      ],
      "metadata": {
        "id": "wMXoHw6eJqas"
      },
      "execution_count": 14,
      "outputs": []
    },
    {
      "cell_type": "code",
      "source": [
        "X_train, X_test, Y_train, Y_test = train_test_split(X,Y,test_size = 0.2)"
      ],
      "metadata": {
        "id": "CAQPEBaZJqYP"
      },
      "execution_count": 15,
      "outputs": []
    },
    {
      "cell_type": "code",
      "source": [
        "X_train.shape , X_test.shape , Y_train.shape , Y_test.shape"
      ],
      "metadata": {
        "colab": {
          "base_uri": "https://localhost:8080/"
        },
        "id": "UUveRbKHOtwm",
        "outputId": "9d3ba58e-25b3-411a-cd0b-39879479a54a"
      },
      "execution_count": 16,
      "outputs": [
        {
          "output_type": "execute_result",
          "data": {
            "text/plain": [
              "((194308, 8), (48577, 8), (194308,), (48577,))"
            ]
          },
          "metadata": {},
          "execution_count": 16
        }
      ]
    },
    {
      "cell_type": "code",
      "source": [
        "def plot_his(history):\n",
        "  plt.plot(history.history['loss'])\n",
        "  plt.plot(history.history['val_loss'])\n",
        "  plt.title('model loss')\n",
        "  plt.ylabel('Loss')\n",
        "  plt.xlabel('Epoch')\n",
        "  plt.legend(['Train', 'Test'], loc='upper left')\n",
        "  plt.show()"
      ],
      "metadata": {
        "id": "LmZOytjGhN4P"
      },
      "execution_count": 17,
      "outputs": []
    },
    {
      "cell_type": "code",
      "source": [],
      "metadata": {
        "id": "-rNBIqRjQezL"
      },
      "execution_count": null,
      "outputs": []
    },
    {
      "cell_type": "markdown",
      "source": [
        "# DNN"
      ],
      "metadata": {
        "id": "W9TrVeKrmoIb"
      }
    },
    {
      "cell_type": "markdown",
      "source": [
        "## Model 1\n",
        "Normal Deep earning neural network\n",
        "with 3 layers and relu activation"
      ],
      "metadata": {
        "id": "rkAWDpfLjB8A"
      }
    },
    {
      "cell_type": "code",
      "source": [
        "tf.random.set_seed(42)\n",
        "\n",
        "model_1 = tf.keras.Sequential([tf.keras.layers.Dense(50, activation='relu'),\n",
        "                               tf.keras.layers.Dense(20, activation = 'relu'),\n",
        "                               tf.keras.layers.Dense(1)])\n",
        "\n",
        "model_1.compile(loss = tf.keras.losses.mae,\n",
        "                optimizer = tf.keras.optimizers.Adam(learning_rate=0.001),\n",
        "                metrics = [\"mae\"])\n",
        "\n",
        "history_1 = model_1.fit(X_train,Y_train, epochs= 10)"
      ],
      "metadata": {
        "colab": {
          "base_uri": "https://localhost:8080/"
        },
        "id": "f8BRLeiUjD03",
        "outputId": "59264f49-b2de-4f69-ccc2-bb6b53701ff6"
      },
      "execution_count": null,
      "outputs": [
        {
          "output_type": "stream",
          "name": "stdout",
          "text": [
            "Epoch 1/10\n",
            "6073/6073 [==============================] - 17s 2ms/step - loss: 0.0059 - mae: 0.0059\n",
            "Epoch 2/10\n",
            "6073/6073 [==============================] - 15s 3ms/step - loss: 0.0027 - mae: 0.0027\n",
            "Epoch 3/10\n",
            "6073/6073 [==============================] - 14s 2ms/step - loss: 0.0023 - mae: 0.0023\n",
            "Epoch 4/10\n",
            "6073/6073 [==============================] - 14s 2ms/step - loss: 0.0020 - mae: 0.0020\n",
            "Epoch 5/10\n",
            "6073/6073 [==============================] - 14s 2ms/step - loss: 0.0019 - mae: 0.0019\n",
            "Epoch 6/10\n",
            "6073/6073 [==============================] - 14s 2ms/step - loss: 0.0017 - mae: 0.0017\n",
            "Epoch 7/10\n",
            "6073/6073 [==============================] - 15s 3ms/step - loss: 0.0016 - mae: 0.0016\n",
            "Epoch 8/10\n",
            "6073/6073 [==============================] - 15s 2ms/step - loss: 0.0015 - mae: 0.0015\n",
            "Epoch 9/10\n",
            "6073/6073 [==============================] - 14s 2ms/step - loss: 0.0015 - mae: 0.0015\n",
            "Epoch 10/10\n",
            "6073/6073 [==============================] - 14s 2ms/step - loss: 0.0014 - mae: 0.0014\n"
          ]
        }
      ]
    },
    {
      "cell_type": "code",
      "source": [
        "model_1.summary()"
      ],
      "metadata": {
        "colab": {
          "base_uri": "https://localhost:8080/"
        },
        "id": "lwWlSXfuk0JR",
        "outputId": "8c8aea7a-2d52-491d-da8a-1d3b6d67539d"
      },
      "execution_count": null,
      "outputs": [
        {
          "output_type": "stream",
          "name": "stdout",
          "text": [
            "Model: \"sequential_2\"\n",
            "_________________________________________________________________\n",
            " Layer (type)                Output Shape              Param #   \n",
            "=================================================================\n",
            " dense_6 (Dense)             (None, 50)                450       \n",
            "                                                                 \n",
            " dense_7 (Dense)             (None, 20)                1020      \n",
            "                                                                 \n",
            " dense_8 (Dense)             (None, 1)                 21        \n",
            "                                                                 \n",
            "=================================================================\n",
            "Total params: 1,491\n",
            "Trainable params: 1,491\n",
            "Non-trainable params: 0\n",
            "_________________________________________________________________\n"
          ]
        }
      ]
    },
    {
      "cell_type": "code",
      "source": [
        "model_1.evaluate(X_test,Y_test)"
      ],
      "metadata": {
        "colab": {
          "base_uri": "https://localhost:8080/"
        },
        "id": "DqTFzKD5mi2R",
        "outputId": "d731ab1a-a23b-43dc-e481-3df33cd007c0"
      },
      "execution_count": null,
      "outputs": [
        {
          "output_type": "stream",
          "name": "stdout",
          "text": [
            "1519/1519 [==============================] - 3s 2ms/step - loss: 8.0088e-04 - mae: 8.0088e-04\n"
          ]
        },
        {
          "output_type": "execute_result",
          "data": {
            "text/plain": [
              "[0.0008008801960386336, 0.0008008801960386336]"
            ]
          },
          "metadata": {},
          "execution_count": 22
        }
      ]
    },
    {
      "cell_type": "code",
      "source": [
        "prediction = model_1.predict(X_test)\n",
        "print(prediction[:10])"
      ],
      "metadata": {
        "colab": {
          "base_uri": "https://localhost:8080/"
        },
        "id": "vwCM1plLm6hH",
        "outputId": "2eed6c03-8655-4b58-8b00-3ffd9e25838a"
      },
      "execution_count": null,
      "outputs": [
        {
          "output_type": "stream",
          "name": "stdout",
          "text": [
            "1519/1519 [==============================] - 3s 2ms/step\n",
            "[[0.20115979]\n",
            " [0.07608561]\n",
            " [0.94474053]\n",
            " [0.37221852]\n",
            " [0.0053605 ]\n",
            " [0.93250763]\n",
            " [0.9277519 ]\n",
            " [0.95632905]\n",
            " [0.9563412 ]\n",
            " [0.64807296]]\n"
          ]
        }
      ]
    },
    {
      "cell_type": "code",
      "source": [
        "plt.figure(figsize=(14,8))\n",
        "plt.scatter(Y_test[300:900], Y_test[300:900], color='blue')\n",
        "plt.scatter(prediction[300:900], prediction[300:900], color='red')\n",
        "plt.show()"
      ],
      "metadata": {
        "colab": {
          "base_uri": "https://localhost:8080/",
          "height": 483
        },
        "id": "cgqvC6qNoPDs",
        "outputId": "fe04b3f8-7075-495c-b209-1b67c7852073"
      },
      "execution_count": null,
      "outputs": [
        {
          "output_type": "display_data",
          "data": {
            "text/plain": [
              "<Figure size 1008x576 with 1 Axes>"
            ],
            "image/png": "[encoded data removed]"
          },
          "metadata": {
            "needs_background": "light"
          }
        }
      ]
    },
    {
      "cell_type": "code",
      "source": [
        "plt.plot(Y_test[200:900])\n",
        "plt.grid(True)\n",
        "plt.show"
      ],
      "metadata": {
        "colab": {
          "base_uri": "https://localhost:8080/",
          "height": 284
        },
        "id": "x2XWmf9LuGdo",
        "outputId": "eb5f7ecc-16a1-400f-805f-f3eea9de0801"
      },
      "execution_count": null,
      "outputs": [
        {
          "output_type": "execute_result",
          "data": {
            "text/plain": [
              "<function matplotlib.pyplot.show(*args, **kw)>"
            ]
          },
          "metadata": {},
          "execution_count": 48
        },
        {
          "output_type": "display_data",
          "data": {
            "text/plain": [
              "<Figure size 432x288 with 1 Axes>"
            ],
            "image/png": "[encoded data removed]"
          },
          "metadata": {
            "needs_background": "light"
          }
        }
      ]
    },
    {
      "cell_type": "code",
      "source": [
        "plt.scatter(Y_test,prediction)"
      ],
      "metadata": {
        "colab": {
          "base_uri": "https://localhost:8080/",
          "height": 284
        },
        "id": "1se6Rh53vDvH",
        "outputId": "7c2acb0c-a874-49f3-ba3e-efe106ffc840"
      },
      "execution_count": null,
      "outputs": [
        {
          "output_type": "execute_result",
          "data": {
            "text/plain": [
              "<matplotlib.collections.PathCollection at 0x7f2520303f40>"
            ]
          },
          "metadata": {},
          "execution_count": 47
        },
        {
          "output_type": "display_data",
          "data": {
            "text/plain": [
              "<Figure size 432x288 with 1 Axes>"
            ],
            "image/png": "[encoded data removed]"
          },
          "metadata": {
            "needs_background": "light"
          }
        }
      ]
    },
    {
      "cell_type": "markdown",
      "source": [
        "# LSTM\n",
        "LSTM ( Long short term memory)\n"
      ],
      "metadata": {
        "id": "AiqZ_qNtwHj5"
      }
    },
    {
      "cell_type": "markdown",
      "source": [
        "## Model 2"
      ],
      "metadata": {
        "id": "2n4cbTEwmf3y"
      }
    },
    {
      "cell_type": "code",
      "source": [
        "%%time\n",
        "tf.random.set_seed(42)\n",
        "\n",
        "model_2 = tf.keras.Sequential([tf.keras.layers.LSTM(50,activation= 'relu',return_sequences=True, input_shape=(8,1),dropout=0.3),\n",
        "                               tf.keras.layers.LSTM(10,activation='relu'),\n",
        "                               tf.keras.layers.Dense(1)])\n",
        "\n",
        "model_2.compile(loss = tf.keras.losses.mae,\n",
        "                optimizer = tf.keras.optimizers.Adam(learning_rate=0.01),\n",
        "                metrics = ['mae'])\n",
        "\n",
        "history_2 = model_2.fit(X_train,Y_train,epochs=10)"
      ],
      "metadata": {
        "colab": {
          "base_uri": "https://localhost:8080/"
        },
        "id": "imtd5AUbPvC4",
        "outputId": "0fe34aa5-9af1-42b0-da41-5aca25984af3"
      },
      "execution_count": null,
      "outputs": [
        {
          "output_type": "stream",
          "name": "stderr",
          "text": [
            "WARNING:tensorflow:Layer lstm_2 will not use cuDNN kernels since it doesn't meet the criteria. It will use a generic GPU kernel as fallback when running on GPU.\n",
            "WARNING:tensorflow:Layer lstm_3 will not use cuDNN kernels since it doesn't meet the criteria. It will use a generic GPU kernel as fallback when running on GPU.\n"
          ]
        },
        {
          "output_type": "stream",
          "name": "stdout",
          "text": [
            "Epoch 1/10\n",
            "6073/6073 [==============================] - 191s 31ms/step - loss: 0.0282 - mae: 0.0282\n",
            "Epoch 2/10\n",
            "6073/6073 [==============================] - 187s 31ms/step - loss: 0.0143 - mae: 0.0143\n",
            "Epoch 3/10\n",
            "6073/6073 [==============================] - 187s 31ms/step - loss: 0.0125 - mae: 0.0125\n",
            "Epoch 4/10\n",
            "6073/6073 [==============================] - 188s 31ms/step - loss: 0.0111 - mae: 0.0111\n",
            "Epoch 5/10\n",
            "6073/6073 [==============================] - 189s 31ms/step - loss: 0.0103 - mae: 0.0103\n",
            "Epoch 6/10\n",
            "6073/6073 [==============================] - 197s 32ms/step - loss: 0.0094 - mae: 0.0094\n",
            "Epoch 7/10\n",
            "6073/6073 [==============================] - 198s 33ms/step - loss: 0.0091 - mae: 0.0091\n",
            "Epoch 8/10\n",
            "6073/6073 [==============================] - 198s 33ms/step - loss: 0.0085 - mae: 0.0085\n",
            "Epoch 9/10\n",
            "6073/6073 [==============================] - 201s 33ms/step - loss: 0.0082 - mae: 0.0082\n",
            "Epoch 10/10\n",
            "6073/6073 [==============================] - 197s 33ms/step - loss: 0.0083 - mae: 0.0083\n",
            "CPU times: user 45min 3s, sys: 5min 57s, total: 51min\n",
            "Wall time: 32min 13s\n"
          ]
        }
      ]
    },
    {
      "cell_type": "code",
      "source": [
        "model_2.evaluate(X_test,Y_test)"
      ],
      "metadata": {
        "colab": {
          "base_uri": "https://localhost:8080/"
        },
        "id": "rwSzcN4IRsz1",
        "outputId": "5e6203a6-d4ea-4aeb-d45e-40569ea25ea6"
      },
      "execution_count": null,
      "outputs": [
        {
          "output_type": "stream",
          "name": "stdout",
          "text": [
            "1519/1519 [==============================] - 7s 5ms/step - loss: 0.1721 - mae: 0.1721\n"
          ]
        },
        {
          "output_type": "execute_result",
          "data": {
            "text/plain": [
              "[0.17209278047084808, 0.17209278047084808]"
            ]
          },
          "metadata": {},
          "execution_count": 23
        }
      ]
    },
    {
      "cell_type": "code",
      "source": [
        "model_2.summary()"
      ],
      "metadata": {
        "colab": {
          "base_uri": "https://localhost:8080/"
        },
        "id": "gEyqToczZ2zV",
        "outputId": "5fa22b06-454d-4f6a-9f1e-64554aafea9f"
      },
      "execution_count": null,
      "outputs": [
        {
          "output_type": "stream",
          "name": "stdout",
          "text": [
            "Model: \"sequential_1\"\n",
            "_________________________________________________________________\n",
            " Layer (type)                Output Shape              Param #   \n",
            "=================================================================\n",
            " lstm_2 (LSTM)               (None, 8, 50)             10400     \n",
            "                                                                 \n",
            " lstm_3 (LSTM)               (None, 10)                2440      \n",
            "                                                                 \n",
            " dense_1 (Dense)             (None, 1)                 11        \n",
            "                                                                 \n",
            "=================================================================\n",
            "Total params: 12,851\n",
            "Trainable params: 12,851\n",
            "Non-trainable params: 0\n",
            "_________________________________________________________________\n"
          ]
        }
      ]
    },
    {
      "cell_type": "code",
      "source": [
        "prediction_2 = model_2.predict(X_test)\n",
        "print(prediction_2[:20])"
      ],
      "metadata": {
        "colab": {
          "base_uri": "https://localhost:8080/"
        },
        "id": "APTjHqE8Z_YQ",
        "outputId": "88b9ccbb-45d9-4b9e-c867-0721be9fe23c"
      },
      "execution_count": null,
      "outputs": [
        {
          "output_type": "stream",
          "name": "stdout",
          "text": [
            "1519/1519 [==============================] - 7s 4ms/step\n",
            "[[0.11406583]\n",
            " [0.56721485]\n",
            " [0.5362625 ]\n",
            " [0.31515515]\n",
            " [0.28905365]\n",
            " [0.52688825]\n",
            " [0.08755141]\n",
            " [0.56352663]\n",
            " [0.04244122]\n",
            " [0.61956114]\n",
            " [0.5780682 ]\n",
            " [0.00098458]\n",
            " [0.66091406]\n",
            " [0.11652717]\n",
            " [0.6422496 ]\n",
            " [0.12333548]\n",
            " [0.41474602]\n",
            " [0.00657138]\n",
            " [0.07346886]\n",
            " [0.00910398]]\n"
          ]
        }
      ]
    },
    {
      "cell_type": "code",
      "source": [
        "plt.figure(figsize=(14,8))\n",
        "plt.scatter(Y_test[300:900], Y_test[300:900], color='blue')\n",
        "plt.scatter(prediction_2[300:900], prediction_2[300:900], color='red')\n",
        "plt.show()"
      ],
      "metadata": {
        "colab": {
          "base_uri": "https://localhost:8080/",
          "height": 483
        },
        "id": "7YTcOpO9aZTI",
        "outputId": "655e1bb0-f90d-43c6-f684-24e46ee514b2"
      },
      "execution_count": null,
      "outputs": [
        {
          "output_type": "display_data",
          "data": {
            "text/plain": [
              "<Figure size 1008x576 with 1 Axes>"
            ],
            "image/png": "[encoded data removed]"
          },
          "metadata": {
            "needs_background": "light"
          }
        }
      ]
    },
    {
      "cell_type": "markdown",
      "source": [
        "## Model 3"
      ],
      "metadata": {
        "id": "e6Wq_qvPmS2J"
      }
    },
    {
      "cell_type": "code",
      "source": [
        "%%time\n",
        "tf.random.set_seed(42)\n",
        "\n",
        "model_3 = tf.keras.Sequential([tf.keras.layers.LSTM(20,activation= 'relu',return_sequences=True, input_shape=(8,1),dropout=0.3),\n",
        "                               tf.keras.layers.LSTM(10,activation='relu'),\n",
        "                               tf.keras.layers.Dense(1)])\n",
        "\n",
        "model_3.compile(loss = tf.keras.losses.mae,\n",
        "                optimizer = tf.keras.optimizers.Adam(learning_rate=0.001),\n",
        "                metrics = ['mae'])\n",
        "\n",
        "history_3 = model_3.fit(X_train,Y_train,epochs=6)"
      ],
      "metadata": {
        "colab": {
          "base_uri": "https://localhost:8080/"
        },
        "id": "kXzekG-pN2aK",
        "outputId": "4088f6d2-a0e6-4c1a-9e2e-65d6d38343d9"
      },
      "execution_count": null,
      "outputs": [
        {
          "output_type": "stream",
          "name": "stderr",
          "text": [
            "WARNING:tensorflow:Layer lstm_2 will not use cuDNN kernels since it doesn't meet the criteria. It will use a generic GPU kernel as fallback when running on GPU.\n",
            "WARNING:tensorflow:Layer lstm_3 will not use cuDNN kernels since it doesn't meet the criteria. It will use a generic GPU kernel as fallback when running on GPU.\n"
          ]
        },
        {
          "output_type": "stream",
          "name": "stdout",
          "text": [
            "Epoch 1/6\n",
            "6073/6073 [==============================] - 206s 34ms/step - loss: 0.0826 - mae: 0.0826\n",
            "Epoch 2/6\n",
            "6073/6073 [==============================] - 204s 34ms/step - loss: 0.0285 - mae: 0.0285\n",
            "Epoch 3/6\n",
            "6073/6073 [==============================] - 206s 34ms/step - loss: 0.0215 - mae: 0.0215\n",
            "Epoch 4/6\n",
            "6073/6073 [==============================] - 206s 34ms/step - loss: 0.0191 - mae: 0.0191\n",
            "Epoch 5/6\n",
            "6073/6073 [==============================] - 206s 34ms/step - loss: 0.0174 - mae: 0.0174\n",
            "Epoch 6/6\n",
            "6073/6073 [==============================] - 204s 34ms/step - loss: 0.0162 - mae: 0.0162\n",
            "CPU times: user 27min 50s, sys: 3min 35s, total: 31min 26s\n",
            "Wall time: 20min 32s\n"
          ]
        }
      ]
    },
    {
      "cell_type": "code",
      "source": [
        "model_3.summary()"
      ],
      "metadata": {
        "colab": {
          "base_uri": "https://localhost:8080/"
        },
        "id": "mB_-KjB5P6TZ",
        "outputId": "4e424259-3a69-439f-861c-aa0a83eca76e"
      },
      "execution_count": null,
      "outputs": [
        {
          "output_type": "stream",
          "name": "stdout",
          "text": [
            "Model: \"sequential_1\"\n",
            "_________________________________________________________________\n",
            " Layer (type)                Output Shape              Param #   \n",
            "=================================================================\n",
            " lstm_2 (LSTM)               (None, 8, 20)             1760      \n",
            "                                                                 \n",
            " lstm_3 (LSTM)               (None, 10)                1240      \n",
            "                                                                 \n",
            " dense_1 (Dense)             (None, 1)                 11        \n",
            "                                                                 \n",
            "=================================================================\n",
            "Total params: 3,011\n",
            "Trainable params: 3,011\n",
            "Non-trainable params: 0\n",
            "_________________________________________________________________\n"
          ]
        }
      ]
    },
    {
      "cell_type": "code",
      "source": [
        "model_3.evaluate(X_test,Y_test)"
      ],
      "metadata": {
        "colab": {
          "base_uri": "https://localhost:8080/"
        },
        "id": "yFDCLLoIP6Qy",
        "outputId": "c4ef9bc2-3dc7-44f6-f0c4-109b47b19b8d"
      },
      "execution_count": null,
      "outputs": [
        {
          "output_type": "stream",
          "name": "stdout",
          "text": [
            "1519/1519 [==============================] - 7s 5ms/step - loss: 0.1460 - mae: 0.1460\n"
          ]
        },
        {
          "output_type": "execute_result",
          "data": {
            "text/plain": [
              "[0.1460295170545578, 0.1460295170545578]"
            ]
          },
          "metadata": {},
          "execution_count": 25
        }
      ]
    },
    {
      "cell_type": "code",
      "source": [
        "pd.DataFrame(history_3.history).plot()\n",
        "plt.ylabel(\"Mean absoulte error\")\n",
        "plt.xlabel(\"Epochs\")\n",
        "plt.title(\"LSTM-Error\")"
      ],
      "metadata": {
        "colab": {
          "base_uri": "https://localhost:8080/",
          "height": 312
        },
        "id": "wKaQ3umJN2MN",
        "outputId": "839c9082-b1ef-4566-cba0-7f8d48cc77d4"
      },
      "execution_count": null,
      "outputs": [
        {
          "output_type": "execute_result",
          "data": {
            "text/plain": [
              "Text(0.5, 1.0, 'LSTM-Error')"
            ]
          },
          "metadata": {},
          "execution_count": 26
        },
        {
          "output_type": "display_data",
          "data": {
            "text/plain": [
              "<Figure size 432x288 with 1 Axes>"
            ],
            "image/png": "[encoded data removed]"
          },
          "metadata": {
            "needs_background": "light"
          }
        }
      ]
    },
    {
      "cell_type": "code",
      "source": [
        "prediction_3 = model_3.predict(X_test)\n",
        "print(prediction_3[:20])"
      ],
      "metadata": {
        "colab": {
          "base_uri": "https://localhost:8080/"
        },
        "id": "EF8Dvai7QDPW",
        "outputId": "eba2e2d7-a438-4b80-ea46-66d3ce0720c0"
      },
      "execution_count": null,
      "outputs": [
        {
          "output_type": "stream",
          "name": "stdout",
          "text": [
            "1519/1519 [==============================] - 6s 4ms/step\n",
            "[[0.20028435]\n",
            " [0.7039334 ]\n",
            " [0.25026488]\n",
            " [0.660453  ]\n",
            " [0.38282233]\n",
            " [0.7128551 ]\n",
            " [0.6007756 ]\n",
            " [0.67457634]\n",
            " [0.6786955 ]\n",
            " [0.02930216]\n",
            " [0.08112739]\n",
            " [0.66751146]\n",
            " [0.26617503]\n",
            " [0.52348256]\n",
            " [0.71193403]\n",
            " [0.07630853]\n",
            " [0.68016285]\n",
            " [0.6991308 ]\n",
            " [0.6403023 ]\n",
            " [0.709634  ]]\n"
          ]
        }
      ]
    },
    {
      "cell_type": "code",
      "source": [
        "plt.figure(figsize=(14,8))\n",
        "plt.scatter(Y_test[300:900], Y_test[300:900], color='blue')\n",
        "plt.scatter(prediction_3[300:900], prediction_3[300:900], color='red')\n",
        "plt.show()"
      ],
      "metadata": {
        "colab": {
          "base_uri": "https://localhost:8080/",
          "height": 483
        },
        "id": "BC0150k8QDNK",
        "outputId": "dad4f204-3339-4289-8877-cac93c70b07a"
      },
      "execution_count": null,
      "outputs": [
        {
          "output_type": "display_data",
          "data": {
            "text/plain": [
              "<Figure size 1008x576 with 1 Axes>"
            ],
            "image/png": "[encoded data removed]"
          },
          "metadata": {
            "needs_background": "light"
          }
        }
      ]
    },
    {
      "cell_type": "markdown",
      "source": [
        "# CNN"
      ],
      "metadata": {
        "id": "r8VIuV9kmjxB"
      }
    },
    {
      "cell_type": "markdown",
      "source": [
        "## Model 4\n",
        "CNN"
      ],
      "metadata": {
        "id": "jOtJqWZDay3Q"
      }
    },
    {
      "cell_type": "code",
      "source": [
        "model_4 = tf.keras.Sequential([tf.keras.layers.Conv1D(10,3,activation='relu',input_shape=(8,1)),\n",
        "                               tf.keras.layers.Conv1D(10,3,activation='relu'),\n",
        "                               tf.keras.layers.Flatten(),\n",
        "                               tf.keras.layers.Dense(1,activation='relu')])\n",
        "\n",
        "model_4.compile(loss = tf.keras.losses.mae,\n",
        "                optimizer = tf.keras.optimizers.Adam(learning_rate=0.001),\n",
        "                metrics=['mae'])\n",
        "\n",
        "history_4 = model_4.fit(X_train,Y_train,epochs=5)"
      ],
      "metadata": {
        "id": "1JnEs7lm-635",
        "colab": {
          "base_uri": "https://localhost:8080/"
        },
        "outputId": "ee805caf-7b61-4423-94a2-e2dd3601a365"
      },
      "execution_count": null,
      "outputs": [
        {
          "output_type": "stream",
          "name": "stdout",
          "text": [
            "Epoch 1/5\n",
            "6073/6073 [==============================] - 13s 2ms/step - loss: 0.0058 - mae: 0.0058\n",
            "Epoch 2/5\n",
            "6073/6073 [==============================] - 12s 2ms/step - loss: 0.0017 - mae: 0.0017\n",
            "Epoch 3/5\n",
            "6073/6073 [==============================] - 12s 2ms/step - loss: 0.0016 - mae: 0.0016\n",
            "Epoch 4/5\n",
            "6073/6073 [==============================] - 11s 2ms/step - loss: 0.0015 - mae: 0.0015\n",
            "Epoch 5/5\n",
            "6073/6073 [==============================] - 12s 2ms/step - loss: 0.0014 - mae: 0.0014\n"
          ]
        }
      ]
    },
    {
      "cell_type": "code",
      "source": [
        "model_4.evaluate(X_test,Y_test)"
      ],
      "metadata": {
        "colab": {
          "base_uri": "https://localhost:8080/"
        },
        "id": "Ew-_bqOMgKGJ",
        "outputId": "b08c8598-9269-4e16-c582-27df7752996a"
      },
      "execution_count": null,
      "outputs": [
        {
          "output_type": "stream",
          "name": "stdout",
          "text": [
            "1519/1519 [==============================] - 2s 1ms/step - loss: 0.0015 - mae: 0.0015\n"
          ]
        },
        {
          "output_type": "execute_result",
          "data": {
            "text/plain": [
              "[0.0014545790618285537, 0.0014545790618285537]"
            ]
          },
          "metadata": {},
          "execution_count": 20
        }
      ]
    },
    {
      "cell_type": "code",
      "source": [
        "prediction_4 = model_4.predict(X_test)\n",
        "print(prediction_4[:20])"
      ],
      "metadata": {
        "colab": {
          "base_uri": "https://localhost:8080/"
        },
        "id": "t5wBBzcYg9uv",
        "outputId": "6eef4f65-8fcc-49a8-a919-62e416d9c055"
      },
      "execution_count": null,
      "outputs": [
        {
          "output_type": "stream",
          "name": "stdout",
          "text": [
            "1519/1519 [==============================] - 3s 2ms/step\n",
            "[[0.9024275 ]\n",
            " [0.8773483 ]\n",
            " [0.01341522]\n",
            " [0.38146585]\n",
            " [0.8082183 ]\n",
            " [0.92450565]\n",
            " [0.02963302]\n",
            " [0.59323287]\n",
            " [0.94910204]\n",
            " [0.03839782]\n",
            " [0.93333215]\n",
            " [0.1650593 ]\n",
            " [0.02179254]\n",
            " [0.12973557]\n",
            " [0.84140164]\n",
            " [0.91846246]\n",
            " [0.7973091 ]\n",
            " [0.80786735]\n",
            " [0.02962977]\n",
            " [0.82909   ]]\n"
          ]
        }
      ]
    },
    {
      "cell_type": "code",
      "source": [
        "pd.DataFrame(history_4.history).plot()\n",
        "plt.ylabel(\"Mean absoulte error\")\n",
        "plt.xlabel(\"Epochs\")\n",
        "plt.title(\"CNN-Loss\")"
      ],
      "metadata": {
        "colab": {
          "base_uri": "https://localhost:8080/",
          "height": 312
        },
        "id": "FQFbdP1-hj7A",
        "outputId": "4a2f765a-ba26-402e-ae9a-d5c388af8cbd"
      },
      "execution_count": null,
      "outputs": [
        {
          "output_type": "execute_result",
          "data": {
            "text/plain": [
              "Text(0.5, 1.0, 'CNN-Loss')"
            ]
          },
          "metadata": {},
          "execution_count": 25
        },
        {
          "output_type": "display_data",
          "data": {
            "text/plain": [
              "<Figure size 432x288 with 1 Axes>"
            ],
            "image/png": "[encoded data removed]"
          },
          "metadata": {
            "needs_background": "light"
          }
        }
      ]
    },
    {
      "cell_type": "code",
      "source": [
        "plt.figure(figsize=(14,8))\n",
        "plt.scatter(Y_test[300:900], Y_test[300:900], color='blue')\n",
        "plt.scatter(prediction_4[300:900], prediction_4[300:900], color='red')\n",
        "plt.show()"
      ],
      "metadata": {
        "colab": {
          "base_uri": "https://localhost:8080/",
          "height": 483
        },
        "id": "86n-v6aRhUvg",
        "outputId": "1d1e6efc-dad0-40b5-a029-e4a5d1b3d90c"
      },
      "execution_count": null,
      "outputs": [
        {
          "output_type": "display_data",
          "data": {
            "text/plain": [
              "<Figure size 1008x576 with 1 Axes>"
            ],
            "image/png": "[encoded data removed]"
          },
          "metadata": {
            "needs_background": "light"
          }
        }
      ]
    },
    {
      "cell_type": "code",
      "source": [
        "plt.plot(history_4.history['loss'])\n",
        "plt.plot(history_4.history['mae'])\n",
        "plt.title('model loss')\n",
        "plt.ylabel('loss')\n",
        "plt.xlabel('epoch')\n",
        "plt.legend(['train', 'test'], loc='upper left')\n",
        "plt.show()"
      ],
      "metadata": {
        "colab": {
          "base_uri": "https://localhost:8080/",
          "height": 295
        },
        "id": "LYcukGFNiWPV",
        "outputId": "3a510266-a8d7-4cf9-fa09-acfe438003eb"
      },
      "execution_count": null,
      "outputs": [
        {
          "output_type": "display_data",
          "data": {
            "text/plain": [
              "<Figure size 432x288 with 1 Axes>"
            ],
            "image/png": "[encoded data removed]"
          },
          "metadata": {
            "needs_background": "light"
          }
        }
      ]
    },
    {
      "cell_type": "code",
      "source": [],
      "metadata": {
        "id": "M3Wm9aF_jzzA"
      },
      "execution_count": null,
      "outputs": []
    },
    {
      "cell_type": "code",
      "source": [],
      "metadata": {
        "id": "16ZRuXj3kEzN"
      },
      "execution_count": null,
      "outputs": []
    },
    {
      "cell_type": "code",
      "source": [],
      "metadata": {
        "id": "0Sq1wLclkExF"
      },
      "execution_count": null,
      "outputs": []
    },
    {
      "cell_type": "markdown",
      "source": [
        "## Model 5"
      ],
      "metadata": {
        "id": "uDWgwOG9maNf"
      }
    },
    {
      "cell_type": "code",
      "source": [
        "model_5 = tf.keras.Sequential([tf.keras.layers.Conv1D(3,3,activation='relu',input_shape=(8,1)),\n",
        "                               tf.keras.layers.Conv1D(3,3,activation='relu'),\n",
        "                               tf.keras.layers.Flatten(),\n",
        "                               tf.keras.layers.Dense(1,activation='relu')])\n",
        "\n",
        "model_5.compile(loss = tf.keras.losses.mae,\n",
        "                optimizer = tf.keras.optimizers.Adam(learning_rate=0.01),\n",
        "                metrics=['mae'])\n",
        "\n",
        "history_5 = model_5.fit(X_train,Y_train,epochs=10,validation_data=(X_test,Y_test))"
      ],
      "metadata": {
        "colab": {
          "base_uri": "https://localhost:8080/"
        },
        "id": "HacVkjhykEuw",
        "outputId": "8587b4a4-7eae-4b4a-8dce-bdfc46911a61"
      },
      "execution_count": null,
      "outputs": [
        {
          "output_type": "stream",
          "name": "stdout",
          "text": [
            "Epoch 1/10\n",
            "6073/6073 [==============================] - 13s 2ms/step - loss: 0.0071 - mae: 0.0071 - val_loss: 0.0038 - val_mae: 0.0038\n",
            "Epoch 2/10\n",
            "6073/6073 [==============================] - 12s 2ms/step - loss: 0.0043 - mae: 0.0043 - val_loss: 0.0035 - val_mae: 0.0035\n",
            "Epoch 3/10\n",
            "6073/6073 [==============================] - 12s 2ms/step - loss: 0.0044 - mae: 0.0044 - val_loss: 0.0028 - val_mae: 0.0028\n",
            "Epoch 4/10\n",
            "6073/6073 [==============================] - 12s 2ms/step - loss: 0.0042 - mae: 0.0042 - val_loss: 0.0148 - val_mae: 0.0148\n",
            "Epoch 5/10\n",
            "6073/6073 [==============================] - 13s 2ms/step - loss: 0.0042 - mae: 0.0042 - val_loss: 0.0037 - val_mae: 0.0037\n",
            "Epoch 6/10\n",
            "6073/6073 [==============================] - 12s 2ms/step - loss: 0.0038 - mae: 0.0038 - val_loss: 0.0035 - val_mae: 0.0035\n",
            "Epoch 7/10\n",
            "6073/6073 [==============================] - 13s 2ms/step - loss: 0.0040 - mae: 0.0040 - val_loss: 0.0021 - val_mae: 0.0021\n",
            "Epoch 8/10\n",
            "6073/6073 [==============================] - 12s 2ms/step - loss: 0.0036 - mae: 0.0036 - val_loss: 0.0028 - val_mae: 0.0028\n",
            "Epoch 9/10\n",
            "6073/6073 [==============================] - 12s 2ms/step - loss: 0.0030 - mae: 0.0030 - val_loss: 0.0019 - val_mae: 0.0019\n",
            "Epoch 10/10\n",
            "6073/6073 [==============================] - 13s 2ms/step - loss: 0.0029 - mae: 0.0029 - val_loss: 0.0035 - val_mae: 0.0035\n"
          ]
        }
      ]
    },
    {
      "cell_type": "code",
      "source": [
        "plt.plot(history_5.history['loss'])\n",
        "plt.plot(history_5.history['val_loss'])\n",
        "plt.title('model loss')\n",
        "plt.ylabel('loss')\n",
        "plt.xlabel('epoch')\n",
        "plt.legend(['train', 'test'], loc='upper left')\n",
        "plt.show()"
      ],
      "metadata": {
        "colab": {
          "base_uri": "https://localhost:8080/",
          "height": 295
        },
        "id": "ZdjiIKnPkQhR",
        "outputId": "61bae5de-70ef-488c-80f1-ab4537f04c32"
      },
      "execution_count": null,
      "outputs": [
        {
          "output_type": "display_data",
          "data": {
            "text/plain": [
              "<Figure size 432x288 with 1 Axes>"
            ],
            "image/png": "[encoded data removed]"
          },
          "metadata": {
            "needs_background": "light"
          }
        }
      ]
    },
    {
      "cell_type": "code",
      "source": [
        "prediction_5 = model_5.predict(X_test)\n"
      ],
      "metadata": {
        "colab": {
          "base_uri": "https://localhost:8080/"
        },
        "id": "jnEjETNymCux",
        "outputId": "8cf301aa-d7ba-4452-9ae4-ccadae733c56"
      },
      "execution_count": null,
      "outputs": [
        {
          "output_type": "stream",
          "name": "stdout",
          "text": [
            "1519/1519 [==============================] - 2s 1ms/step\n"
          ]
        }
      ]
    },
    {
      "cell_type": "code",
      "source": [
        "plt.figure(figsize=(14,8))\n",
        "plt.scatter(Y_test[300:900], Y_test[300:900], color='blue')\n",
        "plt.scatter(prediction_5[300:900], prediction_5[300:900], color='red')\n",
        "plt.show()"
      ],
      "metadata": {
        "colab": {
          "base_uri": "https://localhost:8080/",
          "height": 483
        },
        "id": "7j_9vr8ik8DA",
        "outputId": "9e893ad2-18bc-4105-f6f3-b89297ad2400"
      },
      "execution_count": null,
      "outputs": [
        {
          "output_type": "display_data",
          "data": {
            "text/plain": [
              "<Figure size 1008x576 with 1 Axes>"
            ],
            "image/png": "[encoded data removed]"
          },
          "metadata": {
            "needs_background": "light"
          }
        }
      ]
    },
    {
      "cell_type": "markdown",
      "source": [
        "## Model 6"
      ],
      "metadata": {
        "id": "DaImyiqey3QC"
      }
    },
    {
      "cell_type": "code",
      "source": [
        "%%time\n",
        "model_6 = tf.keras.Sequential([tf.keras.layers.Conv1D(10,3,activation='relu',input_shape=(8,1)),\n",
        "                               tf.keras.layers.Conv1D(10,2,activation='relu'),\n",
        "                               tf.keras.layers.Flatten(),\n",
        "                               tf.keras.layers.Dense(16,activation=\"relu\"),\n",
        "                               tf.keras.layers.Dense(1)])\n",
        "\n",
        "model_6.compile(loss = tf.keras.losses.mae,\n",
        "                optimizer = tf.keras.optimizers.Adam(learning_rate=0.001),\n",
        "                metrics=['mae'])\n",
        "\n",
        "history_6 = model_6.fit(X_train,Y_train,epochs=100,validation_data=(X_test,Y_test))"
      ],
      "metadata": {
        "id": "gRyV8MtGoeFw",
        "colab": {
          "base_uri": "https://localhost:8080/"
        },
        "outputId": "c84f718d-9231-4075-a4c3-c9fa689b3f21"
      },
      "execution_count": 30,
      "outputs": [
        {
          "output_type": "stream",
          "name": "stdout",
          "text": [
            "Epoch 1/100\n",
            "6073/6073 [==============================] - 22s 3ms/step - loss: 0.0056 - mae: 0.0056 - val_loss: 0.0029 - val_mae: 0.0029\n",
            "Epoch 2/100\n",
            "6073/6073 [==============================] - 21s 3ms/step - loss: 0.0024 - mae: 0.0024 - val_loss: 0.0042 - val_mae: 0.0042\n",
            "Epoch 3/100\n",
            "6073/6073 [==============================] - 21s 3ms/step - loss: 0.0022 - mae: 0.0022 - val_loss: 0.0024 - val_mae: 0.0024\n",
            "Epoch 4/100\n",
            "6073/6073 [==============================] - 21s 3ms/step - loss: 0.0020 - mae: 0.0020 - val_loss: 5.5763e-04 - val_mae: 5.5763e-04\n",
            "Epoch 5/100\n",
            "6073/6073 [==============================] - 21s 3ms/step - loss: 0.0018 - mae: 0.0018 - val_loss: 0.0040 - val_mae: 0.0040\n",
            "Epoch 6/100\n",
            "6073/6073 [==============================] - 21s 3ms/step - loss: 0.0018 - mae: 0.0018 - val_loss: 0.0025 - val_mae: 0.0025\n",
            "Epoch 7/100\n",
            "6073/6073 [==============================] - 21s 3ms/step - loss: 0.0016 - mae: 0.0016 - val_loss: 0.0014 - val_mae: 0.0014\n",
            "Epoch 8/100\n",
            "6073/6073 [==============================] - 21s 3ms/step - loss: 0.0017 - mae: 0.0017 - val_loss: 0.0041 - val_mae: 0.0041\n",
            "Epoch 9/100\n",
            "6073/6073 [==============================] - 21s 3ms/step - loss: 0.0015 - mae: 0.0015 - val_loss: 8.2927e-04 - val_mae: 8.2927e-04\n",
            "Epoch 10/100\n",
            "6073/6073 [==============================] - 21s 3ms/step - loss: 0.0015 - mae: 0.0015 - val_loss: 0.0044 - val_mae: 0.0044\n",
            "Epoch 11/100\n",
            "6073/6073 [==============================] - 21s 3ms/step - loss: 0.0015 - mae: 0.0015 - val_loss: 8.1805e-04 - val_mae: 8.1805e-04\n",
            "Epoch 12/100\n",
            "6073/6073 [==============================] - 21s 3ms/step - loss: 0.0014 - mae: 0.0014 - val_loss: 0.0014 - val_mae: 0.0014\n",
            "Epoch 13/100\n",
            "6073/6073 [==============================] - 24s 4ms/step - loss: 0.0014 - mae: 0.0014 - val_loss: 0.0013 - val_mae: 0.0013\n",
            "Epoch 14/100\n",
            "6073/6073 [==============================] - 21s 4ms/step - loss: 0.0013 - mae: 0.0013 - val_loss: 0.0016 - val_mae: 0.0016\n",
            "Epoch 15/100\n",
            "6073/6073 [==============================] - 21s 3ms/step - loss: 0.0014 - mae: 0.0014 - val_loss: 7.2028e-04 - val_mae: 7.2028e-04\n",
            "Epoch 16/100\n",
            "6073/6073 [==============================] - 21s 3ms/step - loss: 0.0013 - mae: 0.0013 - val_loss: 0.0014 - val_mae: 0.0014\n",
            "Epoch 17/100\n",
            "6073/6073 [==============================] - 21s 3ms/step - loss: 0.0012 - mae: 0.0012 - val_loss: 0.0028 - val_mae: 0.0028\n",
            "Epoch 18/100\n",
            "6073/6073 [==============================] - 21s 3ms/step - loss: 0.0012 - mae: 0.0012 - val_loss: 0.0012 - val_mae: 0.0012\n",
            "Epoch 19/100\n",
            "6073/6073 [==============================] - 21s 3ms/step - loss: 0.0013 - mae: 0.0013 - val_loss: 5.2778e-04 - val_mae: 5.2778e-04\n",
            "Epoch 20/100\n",
            "6073/6073 [==============================] - 21s 3ms/step - loss: 0.0012 - mae: 0.0012 - val_loss: 4.9447e-04 - val_mae: 4.9447e-04\n",
            "Epoch 21/100\n",
            "6073/6073 [==============================] - 21s 3ms/step - loss: 0.0012 - mae: 0.0012 - val_loss: 0.0017 - val_mae: 0.0017\n",
            "Epoch 22/100\n",
            "6073/6073 [==============================] - 21s 4ms/step - loss: 0.0011 - mae: 0.0011 - val_loss: 0.0023 - val_mae: 0.0023\n",
            "Epoch 23/100\n",
            "6073/6073 [==============================] - 21s 3ms/step - loss: 0.0012 - mae: 0.0012 - val_loss: 6.6726e-04 - val_mae: 6.6726e-04\n",
            "Epoch 24/100\n",
            "6073/6073 [==============================] - 21s 3ms/step - loss: 0.0012 - mae: 0.0012 - val_loss: 0.0029 - val_mae: 0.0029\n",
            "Epoch 25/100\n",
            "6073/6073 [==============================] - 21s 4ms/step - loss: 0.0012 - mae: 0.0012 - val_loss: 8.6321e-04 - val_mae: 8.6321e-04\n",
            "Epoch 26/100\n",
            "6073/6073 [==============================] - 24s 4ms/step - loss: 0.0011 - mae: 0.0011 - val_loss: 5.2743e-04 - val_mae: 5.2743e-04\n",
            "Epoch 27/100\n",
            "6073/6073 [==============================] - 24s 4ms/step - loss: 0.0011 - mae: 0.0011 - val_loss: 4.9218e-04 - val_mae: 4.9218e-04\n",
            "Epoch 28/100\n",
            "6073/6073 [==============================] - 21s 4ms/step - loss: 0.0011 - mae: 0.0011 - val_loss: 0.0012 - val_mae: 0.0012\n",
            "Epoch 29/100\n",
            "6073/6073 [==============================] - 21s 3ms/step - loss: 0.0011 - mae: 0.0011 - val_loss: 0.0015 - val_mae: 0.0015\n",
            "Epoch 30/100\n",
            "6073/6073 [==============================] - 21s 3ms/step - loss: 0.0011 - mae: 0.0011 - val_loss: 3.9214e-04 - val_mae: 3.9214e-04\n",
            "Epoch 31/100\n",
            "6073/6073 [==============================] - 21s 3ms/step - loss: 0.0011 - mae: 0.0011 - val_loss: 0.0025 - val_mae: 0.0025\n",
            "Epoch 32/100\n",
            "6073/6073 [==============================] - 21s 3ms/step - loss: 0.0011 - mae: 0.0011 - val_loss: 4.6584e-04 - val_mae: 4.6584e-04\n",
            "Epoch 33/100\n",
            "6073/6073 [==============================] - 21s 3ms/step - loss: 0.0011 - mae: 0.0011 - val_loss: 9.2339e-04 - val_mae: 9.2339e-04\n",
            "Epoch 34/100\n",
            "6073/6073 [==============================] - 21s 3ms/step - loss: 0.0011 - mae: 0.0011 - val_loss: 0.0013 - val_mae: 0.0013\n",
            "Epoch 35/100\n",
            "6073/6073 [==============================] - 21s 3ms/step - loss: 9.7511e-04 - mae: 9.7511e-04 - val_loss: 0.0011 - val_mae: 0.0011\n",
            "Epoch 36/100\n",
            "6073/6073 [==============================] - 21s 3ms/step - loss: 0.0010 - mae: 0.0010 - val_loss: 0.0011 - val_mae: 0.0011\n",
            "Epoch 37/100\n",
            "6073/6073 [==============================] - 24s 4ms/step - loss: 9.5885e-04 - mae: 9.5885e-04 - val_loss: 0.0017 - val_mae: 0.0017\n",
            "Epoch 38/100\n",
            "6073/6073 [==============================] - 27s 4ms/step - loss: 9.6974e-04 - mae: 9.6974e-04 - val_loss: 8.8864e-04 - val_mae: 8.8864e-04\n",
            "Epoch 39/100\n",
            "6073/6073 [==============================] - 25s 4ms/step - loss: 9.6003e-04 - mae: 9.6003e-04 - val_loss: 8.2957e-04 - val_mae: 8.2957e-04\n",
            "Epoch 40/100\n",
            "6073/6073 [==============================] - 24s 4ms/step - loss: 9.3037e-04 - mae: 9.3037e-04 - val_loss: 0.0018 - val_mae: 0.0018\n",
            "Epoch 41/100\n",
            "6073/6073 [==============================] - 25s 4ms/step - loss: 9.1688e-04 - mae: 9.1688e-04 - val_loss: 7.8197e-04 - val_mae: 7.8197e-04\n",
            "Epoch 42/100\n",
            "6073/6073 [==============================] - 21s 4ms/step - loss: 8.9715e-04 - mae: 8.9715e-04 - val_loss: 0.0011 - val_mae: 0.0011\n",
            "Epoch 43/100\n",
            "6073/6073 [==============================] - 21s 3ms/step - loss: 9.0879e-04 - mae: 9.0879e-04 - val_loss: 8.4095e-04 - val_mae: 8.4095e-04\n",
            "Epoch 44/100\n",
            "6073/6073 [==============================] - 25s 4ms/step - loss: 9.1077e-04 - mae: 9.1077e-04 - val_loss: 6.8365e-04 - val_mae: 6.8365e-04\n",
            "Epoch 45/100\n",
            "6073/6073 [==============================] - 28s 5ms/step - loss: 9.4547e-04 - mae: 9.4547e-04 - val_loss: 0.0012 - val_mae: 0.0012\n",
            "Epoch 46/100\n",
            "6073/6073 [==============================] - 21s 4ms/step - loss: 9.1041e-04 - mae: 9.1041e-04 - val_loss: 4.0949e-04 - val_mae: 4.0949e-04\n",
            "Epoch 47/100\n",
            "6073/6073 [==============================] - 21s 3ms/step - loss: 8.8285e-04 - mae: 8.8285e-04 - val_loss: 8.8713e-04 - val_mae: 8.8713e-04\n",
            "Epoch 48/100\n",
            "6073/6073 [==============================] - 21s 3ms/step - loss: 8.9371e-04 - mae: 8.9371e-04 - val_loss: 5.3122e-04 - val_mae: 5.3122e-04\n",
            "Epoch 49/100\n",
            "6073/6073 [==============================] - 21s 3ms/step - loss: 8.5443e-04 - mae: 8.5443e-04 - val_loss: 9.9562e-04 - val_mae: 9.9562e-04\n",
            "Epoch 50/100\n",
            "6073/6073 [==============================] - 24s 4ms/step - loss: 9.0834e-04 - mae: 9.0834e-04 - val_loss: 0.0011 - val_mae: 0.0011\n",
            "Epoch 51/100\n",
            "6073/6073 [==============================] - 22s 4ms/step - loss: 8.5419e-04 - mae: 8.5419e-04 - val_loss: 4.7297e-04 - val_mae: 4.7297e-04\n",
            "Epoch 52/100\n",
            "6073/6073 [==============================] - 21s 4ms/step - loss: 9.1868e-04 - mae: 9.1868e-04 - val_loss: 0.0014 - val_mae: 0.0014\n",
            "Epoch 53/100\n",
            "6073/6073 [==============================] - 24s 4ms/step - loss: 8.5490e-04 - mae: 8.5490e-04 - val_loss: 0.0013 - val_mae: 0.0013\n",
            "Epoch 54/100\n",
            "6073/6073 [==============================] - 21s 3ms/step - loss: 8.8621e-04 - mae: 8.8621e-04 - val_loss: 4.7939e-04 - val_mae: 4.7939e-04\n",
            "Epoch 55/100\n",
            "6073/6073 [==============================] - 24s 4ms/step - loss: 8.7909e-04 - mae: 8.7909e-04 - val_loss: 4.9035e-04 - val_mae: 4.9035e-04\n",
            "Epoch 56/100\n",
            "6073/6073 [==============================] - 22s 4ms/step - loss: 8.3630e-04 - mae: 8.3630e-04 - val_loss: 0.0012 - val_mae: 0.0012\n",
            "Epoch 57/100\n",
            "6073/6073 [==============================] - 21s 3ms/step - loss: 8.6020e-04 - mae: 8.6020e-04 - val_loss: 4.1044e-04 - val_mae: 4.1044e-04\n",
            "Epoch 58/100\n",
            "6073/6073 [==============================] - 21s 3ms/step - loss: 8.4457e-04 - mae: 8.4457e-04 - val_loss: 9.3269e-04 - val_mae: 9.3269e-04\n",
            "Epoch 59/100\n",
            "6073/6073 [==============================] - 21s 3ms/step - loss: 7.9365e-04 - mae: 7.9365e-04 - val_loss: 6.7572e-04 - val_mae: 6.7572e-04\n",
            "Epoch 60/100\n",
            "6073/6073 [==============================] - 21s 3ms/step - loss: 8.7264e-04 - mae: 8.7264e-04 - val_loss: 0.0011 - val_mae: 0.0011\n",
            "Epoch 61/100\n",
            "6073/6073 [==============================] - 21s 3ms/step - loss: 8.3161e-04 - mae: 8.3161e-04 - val_loss: 0.0011 - val_mae: 0.0011\n",
            "Epoch 62/100\n",
            "6073/6073 [==============================] - 21s 3ms/step - loss: 8.0123e-04 - mae: 8.0123e-04 - val_loss: 6.0655e-04 - val_mae: 6.0655e-04\n",
            "Epoch 63/100\n",
            "6073/6073 [==============================] - 21s 3ms/step - loss: 8.2169e-04 - mae: 8.2169e-04 - val_loss: 5.0600e-04 - val_mae: 5.0600e-04\n",
            "Epoch 64/100\n",
            "6073/6073 [==============================] - 21s 4ms/step - loss: 7.8830e-04 - mae: 7.8830e-04 - val_loss: 6.9434e-04 - val_mae: 6.9434e-04\n",
            "Epoch 65/100\n",
            "6073/6073 [==============================] - 21s 3ms/step - loss: 7.8307e-04 - mae: 7.8307e-04 - val_loss: 8.9226e-04 - val_mae: 8.9226e-04\n",
            "Epoch 66/100\n",
            "6073/6073 [==============================] - 24s 4ms/step - loss: 7.7909e-04 - mae: 7.7909e-04 - val_loss: 0.0011 - val_mae: 0.0011\n",
            "Epoch 67/100\n",
            "6073/6073 [==============================] - 21s 3ms/step - loss: 7.8766e-04 - mae: 7.8766e-04 - val_loss: 0.0012 - val_mae: 0.0012\n",
            "Epoch 68/100\n",
            "6073/6073 [==============================] - 21s 3ms/step - loss: 8.1307e-04 - mae: 8.1307e-04 - val_loss: 4.8701e-04 - val_mae: 4.8701e-04\n",
            "Epoch 69/100\n",
            "6073/6073 [==============================] - 21s 3ms/step - loss: 7.8483e-04 - mae: 7.8483e-04 - val_loss: 8.1165e-04 - val_mae: 8.1165e-04\n",
            "Epoch 70/100\n",
            "6073/6073 [==============================] - 22s 4ms/step - loss: 7.7537e-04 - mae: 7.7537e-04 - val_loss: 4.6057e-04 - val_mae: 4.6057e-04\n",
            "Epoch 71/100\n",
            "6073/6073 [==============================] - 21s 3ms/step - loss: 7.6943e-04 - mae: 7.6943e-04 - val_loss: 9.6620e-04 - val_mae: 9.6620e-04\n",
            "Epoch 72/100\n",
            "6073/6073 [==============================] - 21s 3ms/step - loss: 7.5634e-04 - mae: 7.5634e-04 - val_loss: 9.4899e-04 - val_mae: 9.4899e-04\n",
            "Epoch 73/100\n",
            "6073/6073 [==============================] - 21s 4ms/step - loss: 7.4261e-04 - mae: 7.4261e-04 - val_loss: 0.0011 - val_mae: 0.0011\n",
            "Epoch 74/100\n",
            "6073/6073 [==============================] - 21s 4ms/step - loss: 7.6266e-04 - mae: 7.6266e-04 - val_loss: 0.0011 - val_mae: 0.0011\n",
            "Epoch 75/100\n",
            "6073/6073 [==============================] - 21s 3ms/step - loss: 7.8490e-04 - mae: 7.8490e-04 - val_loss: 3.4864e-04 - val_mae: 3.4864e-04\n",
            "Epoch 76/100\n",
            "6073/6073 [==============================] - 21s 4ms/step - loss: 7.5989e-04 - mae: 7.5989e-04 - val_loss: 0.0019 - val_mae: 0.0019\n",
            "Epoch 77/100\n",
            "6073/6073 [==============================] - 21s 3ms/step - loss: 7.7062e-04 - mae: 7.7062e-04 - val_loss: 4.4694e-04 - val_mae: 4.4694e-04\n",
            "Epoch 78/100\n",
            "6073/6073 [==============================] - 21s 3ms/step - loss: 7.5332e-04 - mae: 7.5332e-04 - val_loss: 0.0013 - val_mae: 0.0013\n",
            "Epoch 79/100\n",
            "6073/6073 [==============================] - 21s 4ms/step - loss: 6.9681e-04 - mae: 6.9681e-04 - val_loss: 4.6991e-04 - val_mae: 4.6991e-04\n",
            "Epoch 80/100\n",
            "6073/6073 [==============================] - 21s 4ms/step - loss: 7.2095e-04 - mae: 7.2095e-04 - val_loss: 3.1880e-04 - val_mae: 3.1880e-04\n",
            "Epoch 81/100\n",
            "6073/6073 [==============================] - 21s 4ms/step - loss: 7.4184e-04 - mae: 7.4184e-04 - val_loss: 4.2792e-04 - val_mae: 4.2792e-04\n",
            "Epoch 82/100\n",
            "6073/6073 [==============================] - 21s 3ms/step - loss: 7.6662e-04 - mae: 7.6662e-04 - val_loss: 7.4740e-04 - val_mae: 7.4740e-04\n",
            "Epoch 83/100\n",
            "6073/6073 [==============================] - 21s 4ms/step - loss: 7.3348e-04 - mae: 7.3348e-04 - val_loss: 2.1351e-04 - val_mae: 2.1351e-04\n",
            "Epoch 84/100\n",
            "6073/6073 [==============================] - 24s 4ms/step - loss: 7.2369e-04 - mae: 7.2369e-04 - val_loss: 2.7645e-04 - val_mae: 2.7645e-04\n",
            "Epoch 85/100\n",
            "6073/6073 [==============================] - 22s 4ms/step - loss: 7.5445e-04 - mae: 7.5445e-04 - val_loss: 8.0980e-04 - val_mae: 8.0980e-04\n",
            "Epoch 86/100\n",
            "6073/6073 [==============================] - 21s 4ms/step - loss: 7.4288e-04 - mae: 7.4288e-04 - val_loss: 7.5773e-04 - val_mae: 7.5773e-04\n",
            "Epoch 87/100\n",
            "6073/6073 [==============================] - 21s 4ms/step - loss: 6.9962e-04 - mae: 6.9962e-04 - val_loss: 0.0010 - val_mae: 0.0010\n",
            "Epoch 88/100\n",
            "6073/6073 [==============================] - 21s 3ms/step - loss: 7.3249e-04 - mae: 7.3249e-04 - val_loss: 5.1443e-04 - val_mae: 5.1443e-04\n",
            "Epoch 89/100\n",
            "6073/6073 [==============================] - 21s 3ms/step - loss: 7.0166e-04 - mae: 7.0166e-04 - val_loss: 4.3412e-04 - val_mae: 4.3412e-04\n",
            "Epoch 90/100\n",
            "6073/6073 [==============================] - 21s 4ms/step - loss: 7.3786e-04 - mae: 7.3786e-04 - val_loss: 7.0327e-04 - val_mae: 7.0327e-04\n",
            "Epoch 91/100\n",
            "6073/6073 [==============================] - 21s 4ms/step - loss: 6.8906e-04 - mae: 6.8906e-04 - val_loss: 4.1809e-04 - val_mae: 4.1809e-04\n",
            "Epoch 92/100\n",
            "6073/6073 [==============================] - 21s 3ms/step - loss: 7.4574e-04 - mae: 7.4574e-04 - val_loss: 3.6497e-04 - val_mae: 3.6497e-04\n",
            "Epoch 93/100\n",
            "6073/6073 [==============================] - 21s 4ms/step - loss: 7.2321e-04 - mae: 7.2321e-04 - val_loss: 4.7586e-04 - val_mae: 4.7586e-04\n",
            "Epoch 94/100\n",
            "6073/6073 [==============================] - 24s 4ms/step - loss: 7.2498e-04 - mae: 7.2498e-04 - val_loss: 7.4619e-04 - val_mae: 7.4619e-04\n",
            "Epoch 95/100\n",
            "6073/6073 [==============================] - 21s 4ms/step - loss: 7.1481e-04 - mae: 7.1481e-04 - val_loss: 2.6611e-04 - val_mae: 2.6611e-04\n",
            "Epoch 96/100\n",
            "6073/6073 [==============================] - 21s 4ms/step - loss: 6.7969e-04 - mae: 6.7969e-04 - val_loss: 3.8393e-04 - val_mae: 3.8393e-04\n",
            "Epoch 97/100\n",
            "6073/6073 [==============================] - 21s 3ms/step - loss: 6.7504e-04 - mae: 6.7504e-04 - val_loss: 0.0013 - val_mae: 0.0013\n",
            "Epoch 98/100\n",
            "6073/6073 [==============================] - 24s 4ms/step - loss: 6.7659e-04 - mae: 6.7659e-04 - val_loss: 0.0010 - val_mae: 0.0010\n",
            "Epoch 99/100\n",
            "6073/6073 [==============================] - 21s 4ms/step - loss: 6.8440e-04 - mae: 6.8440e-04 - val_loss: 0.0013 - val_mae: 0.0013\n",
            "Epoch 100/100\n",
            "6073/6073 [==============================] - 21s 4ms/step - loss: 6.8390e-04 - mae: 6.8390e-04 - val_loss: 3.5657e-04 - val_mae: 3.5657e-04\n",
            "CPU times: user 41min 42s, sys: 3min 22s, total: 45min 4s\n",
            "Wall time: 36min 22s\n"
          ]
        }
      ]
    },
    {
      "cell_type": "code",
      "source": [
        "model_6.summary()"
      ],
      "metadata": {
        "colab": {
          "base_uri": "https://localhost:8080/"
        },
        "id": "-64GY8yOQsBN",
        "outputId": "fc532159-da0f-4343-a3a0-8ba9b113dc95"
      },
      "execution_count": 24,
      "outputs": [
        {
          "output_type": "stream",
          "name": "stdout",
          "text": [
            "Model: \"sequential_1\"\n",
            "_________________________________________________________________\n",
            " Layer (type)                Output Shape              Param #   \n",
            "=================================================================\n",
            " conv1d_2 (Conv1D)           (None, 5, 10)             50        \n",
            "                                                                 \n",
            " conv1d_3 (Conv1D)           (None, 4, 3)              63        \n",
            "                                                                 \n",
            " flatten_1 (Flatten)         (None, 12)                0         \n",
            "                                                                 \n",
            " dense_2 (Dense)             (None, 32)                416       \n",
            "                                                                 \n",
            " dense_3 (Dense)             (None, 1)                 33        \n",
            "                                                                 \n",
            "=================================================================\n",
            "Total params: 562\n",
            "Trainable params: 562\n",
            "Non-trainable params: 0\n",
            "_________________________________________________________________\n"
          ]
        }
      ]
    },
    {
      "cell_type": "code",
      "source": [],
      "metadata": {
        "id": "ihHbbdx6RmtL"
      },
      "execution_count": null,
      "outputs": []
    },
    {
      "cell_type": "code",
      "source": [],
      "metadata": {
        "id": "7aTiyTQkRmow"
      },
      "execution_count": null,
      "outputs": []
    },
    {
      "cell_type": "code",
      "source": [
        "plt.plot(history_6.history['loss'])\n",
        "plt.plot(history_6.history['val_loss'])\n",
        "plt.title('model loss')\n",
        "plt.ylabel('loss')\n",
        "plt.xlabel('epoch')\n",
        "plt.legend(['train', 'test'], loc='upper left')\n",
        "plt.show()"
      ],
      "metadata": {
        "colab": {
          "base_uri": "https://localhost:8080/",
          "height": 295
        },
        "id": "1bLYuHQpWOPY",
        "outputId": "f8e7bd18-dc7d-48da-8abe-9a66d9bdd8cc"
      },
      "execution_count": 31,
      "outputs": [
        {
          "output_type": "display_data",
          "data": {
            "text/plain": [
              "<Figure size 432x288 with 1 Axes>"
            ],
            "image/png": "[encoded data removed]"
          },
          "metadata": {
            "needs_background": "light"
          }
        }
      ]
    },
    {
      "cell_type": "code",
      "source": [
        "prediction_6 = model_6.predict(X_test)\n",
        "plt.figure(figsize=(14,8))\n",
        "plt.scatter(Y_test[300:900], Y_test[300:900], color='blue')\n",
        "plt.scatter(prediction_6[300:900], prediction_6[300:900], color='red')\n",
        "plt.show()"
      ],
      "metadata": {
        "colab": {
          "base_uri": "https://localhost:8080/",
          "height": 500
        },
        "id": "9tvUF7y5R2uS",
        "outputId": "64ed588a-4af6-4ba2-cf4a-9bf6a4cb3442"
      },
      "execution_count": 32,
      "outputs": [
        {
          "output_type": "stream",
          "name": "stdout",
          "text": [
            "1519/1519 [==============================] - 2s 2ms/step\n"
          ]
        },
        {
          "output_type": "display_data",
          "data": {
            "text/plain": [
              "<Figure size 1008x576 with 1 Axes>"
            ],
            "image/png": "[encoded data removed]"
          },
          "metadata": {
            "needs_background": "light"
          }
        }
      ]
    },
    {
      "cell_type": "code",
      "source": [],
      "metadata": {
        "id": "mOBNzschR2p1"
      },
      "execution_count": null,
      "outputs": []
    },
    {
      "cell_type": "markdown",
      "source": [
        "## Model 7"
      ],
      "metadata": {
        "id": "ONaV73fGyxX2"
      }
    },
    {
      "cell_type": "code",
      "source": [
        "%%time\n",
        "model_7 = tf.keras.Sequential([tf.keras.layers.Conv1D(64,3,activation='relu',input_shape=(8,1)),\n",
        "                               #tf.keras.layers.Dropout(0.2),\n",
        "                               tf.keras.layers.Conv1D(32,2,activation='relu'),\n",
        "                               tf.keras.layers.Flatten(),\n",
        "                               tf.keras.layers.Dense(16,activation=\"relu\"),\n",
        "                               tf.keras.layers.Dense(1)])\n",
        "\n",
        "model_7.compile(loss = tf.keras.losses.mae,\n",
        "                optimizer = tf.keras.optimizers.Adam(learning_rate=0.001),\n",
        "                metrics=['mae'])\n",
        "\n",
        "history_7 = model_7.fit(X_train,Y_train,epochs=20,validation_data=(X_test,Y_test))"
      ],
      "metadata": {
        "colab": {
          "base_uri": "https://localhost:8080/"
        },
        "id": "yEx5YD5OR2hw",
        "outputId": "fe9a44fe-f526-4764-b01a-703c36706e2b"
      },
      "execution_count": 54,
      "outputs": [
        {
          "output_type": "stream",
          "name": "stdout",
          "text": [
            "Epoch 1/20\n",
            "6073/6073 [==============================] - 22s 4ms/step - loss: 0.0050 - mae: 0.0050 - val_loss: 0.0083 - val_mae: 0.0083\n",
            "Epoch 2/20\n",
            "6073/6073 [==============================] - 21s 4ms/step - loss: 0.0032 - mae: 0.0032 - val_loss: 0.0023 - val_mae: 0.0023\n",
            "Epoch 3/20\n",
            "6073/6073 [==============================] - 21s 3ms/step - loss: 0.0028 - mae: 0.0028 - val_loss: 0.0024 - val_mae: 0.0024\n",
            "Epoch 4/20\n",
            "6073/6073 [==============================] - 24s 4ms/step - loss: 0.0025 - mae: 0.0025 - val_loss: 0.0020 - val_mae: 0.0020\n",
            "Epoch 5/20\n",
            "6073/6073 [==============================] - 21s 3ms/step - loss: 0.0022 - mae: 0.0022 - val_loss: 0.0046 - val_mae: 0.0046\n",
            "Epoch 6/20\n",
            "6073/6073 [==============================] - 21s 3ms/step - loss: 0.0022 - mae: 0.0022 - val_loss: 0.0011 - val_mae: 0.0011\n",
            "Epoch 7/20\n",
            "6073/6073 [==============================] - 22s 4ms/step - loss: 0.0019 - mae: 0.0019 - val_loss: 0.0038 - val_mae: 0.0038\n",
            "Epoch 8/20\n",
            "6073/6073 [==============================] - 21s 4ms/step - loss: 0.0019 - mae: 0.0019 - val_loss: 0.0014 - val_mae: 0.0014\n",
            "Epoch 9/20\n",
            "6073/6073 [==============================] - 22s 4ms/step - loss: 0.0018 - mae: 0.0018 - val_loss: 0.0042 - val_mae: 0.0042\n",
            "Epoch 10/20\n",
            "6073/6073 [==============================] - 21s 4ms/step - loss: 0.0018 - mae: 0.0018 - val_loss: 9.7489e-04 - val_mae: 9.7489e-04\n",
            "Epoch 11/20\n",
            "6073/6073 [==============================] - 22s 4ms/step - loss: 0.0017 - mae: 0.0017 - val_loss: 0.0017 - val_mae: 0.0017\n",
            "Epoch 12/20\n",
            "6073/6073 [==============================] - 21s 3ms/step - loss: 0.0016 - mae: 0.0016 - val_loss: 7.7733e-04 - val_mae: 7.7733e-04\n",
            "Epoch 13/20\n",
            "6073/6073 [==============================] - 21s 4ms/step - loss: 0.0016 - mae: 0.0016 - val_loss: 0.0020 - val_mae: 0.0020\n",
            "Epoch 14/20\n",
            "6073/6073 [==============================] - 21s 4ms/step - loss: 0.0015 - mae: 0.0015 - val_loss: 8.7514e-04 - val_mae: 8.7514e-04\n",
            "Epoch 15/20\n",
            "6073/6073 [==============================] - 21s 4ms/step - loss: 0.0016 - mae: 0.0016 - val_loss: 0.0018 - val_mae: 0.0018\n",
            "Epoch 16/20\n",
            "6073/6073 [==============================] - 21s 4ms/step - loss: 0.0015 - mae: 0.0015 - val_loss: 0.0018 - val_mae: 0.0018\n",
            "Epoch 17/20\n",
            "6073/6073 [==============================] - 21s 4ms/step - loss: 0.0015 - mae: 0.0015 - val_loss: 5.1348e-04 - val_mae: 5.1348e-04\n",
            "Epoch 18/20\n",
            "6073/6073 [==============================] - 21s 3ms/step - loss: 0.0015 - mae: 0.0015 - val_loss: 0.0044 - val_mae: 0.0044\n",
            "Epoch 19/20\n",
            "6073/6073 [==============================] - 21s 4ms/step - loss: 0.0015 - mae: 0.0015 - val_loss: 7.6983e-04 - val_mae: 7.6983e-04\n",
            "Epoch 20/20\n",
            "6073/6073 [==============================] - 21s 4ms/step - loss: 0.0014 - mae: 0.0014 - val_loss: 9.8455e-04 - val_mae: 9.8455e-04\n",
            "CPU times: user 8min 24s, sys: 40.1 s, total: 9min 4s\n",
            "Wall time: 7min 10s\n"
          ]
        }
      ]
    },
    {
      "cell_type": "code",
      "source": [
        "plot_his(history_7)"
      ],
      "metadata": {
        "colab": {
          "base_uri": "https://localhost:8080/",
          "height": 295
        },
        "id": "QaQQyJN_hN13",
        "outputId": "0e9affda-8eac-46dd-f5a4-59f03ed53335"
      },
      "execution_count": 55,
      "outputs": [
        {
          "output_type": "display_data",
          "data": {
            "text/plain": [
              "<Figure size 432x288 with 1 Axes>"
            ],
            "image/png": "[encoded data removed]"
          },
          "metadata": {
            "needs_background": "light"
          }
        }
      ]
    },
    {
      "cell_type": "code",
      "source": [
        "prediction_7 = model_7.predict(X_test)\n",
        "plt.figure(figsize=(14,8))\n",
        "plt.scatter(Y_test, Y_test, color='blue')\n",
        "plt.scatter(prediction_7, prediction_7, color='red')\n",
        "plt.show()"
      ],
      "metadata": {
        "colab": {
          "base_uri": "https://localhost:8080/",
          "height": 500
        },
        "id": "eD-PlzBJhNxS",
        "outputId": "184e4433-ea52-424d-8eca-6a1e27119763"
      },
      "execution_count": 57,
      "outputs": [
        {
          "output_type": "stream",
          "name": "stdout",
          "text": [
            "1519/1519 [==============================] - 2s 2ms/step\n"
          ]
        },
        {
          "output_type": "display_data",
          "data": {
            "text/plain": [
              "<Figure size 1008x576 with 1 Axes>"
            ],
            "image/png": "[encoded data removed]"
          },
          "metadata": {
            "needs_background": "light"
          }
        }
      ]
    },
    {
      "cell_type": "code",
      "source": [
        "print('hello')"
      ],
      "metadata": {
        "colab": {
          "base_uri": "https://localhost:8080/"
        },
        "id": "v_7z1etwpYGr",
        "outputId": "816d6142-f918-407e-c201-e7bd04e00d22"
      },
      "execution_count": 18,
      "outputs": [
        {
          "output_type": "stream",
          "name": "stdout",
          "text": [
            "hello\n"
          ]
        }
      ]
    },
    {
      "cell_type": "markdown",
      "source": [
        "# GPR\n",
        "GAUSSIAN PROCESS REGRESSION\n",
        "link - https://www.kaggle.com/code/residentmario/gaussian-process-regression-and-classification"
      ],
      "metadata": {
        "id": "mxWOwHi6pYEw"
      }
    },
    {
      "cell_type": "code",
      "source": [
        "from sklearn.gaussian_process import GaussianProcessRegressor\n",
        "clf = GaussianProcessRegressor(random_state=42)\n",
        "clf.fit(X_train, Y_train)"
      ],
      "metadata": {
        "id": "u58se7tm0p6n"
      },
      "execution_count": null,
      "outputs": []
    },
    {
      "cell_type": "code",
      "source": [
        "y_pred_one = clf.predict(X_test)"
      ],
      "metadata": {
        "id": "VSmEmawc19yH"
      },
      "execution_count": null,
      "outputs": []
    }
  ]
}