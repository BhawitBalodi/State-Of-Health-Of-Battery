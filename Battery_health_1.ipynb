{
  "nbformat": 4,
  "nbformat_minor": 0,
  "metadata": {
    "colab": {
      "provenance": []
    },
    "kernelspec": {
      "name": "python3",
      "display_name": "Python 3"
    },
    "language_info": {
      "name": "python"
    },
    "accelerator": "GPU",
    "gpuClass": "standard"
  },
  "cells": [
    {
      "cell_type": "markdown",
      "source": [
        "# Some Important Points: 🔋 \n",
        "\n",
        "\n",
        "1.   V(max) = 4.2 volt\n",
        "2.   V(min) = 2.8/2.7 Volt\n",
        "3.   Nominal Charge capacity = 2500 mA/2.5Ah \n",
        "4.   SOC = Normal Capacity at that point/Nominal capacity\n",
        "5.   Nominal Capacity - ammount of charged deliverd by fully charge batter, when it is fresh. OR **we can say Total capacity of battery.**\n",
        "6.   SOH = Maximum of SOC at one cycle.\n",
        "7.   we can find SOH by making set of loops in dataset and then find max(SOC).\n"
      ],
      "metadata": {
        "id": "BZc4Vqg-E71w"
      }
    },
    {
      "cell_type": "code",
      "source": [
        "import numpy as np\n",
        "import pandas as pd \n",
        "import matplotlib.pyplot as plt \n",
        "import seaborn as sns"
      ],
      "metadata": {
        "id": "SMYg_ur2ePk6"
      },
      "execution_count": 41,
      "outputs": []
    },
    {
      "cell_type": "code",
      "source": [
        "#cols = ['Time(s)', 'Potential(V)','Current(A)','Charge(C)','A/Hour']\n",
        "df = pd.read_csv(\"experiment.csv\")\n",
        "df"
      ],
      "metadata": {
        "colab": {
          "base_uri": "https://localhost:8080/",
          "height": 424
        },
        "id": "968meDMQenCO",
        "outputId": "902ca872-61a7-4571-bdf0-bfb506a87b52"
      },
      "execution_count": 2,
      "outputs": [
        {
          "output_type": "execute_result",
          "data": {
            "text/plain": [
              "        Time/sec  Potential/V  Current/A  Charge/C  Capacity/Ah  \\\n",
              "0            0.4         3.54       1.25      0.00         0.00   \n",
              "1            1.0         3.54       1.25      0.95         0.00   \n",
              "2            2.0         3.54       1.25      2.28         0.00   \n",
              "3            3.0         3.55       1.25      3.46         0.00   \n",
              "4            4.0         3.55       1.25      4.64         0.00   \n",
              "...          ...          ...        ...       ...          ...   \n",
              "242880  249963.2         4.20       0.20   8450.00         2.35   \n",
              "242881  249964.2         4.20       0.20   8450.00         2.35   \n",
              "242882  249965.2         4.20       0.20   8450.00         2.35   \n",
              "242883  249966.2         4.20       0.20   8450.00         2.35   \n",
              "242884  249967.2         4.20       0.20   8450.00         2.35   \n",
              "\n",
              "        Nominal_Capacity/Ah  \n",
              "0                       2.5  \n",
              "1                       2.5  \n",
              "2                       2.5  \n",
              "3                       2.5  \n",
              "4                       2.5  \n",
              "...                     ...  \n",
              "242880                  2.5  \n",
              "242881                  2.5  \n",
              "242882                  2.5  \n",
              "242883                  2.5  \n",
              "242884                  2.5  \n",
              "\n",
              "[242885 rows x 6 columns]"
            ],
            "text/html": [
              "\n",
              "  <div id=\"df-71d92b02-3b9c-4bb3-a8e3-3da01a95f598\">\n",
              "    <div class=\"colab-df-container\">\n",
              "      <div>\n",
              "<style scoped>\n",
              "    .dataframe tbody tr th:only-of-type {\n",
              "        vertical-align: middle;\n",
              "    }\n",
              "\n",
              "    .dataframe tbody tr th {\n",
              "        vertical-align: top;\n",
              "    }\n",
              "\n",
              "    .dataframe thead th {\n",
              "        text-align: right;\n",
              "    }\n",
              "</style>\n",
              "<table border=\"1\" class=\"dataframe\">\n",
              "  <thead>\n",
              "    <tr style=\"text-align: right;\">\n",
              "      <th></th>\n",
              "      <th>Time/sec</th>\n",
              "      <th>Potential/V</th>\n",
              "      <th>Current/A</th>\n",
              "      <th>Charge/C</th>\n",
              "      <th>Capacity/Ah</th>\n",
              "      <th>Nominal_Capacity/Ah</th>\n",
              "    </tr>\n",
              "  </thead>\n",
              "  <tbody>\n",
              "    <tr>\n",
              "      <th>0</th>\n",
              "      <td>0.4</td>\n",
              "      <td>3.54</td>\n",
              "      <td>1.25</td>\n",
              "      <td>0.00</td>\n",
              "      <td>0.00</td>\n",
              "      <td>2.5</td>\n",
              "    </tr>\n",
              "    <tr>\n",
              "      <th>1</th>\n",
              "      <td>1.0</td>\n",
              "      <td>3.54</td>\n",
              "      <td>1.25</td>\n",
              "      <td>0.95</td>\n",
              "      <td>0.00</td>\n",
              "      <td>2.5</td>\n",
              "    </tr>\n",
              "    <tr>\n",
              "      <th>2</th>\n",
              "      <td>2.0</td>\n",
              "      <td>3.54</td>\n",
              "      <td>1.25</td>\n",
              "      <td>2.28</td>\n",
              "      <td>0.00</td>\n",
              "      <td>2.5</td>\n",
              "    </tr>\n",
              "    <tr>\n",
              "      <th>3</th>\n",
              "      <td>3.0</td>\n",
              "      <td>3.55</td>\n",
              "      <td>1.25</td>\n",
              "      <td>3.46</td>\n",
              "      <td>0.00</td>\n",
              "      <td>2.5</td>\n",
              "    </tr>\n",
              "    <tr>\n",
              "      <th>4</th>\n",
              "      <td>4.0</td>\n",
              "      <td>3.55</td>\n",
              "      <td>1.25</td>\n",
              "      <td>4.64</td>\n",
              "      <td>0.00</td>\n",
              "      <td>2.5</td>\n",
              "    </tr>\n",
              "    <tr>\n",
              "      <th>...</th>\n",
              "      <td>...</td>\n",
              "      <td>...</td>\n",
              "      <td>...</td>\n",
              "      <td>...</td>\n",
              "      <td>...</td>\n",
              "      <td>...</td>\n",
              "    </tr>\n",
              "    <tr>\n",
              "      <th>242880</th>\n",
              "      <td>249963.2</td>\n",
              "      <td>4.20</td>\n",
              "      <td>0.20</td>\n",
              "      <td>8450.00</td>\n",
              "      <td>2.35</td>\n",
              "      <td>2.5</td>\n",
              "    </tr>\n",
              "    <tr>\n",
              "      <th>242881</th>\n",
              "      <td>249964.2</td>\n",
              "      <td>4.20</td>\n",
              "      <td>0.20</td>\n",
              "      <td>8450.00</td>\n",
              "      <td>2.35</td>\n",
              "      <td>2.5</td>\n",
              "    </tr>\n",
              "    <tr>\n",
              "      <th>242882</th>\n",
              "      <td>249965.2</td>\n",
              "      <td>4.20</td>\n",
              "      <td>0.20</td>\n",
              "      <td>8450.00</td>\n",
              "      <td>2.35</td>\n",
              "      <td>2.5</td>\n",
              "    </tr>\n",
              "    <tr>\n",
              "      <th>242883</th>\n",
              "      <td>249966.2</td>\n",
              "      <td>4.20</td>\n",
              "      <td>0.20</td>\n",
              "      <td>8450.00</td>\n",
              "      <td>2.35</td>\n",
              "      <td>2.5</td>\n",
              "    </tr>\n",
              "    <tr>\n",
              "      <th>242884</th>\n",
              "      <td>249967.2</td>\n",
              "      <td>4.20</td>\n",
              "      <td>0.20</td>\n",
              "      <td>8450.00</td>\n",
              "      <td>2.35</td>\n",
              "      <td>2.5</td>\n",
              "    </tr>\n",
              "  </tbody>\n",
              "</table>\n",
              "<p>242885 rows × 6 columns</p>\n",
              "</div>\n",
              "      <button class=\"colab-df-convert\" onclick=\"convertToInteractive('df-71d92b02-3b9c-4bb3-a8e3-3da01a95f598')\"\n",
              "              title=\"Convert this dataframe to an interactive table.\"\n",
              "              style=\"display:none;\">\n",
              "        \n",
              "  <svg xmlns=\"http://www.w3.org/2000/svg\" height=\"24px\"viewBox=\"0 0 24 24\"\n",
              "       width=\"24px\">\n",
              "    <path d=\"M0 0h24v24H0V0z\" fill=\"none\"/>\n",
              "    <path d=\"M18.56 5.44l.94 2.06.94-2.06 2.06-.94-2.06-.94-.94-2.06-.94 2.06-2.06.94zm-11 1L8.5 8.5l.94-2.06 2.06-.94-2.06-.94L8.5 2.5l-.94 2.06-2.06.94zm10 10l.94 2.06.94-2.06 2.06-.94-2.06-.94-.94-2.06-.94 2.06-2.06.94z\"/><path d=\"M17.41 7.96l-1.37-1.37c-.4-.4-.92-.59-1.43-.59-.52 0-1.04.2-1.43.59L10.3 9.45l-7.72 7.72c-.78.78-.78 2.05 0 2.83L4 21.41c.39.39.9.59 1.41.59.51 0 1.02-.2 1.41-.59l7.78-7.78 2.81-2.81c.8-.78.8-2.07 0-2.86zM5.41 20L4 18.59l7.72-7.72 1.47 1.35L5.41 20z\"/>\n",
              "  </svg>\n",
              "      </button>\n",
              "      \n",
              "  <style>\n",
              "    .colab-df-container {\n",
              "      display:flex;\n",
              "      flex-wrap:wrap;\n",
              "      gap: 12px;\n",
              "    }\n",
              "\n",
              "    .colab-df-convert {\n",
              "      background-color: #E8F0FE;\n",
              "      border: none;\n",
              "      border-radius: 50%;\n",
              "      cursor: pointer;\n",
              "      display: none;\n",
              "      fill: #1967D2;\n",
              "      height: 32px;\n",
              "      padding: 0 0 0 0;\n",
              "      width: 32px;\n",
              "    }\n",
              "\n",
              "    .colab-df-convert:hover {\n",
              "      background-color: #E2EBFA;\n",
              "      box-shadow: 0px 1px 2px rgba(60, 64, 67, 0.3), 0px 1px 3px 1px rgba(60, 64, 67, 0.15);\n",
              "      fill: #174EA6;\n",
              "    }\n",
              "\n",
              "    [theme=dark] .colab-df-convert {\n",
              "      background-color: #3B4455;\n",
              "      fill: #D2E3FC;\n",
              "    }\n",
              "\n",
              "    [theme=dark] .colab-df-convert:hover {\n",
              "      background-color: #434B5C;\n",
              "      box-shadow: 0px 1px 3px 1px rgba(0, 0, 0, 0.15);\n",
              "      filter: drop-shadow(0px 1px 2px rgba(0, 0, 0, 0.3));\n",
              "      fill: #FFFFFF;\n",
              "    }\n",
              "  </style>\n",
              "\n",
              "      <script>\n",
              "        const buttonEl =\n",
              "          document.querySelector('#df-71d92b02-3b9c-4bb3-a8e3-3da01a95f598 button.colab-df-convert');\n",
              "        buttonEl.style.display =\n",
              "          google.colab.kernel.accessAllowed ? 'block' : 'none';\n",
              "\n",
              "        async function convertToInteractive(key) {\n",
              "          const element = document.querySelector('#df-71d92b02-3b9c-4bb3-a8e3-3da01a95f598');\n",
              "          const dataTable =\n",
              "            await google.colab.kernel.invokeFunction('convertToInteractive',\n",
              "                                                     [key], {});\n",
              "          if (!dataTable) return;\n",
              "\n",
              "          const docLinkHtml = 'Like what you see? Visit the ' +\n",
              "            '<a target=\"_blank\" href=https://colab.research.google.com/notebooks/data_table.ipynb>data table notebook</a>'\n",
              "            + ' to learn more about interactive tables.';\n",
              "          element.innerHTML = '';\n",
              "          dataTable['output_type'] = 'display_data';\n",
              "          await google.colab.output.renderOutput(dataTable, element);\n",
              "          const docLink = document.createElement('div');\n",
              "          docLink.innerHTML = docLinkHtml;\n",
              "          element.appendChild(docLink);\n",
              "        }\n",
              "      </script>\n",
              "    </div>\n",
              "  </div>\n",
              "  "
            ]
          },
          "metadata": {},
          "execution_count": 2
        }
      ]
    },
    {
      "cell_type": "code",
      "source": [
        "df.shape   # checking the shape of dataset"
      ],
      "metadata": {
        "colab": {
          "base_uri": "https://localhost:8080/"
        },
        "id": "nwyCRAExA-VH",
        "outputId": "3c0df0e0-e06e-4b03-8266-4e1d15f14d04"
      },
      "execution_count": 3,
      "outputs": [
        {
          "output_type": "execute_result",
          "data": {
            "text/plain": [
              "(242885, 6)"
            ]
          },
          "metadata": {},
          "execution_count": 3
        }
      ]
    },
    {
      "cell_type": "code",
      "source": [
        "df.info()"
      ],
      "metadata": {
        "colab": {
          "base_uri": "https://localhost:8080/"
        },
        "id": "iSSmTNm2Azyh",
        "outputId": "2e110d36-08dd-42b1-bce3-cfb0f66f6de1"
      },
      "execution_count": 5,
      "outputs": [
        {
          "output_type": "stream",
          "name": "stdout",
          "text": [
            "<class 'pandas.core.frame.DataFrame'>\n",
            "RangeIndex: 242885 entries, 0 to 242884\n",
            "Data columns (total 6 columns):\n",
            " #   Column               Non-Null Count   Dtype  \n",
            "---  ------               --------------   -----  \n",
            " 0   Time/sec             242885 non-null  float64\n",
            " 1   Potential/V          242885 non-null  float64\n",
            " 2   Current/A            242885 non-null  float64\n",
            " 3   Charge/C             242885 non-null  float64\n",
            " 4   Capacity/Ah          242885 non-null  float64\n",
            " 5   Nominal_Capacity/Ah  242885 non-null  float64\n",
            "dtypes: float64(6)\n",
            "memory usage: 11.1 MB\n"
          ]
        }
      ]
    },
    {
      "cell_type": "code",
      "source": [
        "df.isnull().count()"
      ],
      "metadata": {
        "colab": {
          "base_uri": "https://localhost:8080/"
        },
        "id": "_p_17GPJA5jp",
        "outputId": "bd234e97-912b-484e-fc2d-316a80a6c761"
      },
      "execution_count": 6,
      "outputs": [
        {
          "output_type": "execute_result",
          "data": {
            "text/plain": [
              "Time/sec               242885\n",
              "Potential/V            242885\n",
              "Current/A              242885\n",
              "Charge/C               242885\n",
              "Capacity/Ah            242885\n",
              "Nominal_Capacity/Ah    242885\n",
              "dtype: int64"
            ]
          },
          "metadata": {},
          "execution_count": 6
        }
      ]
    },
    {
      "cell_type": "code",
      "source": [
        "display(df.iloc[1])"
      ],
      "metadata": {
        "colab": {
          "base_uri": "https://localhost:8080/",
          "height": 138
        },
        "id": "18wCqyMsiqZT",
        "outputId": "d7c6707b-a5eb-456f-fe92-ae56184b90b5"
      },
      "execution_count": 7,
      "outputs": [
        {
          "output_type": "display_data",
          "data": {
            "text/plain": [
              "Time/sec               1.00\n",
              "Potential/V            3.54\n",
              "Current/A              1.25\n",
              "Charge/C               0.95\n",
              "Capacity/Ah            0.00\n",
              "Nominal_Capacity/Ah    2.50\n",
              "Name: 1, dtype: float64"
            ]
          },
          "metadata": {}
        }
      ]
    },
    {
      "cell_type": "code",
      "source": [
        "df.insert(loc = 6,column ='SOC',value=df['Capacity/Ah']/df['Nominal_Capacity/Ah'])"
      ],
      "metadata": {
        "id": "frtAlTDoi9Fe"
      },
      "execution_count": 8,
      "outputs": []
    },
    {
      "cell_type": "code",
      "source": [
        "df = df.insert(loc = 7,column ='SOC(%)',value=df['SOC']*100)"
      ],
      "metadata": {
        "id": "2_gq2kC6mL0x"
      },
      "execution_count": 25,
      "outputs": []
    },
    {
      "cell_type": "code",
      "source": [
        "df"
      ],
      "metadata": {
        "colab": {
          "base_uri": "https://localhost:8080/",
          "height": 424
        },
        "id": "dyQksptbkkjp",
        "outputId": "5230f113-4124-448d-88ec-040ed586f7cf"
      },
      "execution_count": 40,
      "outputs": [
        {
          "output_type": "execute_result",
          "data": {
            "text/plain": [
              "        Time/sec  Potential/V  Current/A  Charge/C  Capacity/Ah  \\\n",
              "0            0.4         3.54       1.25      0.00         0.00   \n",
              "1            1.0         3.54       1.25      0.95         0.00   \n",
              "2            2.0         3.54       1.25      2.28         0.00   \n",
              "3            3.0         3.55       1.25      3.46         0.00   \n",
              "4            4.0         3.55       1.25      4.64         0.00   \n",
              "...          ...          ...        ...       ...          ...   \n",
              "242880  249963.2         4.20       0.20   8450.00         2.35   \n",
              "242881  249964.2         4.20       0.20   8450.00         2.35   \n",
              "242882  249965.2         4.20       0.20   8450.00         2.35   \n",
              "242883  249966.2         4.20       0.20   8450.00         2.35   \n",
              "242884  249967.2         4.20       0.20   8450.00         2.35   \n",
              "\n",
              "        Nominal_Capacity/Ah   SOC  SOC(%)  \n",
              "0                       2.5  0.00     0.0  \n",
              "1                       2.5  0.00     0.0  \n",
              "2                       2.5  0.00     0.0  \n",
              "3                       2.5  0.00     0.0  \n",
              "4                       2.5  0.00     0.0  \n",
              "...                     ...   ...     ...  \n",
              "242880                  2.5  0.94    94.0  \n",
              "242881                  2.5  0.94    94.0  \n",
              "242882                  2.5  0.94    94.0  \n",
              "242883                  2.5  0.94    94.0  \n",
              "242884                  2.5  0.94    94.0  \n",
              "\n",
              "[242885 rows x 8 columns]"
            ],
            "text/html": [
              "\n",
              "  <div id=\"df-9367567a-3b90-4f43-b699-5601cdd2caa1\">\n",
              "    <div class=\"colab-df-container\">\n",
              "      <div>\n",
              "<style scoped>\n",
              "    .dataframe tbody tr th:only-of-type {\n",
              "        vertical-align: middle;\n",
              "    }\n",
              "\n",
              "    .dataframe tbody tr th {\n",
              "        vertical-align: top;\n",
              "    }\n",
              "\n",
              "    .dataframe thead th {\n",
              "        text-align: right;\n",
              "    }\n",
              "</style>\n",
              "<table border=\"1\" class=\"dataframe\">\n",
              "  <thead>\n",
              "    <tr style=\"text-align: right;\">\n",
              "      <th></th>\n",
              "      <th>Time/sec</th>\n",
              "      <th>Potential/V</th>\n",
              "      <th>Current/A</th>\n",
              "      <th>Charge/C</th>\n",
              "      <th>Capacity/Ah</th>\n",
              "      <th>Nominal_Capacity/Ah</th>\n",
              "      <th>SOC</th>\n",
              "      <th>SOC(%)</th>\n",
              "    </tr>\n",
              "  </thead>\n",
              "  <tbody>\n",
              "    <tr>\n",
              "      <th>0</th>\n",
              "      <td>0.4</td>\n",
              "      <td>3.54</td>\n",
              "      <td>1.25</td>\n",
              "      <td>0.00</td>\n",
              "      <td>0.00</td>\n",
              "      <td>2.5</td>\n",
              "      <td>0.00</td>\n",
              "      <td>0.0</td>\n",
              "    </tr>\n",
              "    <tr>\n",
              "      <th>1</th>\n",
              "      <td>1.0</td>\n",
              "      <td>3.54</td>\n",
              "      <td>1.25</td>\n",
              "      <td>0.95</td>\n",
              "      <td>0.00</td>\n",
              "      <td>2.5</td>\n",
              "      <td>0.00</td>\n",
              "      <td>0.0</td>\n",
              "    </tr>\n",
              "    <tr>\n",
              "      <th>2</th>\n",
              "      <td>2.0</td>\n",
              "      <td>3.54</td>\n",
              "      <td>1.25</td>\n",
              "      <td>2.28</td>\n",
              "      <td>0.00</td>\n",
              "      <td>2.5</td>\n",
              "      <td>0.00</td>\n",
              "      <td>0.0</td>\n",
              "    </tr>\n",
              "    <tr>\n",
              "      <th>3</th>\n",
              "      <td>3.0</td>\n",
              "      <td>3.55</td>\n",
              "      <td>1.25</td>\n",
              "      <td>3.46</td>\n",
              "      <td>0.00</td>\n",
              "      <td>2.5</td>\n",
              "      <td>0.00</td>\n",
              "      <td>0.0</td>\n",
              "    </tr>\n",
              "    <tr>\n",
              "      <th>4</th>\n",
              "      <td>4.0</td>\n",
              "      <td>3.55</td>\n",
              "      <td>1.25</td>\n",
              "      <td>4.64</td>\n",
              "      <td>0.00</td>\n",
              "      <td>2.5</td>\n",
              "      <td>0.00</td>\n",
              "      <td>0.0</td>\n",
              "    </tr>\n",
              "    <tr>\n",
              "      <th>...</th>\n",
              "      <td>...</td>\n",
              "      <td>...</td>\n",
              "      <td>...</td>\n",
              "      <td>...</td>\n",
              "      <td>...</td>\n",
              "      <td>...</td>\n",
              "      <td>...</td>\n",
              "      <td>...</td>\n",
              "    </tr>\n",
              "    <tr>\n",
              "      <th>242880</th>\n",
              "      <td>249963.2</td>\n",
              "      <td>4.20</td>\n",
              "      <td>0.20</td>\n",
              "      <td>8450.00</td>\n",
              "      <td>2.35</td>\n",
              "      <td>2.5</td>\n",
              "      <td>0.94</td>\n",
              "      <td>94.0</td>\n",
              "    </tr>\n",
              "    <tr>\n",
              "      <th>242881</th>\n",
              "      <td>249964.2</td>\n",
              "      <td>4.20</td>\n",
              "      <td>0.20</td>\n",
              "      <td>8450.00</td>\n",
              "      <td>2.35</td>\n",
              "      <td>2.5</td>\n",
              "      <td>0.94</td>\n",
              "      <td>94.0</td>\n",
              "    </tr>\n",
              "    <tr>\n",
              "      <th>242882</th>\n",
              "      <td>249965.2</td>\n",
              "      <td>4.20</td>\n",
              "      <td>0.20</td>\n",
              "      <td>8450.00</td>\n",
              "      <td>2.35</td>\n",
              "      <td>2.5</td>\n",
              "      <td>0.94</td>\n",
              "      <td>94.0</td>\n",
              "    </tr>\n",
              "    <tr>\n",
              "      <th>242883</th>\n",
              "      <td>249966.2</td>\n",
              "      <td>4.20</td>\n",
              "      <td>0.20</td>\n",
              "      <td>8450.00</td>\n",
              "      <td>2.35</td>\n",
              "      <td>2.5</td>\n",
              "      <td>0.94</td>\n",
              "      <td>94.0</td>\n",
              "    </tr>\n",
              "    <tr>\n",
              "      <th>242884</th>\n",
              "      <td>249967.2</td>\n",
              "      <td>4.20</td>\n",
              "      <td>0.20</td>\n",
              "      <td>8450.00</td>\n",
              "      <td>2.35</td>\n",
              "      <td>2.5</td>\n",
              "      <td>0.94</td>\n",
              "      <td>94.0</td>\n",
              "    </tr>\n",
              "  </tbody>\n",
              "</table>\n",
              "<p>242885 rows × 8 columns</p>\n",
              "</div>\n",
              "      <button class=\"colab-df-convert\" onclick=\"convertToInteractive('df-9367567a-3b90-4f43-b699-5601cdd2caa1')\"\n",
              "              title=\"Convert this dataframe to an interactive table.\"\n",
              "              style=\"display:none;\">\n",
              "        \n",
              "  <svg xmlns=\"http://www.w3.org/2000/svg\" height=\"24px\"viewBox=\"0 0 24 24\"\n",
              "       width=\"24px\">\n",
              "    <path d=\"M0 0h24v24H0V0z\" fill=\"none\"/>\n",
              "    <path d=\"M18.56 5.44l.94 2.06.94-2.06 2.06-.94-2.06-.94-.94-2.06-.94 2.06-2.06.94zm-11 1L8.5 8.5l.94-2.06 2.06-.94-2.06-.94L8.5 2.5l-.94 2.06-2.06.94zm10 10l.94 2.06.94-2.06 2.06-.94-2.06-.94-.94-2.06-.94 2.06-2.06.94z\"/><path d=\"M17.41 7.96l-1.37-1.37c-.4-.4-.92-.59-1.43-.59-.52 0-1.04.2-1.43.59L10.3 9.45l-7.72 7.72c-.78.78-.78 2.05 0 2.83L4 21.41c.39.39.9.59 1.41.59.51 0 1.02-.2 1.41-.59l7.78-7.78 2.81-2.81c.8-.78.8-2.07 0-2.86zM5.41 20L4 18.59l7.72-7.72 1.47 1.35L5.41 20z\"/>\n",
              "  </svg>\n",
              "      </button>\n",
              "      \n",
              "  <style>\n",
              "    .colab-df-container {\n",
              "      display:flex;\n",
              "      flex-wrap:wrap;\n",
              "      gap: 12px;\n",
              "    }\n",
              "\n",
              "    .colab-df-convert {\n",
              "      background-color: #E8F0FE;\n",
              "      border: none;\n",
              "      border-radius: 50%;\n",
              "      cursor: pointer;\n",
              "      display: none;\n",
              "      fill: #1967D2;\n",
              "      height: 32px;\n",
              "      padding: 0 0 0 0;\n",
              "      width: 32px;\n",
              "    }\n",
              "\n",
              "    .colab-df-convert:hover {\n",
              "      background-color: #E2EBFA;\n",
              "      box-shadow: 0px 1px 2px rgba(60, 64, 67, 0.3), 0px 1px 3px 1px rgba(60, 64, 67, 0.15);\n",
              "      fill: #174EA6;\n",
              "    }\n",
              "\n",
              "    [theme=dark] .colab-df-convert {\n",
              "      background-color: #3B4455;\n",
              "      fill: #D2E3FC;\n",
              "    }\n",
              "\n",
              "    [theme=dark] .colab-df-convert:hover {\n",
              "      background-color: #434B5C;\n",
              "      box-shadow: 0px 1px 3px 1px rgba(0, 0, 0, 0.15);\n",
              "      filter: drop-shadow(0px 1px 2px rgba(0, 0, 0, 0.3));\n",
              "      fill: #FFFFFF;\n",
              "    }\n",
              "  </style>\n",
              "\n",
              "      <script>\n",
              "        const buttonEl =\n",
              "          document.querySelector('#df-9367567a-3b90-4f43-b699-5601cdd2caa1 button.colab-df-convert');\n",
              "        buttonEl.style.display =\n",
              "          google.colab.kernel.accessAllowed ? 'block' : 'none';\n",
              "\n",
              "        async function convertToInteractive(key) {\n",
              "          const element = document.querySelector('#df-9367567a-3b90-4f43-b699-5601cdd2caa1');\n",
              "          const dataTable =\n",
              "            await google.colab.kernel.invokeFunction('convertToInteractive',\n",
              "                                                     [key], {});\n",
              "          if (!dataTable) return;\n",
              "\n",
              "          const docLinkHtml = 'Like what you see? Visit the ' +\n",
              "            '<a target=\"_blank\" href=https://colab.research.google.com/notebooks/data_table.ipynb>data table notebook</a>'\n",
              "            + ' to learn more about interactive tables.';\n",
              "          element.innerHTML = '';\n",
              "          dataTable['output_type'] = 'display_data';\n",
              "          await google.colab.output.renderOutput(dataTable, element);\n",
              "          const docLink = document.createElement('div');\n",
              "          docLink.innerHTML = docLinkHtml;\n",
              "          element.appendChild(docLink);\n",
              "        }\n",
              "      </script>\n",
              "    </div>\n",
              "  </div>\n",
              "  "
            ]
          },
          "metadata": {},
          "execution_count": 40
        }
      ]
    },
    {
      "cell_type": "code",
      "source": [
        "print(f\"The SOC of battery is {df.iloc[4444][7]}% \\nFor the values of: \\n{df.iloc[4444]}\")"
      ],
      "metadata": {
        "colab": {
          "base_uri": "https://localhost:8080/"
        },
        "id": "FpKGddI4Dg6o",
        "outputId": "c1090e5f-e408-482f-c527-aeeded20a9b7"
      },
      "execution_count": 39,
      "outputs": [
        {
          "output_type": "stream",
          "name": "stdout",
          "text": [
            "The SOC of battery is 61.6% \n",
            "For the values of: \n",
            "Time/sec               4444.000\n",
            "Potential/V               4.070\n",
            "Current/A                 1.250\n",
            "Charge/C               5560.000\n",
            "Capacity/Ah               1.540\n",
            "Nominal_Capacity/Ah       2.500\n",
            "SOC                       0.616\n",
            "SOC(%)                   61.600\n",
            "Name: 4444, dtype: float64\n"
          ]
        }
      ]
    },
    {
      "cell_type": "markdown",
      "source": [
        "## Function for getting the SOC(state of Charge) %"
      ],
      "metadata": {
        "id": "Xz2WxkxVKvhJ"
      }
    },
    {
      "cell_type": "code",
      "source": [
        "def show_soc(row, soc_column):\n",
        "  print(f\"The SOC of battery is {df.iloc[row][soc_column]}% \\nFor the values of: \\n{df.iloc[row]}\")"
      ],
      "metadata": {
        "id": "VDiAcnFVH9FQ"
      },
      "execution_count": 34,
      "outputs": []
    },
    {
      "cell_type": "code",
      "source": [
        "show_soc(5675,7)"
      ],
      "metadata": {
        "colab": {
          "base_uri": "https://localhost:8080/"
        },
        "id": "agtsLHNLKn6h",
        "outputId": "650ffd1d-6723-43df-d88a-6bf1fbe04939"
      },
      "execution_count": 35,
      "outputs": [
        {
          "output_type": "stream",
          "name": "stdout",
          "text": [
            "The SOC of battery is 78.0% \n",
            "For the values of: \n",
            "Time/sec               5675.00\n",
            "Potential/V               4.20\n",
            "Current/A                 0.93\n",
            "Charge/C               7030.00\n",
            "Capacity/Ah               1.95\n",
            "Nominal_Capacity/Ah       2.50\n",
            "SOC                       0.78\n",
            "SOC(%)                   78.00\n",
            "Name: 5675, dtype: float64\n"
          ]
        }
      ]
    },
    {
      "cell_type": "code",
      "source": [
        "show_soc(7898,7)"
      ],
      "metadata": {
        "colab": {
          "base_uri": "https://localhost:8080/"
        },
        "id": "2UYl9-RDKqxJ",
        "outputId": "770a0a6a-42a6-45a5-d9c7-004a941d3b43"
      },
      "execution_count": 37,
      "outputs": [
        {
          "output_type": "stream",
          "name": "stdout",
          "text": [
            "The SOC of battery is 89.60000000000001% \n",
            "For the values of: \n",
            "Time/sec               7898.000\n",
            "Potential/V               4.200\n",
            "Current/A                 0.200\n",
            "Charge/C               8050.000\n",
            "Capacity/Ah               2.240\n",
            "Nominal_Capacity/Ah       2.500\n",
            "SOC                       0.896\n",
            "SOC(%)                   89.600\n",
            "Name: 7898, dtype: float64\n"
          ]
        }
      ]
    },
    {
      "cell_type": "code",
      "source": [
        "# SOC plot\n",
        "plt.plot(df[\"SOC\"], linestyle='solid')"
      ],
      "metadata": {
        "colab": {
          "base_uri": "https://localhost:8080/",
          "height": 284
        },
        "id": "seK7ipzDQurz",
        "outputId": "c0d81ee6-9b3c-4267-c8d1-5ba3e105355c"
      },
      "execution_count": 53,
      "outputs": [
        {
          "output_type": "execute_result",
          "data": {
            "text/plain": [
              "[<matplotlib.lines.Line2D at 0x7f0fb1622fd0>]"
            ]
          },
          "metadata": {},
          "execution_count": 53
        },
        {
          "output_type": "display_data",
          "data": {
            "text/plain": [
              "<Figure size 432x288 with 1 Axes>"
            ],
            "image/png": "[encoded data removed]"
          },
          "metadata": {
            "needs_background": "light"
          }
        }
      ]
    },
    {
      "cell_type": "code",
      "source": [
        "sns.lineplot(x=\"Capacity/Ah\", y=\"Potential/V\",\n",
        "             hue=\"Charge/C\",\n",
        "             data=df)"
      ],
      "metadata": {
        "colab": {
          "base_uri": "https://localhost:8080/",
          "height": 296
        },
        "id": "bqMwzzGBLegx",
        "outputId": "01cbd71f-6cf8-4622-ef20-66a60bfd11c7"
      },
      "execution_count": 44,
      "outputs": [
        {
          "output_type": "execute_result",
          "data": {
            "text/plain": [
              "<matplotlib.axes._subplots.AxesSubplot at 0x7f0fb5f35a50>"
            ]
          },
          "metadata": {},
          "execution_count": 44
        },
        {
          "output_type": "display_data",
          "data": {
            "text/plain": [
              "<Figure size 432x288 with 1 Axes>"
            ],
            "image/png": "[encoded data removed]"
          },
          "metadata": {
            "needs_background": "light"
          }
        }
      ]
    },
    {
      "cell_type": "code",
      "source": [
        "sns.lineplot(x=\"SOC\", y=\"Potential/V\",\n",
        "             hue=\"Capacity/Ah\",\n",
        "             data=df)"
      ],
      "metadata": {
        "colab": {
          "base_uri": "https://localhost:8080/",
          "height": 296
        },
        "id": "4txBxlNsMiNB",
        "outputId": "eef56033-32ae-4744-e05d-1c20c05490bd"
      },
      "execution_count": 47,
      "outputs": [
        {
          "output_type": "execute_result",
          "data": {
            "text/plain": [
              "<matplotlib.axes._subplots.AxesSubplot at 0x7f0fb1db1050>"
            ]
          },
          "metadata": {},
          "execution_count": 47
        },
        {
          "output_type": "display_data",
          "data": {
            "text/plain": [
              "<Figure size 432x288 with 1 Axes>"
            ],
            "image/png": "[encoded data removed]"
          },
          "metadata": {
            "needs_background": "light"
          }
        }
      ]
    },
    {
      "cell_type": "code",
      "source": [],
      "metadata": {
        "id": "1Dm6E1F2R5da"
      },
      "execution_count": null,
      "outputs": []
    }
  ]
}